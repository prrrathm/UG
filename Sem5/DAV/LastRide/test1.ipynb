{
 "cells": [
  {
   "cell_type": "markdown",
   "metadata": {},
   "source": [
    "Question 1\n",
    ">Given a list of names, use list comprehension to reverse those names which starts with letter ‘Z’ and ends with letter ‘a’"
   ]
  },
  {
   "cell_type": "code",
   "execution_count": 14,
   "metadata": {},
   "outputs": [
    {
     "data": {
      "text/plain": [
       "['Pratham', 'ajaRZ', 'aihsuhKZ', 'ahsakarPZ']"
      ]
     },
     "execution_count": 14,
     "metadata": {},
     "output_type": "execute_result"
    }
   ],
   "source": [
    "list1 = ['Pratham','ZRaja','ZKhushia','ZPrakasha']\n",
    "\n",
    "[x[::-1] if x[0]=='Z' and x[-1]=='a' else x for x in list1 ]"
   ]
  },
  {
   "cell_type": "markdown",
   "metadata": {},
   "source": [
    "\n",
    "Question 2\n",
    ">Create an array for marks in 5 subjects for 6 students where marks are in (0-100). Take another array having names of 6 students. Do the following: (3+3+3)\n",
    "> 1. Find name of students with average marks > 90\n",
    "> 2. Count number of students having marks more than that of the average of class\n",
    "> 3. For each student display the number of subjects in which they have scored > 60 marks and display the following:\n",
    "> 4. Name of students number of subjects where marks>60"
   ]
  },
  {
   "cell_type": "code",
   "execution_count": 23,
   "metadata": {},
   "outputs": [],
   "source": [
    "marks = [\n",
    "    [94, 92, 98, 90, 95],\n",
    "    [80, 70, 88, 50, 55],\n",
    "    [30, 60, 88, 50, 85],\n",
    "    [80, 70, 38, 50, 95],\n",
    "    [80, 70, 88, 50, 15],\n",
    "    [60, 60, 68, 40, 91]\n",
    "]\n",
    "names = ['A', 'B', 'C', 'D', 'E', 'F']"
   ]
  },
  {
   "cell_type": "code",
   "execution_count": 38,
   "metadata": {},
   "outputs": [
    {
     "data": {
      "text/plain": [
       "['A']"
      ]
     },
     "execution_count": 38,
     "metadata": {},
     "output_type": "execute_result"
    }
   ],
   "source": [
    "# 1\n",
    "[names[i] for i in range(6) if sum(marks[i][:])/5 > 90]"
   ]
  },
  {
   "cell_type": "code",
   "execution_count": 60,
   "metadata": {},
   "outputs": [
    {
     "data": {
      "text/plain": [
       "69.33333333333333"
      ]
     },
     "execution_count": 60,
     "metadata": {},
     "output_type": "execute_result"
    }
   ],
   "source": [
    "# 2\n",
    "avg = sum([sum(x[:]) for x in marks])/30\n",
    "avg"
   ]
  },
  {
   "cell_type": "code",
   "execution_count": 63,
   "metadata": {},
   "outputs": [
    {
     "ename": "SyntaxError",
     "evalue": "invalid syntax (43447485.py, line 2)",
     "output_type": "error",
     "traceback": [
      "\u001b[1;36m  Cell \u001b[1;32mIn [63], line 2\u001b[1;36m\u001b[0m\n\u001b[1;33m    [count++ for i in range(6) if sum(marks[i][:])/5 > avg ]\u001b[0m\n\u001b[1;37m             ^\u001b[0m\n\u001b[1;31mSyntaxError\u001b[0m\u001b[1;31m:\u001b[0m invalid syntax\n"
     ]
    }
   ],
   "source": [
    "count=0\n",
    "[count++ for i in range(6) if sum(marks[i][:])/5 > avg ]\n",
    "[sum(marks[i][:])/5 for i in range(6)]"
   ]
  },
  {
   "cell_type": "code",
   "execution_count": null,
   "metadata": {},
   "outputs": [],
   "source": []
  },
  {
   "cell_type": "code",
   "execution_count": 7,
   "metadata": {},
   "outputs": [
    {
     "data": {
      "text/plain": [
       "'e'"
      ]
     },
     "execution_count": 7,
     "metadata": {},
     "output_type": "execute_result"
    }
   ],
   "source": [
    "t = 'Hello'\n",
    "t[1]"
   ]
  }
 ],
 "metadata": {
  "kernelspec": {
   "display_name": "Python 3.10.5 64-bit",
   "language": "python",
   "name": "python3"
  },
  "language_info": {
   "codemirror_mode": {
    "name": "ipython",
    "version": 3
   },
   "file_extension": ".py",
   "mimetype": "text/x-python",
   "name": "python",
   "nbconvert_exporter": "python",
   "pygments_lexer": "ipython3",
   "version": "3.10.5"
  },
  "orig_nbformat": 4,
  "vscode": {
   "interpreter": {
    "hash": "26de051ba29f2982a8de78e945f0abaf191376122a1563185a90213a26c5da77"
   }
  }
 },
 "nbformat": 4,
 "nbformat_minor": 2
}
