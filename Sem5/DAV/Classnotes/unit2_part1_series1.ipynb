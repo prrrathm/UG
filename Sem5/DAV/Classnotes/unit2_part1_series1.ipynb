{
  "cells": [
    {
      "cell_type": "code",
      "execution_count": 1,
      "metadata": {
        "id": "h-5iKdzqvjTo"
      },
      "outputs": [],
      "source": [
        "import pandas as pd"
      ]
    },
    {
      "cell_type": "markdown",
      "metadata": {},
      "source": [
        "## Difference within NUMPY and PANDAS library\n",
        "Pandas is designed for working with tabular or heterogeneous data while NumPy is best suited for working with homogeneous numerical array data."
      ]
    },
    {
      "cell_type": "markdown",
      "metadata": {},
      "source": [
        "## Two ways to import libraries\n",
        "1. import Series and DataFrame into the local namespace  \n",
        "    from pandas import Series, DataFrame\n",
        "2. General convention using          import pandas as pd"
      ]
    },
    {
      "cell_type": "markdown",
      "metadata": {},
      "source": [
        "## Two data structures in Pandas\n",
        "1. Data Series\n",
        "2. Data Frame\n",
        "\n",
        "A Series is a one-dimensional array-like object containing a sequence of values (of similar types to NumPy types)\n",
        "But, index is represented as  an associated array of data labels, instead of index values 0...n-1 in array of numpy\n"
      ]
    },
    {
      "cell_type": "markdown",
      "metadata": {
        "id": "WFQPK9V7X4Vq"
      },
      "source": [
        "#Example of series with default indexes 0..n-1"
      ]
    },
    {
      "cell_type": "code",
      "execution_count": 2,
      "metadata": {
        "colab": {
          "base_uri": "https://localhost:8080/"
        },
        "id": "atmrjIIlXxzs",
        "outputId": "16a8d310-bba9-452a-a358-61d5a6ec5ea0"
      },
      "outputs": [
        {
          "name": "stdout",
          "output_type": "stream",
          "text": [
            "0    4\n",
            "1    7\n",
            "2   -5\n",
            "3    3\n",
            "dtype: int64\n"
          ]
        }
      ],
      "source": [
        "x= pd.Series([4, 7, -5, 3])\n",
        "print(x)"
      ]
    },
    {
      "cell_type": "code",
      "execution_count": 4,
      "metadata": {
        "colab": {
          "base_uri": "https://localhost:8080/"
        },
        "id": "f5g4X0-QX-vL",
        "outputId": "8291f2cc-c4f3-47f7-ea28-95914078ebc0"
      },
      "outputs": [
        {
          "name": "stdout",
          "output_type": "stream",
          "text": [
            "[ 4  7 -5  3]\n",
            "RangeIndex(start=0, stop=4, step=1)\n"
          ]
        }
      ],
      "source": [
        "print(x.values)\n",
        "print(x.index)"
      ]
    },
    {
      "cell_type": "markdown",
      "metadata": {
        "id": "rSnZ22zVY0vJ"
      },
      "source": [
        "## setting user-defined indexes as done in dictioanry for keys"
      ]
    },
    {
      "cell_type": "code",
      "execution_count": 6,
      "metadata": {
        "colab": {
          "base_uri": "https://localhost:8080/"
        },
        "id": "BCc_q71DYgQN",
        "outputId": "df68066d-473e-4c53-a9e3-9c286d05eaca"
      },
      "outputs": [
        {
          "name": "stdout",
          "output_type": "stream",
          "text": [
            "d    41\n",
            "a    71\n",
            "b    -5\n",
            "c     3\n",
            "c    38\n",
            "dtype: int64 \n",
            " [41 71 -5  3 38] \n",
            " Index(['d', 'a', 'b', 'c', 'c'], dtype='object')\n"
          ]
        }
      ],
      "source": [
        "a= pd.Series([41, 71, -5, 3,38], index=['d', 'a', 'b', 'c','c'])\n",
        "print(a,\"\\n\",a.values,\"\\n\",a.index)\n"
      ]
    },
    {
      "cell_type": "code",
      "execution_count": 7,
      "metadata": {},
      "outputs": [],
      "source": [
        "a.name"
      ]
    },
    {
      "cell_type": "code",
      "execution_count": 9,
      "metadata": {},
      "outputs": [
        {
          "name": "stdout",
          "output_type": "stream",
          "text": [
            "nameofstudents\n",
            "d    41\n",
            "a    71\n",
            "b    -5\n",
            "c     3\n",
            "c    38\n",
            "Name: Deduction, dtype: int64\n"
          ]
        }
      ],
      "source": [
        "a.name='Deduction'\n",
        "a.index.name='nameofstudents'\n",
        "print(a)"
      ]
    },
    {
      "cell_type": "markdown",
      "metadata": {
        "id": "wpyGRsPQY_Kd"
      },
      "source": [
        "## setting user-defined indexes with duplicate values"
      ]
    },
    {
      "cell_type": "code",
      "execution_count": 10,
      "metadata": {
        "colab": {
          "base_uri": "https://localhost:8080/"
        },
        "id": "ovBTRy_wZGX4",
        "outputId": "a36a5c7b-762b-477f-b857-62c74ee5323d"
      },
      "outputs": [
        {
          "name": "stdout",
          "output_type": "stream",
          "text": [
            "d    41\n",
            "a    71\n",
            "a    -5\n",
            "c     3\n",
            "e    38\n",
            "dtype: int64\n"
          ]
        }
      ],
      "source": [
        "a = pd.Series([41, 71, -5, 3,38], index=['d', 'a', 'a', 'c','e'])\n",
        "print(a)"
      ]
    },
    {
      "cell_type": "markdown",
      "metadata": {
        "id": "opiXYJQYZPDZ"
      },
      "source": [
        "## using index labels to get values in series"
      ]
    },
    {
      "cell_type": "code",
      "execution_count": 11,
      "metadata": {
        "colab": {
          "base_uri": "https://localhost:8080/"
        },
        "id": "v5RNF_3EZGOh",
        "outputId": "3cc268d6-4bb7-4957-cd7d-4c121382f000"
      },
      "outputs": [
        {
          "name": "stdout",
          "output_type": "stream",
          "text": [
            "a    71\n",
            "a    -5\n",
            "dtype: int64 \n",
            " 41\n"
          ]
        }
      ],
      "source": [
        "print(a['a'],\"\\n\",a['d'])"
      ]
    },
    {
      "cell_type": "code",
      "execution_count": 13,
      "metadata": {},
      "outputs": [
        {
          "name": "stdout",
          "output_type": "stream",
          "text": [
            "<class 'pandas.core.series.Series'>\n"
          ]
        }
      ],
      "source": [
        "print(type(a['a']))"
      ]
    },
    {
      "cell_type": "markdown",
      "metadata": {
        "id": "sjy-BaFTZkqR"
      },
      "source": [
        "## using list of index (fancy index) labels to retrieve  values"
      ]
    },
    {
      "cell_type": "code",
      "execution_count": 16,
      "metadata": {
        "colab": {
          "base_uri": "https://localhost:8080/"
        },
        "id": "x4FcHDyTZTsO",
        "outputId": "59b1be22-09ce-4ba1-8915-0ab8d2e02ed3"
      },
      "outputs": [
        {
          "name": "stdout",
          "output_type": "stream",
          "text": [
            "c     3\n",
            "d    41\n",
            "dtype: int64 \n",
            " a    71\n",
            "a    -5\n",
            "dtype: int64\n"
          ]
        }
      ],
      "source": [
        "print(a[['c','d']],\"\\n\",a['a'])"
      ]
    },
    {
      "cell_type": "markdown",
      "metadata": {
        "id": "3hMi1u9ZaHqe"
      },
      "source": [
        "## perform numpy like operations on the series values"
      ]
    },
    {
      "cell_type": "code",
      "execution_count": 17,
      "metadata": {
        "colab": {
          "base_uri": "https://localhost:8080/"
        },
        "id": "b0lWrHbAwXdm",
        "outputId": "fdca3cfd-eca7-435d-c9e9-ed82a0bcb4f7"
      },
      "outputs": [
        {
          "data": {
            "text/plain": [
              "d    41\n",
              "a    71\n",
              "a    -5\n",
              "c     3\n",
              "e    38\n",
              "dtype: int64"
            ]
          },
          "execution_count": 17,
          "metadata": {},
          "output_type": "execute_result"
        }
      ],
      "source": [
        "a"
      ]
    },
    {
      "cell_type": "code",
      "execution_count": 18,
      "metadata": {
        "colab": {
          "base_uri": "https://localhost:8080/"
        },
        "id": "lla_2l8SaJWQ",
        "outputId": "5d9ba946-9946-41d6-ff5b-9ccbd0f1918e"
      },
      "outputs": [
        {
          "name": "stdout",
          "output_type": "stream",
          "text": [
            "d     82\n",
            "a    142\n",
            "a    -10\n",
            "c      6\n",
            "e     76\n",
            "dtype: int64 \n",
            " <class 'pandas.core.series.Series'>\n",
            "d    41\n",
            "a    71\n",
            "c     3\n",
            "e    38\n",
            "dtype: int64 <class 'pandas.core.series.Series'>\n"
          ]
        }
      ],
      "source": [
        "l=a*2\n",
        "print(l,\"\\n\",type(l))\n",
        "l1=a[a>0]\n",
        "print(l1,type(l1))\n"
      ]
    },
    {
      "cell_type": "code",
      "execution_count": 19,
      "metadata": {
        "colab": {
          "base_uri": "https://localhost:8080/",
          "height": 118
        },
        "id": "D-GhRnda2cf2",
        "outputId": "a7c6786c-8706-4c5e-c3b4-acfc22981a21"
      },
      "outputs": [
        {
          "name": "stdout",
          "output_type": "stream",
          "text": [
            "d     True\n",
            "a     True\n",
            "a    False\n",
            "c     True\n",
            "e     True\n",
            "dtype: bool\n"
          ]
        }
      ],
      "source": [
        "print(a>0)"
      ]
    },
    {
      "cell_type": "markdown",
      "metadata": {
        "id": "DSS6bSeWu_mP"
      },
      "source": [
        "## in: membership operator"
      ]
    },
    {
      "cell_type": "code",
      "execution_count": 19,
      "metadata": {
        "colab": {
          "base_uri": "https://localhost:8080/"
        },
        "id": "aArW1MZfat0u",
        "outputId": "8242f68a-8560-4b52-fe17-8286329a0438"
      },
      "outputs": [
        {
          "name": "stdout",
          "output_type": "stream",
          "text": [
            "d    41\n",
            "a    71\n",
            "a    -5\n",
            "c     3\n",
            "e    38\n",
            "dtype: int64 \n",
            " [41 71 -5  3 38] \n",
            " Index(['d', 'a', 'a', 'c', 'e'], dtype='object')\n",
            "False\n",
            "True\n"
          ]
        }
      ],
      "source": [
        "print(a,\"\\n\",a.values,\"\\n\",a.index)\n",
        "x='f' in a\n",
        "print(x)\n",
        "x='e' in a\n",
        "print(x)\n"
      ]
    },
    {
      "cell_type": "code",
      "execution_count": 20,
      "metadata": {
        "colab": {
          "base_uri": "https://localhost:8080/"
        },
        "id": "aQNaKykHxgMB",
        "outputId": "250dc0f8-6f69-4121-8f06-760828c2ccc7"
      },
      "outputs": [
        {
          "data": {
            "text/plain": [
              "False"
            ]
          },
          "execution_count": 20,
          "metadata": {},
          "output_type": "execute_result"
        }
      ],
      "source": [
        "10 in a.values"
      ]
    },
    {
      "cell_type": "markdown",
      "metadata": {},
      "source": [
        "## Constructing series from a data dictionary"
      ]
    },
    {
      "cell_type": "code",
      "execution_count": 21,
      "metadata": {
        "colab": {
          "base_uri": "https://localhost:8080/"
        },
        "id": "yki6qCaJbCGd",
        "outputId": "5c4ae7b3-ec1d-4b78-e140-24d453b149ac"
      },
      "outputs": [
        {
          "name": "stdout",
          "output_type": "stream",
          "text": [
            "Noida      5000\n",
            "Delhi     35000\n",
            "madras    71000\n",
            "Mumbai    16000\n",
            "dtype: int64\n"
          ]
        }
      ],
      "source": [
        "city = {'Noida': 5000,'Delhi': 35000, 'madras': 71000, 'Mumbai': 16000}\n",
        "cityseries = pd.Series(city)\n",
        "print(cityseries)\n"
      ]
    },
    {
      "cell_type": "markdown",
      "metadata": {
        "id": "COZQvvoQvHag"
      },
      "source": [
        "#creating data series thru dictionary"
      ]
    },
    {
      "cell_type": "code",
      "execution_count": 22,
      "metadata": {
        "colab": {
          "base_uri": "https://localhost:8080/"
        },
        "id": "BrCiGSJicKCX",
        "outputId": "c774c7f0-0ca5-43b3-a6da-dff770e87eed"
      },
      "outputs": [
        {
          "data": {
            "text/plain": [
              "A    [50, 70]\n",
              "B          10\n",
              "C          80\n",
              "dtype: object"
            ]
          },
          "execution_count": 22,
          "metadata": {},
          "output_type": "execute_result"
        }
      ],
      "source": [
        "dictionary = {'A' : [50,70], 'B' : 10, 'C' : 80} \n",
        "series = pd.Series(dictionary) \n",
        "series\n"
      ]
    },
    {
      "cell_type": "markdown",
      "metadata": {
        "id": "qEj9iS2cvMZD"
      },
      "source": [
        "## reseting row index order"
      ]
    },
    {
      "cell_type": "code",
      "execution_count": 24,
      "metadata": {
        "colab": {
          "base_uri": "https://localhost:8080/"
        },
        "id": "q9j6SwV2d32y",
        "outputId": "35808755-0178-4c4b-e9ed-137b60276981"
      },
      "outputs": [
        {
          "name": "stdout",
          "output_type": "stream",
          "text": [
            "A    50\n",
            "B    10\n",
            "C    80\n",
            "dtype: int64\n",
            "B    10\n",
            "C    80\n",
            "A    50\n",
            "dtype: int64\n"
          ]
        }
      ],
      "source": [
        "dictionary = {'A' : 50, 'B' : 10, 'C' : 80} \n",
        "series1 = pd.Series(dictionary) \n",
        "print(series1)\n",
        "# create a series \n",
        "series = pd.Series(dictionary, index =['B', 'C', 'A']) \n",
        "print(series)"
      ]
    },
    {
      "cell_type": "code",
      "execution_count": 25,
      "metadata": {
        "colab": {
          "base_uri": "https://localhost:8080/"
        },
        "id": "qp4AN2vsqdU8",
        "outputId": "3d9a2698-62cd-4478-d4d8-eaa28123150d"
      },
      "outputs": [
        {
          "data": {
            "text/plain": [
              "Noida      5000\n",
              "Delhi     35000\n",
              "madras    71000\n",
              "Mumbai    16000\n",
              "dtype: int64"
            ]
          },
          "execution_count": 25,
          "metadata": {},
          "output_type": "execute_result"
        }
      ],
      "source": [
        "cityseries"
      ]
    },
    {
      "cell_type": "code",
      "execution_count": 26,
      "metadata": {
        "colab": {
          "base_uri": "https://localhost:8080/"
        },
        "id": "dVUCm0c9qmNl",
        "outputId": "4e409931-1fc5-418a-e46b-4eb4e6cc8978"
      },
      "outputs": [
        {
          "data": {
            "text/plain": [
              "{'Noida': 5000, 'Delhi': 35000, 'madras': 71000, 'Mumbai': 16000}"
            ]
          },
          "execution_count": 26,
          "metadata": {},
          "output_type": "execute_result"
        }
      ],
      "source": [
        "city"
      ]
    },
    {
      "cell_type": "markdown",
      "metadata": {
        "id": "yAmqs8IJvSpC"
      },
      "source": [
        "## creating series using dictionary and passing new indexes, for undefined index value NAN is used"
      ]
    },
    {
      "cell_type": "code",
      "execution_count": 27,
      "metadata": {
        "colab": {
          "base_uri": "https://localhost:8080/"
        },
        "id": "hfiLgszOeytP",
        "outputId": "f19d59a7-94cc-479e-f641-57c514d16f05"
      },
      "outputs": [
        {
          "name": "stdout",
          "output_type": "stream",
          "text": [
            "['Delhi', 'chd', 'madras', 'mumbai']\n",
            "Noida      5000\n",
            "Delhi     35000\n",
            "madras    71000\n",
            "Mumbai    16000\n",
            "dtype: int64\n",
            "Delhi     35000.0\n",
            "chd           NaN\n",
            "madras    71000.0\n",
            "mumbai        NaN\n",
            "dtype: float64\n"
          ]
        }
      ],
      "source": [
        "newcity=['Delhi','chd','madras','mumbai']\n",
        "print(newcity)\n",
        "print(cityseries)\n",
        "countryseries=pd.Series(city, newcity)\n",
        "print(countryseries)"
      ]
    },
    {
      "cell_type": "code",
      "execution_count": 28,
      "metadata": {
        "colab": {
          "base_uri": "https://localhost:8080/",
          "height": 101
        },
        "id": "q3z3Nzfefb0k",
        "outputId": "447f4eda-a00a-44b9-837c-433fbc1f4b2b"
      },
      "outputs": [
        {
          "name": "stdout",
          "output_type": "stream",
          "text": [
            "Delhi     False\n",
            "chd        True\n",
            "madras    False\n",
            "mumbai     True\n",
            "dtype: bool\n"
          ]
        }
      ],
      "source": [
        "x=pd.isnull(countryseries)\n",
        "print(x)\n"
      ]
    },
    {
      "cell_type": "markdown",
      "metadata": {
        "id": "NxmUiT2WgCLn"
      },
      "source": [
        "## automatically aligns by index label in arithmetic operations:\n"
      ]
    },
    {
      "cell_type": "code",
      "execution_count": 29,
      "metadata": {
        "colab": {
          "base_uri": "https://localhost:8080/"
        },
        "id": "Go8jHEAkrFDr",
        "outputId": "8b67a3ce-62da-4cd6-ca6c-9a9f2e6cc809"
      },
      "outputs": [
        {
          "data": {
            "text/plain": [
              "Noida      5000\n",
              "Delhi     35000\n",
              "madras    71000\n",
              "Mumbai    16000\n",
              "dtype: int64"
            ]
          },
          "execution_count": 29,
          "metadata": {},
          "output_type": "execute_result"
        }
      ],
      "source": [
        "cityseries"
      ]
    },
    {
      "cell_type": "code",
      "execution_count": 30,
      "metadata": {
        "colab": {
          "base_uri": "https://localhost:8080/"
        },
        "id": "sbfS6R-9rHIz",
        "outputId": "23f7f1d2-5c23-4383-f750-2e59ab17b769"
      },
      "outputs": [
        {
          "data": {
            "text/plain": [
              "Delhi     35000.0\n",
              "chd           NaN\n",
              "madras    71000.0\n",
              "mumbai        NaN\n",
              "dtype: float64"
            ]
          },
          "execution_count": 30,
          "metadata": {},
          "output_type": "execute_result"
        }
      ],
      "source": [
        "countryseries"
      ]
    },
    {
      "cell_type": "markdown",
      "metadata": {
        "id": "cNceYY63vfi8"
      },
      "source": [
        "## mismatch index values in data series are given NULL values while performing arithmetic operation"
      ]
    },
    {
      "cell_type": "code",
      "execution_count": 31,
      "metadata": {
        "colab": {
          "base_uri": "https://localhost:8080/",
          "height": 134
        },
        "id": "bUyMBLKwgB6V",
        "outputId": "d8b4a080-5bd3-40fe-903f-41672fef12eb"
      },
      "outputs": [
        {
          "name": "stdout",
          "output_type": "stream",
          "text": [
            "Delhi      70000.0\n",
            "Mumbai         NaN\n",
            "Noida          NaN\n",
            "chd            NaN\n",
            "madras    142000.0\n",
            "mumbai         NaN\n",
            "dtype: float64\n"
          ]
        }
      ],
      "source": [
        "print(cityseries+countryseries)"
      ]
    },
    {
      "cell_type": "markdown",
      "metadata": {},
      "source": [
        "## converting data types of values/elements"
      ]
    },
    {
      "cell_type": "code",
      "execution_count": 32,
      "metadata": {
        "colab": {
          "base_uri": "https://localhost:8080/"
        },
        "id": "Kc_q406Ys5pp",
        "outputId": "c6c23217-fa56-4b54-f309-a5716dc19473"
      },
      "outputs": [
        {
          "name": "stdout",
          "output_type": "stream",
          "text": [
            "0    12\n",
            "1    13\n",
            "2    14\n",
            "3    11\n",
            "dtype: object\n"
          ]
        }
      ],
      "source": [
        "b=pd.Series([12,13,14,'11'])\n",
        "print(b)"
      ]
    },
    {
      "cell_type": "code",
      "execution_count": 33,
      "metadata": {
        "id": "7QIEPAZU6iMH"
      },
      "outputs": [
        {
          "name": "stdout",
          "output_type": "stream",
          "text": [
            "0    12\n",
            "1    13\n",
            "2    14\n",
            "3    11\n",
            "dtype: object \n",
            " 0    12.0\n",
            "1    13.0\n",
            "2    14.0\n",
            "3    12.5\n",
            "4    13.5\n",
            "dtype: float64 \n",
            " 0    12\n",
            "1    13\n",
            "2    14\n",
            "3    11\n",
            "dtype: int32\n",
            "0    24.0\n",
            "1    26.0\n",
            "2    28.0\n",
            "3    23.5\n",
            "4     NaN\n",
            "dtype: float64\n"
          ]
        }
      ],
      "source": [
        "\n",
        "d=b.astype(int)\n",
        "c=pd.Series([12,13,14.0,12.5,13.5])\n",
        "print(b,\"\\n\",c,\"\\n\",d)\n",
        "print(c+d)\n"
      ]
    },
    {
      "cell_type": "code",
      "execution_count": 34,
      "metadata": {
        "id": "7NcNapncv_Zo"
      },
      "outputs": [],
      "source": [
        "import numpy as np\n"
      ]
    },
    {
      "cell_type": "markdown",
      "metadata": {
        "id": "vMuBYu2OwHIz"
      },
      "source": [
        "## creating a series with same element value"
      ]
    },
    {
      "cell_type": "code",
      "execution_count": 35,
      "metadata": {
        "id": "YZ6kynWAvy-p"
      },
      "outputs": [],
      "source": [
        "ex1 = pd.Series(6, index=np.arange(0,4))"
      ]
    },
    {
      "cell_type": "code",
      "execution_count": 36,
      "metadata": {
        "colab": {
          "base_uri": "https://localhost:8080/"
        },
        "id": "PMZDFUC5wEPr",
        "outputId": "d4ec67e6-7cab-42e5-c541-5eba836e582e"
      },
      "outputs": [
        {
          "data": {
            "text/plain": [
              "0    6\n",
              "1    6\n",
              "2    6\n",
              "3    6\n",
              "dtype: int64"
            ]
          },
          "execution_count": 36,
          "metadata": {},
          "output_type": "execute_result"
        }
      ],
      "source": [
        "ex1"
      ]
    },
    {
      "cell_type": "code",
      "execution_count": 37,
      "metadata": {
        "colab": {
          "base_uri": "https://localhost:8080/"
        },
        "id": "HDUl5jFwmaZ2",
        "outputId": "431b5422-cbe1-437a-dcd5-129502cc998e"
      },
      "outputs": [
        {
          "data": {
            "text/plain": [
              "1    6\n",
              "2    6\n",
              "dtype: int64"
            ]
          },
          "execution_count": 37,
          "metadata": {},
          "output_type": "execute_result"
        }
      ],
      "source": [
        "ex1[1:3]"
      ]
    },
    {
      "cell_type": "markdown",
      "metadata": {
        "id": "vQEe9p9jml6m"
      },
      "source": [
        "## Cannot use -1 as index in case default indices are used.\n",
        "using -1 as index position with integer indexing will result in error. But not with labelled indexes"
      ]
    },
    {
      "cell_type": "code",
      "execution_count": 38,
      "metadata": {
        "id": "SGhXYRplmcWt"
      },
      "outputs": [
        {
          "ename": "KeyError",
          "evalue": "-1",
          "output_type": "error",
          "traceback": [
            "\u001b[1;31m---------------------------------------------------------------------------\u001b[0m",
            "\u001b[1;31mKeyError\u001b[0m                                  Traceback (most recent call last)",
            "\u001b[1;32mc:\\Users\\Sharanjit Kaur\\AppData\\Local\\Programs\\Python\\Python39\\lib\\site-packages\\pandas\\core\\indexes\\base.py\u001b[0m in \u001b[0;36mget_loc\u001b[1;34m(self, key, method, tolerance)\u001b[0m\n\u001b[0;32m   3079\u001b[0m             \u001b[1;32mtry\u001b[0m\u001b[1;33m:\u001b[0m\u001b[1;33m\u001b[0m\u001b[1;33m\u001b[0m\u001b[0m\n\u001b[1;32m-> 3080\u001b[1;33m                 \u001b[1;32mreturn\u001b[0m \u001b[0mself\u001b[0m\u001b[1;33m.\u001b[0m\u001b[0m_engine\u001b[0m\u001b[1;33m.\u001b[0m\u001b[0mget_loc\u001b[0m\u001b[1;33m(\u001b[0m\u001b[0mcasted_key\u001b[0m\u001b[1;33m)\u001b[0m\u001b[1;33m\u001b[0m\u001b[1;33m\u001b[0m\u001b[0m\n\u001b[0m\u001b[0;32m   3081\u001b[0m             \u001b[1;32mexcept\u001b[0m \u001b[0mKeyError\u001b[0m \u001b[1;32mas\u001b[0m \u001b[0merr\u001b[0m\u001b[1;33m:\u001b[0m\u001b[1;33m\u001b[0m\u001b[1;33m\u001b[0m\u001b[0m\n",
            "\u001b[1;32mpandas\\_libs\\index.pyx\u001b[0m in \u001b[0;36mpandas._libs.index.IndexEngine.get_loc\u001b[1;34m()\u001b[0m\n",
            "\u001b[1;32mpandas\\_libs\\index.pyx\u001b[0m in \u001b[0;36mpandas._libs.index.IndexEngine.get_loc\u001b[1;34m()\u001b[0m\n",
            "\u001b[1;32mpandas\\_libs\\hashtable_class_helper.pxi\u001b[0m in \u001b[0;36mpandas._libs.hashtable.Int64HashTable.get_item\u001b[1;34m()\u001b[0m\n",
            "\u001b[1;32mpandas\\_libs\\hashtable_class_helper.pxi\u001b[0m in \u001b[0;36mpandas._libs.hashtable.Int64HashTable.get_item\u001b[1;34m()\u001b[0m\n",
            "\u001b[1;31mKeyError\u001b[0m: -1",
            "\nThe above exception was the direct cause of the following exception:\n",
            "\u001b[1;31mKeyError\u001b[0m                                  Traceback (most recent call last)",
            "\u001b[1;32mC:\\Users\\SHARAN~1\\AppData\\Local\\Temp/ipykernel_42112/1879043572.py\u001b[0m in \u001b[0;36m<module>\u001b[1;34m\u001b[0m\n\u001b[1;32m----> 1\u001b[1;33m \u001b[0mex1\u001b[0m\u001b[1;33m[\u001b[0m\u001b[1;33m-\u001b[0m\u001b[1;36m1\u001b[0m\u001b[1;33m]\u001b[0m\u001b[1;33m\u001b[0m\u001b[1;33m\u001b[0m\u001b[0m\n\u001b[0m",
            "\u001b[1;32mc:\\Users\\Sharanjit Kaur\\AppData\\Local\\Programs\\Python\\Python39\\lib\\site-packages\\pandas\\core\\series.py\u001b[0m in \u001b[0;36m__getitem__\u001b[1;34m(self, key)\u001b[0m\n\u001b[0;32m    851\u001b[0m \u001b[1;33m\u001b[0m\u001b[0m\n\u001b[0;32m    852\u001b[0m         \u001b[1;32melif\u001b[0m \u001b[0mkey_is_scalar\u001b[0m\u001b[1;33m:\u001b[0m\u001b[1;33m\u001b[0m\u001b[1;33m\u001b[0m\u001b[0m\n\u001b[1;32m--> 853\u001b[1;33m             \u001b[1;32mreturn\u001b[0m \u001b[0mself\u001b[0m\u001b[1;33m.\u001b[0m\u001b[0m_get_value\u001b[0m\u001b[1;33m(\u001b[0m\u001b[0mkey\u001b[0m\u001b[1;33m)\u001b[0m\u001b[1;33m\u001b[0m\u001b[1;33m\u001b[0m\u001b[0m\n\u001b[0m\u001b[0;32m    854\u001b[0m \u001b[1;33m\u001b[0m\u001b[0m\n\u001b[0;32m    855\u001b[0m         \u001b[1;32mif\u001b[0m \u001b[0mis_hashable\u001b[0m\u001b[1;33m(\u001b[0m\u001b[0mkey\u001b[0m\u001b[1;33m)\u001b[0m\u001b[1;33m:\u001b[0m\u001b[1;33m\u001b[0m\u001b[1;33m\u001b[0m\u001b[0m\n",
            "\u001b[1;32mc:\\Users\\Sharanjit Kaur\\AppData\\Local\\Programs\\Python\\Python39\\lib\\site-packages\\pandas\\core\\series.py\u001b[0m in \u001b[0;36m_get_value\u001b[1;34m(self, label, takeable)\u001b[0m\n\u001b[0;32m    959\u001b[0m \u001b[1;33m\u001b[0m\u001b[0m\n\u001b[0;32m    960\u001b[0m         \u001b[1;31m# Similar to Index.get_value, but we do not fall back to positional\u001b[0m\u001b[1;33m\u001b[0m\u001b[1;33m\u001b[0m\u001b[1;33m\u001b[0m\u001b[0m\n\u001b[1;32m--> 961\u001b[1;33m         \u001b[0mloc\u001b[0m \u001b[1;33m=\u001b[0m \u001b[0mself\u001b[0m\u001b[1;33m.\u001b[0m\u001b[0mindex\u001b[0m\u001b[1;33m.\u001b[0m\u001b[0mget_loc\u001b[0m\u001b[1;33m(\u001b[0m\u001b[0mlabel\u001b[0m\u001b[1;33m)\u001b[0m\u001b[1;33m\u001b[0m\u001b[1;33m\u001b[0m\u001b[0m\n\u001b[0m\u001b[0;32m    962\u001b[0m         \u001b[1;32mreturn\u001b[0m \u001b[0mself\u001b[0m\u001b[1;33m.\u001b[0m\u001b[0mindex\u001b[0m\u001b[1;33m.\u001b[0m\u001b[0m_get_values_for_loc\u001b[0m\u001b[1;33m(\u001b[0m\u001b[0mself\u001b[0m\u001b[1;33m,\u001b[0m \u001b[0mloc\u001b[0m\u001b[1;33m,\u001b[0m \u001b[0mlabel\u001b[0m\u001b[1;33m)\u001b[0m\u001b[1;33m\u001b[0m\u001b[1;33m\u001b[0m\u001b[0m\n\u001b[0;32m    963\u001b[0m \u001b[1;33m\u001b[0m\u001b[0m\n",
            "\u001b[1;32mc:\\Users\\Sharanjit Kaur\\AppData\\Local\\Programs\\Python\\Python39\\lib\\site-packages\\pandas\\core\\indexes\\base.py\u001b[0m in \u001b[0;36mget_loc\u001b[1;34m(self, key, method, tolerance)\u001b[0m\n\u001b[0;32m   3080\u001b[0m                 \u001b[1;32mreturn\u001b[0m \u001b[0mself\u001b[0m\u001b[1;33m.\u001b[0m\u001b[0m_engine\u001b[0m\u001b[1;33m.\u001b[0m\u001b[0mget_loc\u001b[0m\u001b[1;33m(\u001b[0m\u001b[0mcasted_key\u001b[0m\u001b[1;33m)\u001b[0m\u001b[1;33m\u001b[0m\u001b[1;33m\u001b[0m\u001b[0m\n\u001b[0;32m   3081\u001b[0m             \u001b[1;32mexcept\u001b[0m \u001b[0mKeyError\u001b[0m \u001b[1;32mas\u001b[0m \u001b[0merr\u001b[0m\u001b[1;33m:\u001b[0m\u001b[1;33m\u001b[0m\u001b[1;33m\u001b[0m\u001b[0m\n\u001b[1;32m-> 3082\u001b[1;33m                 \u001b[1;32mraise\u001b[0m \u001b[0mKeyError\u001b[0m\u001b[1;33m(\u001b[0m\u001b[0mkey\u001b[0m\u001b[1;33m)\u001b[0m \u001b[1;32mfrom\u001b[0m \u001b[0merr\u001b[0m\u001b[1;33m\u001b[0m\u001b[1;33m\u001b[0m\u001b[0m\n\u001b[0m\u001b[0;32m   3083\u001b[0m \u001b[1;33m\u001b[0m\u001b[0m\n\u001b[0;32m   3084\u001b[0m         \u001b[1;32mif\u001b[0m \u001b[0mtolerance\u001b[0m \u001b[1;32mis\u001b[0m \u001b[1;32mnot\u001b[0m \u001b[1;32mNone\u001b[0m\u001b[1;33m:\u001b[0m\u001b[1;33m\u001b[0m\u001b[1;33m\u001b[0m\u001b[0m\n",
            "\u001b[1;31mKeyError\u001b[0m: -1"
          ]
        }
      ],
      "source": [
        "ex1[-1]"
      ]
    },
    {
      "cell_type": "code",
      "execution_count": 39,
      "metadata": {
        "id": "DCSkPSEOwRtF"
      },
      "outputs": [],
      "source": [
        "ex1.index=['A','C','B','D']\n",
        "ex1.name='Marks'\n",
        "ex1.index.name='SName'"
      ]
    },
    {
      "cell_type": "code",
      "execution_count": 40,
      "metadata": {
        "colab": {
          "base_uri": "https://localhost:8080/"
        },
        "id": "F071ZAeLwnel",
        "outputId": "ec04b412-458a-4f84-b1d9-a0a02a252da3"
      },
      "outputs": [
        {
          "data": {
            "text/plain": [
              "SName\n",
              "A    6\n",
              "C    6\n",
              "B    6\n",
              "D    6\n",
              "Name: Marks, dtype: int64"
            ]
          },
          "execution_count": 40,
          "metadata": {},
          "output_type": "execute_result"
        }
      ],
      "source": [
        "ex1"
      ]
    },
    {
      "cell_type": "markdown",
      "metadata": {
        "id": "7qxk1OyxgyT4"
      },
      "source": [
        "## display number of elements in a data series ex1"
      ]
    },
    {
      "cell_type": "code",
      "execution_count": 51,
      "metadata": {
        "colab": {
          "base_uri": "https://localhost:8080/"
        },
        "id": "bJ9xdrOQg4vf",
        "outputId": "3a065894-1f21-48ff-cabd-5f04ee516d6f"
      },
      "outputs": [
        {
          "data": {
            "text/plain": [
              "4"
            ]
          },
          "execution_count": 51,
          "metadata": {},
          "output_type": "execute_result"
        }
      ],
      "source": [
        "ex1.values.size"
      ]
    },
    {
      "cell_type": "code",
      "execution_count": 41,
      "metadata": {
        "colab": {
          "base_uri": "https://localhost:8080/"
        },
        "id": "Pf1augnqg5p8",
        "outputId": "2eb54a20-6e7e-4a83-f07a-cd963f943c23"
      },
      "outputs": [
        {
          "data": {
            "text/plain": [
              "4"
            ]
          },
          "execution_count": 41,
          "metadata": {},
          "output_type": "execute_result"
        }
      ],
      "source": [
        "len(ex1.values)"
      ]
    },
    {
      "cell_type": "code",
      "execution_count": 42,
      "metadata": {
        "colab": {
          "base_uri": "https://localhost:8080/"
        },
        "id": "sWc95iAuzTVl",
        "outputId": "d900e5eb-f17d-4ecd-e2ae-5342a376356c"
      },
      "outputs": [
        {
          "data": {
            "text/plain": [
              "4"
            ]
          },
          "execution_count": 42,
          "metadata": {},
          "output_type": "execute_result"
        }
      ],
      "source": [
        "ex1.size"
      ]
    },
    {
      "cell_type": "code",
      "execution_count": 43,
      "metadata": {
        "colab": {
          "base_uri": "https://localhost:8080/"
        },
        "id": "aXdGTm5IzWbR",
        "outputId": "768cb0a5-06a2-4628-cf75-117408c1f271"
      },
      "outputs": [
        {
          "data": {
            "text/plain": [
              "4"
            ]
          },
          "execution_count": 43,
          "metadata": {},
          "output_type": "execute_result"
        }
      ],
      "source": [
        "len(ex1)"
      ]
    },
    {
      "cell_type": "markdown",
      "metadata": {
        "id": "qAoG6YihgT3z"
      },
      "source": [
        "## difference in index and reindex:\n",
        "index: an attribute of the object to which index labels can be assigned whose size must be equal to the size of values\n",
        "\n",
        "Reindex: used to conform Series to new index with optional filling logic, placing NA/NaN in locations having no value in the previous index. Changes are not reflected inplace but may be in new series (to which assigned)"
      ]
    },
    {
      "cell_type": "markdown",
      "metadata": {
        "id": "DAdw8gyIhO8X"
      },
      "source": [
        "#What will be the output?"
      ]
    },
    {
      "cell_type": "code",
      "execution_count": 44,
      "metadata": {
        "colab": {
          "base_uri": "https://localhost:8080/"
        },
        "id": "9AA6CAgq0AQP",
        "outputId": "a640b6e6-a4ec-438e-87b4-f21b2b094faa"
      },
      "outputs": [
        {
          "data": {
            "text/plain": [
              "SName\n",
              "A    6\n",
              "C    6\n",
              "B    6\n",
              "D    6\n",
              "Name: Marks, dtype: int64"
            ]
          },
          "execution_count": 44,
          "metadata": {},
          "output_type": "execute_result"
        }
      ],
      "source": [
        "ex1"
      ]
    },
    {
      "cell_type": "code",
      "execution_count": null,
      "metadata": {
        "id": "F3YBJ9NEgl_R"
      },
      "outputs": [],
      "source": [
        "ex1.index=['xx','yy']"
      ]
    },
    {
      "cell_type": "code",
      "execution_count": 46,
      "metadata": {
        "colab": {
          "base_uri": "https://localhost:8080/"
        },
        "id": "qRUKodJnf7Zk",
        "outputId": "da1d9b88-d1a3-4d25-88a9-da6efcca115e"
      },
      "outputs": [
        {
          "data": {
            "text/plain": [
              "SName\n",
              "AA    NaN\n",
              "BB    NaN\n",
              "C     6.0\n",
              "D     6.0\n",
              "E     NaN\n",
              "Name: Marks, dtype: float64"
            ]
          },
          "execution_count": 46,
          "metadata": {},
          "output_type": "execute_result"
        }
      ],
      "source": [
        "ex1.reindex(['AA','BB','C','D','E'])"
      ]
    },
    {
      "cell_type": "code",
      "execution_count": 47,
      "metadata": {
        "colab": {
          "base_uri": "https://localhost:8080/"
        },
        "id": "MlL3qL57hkRW",
        "outputId": "67b6cbb2-8015-46b6-ba52-ea70dda0c158"
      },
      "outputs": [
        {
          "data": {
            "text/plain": [
              "SName\n",
              "A    6\n",
              "C    6\n",
              "B    6\n",
              "D    6\n",
              "Name: Marks, dtype: int64"
            ]
          },
          "execution_count": 47,
          "metadata": {},
          "output_type": "execute_result"
        }
      ],
      "source": [
        "ex1"
      ]
    },
    {
      "cell_type": "code",
      "execution_count": 50,
      "metadata": {
        "colab": {
          "base_uri": "https://localhost:8080/"
        },
        "id": "OJnL2221huuH",
        "outputId": "9e95e7d6-756a-4931-a13b-9f907f41c93f"
      },
      "outputs": [
        {
          "data": {
            "text/plain": [
              "SName\n",
              "AA     NaN\n",
              "BB     NaN\n",
              "C     26.0\n",
              "D      6.0\n",
              "E      NaN\n",
              "Name: Marks, dtype: float64"
            ]
          },
          "execution_count": 50,
          "metadata": {},
          "output_type": "execute_result"
        }
      ],
      "source": [
        "ex2=ex1.reindex(['AA','BB','C','D','E'])\n",
        "ex2"
      ]
    },
    {
      "cell_type": "markdown",
      "metadata": {
        "id": "hP-WTq7-ws-R"
      },
      "source": [
        "## add 20 to 3rd element in series ex1"
      ]
    },
    {
      "cell_type": "code",
      "execution_count": 49,
      "metadata": {
        "colab": {
          "base_uri": "https://localhost:8080/"
        },
        "id": "bELPfmh9wrCf",
        "outputId": "d4d71fa9-d70e-4b3f-835a-91dc48ff4591"
      },
      "outputs": [
        {
          "data": {
            "text/plain": [
              "SName\n",
              "A     6\n",
              "C    26\n",
              "B     6\n",
              "D     6\n",
              "Name: Marks, dtype: int64"
            ]
          },
          "execution_count": 49,
          "metadata": {},
          "output_type": "execute_result"
        }
      ],
      "source": [
        "ex1['C']+=20\n",
        "ex1"
      ]
    },
    {
      "cell_type": "markdown",
      "metadata": {
        "id": "Ht_jQLT8hVNT"
      },
      "source": [
        "## alternative way: using default index position"
      ]
    },
    {
      "cell_type": "code",
      "execution_count": 65,
      "metadata": {
        "colab": {
          "base_uri": "https://localhost:8080/"
        },
        "id": "mnL6AlZmhanz",
        "outputId": "1dc7c50d-a06b-466c-86f2-227367109ff1"
      },
      "outputs": [
        {
          "data": {
            "text/plain": [
              "SName\n",
              "A      6\n",
              "C    780\n",
              "B      6\n",
              "D      6\n",
              "Name: Marks, dtype: int64"
            ]
          },
          "execution_count": 65,
          "metadata": {},
          "output_type": "execute_result"
        }
      ],
      "source": [
        "ex1[1]*=30\n",
        "ex1"
      ]
    },
    {
      "cell_type": "markdown",
      "metadata": {
        "id": "_Z88ORWAiD0h"
      },
      "source": [
        "## **slicing** : int default index values are used then working is same as in array and list.\n",
        "In case index labels are used then last value is also included in accessing the content"
      ]
    },
    {
      "cell_type": "code",
      "execution_count": 68,
      "metadata": {
        "colab": {
          "base_uri": "https://localhost:8080/"
        },
        "id": "P1ZKF64yiDP-",
        "outputId": "8de95462-cf9d-41dd-b559-b729263c6541"
      },
      "outputs": [
        {
          "data": {
            "text/plain": [
              "SName\n",
              "A      6\n",
              "C    780\n",
              "Name: Marks, dtype: int64"
            ]
          },
          "execution_count": 68,
          "metadata": {
            "tags": []
          },
          "output_type": "execute_result"
        }
      ],
      "source": [
        "ex1[0:2]"
      ]
    },
    {
      "cell_type": "code",
      "execution_count": 53,
      "metadata": {
        "colab": {
          "base_uri": "https://localhost:8080/"
        },
        "id": "17RYUytmip0n",
        "outputId": "4d47a0cb-5b94-4ec7-a144-83287d214581"
      },
      "outputs": [
        {
          "data": {
            "text/plain": [
              "Series([], Name: Marks, dtype: int64)"
            ]
          },
          "execution_count": 53,
          "metadata": {},
          "output_type": "execute_result"
        }
      ],
      "source": [
        "ex1['D':'A']"
      ]
    },
    {
      "cell_type": "code",
      "execution_count": null,
      "metadata": {
        "id": "M4EdSJtjnOgl"
      },
      "outputs": [],
      "source": []
    },
    {
      "cell_type": "markdown",
      "metadata": {
        "id": "HVj0bjX_lba2"
      },
      "source": [
        "#fancy index for accessing elements"
      ]
    },
    {
      "cell_type": "code",
      "execution_count": 118,
      "metadata": {
        "colab": {
          "base_uri": "https://localhost:8080/"
        },
        "id": "SQHdkD8TlV4K",
        "outputId": "009d4f04-26a4-48f8-eb17-511f4f096562"
      },
      "outputs": [
        {
          "data": {
            "text/plain": [
              "SName\n",
              "A      6\n",
              "D      6\n",
              "C    780\n",
              "Name: Marks, dtype: int64"
            ]
          },
          "execution_count": 118,
          "metadata": {
            "tags": []
          },
          "output_type": "execute_result"
        }
      ],
      "source": [
        "ex1[['A','D','C']]"
      ]
    },
    {
      "cell_type": "code",
      "execution_count": 121,
      "metadata": {
        "id": "rKMazjgNlfJo"
      },
      "outputs": [],
      "source": [
        "ex1[['A','D']]=0"
      ]
    },
    {
      "cell_type": "code",
      "execution_count": 119,
      "metadata": {
        "colab": {
          "base_uri": "https://localhost:8080/"
        },
        "id": "9cWmbERemD3k",
        "outputId": "6a5d07a5-1e24-4be0-a524-a21663b19fe8"
      },
      "outputs": [
        {
          "data": {
            "text/plain": [
              "6"
            ]
          },
          "execution_count": 119,
          "metadata": {
            "tags": []
          },
          "output_type": "execute_result"
        }
      ],
      "source": [
        "ex1[-1]"
      ]
    },
    {
      "cell_type": "code",
      "execution_count": 122,
      "metadata": {
        "colab": {
          "base_uri": "https://localhost:8080/"
        },
        "id": "yHQS0P8fli_-",
        "outputId": "6d538df4-23a4-47bb-f767-143dc188142b"
      },
      "outputs": [
        {
          "data": {
            "text/plain": [
              "SName\n",
              "A      0\n",
              "C    780\n",
              "B      6\n",
              "D      0\n",
              "Name: Marks, dtype: int64"
            ]
          },
          "execution_count": 122,
          "metadata": {
            "tags": []
          },
          "output_type": "execute_result"
        }
      ],
      "source": [
        "ex1"
      ]
    },
    {
      "cell_type": "code",
      "execution_count": 123,
      "metadata": {
        "colab": {
          "base_uri": "https://localhost:8080/"
        },
        "id": "vjf8P0u1lxX8",
        "outputId": "f5df2fb0-5efe-497d-dca7-88a157b0920a"
      },
      "outputs": [
        {
          "data": {
            "text/plain": [
              "0    0.0\n",
              "1    1.0\n",
              "2    2.0\n",
              "dtype: float64"
            ]
          },
          "execution_count": 123,
          "metadata": {
            "tags": []
          },
          "output_type": "execute_result"
        }
      ],
      "source": [
        "ser=pd.Series(np.arange(3.))\n",
        "ser"
      ]
    },
    {
      "cell_type": "code",
      "execution_count": null,
      "metadata": {
        "id": "UqXbYYw0l-eM"
      },
      "outputs": [],
      "source": [
        "ser[-1]"
      ]
    },
    {
      "cell_type": "markdown",
      "metadata": {
        "id": "SAuBN73onUR7"
      },
      "source": [
        "#use specific iloc and loc to differentiate between integer index  or labelled indexes as integer indexes given by user are also handled as labelled for data accessing etc."
      ]
    },
    {
      "cell_type": "code",
      "execution_count": 125,
      "metadata": {
        "colab": {
          "base_uri": "https://localhost:8080/"
        },
        "id": "n4lgRuB7nhNl",
        "outputId": "421d826b-13ea-4985-cc6a-32a31ab1e5b0"
      },
      "outputs": [
        {
          "data": {
            "text/plain": [
              "2.0"
            ]
          },
          "execution_count": 125,
          "metadata": {
            "tags": []
          },
          "output_type": "execute_result"
        }
      ],
      "source": [
        "ser.iloc[-1]"
      ]
    },
    {
      "cell_type": "code",
      "execution_count": 126,
      "metadata": {
        "colab": {
          "base_uri": "https://localhost:8080/"
        },
        "id": "JsY5Sw4InmAr",
        "outputId": "320f21c3-9676-434a-b84d-2b81f842e1c7"
      },
      "outputs": [
        {
          "data": {
            "text/plain": [
              "1.0"
            ]
          },
          "execution_count": 126,
          "metadata": {
            "tags": []
          },
          "output_type": "execute_result"
        }
      ],
      "source": [
        "ser.loc[1]"
      ]
    },
    {
      "cell_type": "markdown",
      "metadata": {
        "id": "r61KofkejQAt"
      },
      "source": [
        "#adding new leftover index with some default values"
      ]
    },
    {
      "cell_type": "code",
      "execution_count": 128,
      "metadata": {
        "colab": {
          "base_uri": "https://localhost:8080/"
        },
        "id": "xqSj_40SjQ0c",
        "outputId": "356ef2db-b7a8-4651-a90d-f9685b56bcb3"
      },
      "outputs": [
        {
          "name": "stdout",
          "output_type": "stream",
          "text": [
            "0      blue\n",
            "3    purple\n",
            "6    yellow\n",
            "dtype: object\n",
            "0      blue\n",
            "1       NaN\n",
            "2       NaN\n",
            "3    purple\n",
            "4       NaN\n",
            "5       NaN\n",
            "6    yellow\n",
            "7       NaN\n",
            "8       NaN\n",
            "dtype: object\n"
          ]
        }
      ],
      "source": [
        "obj3 = pd.Series(['blue', 'purple', 'yellow'], index=np.arange(0,9,3))\n",
        "print(obj3)\n",
        "obj1=obj3.reindex(range(0,9,1))  #forward fill\n",
        "print(obj1)\n"
      ]
    },
    {
      "cell_type": "code",
      "execution_count": 129,
      "metadata": {
        "colab": {
          "base_uri": "https://localhost:8080/"
        },
        "id": "iggfzByv2z2x",
        "outputId": "51bd3d13-6b5c-444c-acbb-19ce6ed84dde"
      },
      "outputs": [
        {
          "name": "stdout",
          "output_type": "stream",
          "text": [
            "0      blue\n",
            "1      blue\n",
            "2      blue\n",
            "3    purple\n",
            "4    purple\n",
            "5    purple\n",
            "6    yellow\n",
            "7    yellow\n",
            "8    yellow\n",
            "dtype: object\n"
          ]
        }
      ],
      "source": [
        "obj1=obj3.reindex(range(0,9,1), method='ffill')  #forward fill\n",
        "print(obj1)\n"
      ]
    },
    {
      "cell_type": "code",
      "execution_count": 130,
      "metadata": {
        "colab": {
          "base_uri": "https://localhost:8080/"
        },
        "id": "ogT4wh8ZjmO-",
        "outputId": "3055e19c-06fa-4f50-c208-111b5e647ea7"
      },
      "outputs": [
        {
          "name": "stdout",
          "output_type": "stream",
          "text": [
            "0      blue\n",
            "1    purple\n",
            "2    purple\n",
            "3    purple\n",
            "4    yellow\n",
            "5    yellow\n",
            "6    yellow\n",
            "7       NaN\n",
            "8       NaN\n",
            "dtype: object\n"
          ]
        }
      ],
      "source": [
        "obj1=obj3.reindex(range(9), method='bfill')  #backward fill\n",
        "print(obj1)"
      ]
    },
    {
      "cell_type": "markdown",
      "metadata": {
        "id": "vYhi3iG0k8fv"
      },
      "source": [
        "#removing a label using drop , no inplace change"
      ]
    },
    {
      "cell_type": "code",
      "execution_count": 131,
      "metadata": {
        "colab": {
          "base_uri": "https://localhost:8080/"
        },
        "id": "V3tKHj5dkdiq",
        "outputId": "42b1ac96-50e1-4cbd-ee8e-78b4cb0dd083"
      },
      "outputs": [
        {
          "data": {
            "text/plain": [
              "1    purple\n",
              "2    purple\n",
              "3    purple\n",
              "4    yellow\n",
              "5    yellow\n",
              "6    yellow\n",
              "7       NaN\n",
              "8       NaN\n",
              "dtype: object"
            ]
          },
          "execution_count": 131,
          "metadata": {
            "tags": []
          },
          "output_type": "execute_result"
        }
      ],
      "source": [
        "obj1.drop(0)"
      ]
    },
    {
      "cell_type": "code",
      "execution_count": 132,
      "metadata": {
        "colab": {
          "base_uri": "https://localhost:8080/"
        },
        "id": "q5_900aOk5Ov",
        "outputId": "9f29d027-f105-4e8a-d94c-721627d8dcd0"
      },
      "outputs": [
        {
          "data": {
            "text/plain": [
              "0      blue\n",
              "1    purple\n",
              "2    purple\n",
              "3    purple\n",
              "4    yellow\n",
              "5    yellow\n",
              "6    yellow\n",
              "7       NaN\n",
              "8       NaN\n",
              "dtype: object"
            ]
          },
          "execution_count": 132,
          "metadata": {
            "tags": []
          },
          "output_type": "execute_result"
        }
      ],
      "source": [
        "obj1"
      ]
    },
    {
      "cell_type": "code",
      "execution_count": 133,
      "metadata": {
        "colab": {
          "base_uri": "https://localhost:8080/"
        },
        "id": "g6uQfwGp4pSc",
        "outputId": "e38f1f5c-ce1d-4dcf-a241-1b0cfbe3fd6f"
      },
      "outputs": [
        {
          "data": {
            "text/plain": [
              "SName\n",
              "A      0\n",
              "C    780\n",
              "B      6\n",
              "D      0\n",
              "Name: Marks, dtype: int64"
            ]
          },
          "execution_count": 133,
          "metadata": {
            "tags": []
          },
          "output_type": "execute_result"
        }
      ],
      "source": [
        "ex1"
      ]
    },
    {
      "cell_type": "code",
      "execution_count": 134,
      "metadata": {
        "colab": {
          "base_uri": "https://localhost:8080/"
        },
        "id": "DD-bokTgpS-h",
        "outputId": "e5df2bb3-31ad-4be0-eb77-522dff8656ee"
      },
      "outputs": [
        {
          "data": {
            "text/plain": [
              "SName\n",
              "A      0\n",
              "C    780\n",
              "B      6\n",
              "D    105\n",
              "Name: Marks, dtype: int64"
            ]
          },
          "execution_count": 134,
          "metadata": {
            "tags": []
          },
          "output_type": "execute_result"
        }
      ],
      "source": [
        "ex1[3]=105\n",
        "ex1"
      ]
    },
    {
      "cell_type": "markdown",
      "metadata": {
        "id": "XqyzJGtuqMww"
      },
      "source": [
        "#what you get from the following?"
      ]
    },
    {
      "cell_type": "code",
      "execution_count": 135,
      "metadata": {
        "colab": {
          "base_uri": "https://localhost:8080/"
        },
        "id": "CSpmmvB-qLjV",
        "outputId": "03d1fe3f-b64f-47bd-f263-0d6539878174"
      },
      "outputs": [
        {
          "data": {
            "text/plain": [
              "SName\n",
              "C    780\n",
              "D    105\n",
              "Name: Marks, dtype: int64"
            ]
          },
          "execution_count": 135,
          "metadata": {
            "tags": []
          },
          "output_type": "execute_result"
        }
      ],
      "source": [
        "ex1[ex1>100]"
      ]
    },
    {
      "cell_type": "markdown",
      "metadata": {
        "id": "yxwDUDTxqT6k"
      },
      "source": [
        "#how to get indexes for specific elements"
      ]
    },
    {
      "cell_type": "code",
      "execution_count": 136,
      "metadata": {
        "colab": {
          "base_uri": "https://localhost:8080/"
        },
        "id": "LGL9PDseqTZF",
        "outputId": "c66f172a-48e7-4d5c-c58b-ae8b133cc282"
      },
      "outputs": [
        {
          "data": {
            "text/plain": [
              "Index(['C', 'D'], dtype='object', name='SName')"
            ]
          },
          "execution_count": 136,
          "metadata": {
            "tags": []
          },
          "output_type": "execute_result"
        }
      ],
      "source": [
        "ex1[ex1>100].index"
      ]
    },
    {
      "cell_type": "code",
      "execution_count": 137,
      "metadata": {
        "colab": {
          "base_uri": "https://localhost:8080/"
        },
        "id": "d0-9c6FxpU1V",
        "outputId": "aaa6be93-7188-4fdf-d7cd-c68a09ce5ddc"
      },
      "outputs": [
        {
          "data": {
            "text/plain": [
              "SName\n",
              "A    0\n",
              "B    6\n",
              "Name: Marks, dtype: int64"
            ]
          },
          "execution_count": 137,
          "metadata": {
            "tags": []
          },
          "output_type": "execute_result"
        }
      ],
      "source": [
        "ex1.drop(ex1[ex1>100].index)"
      ]
    }
  ],
  "metadata": {
    "colab": {
      "collapsed_sections": [],
      "name": "series.ipynb",
      "provenance": [],
      "toc_visible": true
    },
    "kernelspec": {
      "display_name": "Python 3.9.4 64-bit",
      "language": "python",
      "name": "python3"
    },
    "language_info": {
      "codemirror_mode": {
        "name": "ipython",
        "version": 3
      },
      "file_extension": ".py",
      "mimetype": "text/x-python",
      "name": "python",
      "nbconvert_exporter": "python",
      "pygments_lexer": "ipython3",
      "version": "3.9.4"
    },
    "vscode": {
      "interpreter": {
        "hash": "5c6d8cf874a78cf518467a975f892478beea8e1660668e6c51857c147a60fb9a"
      }
    }
  },
  "nbformat": 4,
  "nbformat_minor": 0
}
