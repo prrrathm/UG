{
  "cells": [
    {
      "cell_type": "markdown",
      "metadata": {
        "id": "umNAO52MpzoV"
      },
      "source": [
        "#NUMPY of Python: Numerical python"
      ]
    },
    {
      "cell_type": "markdown",
      "metadata": {
        "id": "sZZZvD80jRUk"
      },
      "source": [
        "#Why NP\n",
        "\n",
        "*   ndarray, an efficient multidimensional array providing fast array-oriented arithmetic\n",
        "operations \n",
        "\n",
        "*  Flexible broadcasting capabilities.\n",
        "*  Mathematical functions for fast operations on entire arrays of data without having\n",
        "to write loops. \n",
        "\n",
        "*    Tools for reading/writing array data to disk and working with memory-mapped files\n",
        "*   Linear algebra, random number generation, and Fourier transform capabilities.\n",
        "\n",
        "\n",
        "*    A C API for connecting NumPy with libraries written in C, C++, or FORTRAN.List item\n",
        "\n",
        "\n",
        "*   stores array data in contiguous memory for faster access thereby providing efficiency compared to other sequence objects in Python\n",
        "\n",
        "\n",
        "\n"
      ]
    },
    {
      "cell_type": "code",
      "execution_count": 252,
      "metadata": {
        "id": "osTEvUopm4sl"
      },
      "outputs": [],
      "source": [
        "import numpy as np\n"
      ]
    },
    {
      "cell_type": "code",
      "execution_count": 3,
      "metadata": {
        "id": "8LTK2PB2ktRQ"
      },
      "outputs": [],
      "source": [
        "my_arr = np.arange(1000000)\n",
        "my_list = list(range(1000000))"
      ]
    },
    {
      "cell_type": "code",
      "execution_count": 4,
      "metadata": {},
      "outputs": [
        {
          "data": {
            "text/plain": [
              "numpy.ndarray"
            ]
          },
          "execution_count": 4,
          "metadata": {},
          "output_type": "execute_result"
        }
      ],
      "source": [
        "type(my_arr)"
      ]
    },
    {
      "cell_type": "markdown",
      "metadata": {
        "id": "gDS8RSqPlXKV"
      },
      "source": [
        "#wall-clock time:  measures the total time to execute a program in a computer "
      ]
    },
    {
      "cell_type": "code",
      "execution_count": 5,
      "metadata": {
        "colab": {
          "base_uri": "https://localhost:8080/"
        },
        "id": "Rh4Mmkvxk45d",
        "outputId": "2d5d44a2-bda0-4906-85b9-7dd72a53b9b7"
      },
      "outputs": [
        {
          "name": "stdout",
          "output_type": "stream",
          "text": [
            "Wall time: 16.5 ms\n"
          ]
        }
      ],
      "source": [
        "%time for _ in range(10): my_arr2 = my_arr * 2\n"
      ]
    },
    {
      "cell_type": "code",
      "execution_count": 6,
      "metadata": {
        "colab": {
          "base_uri": "https://localhost:8080/"
        },
        "id": "ppH_t1x_k5sC",
        "outputId": "fe3d9a00-9594-4c7a-82c5-27b5c7f86959"
      },
      "outputs": [
        {
          "name": "stdout",
          "output_type": "stream",
          "text": [
            "Wall time: 520 ms\n"
          ]
        }
      ],
      "source": [
        "%time for _ in range(10): my_list2 = [x * 2 for x in my_list]"
      ]
    },
    {
      "cell_type": "markdown",
      "metadata": {
        "id": "6FICZHzJqrMI"
      },
      "source": [
        "##np.random.rand function: \n",
        "\n",
        "*   creates Numpy arrays (row-major) of specified shape that contain random values between 0 and 1.\n",
        "*   the probability of selecting specific numbers between 0 and 1 is uniform.\n",
        "\n",
        " "
      ]
    },
    {
      "cell_type": "code",
      "execution_count": 253,
      "metadata": {
        "colab": {
          "base_uri": "https://localhost:8080/"
        },
        "id": "VDfZTQ-bq0BH",
        "outputId": "675c4607-c560-4ffd-e55b-6e3d9a4b8253"
      },
      "outputs": [
        {
          "name": "stdout",
          "output_type": "stream",
          "text": [
            "[[0.10833736 0.96259288 0.11552301]\n",
            " [0.46088262 0.83163784 0.04587908]\n",
            " [0.7820273  0.28706619 0.65503345]]\n"
          ]
        }
      ],
      "source": [
        "data = np.random.rand(3, 3) \n",
        "print(data)"
      ]
    },
    {
      "cell_type": "markdown",
      "metadata": {
        "id": "JmNdQJ-0ra-O"
      },
      "source": [
        "#exploring characteristics of data"
      ]
    },
    {
      "cell_type": "code",
      "execution_count": 254,
      "metadata": {
        "colab": {
          "base_uri": "https://localhost:8080/"
        },
        "id": "TuY_jzrLrY0R",
        "outputId": "cf3bb1ac-e8d0-4f25-8a85-9b2c7139c4de"
      },
      "outputs": [
        {
          "data": {
            "text/plain": [
              "numpy.ndarray"
            ]
          },
          "execution_count": 254,
          "metadata": {},
          "output_type": "execute_result"
        }
      ],
      "source": [
        "type(data)"
      ]
    },
    {
      "cell_type": "code",
      "execution_count": 255,
      "metadata": {
        "colab": {
          "base_uri": "https://localhost:8080/"
        },
        "id": "m29hst5JrgOV",
        "outputId": "e3389cfd-15f9-40df-9d9a-b8fbc67af84c"
      },
      "outputs": [
        {
          "data": {
            "text/plain": [
              "dtype('float64')"
            ]
          },
          "execution_count": 255,
          "metadata": {},
          "output_type": "execute_result"
        }
      ],
      "source": [
        "data.dtype"
      ]
    },
    {
      "cell_type": "code",
      "execution_count": 256,
      "metadata": {
        "colab": {
          "base_uri": "https://localhost:8080/"
        },
        "id": "rbpken80rmsR",
        "outputId": "60ba9884-32a5-40f4-9534-1b3b76a24cb6"
      },
      "outputs": [
        {
          "name": "stdout",
          "output_type": "stream",
          "text": [
            "size:total elements:9  order:(3, 3)   numberof dimensions: 2\n"
          ]
        }
      ],
      "source": [
        "print(\"size:total elements:{0}  order:{1}   numberof dimensions: {2}\".format(data.size, data.shape, data.ndim))"
      ]
    },
    {
      "cell_type": "markdown",
      "metadata": {
        "id": "JEeijBBsWzQA"
      },
      "source": [
        "#random data from normal distribution"
      ]
    },
    {
      "cell_type": "code",
      "execution_count": 257,
      "metadata": {
        "colab": {
          "base_uri": "https://localhost:8080/"
        },
        "id": "nMHqcQqLWxiG",
        "outputId": "884f2278-eaac-48cd-932c-0f94d48d9166"
      },
      "outputs": [
        {
          "name": "stdout",
          "output_type": "stream",
          "text": [
            "[[ 2.06927526 -0.45555111 -0.98540962]\n",
            " [ 0.22590212  0.06394588  0.98560278]\n",
            " [-0.14737751 -0.24144389 -0.14594612]]\n"
          ]
        }
      ],
      "source": [
        "data = np.random.randn(3, 3) \n",
        "print(data)"
      ]
    },
    {
      "cell_type": "markdown",
      "metadata": {
        "id": "wKTZDU36Yqet"
      },
      "source": [
        " # copying content of an array using = operator makes a new copy i.e. changes done on new object is not reflected in the source\n",
        "Broadcasting: applying specified operation on each element of the array\n",
        "However both operands of an operator may not be same in size"
      ]
    },
    {
      "cell_type": "code",
      "execution_count": 14,
      "metadata": {
        "colab": {
          "base_uri": "https://localhost:8080/"
        },
        "id": "LBBJ02ipYbe6",
        "outputId": "cbabd854-1cf9-4466-ac1d-4fc5c7bda10a"
      },
      "outputs": [
        {
          "data": {
            "text/plain": [
              "array([[0.01095118, 0.44230172, 1.40803006],\n",
              "       [1.12614371, 1.95416506, 1.41449775],\n",
              "       [1.70637957, 1.91484325, 0.2828172 ]])"
            ]
          },
          "execution_count": 14,
          "metadata": {},
          "output_type": "execute_result"
        }
      ],
      "source": [
        "A1=data*2\n",
        "A1"
      ]
    },
    {
      "cell_type": "markdown",
      "metadata": {
        "id": "4bSZUdfgXBBD"
      },
      "source": [
        " #Broadcasting is used to apply arithmetic on arrays of unequal size\n",
        "-the smaller array is “broadcast” across \n",
        "\n",
        "*   the smaller array is “broadcast” across the larger array so that they have compatible shapes\n",
        "*  provides a means of vectorizing array operations so that looping occurs in C instead of Python\n",
        "*rank of the array are compared to apply broadcasting where rank indicates number of dimensions of the array"
      ]
    },
    {
      "cell_type": "markdown",
      "metadata": {
        "id": "N8hvMNkLZDvE"
      },
      "source": [
        "#simple way to do same computation on all the elements of an array\n",
        "1. Any arithmetic operations between equal-size arrays applies the operation elementwise\n",
        "2. if one operand is array and other scalar, then scalar value is propagated"
      ]
    },
    {
      "cell_type": "code",
      "execution_count": null,
      "metadata": {
        "colab": {
          "base_uri": "https://localhost:8080/"
        },
        "id": "LqOwPCV3YeyM",
        "outputId": "14c56014-c02e-4a51-ab02-6d57b6eba3bf"
      },
      "outputs": [
        {
          "data": {
            "text/plain": [
              "array([[6.63157891, 6.22670558, 5.12804498],\n",
              "       [5.18882094, 5.8181272 , 6.12407304]])"
            ]
          },
          "execution_count": 13,
          "metadata": {
            "tags": []
          },
          "output_type": "execute_result"
        }
      ],
      "source": [
        "A1=A1+5\n",
        "A1"
      ]
    },
    {
      "cell_type": "code",
      "execution_count": 258,
      "metadata": {
        "colab": {
          "base_uri": "https://localhost:8080/"
        },
        "id": "hQ9KGpjiYnsM",
        "outputId": "7fe4b18a-55fa-4d9f-a972-ebcf0fa27fad"
      },
      "outputs": [
        {
          "data": {
            "text/plain": [
              "array([[ 2.06927526, -0.45555111, -0.98540962],\n",
              "       [ 0.22590212,  0.06394588,  0.98560278],\n",
              "       [-0.14737751, -0.24144389, -0.14594612]])"
            ]
          },
          "execution_count": 258,
          "metadata": {},
          "output_type": "execute_result"
        }
      ],
      "source": [
        "data"
      ]
    },
    {
      "cell_type": "code",
      "execution_count": 259,
      "metadata": {
        "colab": {
          "base_uri": "https://localhost:8080/"
        },
        "id": "SyjrP_JvY8dh",
        "outputId": "991c639b-0907-43f1-ed40-6d0e17db7bef"
      },
      "outputs": [
        {
          "data": {
            "text/plain": [
              "array([[9.13855052, 4.08889778, 3.02918076],\n",
              "       [5.45180424, 5.12789177, 6.97120557],\n",
              "       [4.70524498, 4.51711222, 4.70810775]])"
            ]
          },
          "execution_count": 259,
          "metadata": {},
          "output_type": "execute_result"
        }
      ],
      "source": [
        "5+2*data"
      ]
    },
    {
      "cell_type": "markdown",
      "metadata": {
        "id": "Cf4tsTK9ZVJA"
      },
      "source": [
        "## generate numbers from the specified range arange() and store in 1d array"
      ]
    },
    {
      "cell_type": "code",
      "execution_count": 260,
      "metadata": {
        "colab": {
          "base_uri": "https://localhost:8080/"
        },
        "id": "qFtJ9Pm2ZaLk",
        "outputId": "06fb8105-7695-408b-dc00-9ee56c9892e3"
      },
      "outputs": [
        {
          "name": "stdout",
          "output_type": "stream",
          "text": [
            "16 (16,)\n"
          ]
        },
        {
          "data": {
            "text/plain": [
              "array([ 1,  3,  5,  7,  9, 11, 13, 15, 17, 19, 21, 23, 25, 27, 29, 31])"
            ]
          },
          "execution_count": 260,
          "metadata": {},
          "output_type": "execute_result"
        }
      ],
      "source": [
        "A2=np.arange(1,32,2)\n",
        "print(A2.size, A2.shape)\n",
        "A2"
      ]
    },
    {
      "cell_type": "markdown",
      "metadata": {
        "id": "cSTjvUCjaTzt"
      },
      "source": [
        "# converting 1D array to 2D array using  \n",
        "reshape(a, newshape, order='C')\n",
        "\n",
        "order= {'C', 'F', 'A'} and is optional\n",
        "\n",
        "*   C: By default orde is C-like  array i.e row-wise\n",
        "\n",
        "*   F: column wise conversion of 1D numpy array to 2D Numpy array as in Fortran\n",
        "\n",
        "*  A: Fortran like indexing for in-contiguous memory else C-like\n",
        "\n",
        "\n",
        "*   **reshape() returns a view of the original array**\n",
        "*   size of input array should be equivalent to size of new array\n"
      ]
    },
    {
      "cell_type": "code",
      "execution_count": 265,
      "metadata": {
        "id": "21En1QovaIJm"
      },
      "outputs": [],
      "source": [
        "A3=np.reshape(A2, (2,8), order='C')"
      ]
    },
    {
      "cell_type": "code",
      "execution_count": 269,
      "metadata": {
        "colab": {
          "base_uri": "https://localhost:8080/"
        },
        "id": "KRc8UUR2cd0e",
        "outputId": "5a19e1ac-bfa7-4cdd-e2e3-8cd59b62f0ef"
      },
      "outputs": [
        {
          "data": {
            "text/plain": [
              "array([100,   3,   5,   7,   9,  11,  13,  15,  17,  19,  21,  23,  25,\n",
              "        27,  29,  31])"
            ]
          },
          "execution_count": 269,
          "metadata": {},
          "output_type": "execute_result"
        }
      ],
      "source": [
        "A2"
      ]
    },
    {
      "cell_type": "code",
      "execution_count": 267,
      "metadata": {},
      "outputs": [],
      "source": [
        "A3[0,0]=100"
      ]
    },
    {
      "cell_type": "code",
      "execution_count": null,
      "metadata": {},
      "outputs": [],
      "source": []
    },
    {
      "cell_type": "code",
      "execution_count": 270,
      "metadata": {
        "colab": {
          "base_uri": "https://localhost:8080/"
        },
        "id": "QKBJKvzMeI1U",
        "outputId": "c787c965-a3ed-49c1-a6cc-3e6080bb4ae3"
      },
      "outputs": [
        {
          "data": {
            "text/plain": [
              "array([[100,   5,   9,  13,  17,  21,  25,  29],\n",
              "       [  3,   7,  11,  15,  19,  23,  27,  31]])"
            ]
          },
          "execution_count": 270,
          "metadata": {},
          "output_type": "execute_result"
        }
      ],
      "source": [
        "A3=np.reshape(A2, (2,8), order='F')\n",
        "A3"
      ]
    },
    {
      "cell_type": "code",
      "execution_count": 273,
      "metadata": {},
      "outputs": [
        {
          "data": {
            "text/plain": [
              "True"
            ]
          },
          "execution_count": 273,
          "metadata": {},
          "output_type": "execute_result"
        }
      ],
      "source": [
        "A3.base is A2"
      ]
    },
    {
      "cell_type": "code",
      "execution_count": 68,
      "metadata": {},
      "outputs": [
        {
          "data": {
            "text/plain": [
              "True"
            ]
          },
          "execution_count": 68,
          "metadata": {},
          "output_type": "execute_result"
        }
      ],
      "source": [
        "A2.base is None"
      ]
    },
    {
      "cell_type": "markdown",
      "metadata": {
        "id": "NB1-S-uRdje4"
      },
      "source": [
        "# More on shape:\n",
        "-1 in shape (4,-1) indicates setting of second  dimension shape as per the original array size considering size of first dimension (16) and rest of dimensions specified (here 4). Only one dimension shape can be -1"
      ]
    },
    {
      "cell_type": "code",
      "execution_count": 274,
      "metadata": {
        "colab": {
          "base_uri": "https://localhost:8080/"
        },
        "id": "Xk-WajXT0R7v",
        "outputId": "fe435e69-560d-431a-f867-89757ec826fc"
      },
      "outputs": [
        {
          "data": {
            "text/plain": [
              "1"
            ]
          },
          "execution_count": 274,
          "metadata": {},
          "output_type": "execute_result"
        }
      ],
      "source": [
        "A2.ndim"
      ]
    },
    {
      "cell_type": "code",
      "execution_count": 278,
      "metadata": {
        "colab": {
          "base_uri": "https://localhost:8080/"
        },
        "id": "N8EQBc59ciDQ",
        "outputId": "8af60133-d159-451c-e492-9cd47ddc546a"
      },
      "outputs": [
        {
          "data": {
            "text/plain": [
              "array([[100,   3,   5,   7],\n",
              "       [  9,  11,  13,  15],\n",
              "       [ 17,  19,  21,  23],\n",
              "       [ 25,  27,  29,  31]])"
            ]
          },
          "execution_count": 278,
          "metadata": {},
          "output_type": "execute_result"
        }
      ],
      "source": [
        "A3=np.reshape(A2, (4,-1), order='C')\n",
        "A3"
      ]
    },
    {
      "cell_type": "markdown",
      "metadata": {
        "id": "9ZV-hj8R2rVg"
      },
      "source": [
        "## reshape..(1,-1) results into 2d array only"
      ]
    },
    {
      "cell_type": "code",
      "execution_count": 71,
      "metadata": {},
      "outputs": [
        {
          "data": {
            "text/plain": [
              "array([[100,   3,   5,   7],\n",
              "       [  9,  11,  13,  15],\n",
              "       [ 17,  19,  21,  23],\n",
              "       [ 25,  27,  29,  31]])"
            ]
          },
          "execution_count": 71,
          "metadata": {},
          "output_type": "execute_result"
        }
      ],
      "source": [
        "A3"
      ]
    },
    {
      "cell_type": "code",
      "execution_count": 279,
      "metadata": {
        "colab": {
          "base_uri": "https://localhost:8080/"
        },
        "id": "kYd7nmrT1zQ-",
        "outputId": "031c5f5a-e8c2-42c2-85b8-817e38e04cdb"
      },
      "outputs": [
        {
          "data": {
            "text/plain": [
              "2"
            ]
          },
          "execution_count": 279,
          "metadata": {},
          "output_type": "execute_result"
        }
      ],
      "source": [
        "A5=np.reshape(A3, (1,-1), order='C')\n",
        "A5.ndim"
      ]
    },
    {
      "cell_type": "markdown",
      "metadata": {},
      "source": [
        "## original array address is used OR NOT\n",
        "### ndarray has an attribute called base to check  base of an array that owns its memory. It  is None for A2 (as it is the original array) . But for A3, A5 base is A2  because they are is just views of A5."
      ]
    },
    {
      "cell_type": "code",
      "execution_count": 96,
      "metadata": {},
      "outputs": [
        {
          "data": {
            "text/plain": [
              "True"
            ]
          },
          "execution_count": 96,
          "metadata": {},
          "output_type": "execute_result"
        }
      ],
      "source": [
        "A3.base is A2"
      ]
    },
    {
      "cell_type": "markdown",
      "metadata": {},
      "source": [
        "## to know whether two array share same memory location"
      ]
    },
    {
      "cell_type": "code",
      "execution_count": 284,
      "metadata": {},
      "outputs": [
        {
          "data": {
            "text/plain": [
              "array([0.53536634, 0.37683539, 0.50273395, 0.35167743, 0.43676739,\n",
              "       0.22446534, 0.00444202, 0.31848072, 0.77239245, 0.62014837])"
            ]
          },
          "execution_count": 284,
          "metadata": {},
          "output_type": "execute_result"
        }
      ],
      "source": [
        "A1"
      ]
    },
    {
      "cell_type": "code",
      "execution_count": 283,
      "metadata": {},
      "outputs": [
        {
          "name": "stdout",
          "output_type": "stream",
          "text": [
            "False\n"
          ]
        }
      ],
      "source": [
        "print (np.may_share_memory(A5, A1))"
      ]
    },
    {
      "cell_type": "code",
      "execution_count": 286,
      "metadata": {},
      "outputs": [
        {
          "data": {
            "text/plain": [
              "array([[100,   3,   5,   7,   9,  11,  13,  15,  17,  19,  21,  23,  25,\n",
              "         27,  29,  31]])"
            ]
          },
          "execution_count": 286,
          "metadata": {},
          "output_type": "execute_result"
        }
      ],
      "source": [
        "A5"
      ]
    },
    {
      "cell_type": "code",
      "execution_count": 285,
      "metadata": {},
      "outputs": [
        {
          "data": {
            "text/plain": [
              "(1, 16)"
            ]
          },
          "execution_count": 285,
          "metadata": {},
          "output_type": "execute_result"
        }
      ],
      "source": [
        "A5.shape"
      ]
    },
    {
      "cell_type": "code",
      "execution_count": 287,
      "metadata": {
        "colab": {
          "base_uri": "https://localhost:8080/"
        },
        "id": "rH6Yg3Qh2Owt",
        "outputId": "f4b76e43-5a0f-4021-f17c-15c8cc6fd7e1"
      },
      "outputs": [],
      "source": [
        "A5[0,4]=300"
      ]
    },
    {
      "cell_type": "code",
      "execution_count": 288,
      "metadata": {},
      "outputs": [
        {
          "data": {
            "text/plain": [
              "array([[100,   3,   5,   7, 300,  11,  13,  15,  17,  19,  21,  23,  25,\n",
              "         27,  29,  31]])"
            ]
          },
          "execution_count": 288,
          "metadata": {},
          "output_type": "execute_result"
        }
      ],
      "source": [
        "A5"
      ]
    },
    {
      "cell_type": "markdown",
      "metadata": {
        "id": "VHTppWIg2ne2"
      },
      "source": [
        "## to flatten 2d array into 1d array"
      ]
    },
    {
      "cell_type": "code",
      "execution_count": 289,
      "metadata": {
        "id": "74yTYrXl2hGa"
      },
      "outputs": [],
      "source": [
        "A6=A5.flatten()"
      ]
    },
    {
      "cell_type": "code",
      "execution_count": 290,
      "metadata": {
        "colab": {
          "base_uri": "https://localhost:8080/"
        },
        "id": "h58nLyFU3Aek",
        "outputId": "5a1fe019-5cb2-4165-d3a4-ce0ae2af29db"
      },
      "outputs": [
        {
          "data": {
            "text/plain": [
              "1"
            ]
          },
          "execution_count": 290,
          "metadata": {},
          "output_type": "execute_result"
        }
      ],
      "source": [
        "A6.ndim"
      ]
    },
    {
      "cell_type": "code",
      "execution_count": 291,
      "metadata": {},
      "outputs": [
        {
          "data": {
            "text/plain": [
              "array([100,   3,   5,   7, 300,  11,  13,  15,  17,  19,  21,  23,  25,\n",
              "        27,  29,  31])"
            ]
          },
          "execution_count": 291,
          "metadata": {},
          "output_type": "execute_result"
        }
      ],
      "source": [
        "A6"
      ]
    },
    {
      "cell_type": "code",
      "execution_count": 292,
      "metadata": {},
      "outputs": [
        {
          "data": {
            "text/plain": [
              "True"
            ]
          },
          "execution_count": 292,
          "metadata": {},
          "output_type": "execute_result"
        }
      ],
      "source": [
        "A6.base is None"
      ]
    },
    {
      "cell_type": "code",
      "execution_count": 293,
      "metadata": {},
      "outputs": [
        {
          "name": "stdout",
          "output_type": "stream",
          "text": [
            "False\n"
          ]
        }
      ],
      "source": [
        "print (np.may_share_memory(A5, A6))"
      ]
    },
    {
      "cell_type": "code",
      "execution_count": 294,
      "metadata": {
        "colab": {
          "base_uri": "https://localhost:8080/"
        },
        "id": "pxa_pnNR1SWt",
        "outputId": "5d6e0ff1-a4dd-4c79-e9d4-5a995a9a8706"
      },
      "outputs": [],
      "source": [
        "A6[2]=200"
      ]
    },
    {
      "cell_type": "code",
      "execution_count": 295,
      "metadata": {},
      "outputs": [
        {
          "data": {
            "text/plain": [
              "array([[100,   3,   5,   7, 300,  11,  13,  15,  17,  19,  21,  23,  25,\n",
              "         27,  29,  31]])"
            ]
          },
          "execution_count": 295,
          "metadata": {},
          "output_type": "execute_result"
        }
      ],
      "source": [
        "A5"
      ]
    },
    {
      "cell_type": "markdown",
      "metadata": {},
      "source": [
        "## difference in reshape() and flatten()\n",
        "1. reshape() creates a view wheras flatten make a copy\n",
        "2. reshape() used for increasing dimensions where flatten is used for converting to 1d array of contiguous location\n",
        "3. in both cases size is same in original and new arrays"
      ]
    },
    {
      "cell_type": "markdown",
      "metadata": {},
      "source": [
        "## difference in ravel and flatten()\n",
        "flatten makes a copy but ravel makes a view\n",
        "while using ravel we may mention order of arranging elements as done in reshape()"
      ]
    },
    {
      "cell_type": "code",
      "execution_count": 298,
      "metadata": {},
      "outputs": [
        {
          "data": {
            "text/plain": [
              "array([[100,   3,   5,   7, 555,  11,  13,  15,  17,  19,  21,  23,  25,\n",
              "         27,  29,  31]])"
            ]
          },
          "execution_count": 298,
          "metadata": {},
          "output_type": "execute_result"
        }
      ],
      "source": [
        "A5"
      ]
    },
    {
      "cell_type": "code",
      "execution_count": 296,
      "metadata": {},
      "outputs": [],
      "source": [
        "A7=A5.ravel()"
      ]
    },
    {
      "cell_type": "code",
      "execution_count": 297,
      "metadata": {},
      "outputs": [],
      "source": [
        "A7[4]=555"
      ]
    },
    {
      "cell_type": "code",
      "execution_count": 97,
      "metadata": {},
      "outputs": [
        {
          "data": {
            "text/plain": [
              "array([[100,   3,   5,   7, 300,  11,  13,  15,  17,  19,  21,  23,  25,\n",
              "         27,  29,  31]])"
            ]
          },
          "execution_count": 97,
          "metadata": {},
          "output_type": "execute_result"
        }
      ],
      "source": [
        "A5"
      ]
    },
    {
      "cell_type": "code",
      "execution_count": 299,
      "metadata": {},
      "outputs": [
        {
          "data": {
            "text/plain": [
              "(4, 4)"
            ]
          },
          "execution_count": 299,
          "metadata": {},
          "output_type": "execute_result"
        }
      ],
      "source": [
        "A3.shape"
      ]
    },
    {
      "cell_type": "code",
      "execution_count": 300,
      "metadata": {},
      "outputs": [],
      "source": [
        "A8=A3.reshape(-1)"
      ]
    },
    {
      "cell_type": "code",
      "execution_count": 302,
      "metadata": {},
      "outputs": [
        {
          "data": {
            "text/plain": [
              "True"
            ]
          },
          "execution_count": 302,
          "metadata": {},
          "output_type": "execute_result"
        }
      ],
      "source": [
        "A8.base is A2"
      ]
    },
    {
      "cell_type": "markdown",
      "metadata": {
        "id": "ZEpQi4ZLeaCG"
      },
      "source": [
        "## creating array from underlying list with numeric data"
      ]
    },
    {
      "cell_type": "code",
      "execution_count": 303,
      "metadata": {
        "colab": {
          "base_uri": "https://localhost:8080/"
        },
        "id": "oxEoDi3yeWtB",
        "outputId": "95a723eb-d59e-435c-ae95-3a8be15bf257"
      },
      "outputs": [
        {
          "name": "stdout",
          "output_type": "stream",
          "text": [
            "(5,) (2, 3)\n",
            "1 2\n",
            "[1 2 3 4 5]\n"
          ]
        }
      ],
      "source": [
        "l=[1,2,3,4,5]\n",
        "l1=[[1,2,3],[4,5,6]]\n",
        "a1=np.array(l)\n",
        "a2=np.array(l1)\n",
        "print(a1.shape,a2.shape)\n",
        "print(a1.ndim, a2.ndim)\n",
        "print(a1)"
      ]
    },
    {
      "cell_type": "code",
      "execution_count": 308,
      "metadata": {
        "colab": {
          "base_uri": "https://localhost:8080/"
        },
        "id": "FLFWP1Lz2iBP",
        "outputId": "ff538e0e-fcb0-448b-a86e-ee3f5304996e"
      },
      "outputs": [
        {
          "data": {
            "text/plain": [
              "array([[ 1,  2, 10],\n",
              "       [ 4,  5, 10]])"
            ]
          },
          "execution_count": 308,
          "metadata": {},
          "output_type": "execute_result"
        }
      ],
      "source": [
        "a2"
      ]
    },
    {
      "cell_type": "code",
      "execution_count": 312,
      "metadata": {
        "colab": {
          "base_uri": "https://localhost:8080/"
        },
        "id": "cJAcF7le2j1z",
        "outputId": "0fc1bb25-0812-44ab-8082-5dac4b00094b"
      },
      "outputs": [
        {
          "data": {
            "text/plain": [
              "array([[ 6, 12],\n",
              "       [24, 30]])"
            ]
          },
          "execution_count": 312,
          "metadata": {},
          "output_type": "execute_result"
        }
      ],
      "source": [
        "a2[0:,0:2]*6"
      ]
    },
    {
      "cell_type": "code",
      "execution_count": 315,
      "metadata": {},
      "outputs": [
        {
          "data": {
            "text/plain": [
              "array([1, 2, 3, 4, 5])"
            ]
          },
          "execution_count": 315,
          "metadata": {},
          "output_type": "execute_result"
        }
      ],
      "source": [
        "a1"
      ]
    },
    {
      "cell_type": "markdown",
      "metadata": {
        "id": "nEHfkoxo6IbL"
      },
      "source": [
        "## vectorization : applying same operation on two equal sized arrays without looping\n",
        "## vectorization of a function means that the function is now applied simultaneously over many values instead of a single value\n",
        "Done thru underlying C-code"
      ]
    },
    {
      "cell_type": "code",
      "execution_count": 319,
      "metadata": {
        "colab": {
          "base_uri": "https://localhost:8080/",
          "height": 161
        },
        "id": "HySrso4Z7DQS",
        "outputId": "49f4ba08-6890-4ebe-9449-bf33d234f22e"
      },
      "outputs": [
        {
          "ename": "ValueError",
          "evalue": "operands could not be broadcast together with shapes (5,) (6,) ",
          "output_type": "error",
          "traceback": [
            "\u001b[1;31m---------------------------------------------------------------------------\u001b[0m",
            "\u001b[1;31mValueError\u001b[0m                                Traceback (most recent call last)",
            "\u001b[1;32mC:\\Users\\SHARAN~1\\AppData\\Local\\Temp/ipykernel_20108/1944941413.py\u001b[0m in \u001b[0;36m<module>\u001b[1;34m\u001b[0m\n\u001b[1;32m----> 1\u001b[1;33m \u001b[0ma1\u001b[0m\u001b[1;33m>\u001b[0m\u001b[0ma2\u001b[0m  \u001b[1;31m#not feasible\u001b[0m\u001b[1;33m\u001b[0m\u001b[1;33m\u001b[0m\u001b[0m\n\u001b[0m",
            "\u001b[1;31mValueError\u001b[0m: operands could not be broadcast together with shapes (5,) (6,) "
          ]
        }
      ],
      "source": [
        "a1>a2  #not feasible"
      ]
    },
    {
      "cell_type": "code",
      "execution_count": 316,
      "metadata": {},
      "outputs": [],
      "source": [
        "a2=a2.flatten()"
      ]
    },
    {
      "cell_type": "code",
      "execution_count": 317,
      "metadata": {},
      "outputs": [
        {
          "data": {
            "text/plain": [
              "(6,)"
            ]
          },
          "execution_count": 317,
          "metadata": {},
          "output_type": "execute_result"
        }
      ],
      "source": [
        "a2.shape"
      ]
    },
    {
      "cell_type": "code",
      "execution_count": 318,
      "metadata": {},
      "outputs": [
        {
          "data": {
            "text/plain": [
              "(5,)"
            ]
          },
          "execution_count": 318,
          "metadata": {},
          "output_type": "execute_result"
        }
      ],
      "source": [
        "a1.shape"
      ]
    },
    {
      "cell_type": "code",
      "execution_count": 126,
      "metadata": {},
      "outputs": [
        {
          "data": {
            "text/plain": [
              "(6,)"
            ]
          },
          "execution_count": 126,
          "metadata": {},
          "output_type": "execute_result"
        }
      ],
      "source": [
        "a2.shape"
      ]
    },
    {
      "cell_type": "code",
      "execution_count": 320,
      "metadata": {
        "id": "rmzwQLs66SUP"
      },
      "outputs": [],
      "source": [
        "if a1.size==a2.size:\n",
        "  pass\n",
        "elif a1.size>a2.size:\n",
        "  a3=a1[:a2.size]\n",
        "  a4=a2\n",
        "else:\n",
        "  a3=a2[:a1.size]\n",
        "  a4=a1\n"
      ]
    },
    {
      "cell_type": "code",
      "execution_count": 321,
      "metadata": {
        "colab": {
          "base_uri": "https://localhost:8080/"
        },
        "id": "9aJoPvlN3F3T",
        "outputId": "c25483cd-5388-4200-eb7c-8865eaa65328"
      },
      "outputs": [
        {
          "name": "stdout",
          "output_type": "stream",
          "text": [
            "[ 1  2 10  4  5] [1 2 3 4 5]\n"
          ]
        }
      ],
      "source": [
        "print(a3,a4)"
      ]
    },
    {
      "cell_type": "code",
      "execution_count": 322,
      "metadata": {},
      "outputs": [
        {
          "data": {
            "text/plain": [
              "array([ True,  True,  True,  True,  True])"
            ]
          },
          "execution_count": 322,
          "metadata": {},
          "output_type": "execute_result"
        }
      ],
      "source": [
        "a3 >= a4"
      ]
    },
    {
      "cell_type": "markdown",
      "metadata": {
        "id": "NTmnS33gf-qN"
      },
      "source": [
        "## array may have non-numeric data as in list"
      ]
    },
    {
      "cell_type": "code",
      "execution_count": 324,
      "metadata": {
        "colab": {
          "base_uri": "https://localhost:8080/"
        },
        "id": "t08-4R8Hehiu",
        "outputId": "5c9d03fa-91eb-462a-b74b-7a974efbb6c4"
      },
      "outputs": [
        {
          "data": {
            "text/plain": [
              "array(['1', '2', '3', '4', '5'], dtype='<U1')"
            ]
          },
          "execution_count": 324,
          "metadata": {},
          "output_type": "execute_result"
        }
      ],
      "source": [
        "l=['1','2','3','4','5']\n",
        "a1=np.array(l)\n",
        "a1"
      ]
    },
    {
      "cell_type": "markdown",
      "metadata": {
        "id": "5EenOzefgOrF"
      },
      "source": [
        "## incase list is not symmeteric  nested list (ragged sequence), warning is shown. shape is only taken as (1,) i.e  second dimension is incomplete"
      ]
    },
    {
      "cell_type": "code",
      "execution_count": 325,
      "metadata": {
        "colab": {
          "base_uri": "https://localhost:8080/"
        },
        "id": "2osZISnxgHYS",
        "outputId": "97db5fb2-a73e-4e80-a027-db5d855a675e"
      },
      "outputs": [
        {
          "name": "stderr",
          "output_type": "stream",
          "text": [
            "C:\\Users\\SHARAN~1\\AppData\\Local\\Temp/ipykernel_20108/1362869433.py:2: VisibleDeprecationWarning: Creating an ndarray from ragged nested sequences (which is a list-or-tuple of lists-or-tuples-or ndarrays with different lengths or shapes) is deprecated. If you meant to do this, you must specify 'dtype=object' when creating the ndarray.\n",
            "  a1=np.array(l1)\n"
          ]
        },
        {
          "data": {
            "text/plain": [
              "array(['1', '2', list(['3', '4']), '5'], dtype=object)"
            ]
          },
          "execution_count": 325,
          "metadata": {},
          "output_type": "execute_result"
        }
      ],
      "source": [
        "l1=['1','2',['3','4'],'5']\n",
        "a1=np.array(l1)\n",
        "a1"
      ]
    },
    {
      "cell_type": "code",
      "execution_count": 327,
      "metadata": {},
      "outputs": [
        {
          "data": {
            "text/plain": [
              "1"
            ]
          },
          "execution_count": 327,
          "metadata": {},
          "output_type": "execute_result"
        }
      ],
      "source": [
        "a1.ndim"
      ]
    },
    {
      "cell_type": "code",
      "execution_count": 329,
      "metadata": {
        "colab": {
          "base_uri": "https://localhost:8080/"
        },
        "id": "nxLPbtI555oO",
        "outputId": "ed54cd46-1773-4d97-f32d-b8deb8fabd5e"
      },
      "outputs": [
        {
          "data": {
            "text/plain": [
              "list"
            ]
          },
          "execution_count": 329,
          "metadata": {},
          "output_type": "execute_result"
        }
      ],
      "source": [
        "type(a1[2])"
      ]
    },
    {
      "cell_type": "code",
      "execution_count": 330,
      "metadata": {
        "colab": {
          "base_uri": "https://localhost:8080/"
        },
        "id": "M1wsNjoO6BqY",
        "outputId": "a9f7244b-f361-47a2-f3c3-a99cafa5f6f7"
      },
      "outputs": [
        {
          "data": {
            "text/plain": [
              "list"
            ]
          },
          "execution_count": 330,
          "metadata": {},
          "output_type": "execute_result"
        }
      ],
      "source": [
        "type(l1[2])"
      ]
    },
    {
      "cell_type": "code",
      "execution_count": 130,
      "metadata": {
        "colab": {
          "base_uri": "https://localhost:8080/"
        },
        "id": "eBE3N7pJgcXk",
        "outputId": "90654841-a527-4d9b-b37e-2fd1559b2cb3"
      },
      "outputs": [
        {
          "data": {
            "text/plain": [
              "(4,)"
            ]
          },
          "execution_count": 130,
          "metadata": {},
          "output_type": "execute_result"
        }
      ],
      "source": [
        "a1.shape"
      ]
    },
    {
      "cell_type": "code",
      "execution_count": 331,
      "metadata": {
        "colab": {
          "base_uri": "https://localhost:8080/"
        },
        "id": "6adulIom44iH",
        "outputId": "04c7ad51-8e5b-49e1-92d7-282bf491d7e4"
      },
      "outputs": [
        {
          "data": {
            "text/plain": [
              "dtype('O')"
            ]
          },
          "execution_count": 331,
          "metadata": {},
          "output_type": "execute_result"
        }
      ],
      "source": [
        "a1.dtype"
      ]
    },
    {
      "cell_type": "code",
      "execution_count": 132,
      "metadata": {
        "colab": {
          "base_uri": "https://localhost:8080/",
          "height": 35
        },
        "id": "FifkOalKe_Ls",
        "outputId": "18caba5f-1f60-49c7-fd42-200851de0cf7"
      },
      "outputs": [
        {
          "data": {
            "text/plain": [
              "'object'"
            ]
          },
          "execution_count": 132,
          "metadata": {},
          "output_type": "execute_result"
        }
      ],
      "source": [
        "x=a1.dtype\n",
        "x.name"
      ]
    },
    {
      "cell_type": "markdown",
      "metadata": {},
      "source": [
        "## creating arrays of 0/1"
      ]
    },
    {
      "cell_type": "code",
      "execution_count": 332,
      "metadata": {
        "id": "F83ACWfPfdZW"
      },
      "outputs": [],
      "source": [
        "n1=np.zeros(5)\n",
        "n2=np.ones(5)\n"
      ]
    },
    {
      "cell_type": "code",
      "execution_count": 333,
      "metadata": {
        "colab": {
          "base_uri": "https://localhost:8080/"
        },
        "id": "AA951Sc95RrK",
        "outputId": "446bd424-4f27-497f-ec60-29102f523d8a"
      },
      "outputs": [
        {
          "name": "stdout",
          "output_type": "stream",
          "text": [
            "[0. 0. 0. 0. 0.] \n",
            " [1. 1. 1. 1. 1.]\n"
          ]
        }
      ],
      "source": [
        "print(n1,'\\n',n2)"
      ]
    },
    {
      "cell_type": "markdown",
      "metadata": {},
      "source": [
        "## you may mention type of elements"
      ]
    },
    {
      "cell_type": "code",
      "execution_count": 334,
      "metadata": {
        "colab": {
          "base_uri": "https://localhost:8080/"
        },
        "id": "Q-X2g2CHffiO",
        "outputId": "101b19bc-a28f-4760-c750-3c93aacbafef"
      },
      "outputs": [
        {
          "data": {
            "text/plain": [
              "array([[0, 0, 0],\n",
              "       [0, 0, 0]])"
            ]
          },
          "execution_count": 334,
          "metadata": {},
          "output_type": "execute_result"
        }
      ],
      "source": [
        "n3=np.zeros((2,3),int)\n",
        "n3"
      ]
    },
    {
      "cell_type": "code",
      "execution_count": 335,
      "metadata": {},
      "outputs": [
        {
          "data": {
            "text/plain": [
              "dtype('float64')"
            ]
          },
          "execution_count": 335,
          "metadata": {},
          "output_type": "execute_result"
        }
      ],
      "source": [
        "n2.dtype"
      ]
    },
    {
      "cell_type": "markdown",
      "metadata": {},
      "source": [
        "## grabage value in array when using empty()"
      ]
    },
    {
      "cell_type": "code",
      "execution_count": 341,
      "metadata": {
        "id": "HReBljoRflRx"
      },
      "outputs": [],
      "source": [
        "n4=np.empty((2,3,3)) "
      ]
    },
    {
      "cell_type": "code",
      "execution_count": 343,
      "metadata": {
        "colab": {
          "base_uri": "https://localhost:8080/"
        },
        "id": "VYDhsUBb6SKW",
        "outputId": "473dd7d9-3eb4-4fde-caa5-9e0e4e217203"
      },
      "outputs": [],
      "source": [
        "n4[:,:]=0"
      ]
    },
    {
      "cell_type": "code",
      "execution_count": 344,
      "metadata": {},
      "outputs": [
        {
          "data": {
            "text/plain": [
              "array([[[0., 0., 0.],\n",
              "        [0., 0., 0.],\n",
              "        [0., 0., 0.]],\n",
              "\n",
              "       [[0., 0., 0.],\n",
              "        [0., 0., 0.],\n",
              "        [0., 0., 0.]]])"
            ]
          },
          "execution_count": 344,
          "metadata": {},
          "output_type": "execute_result"
        }
      ],
      "source": [
        "n4"
      ]
    },
    {
      "cell_type": "markdown",
      "metadata": {
        "id": "BdO5haZ9fxC6"
      },
      "source": [
        "## takes another array and creates new array of same shape and size but having ones only"
      ]
    },
    {
      "cell_type": "code",
      "execution_count": 345,
      "metadata": {},
      "outputs": [
        {
          "data": {
            "text/plain": [
              "array([[0, 0, 0],\n",
              "       [0, 0, 0]])"
            ]
          },
          "execution_count": 345,
          "metadata": {},
          "output_type": "execute_result"
        }
      ],
      "source": [
        "n3"
      ]
    },
    {
      "cell_type": "code",
      "execution_count": 142,
      "metadata": {
        "colab": {
          "base_uri": "https://localhost:8080/"
        },
        "id": "ocvMinwOfq2W",
        "outputId": "56de43b2-5a9e-4012-fb1b-c8c6d50d7412"
      },
      "outputs": [
        {
          "data": {
            "text/plain": [
              "array([[1, 1, 1],\n",
              "       [1, 1, 1]])"
            ]
          },
          "execution_count": 142,
          "metadata": {},
          "output_type": "execute_result"
        }
      ],
      "source": [
        "n5=np.ones_like(n3)\n",
        "n5"
      ]
    },
    {
      "cell_type": "markdown",
      "metadata": {
        "id": "P7JMRd4jhL2F"
      },
      "source": [
        "## full() to populate same element as specified by the user"
      ]
    },
    {
      "cell_type": "code",
      "execution_count": 346,
      "metadata": {
        "colab": {
          "base_uri": "https://localhost:8080/"
        },
        "id": "UcIbXB65hHmn",
        "outputId": "c8135e16-b03e-41ba-d758-d595633aebde"
      },
      "outputs": [
        {
          "data": {
            "text/plain": [
              "array([[7, 7, 7],\n",
              "       [7, 7, 7]])"
            ]
          },
          "execution_count": 346,
          "metadata": {},
          "output_type": "execute_result"
        }
      ],
      "source": [
        "n1=np.full((2,3),7)\n",
        "n1"
      ]
    },
    {
      "cell_type": "code",
      "execution_count": 347,
      "metadata": {
        "colab": {
          "base_uri": "https://localhost:8080/"
        },
        "id": "Csj3raal68vt",
        "outputId": "2d7f7af7-2a09-4f67-b28a-45fcd53dc26e"
      },
      "outputs": [
        {
          "data": {
            "text/plain": [
              "array([[ 7,  7,  7],\n",
              "       [ 7,  7, 10]])"
            ]
          },
          "execution_count": 347,
          "metadata": {},
          "output_type": "execute_result"
        }
      ],
      "source": [
        "n1[1][2]=10\n",
        "n1"
      ]
    },
    {
      "cell_type": "markdown",
      "metadata": {
        "id": "uDFL6nP9hX3C"
      },
      "source": [
        "## identity matrix (diagonal one)"
      ]
    },
    {
      "cell_type": "code",
      "execution_count": 348,
      "metadata": {
        "colab": {
          "base_uri": "https://localhost:8080/"
        },
        "id": "5AxMX7k4hW6Z",
        "outputId": "230debde-3910-4f2c-9415-0b25bcc0e12d"
      },
      "outputs": [
        {
          "name": "stdout",
          "output_type": "stream",
          "text": [
            "[[1. 0. 0. 0.]\n",
            " [0. 1. 0. 0.]\n",
            " [0. 0. 1. 0.]\n",
            " [0. 0. 0. 1.]]\n"
          ]
        }
      ],
      "source": [
        "m2=np.identity(4)\n",
        "print(m2)"
      ]
    },
    {
      "cell_type": "markdown",
      "metadata": {
        "id": "w5PZcrL1hcev"
      },
      "source": [
        "## eye() to have all zeros except for the  k^{th}  which is mentioned"
      ]
    },
    {
      "cell_type": "code",
      "execution_count": 350,
      "metadata": {
        "colab": {
          "base_uri": "https://localhost:8080/"
        },
        "id": "kvCZth4ZhgwL",
        "outputId": "55013850-d289-4d3f-887a-b997b72bb6de"
      },
      "outputs": [
        {
          "data": {
            "text/plain": [
              "array([[0., 0., 0., 0.],\n",
              "       [1., 0., 0., 0.],\n",
              "       [0., 1., 0., 0.],\n",
              "       [0., 0., 1., 0.]])"
            ]
          },
          "execution_count": 350,
          "metadata": {},
          "output_type": "execute_result"
        }
      ],
      "source": [
        "m1=np.eye(4,4,-1)\n",
        "m1"
      ]
    },
    {
      "cell_type": "markdown",
      "metadata": {
        "id": "BJqxmWnQh1dP"
      },
      "source": [
        "## -2 in eye() means below the major column"
      ]
    },
    {
      "cell_type": "code",
      "execution_count": 154,
      "metadata": {
        "colab": {
          "base_uri": "https://localhost:8080/"
        },
        "id": "2jGJ_WXfhsTH",
        "outputId": "12ea3d1a-4327-49f3-c14e-e2e0a86ed862"
      },
      "outputs": [
        {
          "data": {
            "text/plain": [
              "array([[0., 0., 0., 0.],\n",
              "       [0., 0., 0., 0.],\n",
              "       [1., 0., 0., 0.],\n",
              "       [0., 1., 0., 0.]])"
            ]
          },
          "execution_count": 154,
          "metadata": {},
          "output_type": "execute_result"
        }
      ],
      "source": [
        "m1=np.eye(4,4,-2)\n",
        "m1"
      ]
    },
    {
      "cell_type": "code",
      "execution_count": 351,
      "metadata": {
        "colab": {
          "base_uri": "https://localhost:8080/"
        },
        "id": "KeFTWRsohqbw",
        "outputId": "f0f3aab0-9347-47a2-87f8-a21832e7195a"
      },
      "outputs": [
        {
          "data": {
            "text/plain": [
              "array([['aa', 'xxx'],\n",
              "       ['sdf', 'sd']], dtype='<U3')"
            ]
          },
          "execution_count": 351,
          "metadata": {},
          "output_type": "execute_result"
        }
      ],
      "source": [
        "s1=np.array(['aa','xxx','sdf','sd']).reshape((2,2))\n",
        "s1"
      ]
    },
    {
      "cell_type": "code",
      "execution_count": 352,
      "metadata": {},
      "outputs": [
        {
          "data": {
            "text/plain": [
              "dtype('<U3')"
            ]
          },
          "execution_count": 352,
          "metadata": {},
          "output_type": "execute_result"
        }
      ],
      "source": [
        "s1.dtype"
      ]
    },
    {
      "cell_type": "markdown",
      "metadata": {},
      "source": [
        "### dtype('<U3') is a little-endian 3 character string."
      ]
    },
    {
      "cell_type": "code",
      "execution_count": 354,
      "metadata": {
        "colab": {
          "base_uri": "https://localhost:8080/"
        },
        "id": "BcFXlTNsmwCY",
        "outputId": "4109e68f-f3f1-43c9-de36-1e5ac4ada32e"
      },
      "outputs": [
        {
          "data": {
            "text/plain": [
              "dtype('<U1')"
            ]
          },
          "execution_count": 354,
          "metadata": {},
          "output_type": "execute_result"
        }
      ],
      "source": [
        "arr1 = np.array([1, 2, 3, 4, 5],str)\n",
        "arr1.dtype\n"
      ]
    },
    {
      "cell_type": "markdown",
      "metadata": {
        "id": "JcT9kYAl5PCn"
      },
      "source": [
        "different data types"
      ]
    },
    {
      "cell_type": "markdown",
      "metadata": {
        "id": "Wes4xZx45D9m"
      },
      "source": [
        "https://drive.google.com/file/d/1QLzvEeBvi8n8RQwQlXh4FBsipc_TyyKf/view?usp=sharing"
      ]
    },
    {
      "cell_type": "markdown",
      "metadata": {
        "id": "Z2D0fDvOnSqE"
      },
      "source": [
        "#astype(): to assign values of source array as per new specified data type"
      ]
    },
    {
      "cell_type": "code",
      "execution_count": 355,
      "metadata": {
        "colab": {
          "base_uri": "https://localhost:8080/"
        },
        "id": "xWEwEXqSnF_2",
        "outputId": "2bbdf7a2-227e-45af-8ec0-dd3aa220c425"
      },
      "outputs": [
        {
          "data": {
            "text/plain": [
              "dtype('float64')"
            ]
          },
          "execution_count": 355,
          "metadata": {},
          "output_type": "execute_result"
        }
      ],
      "source": [
        "arr2 = arr1.astype(np.float64)\n",
        "arr2.dtype"
      ]
    },
    {
      "cell_type": "code",
      "execution_count": null,
      "metadata": {},
      "outputs": [],
      "source": []
    },
    {
      "cell_type": "code",
      "execution_count": 356,
      "metadata": {},
      "outputs": [
        {
          "data": {
            "text/plain": [
              "array([1., 2., 3., 4., 5.])"
            ]
          },
          "execution_count": 356,
          "metadata": {},
          "output_type": "execute_result"
        }
      ],
      "source": [
        "arr2"
      ]
    },
    {
      "cell_type": "code",
      "execution_count": 165,
      "metadata": {},
      "outputs": [
        {
          "data": {
            "text/plain": [
              "dtype('int32')"
            ]
          },
          "execution_count": 165,
          "metadata": {},
          "output_type": "execute_result"
        }
      ],
      "source": [
        "arr1 = arr1.astype(np.int32)\n",
        "arr1.dtype"
      ]
    },
    {
      "cell_type": "code",
      "execution_count": 357,
      "metadata": {
        "colab": {
          "base_uri": "https://localhost:8080/"
        },
        "id": "p9dO0xT6nLRr",
        "outputId": "8dc436dd-54c4-42e6-8590-347bc61c0b46"
      },
      "outputs": [
        {
          "name": "stdout",
          "output_type": "stream",
          "text": [
            "['1' '2' '3' '4' '5'] [ 2.  4.  6.  8. 10.]\n"
          ]
        }
      ],
      "source": [
        "arr2=arr2*2\n",
        "print(arr1,arr2)"
      ]
    },
    {
      "cell_type": "code",
      "execution_count": 167,
      "metadata": {},
      "outputs": [
        {
          "data": {
            "text/plain": [
              "array([ 3.,  6.,  9., 12., 15.])"
            ]
          },
          "execution_count": 167,
          "metadata": {},
          "output_type": "execute_result"
        }
      ],
      "source": [
        "arr1+arr2"
      ]
    },
    {
      "cell_type": "code",
      "execution_count": null,
      "metadata": {
        "colab": {
          "base_uri": "https://localhost:8080/"
        },
        "id": "aAHjLVMynoVG",
        "outputId": "0c52fd11-3ffc-45ae-909d-c949413dcc0a"
      },
      "outputs": [
        {
          "data": {
            "text/plain": [
              "array([ 1.25, -9.6 , 42.  ])"
            ]
          },
          "execution_count": 76,
          "metadata": {
            "tags": []
          },
          "output_type": "execute_result"
        }
      ],
      "source": [
        "numeric_strings = np.array(['1.25', '-9.6', '42'])\n",
        "numeric_strings.astype(float)"
      ]
    },
    {
      "cell_type": "markdown",
      "metadata": {
        "id": "cN9Jx6CInyP4"
      },
      "source": [
        "## what is happening here?"
      ]
    },
    {
      "cell_type": "code",
      "execution_count": 358,
      "metadata": {
        "colab": {
          "base_uri": "https://localhost:8080/"
        },
        "id": "AFOEpWtnn0rg",
        "outputId": "2a2a785e-f6ea-4123-cc5f-c19638dd12af"
      },
      "outputs": [
        {
          "name": "stdout",
          "output_type": "stream",
          "text": [
            "int32 float64\n"
          ]
        }
      ],
      "source": [
        "int_array = np.arange(10)\n",
        "calibers = np.array([.22, .270, .357, .380, .44, .50], dtype=np.float64)\n",
        "I=int_array.astype(calibers.dtype)\n",
        "print(int_array[0].dtype,I.dtype)"
      ]
    },
    {
      "cell_type": "markdown",
      "metadata": {
        "id": "AB4d_mNk5cnz"
      },
      "source": [
        "## Basic indexing and broadcasting\n",
        "Why loops are slow in Python:\n",
        "goes line-by-line through the code, \n",
        "\n",
        "1.   execution line by line, compiles code into bytecode\n",
        "2.   Python is dynamically type i.e it has no idea what type of objects are present in the list \n",
        "3. Need to do : determining the type of variable, resolving it's scope, checking for any invalid operations etc. in each iteration which is time-consuming\n",
        "\n"
      ]
    },
    {
      "cell_type": "markdown",
      "metadata": {
        "id": "dD4atJa9VUn0"
      },
      "source": [
        "## How is array handled in Numpy?\n",
        "NumPy allows arrays to only have a single data type and stores the data internally in a contiguous block of memory, which allows optimization of code, pre-compiled C code under the hood."
      ]
    },
    {
      "cell_type": "code",
      "execution_count": 171,
      "metadata": {
        "id": "RorQC2V9-So-"
      },
      "outputs": [
        {
          "data": {
            "text/plain": [
              "[1, 2]"
            ]
          },
          "execution_count": 171,
          "metadata": {},
          "output_type": "execute_result"
        }
      ],
      "source": [
        "L=[1,2,3,4]\n",
        "L[:2]"
      ]
    },
    {
      "cell_type": "code",
      "execution_count": 359,
      "metadata": {},
      "outputs": [
        {
          "data": {
            "text/plain": [
              "array([0., 1., 2., 3., 4., 5., 6., 7., 8., 9.])"
            ]
          },
          "execution_count": 359,
          "metadata": {},
          "output_type": "execute_result"
        }
      ],
      "source": [
        "I"
      ]
    },
    {
      "cell_type": "markdown",
      "metadata": {
        "id": "Yb1aRoPQ7kuX"
      },
      "source": [
        "## ##array created using slicing is a view of original array just like list"
      ]
    },
    {
      "cell_type": "code",
      "execution_count": 172,
      "metadata": {
        "colab": {
          "base_uri": "https://localhost:8080/"
        },
        "id": "NPBKmbsf1wvv",
        "outputId": "7316ded3-2fba-4bf1-9c33-232891e179ca"
      },
      "outputs": [
        {
          "data": {
            "text/plain": [
              "array([1., 2., 3., 4.])"
            ]
          },
          "execution_count": 172,
          "metadata": {},
          "output_type": "execute_result"
        }
      ],
      "source": [
        "I[1:5]"
      ]
    },
    {
      "cell_type": "code",
      "execution_count": 360,
      "metadata": {
        "colab": {
          "base_uri": "https://localhost:8080/"
        },
        "id": "qYyDON9W5gHi",
        "outputId": "75f1f4c6-90bb-4cb7-9205-a1e201cd7b55"
      },
      "outputs": [
        {
          "data": {
            "text/plain": [
              "array([20., 20.,  2.,  3.,  4.,  5.,  6.,  7.,  8.,  9.])"
            ]
          },
          "execution_count": 360,
          "metadata": {},
          "output_type": "execute_result"
        }
      ],
      "source": [
        "I[:2]=20\n",
        "I"
      ]
    },
    {
      "cell_type": "code",
      "execution_count": 361,
      "metadata": {
        "id": "cUFgVjhX7aJV"
      },
      "outputs": [],
      "source": [
        "A1=I[:2]\n",
        "A1[0]=100"
      ]
    },
    {
      "cell_type": "code",
      "execution_count": 362,
      "metadata": {
        "colab": {
          "base_uri": "https://localhost:8080/"
        },
        "id": "rn7CDJyP7i-T",
        "outputId": "28a950fe-6dbe-4833-98ed-6cdf0352d0d9"
      },
      "outputs": [
        {
          "data": {
            "text/plain": [
              "array([100.,  20.,   2.,   3.,   4.,   5.,   6.,   7.,   8.,   9.])"
            ]
          },
          "execution_count": 362,
          "metadata": {},
          "output_type": "execute_result"
        }
      ],
      "source": [
        "I"
      ]
    },
    {
      "cell_type": "markdown",
      "metadata": {
        "id": "kI8hD6zw7sXe"
      },
      "source": [
        "## to create an independent copy using slicing use copy()"
      ]
    },
    {
      "cell_type": "code",
      "execution_count": 176,
      "metadata": {
        "colab": {
          "base_uri": "https://localhost:8080/"
        },
        "id": "Si_XjEjs72O5",
        "outputId": "6b1e77c4-06ac-41d3-8dfc-80d9ba9f5858"
      },
      "outputs": [
        {
          "name": "stdout",
          "output_type": "stream",
          "text": [
            "[100.  20.] [100.  20.   2.   3.   4.   5.   6.   7.   8.   9.]\n"
          ]
        }
      ],
      "source": [
        "A3=I[:2].copy()\n",
        "print(A3,I)"
      ]
    },
    {
      "cell_type": "code",
      "execution_count": null,
      "metadata": {
        "colab": {
          "base_uri": "https://localhost:8080/"
        },
        "id": "Hysp6n1n8Ijh",
        "outputId": "24b80a61-b1a1-44a5-fcae-af927e476ae6"
      },
      "outputs": [
        {
          "name": "stdout",
          "output_type": "stream",
          "text": [
            "[10000.    20.] [100.  20.   2.   3.   4.   5.   6.   7.   8.   9.]\n"
          ]
        }
      ],
      "source": [
        "A3[0]=10000\n",
        "print(A3,I)"
      ]
    },
    {
      "cell_type": "markdown",
      "metadata": {
        "id": "KYorn7w48dW2"
      },
      "source": [
        "#accessing elements in higher dimensions"
      ]
    },
    {
      "cell_type": "code",
      "execution_count": 363,
      "metadata": {
        "colab": {
          "base_uri": "https://localhost:8080/"
        },
        "id": "2ixH3VE28hIa",
        "outputId": "c633a0a9-915a-4efb-eae5-8e38aad1e167"
      },
      "outputs": [
        {
          "data": {
            "text/plain": [
              "array([[ 1,  3,  5,  7,  9, 11, 13, 15],\n",
              "       [17, 19, 21, 23, 25, 27, 29, 31]])"
            ]
          },
          "execution_count": 363,
          "metadata": {},
          "output_type": "execute_result"
        }
      ],
      "source": [
        "A1=np.arange(1,32,2,int)\n",
        "A2=A1.reshape((2,8))\n",
        "A2"
      ]
    },
    {
      "cell_type": "code",
      "execution_count": 178,
      "metadata": {},
      "outputs": [
        {
          "data": {
            "text/plain": [
              "16"
            ]
          },
          "execution_count": 178,
          "metadata": {},
          "output_type": "execute_result"
        }
      ],
      "source": [
        "A1.size"
      ]
    },
    {
      "cell_type": "markdown",
      "metadata": {
        "id": "7pmLO5-OIwmZ"
      },
      "source": [
        "#link for 2D\n",
        "https://drive.google.com/file/d/1rThKxSDPMExZc06ElY3XNYwldBDjS-qA/view?usp=sharing"
      ]
    },
    {
      "cell_type": "code",
      "execution_count": null,
      "metadata": {
        "colab": {
          "base_uri": "https://localhost:8080/"
        },
        "id": "osE_awqu82Yu",
        "outputId": "775b5a62-d123-4c22-c240-31ab03475569"
      },
      "outputs": [
        {
          "data": {
            "text/plain": [
              "array([[ 1,  3,  5,  7,  9, 11, 13, 15],\n",
              "       [17, 19, 21, 23, 25, 27, 29, 31]])"
            ]
          },
          "execution_count": 43,
          "metadata": {
            "tags": []
          },
          "output_type": "execute_result"
        }
      ],
      "source": [
        "A2"
      ]
    },
    {
      "cell_type": "code",
      "execution_count": 179,
      "metadata": {
        "colab": {
          "base_uri": "https://localhost:8080/"
        },
        "id": "5_IIBq8x8zLm",
        "outputId": "6b1034ee-604a-40e1-b664-8433e47bb2b5"
      },
      "outputs": [
        {
          "data": {
            "text/plain": [
              "array([ 1,  3,  5,  7,  9, 11, 13, 15])"
            ]
          },
          "execution_count": 179,
          "metadata": {},
          "output_type": "execute_result"
        }
      ],
      "source": [
        "A2[0]"
      ]
    },
    {
      "cell_type": "code",
      "execution_count": 365,
      "metadata": {},
      "outputs": [
        {
          "data": {
            "text/plain": [
              "array([11, 13, 15])"
            ]
          },
          "execution_count": 365,
          "metadata": {},
          "output_type": "execute_result"
        }
      ],
      "source": [
        "A2[0,5:]"
      ]
    },
    {
      "cell_type": "code",
      "execution_count": 181,
      "metadata": {
        "colab": {
          "base_uri": "https://localhost:8080/"
        },
        "id": "Yro9drJw84zf",
        "outputId": "89749d18-cfb0-430c-f551-e0d7e64d85a5"
      },
      "outputs": [
        {
          "data": {
            "text/plain": [
              "21"
            ]
          },
          "execution_count": 181,
          "metadata": {},
          "output_type": "execute_result"
        }
      ],
      "source": [
        "A2[1][2]"
      ]
    },
    {
      "cell_type": "markdown",
      "metadata": {
        "id": "8zQ9fHUU89mU"
      },
      "source": [
        "##another alternatives is to use comma seperator"
      ]
    },
    {
      "cell_type": "code",
      "execution_count": 182,
      "metadata": {
        "colab": {
          "base_uri": "https://localhost:8080/"
        },
        "id": "RALYU5Qn9E-m",
        "outputId": "ec094d44-f982-433a-829b-cd79f6788f42"
      },
      "outputs": [
        {
          "data": {
            "text/plain": [
              "5"
            ]
          },
          "execution_count": 182,
          "metadata": {},
          "output_type": "execute_result"
        }
      ],
      "source": [
        "A2[0,2]"
      ]
    },
    {
      "cell_type": "code",
      "execution_count": 183,
      "metadata": {
        "colab": {
          "base_uri": "https://localhost:8080/"
        },
        "id": "XURgboif9G_v",
        "outputId": "d521caa9-9677-4e30-9703-d898fd07577b"
      },
      "outputs": [
        {
          "data": {
            "text/plain": [
              "31"
            ]
          },
          "execution_count": 183,
          "metadata": {},
          "output_type": "execute_result"
        }
      ],
      "source": [
        "A2[1,7]"
      ]
    },
    {
      "cell_type": "markdown",
      "metadata": {
        "id": "Y2ghgHBcJpQC"
      },
      "source": [
        "#3 Dimensional array"
      ]
    },
    {
      "cell_type": "code",
      "execution_count": 366,
      "metadata": {
        "colab": {
          "base_uri": "https://localhost:8080/"
        },
        "id": "Zyz84VJDJo7E",
        "outputId": "46e42495-0a08-4f5a-8d65-76e6e3e324df"
      },
      "outputs": [
        {
          "data": {
            "text/plain": [
              "array([[[ 1,  2,  3],\n",
              "        [ 4,  5,  6]],\n",
              "\n",
              "       [[ 7,  8,  9],\n",
              "        [10, 11, 12]]])"
            ]
          },
          "execution_count": 366,
          "metadata": {},
          "output_type": "execute_result"
        }
      ],
      "source": [
        "arr3d = np.array([[[1, 2, 3], [4, 5, 6]], [[7, 8, 9], [10, 11, 12]]])\n",
        "arr3d"
      ]
    },
    {
      "cell_type": "code",
      "execution_count": 367,
      "metadata": {
        "colab": {
          "base_uri": "https://localhost:8080/"
        },
        "id": "VrHiF893BtV9",
        "outputId": "3fa245d8-0041-4f32-8967-5c8eb3bb22bc"
      },
      "outputs": [
        {
          "data": {
            "text/plain": [
              "3"
            ]
          },
          "execution_count": 367,
          "metadata": {},
          "output_type": "execute_result"
        }
      ],
      "source": [
        "arr3d.ndim"
      ]
    },
    {
      "cell_type": "code",
      "execution_count": 368,
      "metadata": {
        "colab": {
          "base_uri": "https://localhost:8080/"
        },
        "id": "x9X9Tq6uB5zV",
        "outputId": "6a420b43-7178-492b-b5b1-1504eb6f8bbd"
      },
      "outputs": [
        {
          "data": {
            "text/plain": [
              "(2, 2, 3)"
            ]
          },
          "execution_count": 368,
          "metadata": {},
          "output_type": "execute_result"
        }
      ],
      "source": [
        "arr3d.shape"
      ]
    },
    {
      "cell_type": "code",
      "execution_count": 369,
      "metadata": {
        "colab": {
          "base_uri": "https://localhost:8080/"
        },
        "id": "N80nt29cJu55",
        "outputId": "cb5370aa-523a-443d-da9c-82f6b951342d"
      },
      "outputs": [
        {
          "data": {
            "text/plain": [
              "array([[1, 2, 3],\n",
              "       [4, 5, 6]])"
            ]
          },
          "execution_count": 369,
          "metadata": {},
          "output_type": "execute_result"
        }
      ],
      "source": [
        "arr3d[0]"
      ]
    },
    {
      "cell_type": "code",
      "execution_count": 370,
      "metadata": {
        "colab": {
          "base_uri": "https://localhost:8080/"
        },
        "id": "BajgDG0XJx2F",
        "outputId": "ccc1c72c-e244-490c-cf92-ecdbd1eadd95"
      },
      "outputs": [
        {
          "data": {
            "text/plain": [
              "2"
            ]
          },
          "execution_count": 370,
          "metadata": {},
          "output_type": "execute_result"
        }
      ],
      "source": [
        "c=arr3d[0]\n",
        "c.ndim"
      ]
    },
    {
      "cell_type": "code",
      "execution_count": 371,
      "metadata": {
        "colab": {
          "base_uri": "https://localhost:8080/"
        },
        "id": "XT0W6GK3J9lF",
        "outputId": "7bd5e782-d936-435c-a4d0-6e8bec2279b9"
      },
      "outputs": [
        {
          "data": {
            "text/plain": [
              "array([[1, 2, 3],\n",
              "       [4, 5, 6]])"
            ]
          },
          "execution_count": 371,
          "metadata": {},
          "output_type": "execute_result"
        }
      ],
      "source": [
        "c"
      ]
    },
    {
      "cell_type": "code",
      "execution_count": 372,
      "metadata": {
        "colab": {
          "base_uri": "https://localhost:8080/"
        },
        "id": "l8-2U-L6J6Yo",
        "outputId": "3256b7ac-679b-4aa3-b1af-754c5adead9c"
      },
      "outputs": [
        {
          "data": {
            "text/plain": [
              "array([[  1, 100,   3],\n",
              "       [  4,   5,   6]])"
            ]
          },
          "execution_count": 372,
          "metadata": {},
          "output_type": "execute_result"
        }
      ],
      "source": [
        "c[0,1]=100\n",
        "c"
      ]
    },
    {
      "cell_type": "code",
      "execution_count": 373,
      "metadata": {
        "colab": {
          "base_uri": "https://localhost:8080/"
        },
        "id": "qsBD_ApjKCK0",
        "outputId": "191cc0eb-e76c-400c-cb19-f926f12ff491"
      },
      "outputs": [
        {
          "data": {
            "text/plain": [
              "array([[[  1, 100,   3],\n",
              "        [  4,   5,   6]],\n",
              "\n",
              "       [[  7,   8,   9],\n",
              "        [ 10,  11,  12]]])"
            ]
          },
          "execution_count": 373,
          "metadata": {},
          "output_type": "execute_result"
        }
      ],
      "source": [
        "arr3d"
      ]
    },
    {
      "cell_type": "code",
      "execution_count": 374,
      "metadata": {
        "colab": {
          "base_uri": "https://localhost:8080/"
        },
        "id": "Ng71UE7ULtqE",
        "outputId": "973d7ca0-3b15-43da-9b6b-43a7a91e9fd7"
      },
      "outputs": [
        {
          "data": {
            "text/plain": [
              "array([4, 5, 6])"
            ]
          },
          "execution_count": 374,
          "metadata": {},
          "output_type": "execute_result"
        }
      ],
      "source": [
        "arr3d[0,1]"
      ]
    },
    {
      "cell_type": "code",
      "execution_count": 375,
      "metadata": {
        "colab": {
          "base_uri": "https://localhost:8080/"
        },
        "id": "UhGsBLyyLzPg",
        "outputId": "9af83555-34f8-4cb7-801d-6f33e82df206"
      },
      "outputs": [
        {
          "data": {
            "text/plain": [
              "array([4, 5, 6])"
            ]
          },
          "execution_count": 375,
          "metadata": {},
          "output_type": "execute_result"
        }
      ],
      "source": [
        "arr3d[0][1]"
      ]
    },
    {
      "cell_type": "code",
      "execution_count": 193,
      "metadata": {
        "colab": {
          "base_uri": "https://localhost:8080/"
        },
        "id": "4t_KO3V7CgYZ",
        "outputId": "0697a470-9c11-4da7-814b-7df55a2a1ecb"
      },
      "outputs": [
        {
          "data": {
            "text/plain": [
              "array([[[  1, 100,   3],\n",
              "        [  4,   5,   6]],\n",
              "\n",
              "       [[  7,   8,   9],\n",
              "        [ 10,  11,  12]]])"
            ]
          },
          "execution_count": 193,
          "metadata": {},
          "output_type": "execute_result"
        }
      ],
      "source": [
        "arr3d"
      ]
    },
    {
      "cell_type": "code",
      "execution_count": 194,
      "metadata": {
        "colab": {
          "base_uri": "https://localhost:8080/"
        },
        "id": "T4rSU4kbMTML",
        "outputId": "a71e2519-9fcb-4eb7-ea97-8a4509dadf2c"
      },
      "outputs": [
        {
          "data": {
            "text/plain": [
              "array([[[  1, 100,   3],\n",
              "        [  4,   5,   6]]])"
            ]
          },
          "execution_count": 194,
          "metadata": {},
          "output_type": "execute_result"
        }
      ],
      "source": [
        "arr3d[:1,:2]"
      ]
    },
    {
      "cell_type": "markdown",
      "metadata": {
        "id": "Mr4X4xyMMfiO"
      },
      "source": [
        "only : operator indicates entire axis"
      ]
    },
    {
      "cell_type": "code",
      "execution_count": 195,
      "metadata": {
        "id": "F9mxwsEeMkYV"
      },
      "outputs": [
        {
          "data": {
            "text/plain": [
              "array([[[  1, 100,   3]],\n",
              "\n",
              "       [[  7,   8,   9]]])"
            ]
          },
          "execution_count": 195,
          "metadata": {},
          "output_type": "execute_result"
        }
      ],
      "source": [
        "arr3d[:,:1]"
      ]
    },
    {
      "cell_type": "markdown",
      "metadata": {
        "id": "ex4AIeKEPzLv"
      },
      "source": [
        "## Boolean indexing: access axis value on the basis of T/F\n",
        "Given is an array of names of students along with marks in three subjects for each student in array data"
      ]
    },
    {
      "cell_type": "code",
      "execution_count": 377,
      "metadata": {
        "colab": {
          "base_uri": "https://localhost:8080/"
        },
        "id": "i8u2UcAeQEWV",
        "outputId": "51d03ce0-b0a5-4535-9f38-1b2f3ecfb0a8"
      },
      "outputs": [
        {
          "data": {
            "text/plain": [
              "21"
            ]
          },
          "execution_count": 377,
          "metadata": {},
          "output_type": "execute_result"
        }
      ],
      "source": [
        "names = np.array(['Bob', 'Joe', 'Will', 'Bob', 'Will', 'Joe', 'Joe'])\n",
        "data = np.arange(10, 115,5) #100*randn\n",
        "data=data.reshape((7,3))\n",
        "names\n",
        "data.size"
      ]
    },
    {
      "cell_type": "code",
      "execution_count": 378,
      "metadata": {},
      "outputs": [
        {
          "data": {
            "text/plain": [
              "array([[ 10,  15,  20],\n",
              "       [ 25,  30,  35],\n",
              "       [ 40,  45,  50],\n",
              "       [ 55,  60,  65],\n",
              "       [ 70,  75,  80],\n",
              "       [ 85,  90,  95],\n",
              "       [100, 105, 110]])"
            ]
          },
          "execution_count": 378,
          "metadata": {},
          "output_type": "execute_result"
        }
      ],
      "source": [
        "data"
      ]
    },
    {
      "cell_type": "code",
      "execution_count": 379,
      "metadata": {
        "colab": {
          "base_uri": "https://localhost:8080/"
        },
        "id": "irfVtd2-QGB1",
        "outputId": "c5a70449-c907-4ad3-eba6-c2e4ceab44d1"
      },
      "outputs": [
        {
          "data": {
            "text/plain": [
              "array([False,  True, False, False, False,  True,  True])"
            ]
          },
          "execution_count": 379,
          "metadata": {},
          "output_type": "execute_result"
        }
      ],
      "source": [
        "names=='Joe'"
      ]
    },
    {
      "cell_type": "code",
      "execution_count": 380,
      "metadata": {
        "colab": {
          "base_uri": "https://localhost:8080/"
        },
        "id": "275uVZ-NRnkb",
        "outputId": "f3abfebc-a85f-4dd8-ecba-a4d53c17f4d6"
      },
      "outputs": [
        {
          "data": {
            "text/plain": [
              "array([[ 10,  15,  20],\n",
              "       [ 25,  30,  35],\n",
              "       [ 40,  45,  50],\n",
              "       [ 55,  60,  65],\n",
              "       [ 70,  75,  80],\n",
              "       [ 85,  90,  95],\n",
              "       [100, 105, 110]])"
            ]
          },
          "execution_count": 380,
          "metadata": {},
          "output_type": "execute_result"
        }
      ],
      "source": [
        "data"
      ]
    },
    {
      "cell_type": "markdown",
      "metadata": {
        "id": "IhEbLkgXQQpJ"
      },
      "source": [
        "#Boolean array must be same in length as that of axis size\n",
        "\n",
        "\n",
        "1.  Note that  logical keywords and/or/not cannot be directly used in boolean array instead use (&/|/!) signs \n",
        "2.   selecting data using boolean indexing always create a new copy. No change in source array\n",
        "\n"
      ]
    },
    {
      "cell_type": "code",
      "execution_count": 381,
      "metadata": {
        "colab": {
          "base_uri": "https://localhost:8080/"
        },
        "id": "dxyCqHTFQKPV",
        "outputId": "ad77114d-a72e-44cb-8b19-e763549b6d66"
      },
      "outputs": [
        {
          "data": {
            "text/plain": [
              "array([[ 25,  30,  35],\n",
              "       [ 85,  90,  95],\n",
              "       [100, 105, 110]])"
            ]
          },
          "execution_count": 381,
          "metadata": {},
          "output_type": "execute_result"
        }
      ],
      "source": [
        "data[names=='Joe']"
      ]
    },
    {
      "cell_type": "code",
      "execution_count": 382,
      "metadata": {
        "colab": {
          "base_uri": "https://localhost:8080/"
        },
        "id": "-v_kaMflQaP_",
        "outputId": "70c43afd-03e9-4772-9034-624032a0802f"
      },
      "outputs": [
        {
          "data": {
            "text/plain": [
              "array([ 35,  95, 110])"
            ]
          },
          "execution_count": 382,
          "metadata": {},
          "output_type": "execute_result"
        }
      ],
      "source": [
        "data[names == 'Joe', 2]"
      ]
    },
    {
      "cell_type": "code",
      "execution_count": 383,
      "metadata": {
        "colab": {
          "base_uri": "https://localhost:8080/"
        },
        "id": "H_bOma8UQQOF",
        "outputId": "7a1dbc59-13ea-48a0-d719-4ba1867b6e2e"
      },
      "outputs": [
        {
          "data": {
            "text/plain": [
              "array([[10, 15, 20],\n",
              "       [40, 45, 50],\n",
              "       [55, 60, 65],\n",
              "       [70, 75, 80]])"
            ]
          },
          "execution_count": 383,
          "metadata": {},
          "output_type": "execute_result"
        }
      ],
      "source": [
        "data[~(names=='Joe')]"
      ]
    },
    {
      "cell_type": "markdown",
      "metadata": {
        "id": "vprvt-fOQ9hA"
      },
      "source": [
        "## select those rows from data which corresponds to either 'Bob' or 'Joe'. "
      ]
    },
    {
      "cell_type": "code",
      "execution_count": 205,
      "metadata": {
        "colab": {
          "base_uri": "https://localhost:8080/"
        },
        "id": "Q6cWUKISSZj3",
        "outputId": "60be7672-b930-43eb-a084-f76c8e40236b"
      },
      "outputs": [
        {
          "data": {
            "text/plain": [
              "array(['Bob', 'Joe', 'Will', 'Bob', 'Will', 'Joe', 'Joe'], dtype='<U4')"
            ]
          },
          "execution_count": 205,
          "metadata": {},
          "output_type": "execute_result"
        }
      ],
      "source": [
        "names"
      ]
    },
    {
      "cell_type": "code",
      "execution_count": 384,
      "metadata": {
        "colab": {
          "base_uri": "https://localhost:8080/"
        },
        "id": "TyipTuARQ0vJ",
        "outputId": "8a64e0ef-e2f0-444a-a1c6-9a60ee4c2051"
      },
      "outputs": [
        {
          "data": {
            "text/plain": [
              "array([ True,  True, False,  True, False,  True,  True])"
            ]
          },
          "execution_count": 384,
          "metadata": {},
          "output_type": "execute_result"
        }
      ],
      "source": [
        "condition=  (names=='Joe')|(names=='Bob')\n",
        "condition"
      ]
    },
    {
      "cell_type": "code",
      "execution_count": 385,
      "metadata": {
        "colab": {
          "base_uri": "https://localhost:8080/"
        },
        "id": "gASRi8E-S1OP",
        "outputId": "1388ab8c-6d39-47c9-c7fb-9302ef3c179d"
      },
      "outputs": [
        {
          "data": {
            "text/plain": [
              "array([[ 10,  15,  20],\n",
              "       [ 25,  30,  35],\n",
              "       [ 55,  60,  65],\n",
              "       [ 85,  90,  95],\n",
              "       [100, 105, 110]])"
            ]
          },
          "execution_count": 385,
          "metadata": {},
          "output_type": "execute_result"
        }
      ],
      "source": [
        "data[condition]"
      ]
    },
    {
      "cell_type": "markdown",
      "metadata": {
        "id": "uwe14ZAXS8Zr"
      },
      "source": [
        "## select data for students who are not Bob or Joe"
      ]
    },
    {
      "cell_type": "code",
      "execution_count": null,
      "metadata": {
        "colab": {
          "base_uri": "https://localhost:8080/"
        },
        "id": "FlnkyPaFTDrK",
        "outputId": "84ccdf38-2000-4d19-9f5a-5015aea9f5ed"
      },
      "outputs": [
        {
          "data": {
            "text/plain": [
              "array(['Will', 'Will'], dtype='<U4')"
            ]
          },
          "execution_count": 110,
          "metadata": {
            "tags": []
          },
          "output_type": "execute_result"
        }
      ],
      "source": [
        "names[~condition]"
      ]
    },
    {
      "cell_type": "code",
      "execution_count": 208,
      "metadata": {
        "colab": {
          "base_uri": "https://localhost:8080/"
        },
        "id": "1QxPkwqMS54J",
        "outputId": "c4b9277a-de20-4b2c-8d2a-256c423794b4"
      },
      "outputs": [
        {
          "data": {
            "text/plain": [
              "array([[40, 45, 50],\n",
              "       [70, 75, 80]])"
            ]
          },
          "execution_count": 208,
          "metadata": {},
          "output_type": "execute_result"
        }
      ],
      "source": [
        "data[~condition]"
      ]
    },
    {
      "cell_type": "markdown",
      "metadata": {
        "id": "SCS_zK4nT2gD"
      },
      "source": [
        "## to set marks for 'will' to 0"
      ]
    },
    {
      "cell_type": "code",
      "execution_count": null,
      "metadata": {
        "colab": {
          "base_uri": "https://localhost:8080/"
        },
        "id": "wRB71CSxT_iN",
        "outputId": "8a537a36-4a5c-4f56-9811-368f9b9af558"
      },
      "outputs": [
        {
          "name": "stdout",
          "output_type": "stream",
          "text": [
            "[[ 10  15  20]\n",
            " [ 25  30  35]\n",
            " [ 40  45  50]\n",
            " [ 55  60  65]\n",
            " [ 70  75  80]\n",
            " [ 85  90  95]\n",
            " [100 105 110]] \n",
            " ['Bob' 'Joe' 'Will' 'Bob' 'Will' 'Joe' 'Joe']\n"
          ]
        }
      ],
      "source": [
        "print(data,'\\n',names)"
      ]
    },
    {
      "cell_type": "code",
      "execution_count": 387,
      "metadata": {
        "colab": {
          "base_uri": "https://localhost:8080/"
        },
        "id": "Gk2lI1KHT52Y",
        "outputId": "fc5eda63-a633-4710-cf1e-0235aaf5b2cd"
      },
      "outputs": [
        {
          "data": {
            "text/plain": [
              "array([[ 10,  15,  20],\n",
              "       [ 25,  30,  35],\n",
              "       [  0,   0,   0],\n",
              "       [ 55,  60,  65],\n",
              "       [  0,   0,   0],\n",
              "       [ 85,  90,  95],\n",
              "       [100, 105, 110]])"
            ]
          },
          "execution_count": 387,
          "metadata": {},
          "output_type": "execute_result"
        }
      ],
      "source": [
        "data[names=='Will']=0\n",
        "data"
      ]
    },
    {
      "cell_type": "code",
      "execution_count": 211,
      "metadata": {},
      "outputs": [
        {
          "data": {
            "text/plain": [
              "array([[ 10,  15,  20],\n",
              "       [ 25,  30,  35],\n",
              "       [  0,   0,   0],\n",
              "       [ 55,  60,  65],\n",
              "       [  0,   0,   0],\n",
              "       [ 85,  90,  95],\n",
              "       [100, 105, 110]])"
            ]
          },
          "execution_count": 211,
          "metadata": {},
          "output_type": "execute_result"
        }
      ],
      "source": [
        "data"
      ]
    },
    {
      "cell_type": "code",
      "execution_count": 212,
      "metadata": {
        "colab": {
          "base_uri": "https://localhost:8080/"
        },
        "id": "AlUGW5ePUVH9",
        "outputId": "b6c9c0dd-a79a-41ff-f422-4799e0949aa5"
      },
      "outputs": [
        {
          "data": {
            "text/plain": [
              "array([[ 10,  15,  20],\n",
              "       [ 25,  30,  35],\n",
              "       [  0,   0,   0],\n",
              "       [ 55,  60,  65],\n",
              "       [  0,   0,   0],\n",
              "       [ 85,  90,  95],\n",
              "       [100, 100, 100]])"
            ]
          },
          "execution_count": 212,
          "metadata": {},
          "output_type": "execute_result"
        }
      ],
      "source": [
        "data[data>100]=100\n",
        "data"
      ]
    },
    {
      "cell_type": "markdown",
      "metadata": {
        "id": "qfSQ-E6lUeT_"
      },
      "source": [
        "## Fancy indexing: indexing using integer array"
      ]
    },
    {
      "cell_type": "code",
      "execution_count": 213,
      "metadata": {
        "colab": {
          "base_uri": "https://localhost:8080/"
        },
        "id": "VuiP5VJpSQ6y",
        "outputId": "aca2a2f9-c4cc-4cf9-9fc5-221ebf9576c5"
      },
      "outputs": [
        {
          "data": {
            "text/plain": [
              "array([[ 10,  15,  20],\n",
              "       [ 25,  30,  35],\n",
              "       [  0,   0,   0],\n",
              "       [ 55,  60,  65],\n",
              "       [  0,   0,   0],\n",
              "       [ 85,  90,  95],\n",
              "       [100, 100, 100]])"
            ]
          },
          "execution_count": 213,
          "metadata": {},
          "output_type": "execute_result"
        }
      ],
      "source": [
        "data\n"
      ]
    },
    {
      "cell_type": "markdown",
      "metadata": {
        "id": "xOtTvp-fSviN"
      },
      "source": [
        "## get specified row indexes in an array, -ve index value starts accessing row from the last row as in list,\n",
        "to access rows in any order"
      ]
    },
    {
      "cell_type": "code",
      "execution_count": 214,
      "metadata": {
        "colab": {
          "base_uri": "https://localhost:8080/"
        },
        "id": "r08TPTKLSl94",
        "outputId": "f5243a68-c58f-4085-db98-3187a3a3ff00"
      },
      "outputs": [
        {
          "data": {
            "text/plain": [
              "array([[25, 30, 35],\n",
              "       [10, 15, 20],\n",
              "       [55, 60, 65]])"
            ]
          },
          "execution_count": 214,
          "metadata": {},
          "output_type": "execute_result"
        }
      ],
      "source": [
        "data[[1,0,3]]"
      ]
    },
    {
      "cell_type": "code",
      "execution_count": 215,
      "metadata": {
        "colab": {
          "base_uri": "https://localhost:8080/"
        },
        "id": "n9T3u0Z-SuBZ",
        "outputId": "db139c72-8d26-43c5-82fa-574e7981c1b1"
      },
      "outputs": [
        {
          "data": {
            "text/plain": [
              "array([[85, 90, 95],\n",
              "       [25, 30, 35]])"
            ]
          },
          "execution_count": 215,
          "metadata": {},
          "output_type": "execute_result"
        }
      ],
      "source": [
        "data[[-2,-6]]"
      ]
    },
    {
      "cell_type": "markdown",
      "metadata": {
        "id": "hf0lttbKTfKA"
      },
      "source": [
        "## to access particular elements using tuples of indices\n",
        "[x,y,z],[a,b,c]=>[x,a][y,b][z,c]\n",
        "Result of fancy index is always one dimensional array"
      ]
    },
    {
      "cell_type": "code",
      "execution_count": 216,
      "metadata": {
        "colab": {
          "base_uri": "https://localhost:8080/"
        },
        "id": "zckEPWebTLFk",
        "outputId": "9a80390d-8dbe-439c-cd10-436f398e1c64"
      },
      "outputs": [
        {
          "data": {
            "text/plain": [
              "array([25,  0,  0])"
            ]
          },
          "execution_count": 216,
          "metadata": {},
          "output_type": "execute_result"
        }
      ],
      "source": [
        "data[[1,2,4],[0,1,2]]"
      ]
    },
    {
      "cell_type": "markdown",
      "metadata": {
        "id": "oqvC4rinn_Tq"
      },
      "source": [
        "#retrieving subset of the specified rows"
      ]
    },
    {
      "cell_type": "code",
      "execution_count": 217,
      "metadata": {
        "colab": {
          "base_uri": "https://localhost:8080/"
        },
        "id": "7Xmr8rVzB_yU",
        "outputId": "a0d99737-416e-4457-f3fe-4336ae15baaf"
      },
      "outputs": [
        {
          "data": {
            "text/plain": [
              "array([[25, 30, 35],\n",
              "       [ 0,  0,  0],\n",
              "       [85, 90, 95]])"
            ]
          },
          "execution_count": 217,
          "metadata": {},
          "output_type": "execute_result"
        }
      ],
      "source": [
        "data[[1,2,5]]"
      ]
    },
    {
      "cell_type": "code",
      "execution_count": 101,
      "metadata": {
        "colab": {
          "base_uri": "https://localhost:8080/"
        },
        "id": "IGoiErchUJTt",
        "outputId": "3ab6b196-4fc6-4872-9c6a-15e20a3bda2f"
      },
      "outputs": [
        {
          "data": {
            "text/plain": [
              "array([[25, 35],\n",
              "       [40, 50],\n",
              "       [85, 95]])"
            ]
          },
          "execution_count": 101,
          "metadata": {
            "tags": []
          },
          "output_type": "execute_result"
        }
      ],
      "source": [
        "data[[1,2,5]][:,[0,2]]"
      ]
    },
    {
      "cell_type": "code",
      "execution_count": 218,
      "metadata": {
        "colab": {
          "base_uri": "https://localhost:8080/"
        },
        "id": "n1zpHM-eKO_7",
        "outputId": "ca329e1c-fe52-4fc6-dc2c-29c73bbe0040"
      },
      "outputs": [
        {
          "data": {
            "text/plain": [
              "array([[ 0,  0],\n",
              "       [85, 95]])"
            ]
          },
          "execution_count": 218,
          "metadata": {},
          "output_type": "execute_result"
        }
      ],
      "source": [
        "data[[1,2,5]][1:,[0,2]]"
      ]
    },
    {
      "cell_type": "markdown",
      "metadata": {
        "id": "HQY_PT9dT6DJ"
      },
      "source": [
        "## transpose of a matrix"
      ]
    },
    {
      "cell_type": "code",
      "execution_count": 219,
      "metadata": {
        "colab": {
          "base_uri": "https://localhost:8080/"
        },
        "id": "GGLRoCqSCgEA",
        "outputId": "81bc09e1-18f6-44af-dbb6-64ebd75e27a2"
      },
      "outputs": [
        {
          "data": {
            "text/plain": [
              "(7, 3)"
            ]
          },
          "execution_count": 219,
          "metadata": {},
          "output_type": "execute_result"
        }
      ],
      "source": [
        "data.shape"
      ]
    },
    {
      "cell_type": "code",
      "execution_count": 220,
      "metadata": {
        "id": "g7YtKRMeUfv7"
      },
      "outputs": [],
      "source": [
        "d1=data.T"
      ]
    },
    {
      "cell_type": "code",
      "execution_count": 221,
      "metadata": {
        "colab": {
          "base_uri": "https://localhost:8080/"
        },
        "id": "reU8hWPLCkdE",
        "outputId": "ec24d268-d150-40a2-c8a6-2cb2ca3adbb8"
      },
      "outputs": [
        {
          "data": {
            "text/plain": [
              "(7, 3)"
            ]
          },
          "execution_count": 221,
          "metadata": {},
          "output_type": "execute_result"
        }
      ],
      "source": [
        "data.shape"
      ]
    },
    {
      "cell_type": "code",
      "execution_count": 222,
      "metadata": {
        "colab": {
          "base_uri": "https://localhost:8080/"
        },
        "id": "-9wd9mdKCsGS",
        "outputId": "5a024aa0-6705-4653-e27e-fe732e860ac0"
      },
      "outputs": [
        {
          "data": {
            "text/plain": [
              "(3, 7)"
            ]
          },
          "execution_count": 222,
          "metadata": {},
          "output_type": "execute_result"
        }
      ],
      "source": [
        "d1.shape"
      ]
    },
    {
      "cell_type": "markdown",
      "metadata": {
        "id": "uIUEzXarLIU7"
      },
      "source": [
        "## shapes need to be aligned while using dot product=> matrix multuplication"
      ]
    },
    {
      "cell_type": "code",
      "execution_count": 223,
      "metadata": {
        "colab": {
          "base_uri": "https://localhost:8080/"
        },
        "id": "MscYvf49VBp-",
        "outputId": "c4e2a816-24fd-4398-e02d-c68b80181b13"
      },
      "outputs": [
        {
          "data": {
            "text/plain": [
              "array([[  725,  1400,     0,  2750,     0,  4100,  4500],\n",
              "       [ 1400,  2750,     0,  5450,     0,  8150,  9000],\n",
              "       [    0,     0,     0,     0,     0,     0,     0],\n",
              "       [ 2750,  5450,     0, 10850,     0, 16250, 18000],\n",
              "       [    0,     0,     0,     0,     0,     0,     0],\n",
              "       [ 4100,  8150,     0, 16250,     0, 24350, 27000],\n",
              "       [ 4500,  9000,     0, 18000,     0, 27000, 30000]])"
            ]
          },
          "execution_count": 223,
          "metadata": {},
          "output_type": "execute_result"
        }
      ],
      "source": [
        "np.dot(data,data.T)"
      ]
    },
    {
      "cell_type": "code",
      "execution_count": 388,
      "metadata": {
        "id": "JSHnOF31Kt8E"
      },
      "outputs": [],
      "source": [
        "data1=np.ones((3,2))\n",
        "data2=np.ones((2,3))"
      ]
    },
    {
      "cell_type": "code",
      "execution_count": 389,
      "metadata": {
        "colab": {
          "base_uri": "https://localhost:8080/"
        },
        "id": "Sy7nZq6UK4Pk",
        "outputId": "c06adb45-56f4-480c-810e-fad48645fea7"
      },
      "outputs": [
        {
          "data": {
            "text/plain": [
              "array([[2., 2., 2.],\n",
              "       [2., 2., 2.],\n",
              "       [2., 2., 2.]])"
            ]
          },
          "execution_count": 389,
          "metadata": {},
          "output_type": "execute_result"
        }
      ],
      "source": [
        "data1.dot(data2)"
      ]
    },
    {
      "cell_type": "code",
      "execution_count": 390,
      "metadata": {
        "colab": {
          "base_uri": "https://localhost:8080/",
          "height": 161
        },
        "id": "Vz2r6agWDXKt",
        "outputId": "364ceb44-92be-4959-f408-fd18e5ed9538"
      },
      "outputs": [
        {
          "ename": "ValueError",
          "evalue": "operands could not be broadcast together with shapes (3,2) (2,3) ",
          "output_type": "error",
          "traceback": [
            "\u001b[1;31m---------------------------------------------------------------------------\u001b[0m",
            "\u001b[1;31mValueError\u001b[0m                                Traceback (most recent call last)",
            "\u001b[1;32mC:\\Users\\SHARAN~1\\AppData\\Local\\Temp/ipykernel_20108/3368602581.py\u001b[0m in \u001b[0;36m<module>\u001b[1;34m\u001b[0m\n\u001b[1;32m----> 1\u001b[1;33m \u001b[0mdata1\u001b[0m\u001b[1;33m*\u001b[0m\u001b[0mdata2\u001b[0m\u001b[1;33m\u001b[0m\u001b[1;33m\u001b[0m\u001b[0m\n\u001b[0m",
            "\u001b[1;31mValueError\u001b[0m: operands could not be broadcast together with shapes (3,2) (2,3) "
          ]
        }
      ],
      "source": [
        "data1*data2"
      ]
    },
    {
      "cell_type": "code",
      "execution_count": 234,
      "metadata": {},
      "outputs": [
        {
          "data": {
            "text/plain": [
              "(7, 3)"
            ]
          },
          "execution_count": 234,
          "metadata": {},
          "output_type": "execute_result"
        }
      ],
      "source": [
        "data.shape"
      ]
    },
    {
      "cell_type": "code",
      "execution_count": 391,
      "metadata": {
        "colab": {
          "base_uri": "https://localhost:8080/"
        },
        "id": "0o5OJbGRLVWr",
        "outputId": "54be5fef-0015-4457-cbe4-938a1ffdc2eb"
      },
      "outputs": [
        {
          "data": {
            "text/plain": [
              "array([[1., 1.],\n",
              "       [1., 1.]])"
            ]
          },
          "execution_count": 391,
          "metadata": {},
          "output_type": "execute_result"
        }
      ],
      "source": [
        "data1[:2,0:2]*data2[:,0:2]"
      ]
    },
    {
      "cell_type": "markdown",
      "metadata": {
        "id": "gmj4C5QNouHC"
      },
      "source": [
        "## swapaxes: to swap two axes or dimesnions i.e. rows to columns and v.v."
      ]
    },
    {
      "cell_type": "code",
      "execution_count": 233,
      "metadata": {
        "colab": {
          "base_uri": "https://localhost:8080/"
        },
        "id": "yoEwGqLinmP4",
        "outputId": "76cd844a-d2d1-450e-baf1-08faeec9326e"
      },
      "outputs": [
        {
          "data": {
            "text/plain": [
              "(3, 7)"
            ]
          },
          "execution_count": 233,
          "metadata": {},
          "output_type": "execute_result"
        }
      ],
      "source": [
        "data.swapaxes(1,0).shape"
      ]
    },
    {
      "cell_type": "markdown",
      "metadata": {
        "id": "LYrnIo2Rnjxr"
      },
      "source": [
        "## generating a 3D array"
      ]
    },
    {
      "cell_type": "markdown",
      "metadata": {
        "id": "aJaDOYD11d7e"
      },
      "source": [
        "reshaping using object method"
      ]
    },
    {
      "cell_type": "markdown",
      "metadata": {
        "id": "wEnE_O2Z1MI9"
      },
      "source": [
        "#another alternative as passing array object as argument and get reshaped"
      ]
    },
    {
      "cell_type": "code",
      "execution_count": null,
      "metadata": {
        "id": "nbSJ5LJk013F"
      },
      "outputs": [],
      "source": [
        "L=np.random.randn(15)\n",
        "L1=np.reshape(L,(3,5))\n",
        "L1"
      ]
    },
    {
      "cell_type": "code",
      "execution_count": 114,
      "metadata": {
        "colab": {
          "base_uri": "https://localhost:8080/"
        },
        "id": "Ko9Gb9VC0ViP",
        "outputId": "35ad683d-acdb-4f9c-ad46-428589f76570"
      },
      "outputs": [
        {
          "name": "stdout",
          "output_type": "stream",
          "text": [
            "(24,) (4, 6)\n"
          ]
        }
      ],
      "source": [
        "L=np.arange(0,24)\n",
        "L1=L.reshape((4,6))\n",
        "print(L.shape,L1.shape)"
      ]
    },
    {
      "cell_type": "code",
      "execution_count": 115,
      "metadata": {
        "colab": {
          "base_uri": "https://localhost:8080/"
        },
        "id": "7MG2EsO8ME6m",
        "outputId": "9eeb32df-b754-4835-85d1-00b9c6d3680c"
      },
      "outputs": [
        {
          "name": "stdout",
          "output_type": "stream",
          "text": [
            "[[ 0  1  2  3  4  5]\n",
            " [ 6  7  8  9 10 11]\n",
            " [12 13 14 15 16 17]\n",
            " [18 19 20 21 22 23]]\n"
          ]
        }
      ],
      "source": [
        "print(L1)"
      ]
    },
    {
      "cell_type": "markdown",
      "metadata": {
        "id": "lKSptlDZm5wE"
      },
      "source": [
        "## in 3D, transpose takes axis numbers to be reordered where axis\n",
        "0: matrix\n",
        "1:row\n",
        "2:column"
      ]
    },
    {
      "cell_type": "code",
      "execution_count": 116,
      "metadata": {
        "id": "zsv0OPL6UrxW"
      },
      "outputs": [],
      "source": [
        "arr1=np.arange(0,24).reshape((2,4,3))"
      ]
    },
    {
      "cell_type": "code",
      "execution_count": 117,
      "metadata": {
        "colab": {
          "base_uri": "https://localhost:8080/"
        },
        "id": "Coe8g5NJVcm4",
        "outputId": "be6c7310-2573-4da8-a7be-d28d5ec63853"
      },
      "outputs": [
        {
          "data": {
            "text/plain": [
              "array([[[ 0,  1,  2],\n",
              "        [ 3,  4,  5],\n",
              "        [ 6,  7,  8],\n",
              "        [ 9, 10, 11]],\n",
              "\n",
              "       [[12, 13, 14],\n",
              "        [15, 16, 17],\n",
              "        [18, 19, 20],\n",
              "        [21, 22, 23]]])"
            ]
          },
          "execution_count": 117,
          "metadata": {
            "tags": []
          },
          "output_type": "execute_result"
        }
      ],
      "source": [
        "arr1"
      ]
    },
    {
      "cell_type": "code",
      "execution_count": null,
      "metadata": {
        "colab": {
          "base_uri": "https://localhost:8080/"
        },
        "id": "zu8WWZ-2MWEg",
        "outputId": "e0afbc81-73ae-4444-aaed-bf74397b7489"
      },
      "outputs": [
        {
          "name": "stdout",
          "output_type": "stream",
          "text": [
            "3 (2, 4, 3)\n"
          ]
        }
      ],
      "source": [
        "print(arr1.ndim,arr1.shape)"
      ]
    },
    {
      "cell_type": "code",
      "execution_count": 118,
      "metadata": {
        "colab": {
          "base_uri": "https://localhost:8080/"
        },
        "id": "h-xuuvYvVKvz",
        "outputId": "230bfa7d-b885-4c9c-cd86-c79a24e79c47"
      },
      "outputs": [
        {
          "data": {
            "text/plain": [
              "array([[[ 0,  1,  2],\n",
              "        [ 3,  4,  5],\n",
              "        [ 6,  7,  8],\n",
              "        [ 9, 10, 11]],\n",
              "\n",
              "       [[12, 13, 14],\n",
              "        [15, 16, 17],\n",
              "        [18, 19, 20],\n",
              "        [21, 22, 23]]])"
            ]
          },
          "execution_count": 118,
          "metadata": {
            "tags": []
          },
          "output_type": "execute_result"
        }
      ],
      "source": [
        "arr1.transpose((0,1,2))"
      ]
    },
    {
      "cell_type": "code",
      "execution_count": null,
      "metadata": {
        "id": "ad9HWPT1k3z4"
      },
      "outputs": [],
      "source": [
        "arr1.transpose((2,1,0))"
      ]
    },
    {
      "cell_type": "markdown",
      "metadata": {
        "id": "EHGmDx0AmsRW"
      },
      "source": [
        "#make new 3D list  using row,col,matrix"
      ]
    },
    {
      "cell_type": "code",
      "execution_count": 121,
      "metadata": {
        "colab": {
          "base_uri": "https://localhost:8080/"
        },
        "id": "xFDPwZwsmD3Z",
        "outputId": "ece3dfc8-1674-436d-ac3f-b5acfa551dbf"
      },
      "outputs": [
        {
          "data": {
            "text/plain": [
              "array([[[ 0, 12],\n",
              "        [ 1, 13],\n",
              "        [ 2, 14]],\n",
              "\n",
              "       [[ 3, 15],\n",
              "        [ 4, 16],\n",
              "        [ 5, 17]],\n",
              "\n",
              "       [[ 6, 18],\n",
              "        [ 7, 19],\n",
              "        [ 8, 20]],\n",
              "\n",
              "       [[ 9, 21],\n",
              "        [10, 22],\n",
              "        [11, 23]]])"
            ]
          },
          "execution_count": 121,
          "metadata": {
            "tags": []
          },
          "output_type": "execute_result"
        }
      ],
      "source": [
        "arr1.transpose((1,2,0))"
      ]
    },
    {
      "cell_type": "code",
      "execution_count": 122,
      "metadata": {
        "colab": {
          "base_uri": "https://localhost:8080/"
        },
        "id": "rSPO5VKklCcS",
        "outputId": "4ecba810-929e-4987-fc18-0bc93bb1a852"
      },
      "outputs": [
        {
          "data": {
            "text/plain": [
              "array([[[ 0,  1,  2],\n",
              "        [ 3,  4,  5],\n",
              "        [ 6,  7,  8],\n",
              "        [ 9, 10, 11]],\n",
              "\n",
              "       [[12, 13, 14],\n",
              "        [15, 16, 17],\n",
              "        [18, 19, 20],\n",
              "        [21, 22, 23]]])"
            ]
          },
          "execution_count": 122,
          "metadata": {
            "tags": []
          },
          "output_type": "execute_result"
        }
      ],
      "source": [
        "arr1"
      ]
    },
    {
      "cell_type": "markdown",
      "metadata": {
        "id": "cVcmiL7VodHH"
      },
      "source": [
        "#need to transpose each matrix in the given 3D array"
      ]
    },
    {
      "cell_type": "code",
      "execution_count": 119,
      "metadata": {
        "colab": {
          "base_uri": "https://localhost:8080/"
        },
        "id": "dpS66Prsom-P",
        "outputId": "3e31be69-7b2c-44f7-d2cb-15b720ba21bc"
      },
      "outputs": [
        {
          "data": {
            "text/plain": [
              "array([[[ 0,  3,  6,  9],\n",
              "        [ 1,  4,  7, 10],\n",
              "        [ 2,  5,  8, 11]],\n",
              "\n",
              "       [[12, 15, 18, 21],\n",
              "        [13, 16, 19, 22],\n",
              "        [14, 17, 20, 23]]])"
            ]
          },
          "execution_count": 119,
          "metadata": {
            "tags": []
          },
          "output_type": "execute_result"
        }
      ],
      "source": [
        "arr1.transpose((0,2,1))"
      ]
    },
    {
      "cell_type": "markdown",
      "metadata": {
        "id": "H-umyw_7oqi8"
      },
      "source": [
        "#alternative use swapaxes()"
      ]
    },
    {
      "cell_type": "code",
      "execution_count": null,
      "metadata": {
        "colab": {
          "base_uri": "https://localhost:8080/"
        },
        "id": "Jm2SGyc6V9Bk",
        "outputId": "56ece680-d1ff-4963-e811-98218c398707"
      },
      "outputs": [
        {
          "data": {
            "text/plain": [
              "array([[[ 0,  3,  6,  9],\n",
              "        [ 1,  4,  7, 10],\n",
              "        [ 2,  5,  8, 11]],\n",
              "\n",
              "       [[12, 15, 18, 21],\n",
              "        [13, 16, 19, 22],\n",
              "        [14, 17, 20, 23]]])"
            ]
          },
          "execution_count": 20,
          "metadata": {
            "tags": []
          },
          "output_type": "execute_result"
        }
      ],
      "source": [
        "arr1.swapaxes(2,1)"
      ]
    },
    {
      "cell_type": "code",
      "execution_count": null,
      "metadata": {
        "colab": {
          "base_uri": "https://localhost:8080/"
        },
        "id": "JhjkIBSNOS47",
        "outputId": "30cb7893-11ab-4351-d916-e2bd684aeb55"
      },
      "outputs": [
        {
          "data": {
            "text/plain": [
              "array([[[ 0,  1,  2],\n",
              "        [12, 13, 14]],\n",
              "\n",
              "       [[ 3,  4,  5],\n",
              "        [15, 16, 17]],\n",
              "\n",
              "       [[ 6,  7,  8],\n",
              "        [18, 19, 20]],\n",
              "\n",
              "       [[ 9, 10, 11],\n",
              "        [21, 22, 23]]])"
            ]
          },
          "execution_count": 25,
          "metadata": {
            "tags": []
          },
          "output_type": "execute_result"
        }
      ],
      "source": [
        "arr1.swapaxes(0,1)"
      ]
    },
    {
      "cell_type": "markdown",
      "metadata": {
        "id": "s7CN9C0GqCOt"
      },
      "source": [
        "#statistical  methods sum() mean() cumsum() cumprod()"
      ]
    },
    {
      "cell_type": "code",
      "execution_count": 123,
      "metadata": {
        "colab": {
          "base_uri": "https://localhost:8080/"
        },
        "id": "59F0gV-cqtMk",
        "outputId": "e85b3c6a-b0d7-458c-baf1-b9ee949251d1"
      },
      "outputs": [
        {
          "data": {
            "text/plain": [
              "array([[ 10,  15,  20],\n",
              "       [ 25,  30,  35],\n",
              "       [ 40,  45,  50],\n",
              "       [ 55,  60,  65],\n",
              "       [ 70,  75,  80],\n",
              "       [ 85,  90,  95],\n",
              "       [100, 105, 110]])"
            ]
          },
          "execution_count": 123,
          "metadata": {
            "tags": []
          },
          "output_type": "execute_result"
        }
      ],
      "source": [
        "data"
      ]
    },
    {
      "cell_type": "code",
      "execution_count": null,
      "metadata": {
        "colab": {
          "base_uri": "https://localhost:8080/"
        },
        "id": "RZ0VhpskrPXK",
        "outputId": "4ce9444d-37c7-4032-9019-698d71ead6ef"
      },
      "outputs": [
        {
          "data": {
            "text/plain": [
              "(7, 3)"
            ]
          },
          "execution_count": 29,
          "metadata": {
            "tags": []
          },
          "output_type": "execute_result"
        }
      ],
      "source": [
        "data.shape"
      ]
    },
    {
      "cell_type": "code",
      "execution_count": 392,
      "metadata": {
        "colab": {
          "base_uri": "https://localhost:8080/"
        },
        "id": "jX4lyylUqvoR",
        "outputId": "324f9e10-d4ff-40e7-cbf2-4e937b0bdf48"
      },
      "outputs": [
        {
          "data": {
            "text/plain": [
              "900"
            ]
          },
          "execution_count": 392,
          "metadata": {},
          "output_type": "execute_result"
        }
      ],
      "source": [
        "data.sum()"
      ]
    },
    {
      "cell_type": "code",
      "execution_count": 394,
      "metadata": {},
      "outputs": [
        {
          "data": {
            "text/plain": [
              "array([[ 10,  15,  20],\n",
              "       [ 25,  30,  35],\n",
              "       [  0,   0,   0],\n",
              "       [ 55,  60,  65],\n",
              "       [  0,   0,   0],\n",
              "       [ 85,  90,  95],\n",
              "       [100, 105, 110]])"
            ]
          },
          "execution_count": 394,
          "metadata": {},
          "output_type": "execute_result"
        }
      ],
      "source": [
        "data"
      ]
    },
    {
      "cell_type": "markdown",
      "metadata": {
        "id": "zTwIsvfLrXSg"
      },
      "source": [
        "#sum along columns resulted in an array of one less dimension"
      ]
    },
    {
      "cell_type": "code",
      "execution_count": 395,
      "metadata": {
        "colab": {
          "base_uri": "https://localhost:8080/"
        },
        "id": "hgZEP7WSqyYs",
        "outputId": "e1d2c4a4-f5f0-4917-f7d8-b1cbafed442b"
      },
      "outputs": [
        {
          "data": {
            "text/plain": [
              "array([275, 300, 325])"
            ]
          },
          "execution_count": 395,
          "metadata": {},
          "output_type": "execute_result"
        }
      ],
      "source": [
        "data.sum(axis=0)"
      ]
    },
    {
      "cell_type": "code",
      "execution_count": 126,
      "metadata": {
        "colab": {
          "base_uri": "https://localhost:8080/"
        },
        "id": "Noy8WH22ITVH",
        "outputId": "f38e9d96-94a5-4e6e-8113-0232aa6169c7"
      },
      "outputs": [
        {
          "data": {
            "text/plain": [
              "array([385, 420, 455])"
            ]
          },
          "execution_count": 126,
          "metadata": {
            "tags": []
          },
          "output_type": "execute_result"
        }
      ],
      "source": [
        "data.sum(axis=0)"
      ]
    },
    {
      "cell_type": "code",
      "execution_count": null,
      "metadata": {
        "colab": {
          "base_uri": "https://localhost:8080/"
        },
        "id": "E3CvpgnoqPVa",
        "outputId": "662daff4-8b5a-4e55-82bd-4639e06da9be"
      },
      "outputs": [
        {
          "data": {
            "text/plain": [
              "276"
            ]
          },
          "execution_count": 27,
          "metadata": {
            "tags": []
          },
          "output_type": "execute_result"
        }
      ],
      "source": [
        "arr1.sum()"
      ]
    },
    {
      "cell_type": "code",
      "execution_count": 127,
      "metadata": {
        "colab": {
          "base_uri": "https://localhost:8080/"
        },
        "id": "1wCwou6WsApi",
        "outputId": "4402f74f-73b1-40f4-e0aa-3af02a3f94f7"
      },
      "outputs": [
        {
          "data": {
            "text/plain": [
              "array([[ 10,  15,  20],\n",
              "       [ 25,  30,  35],\n",
              "       [  0,   0,   0],\n",
              "       [  0,   0,   0],\n",
              "       [ 70,  75,  80],\n",
              "       [ 85,  90,  95],\n",
              "       [100, 105, 110]])"
            ]
          },
          "execution_count": 127,
          "metadata": {
            "tags": []
          },
          "output_type": "execute_result"
        }
      ],
      "source": [
        "data[2:4]=0\n",
        "data"
      ]
    },
    {
      "cell_type": "code",
      "execution_count": null,
      "metadata": {
        "colab": {
          "base_uri": "https://localhost:8080/"
        },
        "id": "N6ZzVCHgPfiO",
        "outputId": "86c43c1a-48be-4219-8317-2c86d7c85f34"
      },
      "outputs": [
        {
          "data": {
            "text/plain": [
              "array([[[ 0,  1,  2],\n",
              "        [ 3,  4,  5],\n",
              "        [ 6,  7,  8],\n",
              "        [ 9, 10, 11]],\n",
              "\n",
              "       [[12, 13, 14],\n",
              "        [15, 16, 17],\n",
              "        [18, 19, 20],\n",
              "        [21, 22, 23]]])"
            ]
          },
          "execution_count": 31,
          "metadata": {
            "tags": []
          },
          "output_type": "execute_result"
        }
      ],
      "source": [
        "arr1"
      ]
    },
    {
      "cell_type": "markdown",
      "metadata": {
        "id": "Ey0P762_PtHB"
      },
      "source": [
        "#accessing a matrix using fancy index"
      ]
    },
    {
      "cell_type": "code",
      "execution_count": 139,
      "metadata": {
        "colab": {
          "base_uri": "https://localhost:8080/"
        },
        "id": "CzbpegzcPi8s",
        "outputId": "cb139e0e-9091-48ba-cbc9-1addc42fb6a1"
      },
      "outputs": [
        {
          "data": {
            "text/plain": [
              "(1, 4, 3)"
            ]
          },
          "execution_count": 139,
          "metadata": {
            "tags": []
          },
          "output_type": "execute_result"
        }
      ],
      "source": [
        "arr1[[1]].shape"
      ]
    },
    {
      "cell_type": "code",
      "execution_count": 138,
      "metadata": {
        "colab": {
          "base_uri": "https://localhost:8080/"
        },
        "id": "dODKi1HXPxsx",
        "outputId": "b554d5ff-2131-4fcd-ec3d-3052cce833ed"
      },
      "outputs": [
        {
          "data": {
            "text/plain": [
              "array([[19, 22]])"
            ]
          },
          "execution_count": 138,
          "metadata": {
            "tags": []
          },
          "output_type": "execute_result"
        }
      ],
      "source": [
        "arr1[[1]][:,2:,1]"
      ]
    },
    {
      "cell_type": "code",
      "execution_count": 141,
      "metadata": {
        "colab": {
          "base_uri": "https://localhost:8080/"
        },
        "id": "stISj2OTqS67",
        "outputId": "0b98520b-119f-42a6-ffbf-4af806a3e3b3"
      },
      "outputs": [
        {
          "data": {
            "text/plain": [
              "array([[18, 22, 26],\n",
              "       [66, 70, 74]])"
            ]
          },
          "execution_count": 141,
          "metadata": {
            "tags": []
          },
          "output_type": "execute_result"
        }
      ],
      "source": [
        "arr1.sum(axis=1)"
      ]
    },
    {
      "cell_type": "code",
      "execution_count": 142,
      "metadata": {
        "colab": {
          "base_uri": "https://localhost:8080/"
        },
        "id": "yWgFsmrSr2DS",
        "outputId": "aac6e5f1-fe52-42e6-bfea-24d373ddf9a5"
      },
      "outputs": [
        {
          "data": {
            "text/plain": [
              "array([0.80276013, 0.12935599, 0.86526157, 0.20223303, 0.4075163 ])"
            ]
          },
          "execution_count": 142,
          "metadata": {
            "tags": []
          },
          "output_type": "execute_result"
        }
      ],
      "source": [
        "L1=np.random.rand(5)\n",
        "L1"
      ]
    },
    {
      "cell_type": "code",
      "execution_count": 143,
      "metadata": {
        "colab": {
          "base_uri": "https://localhost:8080/"
        },
        "id": "NXsMjg-zsgGP",
        "outputId": "551aaec1-7632-47d7-d380-e52a1b3ed2fd"
      },
      "outputs": [
        {
          "data": {
            "text/plain": [
              "array([0.12935599, 0.20223303, 0.4075163 , 0.80276013, 0.86526157])"
            ]
          },
          "execution_count": 143,
          "metadata": {
            "tags": []
          },
          "output_type": "execute_result"
        }
      ],
      "source": [
        "L1.sort()\n",
        "L1"
      ]
    },
    {
      "cell_type": "code",
      "execution_count": null,
      "metadata": {
        "id": "OfGHnFQNymaV"
      },
      "outputs": [],
      "source": []
    },
    {
      "cell_type": "markdown",
      "metadata": {
        "id": "qRT7g-LHo2Fr"
      },
      "source": [
        "#\n",
        "Let  us revise"
      ]
    },
    {
      "cell_type": "code",
      "execution_count": 144,
      "metadata": {
        "colab": {
          "base_uri": "https://localhost:8080/"
        },
        "id": "BsmeIigiIwjr",
        "outputId": "9c0c631c-df93-4e2f-b266-220ee33b398f"
      },
      "outputs": [
        {
          "data": {
            "text/plain": [
              "array([ 91,  88, 118,  46,  30, 110,  19,  58,  16,  26, 110,  47,  60,\n",
              "         9,  83,  62])"
            ]
          },
          "execution_count": 144,
          "metadata": {
            "tags": []
          },
          "output_type": "execute_result"
        }
      ],
      "source": [
        "a=np.random.randint(1,120,16)\n",
        "a"
      ]
    },
    {
      "cell_type": "code",
      "execution_count": 145,
      "metadata": {
        "id": "Kzfz1sEoRXyx"
      },
      "outputs": [],
      "source": [
        "a.shape=(4,4)"
      ]
    },
    {
      "cell_type": "code",
      "execution_count": 146,
      "metadata": {
        "colab": {
          "base_uri": "https://localhost:8080/"
        },
        "id": "BnbqafbrRtzj",
        "outputId": "8bf0eb45-f9a4-4e85-ab24-ee3a34691e3b"
      },
      "outputs": [
        {
          "data": {
            "text/plain": [
              "array([[ 91,  88, 118,  46],\n",
              "       [ 30, 110,  19,  58],\n",
              "       [ 16,  26, 110,  47],\n",
              "       [ 60,   9,  83,  62]])"
            ]
          },
          "execution_count": 146,
          "metadata": {
            "tags": []
          },
          "output_type": "execute_result"
        }
      ],
      "source": [
        "a"
      ]
    },
    {
      "cell_type": "code",
      "execution_count": null,
      "metadata": {
        "id": "oxDJleM-RlNJ"
      },
      "outputs": [],
      "source": [
        "a[-2]"
      ]
    },
    {
      "cell_type": "code",
      "execution_count": 148,
      "metadata": {
        "colab": {
          "base_uri": "https://localhost:8080/"
        },
        "id": "0TcuAv-NRw8V",
        "outputId": "90dfd654-670c-46fa-a1fb-c025952cc3d5"
      },
      "outputs": [
        {
          "data": {
            "text/plain": [
              "array([[110,  19],\n",
              "       [ 26, 110],\n",
              "       [  9,  83]])"
            ]
          },
          "execution_count": 148,
          "metadata": {
            "tags": []
          },
          "output_type": "execute_result"
        }
      ],
      "source": [
        "a[1:,-3:-1]"
      ]
    },
    {
      "cell_type": "code",
      "execution_count": 149,
      "metadata": {
        "id": "PkXeDn77SBJU"
      },
      "outputs": [],
      "source": [
        "a[[1,2]]=100"
      ]
    },
    {
      "cell_type": "code",
      "execution_count": 152,
      "metadata": {
        "colab": {
          "base_uri": "https://localhost:8080/"
        },
        "id": "v7js52tUSRqj",
        "outputId": "15012f30-c9a7-4d57-d515-890a4feed4fe"
      },
      "outputs": [
        {
          "data": {
            "text/plain": [
              "array([[ 91,  88, 118,  46],\n",
              "       [100, 100, 100, 100],\n",
              "       [100, 100, 100, 100],\n",
              "       [ 60,   9,  83,  62]])"
            ]
          },
          "execution_count": 152,
          "metadata": {
            "tags": []
          },
          "output_type": "execute_result"
        }
      ],
      "source": [
        "a"
      ]
    },
    {
      "cell_type": "code",
      "execution_count": 153,
      "metadata": {
        "colab": {
          "base_uri": "https://localhost:8080/"
        },
        "id": "PmqXmR0ZSjiq",
        "outputId": "5e3f8cdd-1f76-4248-b1e8-6c66800bd869"
      },
      "outputs": [
        {
          "data": {
            "text/plain": [
              "array([1, 2, 3, 4])"
            ]
          },
          "execution_count": 153,
          "metadata": {
            "tags": []
          },
          "output_type": "execute_result"
        }
      ],
      "source": [
        "a1=np.arange(1,5,1)\n",
        "a1"
      ]
    },
    {
      "cell_type": "markdown",
      "metadata": {
        "id": "o6pIUb_ETfBT"
      },
      "source": [
        "#broadcasting on a matrix, one of the index should match\n",
        "    + and * is commutative and elementwise\n",
        "    - and / is not commutative but elementwise"
      ]
    },
    {
      "cell_type": "code",
      "execution_count": 154,
      "metadata": {
        "colab": {
          "base_uri": "https://localhost:8080/"
        },
        "id": "FK4X_QF9TAaW",
        "outputId": "2685007e-7685-4e75-eea3-c755abcd5e6d"
      },
      "outputs": [
        {
          "data": {
            "text/plain": [
              "array([[ 92,  90, 121,  50],\n",
              "       [101, 102, 103, 104],\n",
              "       [101, 102, 103, 104],\n",
              "       [ 61,  11,  86,  66]])"
            ]
          },
          "execution_count": 154,
          "metadata": {
            "tags": []
          },
          "output_type": "execute_result"
        }
      ],
      "source": [
        "a+a1"
      ]
    },
    {
      "cell_type": "code",
      "execution_count": 45,
      "metadata": {
        "colab": {
          "base_uri": "https://localhost:8080/"
        },
        "id": "YJgmRaw9inE5",
        "outputId": "d86dd90e-964d-4025-f90e-e6d047800315"
      },
      "outputs": [
        {
          "data": {
            "text/plain": [
              "array([[ 49,  50,  15,  50],\n",
              "       [100, 100, 100, 100],\n",
              "       [100, 100, 100, 100],\n",
              "       [ 27,  90,  81,  89]])"
            ]
          },
          "execution_count": 45,
          "metadata": {
            "tags": []
          },
          "output_type": "execute_result"
        }
      ],
      "source": [
        "a"
      ]
    },
    {
      "cell_type": "code",
      "execution_count": 155,
      "metadata": {
        "id": "WNcPUvVtVpMM"
      },
      "outputs": [],
      "source": [
        "a=np.ones((3,4))"
      ]
    },
    {
      "cell_type": "code",
      "execution_count": 156,
      "metadata": {
        "colab": {
          "base_uri": "https://localhost:8080/"
        },
        "id": "jeGzjc0uVu4z",
        "outputId": "c9a1c6bd-f09f-4cf1-8411-912cedfbaeaa"
      },
      "outputs": [
        {
          "data": {
            "text/plain": [
              "array([[1., 1., 1., 1.],\n",
              "       [1., 1., 1., 1.],\n",
              "       [1., 1., 1., 1.]])"
            ]
          },
          "execution_count": 156,
          "metadata": {
            "tags": []
          },
          "output_type": "execute_result"
        }
      ],
      "source": [
        "a"
      ]
    },
    {
      "cell_type": "code",
      "execution_count": 48,
      "metadata": {
        "colab": {
          "base_uri": "https://localhost:8080/"
        },
        "id": "q7HhIJrKVxXG",
        "outputId": "8781e94c-5192-47d5-bc86-479e7060e399"
      },
      "outputs": [
        {
          "data": {
            "text/plain": [
              "array([1, 2, 3, 4])"
            ]
          },
          "execution_count": 48,
          "metadata": {
            "tags": []
          },
          "output_type": "execute_result"
        }
      ],
      "source": [
        "a1"
      ]
    },
    {
      "cell_type": "code",
      "execution_count": 157,
      "metadata": {
        "colab": {
          "base_uri": "https://localhost:8080/"
        },
        "id": "uza4RaSHV38b",
        "outputId": "83bb18e8-1eef-437f-ac34-febcd70e8211"
      },
      "outputs": [
        {
          "data": {
            "text/plain": [
              "array([[1., 2., 3., 4.],\n",
              "       [1., 2., 3., 4.],\n",
              "       [1., 2., 3., 4.]])"
            ]
          },
          "execution_count": 157,
          "metadata": {
            "tags": []
          },
          "output_type": "execute_result"
        }
      ],
      "source": [
        "a*a1"
      ]
    },
    {
      "cell_type": "code",
      "execution_count": 158,
      "metadata": {
        "colab": {
          "base_uri": "https://localhost:8080/"
        },
        "id": "IsYZykTUh7M0",
        "outputId": "f6ff0f22-b434-4590-dc45-bf34d25a013d"
      },
      "outputs": [
        {
          "data": {
            "text/plain": [
              "array([[1., 2., 3., 4.],\n",
              "       [1., 2., 3., 4.],\n",
              "       [1., 2., 3., 4.]])"
            ]
          },
          "execution_count": 158,
          "metadata": {
            "tags": []
          },
          "output_type": "execute_result"
        }
      ],
      "source": [
        "a1*a"
      ]
    },
    {
      "cell_type": "code",
      "execution_count": 159,
      "metadata": {
        "colab": {
          "base_uri": "https://localhost:8080/"
        },
        "id": "WptgsoiUjACj",
        "outputId": "515ef154-9edd-4d17-8c7f-bcc66d879f06"
      },
      "outputs": [
        {
          "data": {
            "text/plain": [
              "array([[0., 1., 2., 3.],\n",
              "       [0., 1., 2., 3.],\n",
              "       [0., 1., 2., 3.]])"
            ]
          },
          "execution_count": 159,
          "metadata": {
            "tags": []
          },
          "output_type": "execute_result"
        }
      ],
      "source": [
        "a1-a"
      ]
    },
    {
      "cell_type": "code",
      "execution_count": 160,
      "metadata": {
        "colab": {
          "base_uri": "https://localhost:8080/"
        },
        "id": "MPF8pMLujEee",
        "outputId": "d2b015ae-f650-41cd-a626-9e418717d3d7"
      },
      "outputs": [
        {
          "data": {
            "text/plain": [
              "array([[ 0., -1., -2., -3.],\n",
              "       [ 0., -1., -2., -3.],\n",
              "       [ 0., -1., -2., -3.]])"
            ]
          },
          "execution_count": 160,
          "metadata": {
            "tags": []
          },
          "output_type": "execute_result"
        }
      ],
      "source": [
        "a-a1"
      ]
    },
    {
      "cell_type": "code",
      "execution_count": 163,
      "metadata": {
        "id": "-zIx8P5JVDUI"
      },
      "outputs": [],
      "source": [
        "a=np.ones((3,1))\n",
        "a1=np.arange(1,5)"
      ]
    },
    {
      "cell_type": "code",
      "execution_count": 164,
      "metadata": {
        "colab": {
          "base_uri": "https://localhost:8080/"
        },
        "id": "JX6BldmxVMGF",
        "outputId": "bac1a0fc-1f67-4cd4-c11b-2d08e1fec28d"
      },
      "outputs": [
        {
          "name": "stdout",
          "output_type": "stream",
          "text": [
            "(3, 1) (4,)\n"
          ]
        }
      ],
      "source": [
        "print(a.shape,a1.shape)"
      ]
    },
    {
      "cell_type": "code",
      "execution_count": 166,
      "metadata": {
        "colab": {
          "base_uri": "https://localhost:8080/"
        },
        "id": "w8JAy5JNjY-k",
        "outputId": "bf64338d-f435-4633-d93a-008302952075"
      },
      "outputs": [
        {
          "name": "stdout",
          "output_type": "stream",
          "text": [
            "[[1.]\n",
            " [1.]\n",
            " [1.]] \n",
            " [1 2 3 4]\n"
          ]
        }
      ],
      "source": [
        "print(a,'\\n',a1)"
      ]
    },
    {
      "cell_type": "code",
      "execution_count": 165,
      "metadata": {
        "colab": {
          "base_uri": "https://localhost:8080/"
        },
        "id": "uSA8GJL0VS8R",
        "outputId": "6027a070-c218-4c48-9c11-904f1e87c074"
      },
      "outputs": [
        {
          "data": {
            "text/plain": [
              "array([[2., 3., 4., 5.],\n",
              "       [2., 3., 4., 5.],\n",
              "       [2., 3., 4., 5.]])"
            ]
          },
          "execution_count": 165,
          "metadata": {
            "tags": []
          },
          "output_type": "execute_result"
        }
      ],
      "source": [
        "a+a1"
      ]
    },
    {
      "cell_type": "code",
      "execution_count": 57,
      "metadata": {
        "colab": {
          "base_uri": "https://localhost:8080/"
        },
        "id": "3-Vuq6DZVYG2",
        "outputId": "340fadc7-f81f-4238-cf45-e967618c013f"
      },
      "outputs": [
        {
          "data": {
            "text/plain": [
              "array([[1., 2., 3.],\n",
              "       [1., 2., 3.],\n",
              "       [1., 2., 3.]])"
            ]
          },
          "execution_count": 57,
          "metadata": {
            "tags": []
          },
          "output_type": "execute_result"
        }
      ],
      "source": [
        "a1*a"
      ]
    },
    {
      "cell_type": "code",
      "execution_count": null,
      "metadata": {
        "id": "C8v88E6pWZb1"
      },
      "outputs": [],
      "source": [
        "a=np.ones((3,4))\n",
        "a1=np.arange(1,13).reshape(3,4)"
      ]
    },
    {
      "cell_type": "code",
      "execution_count": null,
      "metadata": {
        "colab": {
          "base_uri": "https://localhost:8080/"
        },
        "id": "E8NEQmVMWgfP",
        "outputId": "21c73d42-f006-4871-fbdb-d8c1be0ff991"
      },
      "outputs": [
        {
          "data": {
            "text/plain": [
              "array([[ 2.,  3.,  4.,  5.],\n",
              "       [ 6.,  7.,  8.,  9.],\n",
              "       [10., 11., 12., 13.]])"
            ]
          },
          "execution_count": 73,
          "metadata": {
            "tags": []
          },
          "output_type": "execute_result"
        }
      ],
      "source": [
        "a+a1"
      ]
    },
    {
      "cell_type": "code",
      "execution_count": 167,
      "metadata": {
        "id": "riWNwZC3XpF2"
      },
      "outputs": [],
      "source": [
        "a=np.ones((3,5))\n",
        "a1=np.arange(1,4).reshape((3,1))"
      ]
    },
    {
      "cell_type": "code",
      "execution_count": 169,
      "metadata": {
        "colab": {
          "base_uri": "https://localhost:8080/"
        },
        "id": "R7n9YO9oOh6P",
        "outputId": "e20c1649-6e00-4c5b-f58e-eb48b920afd7"
      },
      "outputs": [
        {
          "data": {
            "text/plain": [
              "(3, 1)"
            ]
          },
          "execution_count": 169,
          "metadata": {
            "tags": []
          },
          "output_type": "execute_result"
        }
      ],
      "source": [
        "a1.shape"
      ]
    },
    {
      "cell_type": "code",
      "execution_count": 168,
      "metadata": {
        "colab": {
          "base_uri": "https://localhost:8080/"
        },
        "id": "bqDI6JPnXwv2",
        "outputId": "bf4bae65-87c2-4494-a0ac-ab150dd27c90"
      },
      "outputs": [
        {
          "name": "stdout",
          "output_type": "stream",
          "text": [
            "[[1. 1. 1. 1. 1.]\n",
            " [1. 1. 1. 1. 1.]\n",
            " [1. 1. 1. 1. 1.]] \n",
            " [[1]\n",
            " [2]\n",
            " [3]]\n"
          ]
        }
      ],
      "source": [
        "print(a,\"\\n\",a1)"
      ]
    },
    {
      "cell_type": "code",
      "execution_count": 170,
      "metadata": {
        "colab": {
          "base_uri": "https://localhost:8080/"
        },
        "id": "YPw-h3b_X1wR",
        "outputId": "ad82b2d2-400c-4ea8-995b-fcb4a890a839"
      },
      "outputs": [
        {
          "data": {
            "text/plain": [
              "array([[2., 2., 2., 2., 2.],\n",
              "       [3., 3., 3., 3., 3.],\n",
              "       [4., 4., 4., 4., 4.]])"
            ]
          },
          "execution_count": 170,
          "metadata": {
            "tags": []
          },
          "output_type": "execute_result"
        }
      ],
      "source": [
        "a+a1"
      ]
    },
    {
      "cell_type": "markdown",
      "metadata": {
        "id": "6z7u-Dnsyhj7"
      },
      "source": [
        "#find the output?"
      ]
    },
    {
      "cell_type": "code",
      "execution_count": 171,
      "metadata": {
        "colab": {
          "base_uri": "https://localhost:8080/"
        },
        "id": "g6COWSU5x4bp",
        "outputId": "c78960fa-c7a8-417e-8728-fac56008a665"
      },
      "outputs": [
        {
          "data": {
            "text/plain": [
              "3"
            ]
          },
          "execution_count": 171,
          "metadata": {
            "tags": []
          },
          "output_type": "execute_result"
        }
      ],
      "source": [
        "a=np.zeros((3,5))\n",
        "a.shape[0]"
      ]
    },
    {
      "cell_type": "code",
      "execution_count": 174,
      "metadata": {
        "id": "9frKTGPxyaga"
      },
      "outputs": [],
      "source": [
        "for i in range(a.shape[0]):\n",
        "  a[i]=i*3"
      ]
    },
    {
      "cell_type": "code",
      "execution_count": 62,
      "metadata": {
        "colab": {
          "base_uri": "https://localhost:8080/"
        },
        "id": "ZUKM2V-nysgs",
        "outputId": "e1a84dea-76d0-443f-d25b-4de659e1f033"
      },
      "outputs": [
        {
          "data": {
            "text/plain": [
              "array([[0., 0., 0., 0., 0.],\n",
              "       [3., 3., 3., 3., 3.],\n",
              "       [6., 6., 6., 6., 6.]])"
            ]
          },
          "execution_count": 62,
          "metadata": {
            "tags": []
          },
          "output_type": "execute_result"
        }
      ],
      "source": [
        "a"
      ]
    },
    {
      "cell_type": "markdown",
      "metadata": {
        "id": "SdxmpgS70gqF"
      },
      "source": [
        "## another example for extracting elements of an array: guess what is happening here?"
      ]
    },
    {
      "cell_type": "code",
      "execution_count": 236,
      "metadata": {
        "id": "yIwtOZmfzKwY"
      },
      "outputs": [],
      "source": [
        "a=np.random.randint(1,50,12)\n",
        "a.shape=(3,4)"
      ]
    },
    {
      "cell_type": "code",
      "execution_count": 237,
      "metadata": {
        "colab": {
          "base_uri": "https://localhost:8080/"
        },
        "id": "iEd1iGCnzoy0",
        "outputId": "6d5c142f-2a75-4101-dc02-cc55949785ed"
      },
      "outputs": [
        {
          "data": {
            "text/plain": [
              "array([[12, 47, 33, 46],\n",
              "       [27, 23, 25, 47],\n",
              "       [22, 38, 48, 39]])"
            ]
          },
          "execution_count": 237,
          "metadata": {},
          "output_type": "execute_result"
        }
      ],
      "source": [
        "a"
      ]
    },
    {
      "cell_type": "code",
      "execution_count": 238,
      "metadata": {
        "id": "Firg3869zdqU"
      },
      "outputs": [
        {
          "data": {
            "text/plain": [
              "array([[False,  True,  True, False],\n",
              "       [ True,  True,  True,  True],\n",
              "       [False, False, False,  True]])"
            ]
          },
          "execution_count": 238,
          "metadata": {},
          "output_type": "execute_result"
        }
      ],
      "source": [
        "L=a%2!=0\n",
        "L"
      ]
    },
    {
      "cell_type": "code",
      "execution_count": 239,
      "metadata": {
        "id": "ZwPTrbC30Rm6"
      },
      "outputs": [
        {
          "name": "stdout",
          "output_type": "stream",
          "text": [
            "[47 33 27 23 25 47 39]\n"
          ]
        }
      ],
      "source": [
        "print(a[L])"
      ]
    },
    {
      "cell_type": "code",
      "execution_count": 240,
      "metadata": {
        "colab": {
          "base_uri": "https://localhost:8080/"
        },
        "id": "WBle9WAGa4zT",
        "outputId": "b15f405d-5588-4a94-84aa-98db4284f01e"
      },
      "outputs": [
        {
          "data": {
            "text/plain": [
              "array([[0, 1, 1, 0],\n",
              "       [1, 1, 1, 1],\n",
              "       [0, 0, 0, 1]], dtype=int32)"
            ]
          },
          "execution_count": 240,
          "metadata": {},
          "output_type": "execute_result"
        }
      ],
      "source": [
        "L=a%2\n",
        "L\n"
      ]
    },
    {
      "cell_type": "code",
      "execution_count": 242,
      "metadata": {},
      "outputs": [
        {
          "data": {
            "text/plain": [
              "array([0, 1, 1, 0], dtype=int32)"
            ]
          },
          "execution_count": 242,
          "metadata": {},
          "output_type": "execute_result"
        }
      ],
      "source": [
        "L[0]"
      ]
    },
    {
      "cell_type": "code",
      "execution_count": 243,
      "metadata": {},
      "outputs": [
        {
          "data": {
            "text/plain": [
              "array([1, 1, 1, 1], dtype=int32)"
            ]
          },
          "execution_count": 243,
          "metadata": {},
          "output_type": "execute_result"
        }
      ],
      "source": [
        "L[1]"
      ]
    },
    {
      "cell_type": "code",
      "execution_count": 241,
      "metadata": {
        "id": "f0OzE3jUbShL"
      },
      "outputs": [
        {
          "data": {
            "text/plain": [
              "array([47, 23, 23, 47])"
            ]
          },
          "execution_count": 241,
          "metadata": {},
          "output_type": "execute_result"
        }
      ],
      "source": [
        "a[L[0],L[1]]"
      ]
    },
    {
      "cell_type": "markdown",
      "metadata": {
        "id": "0LB_-lcDnkn9"
      },
      "source": [
        "#each row in the array passed as index is used as fancy index for accessing element of main array"
      ]
    },
    {
      "cell_type": "code",
      "execution_count": 181,
      "metadata": {
        "colab": {
          "base_uri": "https://localhost:8080/"
        },
        "id": "AWdbPy2xmq4j",
        "outputId": "ae0ed3ee-8f15-42d4-ed4c-f4ee5acef8fd"
      },
      "outputs": [
        {
          "data": {
            "text/plain": [
              "array([[[ 5, 27, 22, 41],\n",
              "        [39, 24, 13, 31],\n",
              "        [ 5, 27, 22, 41],\n",
              "        [ 5, 27, 22, 41]],\n",
              "\n",
              "       [[ 5, 27, 22, 41],\n",
              "        [ 5, 27, 22, 41],\n",
              "        [39, 24, 13, 31],\n",
              "        [ 5, 27, 22, 41]],\n",
              "\n",
              "       [[39, 24, 13, 31],\n",
              "        [ 5, 27, 22, 41],\n",
              "        [ 5, 27, 22, 41],\n",
              "        [39, 24, 13, 31]]])"
            ]
          },
          "execution_count": 181,
          "metadata": {
            "tags": []
          },
          "output_type": "execute_result"
        }
      ],
      "source": [
        "a[L]"
      ]
    },
    {
      "cell_type": "code",
      "execution_count": 235,
      "metadata": {
        "colab": {
          "base_uri": "https://localhost:8080/"
        },
        "id": "zpbOiSDBolzl",
        "outputId": "eee98f25-b189-41e9-eba4-64b525e298b4"
      },
      "outputs": [
        {
          "data": {
            "text/plain": [
              "array([0, 2, 2, 2, 2, 2, 0, 1, 0, 0, 2, 2])"
            ]
          },
          "execution_count": 235,
          "metadata": {},
          "output_type": "execute_result"
        }
      ],
      "source": [
        "l=np.random.randint(0,3,12)\n",
        "l"
      ]
    },
    {
      "cell_type": "code",
      "execution_count": 185,
      "metadata": {
        "colab": {
          "base_uri": "https://localhost:8080/"
        },
        "id": "ObzO_e6NSVLQ",
        "outputId": "36be667c-2c90-4109-9dbe-0470ed9bb048"
      },
      "outputs": [
        {
          "data": {
            "text/plain": [
              "array([[39, 24, 13, 31],\n",
              "       [ 5, 27, 22, 41],\n",
              "       [46, 49, 37,  6]])"
            ]
          },
          "execution_count": 185,
          "metadata": {
            "tags": []
          },
          "output_type": "execute_result"
        }
      ],
      "source": [
        "a"
      ]
    },
    {
      "cell_type": "code",
      "execution_count": 184,
      "metadata": {
        "colab": {
          "base_uri": "https://localhost:8080/"
        },
        "id": "RAIv7Hgwo4q8",
        "outputId": "0cc95955-6a91-4be7-c7b4-7b7426d2c498"
      },
      "outputs": [
        {
          "data": {
            "text/plain": [
              "array([[0, 0, 1, 1],\n",
              "       [1, 1, 2, 0],\n",
              "       [0, 1, 1, 1]])"
            ]
          },
          "execution_count": 184,
          "metadata": {
            "tags": []
          },
          "output_type": "execute_result"
        }
      ],
      "source": [
        "l=l.reshape(3,4)\n",
        "l"
      ]
    },
    {
      "cell_type": "code",
      "execution_count": 186,
      "metadata": {
        "colab": {
          "base_uri": "https://localhost:8080/"
        },
        "id": "jntCIaILpHSl",
        "outputId": "1557c119-f5d3-4cf4-db88-c7afc53969fb"
      },
      "outputs": [
        {
          "data": {
            "text/plain": [
              "array([[[39, 24, 13, 31],\n",
              "        [39, 24, 13, 31],\n",
              "        [ 5, 27, 22, 41],\n",
              "        [ 5, 27, 22, 41]],\n",
              "\n",
              "       [[ 5, 27, 22, 41],\n",
              "        [ 5, 27, 22, 41],\n",
              "        [46, 49, 37,  6],\n",
              "        [39, 24, 13, 31]],\n",
              "\n",
              "       [[39, 24, 13, 31],\n",
              "        [ 5, 27, 22, 41],\n",
              "        [ 5, 27, 22, 41],\n",
              "        [ 5, 27, 22, 41]]])"
            ]
          },
          "execution_count": 186,
          "metadata": {
            "tags": []
          },
          "output_type": "execute_result"
        }
      ],
      "source": [
        "a[l]"
      ]
    },
    {
      "cell_type": "code",
      "execution_count": 248,
      "metadata": {},
      "outputs": [],
      "source": [
        "A2=np.random.randn(10)"
      ]
    },
    {
      "cell_type": "code",
      "execution_count": 249,
      "metadata": {},
      "outputs": [],
      "source": [
        "A1=np.random.rand(10)"
      ]
    },
    {
      "cell_type": "code",
      "execution_count": 251,
      "metadata": {},
      "outputs": [
        {
          "data": {
            "text/plain": [
              "array([1.80128155, 0.37683539, 1.20060389, 0.35167743, 1.89230309,\n",
              "       0.22446534, 0.00444202, 0.68251149, 1.4841006 , 1.06770708])"
            ]
          },
          "execution_count": 251,
          "metadata": {},
          "output_type": "execute_result"
        }
      ],
      "source": [
        "np.maximum(A1,A2)"
      ]
    },
    {
      "cell_type": "code",
      "execution_count": 245,
      "metadata": {},
      "outputs": [
        {
          "data": {
            "text/plain": [
              "array([1.        , 1.73205081, 2.23606798, 2.64575131, 3.        ,\n",
              "       3.31662479, 3.60555128, 3.87298335, 4.12310563, 4.35889894,\n",
              "       4.58257569, 4.79583152, 5.        , 5.19615242, 5.38516481,\n",
              "       5.56776436])"
            ]
          },
          "execution_count": 245,
          "metadata": {},
          "output_type": "execute_result"
        }
      ],
      "source": [
        "np.sqrt(A1)"
      ]
    }
  ],
  "metadata": {
    "colab": {
      "name": "U1-numpy.ipynb",
      "provenance": [],
      "toc_visible": true
    },
    "kernelspec": {
      "display_name": "Python 3.9.4 64-bit",
      "language": "python",
      "name": "python3"
    },
    "language_info": {
      "codemirror_mode": {
        "name": "ipython",
        "version": 3
      },
      "file_extension": ".py",
      "mimetype": "text/x-python",
      "name": "python",
      "nbconvert_exporter": "python",
      "pygments_lexer": "ipython3",
      "version": "3.9.4"
    },
    "vscode": {
      "interpreter": {
        "hash": "5c6d8cf874a78cf518467a975f892478beea8e1660668e6c51857c147a60fb9a"
      }
    }
  },
  "nbformat": 4,
  "nbformat_minor": 0
}
