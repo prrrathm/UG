{
  "cells": [
    {
      "cell_type": "markdown",
      "metadata": {},
      "source": [
        "# data aggregation using builtin funs and user-defined functions"
      ]
    },
    {
      "cell_type": "code",
      "execution_count": 2,
      "metadata": {
        "colab": {
          "base_uri": "https://localhost:8080/"
        },
        "id": "x8-foD2WJqBM",
        "outputId": "7657055e-34fa-46ce-8165-6b434d41cee4"
      },
      "outputs": [],
      "source": [
        "import matplotlib.pyplot as plt\n",
        "import matplotlib\n",
        "import numpy as np\n",
        "import pandas as pd"
      ]
    },
    {
      "cell_type": "code",
      "execution_count": 3,
      "metadata": {},
      "outputs": [
        {
          "data": {
            "text/plain": [
              "'d:\\\\cs(h)Vsem Data analysis and visulaization 2021\\\\programs\\\\pandas'"
            ]
          },
          "execution_count": 3,
          "metadata": {},
          "output_type": "execute_result"
        }
      ],
      "source": [
        "import os\n",
        "os.getcwd()\n"
      ]
    },
    {
      "cell_type": "markdown",
      "metadata": {},
      "source": [
        "# reading titanictrain data for summarizing"
      ]
    },
    {
      "cell_type": "code",
      "execution_count": 3,
      "metadata": {},
      "outputs": [
        {
          "data": {
            "text/plain": [
              "Index(['PassengerId', 'Survived', 'Pclass', 'Name', 'Sex', 'Age', 'SibSp',\n",
              "       'Parch', 'Ticket', 'Fare', 'Cabin', 'Embarked'],\n",
              "      dtype='object')"
            ]
          },
          "execution_count": 3,
          "metadata": {},
          "output_type": "execute_result"
        }
      ],
      "source": [
        "titanicdf1 = pd.read_csv('titanictrain.csv')\n",
        "titanicdf1.columns"
      ]
    },
    {
      "cell_type": "code",
      "execution_count": 5,
      "metadata": {},
      "outputs": [
        {
          "data": {
            "text/plain": [
              "891"
            ]
          },
          "execution_count": 5,
          "metadata": {},
          "output_type": "execute_result"
        }
      ],
      "source": [
        "len(titanicdf1)"
      ]
    },
    {
      "cell_type": "markdown",
      "metadata": {},
      "source": [
        "# Preprocessing"
      ]
    },
    {
      "cell_type": "markdown",
      "metadata": {},
      "source": [
        "## replacing Nan values with mode in both types of features numeric and non-numeric"
      ]
    },
    {
      "cell_type": "code",
      "execution_count": 5,
      "metadata": {},
      "outputs": [
        {
          "name": "stdout",
          "output_type": "stream",
          "text": [
            "PassengerId int64 Numeric\n",
            "Survived int64 Numeric\n",
            "Pclass int64 Numeric\n",
            "Name object Categorical\n",
            "Sex object Categorical\n",
            "Age float64 Numeric\n",
            "SibSp int64 Numeric\n",
            "Parch int64 Numeric\n",
            "Ticket object Categorical\n",
            "Fare float64 Numeric\n",
            "Cabin object Categorical\n",
            "Embarked object Categorical\n"
          ]
        }
      ],
      "source": [
        "for col in titanicdf1:\n",
        "    if titanicdf1[col].values.dtype  in [np.int64,np.float64]:\n",
        "        print(col, titanicdf1[col].values.dtype,\"Numeric\")\n",
        "        if titanicdf1[col].isnull().sum()>0:\n",
        "            print(\"replacing by mode values\")\n",
        "            x=titanicdf1[col].mode().values\n",
        "            titanicdf1[col].replace(np.NaN,x[0],inplace=True)\n",
        "    else:\n",
        "       \n",
        "        print(col, titanicdf1[col].values.dtype,\"Categorical\")\n",
        "        if titanicdf1[col].isnull().sum()>0:\n",
        "            print(\"Null values to be replaced by modal value\")\n",
        "            m=titanicdf1[col].describe()[2]\n",
        "            titanicdf1[col].replace(np.NaN,m,inplace=True)"
      ]
    },
    {
      "cell_type": "markdown",
      "metadata": {},
      "source": [
        "# Group by clause"
      ]
    },
    {
      "cell_type": "markdown",
      "metadata": {},
      "source": [
        "## Find groups in the data on the basis of unique values in a column"
      ]
    },
    {
      "cell_type": "code",
      "execution_count": 6,
      "metadata": {},
      "outputs": [
        {
          "data": {
            "text/html": [
              "<div>\n",
              "<style scoped>\n",
              "    .dataframe tbody tr th:only-of-type {\n",
              "        vertical-align: middle;\n",
              "    }\n",
              "\n",
              "    .dataframe tbody tr th {\n",
              "        vertical-align: top;\n",
              "    }\n",
              "\n",
              "    .dataframe thead th {\n",
              "        text-align: right;\n",
              "    }\n",
              "</style>\n",
              "<table border=\"1\" class=\"dataframe\">\n",
              "  <thead>\n",
              "    <tr style=\"text-align: right;\">\n",
              "      <th></th>\n",
              "      <th>PassengerId</th>\n",
              "      <th>Survived</th>\n",
              "      <th>Pclass</th>\n",
              "      <th>Name</th>\n",
              "      <th>Age</th>\n",
              "      <th>SibSp</th>\n",
              "      <th>Parch</th>\n",
              "      <th>Ticket</th>\n",
              "      <th>Fare</th>\n",
              "      <th>Cabin</th>\n",
              "      <th>Embarked</th>\n",
              "    </tr>\n",
              "    <tr>\n",
              "      <th>Sex</th>\n",
              "      <th></th>\n",
              "      <th></th>\n",
              "      <th></th>\n",
              "      <th></th>\n",
              "      <th></th>\n",
              "      <th></th>\n",
              "      <th></th>\n",
              "      <th></th>\n",
              "      <th></th>\n",
              "      <th></th>\n",
              "      <th></th>\n",
              "    </tr>\n",
              "  </thead>\n",
              "  <tbody>\n",
              "    <tr>\n",
              "      <th>female</th>\n",
              "      <td>314</td>\n",
              "      <td>314</td>\n",
              "      <td>314</td>\n",
              "      <td>314</td>\n",
              "      <td>314</td>\n",
              "      <td>314</td>\n",
              "      <td>314</td>\n",
              "      <td>314</td>\n",
              "      <td>314</td>\n",
              "      <td>314</td>\n",
              "      <td>314</td>\n",
              "    </tr>\n",
              "    <tr>\n",
              "      <th>male</th>\n",
              "      <td>577</td>\n",
              "      <td>577</td>\n",
              "      <td>577</td>\n",
              "      <td>577</td>\n",
              "      <td>577</td>\n",
              "      <td>577</td>\n",
              "      <td>577</td>\n",
              "      <td>577</td>\n",
              "      <td>577</td>\n",
              "      <td>577</td>\n",
              "      <td>577</td>\n",
              "    </tr>\n",
              "  </tbody>\n",
              "</table>\n",
              "</div>"
            ],
            "text/plain": [
              "        PassengerId  Survived  Pclass  Name  Age  SibSp  Parch  Ticket  Fare  \\\n",
              "Sex                                                                            \n",
              "female          314       314     314   314  314    314    314     314   314   \n",
              "male            577       577     577   577  577    577    577     577   577   \n",
              "\n",
              "        Cabin  Embarked  \n",
              "Sex                      \n",
              "female    314       314  \n",
              "male      577       577  "
            ]
          },
          "execution_count": 6,
          "metadata": {},
          "output_type": "execute_result"
        }
      ],
      "source": [
        "titanicdf1.groupby('Sex').count()"
      ]
    },
    {
      "cell_type": "markdown",
      "metadata": {},
      "source": [
        "## grouping over two attributes"
      ]
    },
    {
      "cell_type": "code",
      "execution_count": 8,
      "metadata": {},
      "outputs": [],
      "source": [
        "gp1=titanicdf1.groupby(['Cabin','Sex'])"
      ]
    },
    {
      "cell_type": "code",
      "execution_count": 9,
      "metadata": {},
      "outputs": [
        {
          "data": {
            "text/plain": [
              "pandas.core.groupby.generic.DataFrameGroupBy"
            ]
          },
          "execution_count": 9,
          "metadata": {},
          "output_type": "execute_result"
        }
      ],
      "source": [
        "type(gp1)"
      ]
    },
    {
      "cell_type": "code",
      "execution_count": 10,
      "metadata": {},
      "outputs": [
        {
          "data": {
            "text/html": [
              "<div>\n",
              "<style scoped>\n",
              "    .dataframe tbody tr th:only-of-type {\n",
              "        vertical-align: middle;\n",
              "    }\n",
              "\n",
              "    .dataframe tbody tr th {\n",
              "        vertical-align: top;\n",
              "    }\n",
              "\n",
              "    .dataframe thead th {\n",
              "        text-align: right;\n",
              "    }\n",
              "</style>\n",
              "<table border=\"1\" class=\"dataframe\">\n",
              "  <thead>\n",
              "    <tr style=\"text-align: right;\">\n",
              "      <th></th>\n",
              "      <th></th>\n",
              "      <th>PassengerId</th>\n",
              "      <th>Survived</th>\n",
              "      <th>Pclass</th>\n",
              "      <th>Age</th>\n",
              "      <th>SibSp</th>\n",
              "      <th>Parch</th>\n",
              "      <th>Fare</th>\n",
              "    </tr>\n",
              "    <tr>\n",
              "      <th>Cabin</th>\n",
              "      <th>Sex</th>\n",
              "      <th></th>\n",
              "      <th></th>\n",
              "      <th></th>\n",
              "      <th></th>\n",
              "      <th></th>\n",
              "      <th></th>\n",
              "      <th></th>\n",
              "    </tr>\n",
              "  </thead>\n",
              "  <tbody>\n",
              "    <tr>\n",
              "      <th>A10</th>\n",
              "      <th>male</th>\n",
              "      <td>584.0</td>\n",
              "      <td>0.0</td>\n",
              "      <td>1.0</td>\n",
              "      <td>36.00</td>\n",
              "      <td>0.0</td>\n",
              "      <td>0.00</td>\n",
              "      <td>40.12500</td>\n",
              "    </tr>\n",
              "    <tr>\n",
              "      <th>A14</th>\n",
              "      <th>male</th>\n",
              "      <td>476.0</td>\n",
              "      <td>0.0</td>\n",
              "      <td>1.0</td>\n",
              "      <td>24.00</td>\n",
              "      <td>0.0</td>\n",
              "      <td>0.00</td>\n",
              "      <td>52.00000</td>\n",
              "    </tr>\n",
              "    <tr>\n",
              "      <th>A16</th>\n",
              "      <th>female</th>\n",
              "      <td>557.0</td>\n",
              "      <td>1.0</td>\n",
              "      <td>1.0</td>\n",
              "      <td>48.00</td>\n",
              "      <td>1.0</td>\n",
              "      <td>0.00</td>\n",
              "      <td>39.60000</td>\n",
              "    </tr>\n",
              "    <tr>\n",
              "      <th>A19</th>\n",
              "      <th>male</th>\n",
              "      <td>285.0</td>\n",
              "      <td>0.0</td>\n",
              "      <td>1.0</td>\n",
              "      <td>24.00</td>\n",
              "      <td>0.0</td>\n",
              "      <td>0.00</td>\n",
              "      <td>26.00000</td>\n",
              "    </tr>\n",
              "    <tr>\n",
              "      <th>A20</th>\n",
              "      <th>male</th>\n",
              "      <td>600.0</td>\n",
              "      <td>1.0</td>\n",
              "      <td>1.0</td>\n",
              "      <td>49.00</td>\n",
              "      <td>1.0</td>\n",
              "      <td>0.00</td>\n",
              "      <td>56.92920</td>\n",
              "    </tr>\n",
              "    <tr>\n",
              "      <th>...</th>\n",
              "      <th>...</th>\n",
              "      <td>...</td>\n",
              "      <td>...</td>\n",
              "      <td>...</td>\n",
              "      <td>...</td>\n",
              "      <td>...</td>\n",
              "      <td>...</td>\n",
              "      <td>...</td>\n",
              "    </tr>\n",
              "    <tr>\n",
              "      <th>F38</th>\n",
              "      <th>male</th>\n",
              "      <td>777.0</td>\n",
              "      <td>0.0</td>\n",
              "      <td>3.0</td>\n",
              "      <td>24.00</td>\n",
              "      <td>0.0</td>\n",
              "      <td>0.00</td>\n",
              "      <td>7.75000</td>\n",
              "    </tr>\n",
              "    <tr>\n",
              "      <th rowspan=\"2\" valign=\"top\">F4</th>\n",
              "      <th>female</th>\n",
              "      <td>619.0</td>\n",
              "      <td>1.0</td>\n",
              "      <td>2.0</td>\n",
              "      <td>4.00</td>\n",
              "      <td>2.0</td>\n",
              "      <td>1.00</td>\n",
              "      <td>39.00000</td>\n",
              "    </tr>\n",
              "    <tr>\n",
              "      <th>male</th>\n",
              "      <td>184.0</td>\n",
              "      <td>1.0</td>\n",
              "      <td>2.0</td>\n",
              "      <td>1.00</td>\n",
              "      <td>2.0</td>\n",
              "      <td>1.00</td>\n",
              "      <td>39.00000</td>\n",
              "    </tr>\n",
              "    <tr>\n",
              "      <th>G6</th>\n",
              "      <th>female</th>\n",
              "      <td>216.0</td>\n",
              "      <td>0.5</td>\n",
              "      <td>3.0</td>\n",
              "      <td>14.75</td>\n",
              "      <td>0.5</td>\n",
              "      <td>1.25</td>\n",
              "      <td>13.58125</td>\n",
              "    </tr>\n",
              "    <tr>\n",
              "      <th>T</th>\n",
              "      <th>male</th>\n",
              "      <td>340.0</td>\n",
              "      <td>0.0</td>\n",
              "      <td>1.0</td>\n",
              "      <td>45.00</td>\n",
              "      <td>0.0</td>\n",
              "      <td>0.00</td>\n",
              "      <td>35.50000</td>\n",
              "    </tr>\n",
              "  </tbody>\n",
              "</table>\n",
              "<p>171 rows × 7 columns</p>\n",
              "</div>"
            ],
            "text/plain": [
              "              PassengerId  Survived  Pclass    Age  SibSp  Parch      Fare\n",
              "Cabin Sex                                                                 \n",
              "A10   male          584.0       0.0     1.0  36.00    0.0   0.00  40.12500\n",
              "A14   male          476.0       0.0     1.0  24.00    0.0   0.00  52.00000\n",
              "A16   female        557.0       1.0     1.0  48.00    1.0   0.00  39.60000\n",
              "A19   male          285.0       0.0     1.0  24.00    0.0   0.00  26.00000\n",
              "A20   male          600.0       1.0     1.0  49.00    1.0   0.00  56.92920\n",
              "...                   ...       ...     ...    ...    ...    ...       ...\n",
              "F38   male          777.0       0.0     3.0  24.00    0.0   0.00   7.75000\n",
              "F4    female        619.0       1.0     2.0   4.00    2.0   1.00  39.00000\n",
              "      male          184.0       1.0     2.0   1.00    2.0   1.00  39.00000\n",
              "G6    female        216.0       0.5     3.0  14.75    0.5   1.25  13.58125\n",
              "T     male          340.0       0.0     1.0  45.00    0.0   0.00  35.50000\n",
              "\n",
              "[171 rows x 7 columns]"
            ]
          },
          "execution_count": 10,
          "metadata": {},
          "output_type": "execute_result"
        }
      ],
      "source": [
        "gp1.mean()"
      ]
    },
    {
      "cell_type": "markdown",
      "metadata": {},
      "source": [
        "# Use of keys and group contents"
      ]
    },
    {
      "cell_type": "code",
      "execution_count": 11,
      "metadata": {},
      "outputs": [
        {
          "data": {
            "text/plain": [
              "['Cabin', 'Sex']"
            ]
          },
          "execution_count": 11,
          "metadata": {},
          "output_type": "execute_result"
        }
      ],
      "source": [
        "gp1.keys"
      ]
    },
    {
      "cell_type": "markdown",
      "metadata": {},
      "source": [
        "## number of elements in the gp1 object (rowsxcolumn)"
      ]
    },
    {
      "cell_type": "code",
      "execution_count": 12,
      "metadata": {},
      "outputs": [
        {
          "data": {
            "text/plain": [
              "<bound method GroupBy.size of <pandas.core.groupby.generic.DataFrameGroupBy object at 0x0000023BAAB29790>>"
            ]
          },
          "execution_count": 12,
          "metadata": {},
          "output_type": "execute_result"
        }
      ],
      "source": [
        "gp1.size"
      ]
    },
    {
      "cell_type": "markdown",
      "metadata": {},
      "source": [
        "## number of rows in gp1"
      ]
    },
    {
      "cell_type": "code",
      "execution_count": 13,
      "metadata": {},
      "outputs": [
        {
          "data": {
            "text/plain": [
              "171"
            ]
          },
          "execution_count": 13,
          "metadata": {},
          "output_type": "execute_result"
        }
      ],
      "source": [
        "len(gp1)"
      ]
    },
    {
      "cell_type": "markdown",
      "metadata": {},
      "source": [
        "# iterating over groups"
      ]
    },
    {
      "cell_type": "code",
      "execution_count": 14,
      "metadata": {},
      "outputs": [
        {
          "data": {
            "text/plain": [
              "{('A10', 'male'): array([583], dtype=int64),\n",
              " ('A14', 'male'): array([475], dtype=int64),\n",
              " ('A16', 'female'): array([556], dtype=int64),\n",
              " ('A19', 'male'): array([284], dtype=int64),\n",
              " ('A20', 'male'): array([599], dtype=int64),\n",
              " ('A23', 'male'): array([630], dtype=int64),\n",
              " ('A24', 'male'): array([867], dtype=int64),\n",
              " ('A26', 'male'): array([647], dtype=int64),\n",
              " ('A31', 'male'): array([209], dtype=int64),\n",
              " ('A32', 'male'): array([185], dtype=int64),\n",
              " ('A34', 'male'): array([445], dtype=int64),\n",
              " ('A36', 'male'): array([806], dtype=int64),\n",
              " ('A5', 'male'): array([96], dtype=int64),\n",
              " ('A6', 'male'): array([23], dtype=int64),\n",
              " ('A7', 'male'): array([174], dtype=int64),\n",
              " ('B101', 'male'): array([737], dtype=int64),\n",
              " ('B102', 'male'): array([815], dtype=int64),\n",
              " ('B18', 'female'): array([329, 523], dtype=int64),\n",
              " ('B19', 'male'): array([170], dtype=int64),\n",
              " ('B20', 'female'): array([781], dtype=int64),\n",
              " ('B20', 'male'): array([690], dtype=int64),\n",
              " ('B22', 'female'): array([540], dtype=int64),\n",
              " ('B22', 'male'): array([745], dtype=int64),\n",
              " ('B28', 'female'): array([ 61, 829], dtype=int64),\n",
              " ('B3', 'female'): array([779], dtype=int64),\n",
              " ('B30', 'male'): array([54], dtype=int64),\n",
              " ('B35', 'female'): array([369, 641], dtype=int64),\n",
              " ('B37', 'male'): array([487], dtype=int64),\n",
              " ('B38', 'male'): array([536], dtype=int64),\n",
              " ('B39', 'female'): array([539], dtype=int64),\n",
              " ('B4', 'female'): array([194], dtype=int64),\n",
              " ('B41', 'male'): array([587], dtype=int64),\n",
              " ('B42', 'female'): array([887], dtype=int64),\n",
              " ('B49', 'female'): array([291], dtype=int64),\n",
              " ('B49', 'male'): array([484], dtype=int64),\n",
              " ('B5', 'female'): array([689, 730], dtype=int64),\n",
              " ('B50', 'male'): array([632], dtype=int64),\n",
              " ('B51 B53 B55', 'male'): array([679, 872], dtype=int64),\n",
              " ('B57 B59 B63 B66', 'female'): array([311, 742], dtype=int64),\n",
              " ('B58 B60', 'female'): array([299], dtype=int64),\n",
              " ('B58 B60', 'male'): array([118], dtype=int64),\n",
              " ('B69', 'female'): array([820], dtype=int64),\n",
              " ('B71', 'male'): array([671], dtype=int64),\n",
              " ('B73', 'female'): array([520], dtype=int64),\n",
              " ('B77', 'female'): array([257, 759], dtype=int64),\n",
              " ('B78', 'female'): array([31], dtype=int64),\n",
              " ('B79', 'female'): array([504], dtype=int64),\n",
              " ('B80', 'female'): array([195], dtype=int64),\n",
              " ('B82 B84', 'male'): array([789], dtype=int64),\n",
              " ('B86', 'male'): array([139], dtype=int64),\n",
              " ('B94', 'male'): array([263], dtype=int64),\n",
              " ('B96 B98',\n",
              "  'female'): array([  2,   8,   9,  14,  15,  18,  19,  22,  24,  25,  28,  32,  38,\n",
              "         39,  40,  41,  43,  44,  47,  49,  53,  56,  58,  68,  71,  79,\n",
              "         82,  84,  85,  98, 100, 106, 109, 111, 113, 114, 119, 132, 133,\n",
              "        140, 141, 142, 147, 156, 161, 167, 172, 180, 184, 186, 190, 192,\n",
              "        198, 199, 208, 211, 216, 229, 233, 235, 237, 240, 241, 246, 247,\n",
              "        254, 255, 256, 258, 259, 264, 272, 274, 276, 279, 289, 290, 293,\n",
              "        300, 306, 312, 315, 316, 322, 323, 328, 330, 334, 346, 347, 357,\n",
              "        358, 359, 362, 367, 368, 374, 375, 376, 380, 381, 383, 387, 389,\n",
              "        396, 399, 402, 404, 409, 415, 416, 417, 419, 423, 426, 427, 431,\n",
              "        432, 435, 436, 437, 440, 443, 446, 448, 458, 469, 472, 474, 479,\n",
              "        483, 485, 501, 502, 503, 506, 513, 518, 526, 530, 533, 534, 535,\n",
              "        537, 541, 542, 546, 554, 559, 564, 567, 573, 576, 578, 580, 593,\n",
              "        596, 600, 608, 610, 612, 615, 617, 634, 635, 638, 642, 644, 649,\n",
              "        651, 653, 654, 657, 670, 677, 678, 680, 691, 697, 702, 706, 708,\n",
              "        720, 726, 727, 729, 736, 747, 750, 754, 763, 767, 774, 777, 780,\n",
              "        786, 792, 797, 799, 801, 807, 813, 816, 830, 842, 852, 854, 855,\n",
              "        856, 858, 863, 865, 866, 874, 875, 880, 882, 885, 888], dtype=int64),\n",
              " ('B96 B98',\n",
              "  'male'): array([  0,   4,   5,   7,  12,  13,  16,  17,  20,  26,  29,  30,  33,\n",
              "         34,  35,  36,  37,  42,  45,  46,  48,  50,  51,  57,  59,  60,\n",
              "         63,  64,  65,  67,  69,  70,  72,  73,  74,  76,  77,  78,  80,\n",
              "         81,  83,  86,  87,  89,  90,  91,  93,  94,  95,  99, 101, 103,\n",
              "        104, 105, 107, 108, 112, 115, 116, 117, 120, 121, 122, 125, 126,\n",
              "        127, 129, 130, 131, 134, 135, 138, 143, 144, 145, 146, 149, 150,\n",
              "        152, 153, 154, 155, 157, 158, 159, 160, 162, 163, 164, 165, 168,\n",
              "        169, 171, 173, 175, 176, 178, 179, 181, 182, 187, 188, 189, 191,\n",
              "        196, 197, 200, 201, 202, 203, 204, 206, 207, 210, 212, 213, 214,\n",
              "        217, 219, 220, 221, 222, 223, 225, 226, 227, 228, 231, 232, 234,\n",
              "        236, 238, 239, 242, 243, 244, 249, 250, 253, 260, 261, 265, 266,\n",
              "        267, 270, 271, 277, 278, 280, 281, 282, 283, 285, 286, 287, 288,\n",
              "        294, 295, 296, 301, 302, 304, 308, 313, 314, 317, 320, 321, 324,\n",
              "        326, 333, 335, 338, 342, 343, 344, 348, 349, 350, 352, 353, 354,\n",
              "        355, 360, 361, 363, 364, 365, 371, 372, 373, 378, 379, 382, 384,\n",
              "        385, 386, 388, 390, 391, 392, 395, 397, 398, 400, 401, 403, 405,\n",
              "        406, 407, 408, 410, 411, 413, 414, 418, 420, 421, 422, 424, 425,\n",
              "        428, 433, 439, 441, 442, 444, 447, 450, 451, 454, 455, 459, 461,\n",
              "        463, 464, 465, 466, 467, 468, 470, 471, 476, 477, 478, 480, 481,\n",
              "        482, 488, 489, 490, 491, 493, 494, 495, 497, 499, 500, 507, 508,\n",
              "        509, 510, 511, 514, 517, 519, 521, 522, 524, 525, 528, 529, 531,\n",
              "        532, 538, 543, 545, 547, 548, 549, 551, 552, 553, 555, 557, 560,\n",
              "        561, 562, 563, 565, 566, 568, 569, 570, 574, 575, 579, 582, 584,\n",
              "        586, 588, 589, 590, 592, 594, 595, 597, 598, 601, 602, 603, 604,\n",
              "        605, 606, 607, 611, 613, 614, 616, 619, 620, 622, 623, 624, 626,\n",
              "        628, 629, 631, 633, 636, 637, 639, 640, 643, 646, 648, 650, 652,\n",
              "        655, 656, 658, 660, 661, 663, 664, 665, 666, 667, 668, 672, 673,\n",
              "        674, 675, 676, 682, 683, 684, 685, 686, 687, 688, 692, 693, 694,\n",
              "        695, 696, 703, 704, 705, 709, 713, 714, 718, 719, 721, 722, 723,\n",
              "        725, 728, 731, 732, 733, 734, 735, 738, 739, 743, 744, 746, 749,\n",
              "        752, 753, 755, 756, 757, 758, 760, 761, 762, 764, 766, 768, 769,\n",
              "        770, 771, 773, 775, 778, 783, 784, 785, 787, 788, 790, 791, 793,\n",
              "        794, 795, 798, 800, 802, 803, 804, 805, 808, 810, 811, 812, 814,\n",
              "        817, 818, 819, 821, 822, 824, 825, 826, 827, 828, 831, 832, 833,\n",
              "        834, 836, 837, 838, 840, 841, 843, 844, 845, 846, 847, 848, 850,\n",
              "        851, 859, 860, 861, 864, 868, 869, 870, 873, 876, 877, 878, 881,\n",
              "        883, 884, 886, 890], dtype=int64),\n",
              " ('C101', 'female'): array([571], dtype=int64),\n",
              " ('C103', 'female'): array([11], dtype=int64),\n",
              " ('C104', 'male'): array([449], dtype=int64),\n",
              " ('C106', 'male'): array([298], dtype=int64),\n",
              " ('C110', 'male'): array([110], dtype=int64),\n",
              " ('C111', 'male'): array([452], dtype=int64),\n",
              " ('C118', 'male'): array([273], dtype=int64),\n",
              " ('C123', 'female'): array([3], dtype=int64),\n",
              " ('C123', 'male'): array([137], dtype=int64),\n",
              " ('C124', 'male'): array([331, 711], dtype=int64),\n",
              " ('C125', 'female'): array([268, 609], dtype=int64),\n",
              " ('C126', 'female'): array([669], dtype=int64),\n",
              " ('C126', 'male'): array([712], dtype=int64),\n",
              " ('C128', 'male'): array([351], dtype=int64),\n",
              " ('C148', 'male'): array([889], dtype=int64),\n",
              " ('C2', 'female'): array([151], dtype=int64),\n",
              " ('C2', 'male'): array([336], dtype=int64),\n",
              " ('C22 C26', 'female'): array([297, 498], dtype=int64),\n",
              " ('C22 C26', 'male'): array([305], dtype=int64),\n",
              " ('C23 C25 C27', 'female'): array([ 88, 341], dtype=int64),\n",
              " ('C23 C25 C27', 'male'): array([ 27, 438], dtype=int64),\n",
              " ('C30', 'male'): array([492], dtype=int64),\n",
              " ('C32', 'female'): array([325], dtype=int64),\n",
              " ('C45', 'female'): array([716], dtype=int64),\n",
              " ('C46', 'male'): array([741], dtype=int64),\n",
              " ('C47', 'male'): array([839], dtype=int64),\n",
              " ('C49', 'female'): array([177], dtype=int64),\n",
              " ('C50', 'female'): array([879], dtype=int64),\n",
              " ('C52', 'male'): array([ 55, 430], dtype=int64),\n",
              " ('C54', 'female'): array([310], dtype=int64),\n",
              " ('C62 C64', 'female'): array([700], dtype=int64),\n",
              " ('C65', 'female'): array([307], dtype=int64),\n",
              " ('C65', 'male'): array([505], dtype=int64),\n",
              " ('C68', 'female'): array([581], dtype=int64),\n",
              " ('C68', 'male'): array([698], dtype=int64),\n",
              " ('C7', 'female'): array([318], dtype=int64),\n",
              " ('C70', 'male'): array([550], dtype=int64),\n",
              " ('C78', 'female'): array([412], dtype=int64),\n",
              " ('C78', 'male'): array([245], dtype=int64),\n",
              " ('C82', 'male'): array([377], dtype=int64),\n",
              " ('C83', 'female'): array([230], dtype=int64),\n",
              " ('C83', 'male'): array([62], dtype=int64),\n",
              " ('C85', 'female'): array([1], dtype=int64),\n",
              " ('C86', 'male'): array([544], dtype=int64),\n",
              " ('C87', 'male'): array([252], dtype=int64),\n",
              " ('C90', 'female'): array([710], dtype=int64),\n",
              " ('C91', 'male'): array([332], dtype=int64),\n",
              " ('C92', 'female'): array([849], dtype=int64),\n",
              " ('C92', 'male'): array([453], dtype=int64),\n",
              " ('C93', 'female'): array([486], dtype=int64),\n",
              " ('C93', 'male'): array([224], dtype=int64),\n",
              " ('C95', 'male'): array([527], dtype=int64),\n",
              " ('C99', 'female'): array([269], dtype=int64),\n",
              " ('D', 'female'): array([327, 473], dtype=int64),\n",
              " ('D', 'male'): array([292], dtype=int64),\n",
              " ('D10 D12', 'male'): array([97], dtype=int64),\n",
              " ('D11', 'female'): array([765], dtype=int64),\n",
              " ('D15', 'female'): array([218], dtype=int64),\n",
              " ('D17', 'female'): array([796, 862], dtype=int64),\n",
              " ('D19', 'male'): array([621], dtype=int64),\n",
              " ('D20', 'female'): array([496, 591], dtype=int64),\n",
              " ('D21', 'female'): array([457], dtype=int64),\n",
              " ('D26', 'male'): array([102, 124], dtype=int64),\n",
              " ('D28', 'female'): array([853], dtype=int64),\n",
              " ('D30', 'male'): array([748], dtype=int64),\n",
              " ('D33', 'female'): array([52], dtype=int64),\n",
              " ('D33', 'male'): array([645], dtype=int64),\n",
              " ('D35', 'female'): array([871], dtype=int64),\n",
              " ('D35', 'male'): array([248], dtype=int64),\n",
              " ('D36', 'female'): array([215, 393], dtype=int64),\n",
              " ('D37', 'female'): array([366], dtype=int64),\n",
              " ('D45', 'male'): array([740], dtype=int64),\n",
              " ('D46', 'male'): array([515], dtype=int64),\n",
              " ('D47', 'female'): array([136], dtype=int64),\n",
              " ('D48', 'male'): array([659], dtype=int64),\n",
              " ('D49', 'male'): array([681], dtype=int64),\n",
              " ('D50', 'male'): array([625], dtype=int64),\n",
              " ('D56', 'male'): array([21], dtype=int64),\n",
              " ('D6', 'male'): array([782], dtype=int64),\n",
              " ('D7', 'female'): array([275], dtype=int64),\n",
              " ('D9', 'female'): array([627], dtype=int64),\n",
              " ('E10', 'male'): array([429], dtype=int64),\n",
              " ('E101', 'female'): array([123, 303, 717], dtype=int64),\n",
              " ('E12', 'male'): array([460], dtype=int64),\n",
              " ('E121', 'female'): array([823], dtype=int64),\n",
              " ('E121', 'male'): array([751], dtype=int64),\n",
              " ('E17', 'male'): array([857], dtype=int64),\n",
              " ('E24', 'male'): array([701, 707], dtype=int64),\n",
              " ('E25', 'male'): array([512, 572], dtype=int64),\n",
              " ('E31', 'male'): array([92], dtype=int64),\n",
              " ('E33', 'female'): array([166, 356], dtype=int64),\n",
              " ('E34', 'female'): array([319], dtype=int64),\n",
              " ('E36', 'female'): array([309], dtype=int64),\n",
              " ('E38', 'male'): array([456], dtype=int64),\n",
              " ('E40', 'female'): array([337], dtype=int64),\n",
              " ('E44', 'female'): array([577], dtype=int64),\n",
              " ('E44', 'male'): array([434], dtype=int64),\n",
              " ('E46', 'male'): array([6], dtype=int64),\n",
              " ('E49', 'female'): array([835], dtype=int64),\n",
              " ('E50', 'male'): array([370], dtype=int64),\n",
              " ('E58', 'male'): array([662], dtype=int64),\n",
              " ('E63', 'male'): array([462], dtype=int64),\n",
              " ('E67', 'female'): array([558], dtype=int64),\n",
              " ('E67', 'male'): array([262], dtype=int64),\n",
              " ('E68', 'female'): array([585], dtype=int64),\n",
              " ('E77', 'female'): array([772], dtype=int64),\n",
              " ('E8', 'female'): array([809], dtype=int64),\n",
              " ('E8', 'male'): array([724], dtype=int64),\n",
              " ('F E69', 'female'): array([128], dtype=int64),\n",
              " ('F G63', 'male'): array([699], dtype=int64),\n",
              " ('F G73', 'male'): array([ 75, 715], dtype=int64),\n",
              " ('F2', 'male'): array([148, 193, 340], dtype=int64),\n",
              " ('F33', 'female'): array([ 66, 345, 516], dtype=int64),\n",
              " ('F38', 'male'): array([776], dtype=int64),\n",
              " ('F4', 'female'): array([618], dtype=int64),\n",
              " ('F4', 'male'): array([183], dtype=int64),\n",
              " ('G6', 'female'): array([ 10, 205, 251, 394], dtype=int64),\n",
              " ('T', 'male'): array([339], dtype=int64)}"
            ]
          },
          "execution_count": 14,
          "metadata": {},
          "output_type": "execute_result"
        }
      ],
      "source": [
        "gp1.indices"
      ]
    },
    {
      "cell_type": "code",
      "execution_count": 16,
      "metadata": {},
      "outputs": [
        {
          "name": "stdout",
          "output_type": "stream",
          "text": [
            "('A10', 'male')\n",
            "1\n",
            "('A14', 'male')\n",
            "1\n",
            "('A16', 'female')\n",
            "1\n",
            "('A19', 'male')\n",
            "1\n",
            "('A20', 'male')\n",
            "1\n",
            "('A23', 'male')\n",
            "1\n",
            "('A24', 'male')\n",
            "1\n",
            "('A26', 'male')\n",
            "1\n",
            "('A31', 'male')\n",
            "1\n",
            "('A32', 'male')\n",
            "1\n",
            "('A34', 'male')\n",
            "1\n",
            "('A36', 'male')\n",
            "1\n",
            "('A5', 'male')\n",
            "1\n",
            "('A6', 'male')\n",
            "1\n",
            "('A7', 'male')\n",
            "1\n",
            "('B101', 'male')\n",
            "1\n",
            "('B102', 'male')\n",
            "1\n",
            "('B18', 'female')\n",
            "2\n",
            "('B19', 'male')\n",
            "1\n",
            "('B20', 'female')\n",
            "1\n",
            "('B20', 'male')\n",
            "1\n",
            "('B22', 'female')\n",
            "1\n",
            "('B22', 'male')\n",
            "1\n",
            "('B28', 'female')\n",
            "2\n",
            "('B3', 'female')\n",
            "1\n",
            "('B30', 'male')\n",
            "1\n",
            "('B35', 'female')\n",
            "2\n",
            "('B37', 'male')\n",
            "1\n",
            "('B38', 'male')\n",
            "1\n",
            "('B39', 'female')\n",
            "1\n",
            "('B4', 'female')\n",
            "1\n",
            "('B41', 'male')\n",
            "1\n",
            "('B42', 'female')\n",
            "1\n",
            "('B49', 'female')\n",
            "1\n",
            "('B49', 'male')\n",
            "1\n",
            "('B5', 'female')\n",
            "2\n",
            "('B50', 'male')\n",
            "1\n",
            "('B51 B53 B55', 'male')\n",
            "2\n",
            "('B57 B59 B63 B66', 'female')\n",
            "2\n",
            "('B58 B60', 'female')\n",
            "1\n",
            "('B58 B60', 'male')\n",
            "1\n",
            "('B69', 'female')\n",
            "1\n",
            "('B71', 'male')\n",
            "1\n",
            "('B73', 'female')\n",
            "1\n",
            "('B77', 'female')\n",
            "2\n",
            "('B78', 'female')\n",
            "1\n",
            "('B79', 'female')\n",
            "1\n",
            "('B80', 'female')\n",
            "1\n",
            "('B82 B84', 'male')\n",
            "1\n",
            "('B86', 'male')\n",
            "1\n",
            "('B94', 'male')\n",
            "1\n",
            "('B96 B98', 'female')\n",
            "219\n",
            "('B96 B98', 'male')\n",
            "472\n",
            "('C101', 'female')\n",
            "1\n",
            "('C103', 'female')\n",
            "1\n",
            "('C104', 'male')\n",
            "1\n",
            "('C106', 'male')\n",
            "1\n",
            "('C110', 'male')\n",
            "1\n",
            "('C111', 'male')\n",
            "1\n",
            "('C118', 'male')\n",
            "1\n",
            "('C123', 'female')\n",
            "1\n",
            "('C123', 'male')\n",
            "1\n",
            "('C124', 'male')\n",
            "2\n",
            "('C125', 'female')\n",
            "2\n",
            "('C126', 'female')\n",
            "1\n",
            "('C126', 'male')\n",
            "1\n",
            "('C128', 'male')\n",
            "1\n",
            "('C148', 'male')\n",
            "1\n",
            "('C2', 'female')\n",
            "1\n",
            "('C2', 'male')\n",
            "1\n",
            "('C22 C26', 'female')\n",
            "2\n",
            "('C22 C26', 'male')\n",
            "1\n",
            "('C23 C25 C27', 'female')\n",
            "2\n",
            "('C23 C25 C27', 'male')\n",
            "2\n",
            "('C30', 'male')\n",
            "1\n",
            "('C32', 'female')\n",
            "1\n",
            "('C45', 'female')\n",
            "1\n",
            "('C46', 'male')\n",
            "1\n",
            "('C47', 'male')\n",
            "1\n",
            "('C49', 'female')\n",
            "1\n",
            "('C50', 'female')\n",
            "1\n",
            "('C52', 'male')\n",
            "2\n",
            "('C54', 'female')\n",
            "1\n",
            "('C62 C64', 'female')\n",
            "1\n",
            "('C65', 'female')\n",
            "1\n",
            "('C65', 'male')\n",
            "1\n",
            "('C68', 'female')\n",
            "1\n",
            "('C68', 'male')\n",
            "1\n",
            "('C7', 'female')\n",
            "1\n",
            "('C70', 'male')\n",
            "1\n",
            "('C78', 'female')\n",
            "1\n",
            "('C78', 'male')\n",
            "1\n",
            "('C82', 'male')\n",
            "1\n",
            "('C83', 'female')\n",
            "1\n",
            "('C83', 'male')\n",
            "1\n",
            "('C85', 'female')\n",
            "1\n",
            "('C86', 'male')\n",
            "1\n",
            "('C87', 'male')\n",
            "1\n",
            "('C90', 'female')\n",
            "1\n",
            "('C91', 'male')\n",
            "1\n",
            "('C92', 'female')\n",
            "1\n",
            "('C92', 'male')\n",
            "1\n",
            "('C93', 'female')\n",
            "1\n",
            "('C93', 'male')\n",
            "1\n",
            "('C95', 'male')\n",
            "1\n",
            "('C99', 'female')\n",
            "1\n",
            "('D', 'female')\n",
            "2\n",
            "('D', 'male')\n",
            "1\n",
            "('D10 D12', 'male')\n",
            "1\n",
            "('D11', 'female')\n",
            "1\n",
            "('D15', 'female')\n",
            "1\n",
            "('D17', 'female')\n",
            "2\n",
            "('D19', 'male')\n",
            "1\n",
            "('D20', 'female')\n",
            "2\n",
            "('D21', 'female')\n",
            "1\n",
            "('D26', 'male')\n",
            "2\n",
            "('D28', 'female')\n",
            "1\n",
            "('D30', 'male')\n",
            "1\n",
            "('D33', 'female')\n",
            "1\n",
            "('D33', 'male')\n",
            "1\n",
            "('D35', 'female')\n",
            "1\n",
            "('D35', 'male')\n",
            "1\n",
            "('D36', 'female')\n",
            "2\n",
            "('D37', 'female')\n",
            "1\n",
            "('D45', 'male')\n",
            "1\n",
            "('D46', 'male')\n",
            "1\n",
            "('D47', 'female')\n",
            "1\n",
            "('D48', 'male')\n",
            "1\n",
            "('D49', 'male')\n",
            "1\n",
            "('D50', 'male')\n",
            "1\n",
            "('D56', 'male')\n",
            "1\n",
            "('D6', 'male')\n",
            "1\n",
            "('D7', 'female')\n",
            "1\n",
            "('D9', 'female')\n",
            "1\n",
            "('E10', 'male')\n",
            "1\n",
            "('E101', 'female')\n",
            "3\n",
            "('E12', 'male')\n",
            "1\n",
            "('E121', 'female')\n",
            "1\n",
            "('E121', 'male')\n",
            "1\n",
            "('E17', 'male')\n",
            "1\n",
            "('E24', 'male')\n",
            "2\n",
            "('E25', 'male')\n",
            "2\n",
            "('E31', 'male')\n",
            "1\n",
            "('E33', 'female')\n",
            "2\n",
            "('E34', 'female')\n",
            "1\n",
            "('E36', 'female')\n",
            "1\n",
            "('E38', 'male')\n",
            "1\n",
            "('E40', 'female')\n",
            "1\n",
            "('E44', 'female')\n",
            "1\n",
            "('E44', 'male')\n",
            "1\n",
            "('E46', 'male')\n",
            "1\n",
            "('E49', 'female')\n",
            "1\n",
            "('E50', 'male')\n",
            "1\n",
            "('E58', 'male')\n",
            "1\n",
            "('E63', 'male')\n",
            "1\n",
            "('E67', 'female')\n",
            "1\n",
            "('E67', 'male')\n",
            "1\n",
            "('E68', 'female')\n",
            "1\n",
            "('E77', 'female')\n",
            "1\n",
            "('E8', 'female')\n",
            "1\n",
            "('E8', 'male')\n",
            "1\n",
            "('F E69', 'female')\n",
            "1\n",
            "('F G63', 'male')\n",
            "1\n",
            "('F G73', 'male')\n",
            "2\n",
            "('F2', 'male')\n",
            "3\n",
            "('F33', 'female')\n",
            "3\n",
            "('F38', 'male')\n",
            "1\n",
            "('F4', 'female')\n",
            "1\n",
            "('F4', 'male')\n",
            "1\n",
            "('G6', 'female')\n",
            "4\n",
            "('T', 'male')\n",
            "1\n"
          ]
        }
      ],
      "source": [
        "for (k1, k2), group in gp1:\n",
        "    print((k1, k2))#,group.columns)\n",
        "    print(len(group[['Fare','Parch']]))"
      ]
    },
    {
      "cell_type": "markdown",
      "metadata": {},
      "source": [
        "## Find total fare paid by male and female passengers individually"
      ]
    },
    {
      "cell_type": "code",
      "execution_count": 24,
      "metadata": {},
      "outputs": [
        {
          "data": {
            "text/plain": [
              "Sex\n",
              "female    13966.6628\n",
              "male      14727.2865\n",
              "Name: Fare, dtype: float64"
            ]
          },
          "execution_count": 24,
          "metadata": {},
          "output_type": "execute_result"
        }
      ],
      "source": [
        "titanicdf1.groupby(['Sex'])['Fare'].sum()"
      ]
    },
    {
      "cell_type": "markdown",
      "metadata": {},
      "source": [
        "## Find average fare paid by male/female for each embarked station C:Cherborug Q: queenstown  H: Hampston"
      ]
    },
    {
      "cell_type": "code",
      "execution_count": 17,
      "metadata": {},
      "outputs": [],
      "source": [
        "G1=titanicdf1['Fare'].groupby([titanicdf1['Sex'],titanicdf1['Embarked']])"
      ]
    },
    {
      "cell_type": "code",
      "execution_count": 18,
      "metadata": {},
      "outputs": [
        {
          "data": {
            "text/plain": [
              "Sex     Embarked\n",
              "female  C           5487.3958\n",
              "        Q            454.8585\n",
              "        S           8024.4085\n",
              "male    C           4584.9004\n",
              "        Q            567.3958\n",
              "        S           9574.9903\n",
              "Name: Fare, dtype: float64"
            ]
          },
          "execution_count": 18,
          "metadata": {},
          "output_type": "execute_result"
        }
      ],
      "source": [
        "G1.sum()"
      ]
    },
    {
      "cell_type": "markdown",
      "metadata": {},
      "source": [
        "## Compute family size as sum of Parch and sibsp, then find number of passengers with same family size and plot using bar chart"
      ]
    },
    {
      "cell_type": "code",
      "execution_count": 19,
      "metadata": {},
      "outputs": [],
      "source": [
        "titanicdf1['Familysize']=titanicdf1['Parch']+titanicdf1['SibSp']"
      ]
    },
    {
      "cell_type": "code",
      "execution_count": 20,
      "metadata": {},
      "outputs": [],
      "source": [
        "G3=titanicdf1.groupby('Familysize')"
      ]
    },
    {
      "cell_type": "markdown",
      "metadata": {},
      "source": [
        "# plots of all coulmns of G3"
      ]
    },
    {
      "cell_type": "code",
      "execution_count": 21,
      "metadata": {},
      "outputs": [
        {
          "data": {
            "text/plain": [
              "<matplotlib.legend.Legend at 0x23baabb7d90>"
            ]
          },
          "execution_count": 21,
          "metadata": {},
          "output_type": "execute_result"
        },
        {
          "data": {
            "image/png": "[encoded data removed]",
            "text/plain": [
              "<Figure size 432x288 with 1 Axes>"
            ]
          },
          "metadata": {
            "needs_background": "light"
          },
          "output_type": "display_data"
        }
      ],
      "source": [
        "plt1=G3.count().plot.bar(label='count')\n",
        "plt1.set_ylabel('number')\n",
        "plt1.legend()"
      ]
    },
    {
      "cell_type": "markdown",
      "metadata": {},
      "source": [
        "## Need is the count of passengers only for each family size"
      ]
    },
    {
      "cell_type": "code",
      "execution_count": 22,
      "metadata": {},
      "outputs": [
        {
          "data": {
            "text/plain": [
              "<matplotlib.legend.Legend at 0x23baac43970>"
            ]
          },
          "execution_count": 22,
          "metadata": {},
          "output_type": "execute_result"
        },
        {
          "data": {
            "image/png": "[encoded data removed]",
            "text/plain": [
              "<Figure size 432x288 with 1 Axes>"
            ]
          },
          "metadata": {
            "needs_background": "light"
          },
          "output_type": "display_data"
        }
      ],
      "source": [
        "plt1=G3['PassengerId'].count().plot.bar(label='count')\n",
        "plt1.set_ylabel('number')\n",
        "plt1.legend()"
      ]
    },
    {
      "cell_type": "code",
      "execution_count": 23,
      "metadata": {},
      "outputs": [
        {
          "data": {
            "text/html": [
              "<div>\n",
              "<style scoped>\n",
              "    .dataframe tbody tr th:only-of-type {\n",
              "        vertical-align: middle;\n",
              "    }\n",
              "\n",
              "    .dataframe tbody tr th {\n",
              "        vertical-align: top;\n",
              "    }\n",
              "\n",
              "    .dataframe thead th {\n",
              "        text-align: right;\n",
              "    }\n",
              "</style>\n",
              "<table border=\"1\" class=\"dataframe\">\n",
              "  <thead>\n",
              "    <tr style=\"text-align: right;\">\n",
              "      <th></th>\n",
              "      <th>PassengerId</th>\n",
              "      <th>Survived</th>\n",
              "      <th>Pclass</th>\n",
              "      <th>Age</th>\n",
              "      <th>SibSp</th>\n",
              "      <th>Parch</th>\n",
              "      <th>Fare</th>\n",
              "    </tr>\n",
              "    <tr>\n",
              "      <th>Familysize</th>\n",
              "      <th></th>\n",
              "      <th></th>\n",
              "      <th></th>\n",
              "      <th></th>\n",
              "      <th></th>\n",
              "      <th></th>\n",
              "      <th></th>\n",
              "    </tr>\n",
              "  </thead>\n",
              "  <tbody>\n",
              "    <tr>\n",
              "      <th>0</th>\n",
              "      <td>245946</td>\n",
              "      <td>163</td>\n",
              "      <td>1289</td>\n",
              "      <td>16209.00</td>\n",
              "      <td>0</td>\n",
              "      <td>0</td>\n",
              "      <td>11407.3238</td>\n",
              "    </tr>\n",
              "    <tr>\n",
              "      <th>1</th>\n",
              "      <td>66467</td>\n",
              "      <td>89</td>\n",
              "      <td>309</td>\n",
              "      <td>4891.42</td>\n",
              "      <td>123</td>\n",
              "      <td>38</td>\n",
              "      <td>8032.9547</td>\n",
              "    </tr>\n",
              "    <tr>\n",
              "      <th>2</th>\n",
              "      <td>45732</td>\n",
              "      <td>59</td>\n",
              "      <td>227</td>\n",
              "      <td>2637.33</td>\n",
              "      <td>89</td>\n",
              "      <td>115</td>\n",
              "      <td>4048.6332</td>\n",
              "    </tr>\n",
              "    <tr>\n",
              "      <th>3</th>\n",
              "      <td>14916</td>\n",
              "      <td>21</td>\n",
              "      <td>60</td>\n",
              "      <td>541.42</td>\n",
              "      <td>39</td>\n",
              "      <td>48</td>\n",
              "      <td>1591.0708</td>\n",
              "    </tr>\n",
              "    <tr>\n",
              "      <th>4</th>\n",
              "      <td>5518</td>\n",
              "      <td>3</td>\n",
              "      <td>40</td>\n",
              "      <td>325.00</td>\n",
              "      <td>32</td>\n",
              "      <td>28</td>\n",
              "      <td>871.4168</td>\n",
              "    </tr>\n",
              "    <tr>\n",
              "      <th>5</th>\n",
              "      <td>8803</td>\n",
              "      <td>3</td>\n",
              "      <td>57</td>\n",
              "      <td>405.00</td>\n",
              "      <td>62</td>\n",
              "      <td>48</td>\n",
              "      <td>1621.9000</td>\n",
              "    </tr>\n",
              "    <tr>\n",
              "      <th>6</th>\n",
              "      <td>4269</td>\n",
              "      <td>4</td>\n",
              "      <td>36</td>\n",
              "      <td>182.00</td>\n",
              "      <td>39</td>\n",
              "      <td>33</td>\n",
              "      <td>352.4000</td>\n",
              "    </tr>\n",
              "    <tr>\n",
              "      <th>7</th>\n",
              "      <td>2363</td>\n",
              "      <td>0</td>\n",
              "      <td>18</td>\n",
              "      <td>94.00</td>\n",
              "      <td>26</td>\n",
              "      <td>16</td>\n",
              "      <td>281.4000</td>\n",
              "    </tr>\n",
              "    <tr>\n",
              "      <th>10</th>\n",
              "      <td>3372</td>\n",
              "      <td>0</td>\n",
              "      <td>21</td>\n",
              "      <td>168.00</td>\n",
              "      <td>56</td>\n",
              "      <td>14</td>\n",
              "      <td>486.8500</td>\n",
              "    </tr>\n",
              "  </tbody>\n",
              "</table>\n",
              "</div>"
            ],
            "text/plain": [
              "            PassengerId  Survived  Pclass       Age  SibSp  Parch        Fare\n",
              "Familysize                                                                   \n",
              "0                245946       163    1289  16209.00      0      0  11407.3238\n",
              "1                 66467        89     309   4891.42    123     38   8032.9547\n",
              "2                 45732        59     227   2637.33     89    115   4048.6332\n",
              "3                 14916        21      60    541.42     39     48   1591.0708\n",
              "4                  5518         3      40    325.00     32     28    871.4168\n",
              "5                  8803         3      57    405.00     62     48   1621.9000\n",
              "6                  4269         4      36    182.00     39     33    352.4000\n",
              "7                  2363         0      18     94.00     26     16    281.4000\n",
              "10                 3372         0      21    168.00     56     14    486.8500"
            ]
          },
          "execution_count": 23,
          "metadata": {},
          "output_type": "execute_result"
        }
      ],
      "source": [
        "G3.sum()"
      ]
    },
    {
      "cell_type": "markdown",
      "metadata": {},
      "source": [
        "## plot total fare and number of survived by familysize"
      ]
    },
    {
      "cell_type": "code",
      "execution_count": 24,
      "metadata": {},
      "outputs": [
        {
          "data": {
            "text/html": [
              "<div>\n",
              "<style scoped>\n",
              "    .dataframe tbody tr th:only-of-type {\n",
              "        vertical-align: middle;\n",
              "    }\n",
              "\n",
              "    .dataframe tbody tr th {\n",
              "        vertical-align: top;\n",
              "    }\n",
              "\n",
              "    .dataframe thead th {\n",
              "        text-align: right;\n",
              "    }\n",
              "</style>\n",
              "<table border=\"1\" class=\"dataframe\">\n",
              "  <thead>\n",
              "    <tr style=\"text-align: right;\">\n",
              "      <th>Familysize</th>\n",
              "      <th>0</th>\n",
              "      <th>1</th>\n",
              "      <th>2</th>\n",
              "      <th>3</th>\n",
              "      <th>4</th>\n",
              "      <th>5</th>\n",
              "      <th>6</th>\n",
              "      <th>7</th>\n",
              "      <th>10</th>\n",
              "    </tr>\n",
              "  </thead>\n",
              "  <tbody>\n",
              "    <tr>\n",
              "      <th>Fare</th>\n",
              "      <td>11407.3238</td>\n",
              "      <td>8032.9547</td>\n",
              "      <td>4048.6332</td>\n",
              "      <td>1591.0708</td>\n",
              "      <td>871.4168</td>\n",
              "      <td>1621.9</td>\n",
              "      <td>352.4</td>\n",
              "      <td>281.4</td>\n",
              "      <td>486.85</td>\n",
              "    </tr>\n",
              "    <tr>\n",
              "      <th>Survived</th>\n",
              "      <td>163.0000</td>\n",
              "      <td>89.0000</td>\n",
              "      <td>59.0000</td>\n",
              "      <td>21.0000</td>\n",
              "      <td>3.0000</td>\n",
              "      <td>3.0</td>\n",
              "      <td>4.0</td>\n",
              "      <td>0.0</td>\n",
              "      <td>0.00</td>\n",
              "    </tr>\n",
              "  </tbody>\n",
              "</table>\n",
              "</div>"
            ],
            "text/plain": [
              "Familysize          0          1          2          3         4       5   \\\n",
              "Fare        11407.3238  8032.9547  4048.6332  1591.0708  871.4168  1621.9   \n",
              "Survived      163.0000    89.0000    59.0000    21.0000    3.0000     3.0   \n",
              "\n",
              "Familysize     6      7       10  \n",
              "Fare        352.4  281.4  486.85  \n",
              "Survived      4.0    0.0    0.00  "
            ]
          },
          "execution_count": 24,
          "metadata": {},
          "output_type": "execute_result"
        }
      ],
      "source": [
        "\n",
        "totalfare=G3['Fare'].sum()\n",
        "totalsurvived=G3['Survived'].sum()\n",
        "df1=pd.DataFrame([totalfare,totalsurvived])\n",
        "df1\n"
      ]
    },
    {
      "cell_type": "code",
      "execution_count": 25,
      "metadata": {},
      "outputs": [
        {
          "data": {
            "text/plain": [
              "<AxesSubplot:ylabel='total'>"
            ]
          },
          "execution_count": 25,
          "metadata": {},
          "output_type": "execute_result"
        },
        {
          "data": {
            "image/png": "[encoded data removed]",
            "text/plain": [
              "<Figure size 432x288 with 1 Axes>"
            ]
          },
          "metadata": {
            "needs_background": "light"
          },
          "output_type": "display_data"
        }
      ],
      "source": [
        "df1.plot.bar(ylabel='total')"
      ]
    },
    {
      "cell_type": "markdown",
      "metadata": {},
      "source": [
        "## Get totalsurvive vs total fare side by side needs to unstack the columns of df1"
      ]
    },
    {
      "cell_type": "code",
      "execution_count": 26,
      "metadata": {},
      "outputs": [
        {
          "data": {
            "text/html": [
              "<div>\n",
              "<style scoped>\n",
              "    .dataframe tbody tr th:only-of-type {\n",
              "        vertical-align: middle;\n",
              "    }\n",
              "\n",
              "    .dataframe tbody tr th {\n",
              "        vertical-align: top;\n",
              "    }\n",
              "\n",
              "    .dataframe thead th {\n",
              "        text-align: right;\n",
              "    }\n",
              "</style>\n",
              "<table border=\"1\" class=\"dataframe\">\n",
              "  <thead>\n",
              "    <tr style=\"text-align: right;\">\n",
              "      <th></th>\n",
              "      <th>Fare</th>\n",
              "      <th>Survived</th>\n",
              "    </tr>\n",
              "    <tr>\n",
              "      <th>Familysize</th>\n",
              "      <th></th>\n",
              "      <th></th>\n",
              "    </tr>\n",
              "  </thead>\n",
              "  <tbody>\n",
              "    <tr>\n",
              "      <th>0</th>\n",
              "      <td>11407.3238</td>\n",
              "      <td>163.0</td>\n",
              "    </tr>\n",
              "    <tr>\n",
              "      <th>1</th>\n",
              "      <td>8032.9547</td>\n",
              "      <td>89.0</td>\n",
              "    </tr>\n",
              "    <tr>\n",
              "      <th>2</th>\n",
              "      <td>4048.6332</td>\n",
              "      <td>59.0</td>\n",
              "    </tr>\n",
              "    <tr>\n",
              "      <th>3</th>\n",
              "      <td>1591.0708</td>\n",
              "      <td>21.0</td>\n",
              "    </tr>\n",
              "    <tr>\n",
              "      <th>4</th>\n",
              "      <td>871.4168</td>\n",
              "      <td>3.0</td>\n",
              "    </tr>\n",
              "    <tr>\n",
              "      <th>5</th>\n",
              "      <td>1621.9000</td>\n",
              "      <td>3.0</td>\n",
              "    </tr>\n",
              "    <tr>\n",
              "      <th>6</th>\n",
              "      <td>352.4000</td>\n",
              "      <td>4.0</td>\n",
              "    </tr>\n",
              "    <tr>\n",
              "      <th>7</th>\n",
              "      <td>281.4000</td>\n",
              "      <td>0.0</td>\n",
              "    </tr>\n",
              "    <tr>\n",
              "      <th>10</th>\n",
              "      <td>486.8500</td>\n",
              "      <td>0.0</td>\n",
              "    </tr>\n",
              "  </tbody>\n",
              "</table>\n",
              "</div>"
            ],
            "text/plain": [
              "                  Fare  Survived\n",
              "Familysize                      \n",
              "0           11407.3238     163.0\n",
              "1            8032.9547      89.0\n",
              "2            4048.6332      59.0\n",
              "3            1591.0708      21.0\n",
              "4             871.4168       3.0\n",
              "5            1621.9000       3.0\n",
              "6             352.4000       4.0\n",
              "7             281.4000       0.0\n",
              "10            486.8500       0.0"
            ]
          },
          "execution_count": 26,
          "metadata": {},
          "output_type": "execute_result"
        }
      ],
      "source": [
        "df2=df1.unstack(level=0)\n",
        "df2\n",
        "df2=df2.unstack()\n",
        "df2"
      ]
    },
    {
      "cell_type": "code",
      "execution_count": 27,
      "metadata": {},
      "outputs": [
        {
          "data": {
            "text/plain": [
              "<AxesSubplot:xlabel='Familysize', ylabel='total'>"
            ]
          },
          "execution_count": 27,
          "metadata": {},
          "output_type": "execute_result"
        },
        {
          "data": {
            "image/png": "[encoded data removed]",
            "text/plain": [
              "<Figure size 432x288 with 1 Axes>"
            ]
          },
          "metadata": {
            "needs_background": "light"
          },
          "output_type": "display_data"
        }
      ],
      "source": [
        "df2.plot.bar(ylabel='total')"
      ]
    },
    {
      "cell_type": "markdown",
      "metadata": {},
      "source": [
        "## Find maximum family size of male/female"
      ]
    },
    {
      "cell_type": "code",
      "execution_count": 28,
      "metadata": {},
      "outputs": [
        {
          "data": {
            "text/html": [
              "<div>\n",
              "<style scoped>\n",
              "    .dataframe tbody tr th:only-of-type {\n",
              "        vertical-align: middle;\n",
              "    }\n",
              "\n",
              "    .dataframe tbody tr th {\n",
              "        vertical-align: top;\n",
              "    }\n",
              "\n",
              "    .dataframe thead th {\n",
              "        text-align: right;\n",
              "    }\n",
              "</style>\n",
              "<table border=\"1\" class=\"dataframe\">\n",
              "  <thead>\n",
              "    <tr style=\"text-align: right;\">\n",
              "      <th></th>\n",
              "      <th>count</th>\n",
              "      <th>mean</th>\n",
              "      <th>std</th>\n",
              "      <th>min</th>\n",
              "      <th>25%</th>\n",
              "      <th>50%</th>\n",
              "      <th>75%</th>\n",
              "      <th>max</th>\n",
              "    </tr>\n",
              "    <tr>\n",
              "      <th>Sex</th>\n",
              "      <th></th>\n",
              "      <th></th>\n",
              "      <th></th>\n",
              "      <th></th>\n",
              "      <th></th>\n",
              "      <th></th>\n",
              "      <th></th>\n",
              "      <th></th>\n",
              "    </tr>\n",
              "  </thead>\n",
              "  <tbody>\n",
              "    <tr>\n",
              "      <th>female</th>\n",
              "      <td>314.0</td>\n",
              "      <td>1.343949</td>\n",
              "      <td>1.755733</td>\n",
              "      <td>0.0</td>\n",
              "      <td>0.0</td>\n",
              "      <td>1.0</td>\n",
              "      <td>2.0</td>\n",
              "      <td>10.0</td>\n",
              "    </tr>\n",
              "    <tr>\n",
              "      <th>male</th>\n",
              "      <td>577.0</td>\n",
              "      <td>0.665511</td>\n",
              "      <td>1.478106</td>\n",
              "      <td>0.0</td>\n",
              "      <td>0.0</td>\n",
              "      <td>0.0</td>\n",
              "      <td>1.0</td>\n",
              "      <td>10.0</td>\n",
              "    </tr>\n",
              "  </tbody>\n",
              "</table>\n",
              "</div>"
            ],
            "text/plain": [
              "        count      mean       std  min  25%  50%  75%   max\n",
              "Sex                                                        \n",
              "female  314.0  1.343949  1.755733  0.0  0.0  1.0  2.0  10.0\n",
              "male    577.0  0.665511  1.478106  0.0  0.0  0.0  1.0  10.0"
            ]
          },
          "execution_count": 28,
          "metadata": {},
          "output_type": "execute_result"
        }
      ],
      "source": [
        "GF=titanicdf1.groupby('Sex')\n",
        "GF['Familysize'].describe()"
      ]
    },
    {
      "cell_type": "code",
      "execution_count": 29,
      "metadata": {},
      "outputs": [
        {
          "data": {
            "text/plain": [
              "Sex\n",
              "female    10.0\n",
              "male      10.0\n",
              "Name: max, dtype: float64"
            ]
          },
          "execution_count": 29,
          "metadata": {},
          "output_type": "execute_result"
        }
      ],
      "source": [
        "GF['Familysize'].describe()['max']"
      ]
    },
    {
      "cell_type": "markdown",
      "metadata": {},
      "source": [
        "## find meanage genderwise"
      ]
    },
    {
      "cell_type": "code",
      "execution_count": 30,
      "metadata": {},
      "outputs": [
        {
          "data": {
            "text/plain": [
              "Sex\n",
              "female    27.254777\n",
              "male      29.281057\n",
              "Name: Age, dtype: float64"
            ]
          },
          "execution_count": 30,
          "metadata": {},
          "output_type": "execute_result"
        }
      ],
      "source": [
        "GF['Age'].mean()"
      ]
    },
    {
      "cell_type": "markdown",
      "metadata": {},
      "source": [
        "# grouping by mapping"
      ]
    },
    {
      "cell_type": "code",
      "execution_count": 31,
      "metadata": {},
      "outputs": [
        {
          "data": {
            "text/html": [
              "<div>\n",
              "<style scoped>\n",
              "    .dataframe tbody tr th:only-of-type {\n",
              "        vertical-align: middle;\n",
              "    }\n",
              "\n",
              "    .dataframe tbody tr th {\n",
              "        vertical-align: top;\n",
              "    }\n",
              "\n",
              "    .dataframe thead th {\n",
              "        text-align: right;\n",
              "    }\n",
              "</style>\n",
              "<table border=\"1\" class=\"dataframe\">\n",
              "  <thead>\n",
              "    <tr style=\"text-align: right;\">\n",
              "      <th></th>\n",
              "      <th>a</th>\n",
              "      <th>b</th>\n",
              "      <th>c</th>\n",
              "      <th>d</th>\n",
              "      <th>e</th>\n",
              "    </tr>\n",
              "  </thead>\n",
              "  <tbody>\n",
              "    <tr>\n",
              "      <th>Joe</th>\n",
              "      <td>0.005257</td>\n",
              "      <td>0.372053</td>\n",
              "      <td>3.782610</td>\n",
              "      <td>-1.531540</td>\n",
              "      <td>-1.141374</td>\n",
              "    </tr>\n",
              "    <tr>\n",
              "      <th>Steve</th>\n",
              "      <td>-0.377285</td>\n",
              "      <td>-0.553785</td>\n",
              "      <td>1.660482</td>\n",
              "      <td>-1.092785</td>\n",
              "      <td>0.625017</td>\n",
              "    </tr>\n",
              "    <tr>\n",
              "      <th>Wes</th>\n",
              "      <td>1.462555</td>\n",
              "      <td>NaN</td>\n",
              "      <td>NaN</td>\n",
              "      <td>-0.362089</td>\n",
              "      <td>0.866551</td>\n",
              "    </tr>\n",
              "    <tr>\n",
              "      <th>Jim</th>\n",
              "      <td>-0.667440</td>\n",
              "      <td>-2.892687</td>\n",
              "      <td>-0.454222</td>\n",
              "      <td>-0.826719</td>\n",
              "      <td>0.539918</td>\n",
              "    </tr>\n",
              "    <tr>\n",
              "      <th>Travis</th>\n",
              "      <td>-0.592500</td>\n",
              "      <td>1.424927</td>\n",
              "      <td>0.329145</td>\n",
              "      <td>-1.026139</td>\n",
              "      <td>-2.142034</td>\n",
              "    </tr>\n",
              "  </tbody>\n",
              "</table>\n",
              "</div>"
            ],
            "text/plain": [
              "               a         b         c         d         e\n",
              "Joe     0.005257  0.372053  3.782610 -1.531540 -1.141374\n",
              "Steve  -0.377285 -0.553785  1.660482 -1.092785  0.625017\n",
              "Wes     1.462555       NaN       NaN -0.362089  0.866551\n",
              "Jim    -0.667440 -2.892687 -0.454222 -0.826719  0.539918\n",
              "Travis -0.592500  1.424927  0.329145 -1.026139 -2.142034"
            ]
          },
          "execution_count": 31,
          "metadata": {},
          "output_type": "execute_result"
        }
      ],
      "source": [
        "dfnew = pd.DataFrame(np.random.randn(5, 5),\n",
        "                      columns=['a', 'b', 'c', 'd', 'e'],\n",
        "                      index=['Joe', 'Steve', 'Wes', 'Jim', 'Travis'])\n",
        "dfnew.iloc[2:3, [1, 2]] = np.nan # Add a few NA values\n",
        "dfnew"
      ]
    },
    {
      "cell_type": "code",
      "execution_count": 33,
      "metadata": {},
      "outputs": [],
      "source": [
        "mapping = {'a': 'red', 'b': 'red', 'c': 'blue',\n",
        "           'd': 'blue', 'e': 'red', 'f' : 'orange'}"
      ]
    },
    {
      "cell_type": "code",
      "execution_count": 34,
      "metadata": {},
      "outputs": [
        {
          "data": {
            "text/html": [
              "<div>\n",
              "<style scoped>\n",
              "    .dataframe tbody tr th:only-of-type {\n",
              "        vertical-align: middle;\n",
              "    }\n",
              "\n",
              "    .dataframe tbody tr th {\n",
              "        vertical-align: top;\n",
              "    }\n",
              "\n",
              "    .dataframe thead th {\n",
              "        text-align: right;\n",
              "    }\n",
              "</style>\n",
              "<table border=\"1\" class=\"dataframe\">\n",
              "  <thead>\n",
              "    <tr style=\"text-align: right;\">\n",
              "      <th></th>\n",
              "      <th>blue</th>\n",
              "      <th>red</th>\n",
              "    </tr>\n",
              "  </thead>\n",
              "  <tbody>\n",
              "    <tr>\n",
              "      <th>Joe</th>\n",
              "      <td>2.251070</td>\n",
              "      <td>-0.764064</td>\n",
              "    </tr>\n",
              "    <tr>\n",
              "      <th>Steve</th>\n",
              "      <td>0.567698</td>\n",
              "      <td>-0.306053</td>\n",
              "    </tr>\n",
              "    <tr>\n",
              "      <th>Wes</th>\n",
              "      <td>-0.362089</td>\n",
              "      <td>2.329106</td>\n",
              "    </tr>\n",
              "    <tr>\n",
              "      <th>Jim</th>\n",
              "      <td>-1.280940</td>\n",
              "      <td>-3.020210</td>\n",
              "    </tr>\n",
              "    <tr>\n",
              "      <th>Travis</th>\n",
              "      <td>-0.696995</td>\n",
              "      <td>-1.309607</td>\n",
              "    </tr>\n",
              "  </tbody>\n",
              "</table>\n",
              "</div>"
            ],
            "text/plain": [
              "            blue       red\n",
              "Joe     2.251070 -0.764064\n",
              "Steve   0.567698 -0.306053\n",
              "Wes    -0.362089  2.329106\n",
              "Jim    -1.280940 -3.020210\n",
              "Travis -0.696995 -1.309607"
            ]
          },
          "execution_count": 34,
          "metadata": {},
          "output_type": "execute_result"
        }
      ],
      "source": [
        "by_column = dfnew.groupby(mapping, axis=1)\n",
        "by_column.sum()"
      ]
    },
    {
      "cell_type": "markdown",
      "metadata": {},
      "source": [
        "## grouping with functions: make groups using length of index labels"
      ]
    },
    {
      "cell_type": "code",
      "execution_count": 35,
      "metadata": {},
      "outputs": [
        {
          "data": {
            "text/html": [
              "<div>\n",
              "<style scoped>\n",
              "    .dataframe tbody tr th:only-of-type {\n",
              "        vertical-align: middle;\n",
              "    }\n",
              "\n",
              "    .dataframe tbody tr th {\n",
              "        vertical-align: top;\n",
              "    }\n",
              "\n",
              "    .dataframe thead th {\n",
              "        text-align: right;\n",
              "    }\n",
              "</style>\n",
              "<table border=\"1\" class=\"dataframe\">\n",
              "  <thead>\n",
              "    <tr style=\"text-align: right;\">\n",
              "      <th></th>\n",
              "      <th>a</th>\n",
              "      <th>b</th>\n",
              "      <th>c</th>\n",
              "      <th>d</th>\n",
              "      <th>e</th>\n",
              "    </tr>\n",
              "  </thead>\n",
              "  <tbody>\n",
              "    <tr>\n",
              "      <th>3</th>\n",
              "      <td>0.800371</td>\n",
              "      <td>-2.520635</td>\n",
              "      <td>3.328388</td>\n",
              "      <td>-2.720348</td>\n",
              "      <td>0.265095</td>\n",
              "    </tr>\n",
              "    <tr>\n",
              "      <th>5</th>\n",
              "      <td>-0.377285</td>\n",
              "      <td>-0.553785</td>\n",
              "      <td>1.660482</td>\n",
              "      <td>-1.092785</td>\n",
              "      <td>0.625017</td>\n",
              "    </tr>\n",
              "    <tr>\n",
              "      <th>6</th>\n",
              "      <td>-0.592500</td>\n",
              "      <td>1.424927</td>\n",
              "      <td>0.329145</td>\n",
              "      <td>-1.026139</td>\n",
              "      <td>-2.142034</td>\n",
              "    </tr>\n",
              "  </tbody>\n",
              "</table>\n",
              "</div>"
            ],
            "text/plain": [
              "          a         b         c         d         e\n",
              "3  0.800371 -2.520635  3.328388 -2.720348  0.265095\n",
              "5 -0.377285 -0.553785  1.660482 -1.092785  0.625017\n",
              "6 -0.592500  1.424927  0.329145 -1.026139 -2.142034"
            ]
          },
          "execution_count": 35,
          "metadata": {},
          "output_type": "execute_result"
        }
      ],
      "source": [
        "dfnew.groupby(len).sum()"
      ]
    },
    {
      "cell_type": "code",
      "execution_count": 36,
      "metadata": {},
      "outputs": [
        {
          "data": {
            "text/html": [
              "<div>\n",
              "<style scoped>\n",
              "    .dataframe tbody tr th:only-of-type {\n",
              "        vertical-align: middle;\n",
              "    }\n",
              "\n",
              "    .dataframe tbody tr th {\n",
              "        vertical-align: top;\n",
              "    }\n",
              "\n",
              "    .dataframe thead th {\n",
              "        text-align: right;\n",
              "    }\n",
              "</style>\n",
              "<table border=\"1\" class=\"dataframe\">\n",
              "  <thead>\n",
              "    <tr style=\"text-align: right;\">\n",
              "      <th></th>\n",
              "      <th>a</th>\n",
              "      <th>b</th>\n",
              "      <th>c</th>\n",
              "      <th>d</th>\n",
              "      <th>e</th>\n",
              "    </tr>\n",
              "  </thead>\n",
              "  <tbody>\n",
              "    <tr>\n",
              "      <th>3</th>\n",
              "      <td>3</td>\n",
              "      <td>2</td>\n",
              "      <td>2</td>\n",
              "      <td>3</td>\n",
              "      <td>3</td>\n",
              "    </tr>\n",
              "    <tr>\n",
              "      <th>5</th>\n",
              "      <td>1</td>\n",
              "      <td>1</td>\n",
              "      <td>1</td>\n",
              "      <td>1</td>\n",
              "      <td>1</td>\n",
              "    </tr>\n",
              "    <tr>\n",
              "      <th>6</th>\n",
              "      <td>1</td>\n",
              "      <td>1</td>\n",
              "      <td>1</td>\n",
              "      <td>1</td>\n",
              "      <td>1</td>\n",
              "    </tr>\n",
              "  </tbody>\n",
              "</table>\n",
              "</div>"
            ],
            "text/plain": [
              "   a  b  c  d  e\n",
              "3  3  2  2  3  3\n",
              "5  1  1  1  1  1\n",
              "6  1  1  1  1  1"
            ]
          },
          "execution_count": 36,
          "metadata": {},
          "output_type": "execute_result"
        }
      ],
      "source": [
        "dfnew.groupby(len).count()"
      ]
    },
    {
      "cell_type": "code",
      "execution_count": 37,
      "metadata": {},
      "outputs": [
        {
          "data": {
            "text/html": [
              "<div>\n",
              "<style scoped>\n",
              "    .dataframe tbody tr th:only-of-type {\n",
              "        vertical-align: middle;\n",
              "    }\n",
              "\n",
              "    .dataframe tbody tr th {\n",
              "        vertical-align: top;\n",
              "    }\n",
              "\n",
              "    .dataframe thead th {\n",
              "        text-align: right;\n",
              "    }\n",
              "</style>\n",
              "<table border=\"1\" class=\"dataframe\">\n",
              "  <thead>\n",
              "    <tr style=\"text-align: right;\">\n",
              "      <th></th>\n",
              "      <th></th>\n",
              "      <th>PassengerId</th>\n",
              "      <th>Survived</th>\n",
              "      <th>Pclass</th>\n",
              "      <th>Name</th>\n",
              "      <th>Sex</th>\n",
              "      <th>Age</th>\n",
              "      <th>SibSp</th>\n",
              "      <th>Parch</th>\n",
              "      <th>Fare</th>\n",
              "      <th>Cabin</th>\n",
              "      <th>Familysize</th>\n",
              "    </tr>\n",
              "    <tr>\n",
              "      <th>Ticket</th>\n",
              "      <th>Embarked</th>\n",
              "      <th></th>\n",
              "      <th></th>\n",
              "      <th></th>\n",
              "      <th></th>\n",
              "      <th></th>\n",
              "      <th></th>\n",
              "      <th></th>\n",
              "      <th></th>\n",
              "      <th></th>\n",
              "      <th></th>\n",
              "      <th></th>\n",
              "    </tr>\n",
              "  </thead>\n",
              "  <tbody>\n",
              "    <tr>\n",
              "      <th>A/5 21171</th>\n",
              "      <th>S</th>\n",
              "      <td>1</td>\n",
              "      <td>0</td>\n",
              "      <td>3</td>\n",
              "      <td>Braund, Mr. Owen Harris</td>\n",
              "      <td>male</td>\n",
              "      <td>22.0</td>\n",
              "      <td>1</td>\n",
              "      <td>0</td>\n",
              "      <td>7.2500</td>\n",
              "      <td>B96 B98</td>\n",
              "      <td>1</td>\n",
              "    </tr>\n",
              "    <tr>\n",
              "      <th>PC 17599</th>\n",
              "      <th>C</th>\n",
              "      <td>2</td>\n",
              "      <td>1</td>\n",
              "      <td>1</td>\n",
              "      <td>Cumings, Mrs. John Bradley (Florence Briggs Th...</td>\n",
              "      <td>female</td>\n",
              "      <td>38.0</td>\n",
              "      <td>1</td>\n",
              "      <td>0</td>\n",
              "      <td>71.2833</td>\n",
              "      <td>C85</td>\n",
              "      <td>1</td>\n",
              "    </tr>\n",
              "    <tr>\n",
              "      <th>STON/O2. 3101282</th>\n",
              "      <th>S</th>\n",
              "      <td>3</td>\n",
              "      <td>1</td>\n",
              "      <td>3</td>\n",
              "      <td>Heikkinen, Miss. Laina</td>\n",
              "      <td>female</td>\n",
              "      <td>26.0</td>\n",
              "      <td>0</td>\n",
              "      <td>0</td>\n",
              "      <td>7.9250</td>\n",
              "      <td>B96 B98</td>\n",
              "      <td>0</td>\n",
              "    </tr>\n",
              "    <tr>\n",
              "      <th>113803</th>\n",
              "      <th>S</th>\n",
              "      <td>4</td>\n",
              "      <td>1</td>\n",
              "      <td>1</td>\n",
              "      <td>Futrelle, Mrs. Jacques Heath (Lily May Peel)</td>\n",
              "      <td>female</td>\n",
              "      <td>35.0</td>\n",
              "      <td>1</td>\n",
              "      <td>0</td>\n",
              "      <td>53.1000</td>\n",
              "      <td>C123</td>\n",
              "      <td>1</td>\n",
              "    </tr>\n",
              "    <tr>\n",
              "      <th>373450</th>\n",
              "      <th>S</th>\n",
              "      <td>5</td>\n",
              "      <td>0</td>\n",
              "      <td>3</td>\n",
              "      <td>Allen, Mr. William Henry</td>\n",
              "      <td>male</td>\n",
              "      <td>35.0</td>\n",
              "      <td>0</td>\n",
              "      <td>0</td>\n",
              "      <td>8.0500</td>\n",
              "      <td>B96 B98</td>\n",
              "      <td>0</td>\n",
              "    </tr>\n",
              "    <tr>\n",
              "      <th>...</th>\n",
              "      <th>...</th>\n",
              "      <td>...</td>\n",
              "      <td>...</td>\n",
              "      <td>...</td>\n",
              "      <td>...</td>\n",
              "      <td>...</td>\n",
              "      <td>...</td>\n",
              "      <td>...</td>\n",
              "      <td>...</td>\n",
              "      <td>...</td>\n",
              "      <td>...</td>\n",
              "      <td>...</td>\n",
              "    </tr>\n",
              "    <tr>\n",
              "      <th>211536</th>\n",
              "      <th>S</th>\n",
              "      <td>887</td>\n",
              "      <td>0</td>\n",
              "      <td>2</td>\n",
              "      <td>Montvila, Rev. Juozas</td>\n",
              "      <td>male</td>\n",
              "      <td>27.0</td>\n",
              "      <td>0</td>\n",
              "      <td>0</td>\n",
              "      <td>13.0000</td>\n",
              "      <td>B96 B98</td>\n",
              "      <td>0</td>\n",
              "    </tr>\n",
              "    <tr>\n",
              "      <th>112053</th>\n",
              "      <th>S</th>\n",
              "      <td>888</td>\n",
              "      <td>1</td>\n",
              "      <td>1</td>\n",
              "      <td>Graham, Miss. Margaret Edith</td>\n",
              "      <td>female</td>\n",
              "      <td>19.0</td>\n",
              "      <td>0</td>\n",
              "      <td>0</td>\n",
              "      <td>30.0000</td>\n",
              "      <td>B42</td>\n",
              "      <td>0</td>\n",
              "    </tr>\n",
              "    <tr>\n",
              "      <th>W./C. 6607</th>\n",
              "      <th>S</th>\n",
              "      <td>889</td>\n",
              "      <td>0</td>\n",
              "      <td>3</td>\n",
              "      <td>Johnston, Miss. Catherine Helen \"Carrie\"</td>\n",
              "      <td>female</td>\n",
              "      <td>24.0</td>\n",
              "      <td>1</td>\n",
              "      <td>2</td>\n",
              "      <td>23.4500</td>\n",
              "      <td>B96 B98</td>\n",
              "      <td>3</td>\n",
              "    </tr>\n",
              "    <tr>\n",
              "      <th>111369</th>\n",
              "      <th>C</th>\n",
              "      <td>890</td>\n",
              "      <td>1</td>\n",
              "      <td>1</td>\n",
              "      <td>Behr, Mr. Karl Howell</td>\n",
              "      <td>male</td>\n",
              "      <td>26.0</td>\n",
              "      <td>0</td>\n",
              "      <td>0</td>\n",
              "      <td>30.0000</td>\n",
              "      <td>C148</td>\n",
              "      <td>0</td>\n",
              "    </tr>\n",
              "    <tr>\n",
              "      <th>370376</th>\n",
              "      <th>Q</th>\n",
              "      <td>891</td>\n",
              "      <td>0</td>\n",
              "      <td>3</td>\n",
              "      <td>Dooley, Mr. Patrick</td>\n",
              "      <td>male</td>\n",
              "      <td>32.0</td>\n",
              "      <td>0</td>\n",
              "      <td>0</td>\n",
              "      <td>7.7500</td>\n",
              "      <td>B96 B98</td>\n",
              "      <td>0</td>\n",
              "    </tr>\n",
              "  </tbody>\n",
              "</table>\n",
              "<p>891 rows × 11 columns</p>\n",
              "</div>"
            ],
            "text/plain": [
              "                           PassengerId  Survived  Pclass  \\\n",
              "Ticket           Embarked                                  \n",
              "A/5 21171        S                   1         0       3   \n",
              "PC 17599         C                   2         1       1   \n",
              "STON/O2. 3101282 S                   3         1       3   \n",
              "113803           S                   4         1       1   \n",
              "373450           S                   5         0       3   \n",
              "...                                ...       ...     ...   \n",
              "211536           S                 887         0       2   \n",
              "112053           S                 888         1       1   \n",
              "W./C. 6607       S                 889         0       3   \n",
              "111369           C                 890         1       1   \n",
              "370376           Q                 891         0       3   \n",
              "\n",
              "                                                                        Name  \\\n",
              "Ticket           Embarked                                                      \n",
              "A/5 21171        S                                   Braund, Mr. Owen Harris   \n",
              "PC 17599         C         Cumings, Mrs. John Bradley (Florence Briggs Th...   \n",
              "STON/O2. 3101282 S                                    Heikkinen, Miss. Laina   \n",
              "113803           S              Futrelle, Mrs. Jacques Heath (Lily May Peel)   \n",
              "373450           S                                  Allen, Mr. William Henry   \n",
              "...                                                                      ...   \n",
              "211536           S                                     Montvila, Rev. Juozas   \n",
              "112053           S                              Graham, Miss. Margaret Edith   \n",
              "W./C. 6607       S                  Johnston, Miss. Catherine Helen \"Carrie\"   \n",
              "111369           C                                     Behr, Mr. Karl Howell   \n",
              "370376           Q                                       Dooley, Mr. Patrick   \n",
              "\n",
              "                              Sex   Age  SibSp  Parch     Fare    Cabin  \\\n",
              "Ticket           Embarked                                                 \n",
              "A/5 21171        S           male  22.0      1      0   7.2500  B96 B98   \n",
              "PC 17599         C         female  38.0      1      0  71.2833      C85   \n",
              "STON/O2. 3101282 S         female  26.0      0      0   7.9250  B96 B98   \n",
              "113803           S         female  35.0      1      0  53.1000     C123   \n",
              "373450           S           male  35.0      0      0   8.0500  B96 B98   \n",
              "...                           ...   ...    ...    ...      ...      ...   \n",
              "211536           S           male  27.0      0      0  13.0000  B96 B98   \n",
              "112053           S         female  19.0      0      0  30.0000      B42   \n",
              "W./C. 6607       S         female  24.0      1      2  23.4500  B96 B98   \n",
              "111369           C           male  26.0      0      0  30.0000     C148   \n",
              "370376           Q           male  32.0      0      0   7.7500  B96 B98   \n",
              "\n",
              "                           Familysize  \n",
              "Ticket           Embarked              \n",
              "A/5 21171        S                  1  \n",
              "PC 17599         C                  1  \n",
              "STON/O2. 3101282 S                  0  \n",
              "113803           S                  1  \n",
              "373450           S                  0  \n",
              "...                               ...  \n",
              "211536           S                  0  \n",
              "112053           S                  0  \n",
              "W./C. 6607       S                  3  \n",
              "111369           C                  0  \n",
              "370376           Q                  0  \n",
              "\n",
              "[891 rows x 11 columns]"
            ]
          },
          "execution_count": 37,
          "metadata": {},
          "output_type": "execute_result"
        }
      ],
      "source": [
        "titanicdf1.set_index(['Ticket','Embarked'])"
      ]
    },
    {
      "cell_type": "code",
      "execution_count": 38,
      "metadata": {},
      "outputs": [
        {
          "data": {
            "text/html": [
              "<div>\n",
              "<style scoped>\n",
              "    .dataframe tbody tr th:only-of-type {\n",
              "        vertical-align: middle;\n",
              "    }\n",
              "\n",
              "    .dataframe tbody tr th {\n",
              "        vertical-align: top;\n",
              "    }\n",
              "\n",
              "    .dataframe thead th {\n",
              "        text-align: right;\n",
              "    }\n",
              "</style>\n",
              "<table border=\"1\" class=\"dataframe\">\n",
              "  <thead>\n",
              "    <tr style=\"text-align: right;\">\n",
              "      <th></th>\n",
              "      <th>PassengerId</th>\n",
              "      <th>Survived</th>\n",
              "      <th>Pclass</th>\n",
              "      <th>Name</th>\n",
              "      <th>Sex</th>\n",
              "      <th>Age</th>\n",
              "      <th>SibSp</th>\n",
              "      <th>Parch</th>\n",
              "      <th>Ticket</th>\n",
              "      <th>Fare</th>\n",
              "      <th>Cabin</th>\n",
              "      <th>Embarked</th>\n",
              "      <th>Familysize</th>\n",
              "    </tr>\n",
              "  </thead>\n",
              "  <tbody>\n",
              "    <tr>\n",
              "      <th>0</th>\n",
              "      <td>1</td>\n",
              "      <td>0</td>\n",
              "      <td>3</td>\n",
              "      <td>Braund, Mr. Owen Harris</td>\n",
              "      <td>male</td>\n",
              "      <td>22.0</td>\n",
              "      <td>1</td>\n",
              "      <td>0</td>\n",
              "      <td>A/5 21171</td>\n",
              "      <td>7.2500</td>\n",
              "      <td>B96 B98</td>\n",
              "      <td>S</td>\n",
              "      <td>1</td>\n",
              "    </tr>\n",
              "    <tr>\n",
              "      <th>1</th>\n",
              "      <td>2</td>\n",
              "      <td>1</td>\n",
              "      <td>1</td>\n",
              "      <td>Cumings, Mrs. John Bradley (Florence Briggs Th...</td>\n",
              "      <td>female</td>\n",
              "      <td>38.0</td>\n",
              "      <td>1</td>\n",
              "      <td>0</td>\n",
              "      <td>PC 17599</td>\n",
              "      <td>71.2833</td>\n",
              "      <td>C85</td>\n",
              "      <td>C</td>\n",
              "      <td>1</td>\n",
              "    </tr>\n",
              "    <tr>\n",
              "      <th>2</th>\n",
              "      <td>3</td>\n",
              "      <td>1</td>\n",
              "      <td>3</td>\n",
              "      <td>Heikkinen, Miss. Laina</td>\n",
              "      <td>female</td>\n",
              "      <td>26.0</td>\n",
              "      <td>0</td>\n",
              "      <td>0</td>\n",
              "      <td>STON/O2. 3101282</td>\n",
              "      <td>7.9250</td>\n",
              "      <td>B96 B98</td>\n",
              "      <td>S</td>\n",
              "      <td>0</td>\n",
              "    </tr>\n",
              "    <tr>\n",
              "      <th>3</th>\n",
              "      <td>4</td>\n",
              "      <td>1</td>\n",
              "      <td>1</td>\n",
              "      <td>Futrelle, Mrs. Jacques Heath (Lily May Peel)</td>\n",
              "      <td>female</td>\n",
              "      <td>35.0</td>\n",
              "      <td>1</td>\n",
              "      <td>0</td>\n",
              "      <td>113803</td>\n",
              "      <td>53.1000</td>\n",
              "      <td>C123</td>\n",
              "      <td>S</td>\n",
              "      <td>1</td>\n",
              "    </tr>\n",
              "    <tr>\n",
              "      <th>4</th>\n",
              "      <td>5</td>\n",
              "      <td>0</td>\n",
              "      <td>3</td>\n",
              "      <td>Allen, Mr. William Henry</td>\n",
              "      <td>male</td>\n",
              "      <td>35.0</td>\n",
              "      <td>0</td>\n",
              "      <td>0</td>\n",
              "      <td>373450</td>\n",
              "      <td>8.0500</td>\n",
              "      <td>B96 B98</td>\n",
              "      <td>S</td>\n",
              "      <td>0</td>\n",
              "    </tr>\n",
              "    <tr>\n",
              "      <th>...</th>\n",
              "      <td>...</td>\n",
              "      <td>...</td>\n",
              "      <td>...</td>\n",
              "      <td>...</td>\n",
              "      <td>...</td>\n",
              "      <td>...</td>\n",
              "      <td>...</td>\n",
              "      <td>...</td>\n",
              "      <td>...</td>\n",
              "      <td>...</td>\n",
              "      <td>...</td>\n",
              "      <td>...</td>\n",
              "      <td>...</td>\n",
              "    </tr>\n",
              "    <tr>\n",
              "      <th>886</th>\n",
              "      <td>887</td>\n",
              "      <td>0</td>\n",
              "      <td>2</td>\n",
              "      <td>Montvila, Rev. Juozas</td>\n",
              "      <td>male</td>\n",
              "      <td>27.0</td>\n",
              "      <td>0</td>\n",
              "      <td>0</td>\n",
              "      <td>211536</td>\n",
              "      <td>13.0000</td>\n",
              "      <td>B96 B98</td>\n",
              "      <td>S</td>\n",
              "      <td>0</td>\n",
              "    </tr>\n",
              "    <tr>\n",
              "      <th>887</th>\n",
              "      <td>888</td>\n",
              "      <td>1</td>\n",
              "      <td>1</td>\n",
              "      <td>Graham, Miss. Margaret Edith</td>\n",
              "      <td>female</td>\n",
              "      <td>19.0</td>\n",
              "      <td>0</td>\n",
              "      <td>0</td>\n",
              "      <td>112053</td>\n",
              "      <td>30.0000</td>\n",
              "      <td>B42</td>\n",
              "      <td>S</td>\n",
              "      <td>0</td>\n",
              "    </tr>\n",
              "    <tr>\n",
              "      <th>888</th>\n",
              "      <td>889</td>\n",
              "      <td>0</td>\n",
              "      <td>3</td>\n",
              "      <td>Johnston, Miss. Catherine Helen \"Carrie\"</td>\n",
              "      <td>female</td>\n",
              "      <td>24.0</td>\n",
              "      <td>1</td>\n",
              "      <td>2</td>\n",
              "      <td>W./C. 6607</td>\n",
              "      <td>23.4500</td>\n",
              "      <td>B96 B98</td>\n",
              "      <td>S</td>\n",
              "      <td>3</td>\n",
              "    </tr>\n",
              "    <tr>\n",
              "      <th>889</th>\n",
              "      <td>890</td>\n",
              "      <td>1</td>\n",
              "      <td>1</td>\n",
              "      <td>Behr, Mr. Karl Howell</td>\n",
              "      <td>male</td>\n",
              "      <td>26.0</td>\n",
              "      <td>0</td>\n",
              "      <td>0</td>\n",
              "      <td>111369</td>\n",
              "      <td>30.0000</td>\n",
              "      <td>C148</td>\n",
              "      <td>C</td>\n",
              "      <td>0</td>\n",
              "    </tr>\n",
              "    <tr>\n",
              "      <th>890</th>\n",
              "      <td>891</td>\n",
              "      <td>0</td>\n",
              "      <td>3</td>\n",
              "      <td>Dooley, Mr. Patrick</td>\n",
              "      <td>male</td>\n",
              "      <td>32.0</td>\n",
              "      <td>0</td>\n",
              "      <td>0</td>\n",
              "      <td>370376</td>\n",
              "      <td>7.7500</td>\n",
              "      <td>B96 B98</td>\n",
              "      <td>Q</td>\n",
              "      <td>0</td>\n",
              "    </tr>\n",
              "  </tbody>\n",
              "</table>\n",
              "<p>891 rows × 13 columns</p>\n",
              "</div>"
            ],
            "text/plain": [
              "     PassengerId  Survived  Pclass  \\\n",
              "0              1         0       3   \n",
              "1              2         1       1   \n",
              "2              3         1       3   \n",
              "3              4         1       1   \n",
              "4              5         0       3   \n",
              "..           ...       ...     ...   \n",
              "886          887         0       2   \n",
              "887          888         1       1   \n",
              "888          889         0       3   \n",
              "889          890         1       1   \n",
              "890          891         0       3   \n",
              "\n",
              "                                                  Name     Sex   Age  SibSp  \\\n",
              "0                              Braund, Mr. Owen Harris    male  22.0      1   \n",
              "1    Cumings, Mrs. John Bradley (Florence Briggs Th...  female  38.0      1   \n",
              "2                               Heikkinen, Miss. Laina  female  26.0      0   \n",
              "3         Futrelle, Mrs. Jacques Heath (Lily May Peel)  female  35.0      1   \n",
              "4                             Allen, Mr. William Henry    male  35.0      0   \n",
              "..                                                 ...     ...   ...    ...   \n",
              "886                              Montvila, Rev. Juozas    male  27.0      0   \n",
              "887                       Graham, Miss. Margaret Edith  female  19.0      0   \n",
              "888           Johnston, Miss. Catherine Helen \"Carrie\"  female  24.0      1   \n",
              "889                              Behr, Mr. Karl Howell    male  26.0      0   \n",
              "890                                Dooley, Mr. Patrick    male  32.0      0   \n",
              "\n",
              "     Parch            Ticket     Fare    Cabin Embarked  Familysize  \n",
              "0        0         A/5 21171   7.2500  B96 B98        S           1  \n",
              "1        0          PC 17599  71.2833      C85        C           1  \n",
              "2        0  STON/O2. 3101282   7.9250  B96 B98        S           0  \n",
              "3        0            113803  53.1000     C123        S           1  \n",
              "4        0            373450   8.0500  B96 B98        S           0  \n",
              "..     ...               ...      ...      ...      ...         ...  \n",
              "886      0            211536  13.0000  B96 B98        S           0  \n",
              "887      0            112053  30.0000      B42        S           0  \n",
              "888      2        W./C. 6607  23.4500  B96 B98        S           3  \n",
              "889      0            111369  30.0000     C148        C           0  \n",
              "890      0            370376   7.7500  B96 B98        Q           0  \n",
              "\n",
              "[891 rows x 13 columns]"
            ]
          },
          "execution_count": 38,
          "metadata": {},
          "output_type": "execute_result"
        }
      ],
      "source": [
        "titanicdf1.sort_index()\n",
        "titanicdf1"
      ]
    },
    {
      "cell_type": "markdown",
      "metadata": {},
      "source": [
        "# Revision: read the Titanic dataset and replacing null values with mode for both categorical and numeric data column"
      ]
    },
    {
      "cell_type": "code",
      "execution_count": 51,
      "metadata": {},
      "outputs": [
        {
          "data": {
            "text/plain": [
              "Index(['PassengerId', 'Survived', 'Pclass', 'Name', 'Sex', 'Age', 'SibSp',\n",
              "       'Parch', 'Ticket', 'Fare', 'Cabin', 'Embarked'],\n",
              "      dtype='object')"
            ]
          },
          "execution_count": 51,
          "metadata": {},
          "output_type": "execute_result"
        }
      ],
      "source": [
        "titanicdf1 = pd.read_csv('titanictrain.csv')\n",
        "titanicdf1.columns"
      ]
    },
    {
      "cell_type": "code",
      "execution_count": 52,
      "metadata": {},
      "outputs": [
        {
          "name": "stdout",
          "output_type": "stream",
          "text": [
            "PassengerId int64 Numeric\n",
            "Survived int64 Numeric\n",
            "Pclass int64 Numeric\n",
            "Name object Categorical\n",
            "Sex object Categorical\n",
            "Age float64 Numeric\n",
            "replacing by mode values\n",
            "SibSp int64 Numeric\n",
            "Parch int64 Numeric\n",
            "Ticket object Categorical\n",
            "Fare float64 Numeric\n",
            "Cabin object Categorical\n",
            "Null values to be replaced by modal value\n",
            "Embarked object Categorical\n",
            "Null values to be replaced by modal value\n"
          ]
        }
      ],
      "source": [
        "for col in titanicdf1:\n",
        "    if titanicdf1[col].values.dtype  in [np.int64,np.float64]:\n",
        "        print(col, titanicdf1[col].values.dtype,\"Numeric\")\n",
        "        if titanicdf1[col].isnull().sum()>0:\n",
        "            print(\"replacing by mode values\")\n",
        "            x=titanicdf1[col].mode().values\n",
        "            titanicdf1[col].replace(np.NaN,x[0],inplace=True)\n",
        "    else:\n",
        "       \n",
        "        print(col, titanicdf1[col].values.dtype,\"Categorical\")\n",
        "        if titanicdf1[col].isnull().sum()>0:\n",
        "            print(\"Null values to be replaced by modal value\")\n",
        "            m=titanicdf1[col].describe()[2]\n",
        "            titanicdf1[col].replace(np.NaN,m,inplace=True)"
      ]
    },
    {
      "cell_type": "markdown",
      "metadata": {},
      "source": [
        "## Problem1: Find description of Values in Fare column for each cabin type"
      ]
    },
    {
      "cell_type": "code",
      "execution_count": 53,
      "metadata": {},
      "outputs": [
        {
          "data": {
            "text/html": [
              "<div>\n",
              "<style scoped>\n",
              "    .dataframe tbody tr th:only-of-type {\n",
              "        vertical-align: middle;\n",
              "    }\n",
              "\n",
              "    .dataframe tbody tr th {\n",
              "        vertical-align: top;\n",
              "    }\n",
              "\n",
              "    .dataframe thead th {\n",
              "        text-align: right;\n",
              "    }\n",
              "</style>\n",
              "<table border=\"1\" class=\"dataframe\">\n",
              "  <thead>\n",
              "    <tr style=\"text-align: right;\">\n",
              "      <th></th>\n",
              "      <th>PassengerId</th>\n",
              "      <th>Survived</th>\n",
              "      <th>Pclass</th>\n",
              "      <th>Name</th>\n",
              "      <th>Sex</th>\n",
              "      <th>Age</th>\n",
              "      <th>SibSp</th>\n",
              "      <th>Parch</th>\n",
              "      <th>Ticket</th>\n",
              "      <th>Fare</th>\n",
              "      <th>Cabin</th>\n",
              "      <th>Embarked</th>\n",
              "    </tr>\n",
              "  </thead>\n",
              "  <tbody>\n",
              "    <tr>\n",
              "      <th>0</th>\n",
              "      <td>1</td>\n",
              "      <td>0</td>\n",
              "      <td>3</td>\n",
              "      <td>Braund, Mr. Owen Harris</td>\n",
              "      <td>male</td>\n",
              "      <td>22.0</td>\n",
              "      <td>1</td>\n",
              "      <td>0</td>\n",
              "      <td>A/5 21171</td>\n",
              "      <td>7.2500</td>\n",
              "      <td>B96 B98</td>\n",
              "      <td>S</td>\n",
              "    </tr>\n",
              "    <tr>\n",
              "      <th>1</th>\n",
              "      <td>2</td>\n",
              "      <td>1</td>\n",
              "      <td>1</td>\n",
              "      <td>Cumings, Mrs. John Bradley (Florence Briggs Th...</td>\n",
              "      <td>female</td>\n",
              "      <td>38.0</td>\n",
              "      <td>1</td>\n",
              "      <td>0</td>\n",
              "      <td>PC 17599</td>\n",
              "      <td>71.2833</td>\n",
              "      <td>C85</td>\n",
              "      <td>C</td>\n",
              "    </tr>\n",
              "    <tr>\n",
              "      <th>2</th>\n",
              "      <td>3</td>\n",
              "      <td>1</td>\n",
              "      <td>3</td>\n",
              "      <td>Heikkinen, Miss. Laina</td>\n",
              "      <td>female</td>\n",
              "      <td>26.0</td>\n",
              "      <td>0</td>\n",
              "      <td>0</td>\n",
              "      <td>STON/O2. 3101282</td>\n",
              "      <td>7.9250</td>\n",
              "      <td>B96 B98</td>\n",
              "      <td>S</td>\n",
              "    </tr>\n",
              "    <tr>\n",
              "      <th>3</th>\n",
              "      <td>4</td>\n",
              "      <td>1</td>\n",
              "      <td>1</td>\n",
              "      <td>Futrelle, Mrs. Jacques Heath (Lily May Peel)</td>\n",
              "      <td>female</td>\n",
              "      <td>35.0</td>\n",
              "      <td>1</td>\n",
              "      <td>0</td>\n",
              "      <td>113803</td>\n",
              "      <td>53.1000</td>\n",
              "      <td>C123</td>\n",
              "      <td>S</td>\n",
              "    </tr>\n",
              "    <tr>\n",
              "      <th>4</th>\n",
              "      <td>5</td>\n",
              "      <td>0</td>\n",
              "      <td>3</td>\n",
              "      <td>Allen, Mr. William Henry</td>\n",
              "      <td>male</td>\n",
              "      <td>35.0</td>\n",
              "      <td>0</td>\n",
              "      <td>0</td>\n",
              "      <td>373450</td>\n",
              "      <td>8.0500</td>\n",
              "      <td>B96 B98</td>\n",
              "      <td>S</td>\n",
              "    </tr>\n",
              "    <tr>\n",
              "      <th>...</th>\n",
              "      <td>...</td>\n",
              "      <td>...</td>\n",
              "      <td>...</td>\n",
              "      <td>...</td>\n",
              "      <td>...</td>\n",
              "      <td>...</td>\n",
              "      <td>...</td>\n",
              "      <td>...</td>\n",
              "      <td>...</td>\n",
              "      <td>...</td>\n",
              "      <td>...</td>\n",
              "      <td>...</td>\n",
              "    </tr>\n",
              "    <tr>\n",
              "      <th>886</th>\n",
              "      <td>887</td>\n",
              "      <td>0</td>\n",
              "      <td>2</td>\n",
              "      <td>Montvila, Rev. Juozas</td>\n",
              "      <td>male</td>\n",
              "      <td>27.0</td>\n",
              "      <td>0</td>\n",
              "      <td>0</td>\n",
              "      <td>211536</td>\n",
              "      <td>13.0000</td>\n",
              "      <td>B96 B98</td>\n",
              "      <td>S</td>\n",
              "    </tr>\n",
              "    <tr>\n",
              "      <th>887</th>\n",
              "      <td>888</td>\n",
              "      <td>1</td>\n",
              "      <td>1</td>\n",
              "      <td>Graham, Miss. Margaret Edith</td>\n",
              "      <td>female</td>\n",
              "      <td>19.0</td>\n",
              "      <td>0</td>\n",
              "      <td>0</td>\n",
              "      <td>112053</td>\n",
              "      <td>30.0000</td>\n",
              "      <td>B42</td>\n",
              "      <td>S</td>\n",
              "    </tr>\n",
              "    <tr>\n",
              "      <th>888</th>\n",
              "      <td>889</td>\n",
              "      <td>0</td>\n",
              "      <td>3</td>\n",
              "      <td>Johnston, Miss. Catherine Helen \"Carrie\"</td>\n",
              "      <td>female</td>\n",
              "      <td>24.0</td>\n",
              "      <td>1</td>\n",
              "      <td>2</td>\n",
              "      <td>W./C. 6607</td>\n",
              "      <td>23.4500</td>\n",
              "      <td>B96 B98</td>\n",
              "      <td>S</td>\n",
              "    </tr>\n",
              "    <tr>\n",
              "      <th>889</th>\n",
              "      <td>890</td>\n",
              "      <td>1</td>\n",
              "      <td>1</td>\n",
              "      <td>Behr, Mr. Karl Howell</td>\n",
              "      <td>male</td>\n",
              "      <td>26.0</td>\n",
              "      <td>0</td>\n",
              "      <td>0</td>\n",
              "      <td>111369</td>\n",
              "      <td>30.0000</td>\n",
              "      <td>C148</td>\n",
              "      <td>C</td>\n",
              "    </tr>\n",
              "    <tr>\n",
              "      <th>890</th>\n",
              "      <td>891</td>\n",
              "      <td>0</td>\n",
              "      <td>3</td>\n",
              "      <td>Dooley, Mr. Patrick</td>\n",
              "      <td>male</td>\n",
              "      <td>32.0</td>\n",
              "      <td>0</td>\n",
              "      <td>0</td>\n",
              "      <td>370376</td>\n",
              "      <td>7.7500</td>\n",
              "      <td>B96 B98</td>\n",
              "      <td>Q</td>\n",
              "    </tr>\n",
              "  </tbody>\n",
              "</table>\n",
              "<p>891 rows × 12 columns</p>\n",
              "</div>"
            ],
            "text/plain": [
              "     PassengerId  Survived  Pclass  \\\n",
              "0              1         0       3   \n",
              "1              2         1       1   \n",
              "2              3         1       3   \n",
              "3              4         1       1   \n",
              "4              5         0       3   \n",
              "..           ...       ...     ...   \n",
              "886          887         0       2   \n",
              "887          888         1       1   \n",
              "888          889         0       3   \n",
              "889          890         1       1   \n",
              "890          891         0       3   \n",
              "\n",
              "                                                  Name     Sex   Age  SibSp  \\\n",
              "0                              Braund, Mr. Owen Harris    male  22.0      1   \n",
              "1    Cumings, Mrs. John Bradley (Florence Briggs Th...  female  38.0      1   \n",
              "2                               Heikkinen, Miss. Laina  female  26.0      0   \n",
              "3         Futrelle, Mrs. Jacques Heath (Lily May Peel)  female  35.0      1   \n",
              "4                             Allen, Mr. William Henry    male  35.0      0   \n",
              "..                                                 ...     ...   ...    ...   \n",
              "886                              Montvila, Rev. Juozas    male  27.0      0   \n",
              "887                       Graham, Miss. Margaret Edith  female  19.0      0   \n",
              "888           Johnston, Miss. Catherine Helen \"Carrie\"  female  24.0      1   \n",
              "889                              Behr, Mr. Karl Howell    male  26.0      0   \n",
              "890                                Dooley, Mr. Patrick    male  32.0      0   \n",
              "\n",
              "     Parch            Ticket     Fare    Cabin Embarked  \n",
              "0        0         A/5 21171   7.2500  B96 B98        S  \n",
              "1        0          PC 17599  71.2833      C85        C  \n",
              "2        0  STON/O2. 3101282   7.9250  B96 B98        S  \n",
              "3        0            113803  53.1000     C123        S  \n",
              "4        0            373450   8.0500  B96 B98        S  \n",
              "..     ...               ...      ...      ...      ...  \n",
              "886      0            211536  13.0000  B96 B98        S  \n",
              "887      0            112053  30.0000      B42        S  \n",
              "888      2        W./C. 6607  23.4500  B96 B98        S  \n",
              "889      0            111369  30.0000     C148        C  \n",
              "890      0            370376   7.7500  B96 B98        Q  \n",
              "\n",
              "[891 rows x 12 columns]"
            ]
          },
          "execution_count": 53,
          "metadata": {},
          "output_type": "execute_result"
        }
      ],
      "source": [
        "titanicdf1"
      ]
    },
    {
      "cell_type": "markdown",
      "metadata": {},
      "source": [
        "## find total fare for each cabin type"
      ]
    },
    {
      "cell_type": "code",
      "execution_count": 40,
      "metadata": {},
      "outputs": [
        {
          "data": {
            "text/plain": [
              "Cabin\n",
              "A10    40.1250\n",
              "A14    52.0000\n",
              "A16    39.6000\n",
              "A19    26.0000\n",
              "A20    56.9292\n",
              "        ...   \n",
              "F33    34.0000\n",
              "F38     7.7500\n",
              "F4     78.0000\n",
              "G6     54.3250\n",
              "T      35.5000\n",
              "Name: Fare, Length: 147, dtype: float64"
            ]
          },
          "execution_count": 40,
          "metadata": {},
          "output_type": "execute_result"
        }
      ],
      "source": [
        "\n",
        "grouped = titanicdf1.groupby('Cabin')\n",
        "grouped['Fare'].sum()"
      ]
    },
    {
      "cell_type": "code",
      "execution_count": 56,
      "metadata": {},
      "outputs": [
        {
          "data": {
            "text/html": [
              "<div>\n",
              "<style scoped>\n",
              "    .dataframe tbody tr th:only-of-type {\n",
              "        vertical-align: middle;\n",
              "    }\n",
              "\n",
              "    .dataframe tbody tr th {\n",
              "        vertical-align: top;\n",
              "    }\n",
              "\n",
              "    .dataframe thead th {\n",
              "        text-align: right;\n",
              "    }\n",
              "</style>\n",
              "<table border=\"1\" class=\"dataframe\">\n",
              "  <thead>\n",
              "    <tr style=\"text-align: right;\">\n",
              "      <th></th>\n",
              "      <th>count</th>\n",
              "      <th>mean</th>\n",
              "      <th>std</th>\n",
              "      <th>min</th>\n",
              "      <th>25%</th>\n",
              "      <th>50%</th>\n",
              "      <th>75%</th>\n",
              "      <th>max</th>\n",
              "    </tr>\n",
              "    <tr>\n",
              "      <th>Cabin</th>\n",
              "      <th></th>\n",
              "      <th></th>\n",
              "      <th></th>\n",
              "      <th></th>\n",
              "      <th></th>\n",
              "      <th></th>\n",
              "      <th></th>\n",
              "      <th></th>\n",
              "    </tr>\n",
              "  </thead>\n",
              "  <tbody>\n",
              "    <tr>\n",
              "      <th>A10</th>\n",
              "      <td>1.0</td>\n",
              "      <td>40.125000</td>\n",
              "      <td>NaN</td>\n",
              "      <td>40.1250</td>\n",
              "      <td>40.1250</td>\n",
              "      <td>40.12500</td>\n",
              "      <td>40.1250</td>\n",
              "      <td>40.1250</td>\n",
              "    </tr>\n",
              "    <tr>\n",
              "      <th>A14</th>\n",
              "      <td>1.0</td>\n",
              "      <td>52.000000</td>\n",
              "      <td>NaN</td>\n",
              "      <td>52.0000</td>\n",
              "      <td>52.0000</td>\n",
              "      <td>52.00000</td>\n",
              "      <td>52.0000</td>\n",
              "      <td>52.0000</td>\n",
              "    </tr>\n",
              "    <tr>\n",
              "      <th>A16</th>\n",
              "      <td>1.0</td>\n",
              "      <td>39.600000</td>\n",
              "      <td>NaN</td>\n",
              "      <td>39.6000</td>\n",
              "      <td>39.6000</td>\n",
              "      <td>39.60000</td>\n",
              "      <td>39.6000</td>\n",
              "      <td>39.6000</td>\n",
              "    </tr>\n",
              "    <tr>\n",
              "      <th>A19</th>\n",
              "      <td>1.0</td>\n",
              "      <td>26.000000</td>\n",
              "      <td>NaN</td>\n",
              "      <td>26.0000</td>\n",
              "      <td>26.0000</td>\n",
              "      <td>26.00000</td>\n",
              "      <td>26.0000</td>\n",
              "      <td>26.0000</td>\n",
              "    </tr>\n",
              "    <tr>\n",
              "      <th>A20</th>\n",
              "      <td>1.0</td>\n",
              "      <td>56.929200</td>\n",
              "      <td>NaN</td>\n",
              "      <td>56.9292</td>\n",
              "      <td>56.9292</td>\n",
              "      <td>56.92920</td>\n",
              "      <td>56.9292</td>\n",
              "      <td>56.9292</td>\n",
              "    </tr>\n",
              "    <tr>\n",
              "      <th>...</th>\n",
              "      <td>...</td>\n",
              "      <td>...</td>\n",
              "      <td>...</td>\n",
              "      <td>...</td>\n",
              "      <td>...</td>\n",
              "      <td>...</td>\n",
              "      <td>...</td>\n",
              "      <td>...</td>\n",
              "    </tr>\n",
              "    <tr>\n",
              "      <th>F33</th>\n",
              "      <td>3.0</td>\n",
              "      <td>11.333333</td>\n",
              "      <td>1.443376</td>\n",
              "      <td>10.5000</td>\n",
              "      <td>10.5000</td>\n",
              "      <td>10.50000</td>\n",
              "      <td>11.7500</td>\n",
              "      <td>13.0000</td>\n",
              "    </tr>\n",
              "    <tr>\n",
              "      <th>F38</th>\n",
              "      <td>1.0</td>\n",
              "      <td>7.750000</td>\n",
              "      <td>NaN</td>\n",
              "      <td>7.7500</td>\n",
              "      <td>7.7500</td>\n",
              "      <td>7.75000</td>\n",
              "      <td>7.7500</td>\n",
              "      <td>7.7500</td>\n",
              "    </tr>\n",
              "    <tr>\n",
              "      <th>F4</th>\n",
              "      <td>2.0</td>\n",
              "      <td>39.000000</td>\n",
              "      <td>0.000000</td>\n",
              "      <td>39.0000</td>\n",
              "      <td>39.0000</td>\n",
              "      <td>39.00000</td>\n",
              "      <td>39.0000</td>\n",
              "      <td>39.0000</td>\n",
              "    </tr>\n",
              "    <tr>\n",
              "      <th>G6</th>\n",
              "      <td>4.0</td>\n",
              "      <td>13.581250</td>\n",
              "      <td>3.601222</td>\n",
              "      <td>10.4625</td>\n",
              "      <td>10.4625</td>\n",
              "      <td>13.58125</td>\n",
              "      <td>16.7000</td>\n",
              "      <td>16.7000</td>\n",
              "    </tr>\n",
              "    <tr>\n",
              "      <th>T</th>\n",
              "      <td>1.0</td>\n",
              "      <td>35.500000</td>\n",
              "      <td>NaN</td>\n",
              "      <td>35.5000</td>\n",
              "      <td>35.5000</td>\n",
              "      <td>35.50000</td>\n",
              "      <td>35.5000</td>\n",
              "      <td>35.5000</td>\n",
              "    </tr>\n",
              "  </tbody>\n",
              "</table>\n",
              "<p>147 rows × 8 columns</p>\n",
              "</div>"
            ],
            "text/plain": [
              "       count       mean       std      min      25%       50%      75%  \\\n",
              "Cabin                                                                    \n",
              "A10      1.0  40.125000       NaN  40.1250  40.1250  40.12500  40.1250   \n",
              "A14      1.0  52.000000       NaN  52.0000  52.0000  52.00000  52.0000   \n",
              "A16      1.0  39.600000       NaN  39.6000  39.6000  39.60000  39.6000   \n",
              "A19      1.0  26.000000       NaN  26.0000  26.0000  26.00000  26.0000   \n",
              "A20      1.0  56.929200       NaN  56.9292  56.9292  56.92920  56.9292   \n",
              "...      ...        ...       ...      ...      ...       ...      ...   \n",
              "F33      3.0  11.333333  1.443376  10.5000  10.5000  10.50000  11.7500   \n",
              "F38      1.0   7.750000       NaN   7.7500   7.7500   7.75000   7.7500   \n",
              "F4       2.0  39.000000  0.000000  39.0000  39.0000  39.00000  39.0000   \n",
              "G6       4.0  13.581250  3.601222  10.4625  10.4625  13.58125  16.7000   \n",
              "T        1.0  35.500000       NaN  35.5000  35.5000  35.50000  35.5000   \n",
              "\n",
              "           max  \n",
              "Cabin           \n",
              "A10    40.1250  \n",
              "A14    52.0000  \n",
              "A16    39.6000  \n",
              "A19    26.0000  \n",
              "A20    56.9292  \n",
              "...        ...  \n",
              "F33    13.0000  \n",
              "F38     7.7500  \n",
              "F4     39.0000  \n",
              "G6     16.7000  \n",
              "T      35.5000  \n",
              "\n",
              "[147 rows x 8 columns]"
            ]
          },
          "execution_count": 56,
          "metadata": {},
          "output_type": "execute_result"
        }
      ],
      "source": [
        "grouped['Fare'].describe()"
      ]
    },
    {
      "cell_type": "code",
      "execution_count": 41,
      "metadata": {},
      "outputs": [
        {
          "data": {
            "text/html": [
              "<div>\n",
              "<style scoped>\n",
              "    .dataframe tbody tr th:only-of-type {\n",
              "        vertical-align: middle;\n",
              "    }\n",
              "\n",
              "    .dataframe tbody tr th {\n",
              "        vertical-align: top;\n",
              "    }\n",
              "\n",
              "    .dataframe thead th {\n",
              "        text-align: right;\n",
              "    }\n",
              "</style>\n",
              "<table border=\"1\" class=\"dataframe\">\n",
              "  <thead>\n",
              "    <tr style=\"text-align: right;\">\n",
              "      <th></th>\n",
              "      <th>count</th>\n",
              "      <th>mean</th>\n",
              "      <th>std</th>\n",
              "      <th>min</th>\n",
              "      <th>25%</th>\n",
              "      <th>50%</th>\n",
              "      <th>75%</th>\n",
              "      <th>max</th>\n",
              "    </tr>\n",
              "    <tr>\n",
              "      <th>Cabin</th>\n",
              "      <th></th>\n",
              "      <th></th>\n",
              "      <th></th>\n",
              "      <th></th>\n",
              "      <th></th>\n",
              "      <th></th>\n",
              "      <th></th>\n",
              "      <th></th>\n",
              "    </tr>\n",
              "  </thead>\n",
              "  <tbody>\n",
              "    <tr>\n",
              "      <th>A10</th>\n",
              "      <td>1.0</td>\n",
              "      <td>40.125000</td>\n",
              "      <td>NaN</td>\n",
              "      <td>40.1250</td>\n",
              "      <td>40.1250</td>\n",
              "      <td>40.12500</td>\n",
              "      <td>40.1250</td>\n",
              "      <td>40.1250</td>\n",
              "    </tr>\n",
              "    <tr>\n",
              "      <th>D30</th>\n",
              "      <td>1.0</td>\n",
              "      <td>53.100000</td>\n",
              "      <td>NaN</td>\n",
              "      <td>53.1000</td>\n",
              "      <td>53.1000</td>\n",
              "      <td>53.10000</td>\n",
              "      <td>53.1000</td>\n",
              "      <td>53.1000</td>\n",
              "    </tr>\n",
              "    <tr>\n",
              "      <th>D28</th>\n",
              "      <td>1.0</td>\n",
              "      <td>39.400000</td>\n",
              "      <td>NaN</td>\n",
              "      <td>39.4000</td>\n",
              "      <td>39.4000</td>\n",
              "      <td>39.40000</td>\n",
              "      <td>39.4000</td>\n",
              "      <td>39.4000</td>\n",
              "    </tr>\n",
              "    <tr>\n",
              "      <th>D21</th>\n",
              "      <td>1.0</td>\n",
              "      <td>51.862500</td>\n",
              "      <td>NaN</td>\n",
              "      <td>51.8625</td>\n",
              "      <td>51.8625</td>\n",
              "      <td>51.86250</td>\n",
              "      <td>51.8625</td>\n",
              "      <td>51.8625</td>\n",
              "    </tr>\n",
              "    <tr>\n",
              "      <th>D19</th>\n",
              "      <td>1.0</td>\n",
              "      <td>52.554200</td>\n",
              "      <td>NaN</td>\n",
              "      <td>52.5542</td>\n",
              "      <td>52.5542</td>\n",
              "      <td>52.55420</td>\n",
              "      <td>52.5542</td>\n",
              "      <td>52.5542</td>\n",
              "    </tr>\n",
              "    <tr>\n",
              "      <th>...</th>\n",
              "      <td>...</td>\n",
              "      <td>...</td>\n",
              "      <td>...</td>\n",
              "      <td>...</td>\n",
              "      <td>...</td>\n",
              "      <td>...</td>\n",
              "      <td>...</td>\n",
              "      <td>...</td>\n",
              "    </tr>\n",
              "    <tr>\n",
              "      <th>C22 C26</th>\n",
              "      <td>3.0</td>\n",
              "      <td>151.550000</td>\n",
              "      <td>0.000000</td>\n",
              "      <td>151.5500</td>\n",
              "      <td>151.5500</td>\n",
              "      <td>151.55000</td>\n",
              "      <td>151.5500</td>\n",
              "      <td>151.5500</td>\n",
              "    </tr>\n",
              "    <tr>\n",
              "      <th>F2</th>\n",
              "      <td>3.0</td>\n",
              "      <td>26.000000</td>\n",
              "      <td>0.000000</td>\n",
              "      <td>26.0000</td>\n",
              "      <td>26.0000</td>\n",
              "      <td>26.00000</td>\n",
              "      <td>26.0000</td>\n",
              "      <td>26.0000</td>\n",
              "    </tr>\n",
              "    <tr>\n",
              "      <th>C23 C25 C27</th>\n",
              "      <td>4.0</td>\n",
              "      <td>263.000000</td>\n",
              "      <td>0.000000</td>\n",
              "      <td>263.0000</td>\n",
              "      <td>263.0000</td>\n",
              "      <td>263.00000</td>\n",
              "      <td>263.0000</td>\n",
              "      <td>263.0000</td>\n",
              "    </tr>\n",
              "    <tr>\n",
              "      <th>G6</th>\n",
              "      <td>4.0</td>\n",
              "      <td>13.581250</td>\n",
              "      <td>3.601222</td>\n",
              "      <td>10.4625</td>\n",
              "      <td>10.4625</td>\n",
              "      <td>13.58125</td>\n",
              "      <td>16.7000</td>\n",
              "      <td>16.7000</td>\n",
              "    </tr>\n",
              "    <tr>\n",
              "      <th>B96 B98</th>\n",
              "      <td>691.0</td>\n",
              "      <td>19.741075</td>\n",
              "      <td>29.587756</td>\n",
              "      <td>0.0000</td>\n",
              "      <td>7.8792</td>\n",
              "      <td>10.50000</td>\n",
              "      <td>23.3500</td>\n",
              "      <td>512.3292</td>\n",
              "    </tr>\n",
              "  </tbody>\n",
              "</table>\n",
              "<p>147 rows × 8 columns</p>\n",
              "</div>"
            ],
            "text/plain": [
              "             count        mean        std       min       25%        50%  \\\n",
              "Cabin                                                                      \n",
              "A10            1.0   40.125000        NaN   40.1250   40.1250   40.12500   \n",
              "D30            1.0   53.100000        NaN   53.1000   53.1000   53.10000   \n",
              "D28            1.0   39.400000        NaN   39.4000   39.4000   39.40000   \n",
              "D21            1.0   51.862500        NaN   51.8625   51.8625   51.86250   \n",
              "D19            1.0   52.554200        NaN   52.5542   52.5542   52.55420   \n",
              "...            ...         ...        ...       ...       ...        ...   \n",
              "C22 C26        3.0  151.550000   0.000000  151.5500  151.5500  151.55000   \n",
              "F2             3.0   26.000000   0.000000   26.0000   26.0000   26.00000   \n",
              "C23 C25 C27    4.0  263.000000   0.000000  263.0000  263.0000  263.00000   \n",
              "G6             4.0   13.581250   3.601222   10.4625   10.4625   13.58125   \n",
              "B96 B98      691.0   19.741075  29.587756    0.0000    7.8792   10.50000   \n",
              "\n",
              "                  75%       max  \n",
              "Cabin                            \n",
              "A10           40.1250   40.1250  \n",
              "D30           53.1000   53.1000  \n",
              "D28           39.4000   39.4000  \n",
              "D21           51.8625   51.8625  \n",
              "D19           52.5542   52.5542  \n",
              "...               ...       ...  \n",
              "C22 C26      151.5500  151.5500  \n",
              "F2            26.0000   26.0000  \n",
              "C23 C25 C27  263.0000  263.0000  \n",
              "G6            16.7000   16.7000  \n",
              "B96 B98       23.3500  512.3292  \n",
              "\n",
              "[147 rows x 8 columns]"
            ]
          },
          "execution_count": 41,
          "metadata": {},
          "output_type": "execute_result"
        }
      ],
      "source": [
        "grouped['Fare'].describe().sort_values('count')"
      ]
    },
    {
      "cell_type": "markdown",
      "metadata": {},
      "source": [
        "# Find that index value of rows where cabin value == 'C23 C25 C27' "
      ]
    },
    {
      "cell_type": "code",
      "execution_count": 103,
      "metadata": {},
      "outputs": [
        {
          "data": {
            "text/html": [
              "<div>\n",
              "<style scoped>\n",
              "    .dataframe tbody tr th:only-of-type {\n",
              "        vertical-align: middle;\n",
              "    }\n",
              "\n",
              "    .dataframe tbody tr th {\n",
              "        vertical-align: top;\n",
              "    }\n",
              "\n",
              "    .dataframe thead th {\n",
              "        text-align: right;\n",
              "    }\n",
              "</style>\n",
              "<table border=\"1\" class=\"dataframe\">\n",
              "  <thead>\n",
              "    <tr style=\"text-align: right;\">\n",
              "      <th></th>\n",
              "      <th>PassengerId</th>\n",
              "      <th>Survived</th>\n",
              "      <th>Pclass</th>\n",
              "      <th>Name</th>\n",
              "      <th>Sex</th>\n",
              "      <th>Age</th>\n",
              "      <th>SibSp</th>\n",
              "      <th>Parch</th>\n",
              "      <th>Ticket</th>\n",
              "      <th>Fare</th>\n",
              "      <th>Cabin</th>\n",
              "      <th>Embarked</th>\n",
              "    </tr>\n",
              "  </thead>\n",
              "  <tbody>\n",
              "    <tr>\n",
              "      <th>0</th>\n",
              "      <td>1</td>\n",
              "      <td>0</td>\n",
              "      <td>3</td>\n",
              "      <td>Braund, Mr. Owen Harris</td>\n",
              "      <td>male</td>\n",
              "      <td>22.0</td>\n",
              "      <td>1</td>\n",
              "      <td>0</td>\n",
              "      <td>A/5 21171</td>\n",
              "      <td>7.2500</td>\n",
              "      <td>C23 C25 C27</td>\n",
              "      <td>S</td>\n",
              "    </tr>\n",
              "    <tr>\n",
              "      <th>2</th>\n",
              "      <td>3</td>\n",
              "      <td>1</td>\n",
              "      <td>3</td>\n",
              "      <td>Heikkinen, Miss. Laina</td>\n",
              "      <td>female</td>\n",
              "      <td>26.0</td>\n",
              "      <td>0</td>\n",
              "      <td>0</td>\n",
              "      <td>STON/O2. 3101282</td>\n",
              "      <td>7.9250</td>\n",
              "      <td>C23 C25 C27</td>\n",
              "      <td>S</td>\n",
              "    </tr>\n",
              "    <tr>\n",
              "      <th>4</th>\n",
              "      <td>5</td>\n",
              "      <td>0</td>\n",
              "      <td>3</td>\n",
              "      <td>Allen, Mr. William Henry</td>\n",
              "      <td>male</td>\n",
              "      <td>35.0</td>\n",
              "      <td>0</td>\n",
              "      <td>0</td>\n",
              "      <td>373450</td>\n",
              "      <td>8.0500</td>\n",
              "      <td>C23 C25 C27</td>\n",
              "      <td>S</td>\n",
              "    </tr>\n",
              "    <tr>\n",
              "      <th>5</th>\n",
              "      <td>6</td>\n",
              "      <td>0</td>\n",
              "      <td>3</td>\n",
              "      <td>Moran, Mr. James</td>\n",
              "      <td>male</td>\n",
              "      <td>24.0</td>\n",
              "      <td>0</td>\n",
              "      <td>0</td>\n",
              "      <td>330877</td>\n",
              "      <td>8.4583</td>\n",
              "      <td>C23 C25 C27</td>\n",
              "      <td>Q</td>\n",
              "    </tr>\n",
              "    <tr>\n",
              "      <th>7</th>\n",
              "      <td>8</td>\n",
              "      <td>0</td>\n",
              "      <td>3</td>\n",
              "      <td>Palsson, Master. Gosta Leonard</td>\n",
              "      <td>male</td>\n",
              "      <td>2.0</td>\n",
              "      <td>3</td>\n",
              "      <td>1</td>\n",
              "      <td>349909</td>\n",
              "      <td>21.0750</td>\n",
              "      <td>C23 C25 C27</td>\n",
              "      <td>S</td>\n",
              "    </tr>\n",
              "    <tr>\n",
              "      <th>...</th>\n",
              "      <td>...</td>\n",
              "      <td>...</td>\n",
              "      <td>...</td>\n",
              "      <td>...</td>\n",
              "      <td>...</td>\n",
              "      <td>...</td>\n",
              "      <td>...</td>\n",
              "      <td>...</td>\n",
              "      <td>...</td>\n",
              "      <td>...</td>\n",
              "      <td>...</td>\n",
              "      <td>...</td>\n",
              "    </tr>\n",
              "    <tr>\n",
              "      <th>884</th>\n",
              "      <td>885</td>\n",
              "      <td>0</td>\n",
              "      <td>3</td>\n",
              "      <td>Sutehall, Mr. Henry Jr</td>\n",
              "      <td>male</td>\n",
              "      <td>25.0</td>\n",
              "      <td>0</td>\n",
              "      <td>0</td>\n",
              "      <td>SOTON/OQ 392076</td>\n",
              "      <td>7.0500</td>\n",
              "      <td>C23 C25 C27</td>\n",
              "      <td>S</td>\n",
              "    </tr>\n",
              "    <tr>\n",
              "      <th>885</th>\n",
              "      <td>886</td>\n",
              "      <td>0</td>\n",
              "      <td>3</td>\n",
              "      <td>Rice, Mrs. William (Margaret Norton)</td>\n",
              "      <td>female</td>\n",
              "      <td>39.0</td>\n",
              "      <td>0</td>\n",
              "      <td>5</td>\n",
              "      <td>382652</td>\n",
              "      <td>29.1250</td>\n",
              "      <td>C23 C25 C27</td>\n",
              "      <td>Q</td>\n",
              "    </tr>\n",
              "    <tr>\n",
              "      <th>886</th>\n",
              "      <td>887</td>\n",
              "      <td>0</td>\n",
              "      <td>2</td>\n",
              "      <td>Montvila, Rev. Juozas</td>\n",
              "      <td>male</td>\n",
              "      <td>27.0</td>\n",
              "      <td>0</td>\n",
              "      <td>0</td>\n",
              "      <td>211536</td>\n",
              "      <td>13.0000</td>\n",
              "      <td>C23 C25 C27</td>\n",
              "      <td>S</td>\n",
              "    </tr>\n",
              "    <tr>\n",
              "      <th>888</th>\n",
              "      <td>889</td>\n",
              "      <td>0</td>\n",
              "      <td>3</td>\n",
              "      <td>Johnston, Miss. Catherine Helen \"Carrie\"</td>\n",
              "      <td>female</td>\n",
              "      <td>24.0</td>\n",
              "      <td>1</td>\n",
              "      <td>2</td>\n",
              "      <td>W./C. 6607</td>\n",
              "      <td>23.4500</td>\n",
              "      <td>C23 C25 C27</td>\n",
              "      <td>S</td>\n",
              "    </tr>\n",
              "    <tr>\n",
              "      <th>890</th>\n",
              "      <td>891</td>\n",
              "      <td>0</td>\n",
              "      <td>3</td>\n",
              "      <td>Dooley, Mr. Patrick</td>\n",
              "      <td>male</td>\n",
              "      <td>32.0</td>\n",
              "      <td>0</td>\n",
              "      <td>0</td>\n",
              "      <td>370376</td>\n",
              "      <td>7.7500</td>\n",
              "      <td>C23 C25 C27</td>\n",
              "      <td>Q</td>\n",
              "    </tr>\n",
              "  </tbody>\n",
              "</table>\n",
              "<p>691 rows × 12 columns</p>\n",
              "</div>"
            ],
            "text/plain": [
              "     PassengerId  Survived  Pclass                                      Name  \\\n",
              "0              1         0       3                   Braund, Mr. Owen Harris   \n",
              "2              3         1       3                    Heikkinen, Miss. Laina   \n",
              "4              5         0       3                  Allen, Mr. William Henry   \n",
              "5              6         0       3                          Moran, Mr. James   \n",
              "7              8         0       3            Palsson, Master. Gosta Leonard   \n",
              "..           ...       ...     ...                                       ...   \n",
              "884          885         0       3                    Sutehall, Mr. Henry Jr   \n",
              "885          886         0       3      Rice, Mrs. William (Margaret Norton)   \n",
              "886          887         0       2                     Montvila, Rev. Juozas   \n",
              "888          889         0       3  Johnston, Miss. Catherine Helen \"Carrie\"   \n",
              "890          891         0       3                       Dooley, Mr. Patrick   \n",
              "\n",
              "        Sex   Age  SibSp  Parch            Ticket     Fare        Cabin  \\\n",
              "0      male  22.0      1      0         A/5 21171   7.2500  C23 C25 C27   \n",
              "2    female  26.0      0      0  STON/O2. 3101282   7.9250  C23 C25 C27   \n",
              "4      male  35.0      0      0            373450   8.0500  C23 C25 C27   \n",
              "5      male  24.0      0      0            330877   8.4583  C23 C25 C27   \n",
              "7      male   2.0      3      1            349909  21.0750  C23 C25 C27   \n",
              "..      ...   ...    ...    ...               ...      ...          ...   \n",
              "884    male  25.0      0      0   SOTON/OQ 392076   7.0500  C23 C25 C27   \n",
              "885  female  39.0      0      5            382652  29.1250  C23 C25 C27   \n",
              "886    male  27.0      0      0            211536  13.0000  C23 C25 C27   \n",
              "888  female  24.0      1      2        W./C. 6607  23.4500  C23 C25 C27   \n",
              "890    male  32.0      0      0            370376   7.7500  C23 C25 C27   \n",
              "\n",
              "    Embarked  \n",
              "0          S  \n",
              "2          S  \n",
              "4          S  \n",
              "5          Q  \n",
              "7          S  \n",
              "..       ...  \n",
              "884        S  \n",
              "885        Q  \n",
              "886        S  \n",
              "888        S  \n",
              "890        Q  \n",
              "\n",
              "[691 rows x 12 columns]"
            ]
          },
          "execution_count": 103,
          "metadata": {},
          "output_type": "execute_result"
        }
      ],
      "source": [
        "titanicdf1.loc[(titanicdf1['Cabin'] == 'C23 C25 C27')]"
      ]
    },
    {
      "cell_type": "code",
      "execution_count": 42,
      "metadata": {},
      "outputs": [
        {
          "data": {
            "text/plain": [
              "[27, 88, 341, 438]"
            ]
          },
          "execution_count": 42,
          "metadata": {},
          "output_type": "execute_result"
        }
      ],
      "source": [
        "titanicdf1[(titanicdf1['Cabin'] == 'C23 C25 C27')].index.tolist()"
      ]
    },
    {
      "cell_type": "markdown",
      "metadata": {},
      "source": [
        "## Find cabin with maximum fare"
      ]
    },
    {
      "cell_type": "code",
      "execution_count": 81,
      "metadata": {},
      "outputs": [
        {
          "data": {
            "text/plain": [
              "Cabin\n",
              "B96 B98    13641.0825\n",
              "Name: Fare, dtype: float64"
            ]
          },
          "execution_count": 81,
          "metadata": {},
          "output_type": "execute_result"
        }
      ],
      "source": [
        "total=grouped['Fare'].sum()\n",
        "total[total==total.max()]"
      ]
    },
    {
      "cell_type": "markdown",
      "metadata": {},
      "source": [
        "# Data aggregation:  Optimzed groupby methods:\n",
        "* count: Number of non-NA values in the group\n",
        "* sum: Sum of non-NA values\n",
        "* mean: Mean of non-NA values\n",
        "* median: Arithmetic median of non-NA values\n",
        "* std, var: Unbiased (n – 1 denominator) standard deviation and variance\n",
        "* min, max: Minimum and maximum of non-NA values\n",
        "* prod: Product of non-NA values\n",
        "* first, last: First and last non-NA values"
      ]
    },
    {
      "cell_type": "markdown",
      "metadata": {},
      "source": [
        "## problem 1: Find standard deviation,mean and count of  Values in Fare column for each cabin type and replace Nan with 0"
      ]
    },
    {
      "cell_type": "code",
      "execution_count": 43,
      "metadata": {},
      "outputs": [
        {
          "data": {
            "text/html": [
              "<div>\n",
              "<style scoped>\n",
              "    .dataframe tbody tr th:only-of-type {\n",
              "        vertical-align: middle;\n",
              "    }\n",
              "\n",
              "    .dataframe tbody tr th {\n",
              "        vertical-align: top;\n",
              "    }\n",
              "\n",
              "    .dataframe thead th {\n",
              "        text-align: right;\n",
              "    }\n",
              "</style>\n",
              "<table border=\"1\" class=\"dataframe\">\n",
              "  <thead>\n",
              "    <tr style=\"text-align: right;\">\n",
              "      <th></th>\n",
              "      <th>mean</th>\n",
              "      <th>count</th>\n",
              "      <th>std</th>\n",
              "    </tr>\n",
              "    <tr>\n",
              "      <th>Cabin</th>\n",
              "      <th></th>\n",
              "      <th></th>\n",
              "      <th></th>\n",
              "    </tr>\n",
              "  </thead>\n",
              "  <tbody>\n",
              "    <tr>\n",
              "      <th>A10</th>\n",
              "      <td>40.125000</td>\n",
              "      <td>1</td>\n",
              "      <td>NaN</td>\n",
              "    </tr>\n",
              "    <tr>\n",
              "      <th>A14</th>\n",
              "      <td>52.000000</td>\n",
              "      <td>1</td>\n",
              "      <td>NaN</td>\n",
              "    </tr>\n",
              "    <tr>\n",
              "      <th>A16</th>\n",
              "      <td>39.600000</td>\n",
              "      <td>1</td>\n",
              "      <td>NaN</td>\n",
              "    </tr>\n",
              "    <tr>\n",
              "      <th>A19</th>\n",
              "      <td>26.000000</td>\n",
              "      <td>1</td>\n",
              "      <td>NaN</td>\n",
              "    </tr>\n",
              "    <tr>\n",
              "      <th>A20</th>\n",
              "      <td>56.929200</td>\n",
              "      <td>1</td>\n",
              "      <td>NaN</td>\n",
              "    </tr>\n",
              "    <tr>\n",
              "      <th>...</th>\n",
              "      <td>...</td>\n",
              "      <td>...</td>\n",
              "      <td>...</td>\n",
              "    </tr>\n",
              "    <tr>\n",
              "      <th>F33</th>\n",
              "      <td>11.333333</td>\n",
              "      <td>3</td>\n",
              "      <td>1.443376</td>\n",
              "    </tr>\n",
              "    <tr>\n",
              "      <th>F38</th>\n",
              "      <td>7.750000</td>\n",
              "      <td>1</td>\n",
              "      <td>NaN</td>\n",
              "    </tr>\n",
              "    <tr>\n",
              "      <th>F4</th>\n",
              "      <td>39.000000</td>\n",
              "      <td>2</td>\n",
              "      <td>0.000000</td>\n",
              "    </tr>\n",
              "    <tr>\n",
              "      <th>G6</th>\n",
              "      <td>13.581250</td>\n",
              "      <td>4</td>\n",
              "      <td>3.601222</td>\n",
              "    </tr>\n",
              "    <tr>\n",
              "      <th>T</th>\n",
              "      <td>35.500000</td>\n",
              "      <td>1</td>\n",
              "      <td>NaN</td>\n",
              "    </tr>\n",
              "  </tbody>\n",
              "</table>\n",
              "<p>147 rows × 3 columns</p>\n",
              "</div>"
            ],
            "text/plain": [
              "            mean  count       std\n",
              "Cabin                            \n",
              "A10    40.125000      1       NaN\n",
              "A14    52.000000      1       NaN\n",
              "A16    39.600000      1       NaN\n",
              "A19    26.000000      1       NaN\n",
              "A20    56.929200      1       NaN\n",
              "...          ...    ...       ...\n",
              "F33    11.333333      3  1.443376\n",
              "F38     7.750000      1       NaN\n",
              "F4     39.000000      2  0.000000\n",
              "G6     13.581250      4  3.601222\n",
              "T      35.500000      1       NaN\n",
              "\n",
              "[147 rows x 3 columns]"
            ]
          },
          "execution_count": 43,
          "metadata": {},
          "output_type": "execute_result"
        }
      ],
      "source": [
        "grouped['Fare'].agg(['mean','count','std'])"
      ]
    },
    {
      "cell_type": "code",
      "execution_count": 63,
      "metadata": {},
      "outputs": [
        {
          "data": {
            "text/html": [
              "<div>\n",
              "<style scoped>\n",
              "    .dataframe tbody tr th:only-of-type {\n",
              "        vertical-align: middle;\n",
              "    }\n",
              "\n",
              "    .dataframe tbody tr th {\n",
              "        vertical-align: top;\n",
              "    }\n",
              "\n",
              "    .dataframe thead th {\n",
              "        text-align: right;\n",
              "    }\n",
              "</style>\n",
              "<table border=\"1\" class=\"dataframe\">\n",
              "  <thead>\n",
              "    <tr style=\"text-align: right;\">\n",
              "      <th></th>\n",
              "      <th>mean</th>\n",
              "      <th>count</th>\n",
              "      <th>std</th>\n",
              "    </tr>\n",
              "    <tr>\n",
              "      <th>Cabin</th>\n",
              "      <th></th>\n",
              "      <th></th>\n",
              "      <th></th>\n",
              "    </tr>\n",
              "  </thead>\n",
              "  <tbody>\n",
              "    <tr>\n",
              "      <th>A10</th>\n",
              "      <td>40.125000</td>\n",
              "      <td>1</td>\n",
              "      <td>0.000000</td>\n",
              "    </tr>\n",
              "    <tr>\n",
              "      <th>A14</th>\n",
              "      <td>52.000000</td>\n",
              "      <td>1</td>\n",
              "      <td>0.000000</td>\n",
              "    </tr>\n",
              "    <tr>\n",
              "      <th>A16</th>\n",
              "      <td>39.600000</td>\n",
              "      <td>1</td>\n",
              "      <td>0.000000</td>\n",
              "    </tr>\n",
              "    <tr>\n",
              "      <th>A19</th>\n",
              "      <td>26.000000</td>\n",
              "      <td>1</td>\n",
              "      <td>0.000000</td>\n",
              "    </tr>\n",
              "    <tr>\n",
              "      <th>A20</th>\n",
              "      <td>56.929200</td>\n",
              "      <td>1</td>\n",
              "      <td>0.000000</td>\n",
              "    </tr>\n",
              "    <tr>\n",
              "      <th>...</th>\n",
              "      <td>...</td>\n",
              "      <td>...</td>\n",
              "      <td>...</td>\n",
              "    </tr>\n",
              "    <tr>\n",
              "      <th>F33</th>\n",
              "      <td>11.333333</td>\n",
              "      <td>3</td>\n",
              "      <td>1.443376</td>\n",
              "    </tr>\n",
              "    <tr>\n",
              "      <th>F38</th>\n",
              "      <td>7.750000</td>\n",
              "      <td>1</td>\n",
              "      <td>0.000000</td>\n",
              "    </tr>\n",
              "    <tr>\n",
              "      <th>F4</th>\n",
              "      <td>39.000000</td>\n",
              "      <td>2</td>\n",
              "      <td>0.000000</td>\n",
              "    </tr>\n",
              "    <tr>\n",
              "      <th>G6</th>\n",
              "      <td>13.581250</td>\n",
              "      <td>4</td>\n",
              "      <td>3.601222</td>\n",
              "    </tr>\n",
              "    <tr>\n",
              "      <th>T</th>\n",
              "      <td>35.500000</td>\n",
              "      <td>1</td>\n",
              "      <td>0.000000</td>\n",
              "    </tr>\n",
              "  </tbody>\n",
              "</table>\n",
              "<p>147 rows × 3 columns</p>\n",
              "</div>"
            ],
            "text/plain": [
              "            mean  count       std\n",
              "Cabin                            \n",
              "A10    40.125000      1  0.000000\n",
              "A14    52.000000      1  0.000000\n",
              "A16    39.600000      1  0.000000\n",
              "A19    26.000000      1  0.000000\n",
              "A20    56.929200      1  0.000000\n",
              "...          ...    ...       ...\n",
              "F33    11.333333      3  1.443376\n",
              "F38     7.750000      1  0.000000\n",
              "F4     39.000000      2  0.000000\n",
              "G6     13.581250      4  3.601222\n",
              "T      35.500000      1  0.000000\n",
              "\n",
              "[147 rows x 3 columns]"
            ]
          },
          "execution_count": 63,
          "metadata": {},
          "output_type": "execute_result"
        }
      ],
      "source": [
        "(grouped['Fare'].agg(['mean','count','std'])).replace(np.NaN,0)"
      ]
    },
    {
      "cell_type": "markdown",
      "metadata": {},
      "source": [
        "## Problem 2: Find cabin with maximum number of passengers and minimum number of passengers travelling "
      ]
    },
    {
      "cell_type": "code",
      "execution_count": 88,
      "metadata": {},
      "outputs": [
        {
          "data": {
            "text/plain": [
              "Cabin\n",
              "B96 B98    691\n",
              "Name: Fare, dtype: int64"
            ]
          },
          "execution_count": 88,
          "metadata": {},
          "output_type": "execute_result"
        }
      ],
      "source": [
        "m=grouped['Fare'].count()\n",
        "m[m==m.max()]"
      ]
    },
    {
      "cell_type": "markdown",
      "metadata": {},
      "source": [
        "## problem 3: Find the average and std of  fare values of the cabin type with maximum records i.e. different Fare values"
      ]
    },
    {
      "cell_type": "code",
      "execution_count": 74,
      "metadata": {},
      "outputs": [
        {
          "data": {
            "text/plain": [
              "891"
            ]
          },
          "execution_count": 74,
          "metadata": {},
          "output_type": "execute_result"
        }
      ],
      "source": [
        "len(titanicdf1)"
      ]
    },
    {
      "cell_type": "code",
      "execution_count": 89,
      "metadata": {},
      "outputs": [],
      "source": [
        "G=grouped['Fare'].agg(['count','mean','std','min','max'])"
      ]
    },
    {
      "cell_type": "code",
      "execution_count": 90,
      "metadata": {},
      "outputs": [
        {
          "data": {
            "text/html": [
              "<div>\n",
              "<style scoped>\n",
              "    .dataframe tbody tr th:only-of-type {\n",
              "        vertical-align: middle;\n",
              "    }\n",
              "\n",
              "    .dataframe tbody tr th {\n",
              "        vertical-align: top;\n",
              "    }\n",
              "\n",
              "    .dataframe thead th {\n",
              "        text-align: right;\n",
              "    }\n",
              "</style>\n",
              "<table border=\"1\" class=\"dataframe\">\n",
              "  <thead>\n",
              "    <tr style=\"text-align: right;\">\n",
              "      <th></th>\n",
              "      <th>count</th>\n",
              "      <th>mean</th>\n",
              "      <th>std</th>\n",
              "      <th>min</th>\n",
              "      <th>max</th>\n",
              "    </tr>\n",
              "    <tr>\n",
              "      <th>Cabin</th>\n",
              "      <th></th>\n",
              "      <th></th>\n",
              "      <th></th>\n",
              "      <th></th>\n",
              "      <th></th>\n",
              "    </tr>\n",
              "  </thead>\n",
              "  <tbody>\n",
              "    <tr>\n",
              "      <th>A10</th>\n",
              "      <td>1</td>\n",
              "      <td>40.125000</td>\n",
              "      <td>NaN</td>\n",
              "      <td>40.1250</td>\n",
              "      <td>40.1250</td>\n",
              "    </tr>\n",
              "    <tr>\n",
              "      <th>A14</th>\n",
              "      <td>1</td>\n",
              "      <td>52.000000</td>\n",
              "      <td>NaN</td>\n",
              "      <td>52.0000</td>\n",
              "      <td>52.0000</td>\n",
              "    </tr>\n",
              "    <tr>\n",
              "      <th>A16</th>\n",
              "      <td>1</td>\n",
              "      <td>39.600000</td>\n",
              "      <td>NaN</td>\n",
              "      <td>39.6000</td>\n",
              "      <td>39.6000</td>\n",
              "    </tr>\n",
              "    <tr>\n",
              "      <th>A19</th>\n",
              "      <td>1</td>\n",
              "      <td>26.000000</td>\n",
              "      <td>NaN</td>\n",
              "      <td>26.0000</td>\n",
              "      <td>26.0000</td>\n",
              "    </tr>\n",
              "    <tr>\n",
              "      <th>A20</th>\n",
              "      <td>1</td>\n",
              "      <td>56.929200</td>\n",
              "      <td>NaN</td>\n",
              "      <td>56.9292</td>\n",
              "      <td>56.9292</td>\n",
              "    </tr>\n",
              "    <tr>\n",
              "      <th>...</th>\n",
              "      <td>...</td>\n",
              "      <td>...</td>\n",
              "      <td>...</td>\n",
              "      <td>...</td>\n",
              "      <td>...</td>\n",
              "    </tr>\n",
              "    <tr>\n",
              "      <th>F33</th>\n",
              "      <td>3</td>\n",
              "      <td>11.333333</td>\n",
              "      <td>1.443376</td>\n",
              "      <td>10.5000</td>\n",
              "      <td>13.0000</td>\n",
              "    </tr>\n",
              "    <tr>\n",
              "      <th>F38</th>\n",
              "      <td>1</td>\n",
              "      <td>7.750000</td>\n",
              "      <td>NaN</td>\n",
              "      <td>7.7500</td>\n",
              "      <td>7.7500</td>\n",
              "    </tr>\n",
              "    <tr>\n",
              "      <th>F4</th>\n",
              "      <td>2</td>\n",
              "      <td>39.000000</td>\n",
              "      <td>0.000000</td>\n",
              "      <td>39.0000</td>\n",
              "      <td>39.0000</td>\n",
              "    </tr>\n",
              "    <tr>\n",
              "      <th>G6</th>\n",
              "      <td>4</td>\n",
              "      <td>13.581250</td>\n",
              "      <td>3.601222</td>\n",
              "      <td>10.4625</td>\n",
              "      <td>16.7000</td>\n",
              "    </tr>\n",
              "    <tr>\n",
              "      <th>T</th>\n",
              "      <td>1</td>\n",
              "      <td>35.500000</td>\n",
              "      <td>NaN</td>\n",
              "      <td>35.5000</td>\n",
              "      <td>35.5000</td>\n",
              "    </tr>\n",
              "  </tbody>\n",
              "</table>\n",
              "<p>147 rows × 5 columns</p>\n",
              "</div>"
            ],
            "text/plain": [
              "       count       mean       std      min      max\n",
              "Cabin                                              \n",
              "A10        1  40.125000       NaN  40.1250  40.1250\n",
              "A14        1  52.000000       NaN  52.0000  52.0000\n",
              "A16        1  39.600000       NaN  39.6000  39.6000\n",
              "A19        1  26.000000       NaN  26.0000  26.0000\n",
              "A20        1  56.929200       NaN  56.9292  56.9292\n",
              "...      ...        ...       ...      ...      ...\n",
              "F33        3  11.333333  1.443376  10.5000  13.0000\n",
              "F38        1   7.750000       NaN   7.7500   7.7500\n",
              "F4         2  39.000000  0.000000  39.0000  39.0000\n",
              "G6         4  13.581250  3.601222  10.4625  16.7000\n",
              "T          1  35.500000       NaN  35.5000  35.5000\n",
              "\n",
              "[147 rows x 5 columns]"
            ]
          },
          "execution_count": 90,
          "metadata": {},
          "output_type": "execute_result"
        }
      ],
      "source": [
        "G"
      ]
    },
    {
      "cell_type": "code",
      "execution_count": 93,
      "metadata": {},
      "outputs": [],
      "source": [
        "m=G['count'].max()"
      ]
    },
    {
      "cell_type": "code",
      "execution_count": 94,
      "metadata": {},
      "outputs": [
        {
          "data": {
            "text/plain": [
              "691"
            ]
          },
          "execution_count": 94,
          "metadata": {},
          "output_type": "execute_result"
        }
      ],
      "source": [
        "m"
      ]
    },
    {
      "cell_type": "code",
      "execution_count": 100,
      "metadata": {},
      "outputs": [
        {
          "data": {
            "text/html": [
              "<div>\n",
              "<style scoped>\n",
              "    .dataframe tbody tr th:only-of-type {\n",
              "        vertical-align: middle;\n",
              "    }\n",
              "\n",
              "    .dataframe tbody tr th {\n",
              "        vertical-align: top;\n",
              "    }\n",
              "\n",
              "    .dataframe thead th {\n",
              "        text-align: right;\n",
              "    }\n",
              "</style>\n",
              "<table border=\"1\" class=\"dataframe\">\n",
              "  <thead>\n",
              "    <tr style=\"text-align: right;\">\n",
              "      <th></th>\n",
              "      <th>mean</th>\n",
              "      <th>std</th>\n",
              "      <th>min</th>\n",
              "      <th>max</th>\n",
              "      <th>count</th>\n",
              "    </tr>\n",
              "    <tr>\n",
              "      <th>Cabin</th>\n",
              "      <th></th>\n",
              "      <th></th>\n",
              "      <th></th>\n",
              "      <th></th>\n",
              "      <th></th>\n",
              "    </tr>\n",
              "  </thead>\n",
              "  <tbody>\n",
              "    <tr>\n",
              "      <th>B96 B98</th>\n",
              "      <td>19.741075</td>\n",
              "      <td>29.587756</td>\n",
              "      <td>0.0</td>\n",
              "      <td>512.3292</td>\n",
              "      <td>691</td>\n",
              "    </tr>\n",
              "  </tbody>\n",
              "</table>\n",
              "</div>"
            ],
            "text/plain": [
              "              mean        std  min       max  count\n",
              "Cabin                                              \n",
              "B96 B98  19.741075  29.587756  0.0  512.3292    691"
            ]
          },
          "execution_count": 100,
          "metadata": {},
          "output_type": "execute_result"
        }
      ],
      "source": [
        "G[G['count']==m][['mean','std','min','max','count']]"
      ]
    },
    {
      "cell_type": "code",
      "execution_count": 101,
      "metadata": {},
      "outputs": [],
      "source": [
        "indx=G[G['count']==m][['mean','std','min','max','count']].index"
      ]
    },
    {
      "cell_type": "code",
      "execution_count": 102,
      "metadata": {},
      "outputs": [],
      "source": [
        "v=indx.values"
      ]
    },
    {
      "cell_type": "code",
      "execution_count": 98,
      "metadata": {},
      "outputs": [
        {
          "data": {
            "text/plain": [
              "array(['B96 B98'], dtype=object)"
            ]
          },
          "execution_count": 98,
          "metadata": {},
          "output_type": "execute_result"
        }
      ],
      "source": [
        "v"
      ]
    },
    {
      "cell_type": "code",
      "execution_count": 97,
      "metadata": {},
      "outputs": [
        {
          "data": {
            "text/plain": [
              "'B96 B98'"
            ]
          },
          "execution_count": 97,
          "metadata": {},
          "output_type": "execute_result"
        }
      ],
      "source": [
        "v[0]"
      ]
    },
    {
      "cell_type": "markdown",
      "metadata": {},
      "source": [
        "## Problem4: As std is high let us plot distribution of this cabin (with maximum passengers)"
      ]
    },
    {
      "cell_type": "code",
      "execution_count": 20,
      "metadata": {},
      "outputs": [],
      "source": [
        "import matplotlib.pyplot as plt\n",
        "import matplotlib"
      ]
    },
    {
      "cell_type": "code",
      "execution_count": 105,
      "metadata": {},
      "outputs": [],
      "source": [
        "for key,group in grouped:\n",
        "    if key in v:\n",
        "        GF=group['Fare']"
      ]
    },
    {
      "cell_type": "code",
      "execution_count": 106,
      "metadata": {},
      "outputs": [
        {
          "data": {
            "text/plain": [
              "0       7.2500\n",
              "2       7.9250\n",
              "4       8.0500\n",
              "5       8.4583\n",
              "7      21.0750\n",
              "        ...   \n",
              "884     7.0500\n",
              "885    29.1250\n",
              "886    13.0000\n",
              "888    23.4500\n",
              "890     7.7500\n",
              "Name: Fare, Length: 691, dtype: float64"
            ]
          },
          "execution_count": 106,
          "metadata": {},
          "output_type": "execute_result"
        }
      ],
      "source": [
        "GF"
      ]
    },
    {
      "cell_type": "code",
      "execution_count": 108,
      "metadata": {},
      "outputs": [
        {
          "data": {
            "text/plain": [
              "<AxesSubplot:ylabel='Density'>"
            ]
          },
          "execution_count": 108,
          "metadata": {},
          "output_type": "execute_result"
        },
        {
          "data": {
            "image/png": "[encoded data removed]",
            "text/plain": [
              "<Figure size 432x288 with 1 Axes>"
            ]
          },
          "metadata": {
            "needs_background": "light"
          },
          "output_type": "display_data"
        }
      ],
      "source": [
        "GF.plot.density(xlim=[-20,600])"
      ]
    },
    {
      "cell_type": "code",
      "execution_count": 109,
      "metadata": {},
      "outputs": [
        {
          "data": {
            "text/plain": [
              "<AxesSubplot:ylabel='Frequency'>"
            ]
          },
          "execution_count": 109,
          "metadata": {},
          "output_type": "execute_result"
        },
        {
          "data": {
            "image/png": "[encoded data removed]",
            "text/plain": [
              "<Figure size 432x288 with 1 Axes>"
            ]
          },
          "metadata": {
            "needs_background": "light"
          },
          "output_type": "display_data"
        }
      ],
      "source": [
        "GF.plot(kind='hist',bins=20,color='red')"
      ]
    },
    {
      "cell_type": "code",
      "execution_count": 110,
      "metadata": {},
      "outputs": [
        {
          "data": {
            "text/plain": [
              "<AxesSubplot:>"
            ]
          },
          "execution_count": 110,
          "metadata": {},
          "output_type": "execute_result"
        },
        {
          "data": {
            "image/png": "[encoded data removed]",
            "text/plain": [
              "<Figure size 432x288 with 1 Axes>"
            ]
          },
          "metadata": {
            "needs_background": "light"
          },
          "output_type": "display_data"
        }
      ],
      "source": [
        "GF.plot.box()"
      ]
    },
    {
      "cell_type": "markdown",
      "metadata": {},
      "source": [
        "# above boxplot indicates a large number of outliers in fare column"
      ]
    },
    {
      "cell_type": "markdown",
      "metadata": {},
      "source": [
        "outlier<(Q1-1.5(q3-q1)) out>Q3 + 1.5 * IQR # in general\n",
        "Lower Quartile (Q1) = (N+1) * 1 / 4.\n",
        "Middle Quartile (Q2) = (N+1) * 2 / 4.\n",
        "Upper Quartile (Q3 )= (N+1) * 3 / 4.\n",
        "Interquartile Range = Q3 – Q1"
      ]
    },
    {
      "cell_type": "markdown",
      "metadata": {},
      "source": [
        "## Compute outliers in Fare column  of the group cabin value 'G6' on the basis of  user-computed lowval and maxval"
      ]
    },
    {
      "cell_type": "code",
      "execution_count": 111,
      "metadata": {},
      "outputs": [
        {
          "data": {
            "text/plain": [
              "691"
            ]
          },
          "execution_count": 111,
          "metadata": {},
          "output_type": "execute_result"
        }
      ],
      "source": [
        "GF.count()"
      ]
    },
    {
      "cell_type": "code",
      "execution_count": 112,
      "metadata": {},
      "outputs": [
        {
          "data": {
            "text/plain": [
              "0       7.2500\n",
              "2       7.9250\n",
              "4       8.0500\n",
              "5       8.4583\n",
              "7      21.0750\n",
              "        ...   \n",
              "884     7.0500\n",
              "885    29.1250\n",
              "886    13.0000\n",
              "888    23.4500\n",
              "890     7.7500\n",
              "Name: Fare, Length: 691, dtype: float64"
            ]
          },
          "execution_count": 112,
          "metadata": {},
          "output_type": "execute_result"
        }
      ],
      "source": [
        "GF"
      ]
    },
    {
      "cell_type": "code",
      "execution_count": 394,
      "metadata": {},
      "outputs": [],
      "source": [
        "Q1=GF.quantile(0.25)"
      ]
    },
    {
      "cell_type": "code",
      "execution_count": 395,
      "metadata": {},
      "outputs": [
        {
          "data": {
            "text/plain": [
              "7.8792"
            ]
          },
          "execution_count": 395,
          "metadata": {},
          "output_type": "execute_result"
        }
      ],
      "source": [
        "Q1"
      ]
    },
    {
      "cell_type": "code",
      "execution_count": 396,
      "metadata": {},
      "outputs": [],
      "source": [
        "Q3=GF.quantile(0.75)"
      ]
    },
    {
      "cell_type": "code",
      "execution_count": 397,
      "metadata": {},
      "outputs": [
        {
          "data": {
            "text/plain": [
              "True"
            ]
          },
          "execution_count": 397,
          "metadata": {},
          "output_type": "execute_result"
        }
      ],
      "source": [
        "GF.quantile(0.5)==GF.median()\n"
      ]
    },
    {
      "cell_type": "code",
      "execution_count": 400,
      "metadata": {},
      "outputs": [],
      "source": [
        "Q2=GF.quantile(0.5)"
      ]
    },
    {
      "cell_type": "code",
      "execution_count": 401,
      "metadata": {},
      "outputs": [
        {
          "name": "stdout",
          "output_type": "stream",
          "text": [
            "7.8792 10.5 23.0\n"
          ]
        }
      ],
      "source": [
        "print(Q1,Q2,Q3)"
      ]
    },
    {
      "cell_type": "code",
      "execution_count": 403,
      "metadata": {},
      "outputs": [
        {
          "data": {
            "text/plain": [
              "0.0"
            ]
          },
          "execution_count": 403,
          "metadata": {},
          "output_type": "execute_result"
        }
      ],
      "source": [
        "GF.min()"
      ]
    },
    {
      "cell_type": "code",
      "execution_count": 404,
      "metadata": {},
      "outputs": [
        {
          "data": {
            "text/plain": [
              "512.3292"
            ]
          },
          "execution_count": 404,
          "metadata": {},
          "output_type": "execute_result"
        }
      ],
      "source": [
        "GF.max()"
      ]
    },
    {
      "cell_type": "code",
      "execution_count": 405,
      "metadata": {},
      "outputs": [
        {
          "name": "stdout",
          "output_type": "stream",
          "text": [
            "7.8792 23.0 -14.801999999999996 174.208\n"
          ]
        }
      ],
      "source": [
        "IQR= Q3-Q1\n",
        "lowval=Q1- 1.5*IQR\n",
        "maxval=Q3+10*IQR\n",
        "print(Q1,Q3,lowval,maxval)"
      ]
    },
    {
      "cell_type": "code",
      "execution_count": 408,
      "metadata": {},
      "outputs": [
        {
          "data": {
            "text/plain": [
              "3"
            ]
          },
          "execution_count": 408,
          "metadata": {},
          "output_type": "execute_result"
        }
      ],
      "source": [
        "GF[(GF>maxval)|(GF<lowval)].count()"
      ]
    },
    {
      "cell_type": "code",
      "execution_count": 409,
      "metadata": {},
      "outputs": [
        {
          "data": {
            "text/plain": [
              "Int64Index([258, 380, 557], dtype='int64')"
            ]
          },
          "execution_count": 409,
          "metadata": {},
          "output_type": "execute_result"
        }
      ],
      "source": [
        "GF[(GF>maxval)|(GF<lowval)].index"
      ]
    },
    {
      "cell_type": "markdown",
      "metadata": {},
      "source": [
        "# Problem: Use titanic datasets to answer the following query:\n",
        "* Find total fare paid by the passengers of family-size 6 who have embarked from station S: 'South Hampton'\n",
        " "
      ]
    },
    {
      "cell_type": "code",
      "execution_count": 415,
      "metadata": {},
      "outputs": [
        {
          "data": {
            "text/plain": [
              "array(['S', 'C', 'Q'], dtype=object)"
            ]
          },
          "execution_count": 415,
          "metadata": {},
          "output_type": "execute_result"
        }
      ],
      "source": [
        "titanicdf1['Embarked'].unique()"
      ]
    },
    {
      "cell_type": "markdown",
      "metadata": {},
      "source": [
        "# define a user-define function to get number of outliers in a series/list alongwith outliers index. in case no outliers retuen Nan"
      ]
    },
    {
      "cell_type": "code",
      "execution_count": 114,
      "metadata": {},
      "outputs": [],
      "source": [
        "def user_outliers(S):\n",
        "    #print(S.count())\n",
        "    Q1=S.quantile(0.25)\n",
        "    Q3=S.quantile(0.75)\n",
        "    IQR= Q3-Q1\n",
        "    lowval=Q1- 1.5*IQR\n",
        "    maxval=Q3+2*IQR\n",
        "    LI=S[(S>maxval)|(S<lowval)].index\n",
        "    #print(Q1,Q3,IQR,lowval,maxval)\n",
        "    #print(S[(S>maxval)|(S<lowval)].count())\n",
        "    if len(LI)==0:\n",
        "        return np.NaN\n",
        "    else:\n",
        "        return (len(LI),LI)\n"
      ]
    },
    {
      "cell_type": "code",
      "execution_count": 115,
      "metadata": {},
      "outputs": [
        {
          "data": {
            "text/plain": [
              "pandas.core.series.Series"
            ]
          },
          "execution_count": 115,
          "metadata": {},
          "output_type": "execute_result"
        }
      ],
      "source": [
        "G2=grouped['Fare'].agg(user_outliers)\n",
        "type(G2)"
      ]
    },
    {
      "cell_type": "code",
      "execution_count": 116,
      "metadata": {},
      "outputs": [
        {
          "data": {
            "text/plain": [
              "Cabin\n",
              "C23 C25 C27    (41, [27, 34, 72, 74, 88, 120, 155, 159, 169, ...\n",
              "Name: Fare, dtype: object"
            ]
          },
          "execution_count": 116,
          "metadata": {},
          "output_type": "execute_result"
        }
      ],
      "source": [
        "G2[G2.notna()]"
      ]
    },
    {
      "cell_type": "code",
      "execution_count": 48,
      "metadata": {},
      "outputs": [
        {
          "data": {
            "text/plain": [
              "4"
            ]
          },
          "execution_count": 48,
          "metadata": {},
          "output_type": "execute_result"
        }
      ],
      "source": [
        "frame.isna().sum().sum()"
      ]
    }
  ],
  "metadata": {
    "colab": {
      "name": "Unit3-part-2-visuals.ipynb",
      "provenance": [],
      "toc_visible": true
    },
    "kernelspec": {
      "display_name": "Python 3.9.4 64-bit",
      "language": "python",
      "name": "python3"
    },
    "language_info": {
      "codemirror_mode": {
        "name": "ipython",
        "version": 3
      },
      "file_extension": ".py",
      "mimetype": "text/x-python",
      "name": "python",
      "nbconvert_exporter": "python",
      "pygments_lexer": "ipython3",
      "version": "3.9.4"
    },
    "vscode": {
      "interpreter": {
        "hash": "5c6d8cf874a78cf518467a975f892478beea8e1660668e6c51857c147a60fb9a"
      }
    }
  },
  "nbformat": 4,
  "nbformat_minor": 2
}
