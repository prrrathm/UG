{
  "cells": [
    {
      "cell_type": "markdown",
      "metadata": {
        "id": "NOSHDnmO6Sgp"
      },
      "source": [
        "# UNIT4: time series-Time zoning"
      ]
    },
    {
      "cell_type": "code",
      "execution_count": 2,
      "metadata": {
        "id": "puZQU_UV6Rf0"
      },
      "outputs": [],
      "source": [
        "import pandas as pd\n",
        "import numpy as np\n",
        "import scipy.stats"
      ]
    },
    {
      "cell_type": "code",
      "execution_count": 3,
      "metadata": {},
      "outputs": [
        {
          "data": {
            "text/plain": [
              "datetime.datetime(2022, 11, 1, 9, 19, 21, 439304)"
            ]
          },
          "execution_count": 3,
          "metadata": {},
          "output_type": "execute_result"
        }
      ],
      "source": [
        "from datetime import datetime\n",
        "now = datetime.now()\n",
        "now"
      ]
    },
    {
      "cell_type": "markdown",
      "metadata": {},
      "source": [
        "## time series users usually  work with time series using current international standard,  the coordinated universal time (UTC): the successor to Greenwich Mean Time (GMT) \n",
        "Local Time zones are expressed as offsets from UTC.\n",
        "LMT: Local Mean Time: The time, as determined by the Mean Sun, at an observer's local meridian.\n",
        "GMT: Greenwich Mean Time – The mean solar time of the longitude (0°) of the Royal Greenwich Observatory in England"
      ]
    },
    {
      "cell_type": "markdown",
      "metadata": {},
      "source": [
        " using timezones in Python thru the third-party pytz library which exposes the Olson database, a compilation of world\n",
        "time zone information."
      ]
    },
    {
      "cell_type": "code",
      "execution_count": 4,
      "metadata": {},
      "outputs": [
        {
          "data": {
            "text/plain": [
              "['US/Eastern', 'US/Hawaii', 'US/Mountain', 'US/Pacific', 'UTC']"
            ]
          },
          "execution_count": 4,
          "metadata": {},
          "output_type": "execute_result"
        }
      ],
      "source": [
        "import pytz\n",
        "pytz.common_timezones[-5:]"
      ]
    },
    {
      "cell_type": "code",
      "execution_count": 5,
      "metadata": {},
      "outputs": [],
      "source": [
        "type(pytz.common_timezones)\n",
        "l1=pytz.common_timezones"
      ]
    },
    {
      "cell_type": "code",
      "execution_count": 6,
      "metadata": {},
      "outputs": [
        {
          "data": {
            "text/plain": [
              "439"
            ]
          },
          "execution_count": 6,
          "metadata": {},
          "output_type": "execute_result"
        }
      ],
      "source": [
        "len(l1)"
      ]
    },
    {
      "cell_type": "markdown",
      "metadata": {},
      "source": [
        "## displaying  timezones in Asia"
      ]
    },
    {
      "cell_type": "code",
      "execution_count": 7,
      "metadata": {},
      "outputs": [
        {
          "name": "stdout",
          "output_type": "stream",
          "text": [
            "Asia/Aden\n",
            "Asia/Almaty\n",
            "Asia/Amman\n",
            "Asia/Anadyr\n",
            "Asia/Aqtau\n",
            "Asia/Aqtobe\n",
            "Asia/Ashgabat\n",
            "Asia/Atyrau\n",
            "Asia/Baghdad\n",
            "Asia/Bahrain\n",
            "Asia/Baku\n",
            "Asia/Bangkok\n",
            "Asia/Barnaul\n",
            "Asia/Beirut\n",
            "Asia/Bishkek\n",
            "Asia/Brunei\n",
            "Asia/Chita\n",
            "Asia/Choibalsan\n",
            "Asia/Colombo\n",
            "Asia/Damascus\n",
            "Asia/Dhaka\n",
            "Asia/Dili\n",
            "Asia/Dubai\n",
            "Asia/Dushanbe\n",
            "Asia/Famagusta\n",
            "Asia/Gaza\n",
            "Asia/Hebron\n",
            "Asia/Ho_Chi_Minh\n",
            "Asia/Hong_Kong\n",
            "Asia/Hovd\n",
            "Asia/Irkutsk\n",
            "Asia/Jakarta\n",
            "Asia/Jayapura\n",
            "Asia/Jerusalem\n",
            "Asia/Kabul\n",
            "Asia/Kamchatka\n",
            "Asia/Karachi\n",
            "Asia/Kathmandu\n",
            "Asia/Khandyga\n",
            "Asia/Kolkata\n",
            "Asia/Krasnoyarsk\n",
            "Asia/Kuala_Lumpur\n",
            "Asia/Kuching\n",
            "Asia/Kuwait\n",
            "Asia/Macau\n",
            "Asia/Magadan\n",
            "Asia/Makassar\n",
            "Asia/Manila\n",
            "Asia/Muscat\n",
            "Asia/Nicosia\n",
            "Asia/Novokuznetsk\n",
            "Asia/Novosibirsk\n",
            "Asia/Omsk\n",
            "Asia/Oral\n",
            "Asia/Phnom_Penh\n",
            "Asia/Pontianak\n",
            "Asia/Pyongyang\n",
            "Asia/Qatar\n",
            "Asia/Qostanay\n",
            "Asia/Qyzylorda\n",
            "Asia/Riyadh\n",
            "Asia/Sakhalin\n",
            "Asia/Samarkand\n",
            "Asia/Seoul\n",
            "Asia/Shanghai\n",
            "Asia/Singapore\n",
            "Asia/Srednekolymsk\n",
            "Asia/Taipei\n",
            "Asia/Tashkent\n",
            "Asia/Tbilisi\n",
            "Asia/Tehran\n",
            "Asia/Thimphu\n",
            "Asia/Tokyo\n",
            "Asia/Tomsk\n",
            "Asia/Ulaanbaatar\n",
            "Asia/Urumqi\n",
            "Asia/Ust-Nera\n",
            "Asia/Vientiane\n",
            "Asia/Vladivostok\n",
            "Asia/Yakutsk\n",
            "Asia/Yangon\n",
            "Asia/Yekaterinburg\n",
            "Asia/Yerevan\n"
          ]
        }
      ],
      "source": [
        "for e in l1:\n",
        "    if 'Asia' in e:\n",
        "        print(e)"
      ]
    },
    {
      "cell_type": "code",
      "execution_count": 8,
      "metadata": {},
      "outputs": [
        {
          "data": {
            "text/plain": [
              "<DstTzInfo 'Asia/Kolkata' LMT+5:53:00 STD>"
            ]
          },
          "execution_count": 8,
          "metadata": {},
          "output_type": "execute_result"
        }
      ],
      "source": [
        "pytz.timezone('Asia/Kolkata')  #standard time"
      ]
    },
    {
      "cell_type": "markdown",
      "metadata": {},
      "source": [
        "## Creating a time series doesnot assiciate it with a time zone by default "
      ]
    },
    {
      "cell_type": "code",
      "execution_count": 9,
      "metadata": {},
      "outputs": [
        {
          "data": {
            "text/plain": [
              "2022-11-01 09:19:21.439304    1.013791\n",
              "2022-11-02 09:19:21.439304   -1.533723\n",
              "2022-11-03 09:19:21.439304    1.305658\n",
              "2022-11-04 09:19:21.439304   -0.274982\n",
              "2022-11-05 09:19:21.439304    0.316148\n",
              "2022-11-06 09:19:21.439304   -1.683528\n",
              "Freq: D, dtype: float64"
            ]
          },
          "execution_count": 9,
          "metadata": {},
          "output_type": "execute_result"
        }
      ],
      "source": [
        "rng = pd.date_range(now, periods=6, freq='D')\n",
        "ts = pd.Series(np.random.randn(len(rng)), index=rng)\n",
        "ts"
      ]
    },
    {
      "cell_type": "code",
      "execution_count": 10,
      "metadata": {},
      "outputs": [],
      "source": [
        "ts.index.tz"
      ]
    },
    {
      "cell_type": "code",
      "execution_count": 11,
      "metadata": {},
      "outputs": [
        {
          "data": {
            "text/plain": [
              "2022-11-01    1.636166\n",
              "2022-11-02    0.811623\n",
              "2022-11-03   -0.658990\n",
              "2022-11-04    0.405334\n",
              "2022-11-05   -0.605987\n",
              "2022-11-06    1.007521\n",
              "Freq: D, dtype: float64"
            ]
          },
          "execution_count": 11,
          "metadata": {},
          "output_type": "execute_result"
        }
      ],
      "source": [
        "rng = pd.date_range(datetime.today().date(), periods=6, freq='D')\n",
        "ts = pd.Series(np.random.randn(len(rng)), index=rng)\n",
        "ts"
      ]
    },
    {
      "cell_type": "code",
      "execution_count": 12,
      "metadata": {},
      "outputs": [
        {
          "name": "stdout",
          "output_type": "stream",
          "text": [
            "None\n"
          ]
        }
      ],
      "source": [
        "print(rng.tz)"
      ]
    },
    {
      "cell_type": "markdown",
      "metadata": {},
      "source": [
        "## Explicitly associate a zone with a timeseries"
      ]
    },
    {
      "cell_type": "code",
      "execution_count": 13,
      "metadata": {},
      "outputs": [
        {
          "data": {
            "text/plain": [
              "<UTC>"
            ]
          },
          "execution_count": 13,
          "metadata": {},
          "output_type": "execute_result"
        }
      ],
      "source": [
        "rng = pd.date_range(now, periods=6, freq='D',tz='UTC')\n",
        "ts = pd.Series(np.random.randn(len(rng)), index=rng)\n",
        "ts.index.tz"
      ]
    },
    {
      "cell_type": "markdown",
      "metadata": {},
      "source": [
        "# Periods and Period Arithmetic\n",
        "Periods represent timespans, like days, months, quarters, or years. \n",
        "The Period class represents this data type, requiring a string or integer and a frequency from frequency table"
      ]
    },
    {
      "cell_type": "code",
      "execution_count": 15,
      "metadata": {},
      "outputs": [
        {
          "data": {
            "text/plain": [
              "Period('2021', 'A-JUL')"
            ]
          },
          "execution_count": 15,
          "metadata": {},
          "output_type": "execute_result"
        }
      ],
      "source": [
        "p1 = pd.Period(2021, freq='A-JUL')\n",
        "p1"
      ]
    },
    {
      "cell_type": "markdown",
      "metadata": {},
      "source": [
        "## p1 period object represents full year from 1 August,2020-31 July 2021. addition/subtraction.shifting as per mentioned frequency"
      ]
    },
    {
      "cell_type": "code",
      "execution_count": 16,
      "metadata": {},
      "outputs": [
        {
          "data": {
            "text/plain": [
              "Period('2026', 'A-JUL')"
            ]
          },
          "execution_count": 16,
          "metadata": {},
          "output_type": "execute_result"
        }
      ],
      "source": [
        "p1+5"
      ]
    },
    {
      "cell_type": "code",
      "execution_count": 17,
      "metadata": {},
      "outputs": [
        {
          "data": {
            "text/plain": [
              "Period('2017', 'A-JUL')"
            ]
          },
          "execution_count": 17,
          "metadata": {},
          "output_type": "execute_result"
        }
      ],
      "source": [
        "p1-4"
      ]
    },
    {
      "cell_type": "code",
      "execution_count": 18,
      "metadata": {},
      "outputs": [
        {
          "data": {
            "text/plain": [
              "<2 * YearEnds: month=7>"
            ]
          },
          "execution_count": 18,
          "metadata": {},
          "output_type": "execute_result"
        }
      ],
      "source": [
        "p2 = pd.Period(2023, freq='A-JUL')\n",
        "p2-p1"
      ]
    },
    {
      "cell_type": "code",
      "execution_count": 19,
      "metadata": {},
      "outputs": [
        {
          "data": {
            "text/plain": [
              "Period('2023-01-01', 'D')"
            ]
          },
          "execution_count": 19,
          "metadata": {},
          "output_type": "execute_result"
        }
      ],
      "source": [
        "d1=pd.Period(2023, freq='D')\n",
        "d1"
      ]
    },
    {
      "cell_type": "code",
      "execution_count": 20,
      "metadata": {},
      "outputs": [
        {
          "data": {
            "text/plain": [
              "Period('2022-12-31', 'D')"
            ]
          },
          "execution_count": 20,
          "metadata": {},
          "output_type": "execute_result"
        }
      ],
      "source": [
        "d1-1"
      ]
    },
    {
      "cell_type": "markdown",
      "metadata": {},
      "source": [
        "## generating a specific periodindex"
      ]
    },
    {
      "cell_type": "code",
      "execution_count": 21,
      "metadata": {},
      "outputs": [
        {
          "data": {
            "text/plain": [
              "array([Period('2001', 'A-DEC'), Period('2002', 'A-DEC'),\n",
              "       Period('2003', 'A-DEC')], dtype=object)"
            ]
          },
          "execution_count": 21,
          "metadata": {},
          "output_type": "execute_result"
        }
      ],
      "source": [
        "values=['2001','2002','2003']\n",
        "index = pd.PeriodIndex(values, freq='A-DEC')\n",
        "index.values\n"
      ]
    },
    {
      "cell_type": "markdown",
      "metadata": {},
      "source": [
        "## Period Frequency Conversion"
      ]
    },
    {
      "cell_type": "markdown",
      "metadata": {},
      "source": [
        "## A-Jul freq within period: 1-Aug-2020 to 31-July-2021"
      ]
    },
    {
      "cell_type": "code",
      "execution_count": 22,
      "metadata": {},
      "outputs": [
        {
          "name": "stdout",
          "output_type": "stream",
          "text": [
            "31-07-2021\n",
            "31-07-2022\n"
          ]
        }
      ],
      "source": [
        "p2 = pd.Period(2021, freq='A-JUL')\n",
        "print(p2.strftime('%d-%m-%Y'))\n",
        "p3=p2+1\n",
        "print(p3.strftime('%d-%m-%Y'))\n"
      ]
    },
    {
      "cell_type": "markdown",
      "metadata": {},
      "source": [
        "# setting freq, of period to the end of that period"
      ]
    },
    {
      "cell_type": "code",
      "execution_count": 23,
      "metadata": {},
      "outputs": [
        {
          "name": "stdout",
          "output_type": "stream",
          "text": [
            "01-08-2020\n",
            "31-08-2020\n"
          ]
        }
      ],
      "source": [
        "p3=p2.asfreq('D', how='start')\n",
        "p4=p2.asfreq('M', how='begin')\n",
        "print(p3.strftime('%d-%m-%Y'))\n",
        "print(p4.strftime('%d-%m-%Y'))"
      ]
    },
    {
      "cell_type": "code",
      "execution_count": 24,
      "metadata": {},
      "outputs": [],
      "source": [
        "p3 = pd.Period('10-2022', 'M')"
      ]
    },
    {
      "cell_type": "code",
      "execution_count": 25,
      "metadata": {},
      "outputs": [
        {
          "data": {
            "text/plain": [
              "'Monday,31 October 2022'"
            ]
          },
          "execution_count": 25,
          "metadata": {},
          "output_type": "execute_result"
        }
      ],
      "source": [
        "p3.strftime('%A,%d %B %Y')"
      ]
    },
    {
      "cell_type": "code",
      "execution_count": 27,
      "metadata": {},
      "outputs": [
        {
          "data": {
            "text/plain": [
              "Period('2022-10-01', 'D')"
            ]
          },
          "execution_count": 27,
          "metadata": {},
          "output_type": "execute_result"
        }
      ],
      "source": [
        "p3.asfreq('D', how='start')"
      ]
    },
    {
      "cell_type": "code",
      "execution_count": 28,
      "metadata": {},
      "outputs": [
        {
          "data": {
            "text/plain": [
              "Period('2022-10-31', 'D')"
            ]
          },
          "execution_count": 28,
          "metadata": {},
          "output_type": "execute_result"
        }
      ],
      "source": [
        "p3.asfreq('D', how='end')"
      ]
    },
    {
      "cell_type": "markdown",
      "metadata": {},
      "source": [
        "## when converting from high freq ('Days') to low freq ('year'), then do remember the period. \n",
        "* period can be used for index"
      ]
    },
    {
      "cell_type": "code",
      "execution_count": 29,
      "metadata": {},
      "outputs": [
        {
          "data": {
            "text/plain": [
              "Period('2007', 'A-DEC')"
            ]
          },
          "execution_count": 29,
          "metadata": {},
          "output_type": "execute_result"
        }
      ],
      "source": [
        "p = pd.Period('Aug-2007', 'M')\n",
        "p4=p.asfreq('A-Dec',how='end')\n",
        "p4"
      ]
    },
    {
      "cell_type": "code",
      "execution_count": 30,
      "metadata": {},
      "outputs": [
        {
          "data": {
            "text/plain": [
              "Period('2007-01', 'M')"
            ]
          },
          "execution_count": 30,
          "metadata": {},
          "output_type": "execute_result"
        }
      ],
      "source": [
        "p4.asfreq('M', how='start')"
      ]
    },
    {
      "cell_type": "code",
      "execution_count": 31,
      "metadata": {},
      "outputs": [
        {
          "data": {
            "text/plain": [
              "'Monday,31 December 2007'"
            ]
          },
          "execution_count": 31,
          "metadata": {},
          "output_type": "execute_result"
        }
      ],
      "source": [
        "p5=p4.asfreq('M', how='end')\n",
        "p5.strftime('%A,%d %B %Y')"
      ]
    },
    {
      "cell_type": "code",
      "execution_count": 28,
      "metadata": {},
      "outputs": [
        {
          "data": {
            "text/plain": [
              "'Wednesday,31 January 2007'"
            ]
          },
          "execution_count": 28,
          "metadata": {},
          "output_type": "execute_result"
        }
      ],
      "source": [
        "p5=p4.asfreq('M', how='start')\n",
        "p5.strftime('%A,%d %B %Y')"
      ]
    },
    {
      "cell_type": "markdown",
      "metadata": {},
      "source": [
        "## aug-Dec: same year, Jan-July: next yr, cycle. low freq to high freq"
      ]
    },
    {
      "cell_type": "code",
      "execution_count": 29,
      "metadata": {},
      "outputs": [
        {
          "data": {
            "text/plain": [
              "Period('2007-08', 'M')"
            ]
          },
          "execution_count": 29,
          "metadata": {},
          "output_type": "execute_result"
        }
      ],
      "source": [
        "p"
      ]
    },
    {
      "cell_type": "code",
      "execution_count": 30,
      "metadata": {},
      "outputs": [
        {
          "data": {
            "text/plain": [
              "Period('2007-08-01', 'D')"
            ]
          },
          "execution_count": 30,
          "metadata": {},
          "output_type": "execute_result"
        }
      ],
      "source": [
        "p.asfreq('D',how='start')"
      ]
    },
    {
      "cell_type": "code",
      "execution_count": 31,
      "metadata": {},
      "outputs": [
        {
          "data": {
            "text/plain": [
              "Period('2008', 'A-JAN')"
            ]
          },
          "execution_count": 31,
          "metadata": {},
          "output_type": "execute_result"
        }
      ],
      "source": [
        "p5=p.asfreq('A-Jan')\n",
        "p5"
      ]
    },
    {
      "cell_type": "code",
      "execution_count": 32,
      "metadata": {},
      "outputs": [
        {
          "data": {
            "text/plain": [
              "Period('2007-02-01', 'D')"
            ]
          },
          "execution_count": 32,
          "metadata": {},
          "output_type": "execute_result"
        }
      ],
      "source": [
        "p5.asfreq('D',how='start')"
      ]
    },
    {
      "cell_type": "code",
      "execution_count": 33,
      "metadata": {},
      "outputs": [
        {
          "data": {
            "text/plain": [
              "Period('2008-01-31', 'D')"
            ]
          },
          "execution_count": 33,
          "metadata": {},
          "output_type": "execute_result"
        }
      ],
      "source": [
        "p5.asfreq('D',how='end')"
      ]
    },
    {
      "cell_type": "markdown",
      "metadata": {},
      "source": [
        "## Resampling and Frequency Conversion: \n",
        "* Resampling is  the process of converting a time series from one frequency to another. \n",
        "* downsampling: Aggregating higher frequency data to lower frequency \n",
        "* UPsampling:  Converting lower frequency to higher frequency \n",
        "* Not all resampling falls into either of these categoriese: e.g.  converting W-WED (weekly on Wednesday) to W-FRI is neither upsampling nor downsampling.\n",
        "* Resample has a similar API to groupby and is used to  group the data for subsequent aggregation"
      ]
    },
    {
      "cell_type": "markdown",
      "metadata": {},
      "source": [
        "# generate a data series to have record of number of students attending college per day for 150 days ahead starting from 21 july 2021"
      ]
    },
    {
      "cell_type": "code",
      "execution_count": 32,
      "metadata": {},
      "outputs": [],
      "source": [
        "import random"
      ]
    },
    {
      "cell_type": "code",
      "execution_count": 33,
      "metadata": {
        "collapsed": false,
        "deletable": true,
        "editable": true
      },
      "outputs": [
        {
          "data": {
            "text/plain": [
              "DatetimeIndex(['2021-07-21', '2021-07-22', '2021-07-23', '2021-07-24',\n",
              "               '2021-07-25', '2021-07-26', '2021-07-27', '2021-07-28',\n",
              "               '2021-07-29', '2021-07-30',\n",
              "               ...\n",
              "               '2021-12-08', '2021-12-09', '2021-12-10', '2021-12-11',\n",
              "               '2021-12-12', '2021-12-13', '2021-12-14', '2021-12-15',\n",
              "               '2021-12-16', '2021-12-17'],\n",
              "              dtype='datetime64[ns]', length=150, freq='D')"
            ]
          },
          "execution_count": 33,
          "metadata": {},
          "output_type": "execute_result"
        }
      ],
      "source": [
        "rng = pd.date_range('2021-07-21', periods=150, freq='D')\n",
        "rng"
      ]
    },
    {
      "cell_type": "markdown",
      "metadata": {},
      "source": [
        "## using sample() which generteas specified number from the given range"
      ]
    },
    {
      "cell_type": "code",
      "execution_count": 34,
      "metadata": {},
      "outputs": [
        {
          "data": {
            "text/plain": [
              "[722, 992, 119, 37, 334, 657, 744, 300, 152, 762]"
            ]
          },
          "execution_count": 34,
          "metadata": {},
          "output_type": "execute_result"
        }
      ],
      "source": [
        "random.sample(range(1000), 50)[0:10]"
      ]
    },
    {
      "cell_type": "code",
      "execution_count": 35,
      "metadata": {},
      "outputs": [
        {
          "data": {
            "text/plain": [
              "2021-07-21    285\n",
              "2021-07-22    118\n",
              "2021-07-23     20\n",
              "2021-07-24    209\n",
              "2021-07-25    137\n",
              "             ... \n",
              "2021-12-13    230\n",
              "2021-12-14    189\n",
              "2021-12-15     74\n",
              "2021-12-16    104\n",
              "2021-12-17     26\n",
              "Freq: D, Length: 150, dtype: int64"
            ]
          },
          "execution_count": 35,
          "metadata": {},
          "output_type": "execute_result"
        }
      ],
      "source": [
        "ts = pd.Series(random.sample(range(len(rng)*2), len(rng)), index=rng)\n",
        "ts"
      ]
    },
    {
      "cell_type": "markdown",
      "metadata": {},
      "source": [
        "## total/max/min attendees per month"
      ]
    },
    {
      "cell_type": "code",
      "execution_count": 36,
      "metadata": {},
      "outputs": [
        {
          "data": {
            "text/plain": [
              "2021-07-31    1621\n",
              "2021-08-31    4583\n",
              "2021-09-30    4412\n",
              "2021-10-31    4656\n",
              "2021-11-30    4144\n",
              "2021-12-31    2764\n",
              "Freq: M, dtype: int64"
            ]
          },
          "execution_count": 36,
          "metadata": {},
          "output_type": "execute_result"
        }
      ],
      "source": [
        "ts.resample('M').sum()"
      ]
    },
    {
      "cell_type": "code",
      "execution_count": 37,
      "metadata": {},
      "outputs": [
        {
          "data": {
            "text/plain": [
              "2021-07-31    299\n",
              "2021-08-31    293\n",
              "2021-09-30    295\n",
              "2021-10-31    286\n",
              "2021-11-30    291\n",
              "2021-12-31    298\n",
              "Freq: M, dtype: int64"
            ]
          },
          "execution_count": 37,
          "metadata": {},
          "output_type": "execute_result"
        }
      ],
      "source": [
        "ts.resample('M').max()"
      ]
    },
    {
      "cell_type": "code",
      "execution_count": 38,
      "metadata": {},
      "outputs": [
        {
          "data": {
            "text/plain": [
              "2021-07-31    11\n",
              "2021-08-31    31\n",
              "2021-09-30    30\n",
              "2021-10-31    31\n",
              "2021-11-30    30\n",
              "2021-12-31    17\n",
              "Freq: M, dtype: int64"
            ]
          },
          "execution_count": 38,
          "metadata": {},
          "output_type": "execute_result"
        }
      ],
      "source": [
        "ts.resample('M').count()"
      ]
    },
    {
      "cell_type": "code",
      "execution_count": 43,
      "metadata": {},
      "outputs": [
        {
          "data": {
            "text/plain": [
              "2021-07-31    159.636364\n",
              "2021-08-31    131.000000\n",
              "2021-09-30    148.466667\n",
              "2021-10-31    142.354839\n",
              "2021-11-30    153.666667\n",
              "2021-12-31    140.705882\n",
              "Freq: M, dtype: float64"
            ]
          },
          "execution_count": 43,
          "metadata": {},
          "output_type": "execute_result"
        }
      ],
      "source": [
        "ts.resample('M').mean()"
      ]
    },
    {
      "cell_type": "markdown",
      "metadata": {},
      "source": [
        "## result same as that of mean() as above with difference in periodicity)"
      ]
    },
    {
      "cell_type": "code",
      "execution_count": 39,
      "metadata": {},
      "outputs": [
        {
          "data": {
            "text/plain": [
              "2021-07    147.363636\n",
              "2021-08    147.838710\n",
              "2021-09    147.066667\n",
              "2021-10    150.193548\n",
              "2021-11    138.133333\n",
              "2021-12    162.588235\n",
              "Freq: M, dtype: float64"
            ]
          },
          "execution_count": 39,
          "metadata": {},
          "output_type": "execute_result"
        }
      ],
      "source": [
        "ts.resample('M', kind='period').mean()"
      ]
    },
    {
      "cell_type": "markdown",
      "metadata": {
        "deletable": true,
        "editable": true
      },
      "source": [
        "### Downsampling: Aggregating data to a regular, lower frequency.  The data need to be aggregated doesn’t need to be of fixed frequency;\n",
        "* the desired frequency defines bin edges that are used to slice the time series into pieces to aggregate. Two points to note:\n",
        "* i)  Which side of each interval is closed\n",
        "* ii) How to label each aggregated bin, either with the start of the interval or the end"
      ]
    },
    {
      "cell_type": "code",
      "execution_count": 40,
      "metadata": {
        "collapsed": false,
        "deletable": true,
        "editable": true
      },
      "outputs": [
        {
          "data": {
            "text/plain": [
              "2000-01-01 00:00:00     1\n",
              "2000-01-01 01:00:00     2\n",
              "2000-01-01 02:00:00     3\n",
              "2000-01-01 03:00:00     4\n",
              "2000-01-01 04:00:00     5\n",
              "2000-01-01 05:00:00     6\n",
              "2000-01-01 06:00:00     7\n",
              "2000-01-01 07:00:00     8\n",
              "2000-01-01 08:00:00     9\n",
              "2000-01-01 09:00:00    10\n",
              "2000-01-01 10:00:00    11\n",
              "2000-01-01 11:00:00    12\n",
              "Freq: H, dtype: int32"
            ]
          },
          "execution_count": 40,
          "metadata": {},
          "output_type": "execute_result"
        }
      ],
      "source": [
        "rng = pd.date_range('2000-01-01', periods=12, freq='h')\n",
        "ts = pd.Series(np.arange(1,13), index=rng)\n",
        "ts"
      ]
    },
    {
      "cell_type": "markdown",
      "metadata": {},
      "source": [
        "## freq is exact multiple of periods"
      ]
    },
    {
      "cell_type": "code",
      "execution_count": 41,
      "metadata": {
        "collapsed": false,
        "deletable": true,
        "editable": true
      },
      "outputs": [
        {
          "data": {
            "text/plain": [
              "1999-12-31 21:00:00     1\n",
              "2000-01-01 00:00:00     9\n",
              "2000-01-01 03:00:00    18\n",
              "2000-01-01 06:00:00    27\n",
              "2000-01-01 09:00:00    23\n",
              "Freq: 3H, dtype: int32"
            ]
          },
          "execution_count": 41,
          "metadata": {},
          "output_type": "execute_result"
        }
      ],
      "source": [
        "ts.resample('3h', closed='right').sum()"
      ]
    },
    {
      "cell_type": "code",
      "execution_count": 42,
      "metadata": {},
      "outputs": [
        {
          "data": {
            "text/plain": [
              "2000-01-01 00:00:00    10\n",
              "2000-01-01 04:00:00    26\n",
              "2000-01-01 08:00:00    42\n",
              "Freq: 4H, dtype: int32"
            ]
          },
          "execution_count": 42,
          "metadata": {},
          "output_type": "execute_result"
        }
      ],
      "source": [
        "ts.resample('4h', closed='left').sum()"
      ]
    },
    {
      "cell_type": "markdown",
      "metadata": {},
      "source": [
        "## freq is not exact multiple of periods"
      ]
    },
    {
      "cell_type": "code",
      "execution_count": 43,
      "metadata": {},
      "outputs": [
        {
          "data": {
            "text/plain": [
              "1999-12-31 19:00:00     1\n",
              "2000-01-01 00:00:00    20\n",
              "2000-01-01 05:00:00    45\n",
              "2000-01-01 10:00:00    12\n",
              "Freq: 5H, dtype: int32"
            ]
          },
          "execution_count": 43,
          "metadata": {},
          "output_type": "execute_result"
        }
      ],
      "source": [
        "ts.resample('5h', closed='right').sum()"
      ]
    },
    {
      "cell_type": "code",
      "execution_count": 59,
      "metadata": {
        "collapsed": false,
        "deletable": true,
        "editable": true
      },
      "outputs": [
        {
          "data": {
            "text/plain": [
              "2000-01-01 00:00:00    15\n",
              "2000-01-01 05:00:00    40\n",
              "2000-01-01 10:00:00    23\n",
              "Freq: 5H, dtype: int32"
            ]
          },
          "execution_count": 59,
          "metadata": {},
          "output_type": "execute_result"
        }
      ],
      "source": [
        "ts.resample('5h', closed='left').sum()"
      ]
    },
    {
      "cell_type": "code",
      "execution_count": 44,
      "metadata": {
        "collapsed": false,
        "deletable": true,
        "editable": true
      },
      "outputs": [
        {
          "name": "stderr",
          "output_type": "stream",
          "text": [
            "C:\\Users\\SHARAN~1\\AppData\\Local\\Temp/ipykernel_4596/800714931.py:1: FutureWarning: 'loffset' in .resample() and in Grouper() is deprecated.\n",
            "\n",
            ">>> df.resample(freq=\"3s\", loffset=\"8H\")\n",
            "\n",
            "becomes:\n",
            "\n",
            ">>> from pandas.tseries.frequencies import to_offset\n",
            ">>> df = df.resample(freq=\"3s\").mean()\n",
            ">>> df.index = df.index.to_timestamp() + to_offset(\"8H\")\n",
            "\n",
            "  dft=ts.resample('3h', closed='right',\n"
          ]
        },
        {
          "data": {
            "text/plain": [
              "1999-12-31 23:59:00     1\n",
              "2000-01-01 02:59:00     9\n",
              "2000-01-01 05:59:00    18\n",
              "2000-01-01 08:59:00    27\n",
              "2000-01-01 11:59:00    23\n",
              "Freq: 3H, dtype: int32"
            ]
          },
          "execution_count": 44,
          "metadata": {},
          "output_type": "execute_result"
        }
      ],
      "source": [
        "dft=ts.resample('3h', closed='right',\n",
        "            label='right',loffset=\"-1min\").sum()\n",
        "dft\n",
        "       "
      ]
    },
    {
      "cell_type": "markdown",
      "metadata": {
        "deletable": true,
        "editable": true
      },
      "source": [
        "### Alternative to former loffset():  Open-High-Low-Close (OHLC) resampling"
      ]
    },
    {
      "cell_type": "code",
      "execution_count": 45,
      "metadata": {},
      "outputs": [],
      "source": [
        "from pandas.tseries.frequencies import to_offset\n",
        "from datetime import datetime"
      ]
    },
    {
      "cell_type": "code",
      "execution_count": 46,
      "metadata": {},
      "outputs": [
        {
          "data": {
            "text/plain": [
              "2000-01-01 00:01:00     1\n",
              "2000-01-01 03:01:00     9\n",
              "2000-01-01 06:01:00    18\n",
              "2000-01-01 09:01:00    27\n",
              "2000-01-01 12:01:00    23\n",
              "Freq: 3H, dtype: int32"
            ]
          },
          "execution_count": 46,
          "metadata": {},
          "output_type": "execute_result"
        }
      ],
      "source": [
        "dft=ts.resample('3h', closed='right',label='right').sum()\n",
        "dft.index = dft.index + to_offset(\"1min\")  \n",
        "dft"
      ]
    },
    {
      "cell_type": "code",
      "execution_count": 49,
      "metadata": {},
      "outputs": [
        {
          "data": {
            "text/plain": [
              "2000-01-01 00:00:00     1\n",
              "2000-01-01 01:00:00     2\n",
              "2000-01-01 02:00:00     3\n",
              "2000-01-01 03:00:00     4\n",
              "2000-01-01 04:00:00     5\n",
              "2000-01-01 05:00:00     6\n",
              "2000-01-01 06:00:00     7\n",
              "2000-01-01 07:00:00     8\n",
              "2000-01-01 08:00:00     9\n",
              "2000-01-01 09:00:00    10\n",
              "2000-01-01 10:00:00    11\n",
              "2000-01-01 11:00:00    12\n",
              "Freq: H, dtype: int32"
            ]
          },
          "execution_count": 49,
          "metadata": {},
          "output_type": "execute_result"
        }
      ],
      "source": [
        "ts"
      ]
    },
    {
      "cell_type": "markdown",
      "metadata": {},
      "source": [
        "## another example"
      ]
    },
    {
      "cell_type": "code",
      "execution_count": 64,
      "metadata": {},
      "outputs": [
        {
          "name": "stderr",
          "output_type": "stream",
          "text": [
            "C:\\Users\\SHARAN~1\\AppData\\Local\\Temp/ipykernel_11204/2727996476.py:1: FutureWarning: 'loffset' in .resample() and in Grouper() is deprecated.\n",
            "\n",
            ">>> df.resample(freq=\"3s\", loffset=\"8H\")\n",
            "\n",
            "becomes:\n",
            "\n",
            ">>> from pandas.tseries.frequencies import to_offset\n",
            ">>> df = df.resample(freq=\"3s\").mean()\n",
            ">>> df.index = df.index.to_timestamp() + to_offset(\"8H\")\n",
            "\n",
            "  dft=ts.resample('5min', closed='right',\n"
          ]
        },
        {
          "data": {
            "text/plain": [
              "1999-12-31 23:59:59     1\n",
              "2000-01-01 00:04:59     0\n",
              "2000-01-01 00:09:59     0\n",
              "2000-01-01 00:14:59     0\n",
              "2000-01-01 00:19:59     0\n",
              "                       ..\n",
              "2000-01-01 10:39:59     0\n",
              "2000-01-01 10:44:59     0\n",
              "2000-01-01 10:49:59     0\n",
              "2000-01-01 10:54:59     0\n",
              "2000-01-01 10:59:59    12\n",
              "Freq: 5T, Length: 133, dtype: int32"
            ]
          },
          "execution_count": 64,
          "metadata": {},
          "output_type": "execute_result"
        }
      ],
      "source": [
        "dft=ts.resample('5min', closed='right',\n",
        "            label='right',loffset=\"-1s\").sum()\n",
        "dft"
      ]
    },
    {
      "cell_type": "markdown",
      "metadata": {},
      "source": [
        "## ohlc: to get the first (open), last (close), maximum (high), and minimal (low) values for each bucket"
      ]
    },
    {
      "cell_type": "code",
      "execution_count": 48,
      "metadata": {
        "collapsed": false,
        "deletable": true,
        "editable": true
      },
      "outputs": [
        {
          "data": {
            "text/html": [
              "<div>\n",
              "<style scoped>\n",
              "    .dataframe tbody tr th:only-of-type {\n",
              "        vertical-align: middle;\n",
              "    }\n",
              "\n",
              "    .dataframe tbody tr th {\n",
              "        vertical-align: top;\n",
              "    }\n",
              "\n",
              "    .dataframe thead th {\n",
              "        text-align: right;\n",
              "    }\n",
              "</style>\n",
              "<table border=\"1\" class=\"dataframe\">\n",
              "  <thead>\n",
              "    <tr style=\"text-align: right;\">\n",
              "      <th></th>\n",
              "      <th>open</th>\n",
              "      <th>high</th>\n",
              "      <th>low</th>\n",
              "      <th>close</th>\n",
              "    </tr>\n",
              "  </thead>\n",
              "  <tbody>\n",
              "    <tr>\n",
              "      <th>2000-01-01 00:00:00</th>\n",
              "      <td>1</td>\n",
              "      <td>3</td>\n",
              "      <td>1</td>\n",
              "      <td>3</td>\n",
              "    </tr>\n",
              "    <tr>\n",
              "      <th>2000-01-01 03:00:00</th>\n",
              "      <td>4</td>\n",
              "      <td>6</td>\n",
              "      <td>4</td>\n",
              "      <td>6</td>\n",
              "    </tr>\n",
              "    <tr>\n",
              "      <th>2000-01-01 06:00:00</th>\n",
              "      <td>7</td>\n",
              "      <td>9</td>\n",
              "      <td>7</td>\n",
              "      <td>9</td>\n",
              "    </tr>\n",
              "    <tr>\n",
              "      <th>2000-01-01 09:00:00</th>\n",
              "      <td>10</td>\n",
              "      <td>12</td>\n",
              "      <td>10</td>\n",
              "      <td>12</td>\n",
              "    </tr>\n",
              "  </tbody>\n",
              "</table>\n",
              "</div>"
            ],
            "text/plain": [
              "                     open  high  low  close\n",
              "2000-01-01 00:00:00     1     3    1      3\n",
              "2000-01-01 03:00:00     4     6    4      6\n",
              "2000-01-01 06:00:00     7     9    7      9\n",
              "2000-01-01 09:00:00    10    12   10     12"
            ]
          },
          "execution_count": 48,
          "metadata": {},
          "output_type": "execute_result"
        }
      ],
      "source": [
        "ts.resample('3h').ohlc()"
      ]
    },
    {
      "cell_type": "markdown",
      "metadata": {
        "deletable": true,
        "editable": true
      },
      "source": [
        "## Upsampling: converting from a low frequency (week/month) to a higher frequency (day/week), no aggregation is needed. rows with gaps time periods will be filled with NaN. To avoid large NaN, ffill() or bfill() may be used"
      ]
    },
    {
      "cell_type": "code",
      "execution_count": 50,
      "metadata": {
        "collapsed": false,
        "deletable": true,
        "editable": true
      },
      "outputs": [
        {
          "data": {
            "text/html": [
              "<div>\n",
              "<style scoped>\n",
              "    .dataframe tbody tr th:only-of-type {\n",
              "        vertical-align: middle;\n",
              "    }\n",
              "\n",
              "    .dataframe tbody tr th {\n",
              "        vertical-align: top;\n",
              "    }\n",
              "\n",
              "    .dataframe thead th {\n",
              "        text-align: right;\n",
              "    }\n",
              "</style>\n",
              "<table border=\"1\" class=\"dataframe\">\n",
              "  <thead>\n",
              "    <tr style=\"text-align: right;\">\n",
              "      <th></th>\n",
              "      <th>Colorado</th>\n",
              "      <th>Texas</th>\n",
              "      <th>New York</th>\n",
              "      <th>Ohio</th>\n",
              "    </tr>\n",
              "  </thead>\n",
              "  <tbody>\n",
              "    <tr>\n",
              "      <th>2021-10-18</th>\n",
              "      <td>0.405771</td>\n",
              "      <td>0.195659</td>\n",
              "      <td>0.490880</td>\n",
              "      <td>-0.735457</td>\n",
              "    </tr>\n",
              "    <tr>\n",
              "      <th>2021-10-25</th>\n",
              "      <td>0.698615</td>\n",
              "      <td>1.266147</td>\n",
              "      <td>0.870027</td>\n",
              "      <td>0.058263</td>\n",
              "    </tr>\n",
              "  </tbody>\n",
              "</table>\n",
              "</div>"
            ],
            "text/plain": [
              "            Colorado     Texas  New York      Ohio\n",
              "2021-10-18  0.405771  0.195659  0.490880 -0.735457\n",
              "2021-10-25  0.698615  1.266147  0.870027  0.058263"
            ]
          },
          "execution_count": 50,
          "metadata": {},
          "output_type": "execute_result"
        }
      ],
      "source": [
        "frame = pd.DataFrame(np.random.randn(2, 4),\n",
        "                     index=pd.date_range('16/10/2021', periods=2,freq='W-Mon'),\n",
        "                     columns=['Colorado', 'Texas', 'New York', 'Ohio'])\n",
        "frame"
      ]
    },
    {
      "cell_type": "code",
      "execution_count": 51,
      "metadata": {
        "collapsed": false,
        "deletable": true,
        "editable": true
      },
      "outputs": [
        {
          "data": {
            "text/html": [
              "<div>\n",
              "<style scoped>\n",
              "    .dataframe tbody tr th:only-of-type {\n",
              "        vertical-align: middle;\n",
              "    }\n",
              "\n",
              "    .dataframe tbody tr th {\n",
              "        vertical-align: top;\n",
              "    }\n",
              "\n",
              "    .dataframe thead th {\n",
              "        text-align: right;\n",
              "    }\n",
              "</style>\n",
              "<table border=\"1\" class=\"dataframe\">\n",
              "  <thead>\n",
              "    <tr style=\"text-align: right;\">\n",
              "      <th></th>\n",
              "      <th>Colorado</th>\n",
              "      <th>Texas</th>\n",
              "      <th>New York</th>\n",
              "      <th>Ohio</th>\n",
              "    </tr>\n",
              "  </thead>\n",
              "  <tbody>\n",
              "    <tr>\n",
              "      <th>2021-10-18</th>\n",
              "      <td>0.405771</td>\n",
              "      <td>0.195659</td>\n",
              "      <td>0.490880</td>\n",
              "      <td>-0.735457</td>\n",
              "    </tr>\n",
              "    <tr>\n",
              "      <th>2021-10-19</th>\n",
              "      <td>NaN</td>\n",
              "      <td>NaN</td>\n",
              "      <td>NaN</td>\n",
              "      <td>NaN</td>\n",
              "    </tr>\n",
              "    <tr>\n",
              "      <th>2021-10-20</th>\n",
              "      <td>NaN</td>\n",
              "      <td>NaN</td>\n",
              "      <td>NaN</td>\n",
              "      <td>NaN</td>\n",
              "    </tr>\n",
              "    <tr>\n",
              "      <th>2021-10-21</th>\n",
              "      <td>NaN</td>\n",
              "      <td>NaN</td>\n",
              "      <td>NaN</td>\n",
              "      <td>NaN</td>\n",
              "    </tr>\n",
              "    <tr>\n",
              "      <th>2021-10-22</th>\n",
              "      <td>NaN</td>\n",
              "      <td>NaN</td>\n",
              "      <td>NaN</td>\n",
              "      <td>NaN</td>\n",
              "    </tr>\n",
              "    <tr>\n",
              "      <th>2021-10-23</th>\n",
              "      <td>NaN</td>\n",
              "      <td>NaN</td>\n",
              "      <td>NaN</td>\n",
              "      <td>NaN</td>\n",
              "    </tr>\n",
              "    <tr>\n",
              "      <th>2021-10-24</th>\n",
              "      <td>NaN</td>\n",
              "      <td>NaN</td>\n",
              "      <td>NaN</td>\n",
              "      <td>NaN</td>\n",
              "    </tr>\n",
              "    <tr>\n",
              "      <th>2021-10-25</th>\n",
              "      <td>0.698615</td>\n",
              "      <td>1.266147</td>\n",
              "      <td>0.870027</td>\n",
              "      <td>0.058263</td>\n",
              "    </tr>\n",
              "  </tbody>\n",
              "</table>\n",
              "</div>"
            ],
            "text/plain": [
              "            Colorado     Texas  New York      Ohio\n",
              "2021-10-18  0.405771  0.195659  0.490880 -0.735457\n",
              "2021-10-19       NaN       NaN       NaN       NaN\n",
              "2021-10-20       NaN       NaN       NaN       NaN\n",
              "2021-10-21       NaN       NaN       NaN       NaN\n",
              "2021-10-22       NaN       NaN       NaN       NaN\n",
              "2021-10-23       NaN       NaN       NaN       NaN\n",
              "2021-10-24       NaN       NaN       NaN       NaN\n",
              "2021-10-25  0.698615  1.266147  0.870027  0.058263"
            ]
          },
          "execution_count": 51,
          "metadata": {},
          "output_type": "execute_result"
        }
      ],
      "source": [
        "df_daily = frame.resample('D').asfreq()\n",
        "df_daily"
      ]
    },
    {
      "cell_type": "code",
      "execution_count": 52,
      "metadata": {
        "collapsed": false,
        "deletable": true,
        "editable": true
      },
      "outputs": [
        {
          "data": {
            "text/html": [
              "<div>\n",
              "<style scoped>\n",
              "    .dataframe tbody tr th:only-of-type {\n",
              "        vertical-align: middle;\n",
              "    }\n",
              "\n",
              "    .dataframe tbody tr th {\n",
              "        vertical-align: top;\n",
              "    }\n",
              "\n",
              "    .dataframe thead th {\n",
              "        text-align: right;\n",
              "    }\n",
              "</style>\n",
              "<table border=\"1\" class=\"dataframe\">\n",
              "  <thead>\n",
              "    <tr style=\"text-align: right;\">\n",
              "      <th></th>\n",
              "      <th>Colorado</th>\n",
              "      <th>Texas</th>\n",
              "      <th>New York</th>\n",
              "      <th>Ohio</th>\n",
              "    </tr>\n",
              "  </thead>\n",
              "  <tbody>\n",
              "    <tr>\n",
              "      <th>2021-10-18</th>\n",
              "      <td>0.405771</td>\n",
              "      <td>0.195659</td>\n",
              "      <td>0.490880</td>\n",
              "      <td>-0.735457</td>\n",
              "    </tr>\n",
              "    <tr>\n",
              "      <th>2021-10-19</th>\n",
              "      <td>0.405771</td>\n",
              "      <td>0.195659</td>\n",
              "      <td>0.490880</td>\n",
              "      <td>-0.735457</td>\n",
              "    </tr>\n",
              "    <tr>\n",
              "      <th>2021-10-20</th>\n",
              "      <td>0.405771</td>\n",
              "      <td>0.195659</td>\n",
              "      <td>0.490880</td>\n",
              "      <td>-0.735457</td>\n",
              "    </tr>\n",
              "    <tr>\n",
              "      <th>2021-10-21</th>\n",
              "      <td>0.405771</td>\n",
              "      <td>0.195659</td>\n",
              "      <td>0.490880</td>\n",
              "      <td>-0.735457</td>\n",
              "    </tr>\n",
              "    <tr>\n",
              "      <th>2021-10-22</th>\n",
              "      <td>0.405771</td>\n",
              "      <td>0.195659</td>\n",
              "      <td>0.490880</td>\n",
              "      <td>-0.735457</td>\n",
              "    </tr>\n",
              "    <tr>\n",
              "      <th>2021-10-23</th>\n",
              "      <td>0.405771</td>\n",
              "      <td>0.195659</td>\n",
              "      <td>0.490880</td>\n",
              "      <td>-0.735457</td>\n",
              "    </tr>\n",
              "    <tr>\n",
              "      <th>2021-10-24</th>\n",
              "      <td>0.405771</td>\n",
              "      <td>0.195659</td>\n",
              "      <td>0.490880</td>\n",
              "      <td>-0.735457</td>\n",
              "    </tr>\n",
              "    <tr>\n",
              "      <th>2021-10-25</th>\n",
              "      <td>0.698615</td>\n",
              "      <td>1.266147</td>\n",
              "      <td>0.870027</td>\n",
              "      <td>0.058263</td>\n",
              "    </tr>\n",
              "  </tbody>\n",
              "</table>\n",
              "</div>"
            ],
            "text/plain": [
              "            Colorado     Texas  New York      Ohio\n",
              "2021-10-18  0.405771  0.195659  0.490880 -0.735457\n",
              "2021-10-19  0.405771  0.195659  0.490880 -0.735457\n",
              "2021-10-20  0.405771  0.195659  0.490880 -0.735457\n",
              "2021-10-21  0.405771  0.195659  0.490880 -0.735457\n",
              "2021-10-22  0.405771  0.195659  0.490880 -0.735457\n",
              "2021-10-23  0.405771  0.195659  0.490880 -0.735457\n",
              "2021-10-24  0.405771  0.195659  0.490880 -0.735457\n",
              "2021-10-25  0.698615  1.266147  0.870027  0.058263"
            ]
          },
          "execution_count": 52,
          "metadata": {},
          "output_type": "execute_result"
        }
      ],
      "source": [
        "frame.resample('D').ffill()"
      ]
    },
    {
      "cell_type": "code",
      "execution_count": 53,
      "metadata": {
        "collapsed": false,
        "deletable": true,
        "editable": true
      },
      "outputs": [
        {
          "data": {
            "text/html": [
              "<div>\n",
              "<style scoped>\n",
              "    .dataframe tbody tr th:only-of-type {\n",
              "        vertical-align: middle;\n",
              "    }\n",
              "\n",
              "    .dataframe tbody tr th {\n",
              "        vertical-align: top;\n",
              "    }\n",
              "\n",
              "    .dataframe thead th {\n",
              "        text-align: right;\n",
              "    }\n",
              "</style>\n",
              "<table border=\"1\" class=\"dataframe\">\n",
              "  <thead>\n",
              "    <tr style=\"text-align: right;\">\n",
              "      <th></th>\n",
              "      <th>Colorado</th>\n",
              "      <th>Texas</th>\n",
              "      <th>New York</th>\n",
              "      <th>Ohio</th>\n",
              "    </tr>\n",
              "  </thead>\n",
              "  <tbody>\n",
              "    <tr>\n",
              "      <th>2021-10-18</th>\n",
              "      <td>0.405771</td>\n",
              "      <td>0.195659</td>\n",
              "      <td>0.490880</td>\n",
              "      <td>-0.735457</td>\n",
              "    </tr>\n",
              "    <tr>\n",
              "      <th>2021-10-19</th>\n",
              "      <td>0.405771</td>\n",
              "      <td>0.195659</td>\n",
              "      <td>0.490880</td>\n",
              "      <td>-0.735457</td>\n",
              "    </tr>\n",
              "    <tr>\n",
              "      <th>2021-10-20</th>\n",
              "      <td>0.405771</td>\n",
              "      <td>0.195659</td>\n",
              "      <td>0.490880</td>\n",
              "      <td>-0.735457</td>\n",
              "    </tr>\n",
              "    <tr>\n",
              "      <th>2021-10-21</th>\n",
              "      <td>NaN</td>\n",
              "      <td>NaN</td>\n",
              "      <td>NaN</td>\n",
              "      <td>NaN</td>\n",
              "    </tr>\n",
              "    <tr>\n",
              "      <th>2021-10-22</th>\n",
              "      <td>NaN</td>\n",
              "      <td>NaN</td>\n",
              "      <td>NaN</td>\n",
              "      <td>NaN</td>\n",
              "    </tr>\n",
              "    <tr>\n",
              "      <th>2021-10-23</th>\n",
              "      <td>NaN</td>\n",
              "      <td>NaN</td>\n",
              "      <td>NaN</td>\n",
              "      <td>NaN</td>\n",
              "    </tr>\n",
              "    <tr>\n",
              "      <th>2021-10-24</th>\n",
              "      <td>NaN</td>\n",
              "      <td>NaN</td>\n",
              "      <td>NaN</td>\n",
              "      <td>NaN</td>\n",
              "    </tr>\n",
              "    <tr>\n",
              "      <th>2021-10-25</th>\n",
              "      <td>0.698615</td>\n",
              "      <td>1.266147</td>\n",
              "      <td>0.870027</td>\n",
              "      <td>0.058263</td>\n",
              "    </tr>\n",
              "  </tbody>\n",
              "</table>\n",
              "</div>"
            ],
            "text/plain": [
              "            Colorado     Texas  New York      Ohio\n",
              "2021-10-18  0.405771  0.195659  0.490880 -0.735457\n",
              "2021-10-19  0.405771  0.195659  0.490880 -0.735457\n",
              "2021-10-20  0.405771  0.195659  0.490880 -0.735457\n",
              "2021-10-21       NaN       NaN       NaN       NaN\n",
              "2021-10-22       NaN       NaN       NaN       NaN\n",
              "2021-10-23       NaN       NaN       NaN       NaN\n",
              "2021-10-24       NaN       NaN       NaN       NaN\n",
              "2021-10-25  0.698615  1.266147  0.870027  0.058263"
            ]
          },
          "execution_count": 53,
          "metadata": {},
          "output_type": "execute_result"
        }
      ],
      "source": [
        "frame.resample('D').ffill(limit=2)"
      ]
    },
    {
      "cell_type": "code",
      "execution_count": 54,
      "metadata": {},
      "outputs": [
        {
          "data": {
            "text/html": [
              "<div>\n",
              "<style scoped>\n",
              "    .dataframe tbody tr th:only-of-type {\n",
              "        vertical-align: middle;\n",
              "    }\n",
              "\n",
              "    .dataframe tbody tr th {\n",
              "        vertical-align: top;\n",
              "    }\n",
              "\n",
              "    .dataframe thead th {\n",
              "        text-align: right;\n",
              "    }\n",
              "</style>\n",
              "<table border=\"1\" class=\"dataframe\">\n",
              "  <thead>\n",
              "    <tr style=\"text-align: right;\">\n",
              "      <th></th>\n",
              "      <th>Colorado</th>\n",
              "      <th>Texas</th>\n",
              "      <th>New York</th>\n",
              "      <th>Ohio</th>\n",
              "    </tr>\n",
              "  </thead>\n",
              "  <tbody>\n",
              "    <tr>\n",
              "      <th>2021-10-18</th>\n",
              "      <td>0.405771</td>\n",
              "      <td>0.195659</td>\n",
              "      <td>0.490880</td>\n",
              "      <td>-0.735457</td>\n",
              "    </tr>\n",
              "    <tr>\n",
              "      <th>2021-10-19</th>\n",
              "      <td>NaN</td>\n",
              "      <td>NaN</td>\n",
              "      <td>NaN</td>\n",
              "      <td>NaN</td>\n",
              "    </tr>\n",
              "    <tr>\n",
              "      <th>2021-10-20</th>\n",
              "      <td>NaN</td>\n",
              "      <td>NaN</td>\n",
              "      <td>NaN</td>\n",
              "      <td>NaN</td>\n",
              "    </tr>\n",
              "    <tr>\n",
              "      <th>2021-10-21</th>\n",
              "      <td>NaN</td>\n",
              "      <td>NaN</td>\n",
              "      <td>NaN</td>\n",
              "      <td>NaN</td>\n",
              "    </tr>\n",
              "    <tr>\n",
              "      <th>2021-10-22</th>\n",
              "      <td>0.698615</td>\n",
              "      <td>1.266147</td>\n",
              "      <td>0.870027</td>\n",
              "      <td>0.058263</td>\n",
              "    </tr>\n",
              "    <tr>\n",
              "      <th>2021-10-23</th>\n",
              "      <td>0.698615</td>\n",
              "      <td>1.266147</td>\n",
              "      <td>0.870027</td>\n",
              "      <td>0.058263</td>\n",
              "    </tr>\n",
              "    <tr>\n",
              "      <th>2021-10-24</th>\n",
              "      <td>0.698615</td>\n",
              "      <td>1.266147</td>\n",
              "      <td>0.870027</td>\n",
              "      <td>0.058263</td>\n",
              "    </tr>\n",
              "    <tr>\n",
              "      <th>2021-10-25</th>\n",
              "      <td>0.698615</td>\n",
              "      <td>1.266147</td>\n",
              "      <td>0.870027</td>\n",
              "      <td>0.058263</td>\n",
              "    </tr>\n",
              "  </tbody>\n",
              "</table>\n",
              "</div>"
            ],
            "text/plain": [
              "            Colorado     Texas  New York      Ohio\n",
              "2021-10-18  0.405771  0.195659  0.490880 -0.735457\n",
              "2021-10-19       NaN       NaN       NaN       NaN\n",
              "2021-10-20       NaN       NaN       NaN       NaN\n",
              "2021-10-21       NaN       NaN       NaN       NaN\n",
              "2021-10-22  0.698615  1.266147  0.870027  0.058263\n",
              "2021-10-23  0.698615  1.266147  0.870027  0.058263\n",
              "2021-10-24  0.698615  1.266147  0.870027  0.058263\n",
              "2021-10-25  0.698615  1.266147  0.870027  0.058263"
            ]
          },
          "execution_count": 54,
          "metadata": {},
          "output_type": "execute_result"
        }
      ],
      "source": [
        "frame.resample('D').bfill(limit=3)"
      ]
    },
    {
      "cell_type": "code",
      "execution_count": 55,
      "metadata": {
        "collapsed": false,
        "deletable": true,
        "editable": true
      },
      "outputs": [
        {
          "data": {
            "text/html": [
              "<div>\n",
              "<style scoped>\n",
              "    .dataframe tbody tr th:only-of-type {\n",
              "        vertical-align: middle;\n",
              "    }\n",
              "\n",
              "    .dataframe tbody tr th {\n",
              "        vertical-align: top;\n",
              "    }\n",
              "\n",
              "    .dataframe thead th {\n",
              "        text-align: right;\n",
              "    }\n",
              "</style>\n",
              "<table border=\"1\" class=\"dataframe\">\n",
              "  <thead>\n",
              "    <tr style=\"text-align: right;\">\n",
              "      <th></th>\n",
              "      <th>Colorado</th>\n",
              "      <th>Texas</th>\n",
              "      <th>New York</th>\n",
              "      <th>Ohio</th>\n",
              "    </tr>\n",
              "  </thead>\n",
              "  <tbody>\n",
              "    <tr>\n",
              "      <th>2021-10-19</th>\n",
              "      <td>0.405771</td>\n",
              "      <td>0.195659</td>\n",
              "      <td>0.490880</td>\n",
              "      <td>-0.735457</td>\n",
              "    </tr>\n",
              "    <tr>\n",
              "      <th>2021-10-26</th>\n",
              "      <td>0.698615</td>\n",
              "      <td>1.266147</td>\n",
              "      <td>0.870027</td>\n",
              "      <td>0.058263</td>\n",
              "    </tr>\n",
              "  </tbody>\n",
              "</table>\n",
              "</div>"
            ],
            "text/plain": [
              "            Colorado     Texas  New York      Ohio\n",
              "2021-10-19  0.405771  0.195659  0.490880 -0.735457\n",
              "2021-10-26  0.698615  1.266147  0.870027  0.058263"
            ]
          },
          "execution_count": 55,
          "metadata": {},
          "output_type": "execute_result"
        }
      ],
      "source": [
        "frame.resample('W-Tue').ffill()"
      ]
    },
    {
      "cell_type": "code",
      "execution_count": 41,
      "metadata": {},
      "outputs": [
        {
          "data": {
            "text/html": [
              "<div>\n",
              "<style scoped>\n",
              "    .dataframe tbody tr th:only-of-type {\n",
              "        vertical-align: middle;\n",
              "    }\n",
              "\n",
              "    .dataframe tbody tr th {\n",
              "        vertical-align: top;\n",
              "    }\n",
              "\n",
              "    .dataframe thead th {\n",
              "        text-align: right;\n",
              "    }\n",
              "</style>\n",
              "<table border=\"1\" class=\"dataframe\">\n",
              "  <thead>\n",
              "    <tr style=\"text-align: right;\">\n",
              "      <th></th>\n",
              "      <th>Colorado</th>\n",
              "      <th>Texas</th>\n",
              "      <th>New York</th>\n",
              "      <th>Ohio</th>\n",
              "    </tr>\n",
              "  </thead>\n",
              "  <tbody>\n",
              "    <tr>\n",
              "      <th>2021-10-18</th>\n",
              "      <td>-0.512387</td>\n",
              "      <td>0.271481</td>\n",
              "      <td>0.274529</td>\n",
              "      <td>0.106444</td>\n",
              "    </tr>\n",
              "    <tr>\n",
              "      <th>2021-10-25</th>\n",
              "      <td>0.194239</td>\n",
              "      <td>-0.172833</td>\n",
              "      <td>-0.516908</td>\n",
              "      <td>-1.020411</td>\n",
              "    </tr>\n",
              "  </tbody>\n",
              "</table>\n",
              "</div>"
            ],
            "text/plain": [
              "            Colorado     Texas  New York      Ohio\n",
              "2021-10-18 -0.512387  0.271481  0.274529  0.106444\n",
              "2021-10-25  0.194239 -0.172833 -0.516908 -1.020411"
            ]
          },
          "execution_count": 41,
          "metadata": {},
          "output_type": "execute_result"
        }
      ],
      "source": [
        "frame"
      ]
    },
    {
      "cell_type": "code",
      "execution_count": 43,
      "metadata": {},
      "outputs": [
        {
          "data": {
            "text/html": [
              "<div>\n",
              "<style scoped>\n",
              "    .dataframe tbody tr th:only-of-type {\n",
              "        vertical-align: middle;\n",
              "    }\n",
              "\n",
              "    .dataframe tbody tr th {\n",
              "        vertical-align: top;\n",
              "    }\n",
              "\n",
              "    .dataframe thead th {\n",
              "        text-align: right;\n",
              "    }\n",
              "</style>\n",
              "<table border=\"1\" class=\"dataframe\">\n",
              "  <thead>\n",
              "    <tr style=\"text-align: right;\">\n",
              "      <th></th>\n",
              "      <th>Colorado</th>\n",
              "      <th>Texas</th>\n",
              "      <th>New York</th>\n",
              "      <th>Ohio</th>\n",
              "    </tr>\n",
              "  </thead>\n",
              "  <tbody>\n",
              "    <tr>\n",
              "      <th>2021-10-24</th>\n",
              "      <td>-0.512387</td>\n",
              "      <td>0.271481</td>\n",
              "      <td>0.274529</td>\n",
              "      <td>0.106444</td>\n",
              "    </tr>\n",
              "    <tr>\n",
              "      <th>2021-10-31</th>\n",
              "      <td>0.194239</td>\n",
              "      <td>-0.172833</td>\n",
              "      <td>-0.516908</td>\n",
              "      <td>-1.020411</td>\n",
              "    </tr>\n",
              "  </tbody>\n",
              "</table>\n",
              "</div>"
            ],
            "text/plain": [
              "            Colorado     Texas  New York      Ohio\n",
              "2021-10-24 -0.512387  0.271481  0.274529  0.106444\n",
              "2021-10-31  0.194239 -0.172833 -0.516908 -1.020411"
            ]
          },
          "execution_count": 43,
          "metadata": {},
          "output_type": "execute_result"
        }
      ],
      "source": [
        "frame.resample('W-Sun').ffill()"
      ]
    },
    {
      "cell_type": "code",
      "execution_count": 42,
      "metadata": {},
      "outputs": [
        {
          "data": {
            "text/html": [
              "<div>\n",
              "<style scoped>\n",
              "    .dataframe tbody tr th:only-of-type {\n",
              "        vertical-align: middle;\n",
              "    }\n",
              "\n",
              "    .dataframe tbody tr th {\n",
              "        vertical-align: top;\n",
              "    }\n",
              "\n",
              "    .dataframe thead th {\n",
              "        text-align: right;\n",
              "    }\n",
              "</style>\n",
              "<table border=\"1\" class=\"dataframe\">\n",
              "  <thead>\n",
              "    <tr style=\"text-align: right;\">\n",
              "      <th></th>\n",
              "      <th>Colorado</th>\n",
              "      <th>Texas</th>\n",
              "      <th>New York</th>\n",
              "      <th>Ohio</th>\n",
              "    </tr>\n",
              "  </thead>\n",
              "  <tbody>\n",
              "    <tr>\n",
              "      <th>2021-10-24</th>\n",
              "      <td>0.194239</td>\n",
              "      <td>-0.172833</td>\n",
              "      <td>-0.516908</td>\n",
              "      <td>-1.020411</td>\n",
              "    </tr>\n",
              "    <tr>\n",
              "      <th>2021-10-31</th>\n",
              "      <td>NaN</td>\n",
              "      <td>NaN</td>\n",
              "      <td>NaN</td>\n",
              "      <td>NaN</td>\n",
              "    </tr>\n",
              "  </tbody>\n",
              "</table>\n",
              "</div>"
            ],
            "text/plain": [
              "            Colorado     Texas  New York      Ohio\n",
              "2021-10-24  0.194239 -0.172833 -0.516908 -1.020411\n",
              "2021-10-31       NaN       NaN       NaN       NaN"
            ]
          },
          "execution_count": 42,
          "metadata": {},
          "output_type": "execute_result"
        }
      ],
      "source": [
        "frame.resample('W-Sun').bfill()"
      ]
    },
    {
      "cell_type": "markdown",
      "metadata": {
        "deletable": true,
        "editable": true
      },
      "source": [
        "## Resampling with Periods"
      ]
    },
    {
      "cell_type": "code",
      "execution_count": 56,
      "metadata": {
        "collapsed": false,
        "deletable": true,
        "editable": true
      },
      "outputs": [
        {
          "data": {
            "text/html": [
              "<div>\n",
              "<style scoped>\n",
              "    .dataframe tbody tr th:only-of-type {\n",
              "        vertical-align: middle;\n",
              "    }\n",
              "\n",
              "    .dataframe tbody tr th {\n",
              "        vertical-align: top;\n",
              "    }\n",
              "\n",
              "    .dataframe thead th {\n",
              "        text-align: right;\n",
              "    }\n",
              "</style>\n",
              "<table border=\"1\" class=\"dataframe\">\n",
              "  <thead>\n",
              "    <tr style=\"text-align: right;\">\n",
              "      <th></th>\n",
              "      <th>Colorado</th>\n",
              "      <th>Texas</th>\n",
              "      <th>New York</th>\n",
              "      <th>Ohio</th>\n",
              "    </tr>\n",
              "  </thead>\n",
              "  <tbody>\n",
              "    <tr>\n",
              "      <th>2021-01</th>\n",
              "      <td>-0.145330</td>\n",
              "      <td>-0.891460</td>\n",
              "      <td>-0.303987</td>\n",
              "      <td>-2.619531</td>\n",
              "    </tr>\n",
              "    <tr>\n",
              "      <th>2021-02</th>\n",
              "      <td>0.987056</td>\n",
              "      <td>0.088570</td>\n",
              "      <td>0.717840</td>\n",
              "      <td>0.275150</td>\n",
              "    </tr>\n",
              "    <tr>\n",
              "      <th>2021-03</th>\n",
              "      <td>0.084480</td>\n",
              "      <td>0.668323</td>\n",
              "      <td>0.423208</td>\n",
              "      <td>-0.590653</td>\n",
              "    </tr>\n",
              "    <tr>\n",
              "      <th>2021-04</th>\n",
              "      <td>1.656180</td>\n",
              "      <td>0.219893</td>\n",
              "      <td>-0.115180</td>\n",
              "      <td>0.083381</td>\n",
              "    </tr>\n",
              "    <tr>\n",
              "      <th>2021-05</th>\n",
              "      <td>-0.328155</td>\n",
              "      <td>0.908593</td>\n",
              "      <td>-0.607106</td>\n",
              "      <td>-0.846767</td>\n",
              "    </tr>\n",
              "    <tr>\n",
              "      <th>2021-06</th>\n",
              "      <td>-0.910181</td>\n",
              "      <td>-0.690248</td>\n",
              "      <td>-1.110677</td>\n",
              "      <td>-0.306621</td>\n",
              "    </tr>\n",
              "    <tr>\n",
              "      <th>2021-07</th>\n",
              "      <td>1.198064</td>\n",
              "      <td>-1.013530</td>\n",
              "      <td>-0.949245</td>\n",
              "      <td>-0.467728</td>\n",
              "    </tr>\n",
              "    <tr>\n",
              "      <th>2021-08</th>\n",
              "      <td>-1.331011</td>\n",
              "      <td>-0.778365</td>\n",
              "      <td>-0.260554</td>\n",
              "      <td>-1.596551</td>\n",
              "    </tr>\n",
              "    <tr>\n",
              "      <th>2021-09</th>\n",
              "      <td>1.945219</td>\n",
              "      <td>-1.697326</td>\n",
              "      <td>0.188947</td>\n",
              "      <td>-0.213835</td>\n",
              "    </tr>\n",
              "    <tr>\n",
              "      <th>2021-10</th>\n",
              "      <td>0.488216</td>\n",
              "      <td>-0.453688</td>\n",
              "      <td>0.100917</td>\n",
              "      <td>-0.844645</td>\n",
              "    </tr>\n",
              "    <tr>\n",
              "      <th>2021-11</th>\n",
              "      <td>1.410636</td>\n",
              "      <td>-0.035866</td>\n",
              "      <td>0.553342</td>\n",
              "      <td>-0.645234</td>\n",
              "    </tr>\n",
              "    <tr>\n",
              "      <th>2021-12</th>\n",
              "      <td>-0.083850</td>\n",
              "      <td>-1.448997</td>\n",
              "      <td>-0.598916</td>\n",
              "      <td>0.073540</td>\n",
              "    </tr>\n",
              "    <tr>\n",
              "      <th>2022-01</th>\n",
              "      <td>0.393970</td>\n",
              "      <td>-0.382505</td>\n",
              "      <td>-0.390300</td>\n",
              "      <td>1.103109</td>\n",
              "    </tr>\n",
              "    <tr>\n",
              "      <th>2022-02</th>\n",
              "      <td>0.053692</td>\n",
              "      <td>-0.231504</td>\n",
              "      <td>0.676124</td>\n",
              "      <td>-1.166149</td>\n",
              "    </tr>\n",
              "    <tr>\n",
              "      <th>2022-03</th>\n",
              "      <td>0.307409</td>\n",
              "      <td>-1.209698</td>\n",
              "      <td>0.928259</td>\n",
              "      <td>-1.170447</td>\n",
              "    </tr>\n",
              "    <tr>\n",
              "      <th>2022-04</th>\n",
              "      <td>-0.376606</td>\n",
              "      <td>-0.215770</td>\n",
              "      <td>-2.054646</td>\n",
              "      <td>-1.086953</td>\n",
              "    </tr>\n",
              "    <tr>\n",
              "      <th>2022-05</th>\n",
              "      <td>1.213950</td>\n",
              "      <td>-1.107870</td>\n",
              "      <td>0.465396</td>\n",
              "      <td>-0.534721</td>\n",
              "    </tr>\n",
              "    <tr>\n",
              "      <th>2022-06</th>\n",
              "      <td>-0.826946</td>\n",
              "      <td>1.589306</td>\n",
              "      <td>-1.533949</td>\n",
              "      <td>0.708249</td>\n",
              "    </tr>\n",
              "    <tr>\n",
              "      <th>2022-07</th>\n",
              "      <td>0.378252</td>\n",
              "      <td>0.920468</td>\n",
              "      <td>1.299652</td>\n",
              "      <td>0.651498</td>\n",
              "    </tr>\n",
              "    <tr>\n",
              "      <th>2022-08</th>\n",
              "      <td>-1.037366</td>\n",
              "      <td>-0.115645</td>\n",
              "      <td>0.296495</td>\n",
              "      <td>-0.634509</td>\n",
              "    </tr>\n",
              "    <tr>\n",
              "      <th>2022-09</th>\n",
              "      <td>-0.424045</td>\n",
              "      <td>1.318081</td>\n",
              "      <td>1.716081</td>\n",
              "      <td>0.518374</td>\n",
              "    </tr>\n",
              "    <tr>\n",
              "      <th>2022-10</th>\n",
              "      <td>-0.429284</td>\n",
              "      <td>0.695097</td>\n",
              "      <td>-0.770226</td>\n",
              "      <td>-2.759604</td>\n",
              "    </tr>\n",
              "    <tr>\n",
              "      <th>2022-11</th>\n",
              "      <td>1.508074</td>\n",
              "      <td>-1.086812</td>\n",
              "      <td>-0.519762</td>\n",
              "      <td>1.501626</td>\n",
              "    </tr>\n",
              "    <tr>\n",
              "      <th>2022-12</th>\n",
              "      <td>1.424158</td>\n",
              "      <td>0.085937</td>\n",
              "      <td>-0.619891</td>\n",
              "      <td>-1.466901</td>\n",
              "    </tr>\n",
              "  </tbody>\n",
              "</table>\n",
              "</div>"
            ],
            "text/plain": [
              "         Colorado     Texas  New York      Ohio\n",
              "2021-01 -0.145330 -0.891460 -0.303987 -2.619531\n",
              "2021-02  0.987056  0.088570  0.717840  0.275150\n",
              "2021-03  0.084480  0.668323  0.423208 -0.590653\n",
              "2021-04  1.656180  0.219893 -0.115180  0.083381\n",
              "2021-05 -0.328155  0.908593 -0.607106 -0.846767\n",
              "2021-06 -0.910181 -0.690248 -1.110677 -0.306621\n",
              "2021-07  1.198064 -1.013530 -0.949245 -0.467728\n",
              "2021-08 -1.331011 -0.778365 -0.260554 -1.596551\n",
              "2021-09  1.945219 -1.697326  0.188947 -0.213835\n",
              "2021-10  0.488216 -0.453688  0.100917 -0.844645\n",
              "2021-11  1.410636 -0.035866  0.553342 -0.645234\n",
              "2021-12 -0.083850 -1.448997 -0.598916  0.073540\n",
              "2022-01  0.393970 -0.382505 -0.390300  1.103109\n",
              "2022-02  0.053692 -0.231504  0.676124 -1.166149\n",
              "2022-03  0.307409 -1.209698  0.928259 -1.170447\n",
              "2022-04 -0.376606 -0.215770 -2.054646 -1.086953\n",
              "2022-05  1.213950 -1.107870  0.465396 -0.534721\n",
              "2022-06 -0.826946  1.589306 -1.533949  0.708249\n",
              "2022-07  0.378252  0.920468  1.299652  0.651498\n",
              "2022-08 -1.037366 -0.115645  0.296495 -0.634509\n",
              "2022-09 -0.424045  1.318081  1.716081  0.518374\n",
              "2022-10 -0.429284  0.695097 -0.770226 -2.759604\n",
              "2022-11  1.508074 -1.086812 -0.519762  1.501626\n",
              "2022-12  1.424158  0.085937 -0.619891 -1.466901"
            ]
          },
          "execution_count": 56,
          "metadata": {},
          "output_type": "execute_result"
        }
      ],
      "source": [
        "frame = pd.DataFrame(np.random.randn(24, 4),\n",
        "                     index=pd.period_range('1-2021', '12-2022',freq='M'),\n",
        "                     columns=['Colorado', 'Texas', 'New York', 'Ohio'])\n",
        "frame\n"
      ]
    },
    {
      "cell_type": "code",
      "execution_count": 57,
      "metadata": {},
      "outputs": [
        {
          "data": {
            "text/html": [
              "<div>\n",
              "<style scoped>\n",
              "    .dataframe tbody tr th:only-of-type {\n",
              "        vertical-align: middle;\n",
              "    }\n",
              "\n",
              "    .dataframe tbody tr th {\n",
              "        vertical-align: top;\n",
              "    }\n",
              "\n",
              "    .dataframe thead th {\n",
              "        text-align: right;\n",
              "    }\n",
              "</style>\n",
              "<table border=\"1\" class=\"dataframe\">\n",
              "  <thead>\n",
              "    <tr style=\"text-align: right;\">\n",
              "      <th></th>\n",
              "      <th>Colorado</th>\n",
              "      <th>Texas</th>\n",
              "      <th>New York</th>\n",
              "      <th>Ohio</th>\n",
              "    </tr>\n",
              "  </thead>\n",
              "  <tbody>\n",
              "    <tr>\n",
              "      <th>2021</th>\n",
              "      <td>0.414277</td>\n",
              "      <td>-0.427008</td>\n",
              "      <td>-0.163451</td>\n",
              "      <td>-0.641624</td>\n",
              "    </tr>\n",
              "    <tr>\n",
              "      <th>2022</th>\n",
              "      <td>0.182105</td>\n",
              "      <td>0.021590</td>\n",
              "      <td>-0.042231</td>\n",
              "      <td>-0.361369</td>\n",
              "    </tr>\n",
              "  </tbody>\n",
              "</table>\n",
              "</div>"
            ],
            "text/plain": [
              "      Colorado     Texas  New York      Ohio\n",
              "2021  0.414277 -0.427008 -0.163451 -0.641624\n",
              "2022  0.182105  0.021590 -0.042231 -0.361369"
            ]
          },
          "execution_count": 57,
          "metadata": {},
          "output_type": "execute_result"
        }
      ],
      "source": [
        "annual_frame = frame.resample('A-DEC').mean()\n",
        "annual_frame"
      ]
    },
    {
      "cell_type": "markdown",
      "metadata": {},
      "source": [
        "## Q-DEC: Quarterly, year ending in December"
      ]
    },
    {
      "cell_type": "code",
      "execution_count": 76,
      "metadata": {},
      "outputs": [
        {
          "data": {
            "text/html": [
              "<div>\n",
              "<style scoped>\n",
              "    .dataframe tbody tr th:only-of-type {\n",
              "        vertical-align: middle;\n",
              "    }\n",
              "\n",
              "    .dataframe tbody tr th {\n",
              "        vertical-align: top;\n",
              "    }\n",
              "\n",
              "    .dataframe thead th {\n",
              "        text-align: right;\n",
              "    }\n",
              "</style>\n",
              "<table border=\"1\" class=\"dataframe\">\n",
              "  <thead>\n",
              "    <tr style=\"text-align: right;\">\n",
              "      <th></th>\n",
              "      <th>Colorado</th>\n",
              "      <th>Texas</th>\n",
              "      <th>New York</th>\n",
              "      <th>Ohio</th>\n",
              "    </tr>\n",
              "  </thead>\n",
              "  <tbody>\n",
              "    <tr>\n",
              "      <th>2021Q1</th>\n",
              "      <td>0.198175</td>\n",
              "      <td>-0.14941</td>\n",
              "      <td>-0.143816</td>\n",
              "      <td>-0.476974</td>\n",
              "    </tr>\n",
              "    <tr>\n",
              "      <th>2021Q2</th>\n",
              "      <td>NaN</td>\n",
              "      <td>NaN</td>\n",
              "      <td>NaN</td>\n",
              "      <td>NaN</td>\n",
              "    </tr>\n",
              "    <tr>\n",
              "      <th>2021Q3</th>\n",
              "      <td>NaN</td>\n",
              "      <td>NaN</td>\n",
              "      <td>NaN</td>\n",
              "      <td>NaN</td>\n",
              "    </tr>\n",
              "    <tr>\n",
              "      <th>2021Q4</th>\n",
              "      <td>NaN</td>\n",
              "      <td>NaN</td>\n",
              "      <td>NaN</td>\n",
              "      <td>NaN</td>\n",
              "    </tr>\n",
              "    <tr>\n",
              "      <th>2022Q1</th>\n",
              "      <td>-0.378516</td>\n",
              "      <td>-0.59600</td>\n",
              "      <td>-0.251005</td>\n",
              "      <td>0.010059</td>\n",
              "    </tr>\n",
              "    <tr>\n",
              "      <th>2022Q2</th>\n",
              "      <td>NaN</td>\n",
              "      <td>NaN</td>\n",
              "      <td>NaN</td>\n",
              "      <td>NaN</td>\n",
              "    </tr>\n",
              "    <tr>\n",
              "      <th>2022Q3</th>\n",
              "      <td>NaN</td>\n",
              "      <td>NaN</td>\n",
              "      <td>NaN</td>\n",
              "      <td>NaN</td>\n",
              "    </tr>\n",
              "    <tr>\n",
              "      <th>2022Q4</th>\n",
              "      <td>NaN</td>\n",
              "      <td>NaN</td>\n",
              "      <td>NaN</td>\n",
              "      <td>NaN</td>\n",
              "    </tr>\n",
              "  </tbody>\n",
              "</table>\n",
              "</div>"
            ],
            "text/plain": [
              "        Colorado    Texas  New York      Ohio\n",
              "2021Q1  0.198175 -0.14941 -0.143816 -0.476974\n",
              "2021Q2       NaN      NaN       NaN       NaN\n",
              "2021Q3       NaN      NaN       NaN       NaN\n",
              "2021Q4       NaN      NaN       NaN       NaN\n",
              "2022Q1 -0.378516 -0.59600 -0.251005  0.010059\n",
              "2022Q2       NaN      NaN       NaN       NaN\n",
              "2022Q3       NaN      NaN       NaN       NaN\n",
              "2022Q4       NaN      NaN       NaN       NaN"
            ]
          },
          "execution_count": 76,
          "metadata": {},
          "output_type": "execute_result"
        }
      ],
      "source": [
        "annual_frame.resample('Q-Dec').mean()"
      ]
    },
    {
      "cell_type": "markdown",
      "metadata": {},
      "source": [
        "## cannot be resampled for sub/super period for aggregation: error IncompatibleFrequency"
      ]
    },
    {
      "cell_type": "code",
      "execution_count": 77,
      "metadata": {},
      "outputs": [
        {
          "data": {
            "text/html": [
              "<div>\n",
              "<style scoped>\n",
              "    .dataframe tbody tr th:only-of-type {\n",
              "        vertical-align: middle;\n",
              "    }\n",
              "\n",
              "    .dataframe tbody tr th {\n",
              "        vertical-align: top;\n",
              "    }\n",
              "\n",
              "    .dataframe thead th {\n",
              "        text-align: right;\n",
              "    }\n",
              "</style>\n",
              "<table border=\"1\" class=\"dataframe\">\n",
              "  <thead>\n",
              "    <tr style=\"text-align: right;\">\n",
              "      <th></th>\n",
              "      <th>Colorado</th>\n",
              "      <th>Texas</th>\n",
              "      <th>New York</th>\n",
              "      <th>Ohio</th>\n",
              "    </tr>\n",
              "  </thead>\n",
              "  <tbody>\n",
              "    <tr>\n",
              "      <th>2021Q1</th>\n",
              "      <td>0.198175</td>\n",
              "      <td>-0.14941</td>\n",
              "      <td>-0.143816</td>\n",
              "      <td>-0.476974</td>\n",
              "    </tr>\n",
              "    <tr>\n",
              "      <th>2021Q2</th>\n",
              "      <td>0.198175</td>\n",
              "      <td>-0.14941</td>\n",
              "      <td>-0.143816</td>\n",
              "      <td>-0.476974</td>\n",
              "    </tr>\n",
              "    <tr>\n",
              "      <th>2021Q3</th>\n",
              "      <td>0.198175</td>\n",
              "      <td>-0.14941</td>\n",
              "      <td>-0.143816</td>\n",
              "      <td>-0.476974</td>\n",
              "    </tr>\n",
              "    <tr>\n",
              "      <th>2021Q4</th>\n",
              "      <td>0.198175</td>\n",
              "      <td>-0.14941</td>\n",
              "      <td>-0.143816</td>\n",
              "      <td>-0.476974</td>\n",
              "    </tr>\n",
              "    <tr>\n",
              "      <th>2022Q1</th>\n",
              "      <td>-0.378516</td>\n",
              "      <td>-0.59600</td>\n",
              "      <td>-0.251005</td>\n",
              "      <td>0.010059</td>\n",
              "    </tr>\n",
              "    <tr>\n",
              "      <th>2022Q2</th>\n",
              "      <td>-0.378516</td>\n",
              "      <td>-0.59600</td>\n",
              "      <td>-0.251005</td>\n",
              "      <td>0.010059</td>\n",
              "    </tr>\n",
              "    <tr>\n",
              "      <th>2022Q3</th>\n",
              "      <td>-0.378516</td>\n",
              "      <td>-0.59600</td>\n",
              "      <td>-0.251005</td>\n",
              "      <td>0.010059</td>\n",
              "    </tr>\n",
              "    <tr>\n",
              "      <th>2022Q4</th>\n",
              "      <td>-0.378516</td>\n",
              "      <td>-0.59600</td>\n",
              "      <td>-0.251005</td>\n",
              "      <td>0.010059</td>\n",
              "    </tr>\n",
              "    <tr>\n",
              "      <th>2023Q1</th>\n",
              "      <td>-0.378516</td>\n",
              "      <td>-0.59600</td>\n",
              "      <td>-0.251005</td>\n",
              "      <td>0.010059</td>\n",
              "    </tr>\n",
              "  </tbody>\n",
              "</table>\n",
              "</div>"
            ],
            "text/plain": [
              "        Colorado    Texas  New York      Ohio\n",
              "2021Q1  0.198175 -0.14941 -0.143816 -0.476974\n",
              "2021Q2  0.198175 -0.14941 -0.143816 -0.476974\n",
              "2021Q3  0.198175 -0.14941 -0.143816 -0.476974\n",
              "2021Q4  0.198175 -0.14941 -0.143816 -0.476974\n",
              "2022Q1 -0.378516 -0.59600 -0.251005  0.010059\n",
              "2022Q2 -0.378516 -0.59600 -0.251005  0.010059\n",
              "2022Q3 -0.378516 -0.59600 -0.251005  0.010059\n",
              "2022Q4 -0.378516 -0.59600 -0.251005  0.010059\n",
              "2023Q1 -0.378516 -0.59600 -0.251005  0.010059"
            ]
          },
          "execution_count": 77,
          "metadata": {},
          "output_type": "execute_result"
        }
      ],
      "source": [
        "annual_frame.resample('Q-Oct').ffill()"
      ]
    },
    {
      "cell_type": "code",
      "execution_count": 78,
      "metadata": {},
      "outputs": [
        {
          "data": {
            "text/html": [
              "<div>\n",
              "<style scoped>\n",
              "    .dataframe tbody tr th:only-of-type {\n",
              "        vertical-align: middle;\n",
              "    }\n",
              "\n",
              "    .dataframe tbody tr th {\n",
              "        vertical-align: top;\n",
              "    }\n",
              "\n",
              "    .dataframe thead th {\n",
              "        text-align: right;\n",
              "    }\n",
              "</style>\n",
              "<table border=\"1\" class=\"dataframe\">\n",
              "  <thead>\n",
              "    <tr style=\"text-align: right;\">\n",
              "      <th></th>\n",
              "      <th>Colorado</th>\n",
              "      <th>Texas</th>\n",
              "      <th>New York</th>\n",
              "      <th>Ohio</th>\n",
              "    </tr>\n",
              "  </thead>\n",
              "  <tbody>\n",
              "    <tr>\n",
              "      <th>2021-01</th>\n",
              "      <td>0.198175</td>\n",
              "      <td>-0.14941</td>\n",
              "      <td>-0.143816</td>\n",
              "      <td>-0.476974</td>\n",
              "    </tr>\n",
              "    <tr>\n",
              "      <th>2021-02</th>\n",
              "      <td>NaN</td>\n",
              "      <td>NaN</td>\n",
              "      <td>NaN</td>\n",
              "      <td>NaN</td>\n",
              "    </tr>\n",
              "    <tr>\n",
              "      <th>2021-03</th>\n",
              "      <td>NaN</td>\n",
              "      <td>NaN</td>\n",
              "      <td>NaN</td>\n",
              "      <td>NaN</td>\n",
              "    </tr>\n",
              "    <tr>\n",
              "      <th>2021-04</th>\n",
              "      <td>NaN</td>\n",
              "      <td>NaN</td>\n",
              "      <td>NaN</td>\n",
              "      <td>NaN</td>\n",
              "    </tr>\n",
              "    <tr>\n",
              "      <th>2021-05</th>\n",
              "      <td>NaN</td>\n",
              "      <td>NaN</td>\n",
              "      <td>NaN</td>\n",
              "      <td>NaN</td>\n",
              "    </tr>\n",
              "    <tr>\n",
              "      <th>2021-06</th>\n",
              "      <td>NaN</td>\n",
              "      <td>NaN</td>\n",
              "      <td>NaN</td>\n",
              "      <td>NaN</td>\n",
              "    </tr>\n",
              "    <tr>\n",
              "      <th>2021-07</th>\n",
              "      <td>NaN</td>\n",
              "      <td>NaN</td>\n",
              "      <td>NaN</td>\n",
              "      <td>NaN</td>\n",
              "    </tr>\n",
              "    <tr>\n",
              "      <th>2021-08</th>\n",
              "      <td>NaN</td>\n",
              "      <td>NaN</td>\n",
              "      <td>NaN</td>\n",
              "      <td>NaN</td>\n",
              "    </tr>\n",
              "    <tr>\n",
              "      <th>2021-09</th>\n",
              "      <td>NaN</td>\n",
              "      <td>NaN</td>\n",
              "      <td>NaN</td>\n",
              "      <td>NaN</td>\n",
              "    </tr>\n",
              "    <tr>\n",
              "      <th>2021-10</th>\n",
              "      <td>NaN</td>\n",
              "      <td>NaN</td>\n",
              "      <td>NaN</td>\n",
              "      <td>NaN</td>\n",
              "    </tr>\n",
              "    <tr>\n",
              "      <th>2021-11</th>\n",
              "      <td>NaN</td>\n",
              "      <td>NaN</td>\n",
              "      <td>NaN</td>\n",
              "      <td>NaN</td>\n",
              "    </tr>\n",
              "    <tr>\n",
              "      <th>2021-12</th>\n",
              "      <td>NaN</td>\n",
              "      <td>NaN</td>\n",
              "      <td>NaN</td>\n",
              "      <td>NaN</td>\n",
              "    </tr>\n",
              "    <tr>\n",
              "      <th>2022-01</th>\n",
              "      <td>-0.378516</td>\n",
              "      <td>-0.59600</td>\n",
              "      <td>-0.251005</td>\n",
              "      <td>0.010059</td>\n",
              "    </tr>\n",
              "    <tr>\n",
              "      <th>2022-02</th>\n",
              "      <td>NaN</td>\n",
              "      <td>NaN</td>\n",
              "      <td>NaN</td>\n",
              "      <td>NaN</td>\n",
              "    </tr>\n",
              "    <tr>\n",
              "      <th>2022-03</th>\n",
              "      <td>NaN</td>\n",
              "      <td>NaN</td>\n",
              "      <td>NaN</td>\n",
              "      <td>NaN</td>\n",
              "    </tr>\n",
              "    <tr>\n",
              "      <th>2022-04</th>\n",
              "      <td>NaN</td>\n",
              "      <td>NaN</td>\n",
              "      <td>NaN</td>\n",
              "      <td>NaN</td>\n",
              "    </tr>\n",
              "    <tr>\n",
              "      <th>2022-05</th>\n",
              "      <td>NaN</td>\n",
              "      <td>NaN</td>\n",
              "      <td>NaN</td>\n",
              "      <td>NaN</td>\n",
              "    </tr>\n",
              "    <tr>\n",
              "      <th>2022-06</th>\n",
              "      <td>NaN</td>\n",
              "      <td>NaN</td>\n",
              "      <td>NaN</td>\n",
              "      <td>NaN</td>\n",
              "    </tr>\n",
              "    <tr>\n",
              "      <th>2022-07</th>\n",
              "      <td>NaN</td>\n",
              "      <td>NaN</td>\n",
              "      <td>NaN</td>\n",
              "      <td>NaN</td>\n",
              "    </tr>\n",
              "    <tr>\n",
              "      <th>2022-08</th>\n",
              "      <td>NaN</td>\n",
              "      <td>NaN</td>\n",
              "      <td>NaN</td>\n",
              "      <td>NaN</td>\n",
              "    </tr>\n",
              "    <tr>\n",
              "      <th>2022-09</th>\n",
              "      <td>NaN</td>\n",
              "      <td>NaN</td>\n",
              "      <td>NaN</td>\n",
              "      <td>NaN</td>\n",
              "    </tr>\n",
              "    <tr>\n",
              "      <th>2022-10</th>\n",
              "      <td>NaN</td>\n",
              "      <td>NaN</td>\n",
              "      <td>NaN</td>\n",
              "      <td>NaN</td>\n",
              "    </tr>\n",
              "    <tr>\n",
              "      <th>2022-11</th>\n",
              "      <td>NaN</td>\n",
              "      <td>NaN</td>\n",
              "      <td>NaN</td>\n",
              "      <td>NaN</td>\n",
              "    </tr>\n",
              "    <tr>\n",
              "      <th>2022-12</th>\n",
              "      <td>NaN</td>\n",
              "      <td>NaN</td>\n",
              "      <td>NaN</td>\n",
              "      <td>NaN</td>\n",
              "    </tr>\n",
              "  </tbody>\n",
              "</table>\n",
              "</div>"
            ],
            "text/plain": [
              "         Colorado    Texas  New York      Ohio\n",
              "2021-01  0.198175 -0.14941 -0.143816 -0.476974\n",
              "2021-02       NaN      NaN       NaN       NaN\n",
              "2021-03       NaN      NaN       NaN       NaN\n",
              "2021-04       NaN      NaN       NaN       NaN\n",
              "2021-05       NaN      NaN       NaN       NaN\n",
              "2021-06       NaN      NaN       NaN       NaN\n",
              "2021-07       NaN      NaN       NaN       NaN\n",
              "2021-08       NaN      NaN       NaN       NaN\n",
              "2021-09       NaN      NaN       NaN       NaN\n",
              "2021-10       NaN      NaN       NaN       NaN\n",
              "2021-11       NaN      NaN       NaN       NaN\n",
              "2021-12       NaN      NaN       NaN       NaN\n",
              "2022-01 -0.378516 -0.59600 -0.251005  0.010059\n",
              "2022-02       NaN      NaN       NaN       NaN\n",
              "2022-03       NaN      NaN       NaN       NaN\n",
              "2022-04       NaN      NaN       NaN       NaN\n",
              "2022-05       NaN      NaN       NaN       NaN\n",
              "2022-06       NaN      NaN       NaN       NaN\n",
              "2022-07       NaN      NaN       NaN       NaN\n",
              "2022-08       NaN      NaN       NaN       NaN\n",
              "2022-09       NaN      NaN       NaN       NaN\n",
              "2022-10       NaN      NaN       NaN       NaN\n",
              "2022-11       NaN      NaN       NaN       NaN\n",
              "2022-12       NaN      NaN       NaN       NaN"
            ]
          },
          "execution_count": 78,
          "metadata": {},
          "output_type": "execute_result"
        }
      ],
      "source": [
        "annual_frame.resample('M').mean()"
      ]
    },
    {
      "cell_type": "code",
      "execution_count": 79,
      "metadata": {
        "collapsed": false,
        "deletable": true,
        "editable": true
      },
      "outputs": [
        {
          "data": {
            "text/html": [
              "<div>\n",
              "<style scoped>\n",
              "    .dataframe tbody tr th:only-of-type {\n",
              "        vertical-align: middle;\n",
              "    }\n",
              "\n",
              "    .dataframe tbody tr th {\n",
              "        vertical-align: top;\n",
              "    }\n",
              "\n",
              "    .dataframe thead th {\n",
              "        text-align: right;\n",
              "    }\n",
              "</style>\n",
              "<table border=\"1\" class=\"dataframe\">\n",
              "  <thead>\n",
              "    <tr style=\"text-align: right;\">\n",
              "      <th></th>\n",
              "      <th>Colorado</th>\n",
              "      <th>Texas</th>\n",
              "      <th>New York</th>\n",
              "      <th>Ohio</th>\n",
              "    </tr>\n",
              "  </thead>\n",
              "  <tbody>\n",
              "    <tr>\n",
              "      <th>2021Q1</th>\n",
              "      <td>0.198175</td>\n",
              "      <td>-0.14941</td>\n",
              "      <td>-0.143816</td>\n",
              "      <td>-0.476974</td>\n",
              "    </tr>\n",
              "    <tr>\n",
              "      <th>2021Q2</th>\n",
              "      <td>0.198175</td>\n",
              "      <td>-0.14941</td>\n",
              "      <td>-0.143816</td>\n",
              "      <td>-0.476974</td>\n",
              "    </tr>\n",
              "    <tr>\n",
              "      <th>2021Q3</th>\n",
              "      <td>0.198175</td>\n",
              "      <td>-0.14941</td>\n",
              "      <td>-0.143816</td>\n",
              "      <td>-0.476974</td>\n",
              "    </tr>\n",
              "    <tr>\n",
              "      <th>2021Q4</th>\n",
              "      <td>0.198175</td>\n",
              "      <td>-0.14941</td>\n",
              "      <td>-0.143816</td>\n",
              "      <td>-0.476974</td>\n",
              "    </tr>\n",
              "    <tr>\n",
              "      <th>2022Q1</th>\n",
              "      <td>-0.378516</td>\n",
              "      <td>-0.59600</td>\n",
              "      <td>-0.251005</td>\n",
              "      <td>0.010059</td>\n",
              "    </tr>\n",
              "    <tr>\n",
              "      <th>2022Q2</th>\n",
              "      <td>-0.378516</td>\n",
              "      <td>-0.59600</td>\n",
              "      <td>-0.251005</td>\n",
              "      <td>0.010059</td>\n",
              "    </tr>\n",
              "    <tr>\n",
              "      <th>2022Q3</th>\n",
              "      <td>-0.378516</td>\n",
              "      <td>-0.59600</td>\n",
              "      <td>-0.251005</td>\n",
              "      <td>0.010059</td>\n",
              "    </tr>\n",
              "    <tr>\n",
              "      <th>2022Q4</th>\n",
              "      <td>-0.378516</td>\n",
              "      <td>-0.59600</td>\n",
              "      <td>-0.251005</td>\n",
              "      <td>0.010059</td>\n",
              "    </tr>\n",
              "  </tbody>\n",
              "</table>\n",
              "</div>"
            ],
            "text/plain": [
              "        Colorado    Texas  New York      Ohio\n",
              "2021Q1  0.198175 -0.14941 -0.143816 -0.476974\n",
              "2021Q2  0.198175 -0.14941 -0.143816 -0.476974\n",
              "2021Q3  0.198175 -0.14941 -0.143816 -0.476974\n",
              "2021Q4  0.198175 -0.14941 -0.143816 -0.476974\n",
              "2022Q1 -0.378516 -0.59600 -0.251005  0.010059\n",
              "2022Q2 -0.378516 -0.59600 -0.251005  0.010059\n",
              "2022Q3 -0.378516 -0.59600 -0.251005  0.010059\n",
              "2022Q4 -0.378516 -0.59600 -0.251005  0.010059"
            ]
          },
          "execution_count": 79,
          "metadata": {},
          "output_type": "execute_result"
        }
      ],
      "source": [
        "\n",
        "annual_frame.resample('Q-DEC').ffill()\n"
      ]
    },
    {
      "cell_type": "code",
      "execution_count": 55,
      "metadata": {},
      "outputs": [
        {
          "data": {
            "text/html": [
              "<div>\n",
              "<style scoped>\n",
              "    .dataframe tbody tr th:only-of-type {\n",
              "        vertical-align: middle;\n",
              "    }\n",
              "\n",
              "    .dataframe tbody tr th {\n",
              "        vertical-align: top;\n",
              "    }\n",
              "\n",
              "    .dataframe thead th {\n",
              "        text-align: right;\n",
              "    }\n",
              "</style>\n",
              "<table border=\"1\" class=\"dataframe\">\n",
              "  <thead>\n",
              "    <tr style=\"text-align: right;\">\n",
              "      <th></th>\n",
              "      <th>Colorado</th>\n",
              "      <th>Texas</th>\n",
              "      <th>New York</th>\n",
              "      <th>Ohio</th>\n",
              "    </tr>\n",
              "  </thead>\n",
              "  <tbody>\n",
              "    <tr>\n",
              "      <th>2021</th>\n",
              "      <td>0.195064</td>\n",
              "      <td>-0.423791</td>\n",
              "      <td>0.341613</td>\n",
              "      <td>0.095205</td>\n",
              "    </tr>\n",
              "    <tr>\n",
              "      <th>2022</th>\n",
              "      <td>-0.306922</td>\n",
              "      <td>-0.025448</td>\n",
              "      <td>-0.083987</td>\n",
              "      <td>0.305228</td>\n",
              "    </tr>\n",
              "  </tbody>\n",
              "</table>\n",
              "</div>"
            ],
            "text/plain": [
              "      Colorado     Texas  New York      Ohio\n",
              "2021  0.195064 -0.423791  0.341613  0.095205\n",
              "2022 -0.306922 -0.025448 -0.083987  0.305228"
            ]
          },
          "execution_count": 55,
          "metadata": {},
          "output_type": "execute_result"
        }
      ],
      "source": [
        "annual_frame"
      ]
    },
    {
      "cell_type": "code",
      "execution_count": 80,
      "metadata": {},
      "outputs": [
        {
          "data": {
            "text/html": [
              "<div>\n",
              "<style scoped>\n",
              "    .dataframe tbody tr th:only-of-type {\n",
              "        vertical-align: middle;\n",
              "    }\n",
              "\n",
              "    .dataframe tbody tr th {\n",
              "        vertical-align: top;\n",
              "    }\n",
              "\n",
              "    .dataframe thead th {\n",
              "        text-align: right;\n",
              "    }\n",
              "</style>\n",
              "<table border=\"1\" class=\"dataframe\">\n",
              "  <thead>\n",
              "    <tr style=\"text-align: right;\">\n",
              "      <th></th>\n",
              "      <th>Colorado</th>\n",
              "      <th>Texas</th>\n",
              "      <th>New York</th>\n",
              "      <th>Ohio</th>\n",
              "    </tr>\n",
              "  </thead>\n",
              "  <tbody>\n",
              "    <tr>\n",
              "      <th>2021Q4</th>\n",
              "      <td>0.198175</td>\n",
              "      <td>-0.14941</td>\n",
              "      <td>-0.143816</td>\n",
              "      <td>-0.476974</td>\n",
              "    </tr>\n",
              "    <tr>\n",
              "      <th>2022Q1</th>\n",
              "      <td>0.198175</td>\n",
              "      <td>-0.14941</td>\n",
              "      <td>-0.143816</td>\n",
              "      <td>-0.476974</td>\n",
              "    </tr>\n",
              "    <tr>\n",
              "      <th>2022Q2</th>\n",
              "      <td>0.198175</td>\n",
              "      <td>-0.14941</td>\n",
              "      <td>-0.143816</td>\n",
              "      <td>-0.476974</td>\n",
              "    </tr>\n",
              "    <tr>\n",
              "      <th>2022Q3</th>\n",
              "      <td>0.198175</td>\n",
              "      <td>-0.14941</td>\n",
              "      <td>-0.143816</td>\n",
              "      <td>-0.476974</td>\n",
              "    </tr>\n",
              "    <tr>\n",
              "      <th>2022Q4</th>\n",
              "      <td>-0.378516</td>\n",
              "      <td>-0.59600</td>\n",
              "      <td>-0.251005</td>\n",
              "      <td>0.010059</td>\n",
              "    </tr>\n",
              "  </tbody>\n",
              "</table>\n",
              "</div>"
            ],
            "text/plain": [
              "        Colorado    Texas  New York      Ohio\n",
              "2021Q4  0.198175 -0.14941 -0.143816 -0.476974\n",
              "2022Q1  0.198175 -0.14941 -0.143816 -0.476974\n",
              "2022Q2  0.198175 -0.14941 -0.143816 -0.476974\n",
              "2022Q3  0.198175 -0.14941 -0.143816 -0.476974\n",
              "2022Q4 -0.378516 -0.59600 -0.251005  0.010059"
            ]
          },
          "execution_count": 80,
          "metadata": {},
          "output_type": "execute_result"
        }
      ],
      "source": [
        "annual_frame.resample('Q-DEC', convention='end').ffill()"
      ]
    },
    {
      "cell_type": "code",
      "execution_count": 56,
      "metadata": {
        "collapsed": false,
        "deletable": true,
        "editable": true
      },
      "outputs": [
        {
          "data": {
            "text/html": [
              "<div>\n",
              "<style scoped>\n",
              "    .dataframe tbody tr th:only-of-type {\n",
              "        vertical-align: middle;\n",
              "    }\n",
              "\n",
              "    .dataframe tbody tr th {\n",
              "        vertical-align: top;\n",
              "    }\n",
              "\n",
              "    .dataframe thead th {\n",
              "        text-align: right;\n",
              "    }\n",
              "</style>\n",
              "<table border=\"1\" class=\"dataframe\">\n",
              "  <thead>\n",
              "    <tr style=\"text-align: right;\">\n",
              "      <th></th>\n",
              "      <th>Colorado</th>\n",
              "      <th>Texas</th>\n",
              "      <th>New York</th>\n",
              "      <th>Ohio</th>\n",
              "    </tr>\n",
              "  </thead>\n",
              "  <tbody>\n",
              "    <tr>\n",
              "      <th>2021Q4</th>\n",
              "      <td>0.195064</td>\n",
              "      <td>-0.423791</td>\n",
              "      <td>0.341613</td>\n",
              "      <td>0.095205</td>\n",
              "    </tr>\n",
              "    <tr>\n",
              "      <th>2022Q1</th>\n",
              "      <td>0.195064</td>\n",
              "      <td>-0.423791</td>\n",
              "      <td>0.341613</td>\n",
              "      <td>0.095205</td>\n",
              "    </tr>\n",
              "    <tr>\n",
              "      <th>2022Q2</th>\n",
              "      <td>0.195064</td>\n",
              "      <td>-0.423791</td>\n",
              "      <td>0.341613</td>\n",
              "      <td>0.095205</td>\n",
              "    </tr>\n",
              "    <tr>\n",
              "      <th>2022Q3</th>\n",
              "      <td>0.195064</td>\n",
              "      <td>-0.423791</td>\n",
              "      <td>0.341613</td>\n",
              "      <td>0.095205</td>\n",
              "    </tr>\n",
              "    <tr>\n",
              "      <th>2022Q4</th>\n",
              "      <td>-0.306922</td>\n",
              "      <td>-0.025448</td>\n",
              "      <td>-0.083987</td>\n",
              "      <td>0.305228</td>\n",
              "    </tr>\n",
              "    <tr>\n",
              "      <th>2023Q1</th>\n",
              "      <td>-0.306922</td>\n",
              "      <td>-0.025448</td>\n",
              "      <td>-0.083987</td>\n",
              "      <td>0.305228</td>\n",
              "    </tr>\n",
              "    <tr>\n",
              "      <th>2023Q2</th>\n",
              "      <td>-0.306922</td>\n",
              "      <td>-0.025448</td>\n",
              "      <td>-0.083987</td>\n",
              "      <td>0.305228</td>\n",
              "    </tr>\n",
              "    <tr>\n",
              "      <th>2023Q3</th>\n",
              "      <td>-0.306922</td>\n",
              "      <td>-0.025448</td>\n",
              "      <td>-0.083987</td>\n",
              "      <td>0.305228</td>\n",
              "    </tr>\n",
              "  </tbody>\n",
              "</table>\n",
              "</div>"
            ],
            "text/plain": [
              "        Colorado     Texas  New York      Ohio\n",
              "2021Q4  0.195064 -0.423791  0.341613  0.095205\n",
              "2022Q1  0.195064 -0.423791  0.341613  0.095205\n",
              "2022Q2  0.195064 -0.423791  0.341613  0.095205\n",
              "2022Q3  0.195064 -0.423791  0.341613  0.095205\n",
              "2022Q4 -0.306922 -0.025448 -0.083987  0.305228\n",
              "2023Q1 -0.306922 -0.025448 -0.083987  0.305228\n",
              "2023Q2 -0.306922 -0.025448 -0.083987  0.305228\n",
              "2023Q3 -0.306922 -0.025448 -0.083987  0.305228"
            ]
          },
          "execution_count": 56,
          "metadata": {},
          "output_type": "execute_result"
        }
      ],
      "source": [
        "annual_frame.resample('Q-MAR').ffill()"
      ]
    },
    {
      "cell_type": "markdown",
      "metadata": {
        "deletable": true,
        "editable": true
      },
      "source": [
        "# Moving Window Functions"
      ]
    },
    {
      "cell_type": "markdown",
      "metadata": {},
      "source": [
        "## getting data for each business day 'B'"
      ]
    },
    {
      "cell_type": "code",
      "execution_count": 58,
      "metadata": {
        "collapsed": false,
        "deletable": true,
        "editable": true
      },
      "outputs": [
        {
          "data": {
            "text/html": [
              "<div>\n",
              "<style scoped>\n",
              "    .dataframe tbody tr th:only-of-type {\n",
              "        vertical-align: middle;\n",
              "    }\n",
              "\n",
              "    .dataframe tbody tr th {\n",
              "        vertical-align: top;\n",
              "    }\n",
              "\n",
              "    .dataframe thead th {\n",
              "        text-align: right;\n",
              "    }\n",
              "</style>\n",
              "<table border=\"1\" class=\"dataframe\">\n",
              "  <thead>\n",
              "    <tr style=\"text-align: right;\">\n",
              "      <th></th>\n",
              "      <th>AAPL</th>\n",
              "      <th>MSFT</th>\n",
              "      <th>XOM</th>\n",
              "    </tr>\n",
              "  </thead>\n",
              "  <tbody>\n",
              "    <tr>\n",
              "      <th>2003-01-02</th>\n",
              "      <td>7.40</td>\n",
              "      <td>21.11</td>\n",
              "      <td>29.22</td>\n",
              "    </tr>\n",
              "    <tr>\n",
              "      <th>2003-01-03</th>\n",
              "      <td>7.45</td>\n",
              "      <td>21.14</td>\n",
              "      <td>29.24</td>\n",
              "    </tr>\n",
              "    <tr>\n",
              "      <th>2003-01-06</th>\n",
              "      <td>7.45</td>\n",
              "      <td>21.52</td>\n",
              "      <td>29.96</td>\n",
              "    </tr>\n",
              "    <tr>\n",
              "      <th>2003-01-07</th>\n",
              "      <td>7.43</td>\n",
              "      <td>21.93</td>\n",
              "      <td>28.95</td>\n",
              "    </tr>\n",
              "    <tr>\n",
              "      <th>2003-01-08</th>\n",
              "      <td>7.28</td>\n",
              "      <td>21.31</td>\n",
              "      <td>28.83</td>\n",
              "    </tr>\n",
              "    <tr>\n",
              "      <th>...</th>\n",
              "      <td>...</td>\n",
              "      <td>...</td>\n",
              "      <td>...</td>\n",
              "    </tr>\n",
              "    <tr>\n",
              "      <th>2011-10-10</th>\n",
              "      <td>388.81</td>\n",
              "      <td>26.94</td>\n",
              "      <td>76.28</td>\n",
              "    </tr>\n",
              "    <tr>\n",
              "      <th>2011-10-11</th>\n",
              "      <td>400.29</td>\n",
              "      <td>27.00</td>\n",
              "      <td>76.27</td>\n",
              "    </tr>\n",
              "    <tr>\n",
              "      <th>2011-10-12</th>\n",
              "      <td>402.19</td>\n",
              "      <td>26.96</td>\n",
              "      <td>77.16</td>\n",
              "    </tr>\n",
              "    <tr>\n",
              "      <th>2011-10-13</th>\n",
              "      <td>408.43</td>\n",
              "      <td>27.18</td>\n",
              "      <td>76.37</td>\n",
              "    </tr>\n",
              "    <tr>\n",
              "      <th>2011-10-14</th>\n",
              "      <td>422.00</td>\n",
              "      <td>27.27</td>\n",
              "      <td>78.11</td>\n",
              "    </tr>\n",
              "  </tbody>\n",
              "</table>\n",
              "<p>2214 rows × 3 columns</p>\n",
              "</div>"
            ],
            "text/plain": [
              "              AAPL   MSFT    XOM\n",
              "2003-01-02    7.40  21.11  29.22\n",
              "2003-01-03    7.45  21.14  29.24\n",
              "2003-01-06    7.45  21.52  29.96\n",
              "2003-01-07    7.43  21.93  28.95\n",
              "2003-01-08    7.28  21.31  28.83\n",
              "...            ...    ...    ...\n",
              "2011-10-10  388.81  26.94  76.28\n",
              "2011-10-11  400.29  27.00  76.27\n",
              "2011-10-12  402.19  26.96  77.16\n",
              "2011-10-13  408.43  27.18  76.37\n",
              "2011-10-14  422.00  27.27  78.11\n",
              "\n",
              "[2214 rows x 3 columns]"
            ]
          },
          "execution_count": 58,
          "metadata": {},
          "output_type": "execute_result"
        }
      ],
      "source": [
        "close_px_all = pd.read_csv('stock_px_2.csv',\n",
        "                           parse_dates=True, index_col=0)\n",
        "close_px = close_px_all[['AAPL', 'MSFT', 'XOM']]\n",
        "close_px"
      ]
    },
    {
      "cell_type": "markdown",
      "metadata": {},
      "source": [
        "## Business day: B"
      ]
    },
    {
      "cell_type": "code",
      "execution_count": 59,
      "metadata": {},
      "outputs": [
        {
          "data": {
            "text/html": [
              "<div>\n",
              "<style scoped>\n",
              "    .dataframe tbody tr th:only-of-type {\n",
              "        vertical-align: middle;\n",
              "    }\n",
              "\n",
              "    .dataframe tbody tr th {\n",
              "        vertical-align: top;\n",
              "    }\n",
              "\n",
              "    .dataframe thead th {\n",
              "        text-align: right;\n",
              "    }\n",
              "</style>\n",
              "<table border=\"1\" class=\"dataframe\">\n",
              "  <thead>\n",
              "    <tr style=\"text-align: right;\">\n",
              "      <th></th>\n",
              "      <th>AAPL</th>\n",
              "      <th>MSFT</th>\n",
              "      <th>XOM</th>\n",
              "    </tr>\n",
              "  </thead>\n",
              "  <tbody>\n",
              "    <tr>\n",
              "      <th>2003-01-02</th>\n",
              "      <td>7.40</td>\n",
              "      <td>21.11</td>\n",
              "      <td>29.22</td>\n",
              "    </tr>\n",
              "    <tr>\n",
              "      <th>2003-01-03</th>\n",
              "      <td>7.45</td>\n",
              "      <td>21.14</td>\n",
              "      <td>29.24</td>\n",
              "    </tr>\n",
              "    <tr>\n",
              "      <th>2003-01-06</th>\n",
              "      <td>7.45</td>\n",
              "      <td>21.52</td>\n",
              "      <td>29.96</td>\n",
              "    </tr>\n",
              "    <tr>\n",
              "      <th>2003-01-07</th>\n",
              "      <td>7.43</td>\n",
              "      <td>21.93</td>\n",
              "      <td>28.95</td>\n",
              "    </tr>\n",
              "    <tr>\n",
              "      <th>2003-01-08</th>\n",
              "      <td>7.28</td>\n",
              "      <td>21.31</td>\n",
              "      <td>28.83</td>\n",
              "    </tr>\n",
              "    <tr>\n",
              "      <th>...</th>\n",
              "      <td>...</td>\n",
              "      <td>...</td>\n",
              "      <td>...</td>\n",
              "    </tr>\n",
              "    <tr>\n",
              "      <th>2011-10-10</th>\n",
              "      <td>388.81</td>\n",
              "      <td>26.94</td>\n",
              "      <td>76.28</td>\n",
              "    </tr>\n",
              "    <tr>\n",
              "      <th>2011-10-11</th>\n",
              "      <td>400.29</td>\n",
              "      <td>27.00</td>\n",
              "      <td>76.27</td>\n",
              "    </tr>\n",
              "    <tr>\n",
              "      <th>2011-10-12</th>\n",
              "      <td>402.19</td>\n",
              "      <td>26.96</td>\n",
              "      <td>77.16</td>\n",
              "    </tr>\n",
              "    <tr>\n",
              "      <th>2011-10-13</th>\n",
              "      <td>408.43</td>\n",
              "      <td>27.18</td>\n",
              "      <td>76.37</td>\n",
              "    </tr>\n",
              "    <tr>\n",
              "      <th>2011-10-14</th>\n",
              "      <td>422.00</td>\n",
              "      <td>27.27</td>\n",
              "      <td>78.11</td>\n",
              "    </tr>\n",
              "  </tbody>\n",
              "</table>\n",
              "<p>2292 rows × 3 columns</p>\n",
              "</div>"
            ],
            "text/plain": [
              "              AAPL   MSFT    XOM\n",
              "2003-01-02    7.40  21.11  29.22\n",
              "2003-01-03    7.45  21.14  29.24\n",
              "2003-01-06    7.45  21.52  29.96\n",
              "2003-01-07    7.43  21.93  28.95\n",
              "2003-01-08    7.28  21.31  28.83\n",
              "...            ...    ...    ...\n",
              "2011-10-10  388.81  26.94  76.28\n",
              "2011-10-11  400.29  27.00  76.27\n",
              "2011-10-12  402.19  26.96  77.16\n",
              "2011-10-13  408.43  27.18  76.37\n",
              "2011-10-14  422.00  27.27  78.11\n",
              "\n",
              "[2292 rows x 3 columns]"
            ]
          },
          "execution_count": 59,
          "metadata": {},
          "output_type": "execute_result"
        }
      ],
      "source": [
        "close_px = close_px.resample('B').ffill()\n",
        "close_px"
      ]
    },
    {
      "cell_type": "markdown",
      "metadata": {},
      "source": [
        "## plotting stock data"
      ]
    },
    {
      "cell_type": "code",
      "execution_count": 60,
      "metadata": {},
      "outputs": [],
      "source": [
        "import matplotlib.pyplot as plt\n",
        "plt.rc('figure', figsize=(10, 6))"
      ]
    },
    {
      "cell_type": "markdown",
      "metadata": {},
      "source": [
        "## the rolling operator: behaves similarly to resample and groupby.\n",
        " It can be called on a Series or DataFrame along with a window"
      ]
    },
    {
      "cell_type": "markdown",
      "metadata": {},
      "source": [
        "## To get  250-day moving window average of Apple’s stock price along with plot of available tics for daily data\n"
      ]
    },
    {
      "cell_type": "code",
      "execution_count": 62,
      "metadata": {
        "collapsed": false,
        "deletable": true,
        "editable": true
      },
      "outputs": [
        {
          "data": {
            "text/plain": [
              "<AxesSubplot:>"
            ]
          },
          "execution_count": 62,
          "metadata": {},
          "output_type": "execute_result"
        },
        {
          "data": {
            "image/png": "[encoded data removed]",
            "text/plain": [
              "<Figure size 720x432 with 1 Axes>"
            ]
          },
          "metadata": {
            "needs_background": "light"
          },
          "output_type": "display_data"
        }
      ],
      "source": [
        "close_px.AAPL.plot()\n",
        "close_px.AAPL.rolling(150).mean().plot()"
      ]
    },
    {
      "cell_type": "code",
      "execution_count": 90,
      "metadata": {
        "collapsed": false,
        "deletable": true,
        "editable": true
      },
      "outputs": [
        {
          "data": {
            "text/plain": [
              "<Figure size 720x432 with 0 Axes>"
            ]
          },
          "execution_count": 90,
          "metadata": {},
          "output_type": "execute_result"
        },
        {
          "data": {
            "text/plain": [
              "<Figure size 720x432 with 0 Axes>"
            ]
          },
          "metadata": {},
          "output_type": "display_data"
        }
      ],
      "source": [
        "plt.figure()"
      ]
    },
    {
      "cell_type": "markdown",
      "metadata": {},
      "source": [
        "## By default rolling functions require all of the values in the window to be non-NA. But in beginning of time series may have Na values. To handle this, use min_periods for missing data"
      ]
    },
    {
      "cell_type": "code",
      "execution_count": 91,
      "metadata": {},
      "outputs": [
        {
          "data": {
            "text/plain": [
              "2003-01-02      7.40\n",
              "2003-01-03      7.45\n",
              "2003-01-06      7.45\n",
              "2003-01-07      7.43\n",
              "2003-01-08      7.28\n",
              "               ...  \n",
              "2011-10-10    388.81\n",
              "2011-10-11    400.29\n",
              "2011-10-12    402.19\n",
              "2011-10-13    408.43\n",
              "2011-10-14    422.00\n",
              "Name: AAPL, Length: 2214, dtype: float64"
            ]
          },
          "execution_count": 91,
          "metadata": {},
          "output_type": "execute_result"
        }
      ],
      "source": [
        "close_px.AAPL"
      ]
    },
    {
      "cell_type": "code",
      "execution_count": 63,
      "metadata": {
        "collapsed": false,
        "deletable": true,
        "editable": true
      },
      "outputs": [
        {
          "data": {
            "text/plain": [
              "2003-01-02         NaN\n",
              "2003-01-03         NaN\n",
              "2003-01-06         NaN\n",
              "2003-01-07         NaN\n",
              "2003-01-08         NaN\n",
              "2003-01-09         NaN\n",
              "2003-01-10         NaN\n",
              "2003-01-13         NaN\n",
              "2003-01-14         NaN\n",
              "2003-01-15    0.077496\n",
              "2003-01-16    0.074760\n",
              "Freq: B, Name: AAPL, dtype: float64"
            ]
          },
          "execution_count": 63,
          "metadata": {},
          "output_type": "execute_result"
        }
      ],
      "source": [
        "appl_std250 = close_px.AAPL.rolling(250, min_periods=10).std()\n",
        "appl_std250[0:11]\n"
      ]
    },
    {
      "cell_type": "code",
      "execution_count": 98,
      "metadata": {},
      "outputs": [
        {
          "data": {
            "text/plain": [
              "<AxesSubplot:>"
            ]
          },
          "execution_count": 98,
          "metadata": {},
          "output_type": "execute_result"
        },
        {
          "data": {
            "image/png": "[encoded data removed]",
            "text/plain": [
              "<Figure size 720x432 with 1 Axes>"
            ]
          },
          "metadata": {
            "needs_background": "light"
          },
          "output_type": "display_data"
        }
      ],
      "source": [
        "appl_std250.plot()\n",
        "expanding_mean.plot()"
      ]
    },
    {
      "cell_type": "markdown",
      "metadata": {},
      "source": [
        "## expanding: The expanding mean starts the time window from the beginning of the time series and increases the size of the window until it encompasses the whole series."
      ]
    },
    {
      "cell_type": "code",
      "execution_count": 64,
      "metadata": {
        "collapsed": false,
        "deletable": true,
        "editable": true
      },
      "outputs": [
        {
          "data": {
            "text/plain": [
              "2003-01-02          NaN\n",
              "2003-01-03          NaN\n",
              "2003-01-06          NaN\n",
              "2003-01-07          NaN\n",
              "2003-01-08          NaN\n",
              "                ...    \n",
              "2011-10-10    18.521201\n",
              "2011-10-11    18.524272\n",
              "2011-10-12    18.527385\n",
              "2011-10-13    18.530554\n",
              "2011-10-14    18.533823\n",
              "Freq: B, Name: AAPL, Length: 2292, dtype: float64"
            ]
          },
          "execution_count": 64,
          "metadata": {},
          "output_type": "execute_result"
        }
      ],
      "source": [
        "expanding_mean = appl_std250.expanding().mean()\n",
        "expanding_mean"
      ]
    },
    {
      "cell_type": "code",
      "execution_count": 65,
      "metadata": {
        "collapsed": false,
        "deletable": true,
        "editable": true
      },
      "outputs": [
        {
          "data": {
            "text/plain": [
              "<AxesSubplot:>"
            ]
          },
          "execution_count": 65,
          "metadata": {},
          "output_type": "execute_result"
        },
        {
          "data": {
            "image/png": "[encoded data removed]",
            "text/plain": [
              "<Figure size 720x432 with 1 Axes>"
            ]
          },
          "metadata": {
            "needs_background": "light"
          },
          "output_type": "display_data"
        }
      ],
      "source": [
        "close_px.rolling(60).mean().plot(logy=True)"
      ]
    }
  ],
  "metadata": {
    "colab": {
      "name": "samplefile.ipynb",
      "provenance": []
    },
    "kernelspec": {
      "display_name": "Python 3.9.4 64-bit",
      "language": "python",
      "name": "python3"
    },
    "language_info": {
      "codemirror_mode": {
        "name": "ipython",
        "version": 3
      },
      "file_extension": ".py",
      "mimetype": "text/x-python",
      "name": "python",
      "nbconvert_exporter": "python",
      "pygments_lexer": "ipython3",
      "version": "3.9.4"
    },
    "vscode": {
      "interpreter": {
        "hash": "5c6d8cf874a78cf518467a975f892478beea8e1660668e6c51857c147a60fb9a"
      }
    }
  },
  "nbformat": 4,
  "nbformat_minor": 2
}
