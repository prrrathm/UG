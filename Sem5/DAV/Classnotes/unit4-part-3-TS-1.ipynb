{
  "cells": [
    {
      "cell_type": "markdown",
      "metadata": {
        "id": "NOSHDnmO6Sgp"
      },
      "source": [
        "# UNIT4: time series\n",
        "* Date and Time Data Types and Tools"
      ]
    },
    {
      "cell_type": "markdown",
      "metadata": {},
      "source": [
        "# Different ways to refer to time series data are\n",
        "* Timestamps, specific instants in time\n",
        "* Fixed periods, such as the month January 2007 or the full year 2010\n",
        "* Intervals of time, indicated by a start and end timestamp. Periods can be thought of as special cases of intervals\n",
        "* Experiment or elapsed time relative to a particular start time"
      ]
    },
    {
      "cell_type": "code",
      "execution_count": 1,
      "metadata": {
        "id": "puZQU_UV6Rf0"
      },
      "outputs": [],
      "source": [
        "import matplotlib.pyplot as plt \n",
        "import pandas as pd \n",
        "import numpy as np"
      ]
    },
    {
      "cell_type": "markdown",
      "metadata": {},
      "source": [
        "## datetime(yr,mon,day). stores both the date and time down to the microsecond. "
      ]
    },
    {
      "cell_type": "code",
      "execution_count": 6,
      "metadata": {},
      "outputs": [
        {
          "data": {
            "text/plain": [
              "(2022, 10, 20)"
            ]
          },
          "execution_count": 6,
          "metadata": {},
          "output_type": "execute_result"
        }
      ],
      "source": [
        "from datetime import datetime\n",
        "now = datetime.now()\n",
        "now\n",
        "now.year, now.month, now.day"
      ]
    },
    {
      "cell_type": "markdown",
      "metadata": {},
      "source": [
        "## difference in two dates object . Results is timedelta objects which is always in days and sec/microsecs\n",
        "* timedelta represents the temporal difference between two datetime objects"
      ]
    },
    {
      "cell_type": "code",
      "execution_count": 3,
      "metadata": {},
      "outputs": [
        {
          "data": {
            "text/plain": [
              "datetime.timedelta(days=273)"
            ]
          },
          "execution_count": 3,
          "metadata": {},
          "output_type": "execute_result"
        }
      ],
      "source": [
        "deltadiff = datetime(2021, 10, 1) - datetime(2021, 1, 1, 0, 0)\n",
        "deltadiff\n"
      ]
    },
    {
      "cell_type": "code",
      "execution_count": 4,
      "metadata": {},
      "outputs": [
        {
          "data": {
            "text/plain": [
              "273"
            ]
          },
          "execution_count": 4,
          "metadata": {},
          "output_type": "execute_result"
        }
      ],
      "source": [
        "deltadiff.days"
      ]
    },
    {
      "cell_type": "code",
      "execution_count": 5,
      "metadata": {},
      "outputs": [
        {
          "data": {
            "text/plain": [
              "0"
            ]
          },
          "execution_count": 5,
          "metadata": {},
          "output_type": "execute_result"
        }
      ],
      "source": [
        "deltadiff.seconds"
      ]
    },
    {
      "cell_type": "markdown",
      "metadata": {},
      "source": [
        "## to know the largest time diff which could be used/assigned"
      ]
    },
    {
      "cell_type": "code",
      "execution_count": 6,
      "metadata": {},
      "outputs": [
        {
          "data": {
            "text/plain": [
              "datetime.timedelta(days=999999999, seconds=86399, microseconds=999999)"
            ]
          },
          "execution_count": 6,
          "metadata": {},
          "output_type": "execute_result"
        }
      ],
      "source": [
        "deltadiff.max"
      ]
    },
    {
      "cell_type": "markdown",
      "metadata": {},
      "source": [
        "## timedelta may be used to add some time interval to a date to get new date. By default unit is day"
      ]
    },
    {
      "cell_type": "code",
      "execution_count": 4,
      "metadata": {},
      "outputs": [
        {
          "ename": "NameError",
          "evalue": "name 'datetime' is not defined",
          "output_type": "error",
          "traceback": [
            "\u001b[1;31m---------------------------------------------------------------------------\u001b[0m",
            "\u001b[1;31mNameError\u001b[0m                                 Traceback (most recent call last)",
            "\u001b[1;32mC:\\Users\\SHARAN~1\\AppData\\Local\\Temp/ipykernel_20120/2979926371.py\u001b[0m in \u001b[0;36m<module>\u001b[1;34m\u001b[0m\n\u001b[0;32m      1\u001b[0m \u001b[1;32mfrom\u001b[0m \u001b[0mdatetime\u001b[0m \u001b[1;32mimport\u001b[0m \u001b[0mtimedelta\u001b[0m\u001b[1;33m\u001b[0m\u001b[1;33m\u001b[0m\u001b[0m\n\u001b[1;32m----> 2\u001b[1;33m \u001b[0mstart\u001b[0m \u001b[1;33m=\u001b[0m \u001b[0mdatetime\u001b[0m\u001b[1;33m(\u001b[0m\u001b[1;36m2021\u001b[0m\u001b[1;33m,\u001b[0m \u001b[1;36m10\u001b[0m\u001b[1;33m,\u001b[0m \u001b[1;36m6\u001b[0m\u001b[1;33m)\u001b[0m\u001b[1;33m\u001b[0m\u001b[1;33m\u001b[0m\u001b[0m\n\u001b[0m\u001b[0;32m      3\u001b[0m \u001b[0mstart\u001b[0m \u001b[1;33m+\u001b[0m \u001b[0mtimedelta\u001b[0m\u001b[1;33m(\u001b[0m\u001b[1;36m3\u001b[0m\u001b[1;33m)\u001b[0m\u001b[1;33m\u001b[0m\u001b[1;33m\u001b[0m\u001b[0m\n",
            "\u001b[1;31mNameError\u001b[0m: name 'datetime' is not defined"
          ]
        }
      ],
      "source": [
        "from datetime import timedelta\n",
        "start = datetime(2021, 10, 6)\n",
        "start + timedelta(3)\n"
      ]
    },
    {
      "cell_type": "code",
      "execution_count": 8,
      "metadata": {},
      "outputs": [
        {
          "data": {
            "text/plain": [
              "datetime.datetime(2021, 9, 30, 0, 0)"
            ]
          },
          "execution_count": 8,
          "metadata": {},
          "output_type": "execute_result"
        }
      ],
      "source": [
        "start - 2 * timedelta(3)"
      ]
    },
    {
      "cell_type": "markdown",
      "metadata": {},
      "source": [
        "## datetime objects and function:\n",
        "* date: Stores calendar date (year, month, day) using the Gregorian calendar\n",
        "* time: Store time of day as hours, minutes, seconds, and microseconds\n",
        "* datetime: Stores both date and time\n",
        "* timedelta: Represents the difference between two datetime values (as days, seconds, and microseconds)\n",
        "* tzinfo: Base type for storing time zone information"
      ]
    },
    {
      "cell_type": "markdown",
      "metadata": {},
      "source": [
        "### Conversion Between String and Datetime\n",
        "* see table 11.2 Datetime format specification (ISO C89 compatible)\n"
      ]
    },
    {
      "cell_type": "code",
      "execution_count": 9,
      "metadata": {},
      "outputs": [
        {
          "data": {
            "text/plain": [
              "'2021-10-06 00:00:00'"
            ]
          },
          "execution_count": 9,
          "metadata": {},
          "output_type": "execute_result"
        }
      ],
      "source": [
        "initial = datetime(2021, 10, 6)\n",
        "str(initial)\n"
      ]
    },
    {
      "cell_type": "markdown",
      "metadata": {},
      "source": [
        "## get str in particular time format"
      ]
    },
    {
      "cell_type": "code",
      "execution_count": 11,
      "metadata": {},
      "outputs": [
        {
          "data": {
            "text/plain": [
              "'2021-10-06'"
            ]
          },
          "execution_count": 11,
          "metadata": {},
          "output_type": "execute_result"
        }
      ],
      "source": [
        "initial.strftime('%Y-%m-%d')"
      ]
    },
    {
      "cell_type": "markdown",
      "metadata": {},
      "source": [
        "## shortcuts for date (see Table 11-3. Locale-specific date formatting)\n",
        "* %F Shortcut for %Y-%m-%d (e.g., 2012-4-18) (Full)\n",
        "* %D Shortcut for %m/%d/%y (e.g., 04/18/12)  \n",
        "* %A for full day name  (A,B: alphabetical names) \n",
        "* %B : month name\n"
      ]
    },
    {
      "cell_type": "code",
      "execution_count": 10,
      "metadata": {},
      "outputs": [
        {
          "data": {
            "text/plain": [
              "'10/06/21'"
            ]
          },
          "execution_count": 10,
          "metadata": {},
          "output_type": "execute_result"
        }
      ],
      "source": [
        "initial.strftime('%D')"
      ]
    },
    {
      "cell_type": "code",
      "execution_count": 11,
      "metadata": {},
      "outputs": [
        {
          "data": {
            "text/plain": [
              "'Wednesday of  October, 2021'"
            ]
          },
          "execution_count": 11,
          "metadata": {},
          "output_type": "execute_result"
        }
      ],
      "source": [
        "initial.strftime('%A of  %B, %Y')"
      ]
    },
    {
      "cell_type": "code",
      "execution_count": 12,
      "metadata": {},
      "outputs": [
        {
          "data": {
            "text/plain": [
              "'2021-10-06'"
            ]
          },
          "execution_count": 12,
          "metadata": {},
          "output_type": "execute_result"
        }
      ],
      "source": [
        "initial.strftime('%F')"
      ]
    },
    {
      "cell_type": "markdown",
      "metadata": {},
      "source": [
        "## weekday number"
      ]
    },
    {
      "cell_type": "code",
      "execution_count": 13,
      "metadata": {},
      "outputs": [
        {
          "data": {
            "text/plain": [
              "'3'"
            ]
          },
          "execution_count": 13,
          "metadata": {},
          "output_type": "execute_result"
        }
      ],
      "source": [
        "initial.strftime('%w')"
      ]
    },
    {
      "cell_type": "markdown",
      "metadata": {},
      "source": [
        "## strptime: to convert strings to dates using datetime. i.e. parse a date with a known format"
      ]
    },
    {
      "cell_type": "code",
      "execution_count": 14,
      "metadata": {},
      "outputs": [
        {
          "data": {
            "text/plain": [
              "datetime.datetime(2021, 10, 6, 0, 0)"
            ]
          },
          "execution_count": 14,
          "metadata": {},
          "output_type": "execute_result"
        }
      ],
      "source": [
        "value = '2021-10-06'\n",
        "datetime.strptime(value, '%Y-%m-%d')"
      ]
    },
    {
      "cell_type": "markdown",
      "metadata": {},
      "source": [
        "## accessing multiple dates stored in a list/tuples as done for simple values"
      ]
    },
    {
      "cell_type": "code",
      "execution_count": 15,
      "metadata": {},
      "outputs": [
        {
          "data": {
            "text/plain": [
              "[datetime.datetime(2021, 6, 10, 0, 0), datetime.datetime(2021, 9, 10, 0, 0)]"
            ]
          },
          "execution_count": 15,
          "metadata": {},
          "output_type": "execute_result"
        }
      ],
      "source": [
        "datestrs = ['06/10/2021', '9/10/2021']\n",
        "[datetime.strptime(x, '%m/%d/%Y') for x in datestrs]"
      ]
    },
    {
      "cell_type": "code",
      "execution_count": null,
      "metadata": {},
      "outputs": [],
      "source": []
    },
    {
      "cell_type": "markdown",
      "metadata": {},
      "source": [
        "## datetime.strptime needs  format to extract date. this limitation is overcome by a third party module dateutil.parser method the parser."
      ]
    },
    {
      "cell_type": "code",
      "execution_count": 16,
      "metadata": {},
      "outputs": [
        {
          "data": {
            "text/plain": [
              "datetime.datetime(2011, 1, 3, 0, 0)"
            ]
          },
          "execution_count": 16,
          "metadata": {},
          "output_type": "execute_result"
        }
      ],
      "source": [
        "from dateutil.parser import parse\n",
        "parse('2011-1-03')"
      ]
    },
    {
      "cell_type": "markdown",
      "metadata": {},
      "source": [
        "### In international locales, day appearing before month is very common, hence  pass dayfirst=True to indicate the same"
      ]
    },
    {
      "cell_type": "code",
      "execution_count": 17,
      "metadata": {},
      "outputs": [
        {
          "data": {
            "text/plain": [
              "'15'"
            ]
          },
          "execution_count": 17,
          "metadata": {},
          "output_type": "execute_result"
        }
      ],
      "source": [
        "D=parse('15/12/2011',dayfirst=True)\n",
        "D.strftime('%d')"
      ]
    },
    {
      "cell_type": "code",
      "execution_count": 18,
      "metadata": {},
      "outputs": [
        {
          "data": {
            "text/plain": [
              "datetime.datetime(2011, 6, 14, 0, 0)"
            ]
          },
          "execution_count": 18,
          "metadata": {},
          "output_type": "execute_result"
        }
      ],
      "source": [
        "parse('6/14/2011')"
      ]
    },
    {
      "cell_type": "code",
      "execution_count": 19,
      "metadata": {},
      "outputs": [
        {
          "data": {
            "text/plain": [
              "datetime.datetime(1997, 1, 31, 22, 45)"
            ]
          },
          "execution_count": 19,
          "metadata": {},
          "output_type": "execute_result"
        }
      ],
      "source": [
        "parse('Jan 31, 1997 10:45 PM')"
      ]
    },
    {
      "cell_type": "markdown",
      "metadata": {},
      "source": [
        "## dateutil.parser is a useful but imperfect tool. \n",
        "* may  recognize some numeric strings as dates that is not for example, '42' will be parsed as the year 2042 with today’s calendar date."
      ]
    },
    {
      "cell_type": "code",
      "execution_count": 22,
      "metadata": {},
      "outputs": [
        {
          "data": {
            "text/plain": [
              "datetime.datetime(2022, 10, 20, 0, 0)"
            ]
          },
          "execution_count": 22,
          "metadata": {},
          "output_type": "execute_result"
        }
      ],
      "source": [
        "parse('20')"
      ]
    },
    {
      "cell_type": "markdown",
      "metadata": {},
      "source": [
        "# pandas extended utility to use to_datetime method to get array of dates to be used as index"
      ]
    },
    {
      "cell_type": "code",
      "execution_count": 23,
      "metadata": {},
      "outputs": [
        {
          "data": {
            "text/plain": [
              "DatetimeIndex(['2011-07-06 12:00:00', '2011-08-06 00:00:00'], dtype='datetime64[ns]', freq=None)"
            ]
          },
          "execution_count": 23,
          "metadata": {},
          "output_type": "execute_result"
        }
      ],
      "source": [
        "datestrs = ['2011-07-06 12:00:00', '2011-08-06 00:00:00']\n",
        "pd.to_datetime(datestrs)"
      ]
    },
    {
      "cell_type": "markdown",
      "metadata": {},
      "source": [
        "## adding none date: NaT: not a time\n",
        "* NaN: Not a number"
      ]
    },
    {
      "cell_type": "code",
      "execution_count": 24,
      "metadata": {},
      "outputs": [
        {
          "data": {
            "text/plain": [
              "DatetimeIndex(['2011-07-06 12:00:00', '2011-08-06 00:00:00', 'NaT'], dtype='datetime64[ns]', freq=None)"
            ]
          },
          "execution_count": 24,
          "metadata": {},
          "output_type": "execute_result"
        }
      ],
      "source": [
        "idx = pd.to_datetime(datestrs + [None])\n",
        "idx"
      ]
    },
    {
      "cell_type": "code",
      "execution_count": 25,
      "metadata": {},
      "outputs": [
        {
          "data": {
            "text/plain": [
              "array([False, False,  True])"
            ]
          },
          "execution_count": 25,
          "metadata": {},
          "output_type": "execute_result"
        }
      ],
      "source": [
        "pd.isnull(idx)"
      ]
    },
    {
      "cell_type": "markdown",
      "metadata": {},
      "source": [
        "## accessing array content as done in python"
      ]
    },
    {
      "cell_type": "code",
      "execution_count": 26,
      "metadata": {},
      "outputs": [
        {
          "data": {
            "text/plain": [
              "NaT"
            ]
          },
          "execution_count": 26,
          "metadata": {},
          "output_type": "execute_result"
        }
      ],
      "source": [
        "idx[2]"
      ]
    },
    {
      "cell_type": "markdown",
      "metadata": {},
      "source": [
        "## Time Series Basics"
      ]
    },
    {
      "cell_type": "code",
      "execution_count": 27,
      "metadata": {},
      "outputs": [
        {
          "data": {
            "text/plain": [
              "[datetime.datetime(2011, 1, 2, 0, 0),\n",
              " datetime.datetime(2011, 1, 5, 0, 0),\n",
              " datetime.datetime(2011, 1, 7, 0, 0),\n",
              " datetime.datetime(2011, 1, 8, 0, 0),\n",
              " datetime.datetime(2011, 1, 10, 0, 0),\n",
              " datetime.datetime(2011, 1, 12, 0, 0)]"
            ]
          },
          "execution_count": 27,
          "metadata": {},
          "output_type": "execute_result"
        }
      ],
      "source": [
        "#from datetime import datetime\n",
        "dates = [datetime(2011, 1, 2), datetime(2011, 1, 5),\n",
        "         datetime(2011, 1, 7), datetime(2011, 1, 8),\n",
        "         datetime(2011, 1, 10), datetime(2011, 1, 12)]\n",
        "dates\n"
      ]
    },
    {
      "cell_type": "code",
      "execution_count": 8,
      "metadata": {},
      "outputs": [
        {
          "data": {
            "text/plain": [
              "[datetime.datetime(2021, 10, 1, 0, 0),\n",
              " datetime.datetime(2021, 10, 2, 0, 0),\n",
              " datetime.datetime(2021, 10, 3, 0, 0),\n",
              " datetime.datetime(2021, 10, 4, 0, 0),\n",
              " datetime.datetime(2021, 10, 5, 0, 0),\n",
              " datetime.datetime(2021, 10, 6, 0, 0),\n",
              " datetime.datetime(2021, 10, 7, 0, 0),\n",
              " datetime.datetime(2021, 10, 8, 0, 0),\n",
              " datetime.datetime(2021, 10, 9, 0, 0),\n",
              " datetime.datetime(2021, 10, 10, 0, 0),\n",
              " datetime.datetime(2021, 10, 11, 0, 0),\n",
              " datetime.datetime(2021, 10, 12, 0, 0),\n",
              " datetime.datetime(2021, 10, 13, 0, 0),\n",
              " datetime.datetime(2021, 10, 14, 0, 0)]"
            ]
          },
          "execution_count": 8,
          "metadata": {},
          "output_type": "execute_result"
        }
      ],
      "source": [
        "dates1=[datetime(2021, 10, x) for x in range(1,15)]\n",
        "dates1"
      ]
    },
    {
      "cell_type": "markdown",
      "metadata": {},
      "source": [
        "## Generating a time series indexed by date"
      ]
    },
    {
      "cell_type": "code",
      "execution_count": 9,
      "metadata": {},
      "outputs": [
        {
          "data": {
            "text/plain": [
              "2021-10-01     2\n",
              "2021-10-02     4\n",
              "2021-10-03     6\n",
              "2021-10-04     8\n",
              "2021-10-05    10\n",
              "2021-10-06    12\n",
              "2021-10-07    14\n",
              "2021-10-08    16\n",
              "2021-10-09    18\n",
              "2021-10-10    20\n",
              "2021-10-11    22\n",
              "2021-10-12    24\n",
              "2021-10-13    26\n",
              "2021-10-14    28\n",
              "dtype: int32"
            ]
          },
          "execution_count": 9,
          "metadata": {},
          "output_type": "execute_result"
        }
      ],
      "source": [
        "timeseries1 = pd.Series(np.arange(2,29,2), index=dates1)\n",
        "timeseries1"
      ]
    },
    {
      "cell_type": "code",
      "execution_count": 41,
      "metadata": {},
      "outputs": [
        {
          "data": {
            "text/plain": [
              "DatetimeIndex(['2021-10-01', '2021-10-02', '2021-10-03', '2021-10-04',\n",
              "               '2021-10-05', '2021-10-06', '2021-10-07', '2021-10-08',\n",
              "               '2021-10-09', '2021-10-10', '2021-10-11', '2021-10-12',\n",
              "               '2021-10-13', '2021-10-14'],\n",
              "              dtype='datetime64[ns]', freq=None)"
            ]
          },
          "execution_count": 41,
          "metadata": {},
          "output_type": "execute_result"
        }
      ],
      "source": [
        "timeseries1.index"
      ]
    },
    {
      "cell_type": "code",
      "execution_count": 30,
      "metadata": {},
      "outputs": [
        {
          "data": {
            "text/plain": [
              "2021-10-01     2\n",
              "2021-10-03     6\n",
              "2021-10-05    10\n",
              "2021-10-07    14\n",
              "2021-10-09    18\n",
              "2021-10-11    22\n",
              "2021-10-13    26\n",
              "dtype: int32"
            ]
          },
          "execution_count": 30,
          "metadata": {},
          "output_type": "execute_result"
        }
      ],
      "source": [
        "timeseries1[::2]"
      ]
    },
    {
      "cell_type": "markdown",
      "metadata": {},
      "source": [
        "## adding a series with time index to another . same way as for data series. automatically index are aligned"
      ]
    },
    {
      "cell_type": "code",
      "execution_count": 31,
      "metadata": {},
      "outputs": [
        {
          "data": {
            "text/plain": [
              "2021-10-01     2\n",
              "2021-10-03     6\n",
              "2021-10-05    10\n",
              "2021-10-07    14\n",
              "2021-10-09    18\n",
              "2021-10-11    22\n",
              "2021-10-13    26\n",
              "dtype: int32"
            ]
          },
          "execution_count": 31,
          "metadata": {},
          "output_type": "execute_result"
        }
      ],
      "source": [
        "timeseries1[::2]"
      ]
    },
    {
      "cell_type": "code",
      "execution_count": 32,
      "metadata": {},
      "outputs": [
        {
          "data": {
            "text/plain": [
              "2021-10-01     4.0\n",
              "2021-10-02     NaN\n",
              "2021-10-03    12.0\n",
              "2021-10-04     NaN\n",
              "2021-10-05    20.0\n",
              "2021-10-06     NaN\n",
              "2021-10-07    28.0\n",
              "2021-10-08     NaN\n",
              "2021-10-09    36.0\n",
              "2021-10-10     NaN\n",
              "2021-10-11    44.0\n",
              "2021-10-12     NaN\n",
              "2021-10-13    52.0\n",
              "2021-10-14     NaN\n",
              "dtype: float64"
            ]
          },
          "execution_count": 32,
          "metadata": {},
          "output_type": "execute_result"
        }
      ],
      "source": [
        "timeseries1 + timeseries1[::2]"
      ]
    },
    {
      "cell_type": "code",
      "execution_count": 152,
      "metadata": {},
      "outputs": [
        {
          "data": {
            "text/plain": [
              "Timestamp('2021-10-01 00:00:00')"
            ]
          },
          "execution_count": 152,
          "metadata": {},
          "output_type": "execute_result"
        }
      ],
      "source": [
        "timeseries1.index[0]"
      ]
    },
    {
      "cell_type": "markdown",
      "metadata": {},
      "source": [
        "# pandas stores timestamps using NumPy’s datetime64 data type at the nanosecond resolution"
      ]
    },
    {
      "cell_type": "code",
      "execution_count": 33,
      "metadata": {},
      "outputs": [
        {
          "data": {
            "text/plain": [
              "dtype('<M8[ns]')"
            ]
          },
          "execution_count": 33,
          "metadata": {},
          "output_type": "execute_result"
        }
      ],
      "source": [
        "timeseries1.index.dtype"
      ]
    },
    {
      "cell_type": "markdown",
      "metadata": {},
      "source": [
        "# Indexing, Selection, Subsetting"
      ]
    },
    {
      "cell_type": "code",
      "execution_count": 34,
      "metadata": {},
      "outputs": [
        {
          "data": {
            "text/plain": [
              "20"
            ]
          },
          "execution_count": 34,
          "metadata": {},
          "output_type": "execute_result"
        }
      ],
      "source": [
        "timeseries1['10/10/2021']\n"
      ]
    },
    {
      "cell_type": "code",
      "execution_count": 38,
      "metadata": {},
      "outputs": [
        {
          "data": {
            "text/plain": [
              "26"
            ]
          },
          "execution_count": 38,
          "metadata": {},
          "output_type": "execute_result"
        }
      ],
      "source": [
        "timeseries1['13/10/2021']"
      ]
    },
    {
      "cell_type": "markdown",
      "metadata": {},
      "source": [
        "## alternate shortcutway yyyymmdd"
      ]
    },
    {
      "cell_type": "code",
      "execution_count": 36,
      "metadata": {},
      "outputs": [
        {
          "data": {
            "text/plain": [
              "26"
            ]
          },
          "execution_count": 36,
          "metadata": {},
          "output_type": "execute_result"
        }
      ],
      "source": [
        "timeseries1['20211013']"
      ]
    },
    {
      "cell_type": "markdown",
      "metadata": {},
      "source": [
        "# pd.date_range: to create array of dates with specified number of dates as period and started date (mm/dd/yr)"
      ]
    },
    {
      "cell_type": "code",
      "execution_count": 53,
      "metadata": {},
      "outputs": [
        {
          "data": {
            "text/plain": [
              "DatetimeIndex(['2021-01-10', '2021-01-11', '2021-01-12', '2021-01-13',\n",
              "               '2021-01-14', '2021-01-15', '2021-01-16', '2021-01-17',\n",
              "               '2021-01-18', '2021-01-19', '2021-01-20', '2021-01-21',\n",
              "               '2021-01-22', '2021-01-23', '2021-01-24', '2021-01-25',\n",
              "               '2021-01-26', '2021-01-27', '2021-01-28', '2021-01-29',\n",
              "               '2021-01-30', '2021-01-31', '2021-02-01', '2021-02-02',\n",
              "               '2021-02-03', '2021-02-04', '2021-02-05', '2021-02-06',\n",
              "               '2021-02-07', '2021-02-08', '2021-02-09', '2021-02-10',\n",
              "               '2021-02-11', '2021-02-12', '2021-02-13', '2021-02-14',\n",
              "               '2021-02-15', '2021-02-16', '2021-02-17', '2021-02-18',\n",
              "               '2021-02-19', '2021-02-20', '2021-02-21', '2021-02-22',\n",
              "               '2021-02-23', '2021-02-24', '2021-02-25', '2021-02-26',\n",
              "               '2021-02-27', '2021-02-28', '2021-03-01', '2021-03-02',\n",
              "               '2021-03-03', '2021-03-04', '2021-03-05', '2021-03-06',\n",
              "               '2021-03-07', '2021-03-08', '2021-03-09', '2021-03-10',\n",
              "               '2021-03-11', '2021-03-12', '2021-03-13', '2021-03-14',\n",
              "               '2021-03-15', '2021-03-16', '2021-03-17', '2021-03-18',\n",
              "               '2021-03-19', '2021-03-20', '2021-03-21', '2021-03-22',\n",
              "               '2021-03-23', '2021-03-24', '2021-03-25', '2021-03-26',\n",
              "               '2021-03-27', '2021-03-28', '2021-03-29', '2021-03-30',\n",
              "               '2021-03-31', '2021-04-01', '2021-04-02', '2021-04-03',\n",
              "               '2021-04-04', '2021-04-05', '2021-04-06', '2021-04-07',\n",
              "               '2021-04-08', '2021-04-09', '2021-04-10', '2021-04-11',\n",
              "               '2021-04-12', '2021-04-13', '2021-04-14', '2021-04-15',\n",
              "               '2021-04-16', '2021-04-17', '2021-04-18', '2021-04-19'],\n",
              "              dtype='datetime64[ns]', freq='D')"
            ]
          },
          "execution_count": 53,
          "metadata": {},
          "output_type": "execute_result"
        }
      ],
      "source": [
        "pd.date_range('1/10/2021', periods=100)"
      ]
    },
    {
      "cell_type": "markdown",
      "metadata": {},
      "source": [
        "## creating a ts series "
      ]
    },
    {
      "cell_type": "code",
      "execution_count": 10,
      "metadata": {},
      "outputs": [
        {
          "data": {
            "text/plain": [
              "2021-10-01   -0.906660\n",
              "2021-10-02    0.007293\n",
              "2021-10-03   -0.388947\n",
              "2021-10-04    1.014034\n",
              "2021-10-05   -1.888008\n",
              "                ...   \n",
              "2022-01-04   -0.029469\n",
              "2022-01-05   -0.597811\n",
              "2022-01-06    0.711364\n",
              "2022-01-07   -1.681690\n",
              "2022-01-08   -0.246059\n",
              "Freq: D, Length: 100, dtype: float64"
            ]
          },
          "execution_count": 10,
          "metadata": {},
          "output_type": "execute_result"
        }
      ],
      "source": [
        "longerseries = pd.Series(np.random.randn(100),\n",
        "                      index=pd.date_range('10-1-2021', periods=100))\n",
        "longerseries"
      ]
    },
    {
      "cell_type": "code",
      "execution_count": 56,
      "metadata": {},
      "outputs": [
        {
          "data": {
            "text/plain": [
              "0.5235862849928344"
            ]
          },
          "execution_count": 56,
          "metadata": {},
          "output_type": "execute_result"
        }
      ],
      "source": [
        "longerseries[2]"
      ]
    },
    {
      "cell_type": "code",
      "execution_count": null,
      "metadata": {},
      "outputs": [],
      "source": [
        "#different ways of selection"
      ]
    },
    {
      "cell_type": "markdown",
      "metadata": {},
      "source": [
        "## get data for month october"
      ]
    },
    {
      "cell_type": "code",
      "execution_count": 38,
      "metadata": {},
      "outputs": [
        {
          "data": {
            "text/plain": [
              "2021-10-01   -1.794590\n",
              "2021-10-02   -1.747455\n",
              "2021-10-03    0.040517\n",
              "2021-10-04   -0.470010\n",
              "2021-10-05    0.107898\n",
              "2021-10-06   -0.614794\n",
              "2021-10-07    1.159246\n",
              "2021-10-08   -1.092107\n",
              "2021-10-09    0.586668\n",
              "2021-10-10   -0.210097\n",
              "2021-10-11    0.666187\n",
              "2021-10-12    0.687940\n",
              "2021-10-13    0.536408\n",
              "2021-10-14   -0.642232\n",
              "2021-10-15   -1.932763\n",
              "2021-10-16    0.183778\n",
              "2021-10-17    0.328996\n",
              "2021-10-18    0.632272\n",
              "2021-10-19    0.558433\n",
              "2021-10-20    0.699429\n",
              "2021-10-21   -0.238702\n",
              "2021-10-22   -1.588229\n",
              "2021-10-23   -0.799408\n",
              "2021-10-24    0.068958\n",
              "2021-10-25   -0.704994\n",
              "2021-10-26    0.875011\n",
              "2021-10-27   -1.856802\n",
              "2021-10-28    0.368878\n",
              "2021-10-29    0.004835\n",
              "2021-10-30    0.924057\n",
              "2021-10-31    0.167276\n",
              "Freq: D, dtype: float64"
            ]
          },
          "execution_count": 38,
          "metadata": {},
          "output_type": "execute_result"
        }
      ],
      "source": [
        "longerseries['2021-10']"
      ]
    },
    {
      "cell_type": "code",
      "execution_count": 39,
      "metadata": {},
      "outputs": [
        {
          "data": {
            "text/plain": [
              "2021-10-30    0.924057\n",
              "2021-10-31    0.167276\n",
              "2021-11-01    0.135411\n",
              "2021-11-02    0.693408\n",
              "2021-11-03   -0.022707\n",
              "                ...   \n",
              "2022-01-04   -1.071086\n",
              "2022-01-05   -0.755306\n",
              "2022-01-06    0.318058\n",
              "2022-01-07    1.616983\n",
              "2022-01-08    0.271103\n",
              "Freq: D, Length: 71, dtype: float64"
            ]
          },
          "execution_count": 39,
          "metadata": {},
          "output_type": "execute_result"
        }
      ],
      "source": [
        "longerseries['2021-10-30':]"
      ]
    },
    {
      "cell_type": "code",
      "execution_count": 40,
      "metadata": {},
      "outputs": [
        {
          "data": {
            "text/plain": [
              "2021-10-17    0.328996\n",
              "2021-10-18    0.632272\n",
              "2021-10-19    0.558433\n",
              "2021-10-20    0.699429\n",
              "2021-10-21   -0.238702\n",
              "                ...   \n",
              "2022-01-04   -1.071086\n",
              "2022-01-05   -0.755306\n",
              "2022-01-06    0.318058\n",
              "2022-01-07    1.616983\n",
              "2022-01-08    0.271103\n",
              "Freq: D, Length: 84, dtype: float64"
            ]
          },
          "execution_count": 40,
          "metadata": {},
          "output_type": "execute_result"
        }
      ],
      "source": [
        "longerseries[datetime(2021, 10, 17):]"
      ]
    },
    {
      "cell_type": "code",
      "execution_count": 41,
      "metadata": {},
      "outputs": [
        {
          "data": {
            "text/plain": [
              "100"
            ]
          },
          "execution_count": 41,
          "metadata": {},
          "output_type": "execute_result"
        }
      ],
      "source": [
        "len(longerseries)"
      ]
    },
    {
      "cell_type": "code",
      "execution_count": 42,
      "metadata": {},
      "outputs": [
        {
          "data": {
            "text/plain": [
              "2021-10-01   -1.794590\n",
              "2021-10-02   -1.747455\n",
              "2021-10-03    0.040517\n",
              "2021-10-04   -0.470010\n",
              "2021-10-05    0.107898\n",
              "2021-10-06   -0.614794\n",
              "2021-10-07    1.159246\n",
              "2021-10-08   -1.092107\n",
              "2021-10-09    0.586668\n",
              "2021-10-10   -0.210097\n",
              "2021-10-11    0.666187\n",
              "2021-10-12    0.687940\n",
              "2021-10-13    0.536408\n",
              "2021-10-14   -0.642232\n",
              "2021-10-15   -1.932763\n",
              "2021-10-16    0.183778\n",
              "2021-10-17    0.328996\n",
              "2021-10-18    0.632272\n",
              "2021-10-19    0.558433\n",
              "2021-10-20    0.699429\n",
              "2021-10-21   -0.238702\n",
              "2021-10-22   -1.588229\n",
              "2021-10-23   -0.799408\n",
              "2021-10-24    0.068958\n",
              "2021-10-25   -0.704994\n",
              "2021-10-26    0.875011\n",
              "2021-10-27   -1.856802\n",
              "2021-10-28    0.368878\n",
              "2021-10-29    0.004835\n",
              "2021-10-30    0.924057\n",
              "2021-10-31    0.167276\n",
              "2021-11-01    0.135411\n",
              "Freq: D, dtype: float64"
            ]
          },
          "execution_count": 42,
          "metadata": {},
          "output_type": "execute_result"
        }
      ],
      "source": [
        "longerseries.truncate(after='11/01/2021')"
      ]
    },
    {
      "cell_type": "code",
      "execution_count": 43,
      "metadata": {},
      "outputs": [
        {
          "data": {
            "text/plain": [
              "2021-11-01    0.135411\n",
              "2021-11-02    0.693408\n",
              "2021-11-03   -0.022707\n",
              "2021-11-04   -0.663868\n",
              "2021-11-05    0.932833\n",
              "                ...   \n",
              "2022-01-04   -1.071086\n",
              "2022-01-05   -0.755306\n",
              "2022-01-06    0.318058\n",
              "2022-01-07    1.616983\n",
              "2022-01-08    0.271103\n",
              "Freq: D, Length: 69, dtype: float64"
            ]
          },
          "execution_count": 43,
          "metadata": {},
          "output_type": "execute_result"
        }
      ],
      "source": [
        "longerseries.truncate(before='11/01/2021')"
      ]
    },
    {
      "cell_type": "code",
      "execution_count": 44,
      "metadata": {},
      "outputs": [
        {
          "data": {
            "text/plain": [
              "2021-11-01    0.135411\n",
              "2021-11-02    0.693408\n",
              "2021-11-03   -0.022707\n",
              "2021-11-04   -0.663868\n",
              "2021-11-05    0.932833\n",
              "2021-11-06   -0.776645\n",
              "2021-11-07    0.798507\n",
              "2021-11-08   -0.009898\n",
              "2021-11-09   -1.288432\n",
              "2021-11-10   -0.679322\n",
              "2021-11-11   -1.409580\n",
              "2021-11-12    2.527516\n",
              "2021-11-13    0.288334\n",
              "2021-11-14   -0.282935\n",
              "2021-11-15   -0.587119\n",
              "Freq: D, dtype: float64"
            ]
          },
          "execution_count": 44,
          "metadata": {},
          "output_type": "execute_result"
        }
      ],
      "source": [
        "longerseries.truncate(after='11/15/2021',before='11/01/2021')"
      ]
    },
    {
      "cell_type": "markdown",
      "metadata": {},
      "source": [
        "# creating a timestamped DF"
      ]
    },
    {
      "cell_type": "markdown",
      "metadata": {},
      "source": [
        "## freq: step"
      ]
    },
    {
      "cell_type": "code",
      "execution_count": 13,
      "metadata": {},
      "outputs": [],
      "source": [
        "dates = pd.date_range('22/10/2022', periods=40, freq='W-WED')"
      ]
    },
    {
      "cell_type": "code",
      "execution_count": 14,
      "metadata": {},
      "outputs": [
        {
          "data": {
            "text/plain": [
              "DatetimeIndex(['2022-10-26', '2022-11-02', '2022-11-09', '2022-11-16',\n",
              "               '2022-11-23', '2022-11-30', '2022-12-07', '2022-12-14',\n",
              "               '2022-12-21', '2022-12-28', '2023-01-04', '2023-01-11',\n",
              "               '2023-01-18', '2023-01-25', '2023-02-01', '2023-02-08',\n",
              "               '2023-02-15', '2023-02-22', '2023-03-01', '2023-03-08',\n",
              "               '2023-03-15', '2023-03-22', '2023-03-29', '2023-04-05',\n",
              "               '2023-04-12', '2023-04-19', '2023-04-26', '2023-05-03',\n",
              "               '2023-05-10', '2023-05-17', '2023-05-24', '2023-05-31',\n",
              "               '2023-06-07', '2023-06-14', '2023-06-21', '2023-06-28',\n",
              "               '2023-07-05', '2023-07-12', '2023-07-19', '2023-07-26'],\n",
              "              dtype='datetime64[ns]', freq='W-WED')"
            ]
          },
          "execution_count": 14,
          "metadata": {},
          "output_type": "execute_result"
        }
      ],
      "source": [
        "dates"
      ]
    },
    {
      "cell_type": "code",
      "execution_count": 5,
      "metadata": {},
      "outputs": [],
      "source": [
        "dates = pd.date_range('19/10/2022', periods=40, freq='W-mon')"
      ]
    },
    {
      "cell_type": "code",
      "execution_count": 6,
      "metadata": {},
      "outputs": [
        {
          "data": {
            "text/plain": [
              "DatetimeIndex(['2022-10-24', '2022-10-31', '2022-11-07', '2022-11-14',\n",
              "               '2022-11-21', '2022-11-28', '2022-12-05', '2022-12-12',\n",
              "               '2022-12-19', '2022-12-26', '2023-01-02', '2023-01-09',\n",
              "               '2023-01-16', '2023-01-23', '2023-01-30', '2023-02-06',\n",
              "               '2023-02-13', '2023-02-20', '2023-02-27', '2023-03-06',\n",
              "               '2023-03-13', '2023-03-20', '2023-03-27', '2023-04-03',\n",
              "               '2023-04-10', '2023-04-17', '2023-04-24', '2023-05-01',\n",
              "               '2023-05-08', '2023-05-15', '2023-05-22', '2023-05-29',\n",
              "               '2023-06-05', '2023-06-12', '2023-06-19', '2023-06-26',\n",
              "               '2023-07-03', '2023-07-10', '2023-07-17', '2023-07-24'],\n",
              "              dtype='datetime64[ns]', freq='W-MON')"
            ]
          },
          "execution_count": 6,
          "metadata": {},
          "output_type": "execute_result"
        }
      ],
      "source": [
        "dates"
      ]
    },
    {
      "cell_type": "code",
      "execution_count": 15,
      "metadata": {},
      "outputs": [
        {
          "data": {
            "text/html": [
              "<div>\n",
              "<style scoped>\n",
              "    .dataframe tbody tr th:only-of-type {\n",
              "        vertical-align: middle;\n",
              "    }\n",
              "\n",
              "    .dataframe tbody tr th {\n",
              "        vertical-align: top;\n",
              "    }\n",
              "\n",
              "    .dataframe thead th {\n",
              "        text-align: right;\n",
              "    }\n",
              "</style>\n",
              "<table border=\"1\" class=\"dataframe\">\n",
              "  <thead>\n",
              "    <tr style=\"text-align: right;\">\n",
              "      <th></th>\n",
              "      <th>Colorado</th>\n",
              "      <th>Texas</th>\n",
              "      <th>New York</th>\n",
              "      <th>Ohio</th>\n",
              "    </tr>\n",
              "  </thead>\n",
              "  <tbody>\n",
              "    <tr>\n",
              "      <th>2022-10-26</th>\n",
              "      <td>-0.621967</td>\n",
              "      <td>3.148048</td>\n",
              "      <td>1.474458</td>\n",
              "      <td>0.555478</td>\n",
              "    </tr>\n",
              "    <tr>\n",
              "      <th>2022-11-02</th>\n",
              "      <td>-0.443369</td>\n",
              "      <td>-0.845934</td>\n",
              "      <td>0.111496</td>\n",
              "      <td>1.077539</td>\n",
              "    </tr>\n",
              "    <tr>\n",
              "      <th>2022-11-09</th>\n",
              "      <td>-0.055310</td>\n",
              "      <td>1.201419</td>\n",
              "      <td>-0.512756</td>\n",
              "      <td>-0.496965</td>\n",
              "    </tr>\n",
              "    <tr>\n",
              "      <th>2022-11-16</th>\n",
              "      <td>-1.387125</td>\n",
              "      <td>0.223110</td>\n",
              "      <td>-1.557064</td>\n",
              "      <td>-1.922861</td>\n",
              "    </tr>\n",
              "    <tr>\n",
              "      <th>2022-11-23</th>\n",
              "      <td>0.245437</td>\n",
              "      <td>-0.714604</td>\n",
              "      <td>-0.613313</td>\n",
              "      <td>-0.543063</td>\n",
              "    </tr>\n",
              "    <tr>\n",
              "      <th>2022-11-30</th>\n",
              "      <td>0.616470</td>\n",
              "      <td>-0.458057</td>\n",
              "      <td>0.909920</td>\n",
              "      <td>-0.060158</td>\n",
              "    </tr>\n",
              "    <tr>\n",
              "      <th>2022-12-07</th>\n",
              "      <td>1.681563</td>\n",
              "      <td>0.722299</td>\n",
              "      <td>-0.319287</td>\n",
              "      <td>-0.889556</td>\n",
              "    </tr>\n",
              "    <tr>\n",
              "      <th>2022-12-14</th>\n",
              "      <td>0.550959</td>\n",
              "      <td>-0.898689</td>\n",
              "      <td>1.865912</td>\n",
              "      <td>1.133899</td>\n",
              "    </tr>\n",
              "    <tr>\n",
              "      <th>2022-12-21</th>\n",
              "      <td>0.418629</td>\n",
              "      <td>-1.363252</td>\n",
              "      <td>0.577185</td>\n",
              "      <td>-0.053065</td>\n",
              "    </tr>\n",
              "    <tr>\n",
              "      <th>2022-12-28</th>\n",
              "      <td>1.747177</td>\n",
              "      <td>0.966339</td>\n",
              "      <td>0.846287</td>\n",
              "      <td>-1.149911</td>\n",
              "    </tr>\n",
              "    <tr>\n",
              "      <th>2023-01-04</th>\n",
              "      <td>0.312697</td>\n",
              "      <td>-0.652568</td>\n",
              "      <td>1.887387</td>\n",
              "      <td>0.000249</td>\n",
              "    </tr>\n",
              "    <tr>\n",
              "      <th>2023-01-11</th>\n",
              "      <td>-1.099367</td>\n",
              "      <td>0.868629</td>\n",
              "      <td>0.029175</td>\n",
              "      <td>0.265706</td>\n",
              "    </tr>\n",
              "    <tr>\n",
              "      <th>2023-01-18</th>\n",
              "      <td>0.043423</td>\n",
              "      <td>0.927022</td>\n",
              "      <td>-0.926178</td>\n",
              "      <td>-0.173614</td>\n",
              "    </tr>\n",
              "    <tr>\n",
              "      <th>2023-01-25</th>\n",
              "      <td>-1.510641</td>\n",
              "      <td>-0.162605</td>\n",
              "      <td>0.763722</td>\n",
              "      <td>1.762981</td>\n",
              "    </tr>\n",
              "    <tr>\n",
              "      <th>2023-02-01</th>\n",
              "      <td>0.402205</td>\n",
              "      <td>-0.425614</td>\n",
              "      <td>1.074053</td>\n",
              "      <td>-0.734734</td>\n",
              "    </tr>\n",
              "    <tr>\n",
              "      <th>2023-02-08</th>\n",
              "      <td>1.690487</td>\n",
              "      <td>0.341152</td>\n",
              "      <td>0.687107</td>\n",
              "      <td>-1.201403</td>\n",
              "    </tr>\n",
              "    <tr>\n",
              "      <th>2023-02-15</th>\n",
              "      <td>-0.367292</td>\n",
              "      <td>-0.022038</td>\n",
              "      <td>0.298179</td>\n",
              "      <td>-0.377941</td>\n",
              "    </tr>\n",
              "    <tr>\n",
              "      <th>2023-02-22</th>\n",
              "      <td>0.175387</td>\n",
              "      <td>1.032202</td>\n",
              "      <td>0.639738</td>\n",
              "      <td>-0.591340</td>\n",
              "    </tr>\n",
              "    <tr>\n",
              "      <th>2023-03-01</th>\n",
              "      <td>1.502564</td>\n",
              "      <td>-0.418455</td>\n",
              "      <td>-1.310586</td>\n",
              "      <td>-0.057561</td>\n",
              "    </tr>\n",
              "    <tr>\n",
              "      <th>2023-03-08</th>\n",
              "      <td>0.939745</td>\n",
              "      <td>0.429606</td>\n",
              "      <td>-0.095766</td>\n",
              "      <td>-0.267737</td>\n",
              "    </tr>\n",
              "    <tr>\n",
              "      <th>2023-03-15</th>\n",
              "      <td>0.920099</td>\n",
              "      <td>0.223724</td>\n",
              "      <td>0.933350</td>\n",
              "      <td>-0.415968</td>\n",
              "    </tr>\n",
              "    <tr>\n",
              "      <th>2023-03-22</th>\n",
              "      <td>-1.228866</td>\n",
              "      <td>-0.558746</td>\n",
              "      <td>-0.943672</td>\n",
              "      <td>0.055303</td>\n",
              "    </tr>\n",
              "    <tr>\n",
              "      <th>2023-03-29</th>\n",
              "      <td>-0.369312</td>\n",
              "      <td>-1.309959</td>\n",
              "      <td>0.398117</td>\n",
              "      <td>0.349990</td>\n",
              "    </tr>\n",
              "    <tr>\n",
              "      <th>2023-04-05</th>\n",
              "      <td>1.724568</td>\n",
              "      <td>0.254876</td>\n",
              "      <td>-0.724327</td>\n",
              "      <td>-0.569630</td>\n",
              "    </tr>\n",
              "    <tr>\n",
              "      <th>2023-04-12</th>\n",
              "      <td>0.761114</td>\n",
              "      <td>0.821416</td>\n",
              "      <td>-1.481102</td>\n",
              "      <td>-1.094754</td>\n",
              "    </tr>\n",
              "    <tr>\n",
              "      <th>2023-04-19</th>\n",
              "      <td>-1.134145</td>\n",
              "      <td>1.147775</td>\n",
              "      <td>-0.297367</td>\n",
              "      <td>0.342002</td>\n",
              "    </tr>\n",
              "    <tr>\n",
              "      <th>2023-04-26</th>\n",
              "      <td>0.538667</td>\n",
              "      <td>0.914758</td>\n",
              "      <td>-1.021429</td>\n",
              "      <td>-0.669262</td>\n",
              "    </tr>\n",
              "    <tr>\n",
              "      <th>2023-05-03</th>\n",
              "      <td>0.970660</td>\n",
              "      <td>-0.870412</td>\n",
              "      <td>-0.262955</td>\n",
              "      <td>2.104099</td>\n",
              "    </tr>\n",
              "    <tr>\n",
              "      <th>2023-05-10</th>\n",
              "      <td>-0.615334</td>\n",
              "      <td>1.834137</td>\n",
              "      <td>0.332956</td>\n",
              "      <td>0.941636</td>\n",
              "    </tr>\n",
              "    <tr>\n",
              "      <th>2023-05-17</th>\n",
              "      <td>0.385811</td>\n",
              "      <td>-1.500174</td>\n",
              "      <td>-1.011788</td>\n",
              "      <td>-0.176465</td>\n",
              "    </tr>\n",
              "    <tr>\n",
              "      <th>2023-05-24</th>\n",
              "      <td>-0.984671</td>\n",
              "      <td>-1.084510</td>\n",
              "      <td>2.107175</td>\n",
              "      <td>-0.797901</td>\n",
              "    </tr>\n",
              "    <tr>\n",
              "      <th>2023-05-31</th>\n",
              "      <td>-0.526674</td>\n",
              "      <td>0.365875</td>\n",
              "      <td>1.881918</td>\n",
              "      <td>0.859025</td>\n",
              "    </tr>\n",
              "    <tr>\n",
              "      <th>2023-06-07</th>\n",
              "      <td>0.046641</td>\n",
              "      <td>-0.805577</td>\n",
              "      <td>-1.037332</td>\n",
              "      <td>1.257825</td>\n",
              "    </tr>\n",
              "    <tr>\n",
              "      <th>2023-06-14</th>\n",
              "      <td>0.325853</td>\n",
              "      <td>-0.069470</td>\n",
              "      <td>-2.855286</td>\n",
              "      <td>-1.326755</td>\n",
              "    </tr>\n",
              "    <tr>\n",
              "      <th>2023-06-21</th>\n",
              "      <td>2.167831</td>\n",
              "      <td>0.311239</td>\n",
              "      <td>-0.464816</td>\n",
              "      <td>-0.012976</td>\n",
              "    </tr>\n",
              "    <tr>\n",
              "      <th>2023-06-28</th>\n",
              "      <td>0.421398</td>\n",
              "      <td>2.588602</td>\n",
              "      <td>-0.173261</td>\n",
              "      <td>-0.675301</td>\n",
              "    </tr>\n",
              "    <tr>\n",
              "      <th>2023-07-05</th>\n",
              "      <td>-1.621516</td>\n",
              "      <td>-0.171812</td>\n",
              "      <td>1.009304</td>\n",
              "      <td>1.596275</td>\n",
              "    </tr>\n",
              "    <tr>\n",
              "      <th>2023-07-12</th>\n",
              "      <td>1.489971</td>\n",
              "      <td>-1.385569</td>\n",
              "      <td>-0.019177</td>\n",
              "      <td>1.056794</td>\n",
              "    </tr>\n",
              "    <tr>\n",
              "      <th>2023-07-19</th>\n",
              "      <td>-1.301661</td>\n",
              "      <td>-0.439728</td>\n",
              "      <td>-0.610033</td>\n",
              "      <td>0.400440</td>\n",
              "    </tr>\n",
              "    <tr>\n",
              "      <th>2023-07-26</th>\n",
              "      <td>-0.995545</td>\n",
              "      <td>0.852182</td>\n",
              "      <td>0.403649</td>\n",
              "      <td>0.517472</td>\n",
              "    </tr>\n",
              "  </tbody>\n",
              "</table>\n",
              "</div>"
            ],
            "text/plain": [
              "            Colorado     Texas  New York      Ohio\n",
              "2022-10-26 -0.621967  3.148048  1.474458  0.555478\n",
              "2022-11-02 -0.443369 -0.845934  0.111496  1.077539\n",
              "2022-11-09 -0.055310  1.201419 -0.512756 -0.496965\n",
              "2022-11-16 -1.387125  0.223110 -1.557064 -1.922861\n",
              "2022-11-23  0.245437 -0.714604 -0.613313 -0.543063\n",
              "2022-11-30  0.616470 -0.458057  0.909920 -0.060158\n",
              "2022-12-07  1.681563  0.722299 -0.319287 -0.889556\n",
              "2022-12-14  0.550959 -0.898689  1.865912  1.133899\n",
              "2022-12-21  0.418629 -1.363252  0.577185 -0.053065\n",
              "2022-12-28  1.747177  0.966339  0.846287 -1.149911\n",
              "2023-01-04  0.312697 -0.652568  1.887387  0.000249\n",
              "2023-01-11 -1.099367  0.868629  0.029175  0.265706\n",
              "2023-01-18  0.043423  0.927022 -0.926178 -0.173614\n",
              "2023-01-25 -1.510641 -0.162605  0.763722  1.762981\n",
              "2023-02-01  0.402205 -0.425614  1.074053 -0.734734\n",
              "2023-02-08  1.690487  0.341152  0.687107 -1.201403\n",
              "2023-02-15 -0.367292 -0.022038  0.298179 -0.377941\n",
              "2023-02-22  0.175387  1.032202  0.639738 -0.591340\n",
              "2023-03-01  1.502564 -0.418455 -1.310586 -0.057561\n",
              "2023-03-08  0.939745  0.429606 -0.095766 -0.267737\n",
              "2023-03-15  0.920099  0.223724  0.933350 -0.415968\n",
              "2023-03-22 -1.228866 -0.558746 -0.943672  0.055303\n",
              "2023-03-29 -0.369312 -1.309959  0.398117  0.349990\n",
              "2023-04-05  1.724568  0.254876 -0.724327 -0.569630\n",
              "2023-04-12  0.761114  0.821416 -1.481102 -1.094754\n",
              "2023-04-19 -1.134145  1.147775 -0.297367  0.342002\n",
              "2023-04-26  0.538667  0.914758 -1.021429 -0.669262\n",
              "2023-05-03  0.970660 -0.870412 -0.262955  2.104099\n",
              "2023-05-10 -0.615334  1.834137  0.332956  0.941636\n",
              "2023-05-17  0.385811 -1.500174 -1.011788 -0.176465\n",
              "2023-05-24 -0.984671 -1.084510  2.107175 -0.797901\n",
              "2023-05-31 -0.526674  0.365875  1.881918  0.859025\n",
              "2023-06-07  0.046641 -0.805577 -1.037332  1.257825\n",
              "2023-06-14  0.325853 -0.069470 -2.855286 -1.326755\n",
              "2023-06-21  2.167831  0.311239 -0.464816 -0.012976\n",
              "2023-06-28  0.421398  2.588602 -0.173261 -0.675301\n",
              "2023-07-05 -1.621516 -0.171812  1.009304  1.596275\n",
              "2023-07-12  1.489971 -1.385569 -0.019177  1.056794\n",
              "2023-07-19 -1.301661 -0.439728 -0.610033  0.400440\n",
              "2023-07-26 -0.995545  0.852182  0.403649  0.517472"
            ]
          },
          "execution_count": 15,
          "metadata": {},
          "output_type": "execute_result"
        }
      ],
      "source": [
        "\n",
        "long_df = pd.DataFrame(np.random.randn(40, 4),\n",
        "                       index=dates,\n",
        "                       columns=['Colorado', 'Texas',\n",
        "                                'New York', 'Ohio'])\n",
        "long_df"
      ]
    },
    {
      "cell_type": "code",
      "execution_count": 11,
      "metadata": {},
      "outputs": [
        {
          "data": {
            "text/html": [
              "<div>\n",
              "<style scoped>\n",
              "    .dataframe tbody tr th:only-of-type {\n",
              "        vertical-align: middle;\n",
              "    }\n",
              "\n",
              "    .dataframe tbody tr th {\n",
              "        vertical-align: top;\n",
              "    }\n",
              "\n",
              "    .dataframe thead th {\n",
              "        text-align: right;\n",
              "    }\n",
              "</style>\n",
              "<table border=\"1\" class=\"dataframe\">\n",
              "  <thead>\n",
              "    <tr style=\"text-align: right;\">\n",
              "      <th></th>\n",
              "      <th>Colorado</th>\n",
              "      <th>Texas</th>\n",
              "      <th>New York</th>\n",
              "      <th>Ohio</th>\n",
              "    </tr>\n",
              "  </thead>\n",
              "  <tbody>\n",
              "    <tr>\n",
              "      <th>2022-12-07</th>\n",
              "      <td>-1.068217</td>\n",
              "      <td>-1.265754</td>\n",
              "      <td>-0.396535</td>\n",
              "      <td>-0.852878</td>\n",
              "    </tr>\n",
              "    <tr>\n",
              "      <th>2022-12-14</th>\n",
              "      <td>-0.748791</td>\n",
              "      <td>-1.511717</td>\n",
              "      <td>0.852222</td>\n",
              "      <td>0.450033</td>\n",
              "    </tr>\n",
              "    <tr>\n",
              "      <th>2022-12-21</th>\n",
              "      <td>-2.406444</td>\n",
              "      <td>-1.578876</td>\n",
              "      <td>0.234502</td>\n",
              "      <td>-2.278881</td>\n",
              "    </tr>\n",
              "    <tr>\n",
              "      <th>2022-12-28</th>\n",
              "      <td>0.317278</td>\n",
              "      <td>0.468394</td>\n",
              "      <td>0.164861</td>\n",
              "      <td>-1.714436</td>\n",
              "    </tr>\n",
              "  </tbody>\n",
              "</table>\n",
              "</div>"
            ],
            "text/plain": [
              "            Colorado     Texas  New York      Ohio\n",
              "2022-12-07 -1.068217 -1.265754 -0.396535 -0.852878\n",
              "2022-12-14 -0.748791 -1.511717  0.852222  0.450033\n",
              "2022-12-21 -2.406444 -1.578876  0.234502 -2.278881\n",
              "2022-12-28  0.317278  0.468394  0.164861 -1.714436"
            ]
          },
          "execution_count": 11,
          "metadata": {},
          "output_type": "execute_result"
        }
      ],
      "source": [
        "long_df.loc['12-2022']"
      ]
    },
    {
      "cell_type": "markdown",
      "metadata": {},
      "source": [
        "### Time Series with Duplicate Indices"
      ]
    },
    {
      "cell_type": "code",
      "execution_count": 19,
      "metadata": {},
      "outputs": [
        {
          "data": {
            "text/plain": [
              "2000-01-01    0\n",
              "2000-01-02    1\n",
              "2000-01-02    2\n",
              "2000-03-02    3\n",
              "2000-01-03    4\n",
              "dtype: int32"
            ]
          },
          "execution_count": 19,
          "metadata": {},
          "output_type": "execute_result"
        }
      ],
      "source": [
        "dates = pd.DatetimeIndex(['1/1/2000', '1/2/2000', '1/2/2000',\n",
        "                          '3/2/2000', '1/3/2000'])\n",
        "dup_ts = pd.Series(np.arange(5), index=dates)\n",
        "dup_ts"
      ]
    },
    {
      "cell_type": "code",
      "execution_count": 17,
      "metadata": {},
      "outputs": [
        {
          "data": {
            "text/plain": [
              "False"
            ]
          },
          "execution_count": 17,
          "metadata": {},
          "output_type": "execute_result"
        }
      ],
      "source": [
        "dup_ts.index.is_unique"
      ]
    },
    {
      "cell_type": "code",
      "execution_count": 20,
      "metadata": {},
      "outputs": [
        {
          "data": {
            "text/plain": [
              "2000-01-01    0.0\n",
              "2000-01-02    1.5\n",
              "2000-01-03    4.0\n",
              "2000-03-02    3.0\n",
              "dtype: float64"
            ]
          },
          "execution_count": 20,
          "metadata": {},
          "output_type": "execute_result"
        }
      ],
      "source": [
        "grouped = dup_ts.groupby(level=0)\n",
        "grouped.mean()\n"
      ]
    },
    {
      "cell_type": "code",
      "execution_count": 21,
      "metadata": {},
      "outputs": [
        {
          "data": {
            "text/plain": [
              "2000-01-01    1\n",
              "2000-01-02    2\n",
              "2000-01-03    1\n",
              "2000-03-02    1\n",
              "dtype: int64"
            ]
          },
          "execution_count": 21,
          "metadata": {},
          "output_type": "execute_result"
        }
      ],
      "source": [
        "grouped.count()"
      ]
    },
    {
      "cell_type": "code",
      "execution_count": 22,
      "metadata": {},
      "outputs": [
        {
          "data": {
            "text/plain": [
              "2000-01-01         NaN\n",
              "2000-01-02    0.707107\n",
              "2000-01-03         NaN\n",
              "2000-03-02         NaN\n",
              "dtype: float64"
            ]
          },
          "execution_count": 22,
          "metadata": {},
          "output_type": "execute_result"
        }
      ],
      "source": [
        "grouped.std()"
      ]
    },
    {
      "cell_type": "markdown",
      "metadata": {},
      "source": [
        "## Date Ranges, Frequencies, and Shifting"
      ]
    },
    {
      "cell_type": "code",
      "execution_count": 23,
      "metadata": {},
      "outputs": [
        {
          "data": {
            "text/plain": [
              "2021-10-01     2\n",
              "2021-10-02     4\n",
              "2021-10-03     6\n",
              "2021-10-04     8\n",
              "2021-10-05    10\n",
              "2021-10-06    12\n",
              "2021-10-07    14\n",
              "2021-10-08    16\n",
              "2021-10-09    18\n",
              "2021-10-10    20\n",
              "2021-10-11    22\n",
              "2021-10-12    24\n",
              "2021-10-13    26\n",
              "2021-10-14    28\n",
              "dtype: int32"
            ]
          },
          "execution_count": 23,
          "metadata": {},
          "output_type": "execute_result"
        }
      ],
      "source": [
        "timeseries1"
      ]
    },
    {
      "cell_type": "code",
      "execution_count": 24,
      "metadata": {},
      "outputs": [
        {
          "data": {
            "text/plain": [
              "2000-01-01    0\n",
              "2000-01-02    1\n",
              "2000-01-02    2\n",
              "2000-03-02    3\n",
              "2000-01-03    4\n",
              "dtype: int32"
            ]
          },
          "execution_count": 24,
          "metadata": {},
          "output_type": "execute_result"
        }
      ],
      "source": [
        "dup_ts"
      ]
    },
    {
      "cell_type": "markdown",
      "metadata": {},
      "source": [
        "## resampler: Convenient method for frequency conversion and resampling of time series. returns a group like object. index values which are not in index are assigned 0 in aggregate functions\n",
        "* Making a group object of indices"
      ]
    },
    {
      "cell_type": "code",
      "execution_count": 25,
      "metadata": {},
      "outputs": [
        {
          "data": {
            "text/plain": [
              "2000-01-01    0\n",
              "2000-01-02    3\n",
              "2000-01-03    4\n",
              "2000-01-04    0\n",
              "2000-01-05    0\n",
              "             ..\n",
              "2000-02-27    0\n",
              "2000-02-28    0\n",
              "2000-02-29    0\n",
              "2000-03-01    0\n",
              "2000-03-02    3\n",
              "Freq: D, Length: 62, dtype: int32"
            ]
          },
          "execution_count": 25,
          "metadata": {},
          "output_type": "execute_result"
        }
      ],
      "source": [
        "dup_ts.resample('D').sum()"
      ]
    },
    {
      "cell_type": "code",
      "execution_count": 27,
      "metadata": {},
      "outputs": [
        {
          "data": {
            "text/plain": [
              "2000-01-31    4\n",
              "2000-02-29    0\n",
              "2000-03-31    1\n",
              "Freq: M, dtype: int64"
            ]
          },
          "execution_count": 27,
          "metadata": {},
          "output_type": "execute_result"
        }
      ],
      "source": [
        "dup_ts.resample('M').count()"
      ]
    },
    {
      "cell_type": "code",
      "execution_count": 30,
      "metadata": {},
      "outputs": [
        {
          "data": {
            "text/plain": [
              "defaultdict(list,\n",
              "            {Timestamp('2000-01-01 00:00:00', freq='D'): [0],\n",
              "             Timestamp('2000-01-02 00:00:00', freq='D'): [1, 2],\n",
              "             Timestamp('2000-01-03 00:00:00', freq='D'): [3],\n",
              "             Timestamp('2000-03-02 00:00:00', freq='D'): [4]})"
            ]
          },
          "execution_count": 30,
          "metadata": {},
          "output_type": "execute_result"
        }
      ],
      "source": [
        "resampler = dup_ts.resample('D')\n",
        "resampler.indices"
      ]
    },
    {
      "cell_type": "code",
      "execution_count": 31,
      "metadata": {},
      "outputs": [
        {
          "data": {
            "text/plain": [
              "pandas.core.resample.DatetimeIndexResampler"
            ]
          },
          "execution_count": 31,
          "metadata": {},
          "output_type": "execute_result"
        }
      ],
      "source": [
        "type(resampler)"
      ]
    },
    {
      "cell_type": "code",
      "execution_count": 31,
      "metadata": {},
      "outputs": [
        {
          "name": "stdout",
          "output_type": "stream",
          "text": [
            "2000-01-01 00:00:00 2000-01-01    0\n",
            "dtype: int32\n",
            "2000-01-02 00:00:00 2000-01-02    1\n",
            "2000-01-02    2\n",
            "dtype: int32\n",
            "2000-01-03 00:00:00 2000-01-03    4\n",
            "dtype: int32\n",
            "2000-01-04 00:00:00 Series([], dtype: int32)\n",
            "2000-01-05 00:00:00 Series([], dtype: int32)\n",
            "2000-01-06 00:00:00 Series([], dtype: int32)\n",
            "2000-01-07 00:00:00 Series([], dtype: int32)\n",
            "2000-01-08 00:00:00 Series([], dtype: int32)\n",
            "2000-01-09 00:00:00 Series([], dtype: int32)\n",
            "2000-01-10 00:00:00 Series([], dtype: int32)\n",
            "2000-01-11 00:00:00 Series([], dtype: int32)\n",
            "2000-01-12 00:00:00 Series([], dtype: int32)\n",
            "2000-01-13 00:00:00 Series([], dtype: int32)\n",
            "2000-01-14 00:00:00 Series([], dtype: int32)\n",
            "2000-01-15 00:00:00 Series([], dtype: int32)\n",
            "2000-01-16 00:00:00 Series([], dtype: int32)\n",
            "2000-01-17 00:00:00 Series([], dtype: int32)\n",
            "2000-01-18 00:00:00 Series([], dtype: int32)\n",
            "2000-01-19 00:00:00 Series([], dtype: int32)\n",
            "2000-01-20 00:00:00 Series([], dtype: int32)\n",
            "2000-01-21 00:00:00 Series([], dtype: int32)\n",
            "2000-01-22 00:00:00 Series([], dtype: int32)\n",
            "2000-01-23 00:00:00 Series([], dtype: int32)\n",
            "2000-01-24 00:00:00 Series([], dtype: int32)\n",
            "2000-01-25 00:00:00 Series([], dtype: int32)\n",
            "2000-01-26 00:00:00 Series([], dtype: int32)\n",
            "2000-01-27 00:00:00 Series([], dtype: int32)\n",
            "2000-01-28 00:00:00 Series([], dtype: int32)\n",
            "2000-01-29 00:00:00 Series([], dtype: int32)\n",
            "2000-01-30 00:00:00 Series([], dtype: int32)\n",
            "2000-01-31 00:00:00 Series([], dtype: int32)\n",
            "2000-02-01 00:00:00 Series([], dtype: int32)\n",
            "2000-02-02 00:00:00 Series([], dtype: int32)\n",
            "2000-02-03 00:00:00 Series([], dtype: int32)\n",
            "2000-02-04 00:00:00 Series([], dtype: int32)\n",
            "2000-02-05 00:00:00 Series([], dtype: int32)\n",
            "2000-02-06 00:00:00 Series([], dtype: int32)\n",
            "2000-02-07 00:00:00 Series([], dtype: int32)\n",
            "2000-02-08 00:00:00 Series([], dtype: int32)\n",
            "2000-02-09 00:00:00 Series([], dtype: int32)\n",
            "2000-02-10 00:00:00 Series([], dtype: int32)\n",
            "2000-02-11 00:00:00 Series([], dtype: int32)\n",
            "2000-02-12 00:00:00 Series([], dtype: int32)\n",
            "2000-02-13 00:00:00 Series([], dtype: int32)\n",
            "2000-02-14 00:00:00 Series([], dtype: int32)\n",
            "2000-02-15 00:00:00 Series([], dtype: int32)\n",
            "2000-02-16 00:00:00 Series([], dtype: int32)\n",
            "2000-02-17 00:00:00 Series([], dtype: int32)\n",
            "2000-02-18 00:00:00 Series([], dtype: int32)\n",
            "2000-02-19 00:00:00 Series([], dtype: int32)\n",
            "2000-02-20 00:00:00 Series([], dtype: int32)\n",
            "2000-02-21 00:00:00 Series([], dtype: int32)\n",
            "2000-02-22 00:00:00 Series([], dtype: int32)\n",
            "2000-02-23 00:00:00 Series([], dtype: int32)\n",
            "2000-02-24 00:00:00 Series([], dtype: int32)\n",
            "2000-02-25 00:00:00 Series([], dtype: int32)\n",
            "2000-02-26 00:00:00 Series([], dtype: int32)\n",
            "2000-02-27 00:00:00 Series([], dtype: int32)\n",
            "2000-02-28 00:00:00 Series([], dtype: int32)\n",
            "2000-02-29 00:00:00 Series([], dtype: int32)\n",
            "2000-03-01 00:00:00 Series([], dtype: int32)\n",
            "2000-03-02 00:00:00 2000-03-02    3\n",
            "dtype: int32\n"
          ]
        }
      ],
      "source": [
        "for i,e in resampler:\n",
        "    print(i,e)"
      ]
    },
    {
      "cell_type": "code",
      "execution_count": 34,
      "metadata": {},
      "outputs": [
        {
          "data": {
            "text/plain": [
              "2000-01-01    0\n",
              "2000-01-02    1\n",
              "2000-01-02    2\n",
              "2000-03-02    3\n",
              "2000-01-06    5\n",
              "dtype: int64"
            ]
          },
          "execution_count": 34,
          "metadata": {},
          "output_type": "execute_result"
        }
      ],
      "source": [
        "dup_ts"
      ]
    },
    {
      "cell_type": "code",
      "execution_count": 32,
      "metadata": {},
      "outputs": [],
      "source": [
        "dup_ts.drop(labels=pd.to_datetime('2000-01-03'),inplace=True)"
      ]
    },
    {
      "cell_type": "code",
      "execution_count": 33,
      "metadata": {},
      "outputs": [],
      "source": [
        "dup_ts[pd.to_datetime('2000-01-06')]=5"
      ]
    },
    {
      "cell_type": "code",
      "execution_count": 35,
      "metadata": {},
      "outputs": [
        {
          "data": {
            "text/plain": [
              "defaultdict(list,\n",
              "            {Timestamp('2000-12-31 00:00:00', freq='A-DEC'): [0, 1, 2, 3, 4]})"
            ]
          },
          "execution_count": 35,
          "metadata": {},
          "output_type": "execute_result"
        }
      ],
      "source": [
        "I= dup_ts.resample('Y')\n",
        "I.indices"
      ]
    },
    {
      "cell_type": "markdown",
      "metadata": {},
      "source": [
        "## gps of every 3days"
      ]
    },
    {
      "cell_type": "code",
      "execution_count": 36,
      "metadata": {},
      "outputs": [
        {
          "data": {
            "text/plain": [
              "defaultdict(list,\n",
              "            {Timestamp('2000-01-01 00:00:00', freq='3D'): [0, 1, 2],\n",
              "             Timestamp('2000-01-04 00:00:00', freq='3D'): [3],\n",
              "             Timestamp('2000-03-01 00:00:00', freq='3D'): [4]})"
            ]
          },
          "execution_count": 36,
          "metadata": {},
          "output_type": "execute_result"
        }
      ],
      "source": [
        "I= dup_ts.resample('3D')\n",
        "I.indices"
      ]
    },
    {
      "cell_type": "code",
      "execution_count": 37,
      "metadata": {},
      "outputs": [
        {
          "data": {
            "text/plain": [
              "2000-01-01    3\n",
              "2000-01-04    5\n",
              "2000-01-07    0\n",
              "2000-01-10    0\n",
              "2000-01-13    0\n",
              "2000-01-16    0\n",
              "2000-01-19    0\n",
              "2000-01-22    0\n",
              "2000-01-25    0\n",
              "2000-01-28    0\n",
              "2000-01-31    0\n",
              "2000-02-03    0\n",
              "2000-02-06    0\n",
              "2000-02-09    0\n",
              "2000-02-12    0\n",
              "2000-02-15    0\n",
              "2000-02-18    0\n",
              "2000-02-21    0\n",
              "2000-02-24    0\n",
              "2000-02-27    0\n",
              "2000-03-01    3\n",
              "Freq: 3D, dtype: int64"
            ]
          },
          "execution_count": 37,
          "metadata": {},
          "output_type": "execute_result"
        }
      ],
      "source": [
        "I.sum()"
      ]
    },
    {
      "cell_type": "code",
      "execution_count": 48,
      "metadata": {},
      "outputs": [],
      "source": [
        "dup_ts[pd.to_datetime('2000-02-01')]=15"
      ]
    },
    {
      "cell_type": "code",
      "execution_count": 49,
      "metadata": {},
      "outputs": [],
      "source": [
        "resampler = dup_ts.resample('M')"
      ]
    },
    {
      "cell_type": "code",
      "execution_count": 50,
      "metadata": {},
      "outputs": [
        {
          "data": {
            "text/plain": [
              "2000-01-31     8\n",
              "2000-02-29    15\n",
              "2000-03-31     3\n",
              "Freq: M, dtype: int64"
            ]
          },
          "execution_count": 50,
          "metadata": {},
          "output_type": "execute_result"
        }
      ],
      "source": [
        "resampler.sum()"
      ]
    },
    {
      "cell_type": "markdown",
      "metadata": {},
      "source": [
        "### Generating Date Ranges. See table 11.4 for more options"
      ]
    },
    {
      "cell_type": "code",
      "execution_count": 51,
      "metadata": {},
      "outputs": [
        {
          "data": {
            "text/plain": [
              "DatetimeIndex(['2012-04-01', '2012-04-02', '2012-04-03', '2012-04-04',\n",
              "               '2012-04-05', '2012-04-06', '2012-04-07', '2012-04-08',\n",
              "               '2012-04-09', '2012-04-10', '2012-04-11', '2012-04-12',\n",
              "               '2012-04-13', '2012-04-14', '2012-04-15', '2012-04-16',\n",
              "               '2012-04-17', '2012-04-18', '2012-04-19', '2012-04-20'],\n",
              "              dtype='datetime64[ns]', freq='D')"
            ]
          },
          "execution_count": 51,
          "metadata": {},
          "output_type": "execute_result"
        }
      ],
      "source": [
        "pd.date_range(start='2012-04-01', periods=20)\n"
      ]
    },
    {
      "cell_type": "code",
      "execution_count": 52,
      "metadata": {},
      "outputs": [
        {
          "data": {
            "text/plain": [
              "DatetimeIndex(['2012-04-05', '2012-04-08', '2012-04-11', '2012-04-14',\n",
              "               '2012-04-17', '2012-04-20', '2012-04-23', '2012-04-26',\n",
              "               '2012-04-29', '2012-05-02', '2012-05-05', '2012-05-08',\n",
              "               '2012-05-11', '2012-05-14', '2012-05-17', '2012-05-20',\n",
              "               '2012-05-23', '2012-05-26', '2012-05-29', '2012-06-01'],\n",
              "              dtype='datetime64[ns]', freq='3D')"
            ]
          },
          "execution_count": 52,
          "metadata": {},
          "output_type": "execute_result"
        }
      ],
      "source": [
        "pd.date_range(end='2012-06-01', periods=20,freq='3D')"
      ]
    },
    {
      "cell_type": "code",
      "execution_count": 53,
      "metadata": {},
      "outputs": [
        {
          "data": {
            "text/plain": [
              "DatetimeIndex(['2012-06-01 00:00:00', '2012-06-01 03:00:00',\n",
              "               '2012-06-01 06:00:00', '2012-06-01 09:00:00',\n",
              "               '2012-06-01 12:00:00', '2012-06-01 15:00:00',\n",
              "               '2012-06-01 18:00:00', '2012-06-01 21:00:00',\n",
              "               '2012-06-02 00:00:00', '2012-06-02 03:00:00',\n",
              "               '2012-06-02 06:00:00', '2012-06-02 09:00:00',\n",
              "               '2012-06-02 12:00:00', '2012-06-02 15:00:00',\n",
              "               '2012-06-02 18:00:00', '2012-06-02 21:00:00',\n",
              "               '2012-06-03 00:00:00', '2012-06-03 03:00:00',\n",
              "               '2012-06-03 06:00:00', '2012-06-03 09:00:00'],\n",
              "              dtype='datetime64[ns]', freq='3H')"
            ]
          },
          "execution_count": 53,
          "metadata": {},
          "output_type": "execute_result"
        }
      ],
      "source": [
        "pd.date_range(start='2012-06-01', periods=20,freq='3h')"
      ]
    },
    {
      "cell_type": "markdown",
      "metadata": {},
      "source": [
        "## Y: year end"
      ]
    },
    {
      "cell_type": "code",
      "execution_count": 54,
      "metadata": {},
      "outputs": [
        {
          "data": {
            "text/plain": [
              "DatetimeIndex(['2012-12-31', '2013-12-31', '2014-12-31', '2015-12-31',\n",
              "               '2016-12-31', '2017-12-31', '2018-12-31', '2019-12-31',\n",
              "               '2020-12-31', '2021-12-31', '2022-12-31', '2023-12-31',\n",
              "               '2024-12-31', '2025-12-31', '2026-12-31', '2027-12-31',\n",
              "               '2028-12-31', '2029-12-31', '2030-12-31', '2031-12-31'],\n",
              "              dtype='datetime64[ns]', freq='A-DEC')"
            ]
          },
          "execution_count": 54,
          "metadata": {},
          "output_type": "execute_result"
        }
      ],
      "source": [
        "pd.date_range(start='2012-06-01', periods=20,freq='Y')"
      ]
    },
    {
      "cell_type": "code",
      "execution_count": 55,
      "metadata": {},
      "outputs": [
        {
          "data": {
            "text/plain": [
              "DatetimeIndex(['2012-07-31', '2012-10-31', '2013-01-31', '2013-04-30',\n",
              "               '2013-07-31', '2013-10-31', '2014-01-31', '2014-04-30',\n",
              "               '2014-07-31', '2014-10-31', '2015-01-31', '2015-04-30',\n",
              "               '2015-07-31', '2015-10-31', '2016-01-31', '2016-04-30',\n",
              "               '2016-07-31', '2016-10-31', '2017-01-31', '2017-04-30'],\n",
              "              dtype='datetime64[ns]', freq='Q-JAN')"
            ]
          },
          "execution_count": 55,
          "metadata": {},
          "output_type": "execute_result"
        }
      ],
      "source": [
        "pd.date_range(start='2012-06-01', periods=20,freq='Q-Jan')"
      ]
    },
    {
      "cell_type": "markdown",
      "metadata": {},
      "source": [
        "## Series with datetime indices"
      ]
    },
    {
      "cell_type": "code",
      "execution_count": 188,
      "metadata": {},
      "outputs": [
        {
          "data": {
            "text/plain": [
              "DatetimeIndex(['2021-10-07 12:56:31', '2021-10-08 12:56:31',\n",
              "               '2021-10-09 12:56:31', '2021-10-10 12:56:31',\n",
              "               '2021-10-11 12:56:31', '2021-10-12 12:56:31'],\n",
              "              dtype='datetime64[ns]', freq='D')"
            ]
          },
          "execution_count": 188,
          "metadata": {},
          "output_type": "execute_result"
        }
      ],
      "source": [
        "pd.date_range('2021-10-07 12:56:31', periods=6)"
      ]
    },
    {
      "cell_type": "markdown",
      "metadata": {},
      "source": [
        "## to generate a set of timestamps normalized to midnight as a convention. So set normalize=True"
      ]
    },
    {
      "cell_type": "code",
      "execution_count": 38,
      "metadata": {},
      "outputs": [
        {
          "data": {
            "text/plain": [
              "DatetimeIndex(['2021-10-07', '2021-10-08', '2021-10-09', '2021-10-10',\n",
              "               '2021-10-11', '2021-10-12'],\n",
              "              dtype='datetime64[ns]', freq='D')"
            ]
          },
          "execution_count": 38,
          "metadata": {},
          "output_type": "execute_result"
        }
      ],
      "source": [
        "pd.date_range('2021-10-07 12:56:31', periods=6,normalize=True)"
      ]
    },
    {
      "cell_type": "markdown",
      "metadata": {},
      "source": [
        "### Frequencies and Date Offsets. To define  a object as user-specified offset '3hours'"
      ]
    },
    {
      "cell_type": "code",
      "execution_count": 39,
      "metadata": {},
      "outputs": [
        {
          "data": {
            "text/plain": [
              "<Hour>"
            ]
          },
          "execution_count": 39,
          "metadata": {},
          "output_type": "execute_result"
        }
      ],
      "source": [
        "from pandas.tseries.offsets import Hour, Minute\n",
        "hour = Hour()\n",
        "hour"
      ]
    },
    {
      "cell_type": "code",
      "execution_count": 40,
      "metadata": {},
      "outputs": [
        {
          "data": {
            "text/plain": [
              "<Hour>"
            ]
          },
          "execution_count": 40,
          "metadata": {},
          "output_type": "execute_result"
        }
      ],
      "source": [
        "hour"
      ]
    },
    {
      "cell_type": "code",
      "execution_count": 41,
      "metadata": {},
      "outputs": [],
      "source": [
        "thrhours=Hour(3)"
      ]
    },
    {
      "cell_type": "code",
      "execution_count": 192,
      "metadata": {},
      "outputs": [
        {
          "data": {
            "text/plain": [
              "<3 * Hours>"
            ]
          },
          "execution_count": 192,
          "metadata": {},
          "output_type": "execute_result"
        }
      ],
      "source": [
        "thrhours"
      ]
    },
    {
      "cell_type": "markdown",
      "metadata": {},
      "source": [
        "#alternatively used the defined variable"
      ]
    },
    {
      "cell_type": "code",
      "execution_count": 42,
      "metadata": {},
      "outputs": [],
      "source": [
        "threehours=hour*3"
      ]
    },
    {
      "cell_type": "code",
      "execution_count": 43,
      "metadata": {},
      "outputs": [
        {
          "data": {
            "text/plain": [
              "<3 * Hours>"
            ]
          },
          "execution_count": 43,
          "metadata": {},
          "output_type": "execute_result"
        }
      ],
      "source": [
        "threehours"
      ]
    },
    {
      "cell_type": "code",
      "execution_count": 44,
      "metadata": {},
      "outputs": [
        {
          "data": {
            "text/plain": [
              "DatetimeIndex(['2000-01-01 00:00:00', '2000-01-01 03:00:00',\n",
              "               '2000-01-01 06:00:00', '2000-01-01 09:00:00',\n",
              "               '2000-01-01 12:00:00', '2000-01-01 15:00:00',\n",
              "               '2000-01-01 18:00:00', '2000-01-01 21:00:00',\n",
              "               '2000-01-02 00:00:00', '2000-01-02 03:00:00',\n",
              "               '2000-01-02 06:00:00', '2000-01-02 09:00:00',\n",
              "               '2000-01-02 12:00:00', '2000-01-02 15:00:00',\n",
              "               '2000-01-02 18:00:00', '2000-01-02 21:00:00',\n",
              "               '2000-01-03 00:00:00', '2000-01-03 03:00:00',\n",
              "               '2000-01-03 06:00:00', '2000-01-03 09:00:00',\n",
              "               '2000-01-03 12:00:00', '2000-01-03 15:00:00',\n",
              "               '2000-01-03 18:00:00', '2000-01-03 21:00:00'],\n",
              "              dtype='datetime64[ns]', freq='3H')"
            ]
          },
          "execution_count": 44,
          "metadata": {},
          "output_type": "execute_result"
        }
      ],
      "source": [
        "pd.date_range('2000-01-01', '2000-01-03 23:59', freq=threehours)"
      ]
    },
    {
      "cell_type": "markdown",
      "metadata": {},
      "source": [
        "#more specific combination for offset"
      ]
    },
    {
      "cell_type": "code",
      "execution_count": 45,
      "metadata": {},
      "outputs": [],
      "source": [
        "off=Hour(2) + Minute(30)"
      ]
    },
    {
      "cell_type": "code",
      "execution_count": 46,
      "metadata": {},
      "outputs": [
        {
          "data": {
            "text/plain": [
              "DatetimeIndex(['2021-01-01 00:00:00', '2021-01-01 03:00:00',\n",
              "               '2021-01-01 06:00:00', '2021-01-01 09:00:00',\n",
              "               '2021-01-01 12:00:00', '2021-01-01 15:00:00',\n",
              "               '2021-01-01 18:00:00', '2021-01-01 21:00:00',\n",
              "               '2021-01-02 00:00:00', '2021-01-02 03:00:00',\n",
              "               '2021-01-02 06:00:00', '2021-01-02 09:00:00',\n",
              "               '2021-01-02 12:00:00', '2021-01-02 15:00:00',\n",
              "               '2021-01-02 18:00:00', '2021-01-02 21:00:00',\n",
              "               '2021-01-03 00:00:00', '2021-01-03 03:00:00',\n",
              "               '2021-01-03 06:00:00', '2021-01-03 09:00:00',\n",
              "               '2021-01-03 12:00:00', '2021-01-03 15:00:00',\n",
              "               '2021-01-03 18:00:00', '2021-01-03 21:00:00'],\n",
              "              dtype='datetime64[ns]', freq='3H')"
            ]
          },
          "execution_count": 46,
          "metadata": {},
          "output_type": "execute_result"
        }
      ],
      "source": [
        "pd.date_range('2021-01-01', '2021-01-03 23:59', freq=threehours)"
      ]
    },
    {
      "cell_type": "code",
      "execution_count": 47,
      "metadata": {},
      "outputs": [
        {
          "data": {
            "text/plain": [
              "DatetimeIndex(['2021-01-15', '2021-02-19'], dtype='datetime64[ns]', freq='WOM-3FRI')"
            ]
          },
          "execution_count": 47,
          "metadata": {},
          "output_type": "execute_result"
        }
      ],
      "source": [
        "pd.date_range('2021-01-01', '2021-03-03 23:59', freq='WOM-3Fri')"
      ]
    },
    {
      "cell_type": "markdown",
      "metadata": {},
      "source": [
        "### Shifting (Leading and Lagging) Data"
      ]
    },
    {
      "cell_type": "code",
      "execution_count": 48,
      "metadata": {},
      "outputs": [
        {
          "data": {
            "text/plain": [
              "2021-10-01     2\n",
              "2021-10-02     4\n",
              "2021-10-03     6\n",
              "2021-10-04     8\n",
              "2021-10-05    10\n",
              "2021-10-06    12\n",
              "2021-10-07    14\n",
              "2021-10-08    16\n",
              "2021-10-09    18\n",
              "2021-10-10    20\n",
              "2021-10-11    22\n",
              "2021-10-12    24\n",
              "2021-10-13    26\n",
              "2021-10-14    28\n",
              "dtype: int32"
            ]
          },
          "execution_count": 48,
          "metadata": {},
          "output_type": "execute_result"
        }
      ],
      "source": [
        "timeseries1"
      ]
    },
    {
      "cell_type": "markdown",
      "metadata": {},
      "source": [
        "## specified number of items in shift will be discarded from the end and Nan in the begining"
      ]
    },
    {
      "cell_type": "code",
      "execution_count": 49,
      "metadata": {},
      "outputs": [
        {
          "data": {
            "text/plain": [
              "2021-10-01     NaN\n",
              "2021-10-02     NaN\n",
              "2021-10-03     2.0\n",
              "2021-10-04     4.0\n",
              "2021-10-05     6.0\n",
              "2021-10-06     8.0\n",
              "2021-10-07    10.0\n",
              "2021-10-08    12.0\n",
              "2021-10-09    14.0\n",
              "2021-10-10    16.0\n",
              "2021-10-11    18.0\n",
              "2021-10-12    20.0\n",
              "2021-10-13    22.0\n",
              "2021-10-14    24.0\n",
              "dtype: float64"
            ]
          },
          "execution_count": 49,
          "metadata": {},
          "output_type": "execute_result"
        }
      ],
      "source": [
        "timeseries1.shift(2)"
      ]
    },
    {
      "cell_type": "markdown",
      "metadata": {},
      "source": [
        "## shifting from from end"
      ]
    },
    {
      "cell_type": "code",
      "execution_count": 50,
      "metadata": {},
      "outputs": [
        {
          "data": {
            "text/plain": [
              "2021-10-01     6.0\n",
              "2021-10-02     8.0\n",
              "2021-10-03    10.0\n",
              "2021-10-04    12.0\n",
              "2021-10-05    14.0\n",
              "2021-10-06    16.0\n",
              "2021-10-07    18.0\n",
              "2021-10-08    20.0\n",
              "2021-10-09    22.0\n",
              "2021-10-10    24.0\n",
              "2021-10-11    26.0\n",
              "2021-10-12    28.0\n",
              "2021-10-13     NaN\n",
              "2021-10-14     NaN\n",
              "dtype: float64"
            ]
          },
          "execution_count": 50,
          "metadata": {},
          "output_type": "execute_result"
        }
      ],
      "source": [
        "timeseries1.shift(-2)"
      ]
    },
    {
      "cell_type": "markdown",
      "metadata": {},
      "source": [
        "## simple shift just changes the data not the dateindex. If need to change data index then use freq"
      ]
    },
    {
      "cell_type": "code",
      "execution_count": 56,
      "metadata": {},
      "outputs": [
        {
          "data": {
            "text/plain": [
              "2021-10-01     2\n",
              "2021-10-02     4\n",
              "2021-10-03     6\n",
              "2021-10-04     8\n",
              "2021-10-05    10\n",
              "2021-10-06    12\n",
              "2021-10-07    14\n",
              "2021-10-08    16\n",
              "2021-10-09    18\n",
              "2021-10-10    20\n",
              "2021-10-11    22\n",
              "2021-10-12    24\n",
              "2021-10-13    26\n",
              "2021-10-14    28\n",
              "dtype: int32"
            ]
          },
          "execution_count": 56,
          "metadata": {},
          "output_type": "execute_result"
        }
      ],
      "source": [
        "timeseries1"
      ]
    },
    {
      "cell_type": "markdown",
      "metadata": {},
      "source": [
        "## initial point (number * freq)"
      ]
    },
    {
      "cell_type": "code",
      "execution_count": 52,
      "metadata": {},
      "outputs": [
        {
          "data": {
            "text/plain": [
              "2021-10-05     2\n",
              "2021-10-06     4\n",
              "2021-10-07     6\n",
              "2021-10-08     8\n",
              "2021-10-09    10\n",
              "dtype: int32"
            ]
          },
          "execution_count": 52,
          "metadata": {},
          "output_type": "execute_result"
        }
      ],
      "source": [
        "timeseries1.shift(2,freq='2D').head(5)"
      ]
    },
    {
      "cell_type": "code",
      "execution_count": 68,
      "metadata": {},
      "outputs": [
        {
          "data": {
            "text/plain": [
              "2021-10-01    NaN\n",
              "2021-10-02    NaN\n",
              "2021-10-03    4.0\n",
              "2021-10-04    4.0\n",
              "2021-10-05    4.0\n",
              "2021-10-06    4.0\n",
              "2021-10-07    4.0\n",
              "2021-10-08    4.0\n",
              "2021-10-09    4.0\n",
              "2021-10-10    4.0\n",
              "2021-10-11    4.0\n",
              "2021-10-12    4.0\n",
              "2021-10-13    4.0\n",
              "2021-10-14    4.0\n",
              "dtype: float64"
            ]
          },
          "execution_count": 68,
          "metadata": {},
          "output_type": "execute_result"
        }
      ],
      "source": [
        "timeseries1-timeseries1.shift(2)"
      ]
    },
    {
      "cell_type": "markdown",
      "metadata": {},
      "source": [
        "# changing dates with date and time offset"
      ]
    },
    {
      "cell_type": "code",
      "execution_count": 53,
      "metadata": {},
      "outputs": [
        {
          "data": {
            "text/plain": [
              "Timestamp('2021-10-10 00:00:00')"
            ]
          },
          "execution_count": 53,
          "metadata": {},
          "output_type": "execute_result"
        }
      ],
      "source": [
        "from pandas.tseries.offsets import Day, MonthEnd, BMonthBegin, BMonthEnd\n",
        "now = datetime(2021, 10, 7)\n",
        "now + 3 * Day()"
      ]
    },
    {
      "cell_type": "code",
      "execution_count": 54,
      "metadata": {},
      "outputs": [
        {
          "data": {
            "text/plain": [
              "Timestamp('2021-10-29 00:00:00')"
            ]
          },
          "execution_count": 54,
          "metadata": {},
          "output_type": "execute_result"
        }
      ],
      "source": [
        "now + 1 * BMonthEnd() # Business month end/beging"
      ]
    },
    {
      "cell_type": "code",
      "execution_count": 72,
      "metadata": {},
      "outputs": [
        {
          "data": {
            "text/plain": [
              "Timestamp('2021-10-31 00:00:00')"
            ]
          },
          "execution_count": 72,
          "metadata": {},
          "output_type": "execute_result"
        }
      ],
      "source": [
        "now + 1 * MonthEnd()"
      ]
    },
    {
      "cell_type": "code",
      "execution_count": 73,
      "metadata": {},
      "outputs": [
        {
          "data": {
            "text/plain": [
              "Timestamp('2021-11-01 00:00:00')"
            ]
          },
          "execution_count": 73,
          "metadata": {},
          "output_type": "execute_result"
        }
      ],
      "source": [
        "now + 1 *BMonthBegin()"
      ]
    },
    {
      "cell_type": "code",
      "execution_count": 76,
      "metadata": {},
      "outputs": [
        {
          "data": {
            "text/plain": [
              "Timestamp('2021-10-29 00:00:00')"
            ]
          },
          "execution_count": 76,
          "metadata": {},
          "output_type": "execute_result"
        }
      ],
      "source": [
        "now + 1 *BMonthEnd()"
      ]
    },
    {
      "cell_type": "code",
      "execution_count": 208,
      "metadata": {},
      "outputs": [
        {
          "data": {
            "text/plain": [
              "pandas._libs.tslibs.timestamps.Timestamp"
            ]
          },
          "execution_count": 208,
          "metadata": {},
          "output_type": "execute_result"
        }
      ],
      "source": [
        "x=now + 1 *BMonthEnd()\n",
        "type(x)"
      ]
    },
    {
      "cell_type": "code",
      "execution_count": 209,
      "metadata": {},
      "outputs": [
        {
          "data": {
            "text/plain": [
              "29"
            ]
          },
          "execution_count": 209,
          "metadata": {},
          "output_type": "execute_result"
        }
      ],
      "source": [
        "x.day"
      ]
    },
    {
      "cell_type": "code",
      "execution_count": 210,
      "metadata": {},
      "outputs": [
        {
          "data": {
            "text/plain": [
              "4"
            ]
          },
          "execution_count": 210,
          "metadata": {},
          "output_type": "execute_result"
        }
      ],
      "source": [
        "x.weekday()"
      ]
    },
    {
      "cell_type": "code",
      "execution_count": 211,
      "metadata": {},
      "outputs": [
        {
          "data": {
            "text/plain": [
              "'Friday'"
            ]
          },
          "execution_count": 211,
          "metadata": {},
          "output_type": "execute_result"
        }
      ],
      "source": [
        "x.day_name()"
      ]
    },
    {
      "cell_type": "markdown",
      "metadata": {},
      "source": [
        "## using offset with timestamp data"
      ]
    },
    {
      "cell_type": "code",
      "execution_count": 69,
      "metadata": {},
      "outputs": [
        {
          "ename": "NameError",
          "evalue": "name 'MonthEnd' is not defined",
          "output_type": "error",
          "traceback": [
            "\u001b[1;31m---------------------------------------------------------------------------\u001b[0m",
            "\u001b[1;31mNameError\u001b[0m                                 Traceback (most recent call last)",
            "\u001b[1;32mC:\\Users\\SHARAN~1\\AppData\\Local\\Temp/ipykernel_15864/3692058268.py\u001b[0m in \u001b[0;36m<module>\u001b[1;34m\u001b[0m\n\u001b[1;32m----> 1\u001b[1;33m \u001b[0moffset\u001b[0m \u001b[1;33m=\u001b[0m \u001b[0mMonthEnd\u001b[0m\u001b[1;33m(\u001b[0m\u001b[1;33m)\u001b[0m\u001b[1;33m\u001b[0m\u001b[1;33m\u001b[0m\u001b[0m\n\u001b[0m\u001b[0;32m      2\u001b[0m \u001b[0moffset\u001b[0m\u001b[1;33m*=\u001b[0m\u001b[1;36m2\u001b[0m\u001b[1;33m\u001b[0m\u001b[1;33m\u001b[0m\u001b[0m\n",
            "\u001b[1;31mNameError\u001b[0m: name 'MonthEnd' is not defined"
          ]
        }
      ],
      "source": [
        "offset = MonthEnd()\n",
        "offset*=2\n"
      ]
    },
    {
      "cell_type": "code",
      "execution_count": 217,
      "metadata": {},
      "outputs": [
        {
          "data": {
            "text/plain": [
              "Timestamp('2021-11-30 00:00:00')"
            ]
          },
          "execution_count": 217,
          "metadata": {},
          "output_type": "execute_result"
        }
      ],
      "source": [
        "now+offset"
      ]
    },
    {
      "cell_type": "code",
      "execution_count": 218,
      "metadata": {},
      "outputs": [
        {
          "data": {
            "text/plain": [
              "Timestamp('2021-10-31 00:00:00')"
            ]
          },
          "execution_count": 218,
          "metadata": {},
          "output_type": "execute_result"
        }
      ],
      "source": [
        "offset.rollforward(now)"
      ]
    },
    {
      "cell_type": "code",
      "execution_count": 215,
      "metadata": {},
      "outputs": [
        {
          "data": {
            "text/plain": [
              "Timestamp('2021-09-30 00:00:00')"
            ]
          },
          "execution_count": 215,
          "metadata": {},
          "output_type": "execute_result"
        }
      ],
      "source": [
        "offset.rollback(now)"
      ]
    },
    {
      "cell_type": "markdown",
      "metadata": {},
      "source": [
        "# use of rollforward in group by"
      ]
    },
    {
      "cell_type": "code",
      "execution_count": 219,
      "metadata": {},
      "outputs": [
        {
          "data": {
            "text/plain": [
              "2000-01-15      0\n",
              "2000-01-19    100\n",
              "2000-01-23    200\n",
              "2000-01-27    300\n",
              "2000-01-31    400\n",
              "2000-02-04    500\n",
              "2000-02-08    600\n",
              "2000-02-12    700\n",
              "2000-02-16    800\n",
              "2000-02-20    900\n",
              "Freq: 4D, dtype: int32"
            ]
          },
          "execution_count": 219,
          "metadata": {},
          "output_type": "execute_result"
        }
      ],
      "source": [
        "ts = pd.Series(np.arange(10)*100,\n",
        "               index=pd.date_range('1/15/2000', periods=10, freq='4d'))\n",
        "ts\n"
      ]
    },
    {
      "cell_type": "markdown",
      "metadata": {},
      "source": [
        "## get mean of each month income as the monthend"
      ]
    },
    {
      "cell_type": "code",
      "execution_count": 220,
      "metadata": {},
      "outputs": [
        {
          "data": {
            "text/plain": [
              "2000-01-31    200\n",
              "2000-02-29    700\n",
              "Freq: M, dtype: int32"
            ]
          },
          "execution_count": 220,
          "metadata": {},
          "output_type": "execute_result"
        }
      ],
      "source": [
        "ts.resample('M').mean()"
      ]
    },
    {
      "cell_type": "markdown",
      "metadata": {},
      "source": [
        "## using rollforward"
      ]
    },
    {
      "cell_type": "code",
      "execution_count": 221,
      "metadata": {},
      "outputs": [
        {
          "data": {
            "text/plain": [
              "2000-01-31    200\n",
              "2000-02-29    700\n",
              "dtype: int32"
            ]
          },
          "execution_count": 221,
          "metadata": {},
          "output_type": "execute_result"
        }
      ],
      "source": [
        "ts.groupby(offset.rollforward).mean()"
      ]
    },
    {
      "cell_type": "code",
      "execution_count": 156,
      "metadata": {},
      "outputs": [
        {
          "data": {
            "text/plain": [
              "2000-01-15      0\n",
              "2000-01-19    100\n",
              "2000-01-23    200\n",
              "2000-01-27    300\n",
              "2000-01-31    400\n",
              "2000-02-04    500\n",
              "2000-02-08    600\n",
              "2000-02-12    700\n",
              "2000-02-16    800\n",
              "2000-02-20    900\n",
              "Freq: 4D, dtype: int32"
            ]
          },
          "execution_count": 156,
          "metadata": {},
          "output_type": "execute_result"
        }
      ],
      "source": [
        "ts"
      ]
    },
    {
      "cell_type": "markdown",
      "metadata": {},
      "source": [
        "## fall back to last month end"
      ]
    },
    {
      "cell_type": "code",
      "execution_count": 222,
      "metadata": {},
      "outputs": [
        {
          "data": {
            "text/plain": [
              "1999-12-31     600\n",
              "2000-01-31    3900\n",
              "dtype: int32"
            ]
          },
          "execution_count": 222,
          "metadata": {},
          "output_type": "execute_result"
        }
      ],
      "source": [
        "ts.groupby(offset.rollback).sum()"
      ]
    }
  ],
  "metadata": {
    "colab": {
      "name": "Untitled3.ipynb",
      "provenance": []
    },
    "kernelspec": {
      "display_name": "Python 3.9.4 64-bit",
      "language": "python",
      "name": "python3"
    },
    "language_info": {
      "codemirror_mode": {
        "name": "ipython",
        "version": 3
      },
      "file_extension": ".py",
      "mimetype": "text/x-python",
      "name": "python",
      "nbconvert_exporter": "python",
      "pygments_lexer": "ipython3",
      "version": "3.9.4"
    },
    "vscode": {
      "interpreter": {
        "hash": "5c6d8cf874a78cf518467a975f892478beea8e1660668e6c51857c147a60fb9a"
      }
    }
  },
  "nbformat": 4,
  "nbformat_minor": 2
}
