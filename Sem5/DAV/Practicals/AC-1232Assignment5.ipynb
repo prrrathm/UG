{
 "cells": [
  {
   "cell_type": "markdown",
   "metadata": {},
   "source": [
    "# **Assignment 5**\n",
    "\n",
    "| **Name**         | Pratham Sharma       |\n",
    "| ---------------- | -------------------- |\n",
    "| **Roll No**      | AC-1232              |\n",
    "| **Batch**        | 2023                 |\n",
    "| **Submitted to** | Prof. Sharanjit Kaur |\n"
   ]
  },
  {
   "cell_type": "code",
   "execution_count": 1,
   "metadata": {},
   "outputs": [],
   "source": [
    "import numpy as np\n",
    "import pandas as pd\n"
   ]
  },
  {
   "cell_type": "markdown",
   "metadata": {},
   "source": [
    "## **Question 1**\n",
    "\n",
    "Consider the following data frame containing a family name, gender of the family member and her/his monthlyincome in each record.\n"
   ]
  },
  {
   "cell_type": "markdown",
   "metadata": {},
   "source": [
    "| Name  | Gender | Monthly Income (Rs.) |\n",
    "| ----- | ------ | -------------------- |\n",
    "| Shah  | Male   | 114000.00            |\n",
    "| Vats  | Male   | 65000.00             |\n",
    "| Vats  | Female | 43150.00             |\n",
    "| Kumar | Female | 69500.00             |\n",
    "| Vats  | Female | 155000.00            |\n",
    "| Kumar | Male   | 103000.00            |\n",
    "| Shah  | Male   | 55000.00             |\n",
    "| Shah  | Female | 112400.00            |\n",
    "| Kumar | Female | 81030.00             |\n",
    "| Vats  | Male   | 71900.00             |\n"
   ]
  },
  {
   "cell_type": "markdown",
   "metadata": {},
   "source": [
    "Write a program in Python using Pandas to perform the following:\n",
    "\n",
    "1. Calculate and display familywise (on family name) gross monthly income.\n",
    "2. Calculate and display the member with the highest monthly income in a family.\n",
    "3. Calculate and display monthly income of all members with income greater than Rs. 60000.00.\n",
    "4. Calculate and display the average monthly income of the female members in the Shah family.\n",
    "5. Find the family name in which females average income is maximum\n",
    "6. Compare member count and average income for each family using appropriate plot\n",
    "7. Draw a pie chart for each family to show their income distribution gender wise\n"
   ]
  },
  {
   "cell_type": "code",
   "execution_count": 39,
   "metadata": {},
   "outputs": [
    {
     "data": {
      "text/html": [
       "<div>\n",
       "<style scoped>\n",
       "    .dataframe tbody tr th:only-of-type {\n",
       "        vertical-align: middle;\n",
       "    }\n",
       "\n",
       "    .dataframe tbody tr th {\n",
       "        vertical-align: top;\n",
       "    }\n",
       "\n",
       "    .dataframe thead th {\n",
       "        text-align: right;\n",
       "    }\n",
       "</style>\n",
       "<table border=\"1\" class=\"dataframe\">\n",
       "  <thead>\n",
       "    <tr style=\"text-align: right;\">\n",
       "      <th></th>\n",
       "      <th>Name</th>\n",
       "      <th>Gender</th>\n",
       "      <th>Monthly Income (Rs.)</th>\n",
       "    </tr>\n",
       "  </thead>\n",
       "  <tbody>\n",
       "    <tr>\n",
       "      <th>0</th>\n",
       "      <td>Shah</td>\n",
       "      <td>Male</td>\n",
       "      <td>114000.0</td>\n",
       "    </tr>\n",
       "    <tr>\n",
       "      <th>1</th>\n",
       "      <td>Vats</td>\n",
       "      <td>Male</td>\n",
       "      <td>65000.0</td>\n",
       "    </tr>\n",
       "    <tr>\n",
       "      <th>2</th>\n",
       "      <td>Vats</td>\n",
       "      <td>Female</td>\n",
       "      <td>43150.0</td>\n",
       "    </tr>\n",
       "    <tr>\n",
       "      <th>3</th>\n",
       "      <td>Kumar</td>\n",
       "      <td>Female</td>\n",
       "      <td>69500.0</td>\n",
       "    </tr>\n",
       "    <tr>\n",
       "      <th>4</th>\n",
       "      <td>Vats</td>\n",
       "      <td>Female</td>\n",
       "      <td>155000.0</td>\n",
       "    </tr>\n",
       "    <tr>\n",
       "      <th>5</th>\n",
       "      <td>Kumar</td>\n",
       "      <td>Male</td>\n",
       "      <td>103000.0</td>\n",
       "    </tr>\n",
       "    <tr>\n",
       "      <th>6</th>\n",
       "      <td>Shah</td>\n",
       "      <td>Male</td>\n",
       "      <td>55000.0</td>\n",
       "    </tr>\n",
       "    <tr>\n",
       "      <th>7</th>\n",
       "      <td>Shah</td>\n",
       "      <td>Female</td>\n",
       "      <td>112400.0</td>\n",
       "    </tr>\n",
       "    <tr>\n",
       "      <th>8</th>\n",
       "      <td>Kumar</td>\n",
       "      <td>Female</td>\n",
       "      <td>81030.0</td>\n",
       "    </tr>\n",
       "    <tr>\n",
       "      <th>9</th>\n",
       "      <td>Vats</td>\n",
       "      <td>Male</td>\n",
       "      <td>71900.0</td>\n",
       "    </tr>\n",
       "  </tbody>\n",
       "</table>\n",
       "</div>"
      ],
      "text/plain": [
       "    Name  Gender  Monthly Income (Rs.)\n",
       "0   Shah    Male              114000.0\n",
       "1   Vats    Male               65000.0\n",
       "2   Vats  Female               43150.0\n",
       "3  Kumar  Female               69500.0\n",
       "4   Vats  Female              155000.0\n",
       "5  Kumar    Male              103000.0\n",
       "6   Shah    Male               55000.0\n",
       "7   Shah  Female              112400.0\n",
       "8  Kumar  Female               81030.0\n",
       "9   Vats    Male               71900.0"
      ]
     },
     "execution_count": 39,
     "metadata": {},
     "output_type": "execute_result"
    }
   ],
   "source": [
    "data = {\n",
    "    'Name': ['Shah', 'Vats', 'Vats', 'Kumar', 'Vats',\n",
    "             'Kumar', 'Shah', 'Shah', 'Kumar', 'Vats'],\n",
    "    'Gender': ['Male', 'Male', 'Female', 'Female', 'Female',\n",
    "               'Male', 'Male', 'Female', 'Female', 'Male'],\n",
    "    'Monthly Income (Rs.)': [114000.00, 65000.00, 43150.00, 69500.00, 155000.00, 103000.00, 55000.00, 112400.00, 81030.00, 71900.00]\n",
    "}\n",
    "\n",
    "DFQ1 = pd.DataFrame(data)\n",
    "DFQ1\n"
   ]
  },
  {
   "cell_type": "code",
   "execution_count": 30,
   "metadata": {},
   "outputs": [
    {
     "data": {
      "text/html": [
       "<div>\n",
       "<style scoped>\n",
       "    .dataframe tbody tr th:only-of-type {\n",
       "        vertical-align: middle;\n",
       "    }\n",
       "\n",
       "    .dataframe tbody tr th {\n",
       "        vertical-align: top;\n",
       "    }\n",
       "\n",
       "    .dataframe thead th {\n",
       "        text-align: right;\n",
       "    }\n",
       "</style>\n",
       "<table border=\"1\" class=\"dataframe\">\n",
       "  <thead>\n",
       "    <tr style=\"text-align: right;\">\n",
       "      <th></th>\n",
       "      <th>Monthly Income (Rs.)</th>\n",
       "    </tr>\n",
       "    <tr>\n",
       "      <th>Name</th>\n",
       "      <th></th>\n",
       "    </tr>\n",
       "  </thead>\n",
       "  <tbody>\n",
       "    <tr>\n",
       "      <th>Kumar</th>\n",
       "      <td>253530.0</td>\n",
       "    </tr>\n",
       "    <tr>\n",
       "      <th>Shah</th>\n",
       "      <td>281400.0</td>\n",
       "    </tr>\n",
       "    <tr>\n",
       "      <th>Vats</th>\n",
       "      <td>335050.0</td>\n",
       "    </tr>\n",
       "  </tbody>\n",
       "</table>\n",
       "</div>"
      ],
      "text/plain": [
       "       Monthly Income (Rs.)\n",
       "Name                       \n",
       "Kumar              253530.0\n",
       "Shah               281400.0\n",
       "Vats               335050.0"
      ]
     },
     "execution_count": 30,
     "metadata": {},
     "output_type": "execute_result"
    }
   ],
   "source": [
    "# 1. Calculate and display family wise (on family name) gross monthly income.\n",
    "pd.pivot_table(DFQ1, index=['Name'], aggfunc='sum')\n"
   ]
  },
  {
   "cell_type": "code",
   "execution_count": 69,
   "metadata": {},
   "outputs": [
    {
     "data": {
      "text/html": [
       "<div>\n",
       "<style scoped>\n",
       "    .dataframe tbody tr th:only-of-type {\n",
       "        vertical-align: middle;\n",
       "    }\n",
       "\n",
       "    .dataframe tbody tr th {\n",
       "        vertical-align: top;\n",
       "    }\n",
       "\n",
       "    .dataframe thead th {\n",
       "        text-align: right;\n",
       "    }\n",
       "</style>\n",
       "<table border=\"1\" class=\"dataframe\">\n",
       "  <thead>\n",
       "    <tr style=\"text-align: right;\">\n",
       "      <th></th>\n",
       "      <th></th>\n",
       "      <th>Monthly Income (Rs.)</th>\n",
       "    </tr>\n",
       "    <tr>\n",
       "      <th>Name</th>\n",
       "      <th>Gender</th>\n",
       "      <th></th>\n",
       "    </tr>\n",
       "  </thead>\n",
       "  <tbody>\n",
       "    <tr>\n",
       "      <th rowspan=\"2\" valign=\"top\">Kumar</th>\n",
       "      <th>Female</th>\n",
       "      <td>75265.0</td>\n",
       "    </tr>\n",
       "    <tr>\n",
       "      <th>Male</th>\n",
       "      <td>103000.0</td>\n",
       "    </tr>\n",
       "    <tr>\n",
       "      <th rowspan=\"2\" valign=\"top\">Shah</th>\n",
       "      <th>Female</th>\n",
       "      <td>112400.0</td>\n",
       "    </tr>\n",
       "    <tr>\n",
       "      <th>Male</th>\n",
       "      <td>114000.0</td>\n",
       "    </tr>\n",
       "    <tr>\n",
       "      <th rowspan=\"2\" valign=\"top\">Vats</th>\n",
       "      <th>Female</th>\n",
       "      <td>155000.0</td>\n",
       "    </tr>\n",
       "    <tr>\n",
       "      <th>Male</th>\n",
       "      <td>68450.0</td>\n",
       "    </tr>\n",
       "  </tbody>\n",
       "</table>\n",
       "</div>"
      ],
      "text/plain": [
       "              Monthly Income (Rs.)\n",
       "Name  Gender                      \n",
       "Kumar Female               75265.0\n",
       "      Male                103000.0\n",
       "Shah  Female              112400.0\n",
       "      Male                114000.0\n",
       "Vats  Female              155000.0\n",
       "      Male                 68450.0"
      ]
     },
     "execution_count": 69,
     "metadata": {},
     "output_type": "execute_result"
    }
   ],
   "source": [
    "# 3. Calculate and display monthly income of all members with income greater than Rs. 60000.00.\n",
    "pd.pivot_table(DFQ1[DFQ1['Monthly Income (Rs.)'] >\n",
    "               60000.00], index=['Name', 'Gender'])\n"
   ]
  },
  {
   "cell_type": "code",
   "execution_count": 92,
   "metadata": {},
   "outputs": [
    {
     "data": {
      "text/plain": [
       "Name  Gender\n",
       "Shah  Female    112400.0\n",
       "Name: Monthly Income (Rs.), dtype: float64"
      ]
     },
     "execution_count": 92,
     "metadata": {},
     "output_type": "execute_result"
    }
   ],
   "source": [
    "# 4. Calculate and display the average monthly income of the female members in the Shah family.\n",
    "DFQ1['Monthly Income (Rs.)'].groupby([\n",
    "    DFQ1[DFQ1['Name'] == 'Shah']['Name'],\n",
    "    DFQ1[DFQ1['Gender'] == 'Female']['Gender']\n",
    "]).mean()\n"
   ]
  },
  {
   "cell_type": "code",
   "execution_count": null,
   "metadata": {},
   "outputs": [],
   "source": [
    "# 5. Find the family name in which females average income is maximum\n"
   ]
  },
  {
   "cell_type": "code",
   "execution_count": null,
   "metadata": {},
   "outputs": [],
   "source": [
    "# 6. Compare member count and average income for each family using appropriate plot\n"
   ]
  },
  {
   "cell_type": "code",
   "execution_count": null,
   "metadata": {},
   "outputs": [],
   "source": [
    "# 7. Draw a pie chart for each family to show their income distribution gender wise\n"
   ]
  },
  {
   "cell_type": "markdown",
   "metadata": {},
   "source": [
    "## **Question 2**\n",
    "\n",
    "Use tips data to do the following:\n",
    "see appropriate parameters for figs/plots\n",
    "\n",
    "1. Compareaverage tipspaid by smoker and non-smokers on weekdays and weekends individuallyusing bar plot\n",
    "2. comparethe distribution of bill amountof bills paid on weekday and week end\n",
    "3. Identify outlier in the bill amount of females customers (explicitlymention the formula used to detect outliers) and show using appropriate plot\n",
    "4. Find the size of customers who have paid maximum tip on weekend\n",
    "5. Compare the average amount of bill paid by females and males customers on all days (using line plot, xaxis has four tics corresponding to day)\n"
   ]
  },
  {
   "cell_type": "code",
   "execution_count": null,
   "metadata": {},
   "outputs": [],
   "source": []
  },
  {
   "cell_type": "code",
   "execution_count": null,
   "metadata": {},
   "outputs": [],
   "source": []
  },
  {
   "cell_type": "code",
   "execution_count": null,
   "metadata": {},
   "outputs": [],
   "source": []
  }
 ],
 "metadata": {
  "kernelspec": {
   "display_name": "Python 3.10.5 64-bit",
   "language": "python",
   "name": "python3"
  },
  "language_info": {
   "codemirror_mode": {
    "name": "ipython",
    "version": 3
   },
   "file_extension": ".py",
   "mimetype": "text/x-python",
   "name": "python",
   "nbconvert_exporter": "python",
   "pygments_lexer": "ipython3",
   "version": "3.10.5"
  },
  "orig_nbformat": 4,
  "vscode": {
   "interpreter": {
    "hash": "369f2c481f4da34e4445cda3fffd2e751bd1c4d706f27375911949ba6bb62e1c"
   }
  }
 },
 "nbformat": 4,
 "nbformat_minor": 2
}
