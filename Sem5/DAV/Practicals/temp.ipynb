{
 "cells": [
  {
   "cell_type": "markdown",
   "metadata": {},
   "source": [
    "## **Question 1**\n",
    "\n",
    "Given the following list of stringsList1 = ['Good Morning', 'Good Evening', 'Hello', 'Good afternoon', 'Greetings','Good Morning', 'Nice to see you']\n",
    "\n",
    "Perform the following operations\n",
    "\n",
    "1. Use list comprehension to store unique strings with multi-words of ‘List1’ to another list named ‘Newlist’. Also, write ananonymous function to sort the given list ‘List1’ on the last character of each string.\n",
    "2. Using‘List1’,generate the following dictionary ‘Anydict’ where key is the count of words in a string and value is the list of strings having that count.\n",
    "   Anydict = {1:['Greetings','Hello'],2:['GoodMorning','GoodEvening','Good afternoon', 'Good Morning'], 4: ['Nice to see you']}.\n",
    "   Create a data series ‘Ds1’ using the created dictionary ‘Anydict’.\n",
    "3. Draw a bar plot to compare the frequency of strings with equal word counts in ‘List1’. For example, the frequency of strings with two words in the given list ‘List1’ is 4. Give proper names to both axes.\n"
   ]
  }
 ],
 "metadata": {
  "language_info": {
   "name": "python"
  },
  "orig_nbformat": 4
 },
 "nbformat": 4,
 "nbformat_minor": 2
}
