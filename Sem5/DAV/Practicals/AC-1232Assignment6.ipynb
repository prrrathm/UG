{
 "cells": [
  {
   "cell_type": "markdown",
   "metadata": {},
   "source": [
    "# **Assignment 6**\n",
    "\n",
    "| **Name**         | Pratham Sharma       |\n",
    "| ---------------- | -------------------- |\n",
    "| **Roll No**      | AC-1232              |\n",
    "| **Batch**        | 2023                 |\n",
    "| **Submitted to** | Prof. Sharanjit Kaur |\n"
   ]
  },
  {
   "cell_type": "code",
   "execution_count": 1,
   "metadata": {},
   "outputs": [],
   "source": [
    "import numpy as np\n",
    "import pandas as pd\n"
   ]
  },
  {
   "cell_type": "markdown",
   "metadata": {},
   "source": [
    "## **Question 5**\n",
    "\n",
    "Consider the following DataFrame ADM containing data of freshly admitted students in a college during various rounds of admission.The Data Frame consists of the student’s name, cutoff list in which he/she has taken admission, date of admission, his/her % of marks, course code and gender.\n",
    "\n",
    "Perform the following:\n",
    "\n",
    "1. Set the first column ‘Sid’ as the row index of the given DataFrame ADM.Create a pivot table of the DataFrame to display the total number of admissions as per ‘Course Code’ and ‘Gender’.\n",
    "2. For each‘List’, find the total number of admissions, minimum ‘Marks%’ and maximum ‘Marks%’ in each course.\n",
    "3. Calculate and display the average ‘Marks%’ of all Female students of course ‘C112’.\n"
   ]
  },
  {
   "cell_type": "code",
   "execution_count": 2,
   "metadata": {},
   "outputs": [
    {
     "data": {
      "text/html": [
       "<div>\n",
       "<style scoped>\n",
       "    .dataframe tbody tr th:only-of-type {\n",
       "        vertical-align: middle;\n",
       "    }\n",
       "\n",
       "    .dataframe tbody tr th {\n",
       "        vertical-align: top;\n",
       "    }\n",
       "\n",
       "    .dataframe thead th {\n",
       "        text-align: right;\n",
       "    }\n",
       "</style>\n",
       "<table border=\"1\" class=\"dataframe\">\n",
       "  <thead>\n",
       "    <tr style=\"text-align: right;\">\n",
       "      <th></th>\n",
       "      <th>Sid</th>\n",
       "      <th>Name</th>\n",
       "      <th>List</th>\n",
       "      <th>DateAdm</th>\n",
       "      <th>Marks</th>\n",
       "      <th>CourseCode</th>\n",
       "      <th>Gender</th>\n",
       "    </tr>\n",
       "  </thead>\n",
       "  <tbody>\n",
       "    <tr>\n",
       "      <th>0</th>\n",
       "      <td>S1</td>\n",
       "      <td>Amit Jaiswal</td>\n",
       "      <td>I</td>\n",
       "      <td>01-07-2021</td>\n",
       "      <td>97.00</td>\n",
       "      <td>C001</td>\n",
       "      <td>Male</td>\n",
       "    </tr>\n",
       "    <tr>\n",
       "      <th>1</th>\n",
       "      <td>S2</td>\n",
       "      <td>Pradeep Dubey</td>\n",
       "      <td>II</td>\n",
       "      <td>09-07-2021</td>\n",
       "      <td>95.00</td>\n",
       "      <td>C009</td>\n",
       "      <td>Male</td>\n",
       "    </tr>\n",
       "    <tr>\n",
       "      <th>2</th>\n",
       "      <td>S3</td>\n",
       "      <td>Rinky Arora</td>\n",
       "      <td>I</td>\n",
       "      <td>04-07-2021</td>\n",
       "      <td>90.00</td>\n",
       "      <td>C112</td>\n",
       "      <td>Female</td>\n",
       "    </tr>\n",
       "    <tr>\n",
       "      <th>3</th>\n",
       "      <td>S4</td>\n",
       "      <td>Sonia Shah</td>\n",
       "      <td>IV</td>\n",
       "      <td>01-08-2021</td>\n",
       "      <td>96.00</td>\n",
       "      <td>C001</td>\n",
       "      <td>Female</td>\n",
       "    </tr>\n",
       "    <tr>\n",
       "      <th>4</th>\n",
       "      <td>S5</td>\n",
       "      <td>Sushil Negi</td>\n",
       "      <td>III</td>\n",
       "      <td>20-07-2021</td>\n",
       "      <td>96.50</td>\n",
       "      <td>C001</td>\n",
       "      <td>Male</td>\n",
       "    </tr>\n",
       "    <tr>\n",
       "      <th>5</th>\n",
       "      <td>S6</td>\n",
       "      <td>Neeraj Gaur</td>\n",
       "      <td>II</td>\n",
       "      <td>11-07-2021</td>\n",
       "      <td>94.50</td>\n",
       "      <td>C009</td>\n",
       "      <td>Male</td>\n",
       "    </tr>\n",
       "    <tr>\n",
       "      <th>6</th>\n",
       "      <td>S7</td>\n",
       "      <td>Preeti Sharma</td>\n",
       "      <td>IV</td>\n",
       "      <td>03-08-2021</td>\n",
       "      <td>89.00</td>\n",
       "      <td>C112</td>\n",
       "      <td>Female</td>\n",
       "    </tr>\n",
       "    <tr>\n",
       "      <th>7</th>\n",
       "      <td>S8</td>\n",
       "      <td>Deep Gupta</td>\n",
       "      <td>III</td>\n",
       "      <td>23-07-2021</td>\n",
       "      <td>95.75</td>\n",
       "      <td>C001</td>\n",
       "      <td>Male</td>\n",
       "    </tr>\n",
       "    <tr>\n",
       "      <th>8</th>\n",
       "      <td>S9</td>\n",
       "      <td>Priya Bansal</td>\n",
       "      <td>II</td>\n",
       "      <td>10-07-2021</td>\n",
       "      <td>93.50</td>\n",
       "      <td>C009</td>\n",
       "      <td>Female</td>\n",
       "    </tr>\n",
       "    <tr>\n",
       "      <th>9</th>\n",
       "      <td>S10</td>\n",
       "      <td>Anand Ahuja</td>\n",
       "      <td>I</td>\n",
       "      <td>01-07-2021</td>\n",
       "      <td>88.50</td>\n",
       "      <td>C112</td>\n",
       "      <td>Male</td>\n",
       "    </tr>\n",
       "  </tbody>\n",
       "</table>\n",
       "</div>"
      ],
      "text/plain": [
       "   Sid           Name List     DateAdm  Marks CourseCode  Gender\n",
       "0   S1   Amit Jaiswal    I  01-07-2021  97.00       C001    Male\n",
       "1   S2  Pradeep Dubey   II  09-07-2021  95.00       C009    Male\n",
       "2   S3    Rinky Arora    I  04-07-2021  90.00       C112  Female\n",
       "3   S4     Sonia Shah   IV  01-08-2021  96.00       C001  Female\n",
       "4   S5    Sushil Negi  III  20-07-2021  96.50       C001    Male\n",
       "5   S6    Neeraj Gaur   II  11-07-2021  94.50       C009    Male\n",
       "6   S7  Preeti Sharma   IV  03-08-2021  89.00       C112  Female\n",
       "7   S8     Deep Gupta  III  23-07-2021  95.75       C001    Male\n",
       "8   S9   Priya Bansal   II  10-07-2021  93.50       C009  Female\n",
       "9  S10    Anand Ahuja    I  01-07-2021  88.50       C112    Male"
      ]
     },
     "execution_count": 2,
     "metadata": {},
     "output_type": "execute_result"
    }
   ],
   "source": [
    "df = pd.read_csv('./ques5.csv')\n",
    "df\n"
   ]
  },
  {
   "cell_type": "code",
   "execution_count": 3,
   "metadata": {},
   "outputs": [
    {
     "data": {
      "text/html": [
       "<div>\n",
       "<style scoped>\n",
       "    .dataframe tbody tr th:only-of-type {\n",
       "        vertical-align: middle;\n",
       "    }\n",
       "\n",
       "    .dataframe tbody tr th {\n",
       "        vertical-align: top;\n",
       "    }\n",
       "\n",
       "    .dataframe thead th {\n",
       "        text-align: right;\n",
       "    }\n",
       "</style>\n",
       "<table border=\"1\" class=\"dataframe\">\n",
       "  <thead>\n",
       "    <tr style=\"text-align: right;\">\n",
       "      <th></th>\n",
       "      <th>Name</th>\n",
       "      <th>List</th>\n",
       "      <th>DateAdm</th>\n",
       "      <th>Marks</th>\n",
       "      <th>CourseCode</th>\n",
       "      <th>Gender</th>\n",
       "    </tr>\n",
       "    <tr>\n",
       "      <th>Sid</th>\n",
       "      <th></th>\n",
       "      <th></th>\n",
       "      <th></th>\n",
       "      <th></th>\n",
       "      <th></th>\n",
       "      <th></th>\n",
       "    </tr>\n",
       "  </thead>\n",
       "  <tbody>\n",
       "    <tr>\n",
       "      <th>S1</th>\n",
       "      <td>Amit Jaiswal</td>\n",
       "      <td>I</td>\n",
       "      <td>01-07-2021</td>\n",
       "      <td>97.00</td>\n",
       "      <td>C001</td>\n",
       "      <td>Male</td>\n",
       "    </tr>\n",
       "    <tr>\n",
       "      <th>S2</th>\n",
       "      <td>Pradeep Dubey</td>\n",
       "      <td>II</td>\n",
       "      <td>09-07-2021</td>\n",
       "      <td>95.00</td>\n",
       "      <td>C009</td>\n",
       "      <td>Male</td>\n",
       "    </tr>\n",
       "    <tr>\n",
       "      <th>S3</th>\n",
       "      <td>Rinky Arora</td>\n",
       "      <td>I</td>\n",
       "      <td>04-07-2021</td>\n",
       "      <td>90.00</td>\n",
       "      <td>C112</td>\n",
       "      <td>Female</td>\n",
       "    </tr>\n",
       "    <tr>\n",
       "      <th>S4</th>\n",
       "      <td>Sonia Shah</td>\n",
       "      <td>IV</td>\n",
       "      <td>01-08-2021</td>\n",
       "      <td>96.00</td>\n",
       "      <td>C001</td>\n",
       "      <td>Female</td>\n",
       "    </tr>\n",
       "    <tr>\n",
       "      <th>S5</th>\n",
       "      <td>Sushil Negi</td>\n",
       "      <td>III</td>\n",
       "      <td>20-07-2021</td>\n",
       "      <td>96.50</td>\n",
       "      <td>C001</td>\n",
       "      <td>Male</td>\n",
       "    </tr>\n",
       "    <tr>\n",
       "      <th>S6</th>\n",
       "      <td>Neeraj Gaur</td>\n",
       "      <td>II</td>\n",
       "      <td>11-07-2021</td>\n",
       "      <td>94.50</td>\n",
       "      <td>C009</td>\n",
       "      <td>Male</td>\n",
       "    </tr>\n",
       "    <tr>\n",
       "      <th>S7</th>\n",
       "      <td>Preeti Sharma</td>\n",
       "      <td>IV</td>\n",
       "      <td>03-08-2021</td>\n",
       "      <td>89.00</td>\n",
       "      <td>C112</td>\n",
       "      <td>Female</td>\n",
       "    </tr>\n",
       "    <tr>\n",
       "      <th>S8</th>\n",
       "      <td>Deep Gupta</td>\n",
       "      <td>III</td>\n",
       "      <td>23-07-2021</td>\n",
       "      <td>95.75</td>\n",
       "      <td>C001</td>\n",
       "      <td>Male</td>\n",
       "    </tr>\n",
       "    <tr>\n",
       "      <th>S9</th>\n",
       "      <td>Priya Bansal</td>\n",
       "      <td>II</td>\n",
       "      <td>10-07-2021</td>\n",
       "      <td>93.50</td>\n",
       "      <td>C009</td>\n",
       "      <td>Female</td>\n",
       "    </tr>\n",
       "    <tr>\n",
       "      <th>S10</th>\n",
       "      <td>Anand Ahuja</td>\n",
       "      <td>I</td>\n",
       "      <td>01-07-2021</td>\n",
       "      <td>88.50</td>\n",
       "      <td>C112</td>\n",
       "      <td>Male</td>\n",
       "    </tr>\n",
       "  </tbody>\n",
       "</table>\n",
       "</div>"
      ],
      "text/plain": [
       "              Name List     DateAdm  Marks CourseCode  Gender\n",
       "Sid                                                          \n",
       "S1    Amit Jaiswal    I  01-07-2021  97.00       C001    Male\n",
       "S2   Pradeep Dubey   II  09-07-2021  95.00       C009    Male\n",
       "S3     Rinky Arora    I  04-07-2021  90.00       C112  Female\n",
       "S4      Sonia Shah   IV  01-08-2021  96.00       C001  Female\n",
       "S5     Sushil Negi  III  20-07-2021  96.50       C001    Male\n",
       "S6     Neeraj Gaur   II  11-07-2021  94.50       C009    Male\n",
       "S7   Preeti Sharma   IV  03-08-2021  89.00       C112  Female\n",
       "S8      Deep Gupta  III  23-07-2021  95.75       C001    Male\n",
       "S9    Priya Bansal   II  10-07-2021  93.50       C009  Female\n",
       "S10    Anand Ahuja    I  01-07-2021  88.50       C112    Male"
      ]
     },
     "execution_count": 3,
     "metadata": {},
     "output_type": "execute_result"
    }
   ],
   "source": [
    "# a\n",
    "df = df.set_index('Sid')\n",
    "df\n"
   ]
  },
  {
   "cell_type": "code",
   "execution_count": 4,
   "metadata": {},
   "outputs": [
    {
     "data": {
      "text/html": [
       "<div>\n",
       "<style scoped>\n",
       "    .dataframe tbody tr th:only-of-type {\n",
       "        vertical-align: middle;\n",
       "    }\n",
       "\n",
       "    .dataframe tbody tr th {\n",
       "        vertical-align: top;\n",
       "    }\n",
       "\n",
       "    .dataframe thead th {\n",
       "        text-align: right;\n",
       "    }\n",
       "</style>\n",
       "<table border=\"1\" class=\"dataframe\">\n",
       "  <thead>\n",
       "    <tr style=\"text-align: right;\">\n",
       "      <th>Gender</th>\n",
       "      <th>Female</th>\n",
       "      <th>Male</th>\n",
       "    </tr>\n",
       "    <tr>\n",
       "      <th>CourseCode</th>\n",
       "      <th></th>\n",
       "      <th></th>\n",
       "    </tr>\n",
       "  </thead>\n",
       "  <tbody>\n",
       "    <tr>\n",
       "      <th>C001</th>\n",
       "      <td>1</td>\n",
       "      <td>3</td>\n",
       "    </tr>\n",
       "    <tr>\n",
       "      <th>C009</th>\n",
       "      <td>1</td>\n",
       "      <td>2</td>\n",
       "    </tr>\n",
       "    <tr>\n",
       "      <th>C112</th>\n",
       "      <td>2</td>\n",
       "      <td>1</td>\n",
       "    </tr>\n",
       "  </tbody>\n",
       "</table>\n",
       "</div>"
      ],
      "text/plain": [
       "Gender      Female  Male\n",
       "CourseCode              \n",
       "C001             1     3\n",
       "C009             1     2\n",
       "C112             2     1"
      ]
     },
     "execution_count": 4,
     "metadata": {},
     "output_type": "execute_result"
    }
   ],
   "source": [
    "df.pivot_table('Name', index='CourseCode', columns='Gender', aggfunc=len)\n"
   ]
  },
  {
   "cell_type": "code",
   "execution_count": 5,
   "metadata": {},
   "outputs": [
    {
     "data": {
      "text/html": [
       "<div>\n",
       "<style scoped>\n",
       "    .dataframe tbody tr th:only-of-type {\n",
       "        vertical-align: middle;\n",
       "    }\n",
       "\n",
       "    .dataframe tbody tr th {\n",
       "        vertical-align: top;\n",
       "    }\n",
       "\n",
       "    .dataframe thead th {\n",
       "        text-align: right;\n",
       "    }\n",
       "</style>\n",
       "<table border=\"1\" class=\"dataframe\">\n",
       "  <thead>\n",
       "    <tr style=\"text-align: right;\">\n",
       "      <th></th>\n",
       "      <th></th>\n",
       "      <th>count</th>\n",
       "      <th>max</th>\n",
       "      <th>min</th>\n",
       "    </tr>\n",
       "    <tr>\n",
       "      <th>List</th>\n",
       "      <th>CourseCode</th>\n",
       "      <th></th>\n",
       "      <th></th>\n",
       "      <th></th>\n",
       "    </tr>\n",
       "  </thead>\n",
       "  <tbody>\n",
       "    <tr>\n",
       "      <th rowspan=\"2\" valign=\"top\">I</th>\n",
       "      <th>C001</th>\n",
       "      <td>1</td>\n",
       "      <td>97.0</td>\n",
       "      <td>97.00</td>\n",
       "    </tr>\n",
       "    <tr>\n",
       "      <th>C112</th>\n",
       "      <td>2</td>\n",
       "      <td>90.0</td>\n",
       "      <td>88.50</td>\n",
       "    </tr>\n",
       "    <tr>\n",
       "      <th>II</th>\n",
       "      <th>C009</th>\n",
       "      <td>3</td>\n",
       "      <td>95.0</td>\n",
       "      <td>93.50</td>\n",
       "    </tr>\n",
       "    <tr>\n",
       "      <th>III</th>\n",
       "      <th>C001</th>\n",
       "      <td>2</td>\n",
       "      <td>96.5</td>\n",
       "      <td>95.75</td>\n",
       "    </tr>\n",
       "    <tr>\n",
       "      <th rowspan=\"2\" valign=\"top\">IV</th>\n",
       "      <th>C001</th>\n",
       "      <td>1</td>\n",
       "      <td>96.0</td>\n",
       "      <td>96.00</td>\n",
       "    </tr>\n",
       "    <tr>\n",
       "      <th>C112</th>\n",
       "      <td>1</td>\n",
       "      <td>89.0</td>\n",
       "      <td>89.00</td>\n",
       "    </tr>\n",
       "  </tbody>\n",
       "</table>\n",
       "</div>"
      ],
      "text/plain": [
       "                 count   max    min\n",
       "List CourseCode                    \n",
       "I    C001            1  97.0  97.00\n",
       "     C112            2  90.0  88.50\n",
       "II   C009            3  95.0  93.50\n",
       "III  C001            2  96.5  95.75\n",
       "IV   C001            1  96.0  96.00\n",
       "     C112            1  89.0  89.00"
      ]
     },
     "execution_count": 5,
     "metadata": {},
     "output_type": "execute_result"
    }
   ],
   "source": [
    "# b\n",
    "df.groupby(['List', 'CourseCode'])['Marks'].agg(['count', 'max', 'min'])\n"
   ]
  },
  {
   "cell_type": "code",
   "execution_count": 6,
   "metadata": {},
   "outputs": [
    {
     "data": {
      "text/html": [
       "<div>\n",
       "<style scoped>\n",
       "    .dataframe tbody tr th:only-of-type {\n",
       "        vertical-align: middle;\n",
       "    }\n",
       "\n",
       "    .dataframe tbody tr th {\n",
       "        vertical-align: top;\n",
       "    }\n",
       "\n",
       "    .dataframe thead th {\n",
       "        text-align: right;\n",
       "    }\n",
       "</style>\n",
       "<table border=\"1\" class=\"dataframe\">\n",
       "  <thead>\n",
       "    <tr style=\"text-align: right;\">\n",
       "      <th></th>\n",
       "      <th>Name</th>\n",
       "      <th>List</th>\n",
       "      <th>DateAdm</th>\n",
       "      <th>Marks</th>\n",
       "      <th>CourseCode</th>\n",
       "      <th>Gender</th>\n",
       "    </tr>\n",
       "    <tr>\n",
       "      <th>Sid</th>\n",
       "      <th></th>\n",
       "      <th></th>\n",
       "      <th></th>\n",
       "      <th></th>\n",
       "      <th></th>\n",
       "      <th></th>\n",
       "    </tr>\n",
       "  </thead>\n",
       "  <tbody>\n",
       "    <tr>\n",
       "      <th>S3</th>\n",
       "      <td>Rinky Arora</td>\n",
       "      <td>I</td>\n",
       "      <td>04-07-2021</td>\n",
       "      <td>90.0</td>\n",
       "      <td>C112</td>\n",
       "      <td>Female</td>\n",
       "    </tr>\n",
       "    <tr>\n",
       "      <th>S7</th>\n",
       "      <td>Preeti Sharma</td>\n",
       "      <td>IV</td>\n",
       "      <td>03-08-2021</td>\n",
       "      <td>89.0</td>\n",
       "      <td>C112</td>\n",
       "      <td>Female</td>\n",
       "    </tr>\n",
       "  </tbody>\n",
       "</table>\n",
       "</div>"
      ],
      "text/plain": [
       "              Name List     DateAdm  Marks CourseCode  Gender\n",
       "Sid                                                          \n",
       "S3     Rinky Arora    I  04-07-2021   90.0       C112  Female\n",
       "S7   Preeti Sharma   IV  03-08-2021   89.0       C112  Female"
      ]
     },
     "execution_count": 6,
     "metadata": {},
     "output_type": "execute_result"
    }
   ],
   "source": [
    "# c\n",
    "df1 = df[df['Gender'] == 'Female']\n",
    "df1 = df1[df1['CourseCode'] == 'C112']\n",
    "df1\n"
   ]
  },
  {
   "cell_type": "code",
   "execution_count": 7,
   "metadata": {},
   "outputs": [
    {
     "data": {
      "text/plain": [
       "89.5"
      ]
     },
     "execution_count": 7,
     "metadata": {},
     "output_type": "execute_result"
    }
   ],
   "source": [
    "df1['Marks'].mean()\n"
   ]
  },
  {
   "cell_type": "code",
   "execution_count": null,
   "metadata": {},
   "outputs": [],
   "source": []
  },
  {
   "cell_type": "markdown",
   "metadata": {},
   "source": [
    "## **Question6**\n",
    "\n",
    "1. Give Pandas statements to create two data series of random floating-point numbers where the first data series has a date time index of all second Tuesdays of every month of 2021 and the second data series has a date time index of 20 continuous dates ending at 31/01/2021.\n",
    "2. What is resampling? Write python code depicting the usage of resample method.\n",
    "3. Create a Data Frame DS with two columns ‘Dates’ and ‘Sale’ containing all dates of January 2021 and 31 random integers between 500 and 1000 respectively. Add another column‘MovingAvg’ to DS containing the roll in gave rage of 5 consecutive values in the ‘Sale’ column.Plots imple line plots between ‘Dates’ and ‘Sale’ as well as ‘Dates’ and ‘Moving Avg’.Explain the utility of the rolling method with respect to these plots.\n"
   ]
  },
  {
   "cell_type": "code",
   "execution_count": 8,
   "metadata": {},
   "outputs": [
    {
     "data": {
      "text/plain": [
       "2021-01-12    0.081145\n",
       "2021-02-09   -0.632687\n",
       "2021-03-09    0.882286\n",
       "2021-04-13    1.023522\n",
       "2021-05-11   -1.213771\n",
       "2021-06-08   -0.592068\n",
       "2021-07-13   -0.476626\n",
       "2021-08-10   -0.693100\n",
       "2021-09-14    0.282267\n",
       "2021-10-12   -0.702353\n",
       "2021-11-09   -0.045736\n",
       "2021-12-14    0.707680\n",
       "Freq: WOM-2TUE, dtype: float64"
      ]
     },
     "execution_count": 8,
     "metadata": {},
     "output_type": "execute_result"
    }
   ],
   "source": [
    "# a\n",
    "range1 = pd.date_range('2021-01-01', '2021-12-31', freq='WOM-2TUE')\n",
    "timeseries1 = pd.Series(np.random.randn(len(range1)), index=range1)\n",
    "timeseries1\n"
   ]
  },
  {
   "cell_type": "code",
   "execution_count": 9,
   "metadata": {},
   "outputs": [
    {
     "data": {
      "text/plain": [
       "2021-01-12   -0.854541\n",
       "2021-01-13   -2.072358\n",
       "2021-01-14    0.981249\n",
       "2021-01-15   -1.845908\n",
       "2021-01-16   -0.705515\n",
       "2021-01-17    0.073570\n",
       "2021-01-18    0.068948\n",
       "2021-01-19    0.593575\n",
       "2021-01-20   -1.179539\n",
       "2021-01-21   -0.714159\n",
       "2021-01-22   -0.138024\n",
       "2021-01-23    0.159339\n",
       "2021-01-24   -1.233296\n",
       "2021-01-25   -0.296943\n",
       "2021-01-26    0.550914\n",
       "2021-01-27   -1.228312\n",
       "2021-01-28    0.591443\n",
       "2021-01-29   -0.151192\n",
       "2021-01-30    0.985033\n",
       "2021-01-31   -0.768197\n",
       "Freq: D, dtype: float64"
      ]
     },
     "execution_count": 9,
     "metadata": {},
     "output_type": "execute_result"
    }
   ],
   "source": [
    "range2 = pd.date_range(end='2021-01-31', periods=20)\n",
    "timeseries2 = pd.Series(np.random.randn(20), index=range2)\n",
    "timeseries2\n"
   ]
  },
  {
   "cell_type": "code",
   "execution_count": 10,
   "metadata": {},
   "outputs": [
    {
     "data": {
      "text/plain": [
       "2022-01-01    29\n",
       "2022-01-02     7\n",
       "2022-01-03    58\n",
       "2022-01-04    59\n",
       "2022-01-05    28\n",
       "2022-01-06    38\n",
       "2022-01-07     6\n",
       "2022-01-08    33\n",
       "2022-01-09    77\n",
       "2022-01-10    61\n",
       "2022-01-11    94\n",
       "2022-01-12    22\n",
       "2022-01-13    55\n",
       "2022-01-14     9\n",
       "2022-01-15     8\n",
       "2022-01-16    85\n",
       "2022-01-17    14\n",
       "2022-01-18    30\n",
       "2022-01-19    35\n",
       "2022-01-20    13\n",
       "Freq: D, dtype: int32"
      ]
     },
     "execution_count": 10,
     "metadata": {},
     "output_type": "execute_result"
    }
   ],
   "source": [
    "# b\n",
    "ts = pd.Series(np.random.randint(100, size=20),\n",
    "               index=pd.date_range('2022-01-01', periods=20))\n",
    "ts"
   ]
  },
  {
   "cell_type": "code",
   "execution_count": 11,
   "metadata": {},
   "outputs": [
    {
     "data": {
      "text/plain": [
       "2022-01-01    181\n",
       "2022-01-06    215\n",
       "2022-01-11    188\n",
       "2022-01-16    177\n",
       "Freq: 5D, dtype: int32"
      ]
     },
     "execution_count": 11,
     "metadata": {},
     "output_type": "execute_result"
    }
   ],
   "source": [
    "ts.resample('5D').sum()\n"
   ]
  },
  {
   "cell_type": "code",
   "execution_count": 12,
   "metadata": {},
   "outputs": [
    {
     "data": {
      "text/plain": [
       "2022-01-06    181\n",
       "2022-01-11    215\n",
       "2022-01-16    188\n",
       "2022-01-21    177\n",
       "Freq: 5D, dtype: int32"
      ]
     },
     "execution_count": 12,
     "metadata": {},
     "output_type": "execute_result"
    }
   ],
   "source": [
    "ts.resample('5d', label='right', closed='left').sum()"
   ]
  },
  {
   "cell_type": "code",
   "execution_count": 13,
   "metadata": {},
   "outputs": [
    {
     "data": {
      "text/html": [
       "<div>\n",
       "<style scoped>\n",
       "    .dataframe tbody tr th:only-of-type {\n",
       "        vertical-align: middle;\n",
       "    }\n",
       "\n",
       "    .dataframe tbody tr th {\n",
       "        vertical-align: top;\n",
       "    }\n",
       "\n",
       "    .dataframe thead th {\n",
       "        text-align: right;\n",
       "    }\n",
       "</style>\n",
       "<table border=\"1\" class=\"dataframe\">\n",
       "  <thead>\n",
       "    <tr style=\"text-align: right;\">\n",
       "      <th></th>\n",
       "      <th>Dates</th>\n",
       "      <th>Sale</th>\n",
       "    </tr>\n",
       "  </thead>\n",
       "  <tbody>\n",
       "    <tr>\n",
       "      <th>0</th>\n",
       "      <td>2021-01-01</td>\n",
       "      <td>588</td>\n",
       "    </tr>\n",
       "    <tr>\n",
       "      <th>1</th>\n",
       "      <td>2021-01-02</td>\n",
       "      <td>501</td>\n",
       "    </tr>\n",
       "    <tr>\n",
       "      <th>2</th>\n",
       "      <td>2021-01-03</td>\n",
       "      <td>582</td>\n",
       "    </tr>\n",
       "    <tr>\n",
       "      <th>3</th>\n",
       "      <td>2021-01-04</td>\n",
       "      <td>734</td>\n",
       "    </tr>\n",
       "    <tr>\n",
       "      <th>4</th>\n",
       "      <td>2021-01-05</td>\n",
       "      <td>565</td>\n",
       "    </tr>\n",
       "  </tbody>\n",
       "</table>\n",
       "</div>"
      ],
      "text/plain": [
       "       Dates  Sale\n",
       "0 2021-01-01   588\n",
       "1 2021-01-02   501\n",
       "2 2021-01-03   582\n",
       "3 2021-01-04   734\n",
       "4 2021-01-05   565"
      ]
     },
     "execution_count": 13,
     "metadata": {},
     "output_type": "execute_result"
    }
   ],
   "source": [
    "# c\n",
    "df = pd.DataFrame({'Dates': pd.date_range('2021-01-01', '2021-01-31'),\n",
    "                   'Sale': np.random.randint(500, 1000, 31)})\n",
    "df.head()\n"
   ]
  },
  {
   "cell_type": "code",
   "execution_count": 14,
   "metadata": {},
   "outputs": [
    {
     "data": {
      "text/html": [
       "<div>\n",
       "<style scoped>\n",
       "    .dataframe tbody tr th:only-of-type {\n",
       "        vertical-align: middle;\n",
       "    }\n",
       "\n",
       "    .dataframe tbody tr th {\n",
       "        vertical-align: top;\n",
       "    }\n",
       "\n",
       "    .dataframe thead th {\n",
       "        text-align: right;\n",
       "    }\n",
       "</style>\n",
       "<table border=\"1\" class=\"dataframe\">\n",
       "  <thead>\n",
       "    <tr style=\"text-align: right;\">\n",
       "      <th></th>\n",
       "      <th>Dates</th>\n",
       "      <th>Sale</th>\n",
       "      <th>MovingAvg</th>\n",
       "    </tr>\n",
       "  </thead>\n",
       "  <tbody>\n",
       "    <tr>\n",
       "      <th>0</th>\n",
       "      <td>2021-01-01</td>\n",
       "      <td>588</td>\n",
       "      <td>NaN</td>\n",
       "    </tr>\n",
       "    <tr>\n",
       "      <th>1</th>\n",
       "      <td>2021-01-02</td>\n",
       "      <td>501</td>\n",
       "      <td>NaN</td>\n",
       "    </tr>\n",
       "    <tr>\n",
       "      <th>2</th>\n",
       "      <td>2021-01-03</td>\n",
       "      <td>582</td>\n",
       "      <td>NaN</td>\n",
       "    </tr>\n",
       "    <tr>\n",
       "      <th>3</th>\n",
       "      <td>2021-01-04</td>\n",
       "      <td>734</td>\n",
       "      <td>NaN</td>\n",
       "    </tr>\n",
       "    <tr>\n",
       "      <th>4</th>\n",
       "      <td>2021-01-05</td>\n",
       "      <td>565</td>\n",
       "      <td>594.0</td>\n",
       "    </tr>\n",
       "  </tbody>\n",
       "</table>\n",
       "</div>"
      ],
      "text/plain": [
       "       Dates  Sale  MovingAvg\n",
       "0 2021-01-01   588        NaN\n",
       "1 2021-01-02   501        NaN\n",
       "2 2021-01-03   582        NaN\n",
       "3 2021-01-04   734        NaN\n",
       "4 2021-01-05   565      594.0"
      ]
     },
     "execution_count": 14,
     "metadata": {},
     "output_type": "execute_result"
    }
   ],
   "source": [
    "df['MovingAvg'] = df['Sale'].rolling(5).mean()\n",
    "df.head()"
   ]
  },
  {
   "cell_type": "code",
   "execution_count": 15,
   "metadata": {},
   "outputs": [
    {
     "data": {
      "text/plain": [
       "<AxesSubplot: xlabel='Dates', ylabel='Sale'>"
      ]
     },
     "execution_count": 15,
     "metadata": {},
     "output_type": "execute_result"
    },
    {
     "data": {
      "image/png": "[encoded data removed]",
      "text/plain": [
       "<Figure size 432x288 with 1 Axes>"
      ]
     },
     "metadata": {
      "needs_background": "light"
     },
     "output_type": "display_data"
    }
   ],
   "source": [
    "df.plot(x='Dates', y=['Sale', 'MovingAvg'], xlabel='Dates', ylabel='Sale')"
   ]
  }
 ],
 "metadata": {
  "kernelspec": {
   "display_name": "Python 3.10.5 64-bit",
   "language": "python",
   "name": "python3"
  },
  "language_info": {
   "codemirror_mode": {
    "name": "ipython",
    "version": 3
   },
   "file_extension": ".py",
   "mimetype": "text/x-python",
   "name": "python",
   "nbconvert_exporter": "python",
   "pygments_lexer": "ipython3",
   "version": "3.10.5"
  },
  "orig_nbformat": 4,
  "vscode": {
   "interpreter": {
    "hash": "369f2c481f4da34e4445cda3fffd2e751bd1c4d706f27375911949ba6bb62e1c"
   }
  }
 },
 "nbformat": 4,
 "nbformat_minor": 2
}
