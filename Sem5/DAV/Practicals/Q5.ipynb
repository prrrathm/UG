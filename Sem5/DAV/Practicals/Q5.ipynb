{
 "cells": [
  {
   "cell_type": "code",
   "execution_count": null,
   "metadata": {},
   "outputs": [],
   "source": []
  },
  {
   "cell_type": "markdown",
   "metadata": {},
   "source": [
    "Create a dataframe having atleast 3 columns and 50 rows to store numeric data generated using a random function. Replace 10% of the values by null values whose index positions are generated using random function.\n",
    "\n",
    "Do the following :\n",
    "\n",
    "1. Identify and count missing values in dataframe.\n",
    "2. Drop the column having more than 5 null values\n",
    "3. Identify the row label having maximum of the sum of all values in a row and drop the row"
   ]
  }
 ],
 "metadata": {
  "language_info": {
   "name": "python"
  },
  "orig_nbformat": 4
 },
 "nbformat": 4,
 "nbformat_minor": 2
}
