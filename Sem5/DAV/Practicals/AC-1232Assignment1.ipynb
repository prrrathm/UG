{
 "cells": [
  {
   "cell_type": "markdown",
   "metadata": {},
   "source": [
    "# **Assignment 1**\n",
    "\n",
    "| **Name** |Pratham Sharma|\n",
    "|-------- | ------ |\n",
    "|**Roll No** | AC-1232 |\n",
    "| **Batch** | 2023 |\n",
    "| **Submitted to** | Prof. Sharanjit Kaur|\n"
   ]
  },
  {
   "cell_type": "markdown",
   "metadata": {},
   "source": [
    "## **Question - 1**\n",
    "\n",
    "Given below is a dictionary having two keys ‘Boys’ and ‘Girls’ and having two lists of heights of five Boys and Five Girls respectively as values associated with these keysOriginal dictionary of lists :\n",
    "\n",
    "{'Boys': [72, 68, 70, 69, 74], 'Girls': [63, 65, 69, 62, 61]}\n",
    "\n",
    "From the given dictionary of lists create the following list of dictionaries : \n",
    "\n",
    "[{'Boys': 72, 'Girls': 63}, {'Boys': 68, 'Girls': 65}, {'Boys': 70, 'Girls': 69}, {'Boys': 69, 'Girls': 62}, {‘Boys’:74,‘Girls’:61]"
   ]
  },
  {
   "cell_type": "code",
   "execution_count": 143,
   "metadata": {},
   "outputs": [
    {
     "data": {
      "text/plain": [
       "[{'Boys': 72, 'Girls': 63},\n",
       " {'Boys': 68, 'Girls': 65},\n",
       " {'Boys': 70, 'Girls': 69},\n",
       " {'Boys': 69, 'Girls': 62},\n",
       " {'Boys': 74, 'Girls': 61}]"
      ]
     },
     "execution_count": 143,
     "metadata": {},
     "output_type": "execute_result"
    }
   ],
   "source": [
    "heights = {'Boys': [72, 68, 70, 69, 74], 'Girls': [63, 65, 69, 62, 61]}\n",
    "[{'Boys':x,'Girls':y} for x, y in zip(heights['Boys'], heights['Girls'])] # converting a dictionary of lists to list of dictionaries"
   ]
  },
  {
   "cell_type": "markdown",
   "metadata": {},
   "source": [
    "## **Question - 2**\n",
    "Given are three lists where L1 has names of n students, L2 has marks and L3 has hobbies of n students.\n",
    "Using three lists, create the following dictionary with hobbies as keys and (names,marks) as values.\n",
    "In case more than one student has same hobby then values must be appended for the same key instead of overwriting. E.g.\n",
    "\n",
    "L1 = ['A','B','C'], L2=[100,40,50], L3=['painting','music','painting']\n",
    "then output should be : \n",
    "\n",
    "dict1 = {painting:(('A',100),('C',50)), 'music': ('B',40)}"
   ]
  },
  {
   "cell_type": "code",
   "execution_count": 2,
   "metadata": {},
   "outputs": [
    {
     "data": {
      "text/plain": [
       "{'painting': (('A', 100), ('C', 50)), 'music': (('B', 40),)}"
      ]
     },
     "execution_count": 2,
     "metadata": {},
     "output_type": "execute_result"
    }
   ],
   "source": [
    "L1 = ['A','B','C'] \n",
    "L2 = [100,40,50]\n",
    "L3 = ['painting','music','painting']\n",
    "\n",
    "{m3: tuple((l1,l2) for l1,l2,l3 in zip(L1,L2,L3) if l3==m3) for m3 in L3} # dictionary with L3 as key and L1,L2 as values"
   ]
  },
  {
   "cell_type": "markdown",
   "metadata": {},
   "source": [
    "\n",
    "## **Question - 3**\n",
    "\n",
    "Write  two  lambda functions \n",
    "\n",
    "1. One to  arrange a list of names on the last letter of the name i.e names = ['axc','bxbb','xxb','zzxy','zzc'] then new sorted list on last letter  is ['bxbb', 'xxb', 'axc', 'zzc', 'zzxy']\n",
    "2. Second lambda function arranges list on the length of names and store results in dictionary with length as key and value as names"
   ]
  },
  {
   "cell_type": "code",
   "execution_count": 38,
   "metadata": {},
   "outputs": [
    {
     "data": {
      "text/plain": [
       "['bxbb', 'xxb', 'axc', 'zzc', 'zzxy']"
      ]
     },
     "execution_count": 38,
     "metadata": {},
     "output_type": "execute_result"
    }
   ],
   "source": [
    "names1 = ['axc','bxbb','xxb','zzxy','zzc']\n",
    "sorted(names1, key=lambda x: x[-1]) # sorting the list on the basis of last element"
   ]
  },
  {
   "cell_type": "code",
   "execution_count": 202,
   "metadata": {},
   "outputs": [
    {
     "data": {
      "text/plain": [
       "{'zc': 2, 'axc': 3, 'xxb': 3, 'bxbb': 4, 'azzxdy': 6}"
      ]
     },
     "execution_count": 202,
     "metadata": {},
     "output_type": "execute_result"
    }
   ],
   "source": [
    "names2 = ['axc','bxbb','xxb','azzxdy','zc']\n",
    "{x:len(x) for x in sorted(names2, key=lambda x:len(x))} # arranging list in dictionary with sorted elements & their length as key-value pair"
   ]
  },
  {
   "cell_type": "markdown",
   "metadata": {},
   "source": [
    "## **Question - 4**\n",
    "\n",
    "Write programs in Python using NumPy library to do the following : \n",
    "\n",
    "1. Compute the mean, standard deviation, and variance of a two dimensional random integer array along the second axis.\n",
    "2. Get the indices of the sorted elements of a given array.B= [56, 48, 22, 41, 78, 91, 24, 46, 8, 33]\n",
    "3. Create a 2-dimensional array of size m x n integer elements, also print the shape, type and datatype of the array and then reshape it into nx m array, n and m are user inputs given at the run time.\n",
    "4. Test whether the elements of a given array are zero, non-zero and NaN. Record the indices ofthese elements in three separate arrays."
   ]
  },
  {
   "cell_type": "code",
   "execution_count": 3,
   "metadata": {},
   "outputs": [],
   "source": [
    "import numpy as np"
   ]
  },
  {
   "cell_type": "code",
   "execution_count": 208,
   "metadata": {},
   "outputs": [
    {
     "name": "stdout",
     "output_type": "stream",
     "text": [
      "Array => \n",
      " [[7 1 7 3]\n",
      " [3 6 3 8]\n",
      " [7 7 4 5]\n",
      " [8 6 2 5]] \n",
      "\n",
      "1. Mean =>  [4.5  5.   5.75 5.25] \n",
      "2. Standard Deviation =>  [2.59807621 2.12132034 1.29903811 2.16506351] \n",
      "3. Variance =>  [6.75   4.5    1.6875 4.6875]\n"
     ]
    }
   ],
   "source": [
    "A = np.random.randint(1,9,size=(4,4)) # generating random integrer array of size 4x4\n",
    "print(\n",
    "\t'Array => \\n', A, '\\n\\n' # printing array\n",
    "\t'1. Mean => ', np.mean(A, axis=1), '\\n' # printing mean of array along the second axis\n",
    "\t'2. Standard Deviation => ', np.std(A, axis=1), '\\n' # printing Standard Deviation of array along second axis\n",
    "\t'3. Variance => ', np.var(A, axis=1) # printing variance of array along second axis\n",
    ")"
   ]
  },
  {
   "cell_type": "code",
   "execution_count": 33,
   "metadata": {},
   "outputs": [
    {
     "name": "stdout",
     "output_type": "stream",
     "text": [
      "[8 2 6 9 3 7 1 0 4 5]\n"
     ]
    }
   ],
   "source": [
    "B = np.array([56, 48, 22, 41, 78, 91, 24, 46, 8, 33])\n",
    "print(np.argsort(B, axis=-1)) # printing indices of sorted elements of array"
   ]
  },
  {
   "cell_type": "code",
   "execution_count": 28,
   "metadata": {},
   "outputs": [
    {
     "name": "stdout",
     "output_type": "stream",
     "text": [
      "Array => \n",
      " [[8 6 1 5]\n",
      " [5 6 8 7]\n",
      " [2 3 8 1]] \n",
      "\n",
      "1. Shape of Array => (3, 4) \n",
      "2. Type of Array => <class 'numpy.ndarray'> \n",
      "3. Datatype of Array => <class 'memoryview'> \n",
      "4. Reshaped Array =>\n",
      " [[8 6 1]\n",
      " [5 5 6]\n",
      " [8 7 2]\n",
      " [3 8 1]]\n"
     ]
    }
   ],
   "source": [
    "m = int(input('Enter the value of m => ')) \n",
    "n = int(input('Enter the value of n => '))\n",
    "C = np.random.randint(1,9, size=(m,n)) # generating a random array with size mxn\n",
    "\n",
    "print(\n",
    "\t'Array => \\n', C, '\\n\\n' # print array\n",
    "\t'1. Shape of Array =>', C.shape, '\\n' # print shape of array\n",
    "\t'2. Type of Array =>', type(C), '\\n' # print type of array\n",
    "\t'3. Datatype of Array =>', type(C.data), '\\n' # print datatype of array\n",
    "\t'4. Reshaped Array =>\\n', C.reshape(n,m) # reshape array with new shape (n,m)\n",
    ")"
   ]
  },
  {
   "cell_type": "code",
   "execution_count": 136,
   "metadata": {},
   "outputs": [
    {
     "name": "stdout",
     "output_type": "stream",
     "text": [
      "Array =>  [0 2 0 None 3 0 42 1 None 3 4 0] \n",
      "No of Zeroes => [ 0  2  5 11] \n",
      "No of Non Zeroes => [ 1  4  6  7  9 10] \n",
      "No of None =>  [3 8]\n"
     ]
    }
   ],
   "source": [
    "D = np.array([0, 2, 0, None, 3, 0, 42, 1, None, 3, 4, 0]) # sample array with 0, non-zero and NaN values \n",
    "print(\n",
    "\t'Array => ',D,'\\n' #print array\n",
    "\t'No of Zeroes =>', np.where(D==0)[0],'\\n' # print indices where elements are 0\n",
    "\t'No of Non Zeroes =>', np.where((D!=0) & (D!=None))[0],'\\n' # print indices where elements are not 0\n",
    "\t'No of None => ', np.where(D==None)[0] # print indices where elements are NaN\n",
    ")\n"
   ]
  },
  {
   "cell_type": "markdown",
   "metadata": {},
   "source": [
    "## **Question - 5**\n",
    "\n",
    "Generate a 2D array having values from 1 to 100  of shape (4,5).\n",
    "\n",
    "1. Multiply all elements that are greater than 50 by 2\n",
    "2. Extract 2x2  lower-right matrix from the given array and find its largest element   "
   ]
  },
  {
   "cell_type": "code",
   "execution_count": 4,
   "metadata": {},
   "outputs": [
    {
     "data": {
      "text/plain": [
       "array([[43, 25, 68, 90, 52],\n",
       "       [84, 22, 36, 53, 63],\n",
       "       [55, 90,  9, 91,  6],\n",
       "       [31, 62, 28, 77, 41]])"
      ]
     },
     "execution_count": 4,
     "metadata": {},
     "output_type": "execute_result"
    }
   ],
   "source": [
    "E = np.random.randint(1,100,(4,5)) #generating random numpy array of shape (4,5) & range(1,100)\n",
    "E"
   ]
  },
  {
   "cell_type": "code",
   "execution_count": 5,
   "metadata": {},
   "outputs": [
    {
     "data": {
      "text/plain": [
       "array([[ 43,  25, 136, 180, 104],\n",
       "       [168,  22,  36, 106, 126],\n",
       "       [110, 180,   9, 182,   6],\n",
       "       [ 31, 124,  28, 154,  41]])"
      ]
     },
     "execution_count": 5,
     "metadata": {},
     "output_type": "execute_result"
    }
   ],
   "source": [
    "E[E>50] *= 2 # multiplying elements greater than 50 by 2\n",
    "E #output"
   ]
  },
  {
   "cell_type": "code",
   "execution_count": 18,
   "metadata": {},
   "outputs": [
    {
     "data": {
      "text/plain": [
       "182"
      ]
     },
     "execution_count": 18,
     "metadata": {},
     "output_type": "execute_result"
    }
   ],
   "source": [
    "E[-2:,-2:].max()"
   ]
  },
  {
   "cell_type": "code",
   "execution_count": null,
   "metadata": {},
   "outputs": [],
   "source": []
  }
 ],
 "metadata": {
  "kernelspec": {
   "display_name": "Python 3.10.5 64-bit",
   "language": "python",
   "name": "python3"
  },
  "language_info": {
   "codemirror_mode": {
    "name": "ipython",
    "version": 3
   },
   "file_extension": ".py",
   "mimetype": "text/x-python",
   "name": "python",
   "nbconvert_exporter": "python",
   "pygments_lexer": "ipython3",
   "version": "3.10.5"
  },
  "orig_nbformat": 4,
  "vscode": {
   "interpreter": {
    "hash": "369f2c481f4da34e4445cda3fffd2e751bd1c4d706f27375911949ba6bb62e1c"
   }
  }
 },
 "nbformat": 4,
 "nbformat_minor": 2
}
