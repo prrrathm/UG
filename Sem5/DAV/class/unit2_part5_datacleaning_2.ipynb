{
  "cells": [
    {
      "cell_type": "markdown",
      "metadata": {
        "id": "Bc_wyQXjqoJ9"
      },
      "source": [
        "# data cleaning part-II"
      ]
    },
    {
      "cell_type": "code",
      "execution_count": 1,
      "metadata": {
        "id": "R_tAUHrLqlq-"
      },
      "outputs": [],
      "source": [
        "import pandas as pd \n",
        "import numpy as np"
      ]
    },
    {
      "cell_type": "markdown",
      "metadata": {
        "id": "Di0dJ8os1ASW"
      },
      "source": [
        "# to upload files in content folder in colab\n",
        "from google.colab import files\n",
        "uploaded = files.upload()"
      ]
    },
    {
      "cell_type": "code",
      "execution_count": 2,
      "metadata": {
        "colab": {
          "base_uri": "https://localhost:8080/",
          "height": 327
        },
        "id": "6I6CKuXYqZh1",
        "outputId": "45d20cbb-4490-462a-b7d8-00605fd29e7b"
      },
      "outputs": [
        {
          "data": {
            "text/html": [
              "<div>\n",
              "<style scoped>\n",
              "    .dataframe tbody tr th:only-of-type {\n",
              "        vertical-align: middle;\n",
              "    }\n",
              "\n",
              "    .dataframe tbody tr th {\n",
              "        vertical-align: top;\n",
              "    }\n",
              "\n",
              "    .dataframe thead th {\n",
              "        text-align: right;\n",
              "    }\n",
              "</style>\n",
              "<table border=\"1\" class=\"dataframe\">\n",
              "  <thead>\n",
              "    <tr style=\"text-align: right;\">\n",
              "      <th></th>\n",
              "      <th>Season</th>\n",
              "      <th>Weather</th>\n",
              "      <th>Tourist</th>\n",
              "      <th>Labels</th>\n",
              "    </tr>\n",
              "  </thead>\n",
              "  <tbody>\n",
              "    <tr>\n",
              "      <th>0</th>\n",
              "      <td>Summer</td>\n",
              "      <td>Pleasant</td>\n",
              "      <td>like</td>\n",
              "      <td>Yes</td>\n",
              "    </tr>\n",
              "    <tr>\n",
              "      <th>1</th>\n",
              "      <td>Summer</td>\n",
              "      <td>Hot</td>\n",
              "      <td>dislike</td>\n",
              "      <td>Yes</td>\n",
              "    </tr>\n",
              "    <tr>\n",
              "      <th>2</th>\n",
              "      <td>Summer</td>\n",
              "      <td>Pleasant</td>\n",
              "      <td>like</td>\n",
              "      <td>Yes</td>\n",
              "    </tr>\n",
              "    <tr>\n",
              "      <th>3</th>\n",
              "      <td>winter</td>\n",
              "      <td>Harsh</td>\n",
              "      <td>like</td>\n",
              "      <td>Yes</td>\n",
              "    </tr>\n",
              "    <tr>\n",
              "      <th>4</th>\n",
              "      <td>winter</td>\n",
              "      <td>Pleasant</td>\n",
              "      <td>like</td>\n",
              "      <td>No</td>\n",
              "    </tr>\n",
              "    <tr>\n",
              "      <th>5</th>\n",
              "      <td>autumn</td>\n",
              "      <td>Dry</td>\n",
              "      <td>dislike</td>\n",
              "      <td>Yes</td>\n",
              "    </tr>\n",
              "    <tr>\n",
              "      <th>6</th>\n",
              "      <td>autumn</td>\n",
              "      <td>Pleasant</td>\n",
              "      <td>dislike</td>\n",
              "      <td>Yes</td>\n",
              "    </tr>\n",
              "    <tr>\n",
              "      <th>7</th>\n",
              "      <td>autumn</td>\n",
              "      <td>Harsh</td>\n",
              "      <td>NaN</td>\n",
              "      <td>No</td>\n",
              "    </tr>\n",
              "    <tr>\n",
              "      <th>8</th>\n",
              "      <td>Spring</td>\n",
              "      <td>Pleasant</td>\n",
              "      <td>like</td>\n",
              "      <td>NaN</td>\n",
              "    </tr>\n",
              "  </tbody>\n",
              "</table>\n",
              "</div>"
            ],
            "text/plain": [
              "   Season   Weather  Tourist Labels\n",
              "0  Summer  Pleasant     like    Yes\n",
              "1  Summer       Hot  dislike    Yes\n",
              "2  Summer  Pleasant     like    Yes\n",
              "3  winter     Harsh     like    Yes\n",
              "4  winter  Pleasant     like     No\n",
              "5  autumn       Dry  dislike    Yes\n",
              "6  autumn  Pleasant  dislike    Yes\n",
              "7  autumn     Harsh      NaN     No\n",
              "8  Spring  Pleasant     like    NaN"
            ]
          },
          "execution_count": 2,
          "metadata": {},
          "output_type": "execute_result"
        }
      ],
      "source": [
        "DF=pd.read_csv('weather.csv',na_values=np.nan)\n",
        "DF"
      ]
    },
    {
      "cell_type": "code",
      "execution_count": 5,
      "metadata": {
        "id": "V8CdiaIitD_z"
      },
      "outputs": [],
      "source": [
        "DF['cost']=DF['Season'].map(lambda x: 100 if x =='Summer' else (150 if x=='winter' else 200 ))"
      ]
    },
    {
      "cell_type": "code",
      "execution_count": 110,
      "metadata": {
        "colab": {
          "base_uri": "https://localhost:8080/",
          "height": 327
        },
        "id": "ihOvTc1Ft5RZ",
        "outputId": "630ca47f-0c20-4343-b3cd-2a0faa04b20d"
      },
      "outputs": [
        {
          "data": {
            "text/html": [
              "<div>\n",
              "<style scoped>\n",
              "    .dataframe tbody tr th:only-of-type {\n",
              "        vertical-align: middle;\n",
              "    }\n",
              "\n",
              "    .dataframe tbody tr th {\n",
              "        vertical-align: top;\n",
              "    }\n",
              "\n",
              "    .dataframe thead th {\n",
              "        text-align: right;\n",
              "    }\n",
              "</style>\n",
              "<table border=\"1\" class=\"dataframe\">\n",
              "  <thead>\n",
              "    <tr style=\"text-align: right;\">\n",
              "      <th></th>\n",
              "      <th>Season</th>\n",
              "      <th>Weather</th>\n",
              "      <th>Tourist</th>\n",
              "      <th>Labels</th>\n",
              "      <th>cost</th>\n",
              "    </tr>\n",
              "  </thead>\n",
              "  <tbody>\n",
              "    <tr>\n",
              "      <th>0</th>\n",
              "      <td>Summer</td>\n",
              "      <td>Pleasant</td>\n",
              "      <td>like</td>\n",
              "      <td>Yes</td>\n",
              "      <td>100</td>\n",
              "    </tr>\n",
              "    <tr>\n",
              "      <th>1</th>\n",
              "      <td>Summer</td>\n",
              "      <td>Hot</td>\n",
              "      <td>dislike</td>\n",
              "      <td>Yes</td>\n",
              "      <td>100</td>\n",
              "    </tr>\n",
              "    <tr>\n",
              "      <th>2</th>\n",
              "      <td>Summer</td>\n",
              "      <td>Pleasant</td>\n",
              "      <td>like</td>\n",
              "      <td>Yes</td>\n",
              "      <td>100</td>\n",
              "    </tr>\n",
              "    <tr>\n",
              "      <th>3</th>\n",
              "      <td>winter</td>\n",
              "      <td>Harsh</td>\n",
              "      <td>like</td>\n",
              "      <td>Yes</td>\n",
              "      <td>150</td>\n",
              "    </tr>\n",
              "    <tr>\n",
              "      <th>4</th>\n",
              "      <td>winter</td>\n",
              "      <td>Pleasant</td>\n",
              "      <td>like</td>\n",
              "      <td>No</td>\n",
              "      <td>150</td>\n",
              "    </tr>\n",
              "    <tr>\n",
              "      <th>5</th>\n",
              "      <td>autumn</td>\n",
              "      <td>Dry</td>\n",
              "      <td>dislike</td>\n",
              "      <td>Yes</td>\n",
              "      <td>200</td>\n",
              "    </tr>\n",
              "    <tr>\n",
              "      <th>6</th>\n",
              "      <td>autumn</td>\n",
              "      <td>Pleasant</td>\n",
              "      <td>dislike</td>\n",
              "      <td>Yes</td>\n",
              "      <td>200</td>\n",
              "    </tr>\n",
              "    <tr>\n",
              "      <th>7</th>\n",
              "      <td>autumn</td>\n",
              "      <td>Harsh</td>\n",
              "      <td>NaN</td>\n",
              "      <td>No</td>\n",
              "      <td>200</td>\n",
              "    </tr>\n",
              "    <tr>\n",
              "      <th>8</th>\n",
              "      <td>Spring</td>\n",
              "      <td>Pleasant</td>\n",
              "      <td>like</td>\n",
              "      <td>NaN</td>\n",
              "      <td>200</td>\n",
              "    </tr>\n",
              "  </tbody>\n",
              "</table>\n",
              "</div>"
            ],
            "text/plain": [
              "   Season   Weather  Tourist Labels  cost\n",
              "0  Summer  Pleasant     like    Yes   100\n",
              "1  Summer       Hot  dislike    Yes   100\n",
              "2  Summer  Pleasant     like    Yes   100\n",
              "3  winter     Harsh     like    Yes   150\n",
              "4  winter  Pleasant     like     No   150\n",
              "5  autumn       Dry  dislike    Yes   200\n",
              "6  autumn  Pleasant  dislike    Yes   200\n",
              "7  autumn     Harsh      NaN     No   200\n",
              "8  Spring  Pleasant     like    NaN   200"
            ]
          },
          "execution_count": 110,
          "metadata": {},
          "output_type": "execute_result"
        }
      ],
      "source": [
        "DF"
      ]
    },
    {
      "cell_type": "code",
      "execution_count": 152,
      "metadata": {
        "colab": {
          "base_uri": "https://localhost:8080/",
          "height": 327
        },
        "id": "Aq5eEUX9wWid",
        "outputId": "15da5158-1a47-452b-f7e1-a1ed5753036e"
      },
      "outputs": [
        {
          "data": {
            "text/html": [
              "<div>\n",
              "<style scoped>\n",
              "    .dataframe tbody tr th:only-of-type {\n",
              "        vertical-align: middle;\n",
              "    }\n",
              "\n",
              "    .dataframe tbody tr th {\n",
              "        vertical-align: top;\n",
              "    }\n",
              "\n",
              "    .dataframe thead th {\n",
              "        text-align: right;\n",
              "    }\n",
              "</style>\n",
              "<table border=\"1\" class=\"dataframe\">\n",
              "  <thead>\n",
              "    <tr style=\"text-align: right;\">\n",
              "      <th></th>\n",
              "      <th>Season</th>\n",
              "      <th>Weather</th>\n",
              "      <th>Tourist</th>\n",
              "      <th>Labels</th>\n",
              "      <th>cost</th>\n",
              "      <th>extra</th>\n",
              "    </tr>\n",
              "  </thead>\n",
              "  <tbody>\n",
              "    <tr>\n",
              "      <th>0</th>\n",
              "      <td>Summer</td>\n",
              "      <td>Pleasant</td>\n",
              "      <td>like</td>\n",
              "      <td>Yes</td>\n",
              "      <td>100</td>\n",
              "      <td>-0.370092</td>\n",
              "    </tr>\n",
              "    <tr>\n",
              "      <th>1</th>\n",
              "      <td>Summer</td>\n",
              "      <td>Hot</td>\n",
              "      <td>dislike</td>\n",
              "      <td>Yes</td>\n",
              "      <td>100</td>\n",
              "      <td>-1.311576</td>\n",
              "    </tr>\n",
              "    <tr>\n",
              "      <th>2</th>\n",
              "      <td>Summer</td>\n",
              "      <td>Pleasant</td>\n",
              "      <td>like</td>\n",
              "      <td>Yes</td>\n",
              "      <td>100</td>\n",
              "      <td>0.435747</td>\n",
              "    </tr>\n",
              "    <tr>\n",
              "      <th>3</th>\n",
              "      <td>winter</td>\n",
              "      <td>Harsh</td>\n",
              "      <td>like</td>\n",
              "      <td>Yes</td>\n",
              "      <td>150</td>\n",
              "      <td>0.710793</td>\n",
              "    </tr>\n",
              "    <tr>\n",
              "      <th>4</th>\n",
              "      <td>winter</td>\n",
              "      <td>Pleasant</td>\n",
              "      <td>like</td>\n",
              "      <td>No</td>\n",
              "      <td>150</td>\n",
              "      <td>-0.337188</td>\n",
              "    </tr>\n",
              "    <tr>\n",
              "      <th>5</th>\n",
              "      <td>autumn</td>\n",
              "      <td>Dry</td>\n",
              "      <td>dislike</td>\n",
              "      <td>Yes</td>\n",
              "      <td>200</td>\n",
              "      <td>-1.328733</td>\n",
              "    </tr>\n",
              "    <tr>\n",
              "      <th>6</th>\n",
              "      <td>autumn</td>\n",
              "      <td>Pleasant</td>\n",
              "      <td>dislike</td>\n",
              "      <td>Yes</td>\n",
              "      <td>200</td>\n",
              "      <td>0.740227</td>\n",
              "    </tr>\n",
              "    <tr>\n",
              "      <th>7</th>\n",
              "      <td>autumn</td>\n",
              "      <td>Harsh</td>\n",
              "      <td>NaN</td>\n",
              "      <td>No</td>\n",
              "      <td>200</td>\n",
              "      <td>1.379750</td>\n",
              "    </tr>\n",
              "    <tr>\n",
              "      <th>8</th>\n",
              "      <td>Spring</td>\n",
              "      <td>Pleasant</td>\n",
              "      <td>like</td>\n",
              "      <td>NaN</td>\n",
              "      <td>200</td>\n",
              "      <td>-0.209773</td>\n",
              "    </tr>\n",
              "  </tbody>\n",
              "</table>\n",
              "</div>"
            ],
            "text/plain": [
              "   Season   Weather  Tourist Labels  cost     extra\n",
              "0  Summer  Pleasant     like    Yes   100 -0.370092\n",
              "1  Summer       Hot  dislike    Yes   100 -1.311576\n",
              "2  Summer  Pleasant     like    Yes   100  0.435747\n",
              "3  winter     Harsh     like    Yes   150  0.710793\n",
              "4  winter  Pleasant     like     No   150 -0.337188\n",
              "5  autumn       Dry  dislike    Yes   200 -1.328733\n",
              "6  autumn  Pleasant  dislike    Yes   200  0.740227\n",
              "7  autumn     Harsh      NaN     No   200  1.379750\n",
              "8  Spring  Pleasant     like    NaN   200 -0.209773"
            ]
          },
          "execution_count": 152,
          "metadata": {},
          "output_type": "execute_result"
        }
      ],
      "source": [
        "DF['extra']=np.random.randn(len(DF))\n",
        "DF"
      ]
    },
    {
      "cell_type": "code",
      "execution_count": 15,
      "metadata": {
        "id": "Pdo1W9L9h2aV"
      },
      "outputs": [],
      "source": [
        "DF['extra']=np.random.randint(1,130,len(DF))"
      ]
    },
    {
      "cell_type": "code",
      "execution_count": 252,
      "metadata": {},
      "outputs": [
        {
          "data": {
            "text/html": [
              "<div>\n",
              "<style scoped>\n",
              "    .dataframe tbody tr th:only-of-type {\n",
              "        vertical-align: middle;\n",
              "    }\n",
              "\n",
              "    .dataframe tbody tr th {\n",
              "        vertical-align: top;\n",
              "    }\n",
              "\n",
              "    .dataframe thead th {\n",
              "        text-align: right;\n",
              "    }\n",
              "</style>\n",
              "<table border=\"1\" class=\"dataframe\">\n",
              "  <thead>\n",
              "    <tr style=\"text-align: right;\">\n",
              "      <th></th>\n",
              "      <th>Season</th>\n",
              "      <th>Weather</th>\n",
              "      <th>Tourist</th>\n",
              "      <th>Labels</th>\n",
              "      <th>cost</th>\n",
              "      <th>extra</th>\n",
              "    </tr>\n",
              "  </thead>\n",
              "  <tbody>\n",
              "    <tr>\n",
              "      <th>0</th>\n",
              "      <td>Summer</td>\n",
              "      <td>Pleasant</td>\n",
              "      <td>like</td>\n",
              "      <td>Yes</td>\n",
              "      <td>100</td>\n",
              "      <td>65</td>\n",
              "    </tr>\n",
              "    <tr>\n",
              "      <th>1</th>\n",
              "      <td>Summer</td>\n",
              "      <td>Hot</td>\n",
              "      <td>dislike</td>\n",
              "      <td>Yes</td>\n",
              "      <td>100</td>\n",
              "      <td>46</td>\n",
              "    </tr>\n",
              "    <tr>\n",
              "      <th>2</th>\n",
              "      <td>Summer</td>\n",
              "      <td>Pleasant</td>\n",
              "      <td>like</td>\n",
              "      <td>Yes</td>\n",
              "      <td>100</td>\n",
              "      <td>2</td>\n",
              "    </tr>\n",
              "    <tr>\n",
              "      <th>3</th>\n",
              "      <td>winter</td>\n",
              "      <td>Harsh</td>\n",
              "      <td>like</td>\n",
              "      <td>Yes</td>\n",
              "      <td>150</td>\n",
              "      <td>77</td>\n",
              "    </tr>\n",
              "    <tr>\n",
              "      <th>4</th>\n",
              "      <td>winter</td>\n",
              "      <td>Pleasant</td>\n",
              "      <td>like</td>\n",
              "      <td>No</td>\n",
              "      <td>150</td>\n",
              "      <td>55</td>\n",
              "    </tr>\n",
              "    <tr>\n",
              "      <th>5</th>\n",
              "      <td>autumn</td>\n",
              "      <td>Dry</td>\n",
              "      <td>dislike</td>\n",
              "      <td>Yes</td>\n",
              "      <td>200</td>\n",
              "      <td>97</td>\n",
              "    </tr>\n",
              "    <tr>\n",
              "      <th>6</th>\n",
              "      <td>autumn</td>\n",
              "      <td>Pleasant</td>\n",
              "      <td>dislike</td>\n",
              "      <td>Yes</td>\n",
              "      <td>200</td>\n",
              "      <td>39</td>\n",
              "    </tr>\n",
              "    <tr>\n",
              "      <th>7</th>\n",
              "      <td>autumn</td>\n",
              "      <td>Harsh</td>\n",
              "      <td>NaN</td>\n",
              "      <td>No</td>\n",
              "      <td>200</td>\n",
              "      <td>50</td>\n",
              "    </tr>\n",
              "    <tr>\n",
              "      <th>8</th>\n",
              "      <td>Spring</td>\n",
              "      <td>Pleasant</td>\n",
              "      <td>like</td>\n",
              "      <td>NaN</td>\n",
              "      <td>200</td>\n",
              "      <td>1</td>\n",
              "    </tr>\n",
              "  </tbody>\n",
              "</table>\n",
              "</div>"
            ],
            "text/plain": [
              "   Season   Weather  Tourist Labels  cost  extra\n",
              "0  Summer  Pleasant     like    Yes   100     65\n",
              "1  Summer       Hot  dislike    Yes   100     46\n",
              "2  Summer  Pleasant     like    Yes   100      2\n",
              "3  winter     Harsh     like    Yes   150     77\n",
              "4  winter  Pleasant     like     No   150     55\n",
              "5  autumn       Dry  dislike    Yes   200     97\n",
              "6  autumn  Pleasant  dislike    Yes   200     39\n",
              "7  autumn     Harsh      NaN     No   200     50\n",
              "8  Spring  Pleasant     like    NaN   200      1"
            ]
          },
          "execution_count": 252,
          "metadata": {},
          "output_type": "execute_result"
        }
      ],
      "source": [
        "DF"
      ]
    },
    {
      "cell_type": "markdown",
      "metadata": {},
      "source": [
        "## to get help"
      ]
    },
    {
      "cell_type": "code",
      "execution_count": 12,
      "metadata": {
        "id": "6jLiNpVBwLZu"
      },
      "outputs": [
        {
          "name": "stdout",
          "output_type": "stream",
          "text": [
            "\u001b[1;31mDocstring:\u001b[0m\n",
            "randint(low, high=None, size=None, dtype=int)\n",
            "\n",
            "Return random integers from `low` (inclusive) to `high` (exclusive).\n",
            "\n",
            "Return random integers from the \"discrete uniform\" distribution of\n",
            "the specified dtype in the \"half-open\" interval [`low`, `high`). If\n",
            "`high` is None (the default), then results are from [0, `low`).\n",
            "\n",
            ".. note::\n",
            "    New code should use the ``integers`` method of a ``default_rng()``\n",
            "    instance instead; please see the :ref:`random-quick-start`.\n",
            "\n",
            "Parameters\n",
            "----------\n",
            "low : int or array-like of ints\n",
            "    Lowest (signed) integers to be drawn from the distribution (unless\n",
            "    ``high=None``, in which case this parameter is one above the\n",
            "    *highest* such integer).\n",
            "high : int or array-like of ints, optional\n",
            "    If provided, one above the largest (signed) integer to be drawn\n",
            "    from the distribution (see above for behavior if ``high=None``).\n",
            "    If array-like, must contain integer values\n",
            "size : int or tuple of ints, optional\n",
            "    Output shape.  If the given shape is, e.g., ``(m, n, k)``, then\n",
            "    ``m * n * k`` samples are drawn.  Default is None, in which case a\n",
            "    single value is returned.\n",
            "dtype : dtype, optional\n",
            "    Desired dtype of the result. Byteorder must be native.\n",
            "    The default value is int.\n",
            "\n",
            "    .. versionadded:: 1.11.0\n",
            "\n",
            "Returns\n",
            "-------\n",
            "out : int or ndarray of ints\n",
            "    `size`-shaped array of random integers from the appropriate\n",
            "    distribution, or a single such random int if `size` not provided.\n",
            "\n",
            "See Also\n",
            "--------\n",
            "random_integers : similar to `randint`, only for the closed\n",
            "    interval [`low`, `high`], and 1 is the lowest value if `high` is\n",
            "    omitted.\n",
            "Generator.integers: which should be used for new code.\n",
            "\n",
            "Examples\n",
            "--------\n",
            ">>> np.random.randint(2, size=10)\n",
            "array([1, 0, 0, 0, 1, 1, 0, 0, 1, 0]) # random\n",
            ">>> np.random.randint(1, size=10)\n",
            "array([0, 0, 0, 0, 0, 0, 0, 0, 0, 0])\n",
            "\n",
            "Generate a 2 x 4 array of ints between 0 and 4, inclusive:\n",
            "\n",
            ">>> np.random.randint(5, size=(2, 4))\n",
            "array([[4, 0, 2, 1], # random\n",
            "       [3, 2, 2, 0]])\n",
            "\n",
            "Generate a 1 x 3 array with 3 different upper bounds\n",
            "\n",
            ">>> np.random.randint(1, [3, 5, 10])\n",
            "array([2, 2, 9]) # random\n",
            "\n",
            "Generate a 1 by 3 array with 3 different lower bounds\n",
            "\n",
            ">>> np.random.randint([1, 5, 7], 10)\n",
            "array([9, 8, 7]) # random\n",
            "\n",
            "Generate a 2 by 4 array using broadcasting with dtype of uint8\n",
            "\n",
            ">>> np.random.randint([1, 3, 5, 7], [[10], [20]], dtype=np.uint8)\n",
            "array([[ 8,  6,  9,  7], # random\n",
            "       [ 1, 16,  9, 12]], dtype=uint8)\n",
            "\u001b[1;31mType:\u001b[0m      builtin_function_or_method\n"
          ]
        }
      ],
      "source": [
        "?np.random.randint"
      ]
    },
    {
      "cell_type": "code",
      "execution_count": 114,
      "metadata": {
        "colab": {
          "base_uri": "https://localhost:8080/",
          "height": 327
        },
        "id": "VJIuizm8jhVl",
        "outputId": "76498e05-63a1-49a1-e653-84ab684517c0"
      },
      "outputs": [
        {
          "data": {
            "text/html": [
              "<div>\n",
              "<style scoped>\n",
              "    .dataframe tbody tr th:only-of-type {\n",
              "        vertical-align: middle;\n",
              "    }\n",
              "\n",
              "    .dataframe tbody tr th {\n",
              "        vertical-align: top;\n",
              "    }\n",
              "\n",
              "    .dataframe thead th {\n",
              "        text-align: right;\n",
              "    }\n",
              "</style>\n",
              "<table border=\"1\" class=\"dataframe\">\n",
              "  <thead>\n",
              "    <tr style=\"text-align: right;\">\n",
              "      <th></th>\n",
              "      <th>Season</th>\n",
              "      <th>Weather</th>\n",
              "      <th>Tourist</th>\n",
              "      <th>Labels</th>\n",
              "      <th>cost</th>\n",
              "      <th>extra</th>\n",
              "    </tr>\n",
              "  </thead>\n",
              "  <tbody>\n",
              "    <tr>\n",
              "      <th>0</th>\n",
              "      <td>Summer</td>\n",
              "      <td>Pleasant</td>\n",
              "      <td>like</td>\n",
              "      <td>Yes</td>\n",
              "      <td>100</td>\n",
              "      <td>125</td>\n",
              "    </tr>\n",
              "    <tr>\n",
              "      <th>1</th>\n",
              "      <td>Summer</td>\n",
              "      <td>Hot</td>\n",
              "      <td>dislike</td>\n",
              "      <td>Yes</td>\n",
              "      <td>100</td>\n",
              "      <td>62</td>\n",
              "    </tr>\n",
              "    <tr>\n",
              "      <th>2</th>\n",
              "      <td>Summer</td>\n",
              "      <td>Pleasant</td>\n",
              "      <td>like</td>\n",
              "      <td>Yes</td>\n",
              "      <td>100</td>\n",
              "      <td>90</td>\n",
              "    </tr>\n",
              "    <tr>\n",
              "      <th>3</th>\n",
              "      <td>winter</td>\n",
              "      <td>Harsh</td>\n",
              "      <td>like</td>\n",
              "      <td>Yes</td>\n",
              "      <td>150</td>\n",
              "      <td>50</td>\n",
              "    </tr>\n",
              "    <tr>\n",
              "      <th>4</th>\n",
              "      <td>winter</td>\n",
              "      <td>Pleasant</td>\n",
              "      <td>like</td>\n",
              "      <td>No</td>\n",
              "      <td>150</td>\n",
              "      <td>69</td>\n",
              "    </tr>\n",
              "    <tr>\n",
              "      <th>5</th>\n",
              "      <td>autumn</td>\n",
              "      <td>Dry</td>\n",
              "      <td>dislike</td>\n",
              "      <td>Yes</td>\n",
              "      <td>200</td>\n",
              "      <td>88</td>\n",
              "    </tr>\n",
              "    <tr>\n",
              "      <th>6</th>\n",
              "      <td>autumn</td>\n",
              "      <td>Pleasant</td>\n",
              "      <td>dislike</td>\n",
              "      <td>Yes</td>\n",
              "      <td>200</td>\n",
              "      <td>128</td>\n",
              "    </tr>\n",
              "    <tr>\n",
              "      <th>7</th>\n",
              "      <td>autumn</td>\n",
              "      <td>Harsh</td>\n",
              "      <td>NaN</td>\n",
              "      <td>No</td>\n",
              "      <td>200</td>\n",
              "      <td>107</td>\n",
              "    </tr>\n",
              "    <tr>\n",
              "      <th>8</th>\n",
              "      <td>Spring</td>\n",
              "      <td>Pleasant</td>\n",
              "      <td>like</td>\n",
              "      <td>NaN</td>\n",
              "      <td>200</td>\n",
              "      <td>69</td>\n",
              "    </tr>\n",
              "  </tbody>\n",
              "</table>\n",
              "</div>"
            ],
            "text/plain": [
              "   Season   Weather  Tourist Labels  cost  extra\n",
              "0  Summer  Pleasant     like    Yes   100    125\n",
              "1  Summer       Hot  dislike    Yes   100     62\n",
              "2  Summer  Pleasant     like    Yes   100     90\n",
              "3  winter     Harsh     like    Yes   150     50\n",
              "4  winter  Pleasant     like     No   150     69\n",
              "5  autumn       Dry  dislike    Yes   200     88\n",
              "6  autumn  Pleasant  dislike    Yes   200    128\n",
              "7  autumn     Harsh      NaN     No   200    107\n",
              "8  Spring  Pleasant     like    NaN   200     69"
            ]
          },
          "execution_count": 114,
          "metadata": {},
          "output_type": "execute_result"
        }
      ],
      "source": [
        "DF"
      ]
    },
    {
      "cell_type": "markdown",
      "metadata": {
        "id": "oPC_Fq0l2FEQ"
      },
      "source": [
        "# replacing specified values in a dataframe  using replace()"
      ]
    },
    {
      "cell_type": "code",
      "execution_count": null,
      "metadata": {
        "colab": {
          "base_uri": "https://localhost:8080/",
          "height": 327
        },
        "id": "jfh9f6oZ2M3o",
        "outputId": "0616a6de-dd8c-4c14-9b70-c6c914d65cfc"
      },
      "outputs": [
        {
          "data": {
            "text/html": [
              "<div>\n",
              "<style scoped>\n",
              "    .dataframe tbody tr th:only-of-type {\n",
              "        vertical-align: middle;\n",
              "    }\n",
              "\n",
              "    .dataframe tbody tr th {\n",
              "        vertical-align: top;\n",
              "    }\n",
              "\n",
              "    .dataframe thead th {\n",
              "        text-align: right;\n",
              "    }\n",
              "</style>\n",
              "<table border=\"1\" class=\"dataframe\">\n",
              "  <thead>\n",
              "    <tr style=\"text-align: right;\">\n",
              "      <th></th>\n",
              "      <th>Season</th>\n",
              "      <th>Weather</th>\n",
              "      <th>Tourist</th>\n",
              "      <th>Labels</th>\n",
              "      <th>cost</th>\n",
              "      <th>extra</th>\n",
              "    </tr>\n",
              "  </thead>\n",
              "  <tbody>\n",
              "    <tr>\n",
              "      <th>0</th>\n",
              "      <td>Summer</td>\n",
              "      <td>Pleasant</td>\n",
              "      <td>like</td>\n",
              "      <td>Rain</td>\n",
              "      <td>100</td>\n",
              "      <td>85</td>\n",
              "    </tr>\n",
              "    <tr>\n",
              "      <th>1</th>\n",
              "      <td>Summer</td>\n",
              "      <td>Hot</td>\n",
              "      <td>dislike</td>\n",
              "      <td>Rain</td>\n",
              "      <td>100</td>\n",
              "      <td>98</td>\n",
              "    </tr>\n",
              "    <tr>\n",
              "      <th>2</th>\n",
              "      <td>Summer</td>\n",
              "      <td>Pleasant</td>\n",
              "      <td>like</td>\n",
              "      <td>Rain</td>\n",
              "      <td>100</td>\n",
              "      <td>15</td>\n",
              "    </tr>\n",
              "    <tr>\n",
              "      <th>3</th>\n",
              "      <td>winter</td>\n",
              "      <td>NaN</td>\n",
              "      <td>like</td>\n",
              "      <td>Norain</td>\n",
              "      <td>200</td>\n",
              "      <td>123</td>\n",
              "    </tr>\n",
              "    <tr>\n",
              "      <th>4</th>\n",
              "      <td>winter</td>\n",
              "      <td>Pleasant</td>\n",
              "      <td>like</td>\n",
              "      <td>Norain</td>\n",
              "      <td>200</td>\n",
              "      <td>105</td>\n",
              "    </tr>\n",
              "    <tr>\n",
              "      <th>5</th>\n",
              "      <td>autumn</td>\n",
              "      <td>Dry</td>\n",
              "      <td>dislike</td>\n",
              "      <td>Norain</td>\n",
              "      <td>200</td>\n",
              "      <td>29</td>\n",
              "    </tr>\n",
              "    <tr>\n",
              "      <th>6</th>\n",
              "      <td>autumn</td>\n",
              "      <td>Pleasant</td>\n",
              "      <td>dislike</td>\n",
              "      <td>Norain</td>\n",
              "      <td>200</td>\n",
              "      <td>6</td>\n",
              "    </tr>\n",
              "    <tr>\n",
              "      <th>7</th>\n",
              "      <td>autumn</td>\n",
              "      <td>NaN</td>\n",
              "      <td>NaN</td>\n",
              "      <td>Norain</td>\n",
              "      <td>200</td>\n",
              "      <td>94</td>\n",
              "    </tr>\n",
              "    <tr>\n",
              "      <th>8</th>\n",
              "      <td>Spring</td>\n",
              "      <td>Pleasant</td>\n",
              "      <td>like</td>\n",
              "      <td>Rain</td>\n",
              "      <td>200</td>\n",
              "      <td>52</td>\n",
              "    </tr>\n",
              "  </tbody>\n",
              "</table>\n",
              "</div>"
            ],
            "text/plain": [
              "   Season   Weather  Tourist  Labels  cost  extra\n",
              "0  Summer  Pleasant     like    Rain   100     85\n",
              "1  Summer       Hot  dislike    Rain   100     98\n",
              "2  Summer  Pleasant     like    Rain   100     15\n",
              "3  winter       NaN     like  Norain   200    123\n",
              "4  winter  Pleasant     like  Norain   200    105\n",
              "5  autumn       Dry  dislike  Norain   200     29\n",
              "6  autumn  Pleasant  dislike  Norain   200      6\n",
              "7  autumn       NaN      NaN  Norain   200     94\n",
              "8  Spring  Pleasant     like    Rain   200     52"
            ]
          },
          "execution_count": 25,
          "metadata": {},
          "output_type": "execute_result"
        }
      ],
      "source": [
        "DF.replace('Harsh', np.nan)"
      ]
    },
    {
      "cell_type": "code",
      "execution_count": 4,
      "metadata": {
        "colab": {
          "base_uri": "https://localhost:8080/",
          "height": 327
        },
        "id": "-KJ0RWDh2bPD",
        "outputId": "49fbf0a9-e18d-40b2-a47d-519060df2bf7"
      },
      "outputs": [
        {
          "data": {
            "text/html": [
              "<div>\n",
              "<style scoped>\n",
              "    .dataframe tbody tr th:only-of-type {\n",
              "        vertical-align: middle;\n",
              "    }\n",
              "\n",
              "    .dataframe tbody tr th {\n",
              "        vertical-align: top;\n",
              "    }\n",
              "\n",
              "    .dataframe thead th {\n",
              "        text-align: right;\n",
              "    }\n",
              "</style>\n",
              "<table border=\"1\" class=\"dataframe\">\n",
              "  <thead>\n",
              "    <tr style=\"text-align: right;\">\n",
              "      <th></th>\n",
              "      <th>Season</th>\n",
              "      <th>Weather</th>\n",
              "      <th>Tourist</th>\n",
              "      <th>Labels</th>\n",
              "    </tr>\n",
              "  </thead>\n",
              "  <tbody>\n",
              "    <tr>\n",
              "      <th>0</th>\n",
              "      <td>Summer</td>\n",
              "      <td>Pleasant</td>\n",
              "      <td>like</td>\n",
              "      <td>Yes</td>\n",
              "    </tr>\n",
              "    <tr>\n",
              "      <th>1</th>\n",
              "      <td>Summer</td>\n",
              "      <td>Hot</td>\n",
              "      <td>dislike</td>\n",
              "      <td>Yes</td>\n",
              "    </tr>\n",
              "    <tr>\n",
              "      <th>2</th>\n",
              "      <td>Summer</td>\n",
              "      <td>Pleasant</td>\n",
              "      <td>like</td>\n",
              "      <td>Yes</td>\n",
              "    </tr>\n",
              "    <tr>\n",
              "      <th>3</th>\n",
              "      <td>winter</td>\n",
              "      <td>Harsh</td>\n",
              "      <td>like</td>\n",
              "      <td>Yes</td>\n",
              "    </tr>\n",
              "    <tr>\n",
              "      <th>4</th>\n",
              "      <td>winter</td>\n",
              "      <td>Pleasant</td>\n",
              "      <td>like</td>\n",
              "      <td>No</td>\n",
              "    </tr>\n",
              "    <tr>\n",
              "      <th>5</th>\n",
              "      <td>autumn</td>\n",
              "      <td>Dry</td>\n",
              "      <td>dislike</td>\n",
              "      <td>Yes</td>\n",
              "    </tr>\n",
              "    <tr>\n",
              "      <th>6</th>\n",
              "      <td>autumn</td>\n",
              "      <td>Pleasant</td>\n",
              "      <td>dislike</td>\n",
              "      <td>Yes</td>\n",
              "    </tr>\n",
              "    <tr>\n",
              "      <th>7</th>\n",
              "      <td>autumn</td>\n",
              "      <td>Harsh</td>\n",
              "      <td>NaN</td>\n",
              "      <td>No</td>\n",
              "    </tr>\n",
              "    <tr>\n",
              "      <th>8</th>\n",
              "      <td>Spring</td>\n",
              "      <td>Pleasant</td>\n",
              "      <td>like</td>\n",
              "      <td>NaN</td>\n",
              "    </tr>\n",
              "  </tbody>\n",
              "</table>\n",
              "</div>"
            ],
            "text/plain": [
              "   Season   Weather  Tourist Labels\n",
              "0  Summer  Pleasant     like    Yes\n",
              "1  Summer       Hot  dislike    Yes\n",
              "2  Summer  Pleasant     like    Yes\n",
              "3  winter     Harsh     like    Yes\n",
              "4  winter  Pleasant     like     No\n",
              "5  autumn       Dry  dislike    Yes\n",
              "6  autumn  Pleasant  dislike    Yes\n",
              "7  autumn     Harsh      NaN     No\n",
              "8  Spring  Pleasant     like    NaN"
            ]
          },
          "execution_count": 4,
          "metadata": {},
          "output_type": "execute_result"
        }
      ],
      "source": [
        "DF"
      ]
    },
    {
      "cell_type": "code",
      "execution_count": null,
      "metadata": {
        "colab": {
          "base_uri": "https://localhost:8080/",
          "height": 327
        },
        "id": "4d-M-55I2m2x",
        "outputId": "4d8a7157-fa28-4888-d239-912861b520d7"
      },
      "outputs": [
        {
          "data": {
            "text/html": [
              "<div>\n",
              "<style scoped>\n",
              "    .dataframe tbody tr th:only-of-type {\n",
              "        vertical-align: middle;\n",
              "    }\n",
              "\n",
              "    .dataframe tbody tr th {\n",
              "        vertical-align: top;\n",
              "    }\n",
              "\n",
              "    .dataframe thead th {\n",
              "        text-align: right;\n",
              "    }\n",
              "</style>\n",
              "<table border=\"1\" class=\"dataframe\">\n",
              "  <thead>\n",
              "    <tr style=\"text-align: right;\">\n",
              "      <th></th>\n",
              "      <th>Season</th>\n",
              "      <th>Weather</th>\n",
              "      <th>Tourist</th>\n",
              "      <th>Labels</th>\n",
              "      <th>cost</th>\n",
              "    </tr>\n",
              "  </thead>\n",
              "  <tbody>\n",
              "    <tr>\n",
              "      <th>0</th>\n",
              "      <td>Summer</td>\n",
              "      <td>Pleasant</td>\n",
              "      <td>like</td>\n",
              "      <td>Yes</td>\n",
              "      <td>100</td>\n",
              "    </tr>\n",
              "    <tr>\n",
              "      <th>1</th>\n",
              "      <td>Summer</td>\n",
              "      <td>Hot</td>\n",
              "      <td>dislike</td>\n",
              "      <td>Yes</td>\n",
              "      <td>100</td>\n",
              "    </tr>\n",
              "    <tr>\n",
              "      <th>2</th>\n",
              "      <td>Summer</td>\n",
              "      <td>Pleasant</td>\n",
              "      <td>like</td>\n",
              "      <td>Yes</td>\n",
              "      <td>100</td>\n",
              "    </tr>\n",
              "    <tr>\n",
              "      <th>3</th>\n",
              "      <td>winter</td>\n",
              "      <td>NaN</td>\n",
              "      <td>like</td>\n",
              "      <td>Yes</td>\n",
              "      <td>150</td>\n",
              "    </tr>\n",
              "    <tr>\n",
              "      <th>4</th>\n",
              "      <td>winter</td>\n",
              "      <td>Pleasant</td>\n",
              "      <td>like</td>\n",
              "      <td>No</td>\n",
              "      <td>150</td>\n",
              "    </tr>\n",
              "    <tr>\n",
              "      <th>5</th>\n",
              "      <td>autumn</td>\n",
              "      <td>Wet</td>\n",
              "      <td>dislike</td>\n",
              "      <td>Yes</td>\n",
              "      <td>200</td>\n",
              "    </tr>\n",
              "    <tr>\n",
              "      <th>6</th>\n",
              "      <td>autumn</td>\n",
              "      <td>Pleasant</td>\n",
              "      <td>dislike</td>\n",
              "      <td>Yes</td>\n",
              "      <td>200</td>\n",
              "    </tr>\n",
              "    <tr>\n",
              "      <th>7</th>\n",
              "      <td>autumn</td>\n",
              "      <td>NaN</td>\n",
              "      <td>NaN</td>\n",
              "      <td>No</td>\n",
              "      <td>200</td>\n",
              "    </tr>\n",
              "    <tr>\n",
              "      <th>8</th>\n",
              "      <td>Spring</td>\n",
              "      <td>Pleasant</td>\n",
              "      <td>like</td>\n",
              "      <td>NaN</td>\n",
              "      <td>200</td>\n",
              "    </tr>\n",
              "  </tbody>\n",
              "</table>\n",
              "</div>"
            ],
            "text/plain": [
              "   Season   Weather  Tourist Labels  cost\n",
              "0  Summer  Pleasant     like    Yes   100\n",
              "1  Summer       Hot  dislike    Yes   100\n",
              "2  Summer  Pleasant     like    Yes   100\n",
              "3  winter       NaN     like    Yes   150\n",
              "4  winter  Pleasant     like     No   150\n",
              "5  autumn       Wet  dislike    Yes   200\n",
              "6  autumn  Pleasant  dislike    Yes   200\n",
              "7  autumn       NaN      NaN     No   200\n",
              "8  Spring  Pleasant     like    NaN   200"
            ]
          },
          "execution_count": 115,
          "metadata": {},
          "output_type": "execute_result"
        }
      ],
      "source": [
        "DF.replace(['Harsh','Dry'], [np.nan,'Wet'])"
      ]
    },
    {
      "cell_type": "markdown",
      "metadata": {
        "id": "VtGzD1WX3BkP"
      },
      "source": [
        "## using dictionary, set replace values"
      ]
    },
    {
      "cell_type": "code",
      "execution_count": null,
      "metadata": {
        "colab": {
          "base_uri": "https://localhost:8080/",
          "height": 327
        },
        "id": "0CHj5YKc3HTX",
        "outputId": "565deae9-18af-4f74-aad5-44a323dc4e80"
      },
      "outputs": [
        {
          "data": {
            "text/html": [
              "<div>\n",
              "<style scoped>\n",
              "    .dataframe tbody tr th:only-of-type {\n",
              "        vertical-align: middle;\n",
              "    }\n",
              "\n",
              "    .dataframe tbody tr th {\n",
              "        vertical-align: top;\n",
              "    }\n",
              "\n",
              "    .dataframe thead th {\n",
              "        text-align: right;\n",
              "    }\n",
              "</style>\n",
              "<table border=\"1\" class=\"dataframe\">\n",
              "  <thead>\n",
              "    <tr style=\"text-align: right;\">\n",
              "      <th></th>\n",
              "      <th>Season</th>\n",
              "      <th>Weather</th>\n",
              "      <th>Tourist</th>\n",
              "      <th>Labels</th>\n",
              "      <th>cost</th>\n",
              "    </tr>\n",
              "  </thead>\n",
              "  <tbody>\n",
              "    <tr>\n",
              "      <th>0</th>\n",
              "      <td>Summer</td>\n",
              "      <td>Pleasant</td>\n",
              "      <td>like</td>\n",
              "      <td>Yes</td>\n",
              "      <td>100</td>\n",
              "    </tr>\n",
              "    <tr>\n",
              "      <th>1</th>\n",
              "      <td>Summer</td>\n",
              "      <td>Hot</td>\n",
              "      <td>dislike</td>\n",
              "      <td>Yes</td>\n",
              "      <td>100</td>\n",
              "    </tr>\n",
              "    <tr>\n",
              "      <th>2</th>\n",
              "      <td>Summer</td>\n",
              "      <td>Pleasant</td>\n",
              "      <td>like</td>\n",
              "      <td>Yes</td>\n",
              "      <td>100</td>\n",
              "    </tr>\n",
              "    <tr>\n",
              "      <th>3</th>\n",
              "      <td>winter</td>\n",
              "      <td>NaN</td>\n",
              "      <td>like</td>\n",
              "      <td>Yes</td>\n",
              "      <td>150</td>\n",
              "    </tr>\n",
              "    <tr>\n",
              "      <th>4</th>\n",
              "      <td>winter</td>\n",
              "      <td>Pleasant</td>\n",
              "      <td>like</td>\n",
              "      <td>No</td>\n",
              "      <td>150</td>\n",
              "    </tr>\n",
              "    <tr>\n",
              "      <th>5</th>\n",
              "      <td>autumn</td>\n",
              "      <td>Wet</td>\n",
              "      <td>dislike</td>\n",
              "      <td>Yes</td>\n",
              "      <td>200</td>\n",
              "    </tr>\n",
              "    <tr>\n",
              "      <th>6</th>\n",
              "      <td>autumn</td>\n",
              "      <td>Pleasant</td>\n",
              "      <td>dislike</td>\n",
              "      <td>Yes</td>\n",
              "      <td>200</td>\n",
              "    </tr>\n",
              "    <tr>\n",
              "      <th>7</th>\n",
              "      <td>autumn</td>\n",
              "      <td>NaN</td>\n",
              "      <td>NaN</td>\n",
              "      <td>No</td>\n",
              "      <td>200</td>\n",
              "    </tr>\n",
              "    <tr>\n",
              "      <th>8</th>\n",
              "      <td>Spring</td>\n",
              "      <td>Pleasant</td>\n",
              "      <td>like</td>\n",
              "      <td>NaN</td>\n",
              "      <td>200</td>\n",
              "    </tr>\n",
              "  </tbody>\n",
              "</table>\n",
              "</div>"
            ],
            "text/plain": [
              "   Season   Weather  Tourist Labels  cost\n",
              "0  Summer  Pleasant     like    Yes   100\n",
              "1  Summer       Hot  dislike    Yes   100\n",
              "2  Summer  Pleasant     like    Yes   100\n",
              "3  winter       NaN     like    Yes   150\n",
              "4  winter  Pleasant     like     No   150\n",
              "5  autumn       Wet  dislike    Yes   200\n",
              "6  autumn  Pleasant  dislike    Yes   200\n",
              "7  autumn       NaN      NaN     No   200\n",
              "8  Spring  Pleasant     like    NaN   200"
            ]
          },
          "execution_count": 116,
          "metadata": {},
          "output_type": "execute_result"
        }
      ],
      "source": [
        "DF.replace({'Harsh': np.nan,'Dry':'Wet'})"
      ]
    },
    {
      "cell_type": "markdown",
      "metadata": {
        "id": "TbhR7j-cnpo6"
      },
      "source": [
        "## replacing value of a specific column"
      ]
    },
    {
      "cell_type": "code",
      "execution_count": null,
      "metadata": {
        "colab": {
          "base_uri": "https://localhost:8080/"
        },
        "id": "QehW6puLjsT5",
        "outputId": "ff995900-8fda-4c0f-8018-825abc68e028"
      },
      "outputs": [
        {
          "data": {
            "text/plain": [
              "0    116\n",
              "1    116\n",
              "2    116\n",
              "3    116\n",
              "4    116\n",
              "5    116\n",
              "6    116\n",
              "7    116\n",
              "8    116\n",
              "Name: extra, dtype: int64"
            ]
          },
          "execution_count": 147,
          "metadata": {},
          "output_type": "execute_result"
        }
      ],
      "source": [
        "DF['extra'].replace(range(70,100),100)"
      ]
    },
    {
      "cell_type": "code",
      "execution_count": null,
      "metadata": {
        "colab": {
          "base_uri": "https://localhost:8080/",
          "height": 327
        },
        "id": "spc_DMdilbm8",
        "outputId": "ebd03faa-21e1-436a-aacc-13f13462f69e"
      },
      "outputs": [
        {
          "data": {
            "text/html": [
              "<div>\n",
              "<style scoped>\n",
              "    .dataframe tbody tr th:only-of-type {\n",
              "        vertical-align: middle;\n",
              "    }\n",
              "\n",
              "    .dataframe tbody tr th {\n",
              "        vertical-align: top;\n",
              "    }\n",
              "\n",
              "    .dataframe thead th {\n",
              "        text-align: right;\n",
              "    }\n",
              "</style>\n",
              "<table border=\"1\" class=\"dataframe\">\n",
              "  <thead>\n",
              "    <tr style=\"text-align: right;\">\n",
              "      <th></th>\n",
              "      <th>Season</th>\n",
              "      <th>Weather</th>\n",
              "      <th>Tourist</th>\n",
              "      <th>Labels</th>\n",
              "      <th>cost</th>\n",
              "    </tr>\n",
              "  </thead>\n",
              "  <tbody>\n",
              "    <tr>\n",
              "      <th>0</th>\n",
              "      <td>Summer</td>\n",
              "      <td>Pleasant</td>\n",
              "      <td>like</td>\n",
              "      <td>Yes</td>\n",
              "      <td>100</td>\n",
              "    </tr>\n",
              "    <tr>\n",
              "      <th>1</th>\n",
              "      <td>Summer</td>\n",
              "      <td>Hot</td>\n",
              "      <td>dislike</td>\n",
              "      <td>Yes</td>\n",
              "      <td>100</td>\n",
              "    </tr>\n",
              "    <tr>\n",
              "      <th>2</th>\n",
              "      <td>Summer</td>\n",
              "      <td>Pleasant</td>\n",
              "      <td>like</td>\n",
              "      <td>Yes</td>\n",
              "      <td>100</td>\n",
              "    </tr>\n",
              "    <tr>\n",
              "      <th>3</th>\n",
              "      <td>winter</td>\n",
              "      <td>Harsh</td>\n",
              "      <td>like</td>\n",
              "      <td>Yes</td>\n",
              "      <td>150</td>\n",
              "    </tr>\n",
              "    <tr>\n",
              "      <th>4</th>\n",
              "      <td>winter</td>\n",
              "      <td>Pleasant</td>\n",
              "      <td>like</td>\n",
              "      <td>No</td>\n",
              "      <td>150</td>\n",
              "    </tr>\n",
              "    <tr>\n",
              "      <th>5</th>\n",
              "      <td>autumn</td>\n",
              "      <td>Dry</td>\n",
              "      <td>dislike</td>\n",
              "      <td>Yes</td>\n",
              "      <td>200</td>\n",
              "    </tr>\n",
              "    <tr>\n",
              "      <th>6</th>\n",
              "      <td>autumn</td>\n",
              "      <td>Pleasant</td>\n",
              "      <td>dislike</td>\n",
              "      <td>Yes</td>\n",
              "      <td>200</td>\n",
              "    </tr>\n",
              "    <tr>\n",
              "      <th>7</th>\n",
              "      <td>autumn</td>\n",
              "      <td>Harsh</td>\n",
              "      <td>NaN</td>\n",
              "      <td>No</td>\n",
              "      <td>200</td>\n",
              "    </tr>\n",
              "    <tr>\n",
              "      <th>8</th>\n",
              "      <td>Spring</td>\n",
              "      <td>Pleasant</td>\n",
              "      <td>like</td>\n",
              "      <td>NaN</td>\n",
              "      <td>200</td>\n",
              "    </tr>\n",
              "  </tbody>\n",
              "</table>\n",
              "</div>"
            ],
            "text/plain": [
              "   Season   Weather  Tourist Labels  cost\n",
              "0  Summer  Pleasant     like    Yes   100\n",
              "1  Summer       Hot  dislike    Yes   100\n",
              "2  Summer  Pleasant     like    Yes   100\n",
              "3  winter     Harsh     like    Yes   150\n",
              "4  winter  Pleasant     like     No   150\n",
              "5  autumn       Dry  dislike    Yes   200\n",
              "6  autumn  Pleasant  dislike    Yes   200\n",
              "7  autumn     Harsh      NaN     No   200\n",
              "8  Spring  Pleasant     like    NaN   200"
            ]
          },
          "execution_count": 118,
          "metadata": {},
          "output_type": "execute_result"
        }
      ],
      "source": [
        "DF"
      ]
    },
    {
      "cell_type": "markdown",
      "metadata": {},
      "source": [
        "# Manipulating data"
      ]
    },
    {
      "cell_type": "markdown",
      "metadata": {
        "id": "5FzMx8QFnLez"
      },
      "source": [
        "## extracting selected values and manipulating but not changed in data"
      ]
    },
    {
      "cell_type": "markdown",
      "metadata": {},
      "source": [
        "## write the problem statement for the following:"
      ]
    },
    {
      "cell_type": "code",
      "execution_count": 6,
      "metadata": {
        "colab": {
          "base_uri": "https://localhost:8080/",
          "height": 235
        },
        "id": "RK9dVZzHlB1W",
        "outputId": "a5215640-22d2-4920-c11f-9f4d1c62fd29"
      },
      "outputs": [
        {
          "data": {
            "text/html": [
              "<div>\n",
              "<style scoped>\n",
              "    .dataframe tbody tr th:only-of-type {\n",
              "        vertical-align: middle;\n",
              "    }\n",
              "\n",
              "    .dataframe tbody tr th {\n",
              "        vertical-align: top;\n",
              "    }\n",
              "\n",
              "    .dataframe thead th {\n",
              "        text-align: right;\n",
              "    }\n",
              "</style>\n",
              "<table border=\"1\" class=\"dataframe\">\n",
              "  <thead>\n",
              "    <tr style=\"text-align: right;\">\n",
              "      <th></th>\n",
              "      <th>Season</th>\n",
              "      <th>Weather</th>\n",
              "      <th>Tourist</th>\n",
              "      <th>Labels</th>\n",
              "      <th>cost</th>\n",
              "    </tr>\n",
              "  </thead>\n",
              "  <tbody>\n",
              "    <tr>\n",
              "      <th>3</th>\n",
              "      <td>winterwinter</td>\n",
              "      <td>HarshHarsh</td>\n",
              "      <td>likelike</td>\n",
              "      <td>YesYes</td>\n",
              "      <td>300</td>\n",
              "    </tr>\n",
              "    <tr>\n",
              "      <th>4</th>\n",
              "      <td>winterwinter</td>\n",
              "      <td>PleasantPleasant</td>\n",
              "      <td>likelike</td>\n",
              "      <td>NoNo</td>\n",
              "      <td>300</td>\n",
              "    </tr>\n",
              "    <tr>\n",
              "      <th>5</th>\n",
              "      <td>autumnautumn</td>\n",
              "      <td>DryDry</td>\n",
              "      <td>dislikedislike</td>\n",
              "      <td>YesYes</td>\n",
              "      <td>400</td>\n",
              "    </tr>\n",
              "    <tr>\n",
              "      <th>6</th>\n",
              "      <td>autumnautumn</td>\n",
              "      <td>PleasantPleasant</td>\n",
              "      <td>dislikedislike</td>\n",
              "      <td>YesYes</td>\n",
              "      <td>400</td>\n",
              "    </tr>\n",
              "    <tr>\n",
              "      <th>7</th>\n",
              "      <td>autumnautumn</td>\n",
              "      <td>HarshHarsh</td>\n",
              "      <td>NaN</td>\n",
              "      <td>NoNo</td>\n",
              "      <td>400</td>\n",
              "    </tr>\n",
              "    <tr>\n",
              "      <th>8</th>\n",
              "      <td>SpringSpring</td>\n",
              "      <td>PleasantPleasant</td>\n",
              "      <td>likelike</td>\n",
              "      <td>NaN</td>\n",
              "      <td>400</td>\n",
              "    </tr>\n",
              "  </tbody>\n",
              "</table>\n",
              "</div>"
            ],
            "text/plain": [
              "         Season           Weather         Tourist  Labels  cost\n",
              "3  winterwinter        HarshHarsh        likelike  YesYes   300\n",
              "4  winterwinter  PleasantPleasant        likelike    NoNo   300\n",
              "5  autumnautumn            DryDry  dislikedislike  YesYes   400\n",
              "6  autumnautumn  PleasantPleasant  dislikedislike  YesYes   400\n",
              "7  autumnautumn        HarshHarsh             NaN    NoNo   400\n",
              "8  SpringSpring  PleasantPleasant        likelike     NaN   400"
            ]
          },
          "execution_count": 6,
          "metadata": {},
          "output_type": "execute_result"
        }
      ],
      "source": [
        "DF[DF['cost']>=150]*2\n"
      ]
    },
    {
      "cell_type": "code",
      "execution_count": 31,
      "metadata": {
        "colab": {
          "base_uri": "https://localhost:8080/",
          "height": 327
        },
        "id": "K4t5_uBgm0kp",
        "outputId": "f85a916a-506b-4602-e2a9-baa46ba66d2e"
      },
      "outputs": [
        {
          "data": {
            "text/html": [
              "<div>\n",
              "<style scoped>\n",
              "    .dataframe tbody tr th:only-of-type {\n",
              "        vertical-align: middle;\n",
              "    }\n",
              "\n",
              "    .dataframe tbody tr th {\n",
              "        vertical-align: top;\n",
              "    }\n",
              "\n",
              "    .dataframe thead th {\n",
              "        text-align: right;\n",
              "    }\n",
              "</style>\n",
              "<table border=\"1\" class=\"dataframe\">\n",
              "  <thead>\n",
              "    <tr style=\"text-align: right;\">\n",
              "      <th></th>\n",
              "      <th>Season</th>\n",
              "      <th>Weather</th>\n",
              "      <th>Tourist</th>\n",
              "      <th>Labels</th>\n",
              "      <th>cost</th>\n",
              "      <th>extra</th>\n",
              "    </tr>\n",
              "  </thead>\n",
              "  <tbody>\n",
              "    <tr>\n",
              "      <th>0</th>\n",
              "      <td>Summer</td>\n",
              "      <td>Pleasant</td>\n",
              "      <td>like</td>\n",
              "      <td>Yes</td>\n",
              "      <td>100</td>\n",
              "      <td>109</td>\n",
              "    </tr>\n",
              "    <tr>\n",
              "      <th>1</th>\n",
              "      <td>Summer</td>\n",
              "      <td>Hot</td>\n",
              "      <td>dislike</td>\n",
              "      <td>Yes</td>\n",
              "      <td>100</td>\n",
              "      <td>24</td>\n",
              "    </tr>\n",
              "    <tr>\n",
              "      <th>2</th>\n",
              "      <td>Summer</td>\n",
              "      <td>Pleasant</td>\n",
              "      <td>like</td>\n",
              "      <td>Yes</td>\n",
              "      <td>100</td>\n",
              "      <td>72</td>\n",
              "    </tr>\n",
              "    <tr>\n",
              "      <th>3</th>\n",
              "      <td>winter</td>\n",
              "      <td>Harsh</td>\n",
              "      <td>like</td>\n",
              "      <td>Yes</td>\n",
              "      <td>150</td>\n",
              "      <td>107</td>\n",
              "    </tr>\n",
              "    <tr>\n",
              "      <th>4</th>\n",
              "      <td>winter</td>\n",
              "      <td>Pleasant</td>\n",
              "      <td>like</td>\n",
              "      <td>No</td>\n",
              "      <td>150</td>\n",
              "      <td>108</td>\n",
              "    </tr>\n",
              "    <tr>\n",
              "      <th>5</th>\n",
              "      <td>autumn</td>\n",
              "      <td>Dry</td>\n",
              "      <td>dislike</td>\n",
              "      <td>Yes</td>\n",
              "      <td>200</td>\n",
              "      <td>5</td>\n",
              "    </tr>\n",
              "    <tr>\n",
              "      <th>6</th>\n",
              "      <td>autumn</td>\n",
              "      <td>Pleasant</td>\n",
              "      <td>dislike</td>\n",
              "      <td>Yes</td>\n",
              "      <td>200</td>\n",
              "      <td>93</td>\n",
              "    </tr>\n",
              "    <tr>\n",
              "      <th>7</th>\n",
              "      <td>autumn</td>\n",
              "      <td>Harsh</td>\n",
              "      <td>NaN</td>\n",
              "      <td>No</td>\n",
              "      <td>200</td>\n",
              "      <td>63</td>\n",
              "    </tr>\n",
              "    <tr>\n",
              "      <th>8</th>\n",
              "      <td>Spring</td>\n",
              "      <td>Pleasant</td>\n",
              "      <td>like</td>\n",
              "      <td>NaN</td>\n",
              "      <td>200</td>\n",
              "      <td>78</td>\n",
              "    </tr>\n",
              "  </tbody>\n",
              "</table>\n",
              "</div>"
            ],
            "text/plain": [
              "   Season   Weather  Tourist Labels  cost  extra\n",
              "0  Summer  Pleasant     like    Yes   100    109\n",
              "1  Summer       Hot  dislike    Yes   100     24\n",
              "2  Summer  Pleasant     like    Yes   100     72\n",
              "3  winter     Harsh     like    Yes   150    107\n",
              "4  winter  Pleasant     like     No   150    108\n",
              "5  autumn       Dry  dislike    Yes   200      5\n",
              "6  autumn  Pleasant  dislike    Yes   200     93\n",
              "7  autumn     Harsh      NaN     No   200     63\n",
              "8  Spring  Pleasant     like    NaN   200     78"
            ]
          },
          "execution_count": 31,
          "metadata": {},
          "output_type": "execute_result"
        }
      ],
      "source": [
        "DF"
      ]
    },
    {
      "cell_type": "markdown",
      "metadata": {
        "id": "OZvEHRd7nXN2"
      },
      "source": [
        "## problem: to double all values in extra which are > 70 and reflect changes in the column"
      ]
    },
    {
      "cell_type": "code",
      "execution_count": 8,
      "metadata": {
        "id": "AiTfqgF7mHx2"
      },
      "outputs": [],
      "source": [
        "fnlambda = lambda x: x*2 if x>=100 else x"
      ]
    },
    {
      "cell_type": "code",
      "execution_count": 9,
      "metadata": {
        "id": "OHJa_TKQmeq2"
      },
      "outputs": [],
      "source": [
        "DF['newcost']=DF['cost'].map(fnlambda)"
      ]
    },
    {
      "cell_type": "code",
      "execution_count": 10,
      "metadata": {},
      "outputs": [
        {
          "data": {
            "text/html": [
              "<div>\n",
              "<style scoped>\n",
              "    .dataframe tbody tr th:only-of-type {\n",
              "        vertical-align: middle;\n",
              "    }\n",
              "\n",
              "    .dataframe tbody tr th {\n",
              "        vertical-align: top;\n",
              "    }\n",
              "\n",
              "    .dataframe thead th {\n",
              "        text-align: right;\n",
              "    }\n",
              "</style>\n",
              "<table border=\"1\" class=\"dataframe\">\n",
              "  <thead>\n",
              "    <tr style=\"text-align: right;\">\n",
              "      <th></th>\n",
              "      <th>Season</th>\n",
              "      <th>Weather</th>\n",
              "      <th>Tourist</th>\n",
              "      <th>Labels</th>\n",
              "      <th>cost</th>\n",
              "      <th>newcost</th>\n",
              "    </tr>\n",
              "  </thead>\n",
              "  <tbody>\n",
              "    <tr>\n",
              "      <th>0</th>\n",
              "      <td>Summer</td>\n",
              "      <td>Pleasant</td>\n",
              "      <td>like</td>\n",
              "      <td>Yes</td>\n",
              "      <td>100</td>\n",
              "      <td>200</td>\n",
              "    </tr>\n",
              "    <tr>\n",
              "      <th>1</th>\n",
              "      <td>Summer</td>\n",
              "      <td>Hot</td>\n",
              "      <td>dislike</td>\n",
              "      <td>Yes</td>\n",
              "      <td>100</td>\n",
              "      <td>200</td>\n",
              "    </tr>\n",
              "    <tr>\n",
              "      <th>2</th>\n",
              "      <td>Summer</td>\n",
              "      <td>Pleasant</td>\n",
              "      <td>like</td>\n",
              "      <td>Yes</td>\n",
              "      <td>100</td>\n",
              "      <td>200</td>\n",
              "    </tr>\n",
              "    <tr>\n",
              "      <th>3</th>\n",
              "      <td>winter</td>\n",
              "      <td>Harsh</td>\n",
              "      <td>like</td>\n",
              "      <td>Yes</td>\n",
              "      <td>150</td>\n",
              "      <td>300</td>\n",
              "    </tr>\n",
              "    <tr>\n",
              "      <th>4</th>\n",
              "      <td>winter</td>\n",
              "      <td>Pleasant</td>\n",
              "      <td>like</td>\n",
              "      <td>No</td>\n",
              "      <td>150</td>\n",
              "      <td>300</td>\n",
              "    </tr>\n",
              "    <tr>\n",
              "      <th>5</th>\n",
              "      <td>autumn</td>\n",
              "      <td>Dry</td>\n",
              "      <td>dislike</td>\n",
              "      <td>Yes</td>\n",
              "      <td>200</td>\n",
              "      <td>400</td>\n",
              "    </tr>\n",
              "    <tr>\n",
              "      <th>6</th>\n",
              "      <td>autumn</td>\n",
              "      <td>Pleasant</td>\n",
              "      <td>dislike</td>\n",
              "      <td>Yes</td>\n",
              "      <td>200</td>\n",
              "      <td>400</td>\n",
              "    </tr>\n",
              "    <tr>\n",
              "      <th>7</th>\n",
              "      <td>autumn</td>\n",
              "      <td>Harsh</td>\n",
              "      <td>NaN</td>\n",
              "      <td>No</td>\n",
              "      <td>200</td>\n",
              "      <td>400</td>\n",
              "    </tr>\n",
              "    <tr>\n",
              "      <th>8</th>\n",
              "      <td>Spring</td>\n",
              "      <td>Pleasant</td>\n",
              "      <td>like</td>\n",
              "      <td>NaN</td>\n",
              "      <td>200</td>\n",
              "      <td>400</td>\n",
              "    </tr>\n",
              "  </tbody>\n",
              "</table>\n",
              "</div>"
            ],
            "text/plain": [
              "   Season   Weather  Tourist Labels  cost  newcost\n",
              "0  Summer  Pleasant     like    Yes   100      200\n",
              "1  Summer       Hot  dislike    Yes   100      200\n",
              "2  Summer  Pleasant     like    Yes   100      200\n",
              "3  winter     Harsh     like    Yes   150      300\n",
              "4  winter  Pleasant     like     No   150      300\n",
              "5  autumn       Dry  dislike    Yes   200      400\n",
              "6  autumn  Pleasant  dislike    Yes   200      400\n",
              "7  autumn     Harsh      NaN     No   200      400\n",
              "8  Spring  Pleasant     like    NaN   200      400"
            ]
          },
          "execution_count": 10,
          "metadata": {},
          "output_type": "execute_result"
        }
      ],
      "source": [
        "DF"
      ]
    },
    {
      "cell_type": "markdown",
      "metadata": {
        "id": "Ry7llY3qnwa-"
      },
      "source": [
        "## Renaming Axis Indexes"
      ]
    },
    {
      "cell_type": "code",
      "execution_count": 11,
      "metadata": {
        "colab": {
          "base_uri": "https://localhost:8080/"
        },
        "id": "hq6TE6VcoD-J",
        "outputId": "312fcbbe-963a-4c01-ef06-bde2d0d64cfd"
      },
      "outputs": [
        {
          "data": {
            "text/plain": [
              "Index(['tourist1', 'tourist2', 'tourist3', 'tourist4', 'tourist5', 'tourist6',\n",
              "       'tourist7', 'tourist8', 'tourist9'],\n",
              "      dtype='object')"
            ]
          },
          "execution_count": 11,
          "metadata": {},
          "output_type": "execute_result"
        }
      ],
      "source": [
        "transform = lambda x: \"tourist\"+str(x+1)\n",
        "DF.index.map(transform)"
      ]
    },
    {
      "cell_type": "code",
      "execution_count": 12,
      "metadata": {
        "id": "ExHbPR7sodaB"
      },
      "outputs": [],
      "source": [
        "DF.index=DF.index.map(transform)"
      ]
    },
    {
      "cell_type": "markdown",
      "metadata": {
        "id": "wBOgXvDVooDH"
      },
      "source": [
        "## Change column labels to uppercase and Sort"
      ]
    },
    {
      "cell_type": "code",
      "execution_count": 159,
      "metadata": {
        "id": "hNPWBA-ro_Tc"
      },
      "outputs": [],
      "source": [
        "DF.columns=DF.columns.str.upper()"
      ]
    },
    {
      "cell_type": "code",
      "execution_count": 13,
      "metadata": {
        "id": "YynLvfi6pbr1"
      },
      "outputs": [],
      "source": [
        "DFnew=DF.sort_index(axis=1) "
      ]
    },
    {
      "cell_type": "code",
      "execution_count": 14,
      "metadata": {
        "colab": {
          "base_uri": "https://localhost:8080/",
          "height": 327
        },
        "id": "XGMBFR1eQmbq",
        "outputId": "f07b25fe-5bf0-4d80-a384-d43589d43be1"
      },
      "outputs": [
        {
          "data": {
            "text/html": [
              "<div>\n",
              "<style scoped>\n",
              "    .dataframe tbody tr th:only-of-type {\n",
              "        vertical-align: middle;\n",
              "    }\n",
              "\n",
              "    .dataframe tbody tr th {\n",
              "        vertical-align: top;\n",
              "    }\n",
              "\n",
              "    .dataframe thead th {\n",
              "        text-align: right;\n",
              "    }\n",
              "</style>\n",
              "<table border=\"1\" class=\"dataframe\">\n",
              "  <thead>\n",
              "    <tr style=\"text-align: right;\">\n",
              "      <th></th>\n",
              "      <th>Labels</th>\n",
              "      <th>Season</th>\n",
              "      <th>Tourist</th>\n",
              "      <th>Weather</th>\n",
              "      <th>cost</th>\n",
              "      <th>newcost</th>\n",
              "    </tr>\n",
              "  </thead>\n",
              "  <tbody>\n",
              "    <tr>\n",
              "      <th>tourist1</th>\n",
              "      <td>Yes</td>\n",
              "      <td>Summer</td>\n",
              "      <td>like</td>\n",
              "      <td>Pleasant</td>\n",
              "      <td>100</td>\n",
              "      <td>200</td>\n",
              "    </tr>\n",
              "    <tr>\n",
              "      <th>tourist2</th>\n",
              "      <td>Yes</td>\n",
              "      <td>Summer</td>\n",
              "      <td>dislike</td>\n",
              "      <td>Hot</td>\n",
              "      <td>100</td>\n",
              "      <td>200</td>\n",
              "    </tr>\n",
              "    <tr>\n",
              "      <th>tourist3</th>\n",
              "      <td>Yes</td>\n",
              "      <td>Summer</td>\n",
              "      <td>like</td>\n",
              "      <td>Pleasant</td>\n",
              "      <td>100</td>\n",
              "      <td>200</td>\n",
              "    </tr>\n",
              "    <tr>\n",
              "      <th>tourist4</th>\n",
              "      <td>Yes</td>\n",
              "      <td>winter</td>\n",
              "      <td>like</td>\n",
              "      <td>Harsh</td>\n",
              "      <td>150</td>\n",
              "      <td>300</td>\n",
              "    </tr>\n",
              "    <tr>\n",
              "      <th>tourist5</th>\n",
              "      <td>No</td>\n",
              "      <td>winter</td>\n",
              "      <td>like</td>\n",
              "      <td>Pleasant</td>\n",
              "      <td>150</td>\n",
              "      <td>300</td>\n",
              "    </tr>\n",
              "    <tr>\n",
              "      <th>tourist6</th>\n",
              "      <td>Yes</td>\n",
              "      <td>autumn</td>\n",
              "      <td>dislike</td>\n",
              "      <td>Dry</td>\n",
              "      <td>200</td>\n",
              "      <td>400</td>\n",
              "    </tr>\n",
              "    <tr>\n",
              "      <th>tourist7</th>\n",
              "      <td>Yes</td>\n",
              "      <td>autumn</td>\n",
              "      <td>dislike</td>\n",
              "      <td>Pleasant</td>\n",
              "      <td>200</td>\n",
              "      <td>400</td>\n",
              "    </tr>\n",
              "    <tr>\n",
              "      <th>tourist8</th>\n",
              "      <td>No</td>\n",
              "      <td>autumn</td>\n",
              "      <td>NaN</td>\n",
              "      <td>Harsh</td>\n",
              "      <td>200</td>\n",
              "      <td>400</td>\n",
              "    </tr>\n",
              "    <tr>\n",
              "      <th>tourist9</th>\n",
              "      <td>NaN</td>\n",
              "      <td>Spring</td>\n",
              "      <td>like</td>\n",
              "      <td>Pleasant</td>\n",
              "      <td>200</td>\n",
              "      <td>400</td>\n",
              "    </tr>\n",
              "  </tbody>\n",
              "</table>\n",
              "</div>"
            ],
            "text/plain": [
              "         Labels  Season  Tourist   Weather  cost  newcost\n",
              "tourist1    Yes  Summer     like  Pleasant   100      200\n",
              "tourist2    Yes  Summer  dislike       Hot   100      200\n",
              "tourist3    Yes  Summer     like  Pleasant   100      200\n",
              "tourist4    Yes  winter     like     Harsh   150      300\n",
              "tourist5     No  winter     like  Pleasant   150      300\n",
              "tourist6    Yes  autumn  dislike       Dry   200      400\n",
              "tourist7    Yes  autumn  dislike  Pleasant   200      400\n",
              "tourist8     No  autumn      NaN     Harsh   200      400\n",
              "tourist9    NaN  Spring     like  Pleasant   200      400"
            ]
          },
          "execution_count": 14,
          "metadata": {},
          "output_type": "execute_result"
        }
      ],
      "source": [
        "DFnew"
      ]
    },
    {
      "cell_type": "markdown",
      "metadata": {
        "id": "WtKzJswPp8D4"
      },
      "source": [
        "## using rename() and reflecting changes in original DF"
      ]
    },
    {
      "cell_type": "code",
      "execution_count": 16,
      "metadata": {
        "id": "OMPQnpUCppQW"
      },
      "outputs": [],
      "source": [
        "DF=DF.rename(index={'TOURIST9': 'T9'},\n",
        "            columns={'extra': 'expenditure'})"
      ]
    },
    {
      "cell_type": "code",
      "execution_count": 163,
      "metadata": {
        "id": "q7ZzkPc9qTzw"
      },
      "outputs": [],
      "source": [
        "DF.rename(index={'TOURIST7': 'T7'},\n",
        "            columns={'TOURIST': 'LIKENESS'},inplace=True)"
      ]
    },
    {
      "cell_type": "code",
      "execution_count": 17,
      "metadata": {
        "colab": {
          "base_uri": "https://localhost:8080/",
          "height": 327
        },
        "id": "AQNnUIEpcPKY",
        "outputId": "6d12cb0e-63a3-48b9-d9c6-6ef319ffd165"
      },
      "outputs": [
        {
          "data": {
            "text/html": [
              "<div>\n",
              "<style scoped>\n",
              "    .dataframe tbody tr th:only-of-type {\n",
              "        vertical-align: middle;\n",
              "    }\n",
              "\n",
              "    .dataframe tbody tr th {\n",
              "        vertical-align: top;\n",
              "    }\n",
              "\n",
              "    .dataframe thead th {\n",
              "        text-align: right;\n",
              "    }\n",
              "</style>\n",
              "<table border=\"1\" class=\"dataframe\">\n",
              "  <thead>\n",
              "    <tr style=\"text-align: right;\">\n",
              "      <th></th>\n",
              "      <th>Season</th>\n",
              "      <th>Weather</th>\n",
              "      <th>Tourist</th>\n",
              "      <th>Labels</th>\n",
              "      <th>cost</th>\n",
              "      <th>newcost</th>\n",
              "      <th>expenditure</th>\n",
              "    </tr>\n",
              "  </thead>\n",
              "  <tbody>\n",
              "    <tr>\n",
              "      <th>tourist1</th>\n",
              "      <td>Summer</td>\n",
              "      <td>Pleasant</td>\n",
              "      <td>like</td>\n",
              "      <td>Yes</td>\n",
              "      <td>100</td>\n",
              "      <td>200</td>\n",
              "      <td>122</td>\n",
              "    </tr>\n",
              "    <tr>\n",
              "      <th>tourist2</th>\n",
              "      <td>Summer</td>\n",
              "      <td>Hot</td>\n",
              "      <td>dislike</td>\n",
              "      <td>Yes</td>\n",
              "      <td>100</td>\n",
              "      <td>200</td>\n",
              "      <td>24</td>\n",
              "    </tr>\n",
              "    <tr>\n",
              "      <th>tourist3</th>\n",
              "      <td>Summer</td>\n",
              "      <td>Pleasant</td>\n",
              "      <td>like</td>\n",
              "      <td>Yes</td>\n",
              "      <td>100</td>\n",
              "      <td>200</td>\n",
              "      <td>48</td>\n",
              "    </tr>\n",
              "    <tr>\n",
              "      <th>tourist4</th>\n",
              "      <td>winter</td>\n",
              "      <td>Harsh</td>\n",
              "      <td>like</td>\n",
              "      <td>Yes</td>\n",
              "      <td>150</td>\n",
              "      <td>300</td>\n",
              "      <td>45</td>\n",
              "    </tr>\n",
              "    <tr>\n",
              "      <th>tourist5</th>\n",
              "      <td>winter</td>\n",
              "      <td>Pleasant</td>\n",
              "      <td>like</td>\n",
              "      <td>No</td>\n",
              "      <td>150</td>\n",
              "      <td>300</td>\n",
              "      <td>41</td>\n",
              "    </tr>\n",
              "    <tr>\n",
              "      <th>tourist6</th>\n",
              "      <td>autumn</td>\n",
              "      <td>Dry</td>\n",
              "      <td>dislike</td>\n",
              "      <td>Yes</td>\n",
              "      <td>200</td>\n",
              "      <td>400</td>\n",
              "      <td>44</td>\n",
              "    </tr>\n",
              "    <tr>\n",
              "      <th>tourist7</th>\n",
              "      <td>autumn</td>\n",
              "      <td>Pleasant</td>\n",
              "      <td>dislike</td>\n",
              "      <td>Yes</td>\n",
              "      <td>200</td>\n",
              "      <td>400</td>\n",
              "      <td>91</td>\n",
              "    </tr>\n",
              "    <tr>\n",
              "      <th>tourist8</th>\n",
              "      <td>autumn</td>\n",
              "      <td>Harsh</td>\n",
              "      <td>NaN</td>\n",
              "      <td>No</td>\n",
              "      <td>200</td>\n",
              "      <td>400</td>\n",
              "      <td>3</td>\n",
              "    </tr>\n",
              "    <tr>\n",
              "      <th>tourist9</th>\n",
              "      <td>Spring</td>\n",
              "      <td>Pleasant</td>\n",
              "      <td>like</td>\n",
              "      <td>NaN</td>\n",
              "      <td>200</td>\n",
              "      <td>400</td>\n",
              "      <td>16</td>\n",
              "    </tr>\n",
              "  </tbody>\n",
              "</table>\n",
              "</div>"
            ],
            "text/plain": [
              "          Season   Weather  Tourist Labels  cost  newcost  expenditure\n",
              "tourist1  Summer  Pleasant     like    Yes   100      200          122\n",
              "tourist2  Summer       Hot  dislike    Yes   100      200           24\n",
              "tourist3  Summer  Pleasant     like    Yes   100      200           48\n",
              "tourist4  winter     Harsh     like    Yes   150      300           45\n",
              "tourist5  winter  Pleasant     like     No   150      300           41\n",
              "tourist6  autumn       Dry  dislike    Yes   200      400           44\n",
              "tourist7  autumn  Pleasant  dislike    Yes   200      400           91\n",
              "tourist8  autumn     Harsh      NaN     No   200      400            3\n",
              "tourist9  Spring  Pleasant     like    NaN   200      400           16"
            ]
          },
          "execution_count": 17,
          "metadata": {},
          "output_type": "execute_result"
        }
      ],
      "source": [
        "DF"
      ]
    },
    {
      "cell_type": "markdown",
      "metadata": {},
      "source": [
        "## making  a duplicate column name"
      ]
    },
    {
      "cell_type": "code",
      "execution_count": 20,
      "metadata": {
        "id": "NMT0uOBtfr2B"
      },
      "outputs": [],
      "source": [
        "DF=DF.rename(columns={'cost':'newcost'})"
      ]
    },
    {
      "cell_type": "code",
      "execution_count": 34,
      "metadata": {
        "colab": {
          "base_uri": "https://localhost:8080/",
          "height": 327
        },
        "id": "aGkKhtXPixHd",
        "outputId": "e8dac674-207a-4eeb-b3a8-eb6543ca57da"
      },
      "outputs": [
        {
          "data": {
            "text/html": [
              "<div>\n",
              "<style scoped>\n",
              "    .dataframe tbody tr th:only-of-type {\n",
              "        vertical-align: middle;\n",
              "    }\n",
              "\n",
              "    .dataframe tbody tr th {\n",
              "        vertical-align: top;\n",
              "    }\n",
              "\n",
              "    .dataframe thead th {\n",
              "        text-align: right;\n",
              "    }\n",
              "</style>\n",
              "<table border=\"1\" class=\"dataframe\">\n",
              "  <thead>\n",
              "    <tr style=\"text-align: right;\">\n",
              "      <th></th>\n",
              "      <th>Season</th>\n",
              "      <th>Weather</th>\n",
              "      <th>Tourist</th>\n",
              "      <th>Labels</th>\n",
              "      <th>newcost</th>\n",
              "      <th>newcost</th>\n",
              "      <th>expenditure</th>\n",
              "    </tr>\n",
              "  </thead>\n",
              "  <tbody>\n",
              "    <tr>\n",
              "      <th>tourist1</th>\n",
              "      <td>Summer</td>\n",
              "      <td>Pleasant</td>\n",
              "      <td>like</td>\n",
              "      <td>Yes</td>\n",
              "      <td>100</td>\n",
              "      <td>200</td>\n",
              "      <td>122</td>\n",
              "    </tr>\n",
              "    <tr>\n",
              "      <th>tourist2</th>\n",
              "      <td>Summer</td>\n",
              "      <td>Hot</td>\n",
              "      <td>dislike</td>\n",
              "      <td>Yes</td>\n",
              "      <td>100</td>\n",
              "      <td>200</td>\n",
              "      <td>24</td>\n",
              "    </tr>\n",
              "    <tr>\n",
              "      <th>tourist3</th>\n",
              "      <td>Summer</td>\n",
              "      <td>Pleasant</td>\n",
              "      <td>like</td>\n",
              "      <td>Yes</td>\n",
              "      <td>100</td>\n",
              "      <td>200</td>\n",
              "      <td>48</td>\n",
              "    </tr>\n",
              "    <tr>\n",
              "      <th>tourist4</th>\n",
              "      <td>winter</td>\n",
              "      <td>Harsh</td>\n",
              "      <td>like</td>\n",
              "      <td>Yes</td>\n",
              "      <td>150</td>\n",
              "      <td>300</td>\n",
              "      <td>45</td>\n",
              "    </tr>\n",
              "    <tr>\n",
              "      <th>tourist5</th>\n",
              "      <td>winter</td>\n",
              "      <td>Pleasant</td>\n",
              "      <td>like</td>\n",
              "      <td>No</td>\n",
              "      <td>150</td>\n",
              "      <td>300</td>\n",
              "      <td>41</td>\n",
              "    </tr>\n",
              "    <tr>\n",
              "      <th>tourist6</th>\n",
              "      <td>autumn</td>\n",
              "      <td>Dry</td>\n",
              "      <td>dislike</td>\n",
              "      <td>Yes</td>\n",
              "      <td>200</td>\n",
              "      <td>400</td>\n",
              "      <td>44</td>\n",
              "    </tr>\n",
              "    <tr>\n",
              "      <th>tourist7</th>\n",
              "      <td>autumn</td>\n",
              "      <td>Pleasant</td>\n",
              "      <td>dislike</td>\n",
              "      <td>Yes</td>\n",
              "      <td>200</td>\n",
              "      <td>400</td>\n",
              "      <td>91</td>\n",
              "    </tr>\n",
              "    <tr>\n",
              "      <th>tourist8</th>\n",
              "      <td>autumn</td>\n",
              "      <td>Harsh</td>\n",
              "      <td>NaN</td>\n",
              "      <td>No</td>\n",
              "      <td>200</td>\n",
              "      <td>400</td>\n",
              "      <td>3</td>\n",
              "    </tr>\n",
              "    <tr>\n",
              "      <th>tourist9</th>\n",
              "      <td>Spring</td>\n",
              "      <td>Pleasant</td>\n",
              "      <td>like</td>\n",
              "      <td>NaN</td>\n",
              "      <td>200</td>\n",
              "      <td>400</td>\n",
              "      <td>16</td>\n",
              "    </tr>\n",
              "  </tbody>\n",
              "</table>\n",
              "</div>"
            ],
            "text/plain": [
              "          Season   Weather  Tourist Labels newcost newcost expenditure\n",
              "tourist1  Summer  Pleasant     like    Yes     100     200         122\n",
              "tourist2  Summer       Hot  dislike    Yes     100     200          24\n",
              "tourist3  Summer  Pleasant     like    Yes     100     200          48\n",
              "tourist4  winter     Harsh     like    Yes     150     300          45\n",
              "tourist5  winter  Pleasant     like     No     150     300          41\n",
              "tourist6  autumn       Dry  dislike    Yes     200     400          44\n",
              "tourist7  autumn  Pleasant  dislike    Yes     200     400          91\n",
              "tourist8  autumn     Harsh      NaN     No     200     400           3\n",
              "tourist9  Spring  Pleasant     like    NaN     200     400          16"
            ]
          },
          "execution_count": 34,
          "metadata": {},
          "output_type": "execute_result"
        }
      ],
      "source": [
        "DF"
      ]
    },
    {
      "cell_type": "code",
      "execution_count": 24,
      "metadata": {},
      "outputs": [],
      "source": [
        "DF['Newcol']=DF['expenditure']"
      ]
    },
    {
      "cell_type": "code",
      "execution_count": 29,
      "metadata": {},
      "outputs": [],
      "source": [
        "DF=DF.T.drop_duplicates().T"
      ]
    },
    {
      "cell_type": "code",
      "execution_count": 31,
      "metadata": {},
      "outputs": [
        {
          "data": {
            "text/plain": [
              "2"
            ]
          },
          "execution_count": 31,
          "metadata": {},
          "output_type": "execute_result"
        }
      ],
      "source": [
        "DF.columns.get_loc('Tourist')"
      ]
    },
    {
      "cell_type": "markdown",
      "metadata": {},
      "source": [
        "## get_loc() returns mask list for multiple columns with same name"
      ]
    },
    {
      "cell_type": "code",
      "execution_count": 32,
      "metadata": {
        "colab": {
          "base_uri": "https://localhost:8080/"
        },
        "id": "631iwleucHyY",
        "outputId": "dd690504-323f-43e0-cc66-092fa0991d41"
      },
      "outputs": [],
      "source": [
        "mask=DF.columns.get_loc('newcost')"
      ]
    },
    {
      "cell_type": "code",
      "execution_count": 33,
      "metadata": {},
      "outputs": [
        {
          "data": {
            "text/plain": [
              "array([False, False, False, False,  True,  True, False])"
            ]
          },
          "execution_count": 33,
          "metadata": {},
          "output_type": "execute_result"
        }
      ],
      "source": [
        "mask"
      ]
    },
    {
      "cell_type": "code",
      "execution_count": 35,
      "metadata": {},
      "outputs": [
        {
          "data": {
            "text/plain": [
              "array([False, False, False, False, False,  True, False])"
            ]
          },
          "execution_count": 35,
          "metadata": {},
          "output_type": "execute_result"
        }
      ],
      "source": [
        "DF.columns.duplicated()"
      ]
    },
    {
      "cell_type": "markdown",
      "metadata": {},
      "source": [
        "## removing last duplicate column"
      ]
    },
    {
      "cell_type": "code",
      "execution_count": 36,
      "metadata": {},
      "outputs": [],
      "source": [
        "DF=DF.loc[:,~DF.columns.duplicated()]"
      ]
    },
    {
      "cell_type": "code",
      "execution_count": 38,
      "metadata": {},
      "outputs": [
        {
          "data": {
            "text/html": [
              "<div>\n",
              "<style scoped>\n",
              "    .dataframe tbody tr th:only-of-type {\n",
              "        vertical-align: middle;\n",
              "    }\n",
              "\n",
              "    .dataframe tbody tr th {\n",
              "        vertical-align: top;\n",
              "    }\n",
              "\n",
              "    .dataframe thead th {\n",
              "        text-align: right;\n",
              "    }\n",
              "</style>\n",
              "<table border=\"1\" class=\"dataframe\">\n",
              "  <thead>\n",
              "    <tr style=\"text-align: right;\">\n",
              "      <th></th>\n",
              "      <th>Season</th>\n",
              "      <th>Weather</th>\n",
              "      <th>Tourist</th>\n",
              "      <th>Labels</th>\n",
              "      <th>newcost</th>\n",
              "      <th>expenditure</th>\n",
              "    </tr>\n",
              "  </thead>\n",
              "  <tbody>\n",
              "    <tr>\n",
              "      <th>tourist1</th>\n",
              "      <td>Summer</td>\n",
              "      <td>Pleasant</td>\n",
              "      <td>like</td>\n",
              "      <td>Yes</td>\n",
              "      <td>100</td>\n",
              "      <td>122</td>\n",
              "    </tr>\n",
              "    <tr>\n",
              "      <th>tourist2</th>\n",
              "      <td>Summer</td>\n",
              "      <td>Hot</td>\n",
              "      <td>dislike</td>\n",
              "      <td>Yes</td>\n",
              "      <td>100</td>\n",
              "      <td>24</td>\n",
              "    </tr>\n",
              "    <tr>\n",
              "      <th>tourist3</th>\n",
              "      <td>Summer</td>\n",
              "      <td>Pleasant</td>\n",
              "      <td>like</td>\n",
              "      <td>Yes</td>\n",
              "      <td>100</td>\n",
              "      <td>48</td>\n",
              "    </tr>\n",
              "    <tr>\n",
              "      <th>tourist4</th>\n",
              "      <td>winter</td>\n",
              "      <td>Harsh</td>\n",
              "      <td>like</td>\n",
              "      <td>Yes</td>\n",
              "      <td>150</td>\n",
              "      <td>45</td>\n",
              "    </tr>\n",
              "    <tr>\n",
              "      <th>tourist5</th>\n",
              "      <td>winter</td>\n",
              "      <td>Pleasant</td>\n",
              "      <td>like</td>\n",
              "      <td>No</td>\n",
              "      <td>150</td>\n",
              "      <td>41</td>\n",
              "    </tr>\n",
              "    <tr>\n",
              "      <th>tourist6</th>\n",
              "      <td>autumn</td>\n",
              "      <td>Dry</td>\n",
              "      <td>dislike</td>\n",
              "      <td>Yes</td>\n",
              "      <td>200</td>\n",
              "      <td>44</td>\n",
              "    </tr>\n",
              "    <tr>\n",
              "      <th>tourist7</th>\n",
              "      <td>autumn</td>\n",
              "      <td>Pleasant</td>\n",
              "      <td>dislike</td>\n",
              "      <td>Yes</td>\n",
              "      <td>200</td>\n",
              "      <td>91</td>\n",
              "    </tr>\n",
              "    <tr>\n",
              "      <th>tourist8</th>\n",
              "      <td>autumn</td>\n",
              "      <td>Harsh</td>\n",
              "      <td>NaN</td>\n",
              "      <td>No</td>\n",
              "      <td>200</td>\n",
              "      <td>3</td>\n",
              "    </tr>\n",
              "    <tr>\n",
              "      <th>tourist9</th>\n",
              "      <td>Spring</td>\n",
              "      <td>Pleasant</td>\n",
              "      <td>like</td>\n",
              "      <td>NaN</td>\n",
              "      <td>200</td>\n",
              "      <td>16</td>\n",
              "    </tr>\n",
              "  </tbody>\n",
              "</table>\n",
              "</div>"
            ],
            "text/plain": [
              "          Season   Weather  Tourist Labels newcost expenditure\n",
              "tourist1  Summer  Pleasant     like    Yes     100         122\n",
              "tourist2  Summer       Hot  dislike    Yes     100          24\n",
              "tourist3  Summer  Pleasant     like    Yes     100          48\n",
              "tourist4  winter     Harsh     like    Yes     150          45\n",
              "tourist5  winter  Pleasant     like     No     150          41\n",
              "tourist6  autumn       Dry  dislike    Yes     200          44\n",
              "tourist7  autumn  Pleasant  dislike    Yes     200          91\n",
              "tourist8  autumn     Harsh      NaN     No     200           3\n",
              "tourist9  Spring  Pleasant     like    NaN     200          16"
            ]
          },
          "execution_count": 38,
          "metadata": {},
          "output_type": "execute_result"
        }
      ],
      "source": [
        "DF"
      ]
    },
    {
      "cell_type": "code",
      "execution_count": 115,
      "metadata": {
        "colab": {
          "base_uri": "https://localhost:8080/",
          "height": 327
        },
        "id": "XhYjclBWsn88",
        "outputId": "072420a0-5326-4348-fcb4-3c6fce1c6fd6"
      },
      "outputs": [
        {
          "data": {
            "text/html": [
              "<div>\n",
              "<style scoped>\n",
              "    .dataframe tbody tr th:only-of-type {\n",
              "        vertical-align: middle;\n",
              "    }\n",
              "\n",
              "    .dataframe tbody tr th {\n",
              "        vertical-align: top;\n",
              "    }\n",
              "\n",
              "    .dataframe thead th {\n",
              "        text-align: right;\n",
              "    }\n",
              "</style>\n",
              "<table border=\"1\" class=\"dataframe\">\n",
              "  <thead>\n",
              "    <tr style=\"text-align: right;\">\n",
              "      <th></th>\n",
              "      <th>Season</th>\n",
              "      <th>Weather</th>\n",
              "      <th>Tourist</th>\n",
              "      <th>Labels</th>\n",
              "      <th>cost</th>\n",
              "      <th>extra</th>\n",
              "    </tr>\n",
              "  </thead>\n",
              "  <tbody>\n",
              "    <tr>\n",
              "      <th>0</th>\n",
              "      <td>Summer</td>\n",
              "      <td>Pleasant</td>\n",
              "      <td>like</td>\n",
              "      <td>Yes</td>\n",
              "      <td>100</td>\n",
              "      <td>125</td>\n",
              "    </tr>\n",
              "    <tr>\n",
              "      <th>1</th>\n",
              "      <td>Summer</td>\n",
              "      <td>Hot</td>\n",
              "      <td>dislike</td>\n",
              "      <td>Yes</td>\n",
              "      <td>100</td>\n",
              "      <td>62</td>\n",
              "    </tr>\n",
              "    <tr>\n",
              "      <th>2</th>\n",
              "      <td>Summer</td>\n",
              "      <td>Pleasant</td>\n",
              "      <td>like</td>\n",
              "      <td>Yes</td>\n",
              "      <td>100</td>\n",
              "      <td>90</td>\n",
              "    </tr>\n",
              "    <tr>\n",
              "      <th>3</th>\n",
              "      <td>winter</td>\n",
              "      <td>Harsh</td>\n",
              "      <td>like</td>\n",
              "      <td>Yes</td>\n",
              "      <td>150</td>\n",
              "      <td>50</td>\n",
              "    </tr>\n",
              "    <tr>\n",
              "      <th>4</th>\n",
              "      <td>winter</td>\n",
              "      <td>Pleasant</td>\n",
              "      <td>like</td>\n",
              "      <td>No</td>\n",
              "      <td>150</td>\n",
              "      <td>69</td>\n",
              "    </tr>\n",
              "    <tr>\n",
              "      <th>5</th>\n",
              "      <td>autumn</td>\n",
              "      <td>Dry</td>\n",
              "      <td>dislike</td>\n",
              "      <td>Yes</td>\n",
              "      <td>200</td>\n",
              "      <td>88</td>\n",
              "    </tr>\n",
              "    <tr>\n",
              "      <th>6</th>\n",
              "      <td>autumn</td>\n",
              "      <td>Pleasant</td>\n",
              "      <td>dislike</td>\n",
              "      <td>Yes</td>\n",
              "      <td>200</td>\n",
              "      <td>128</td>\n",
              "    </tr>\n",
              "    <tr>\n",
              "      <th>7</th>\n",
              "      <td>autumn</td>\n",
              "      <td>Harsh</td>\n",
              "      <td>NaN</td>\n",
              "      <td>No</td>\n",
              "      <td>200</td>\n",
              "      <td>107</td>\n",
              "    </tr>\n",
              "    <tr>\n",
              "      <th>8</th>\n",
              "      <td>Spring</td>\n",
              "      <td>Pleasant</td>\n",
              "      <td>like</td>\n",
              "      <td>NaN</td>\n",
              "      <td>200</td>\n",
              "      <td>69</td>\n",
              "    </tr>\n",
              "  </tbody>\n",
              "</table>\n",
              "</div>"
            ],
            "text/plain": [
              "   Season   Weather  Tourist Labels  cost  extra\n",
              "0  Summer  Pleasant     like    Yes   100    125\n",
              "1  Summer       Hot  dislike    Yes   100     62\n",
              "2  Summer  Pleasant     like    Yes   100     90\n",
              "3  winter     Harsh     like    Yes   150     50\n",
              "4  winter  Pleasant     like     No   150     69\n",
              "5  autumn       Dry  dislike    Yes   200     88\n",
              "6  autumn  Pleasant  dislike    Yes   200    128\n",
              "7  autumn     Harsh      NaN     No   200    107\n",
              "8  Spring  Pleasant     like    NaN   200     69"
            ]
          },
          "execution_count": 115,
          "metadata": {},
          "output_type": "execute_result"
        }
      ],
      "source": [
        "DF"
      ]
    },
    {
      "cell_type": "code",
      "execution_count": 66,
      "metadata": {
        "colab": {
          "base_uri": "https://localhost:8080/"
        },
        "id": "ninp0nslJvb5",
        "outputId": "e8a35d26-5633-413b-e0d3-bebc20841e86"
      },
      "outputs": [
        {
          "data": {
            "text/plain": [
              "SEASON        Spring\n",
              "WEATHER     Pleasant\n",
              "LIKENESS        like\n",
              "LABELS           NaN\n",
              "NEWCOST          200\n",
              "EXTRA             78\n",
              "NEWCOST          400\n",
              "Name: tourist9, dtype: object"
            ]
          },
          "execution_count": 66,
          "metadata": {},
          "output_type": "execute_result"
        }
      ],
      "source": [
        "DF.iloc[len(DF)-1]"
      ]
    },
    {
      "cell_type": "markdown",
      "metadata": {
        "id": "xnsLtBgJRji9"
      },
      "source": [
        "# explicitly adding a duplicate coulmn name if not in DF else removing the duplicate coulmn with same name"
      ]
    },
    {
      "cell_type": "markdown",
      "metadata": {
        "id": "ZKjx4iOuWTUV"
      },
      "source": [
        "# user-defined fn to get duplicate colname position else returns len+1"
      ]
    },
    {
      "cell_type": "code",
      "execution_count": 41,
      "metadata": {
        "id": "2vLKWcvWWTyy"
      },
      "outputs": [],
      "source": [
        "def fnposcol():\n",
        "  global DF\n",
        "  A=DF.columns.duplicated()  #true/false value\n",
        "  S=pd.Series(A)\n",
        "  updated=len(DF)+100\n",
        "  if S.nunique()!=1:\n",
        "    for (i,x) in enumerate(A):\n",
        "      if x==True:\n",
        "       updated=i\n",
        "       print(\"duplicate column at position:\",updated)\n",
        "  else:\n",
        "    print(\"no duplicate column name\")\n",
        "    ans=input(\"do you want to add a duplicate column ? (Y/N)\")\n",
        "    if ans=='Y':\n",
        "      DF['duplicatecol']=DF[DF.columns[len(DF.columns)-1]]\n",
        "      print(\"adding a duplicate column\")\n",
        "      DF=DF.rename(columns={'duplicatecol':DF.columns[0]})\n",
        "      display(DF)\n",
        "      print(\"Duplicate column added \")\n",
        "  return updated"
      ]
    },
    {
      "cell_type": "code",
      "execution_count": 39,
      "metadata": {},
      "outputs": [
        {
          "data": {
            "text/html": [
              "<div>\n",
              "<style scoped>\n",
              "    .dataframe tbody tr th:only-of-type {\n",
              "        vertical-align: middle;\n",
              "    }\n",
              "\n",
              "    .dataframe tbody tr th {\n",
              "        vertical-align: top;\n",
              "    }\n",
              "\n",
              "    .dataframe thead th {\n",
              "        text-align: right;\n",
              "    }\n",
              "</style>\n",
              "<table border=\"1\" class=\"dataframe\">\n",
              "  <thead>\n",
              "    <tr style=\"text-align: right;\">\n",
              "      <th></th>\n",
              "      <th>Season</th>\n",
              "      <th>Weather</th>\n",
              "      <th>Tourist</th>\n",
              "      <th>Labels</th>\n",
              "      <th>newcost</th>\n",
              "      <th>expenditure</th>\n",
              "    </tr>\n",
              "  </thead>\n",
              "  <tbody>\n",
              "    <tr>\n",
              "      <th>tourist1</th>\n",
              "      <td>Summer</td>\n",
              "      <td>Pleasant</td>\n",
              "      <td>like</td>\n",
              "      <td>Yes</td>\n",
              "      <td>100</td>\n",
              "      <td>122</td>\n",
              "    </tr>\n",
              "    <tr>\n",
              "      <th>tourist2</th>\n",
              "      <td>Summer</td>\n",
              "      <td>Hot</td>\n",
              "      <td>dislike</td>\n",
              "      <td>Yes</td>\n",
              "      <td>100</td>\n",
              "      <td>24</td>\n",
              "    </tr>\n",
              "    <tr>\n",
              "      <th>tourist3</th>\n",
              "      <td>Summer</td>\n",
              "      <td>Pleasant</td>\n",
              "      <td>like</td>\n",
              "      <td>Yes</td>\n",
              "      <td>100</td>\n",
              "      <td>48</td>\n",
              "    </tr>\n",
              "    <tr>\n",
              "      <th>tourist4</th>\n",
              "      <td>winter</td>\n",
              "      <td>Harsh</td>\n",
              "      <td>like</td>\n",
              "      <td>Yes</td>\n",
              "      <td>150</td>\n",
              "      <td>45</td>\n",
              "    </tr>\n",
              "    <tr>\n",
              "      <th>tourist5</th>\n",
              "      <td>winter</td>\n",
              "      <td>Pleasant</td>\n",
              "      <td>like</td>\n",
              "      <td>No</td>\n",
              "      <td>150</td>\n",
              "      <td>41</td>\n",
              "    </tr>\n",
              "    <tr>\n",
              "      <th>tourist6</th>\n",
              "      <td>autumn</td>\n",
              "      <td>Dry</td>\n",
              "      <td>dislike</td>\n",
              "      <td>Yes</td>\n",
              "      <td>200</td>\n",
              "      <td>44</td>\n",
              "    </tr>\n",
              "    <tr>\n",
              "      <th>tourist7</th>\n",
              "      <td>autumn</td>\n",
              "      <td>Pleasant</td>\n",
              "      <td>dislike</td>\n",
              "      <td>Yes</td>\n",
              "      <td>200</td>\n",
              "      <td>91</td>\n",
              "    </tr>\n",
              "    <tr>\n",
              "      <th>tourist8</th>\n",
              "      <td>autumn</td>\n",
              "      <td>Harsh</td>\n",
              "      <td>NaN</td>\n",
              "      <td>No</td>\n",
              "      <td>200</td>\n",
              "      <td>3</td>\n",
              "    </tr>\n",
              "    <tr>\n",
              "      <th>tourist9</th>\n",
              "      <td>Spring</td>\n",
              "      <td>Pleasant</td>\n",
              "      <td>like</td>\n",
              "      <td>NaN</td>\n",
              "      <td>200</td>\n",
              "      <td>16</td>\n",
              "    </tr>\n",
              "  </tbody>\n",
              "</table>\n",
              "</div>"
            ],
            "text/plain": [
              "          Season   Weather  Tourist Labels newcost expenditure\n",
              "tourist1  Summer  Pleasant     like    Yes     100         122\n",
              "tourist2  Summer       Hot  dislike    Yes     100          24\n",
              "tourist3  Summer  Pleasant     like    Yes     100          48\n",
              "tourist4  winter     Harsh     like    Yes     150          45\n",
              "tourist5  winter  Pleasant     like     No     150          41\n",
              "tourist6  autumn       Dry  dislike    Yes     200          44\n",
              "tourist7  autumn  Pleasant  dislike    Yes     200          91\n",
              "tourist8  autumn     Harsh      NaN     No     200           3\n",
              "tourist9  Spring  Pleasant     like    NaN     200          16"
            ]
          },
          "execution_count": 39,
          "metadata": {},
          "output_type": "execute_result"
        }
      ],
      "source": [
        "DF"
      ]
    },
    {
      "cell_type": "code",
      "execution_count": 135,
      "metadata": {},
      "outputs": [
        {
          "data": {
            "text/plain": [
              "'Season'"
            ]
          },
          "execution_count": 135,
          "metadata": {},
          "output_type": "execute_result"
        }
      ],
      "source": [
        "DF.columns[0]"
      ]
    },
    {
      "cell_type": "code",
      "execution_count": 173,
      "metadata": {
        "colab": {
          "base_uri": "https://localhost:8080/"
        },
        "id": "_Wb0kiVfthvv",
        "outputId": "7b26e261-07cd-49ec-8d01-8762ec73d7d4"
      },
      "outputs": [
        {
          "name": "stdout",
          "output_type": "stream",
          "text": [
            "Index(['SEASON', 'WEATHER', 'LIKENESS', 'LABELS', 'NEWCOST', 'EXTRA'], dtype='object')\n"
          ]
        }
      ],
      "source": [
        "print(DF.columns)"
      ]
    },
    {
      "cell_type": "code",
      "execution_count": 137,
      "metadata": {
        "colab": {
          "base_uri": "https://localhost:8080/"
        },
        "id": "hcY5iJbltU2t",
        "outputId": "0ea2e3d1-d20d-4c56-ebfe-fe29104700c4"
      },
      "outputs": [
        {
          "name": "stdout",
          "output_type": "stream",
          "text": [
            "Index(['Season', 'Weather', 'Tourist', 'Labels', 'cost', 'extra',\n",
            "       'duplicatecol'],\n",
            "      dtype='object') 7\n"
          ]
        }
      ],
      "source": [
        "print(DF.columns.unique(), DF.columns.nunique())"
      ]
    },
    {
      "cell_type": "code",
      "execution_count": 42,
      "metadata": {
        "colab": {
          "base_uri": "https://localhost:8080/"
        },
        "id": "eejBo-IssuYn",
        "outputId": "e6158d13-1149-4ccb-e641-d1d3d1dac859"
      },
      "outputs": [
        {
          "name": "stdout",
          "output_type": "stream",
          "text": [
            "no duplicate column name\n",
            "adding a duplicate column\n"
          ]
        },
        {
          "data": {
            "text/html": [
              "<div>\n",
              "<style scoped>\n",
              "    .dataframe tbody tr th:only-of-type {\n",
              "        vertical-align: middle;\n",
              "    }\n",
              "\n",
              "    .dataframe tbody tr th {\n",
              "        vertical-align: top;\n",
              "    }\n",
              "\n",
              "    .dataframe thead th {\n",
              "        text-align: right;\n",
              "    }\n",
              "</style>\n",
              "<table border=\"1\" class=\"dataframe\">\n",
              "  <thead>\n",
              "    <tr style=\"text-align: right;\">\n",
              "      <th></th>\n",
              "      <th>Season</th>\n",
              "      <th>Weather</th>\n",
              "      <th>Tourist</th>\n",
              "      <th>Labels</th>\n",
              "      <th>newcost</th>\n",
              "      <th>expenditure</th>\n",
              "      <th>Season</th>\n",
              "    </tr>\n",
              "  </thead>\n",
              "  <tbody>\n",
              "    <tr>\n",
              "      <th>tourist1</th>\n",
              "      <td>Summer</td>\n",
              "      <td>Pleasant</td>\n",
              "      <td>like</td>\n",
              "      <td>Yes</td>\n",
              "      <td>100</td>\n",
              "      <td>122</td>\n",
              "      <td>122</td>\n",
              "    </tr>\n",
              "    <tr>\n",
              "      <th>tourist2</th>\n",
              "      <td>Summer</td>\n",
              "      <td>Hot</td>\n",
              "      <td>dislike</td>\n",
              "      <td>Yes</td>\n",
              "      <td>100</td>\n",
              "      <td>24</td>\n",
              "      <td>24</td>\n",
              "    </tr>\n",
              "    <tr>\n",
              "      <th>tourist3</th>\n",
              "      <td>Summer</td>\n",
              "      <td>Pleasant</td>\n",
              "      <td>like</td>\n",
              "      <td>Yes</td>\n",
              "      <td>100</td>\n",
              "      <td>48</td>\n",
              "      <td>48</td>\n",
              "    </tr>\n",
              "    <tr>\n",
              "      <th>tourist4</th>\n",
              "      <td>winter</td>\n",
              "      <td>Harsh</td>\n",
              "      <td>like</td>\n",
              "      <td>Yes</td>\n",
              "      <td>150</td>\n",
              "      <td>45</td>\n",
              "      <td>45</td>\n",
              "    </tr>\n",
              "    <tr>\n",
              "      <th>tourist5</th>\n",
              "      <td>winter</td>\n",
              "      <td>Pleasant</td>\n",
              "      <td>like</td>\n",
              "      <td>No</td>\n",
              "      <td>150</td>\n",
              "      <td>41</td>\n",
              "      <td>41</td>\n",
              "    </tr>\n",
              "    <tr>\n",
              "      <th>tourist6</th>\n",
              "      <td>autumn</td>\n",
              "      <td>Dry</td>\n",
              "      <td>dislike</td>\n",
              "      <td>Yes</td>\n",
              "      <td>200</td>\n",
              "      <td>44</td>\n",
              "      <td>44</td>\n",
              "    </tr>\n",
              "    <tr>\n",
              "      <th>tourist7</th>\n",
              "      <td>autumn</td>\n",
              "      <td>Pleasant</td>\n",
              "      <td>dislike</td>\n",
              "      <td>Yes</td>\n",
              "      <td>200</td>\n",
              "      <td>91</td>\n",
              "      <td>91</td>\n",
              "    </tr>\n",
              "    <tr>\n",
              "      <th>tourist8</th>\n",
              "      <td>autumn</td>\n",
              "      <td>Harsh</td>\n",
              "      <td>NaN</td>\n",
              "      <td>No</td>\n",
              "      <td>200</td>\n",
              "      <td>3</td>\n",
              "      <td>3</td>\n",
              "    </tr>\n",
              "    <tr>\n",
              "      <th>tourist9</th>\n",
              "      <td>Spring</td>\n",
              "      <td>Pleasant</td>\n",
              "      <td>like</td>\n",
              "      <td>NaN</td>\n",
              "      <td>200</td>\n",
              "      <td>16</td>\n",
              "      <td>16</td>\n",
              "    </tr>\n",
              "  </tbody>\n",
              "</table>\n",
              "</div>"
            ],
            "text/plain": [
              "          Season   Weather  Tourist Labels newcost expenditure Season\n",
              "tourist1  Summer  Pleasant     like    Yes     100         122    122\n",
              "tourist2  Summer       Hot  dislike    Yes     100          24     24\n",
              "tourist3  Summer  Pleasant     like    Yes     100          48     48\n",
              "tourist4  winter     Harsh     like    Yes     150          45     45\n",
              "tourist5  winter  Pleasant     like     No     150          41     41\n",
              "tourist6  autumn       Dry  dislike    Yes     200          44     44\n",
              "tourist7  autumn  Pleasant  dislike    Yes     200          91     91\n",
              "tourist8  autumn     Harsh      NaN     No     200           3      3\n",
              "tourist9  Spring  Pleasant     like    NaN     200          16     16"
            ]
          },
          "metadata": {},
          "output_type": "display_data"
        },
        {
          "name": "stdout",
          "output_type": "stream",
          "text": [
            "Duplicate column added \n",
            "duplicate column name added\n"
          ]
        }
      ],
      "source": [
        "pos=fnposcol()\n",
        "if pos < len(DF.columns):\n",
        "    print(\"duplicate column is already in DF at position: \",pos)\n",
        "else:\n",
        "    print(\"duplicate column name added\")"
      ]
    },
    {
      "cell_type": "markdown",
      "metadata": {},
      "source": [
        "## to add a new column"
      ]
    },
    {
      "cell_type": "code",
      "execution_count": 43,
      "metadata": {},
      "outputs": [],
      "source": [
        "DF.insert(0,'Extra',value=100,allow_duplicates=True)"
      ]
    },
    {
      "cell_type": "markdown",
      "metadata": {
        "id": "8Fv1cL9bAnDb"
      },
      "source": [
        "## first method to remove duplicate column, Make sure all names are in same cases"
      ]
    },
    {
      "cell_type": "code",
      "execution_count": 221,
      "metadata": {
        "colab": {
          "base_uri": "https://localhost:8080/"
        },
        "id": "p3y9mWZkBPcJ",
        "outputId": "bc2ce6da-3de8-4977-b9b1-dc0d17637ae0"
      },
      "outputs": [
        {
          "data": {
            "text/plain": [
              "Index(['Extra', 'EXTRA', 'Extra', 'Labels', 'Likeness', 'Newcost', 'Season',\n",
              "       'Weather', 'Cost', 'Cost'],\n",
              "      dtype='object')"
            ]
          },
          "execution_count": 221,
          "metadata": {},
          "output_type": "execute_result"
        }
      ],
      "source": [
        "DF.columns"
      ]
    },
    {
      "cell_type": "code",
      "execution_count": 45,
      "metadata": {},
      "outputs": [],
      "source": [
        "\n",
        "DF.columns=DF.columns.str.capitalize()\n",
        "DF.sort_index(axis=1,inplace=True)"
      ]
    },
    {
      "cell_type": "code",
      "execution_count": 49,
      "metadata": {},
      "outputs": [
        {
          "data": {
            "text/html": [
              "<div>\n",
              "<style scoped>\n",
              "    .dataframe tbody tr th:only-of-type {\n",
              "        vertical-align: middle;\n",
              "    }\n",
              "\n",
              "    .dataframe tbody tr th {\n",
              "        vertical-align: top;\n",
              "    }\n",
              "\n",
              "    .dataframe thead th {\n",
              "        text-align: right;\n",
              "    }\n",
              "</style>\n",
              "<table border=\"1\" class=\"dataframe\">\n",
              "  <thead>\n",
              "    <tr style=\"text-align: right;\">\n",
              "      <th></th>\n",
              "      <th>Expenditure</th>\n",
              "      <th>Extra</th>\n",
              "      <th>Labels</th>\n",
              "      <th>Newcost</th>\n",
              "      <th>Season</th>\n",
              "      <th>Season</th>\n",
              "      <th>Tourist</th>\n",
              "      <th>Weather</th>\n",
              "    </tr>\n",
              "  </thead>\n",
              "  <tbody>\n",
              "    <tr>\n",
              "      <th>tourist1</th>\n",
              "      <td>122</td>\n",
              "      <td>100</td>\n",
              "      <td>Yes</td>\n",
              "      <td>100</td>\n",
              "      <td>Summer</td>\n",
              "      <td>122</td>\n",
              "      <td>like</td>\n",
              "      <td>Pleasant</td>\n",
              "    </tr>\n",
              "    <tr>\n",
              "      <th>tourist2</th>\n",
              "      <td>24</td>\n",
              "      <td>100</td>\n",
              "      <td>Yes</td>\n",
              "      <td>100</td>\n",
              "      <td>Summer</td>\n",
              "      <td>24</td>\n",
              "      <td>dislike</td>\n",
              "      <td>Hot</td>\n",
              "    </tr>\n",
              "    <tr>\n",
              "      <th>tourist3</th>\n",
              "      <td>48</td>\n",
              "      <td>100</td>\n",
              "      <td>Yes</td>\n",
              "      <td>100</td>\n",
              "      <td>Summer</td>\n",
              "      <td>48</td>\n",
              "      <td>like</td>\n",
              "      <td>Pleasant</td>\n",
              "    </tr>\n",
              "    <tr>\n",
              "      <th>tourist4</th>\n",
              "      <td>45</td>\n",
              "      <td>100</td>\n",
              "      <td>Yes</td>\n",
              "      <td>150</td>\n",
              "      <td>winter</td>\n",
              "      <td>45</td>\n",
              "      <td>like</td>\n",
              "      <td>Harsh</td>\n",
              "    </tr>\n",
              "    <tr>\n",
              "      <th>tourist5</th>\n",
              "      <td>41</td>\n",
              "      <td>100</td>\n",
              "      <td>No</td>\n",
              "      <td>150</td>\n",
              "      <td>winter</td>\n",
              "      <td>41</td>\n",
              "      <td>like</td>\n",
              "      <td>Pleasant</td>\n",
              "    </tr>\n",
              "    <tr>\n",
              "      <th>tourist6</th>\n",
              "      <td>44</td>\n",
              "      <td>100</td>\n",
              "      <td>Yes</td>\n",
              "      <td>200</td>\n",
              "      <td>autumn</td>\n",
              "      <td>44</td>\n",
              "      <td>dislike</td>\n",
              "      <td>Dry</td>\n",
              "    </tr>\n",
              "    <tr>\n",
              "      <th>tourist7</th>\n",
              "      <td>91</td>\n",
              "      <td>100</td>\n",
              "      <td>Yes</td>\n",
              "      <td>200</td>\n",
              "      <td>autumn</td>\n",
              "      <td>91</td>\n",
              "      <td>dislike</td>\n",
              "      <td>Pleasant</td>\n",
              "    </tr>\n",
              "    <tr>\n",
              "      <th>tourist8</th>\n",
              "      <td>3</td>\n",
              "      <td>100</td>\n",
              "      <td>No</td>\n",
              "      <td>200</td>\n",
              "      <td>autumn</td>\n",
              "      <td>3</td>\n",
              "      <td>NaN</td>\n",
              "      <td>Harsh</td>\n",
              "    </tr>\n",
              "    <tr>\n",
              "      <th>tourist9</th>\n",
              "      <td>16</td>\n",
              "      <td>100</td>\n",
              "      <td>NaN</td>\n",
              "      <td>200</td>\n",
              "      <td>Spring</td>\n",
              "      <td>16</td>\n",
              "      <td>like</td>\n",
              "      <td>Pleasant</td>\n",
              "    </tr>\n",
              "  </tbody>\n",
              "</table>\n",
              "</div>"
            ],
            "text/plain": [
              "         Expenditure  Extra Labels Newcost  Season Season  Tourist   Weather\n",
              "tourist1         122    100    Yes     100  Summer    122     like  Pleasant\n",
              "tourist2          24    100    Yes     100  Summer     24  dislike       Hot\n",
              "tourist3          48    100    Yes     100  Summer     48     like  Pleasant\n",
              "tourist4          45    100    Yes     150  winter     45     like     Harsh\n",
              "tourist5          41    100     No     150  winter     41     like  Pleasant\n",
              "tourist6          44    100    Yes     200  autumn     44  dislike       Dry\n",
              "tourist7          91    100    Yes     200  autumn     91  dislike  Pleasant\n",
              "tourist8           3    100     No     200  autumn      3      NaN     Harsh\n",
              "tourist9          16    100    NaN     200  Spring     16     like  Pleasant"
            ]
          },
          "execution_count": 49,
          "metadata": {},
          "output_type": "execute_result"
        }
      ],
      "source": [
        "DF"
      ]
    },
    {
      "cell_type": "markdown",
      "metadata": {},
      "source": [
        "## Display values in duplicate columns only"
      ]
    },
    {
      "cell_type": "code",
      "execution_count": 48,
      "metadata": {
        "colab": {
          "base_uri": "https://localhost:8080/"
        },
        "id": "ZH8zks8kTYzn",
        "outputId": "50bbf261-38f5-4537-9929-c3cabd244939"
      },
      "outputs": [
        {
          "name": "stdout",
          "output_type": "stream",
          "text": [
            "slice(4, 6, None)\n"
          ]
        },
        {
          "data": {
            "text/html": [
              "<div>\n",
              "<style scoped>\n",
              "    .dataframe tbody tr th:only-of-type {\n",
              "        vertical-align: middle;\n",
              "    }\n",
              "\n",
              "    .dataframe tbody tr th {\n",
              "        vertical-align: top;\n",
              "    }\n",
              "\n",
              "    .dataframe thead th {\n",
              "        text-align: right;\n",
              "    }\n",
              "</style>\n",
              "<table border=\"1\" class=\"dataframe\">\n",
              "  <thead>\n",
              "    <tr style=\"text-align: right;\">\n",
              "      <th></th>\n",
              "      <th>Season</th>\n",
              "      <th>Season</th>\n",
              "    </tr>\n",
              "  </thead>\n",
              "  <tbody>\n",
              "    <tr>\n",
              "      <th>tourist1</th>\n",
              "      <td>Summer</td>\n",
              "      <td>122</td>\n",
              "    </tr>\n",
              "    <tr>\n",
              "      <th>tourist2</th>\n",
              "      <td>Summer</td>\n",
              "      <td>24</td>\n",
              "    </tr>\n",
              "    <tr>\n",
              "      <th>tourist3</th>\n",
              "      <td>Summer</td>\n",
              "      <td>48</td>\n",
              "    </tr>\n",
              "    <tr>\n",
              "      <th>tourist4</th>\n",
              "      <td>winter</td>\n",
              "      <td>45</td>\n",
              "    </tr>\n",
              "    <tr>\n",
              "      <th>tourist5</th>\n",
              "      <td>winter</td>\n",
              "      <td>41</td>\n",
              "    </tr>\n",
              "    <tr>\n",
              "      <th>tourist6</th>\n",
              "      <td>autumn</td>\n",
              "      <td>44</td>\n",
              "    </tr>\n",
              "    <tr>\n",
              "      <th>tourist7</th>\n",
              "      <td>autumn</td>\n",
              "      <td>91</td>\n",
              "    </tr>\n",
              "    <tr>\n",
              "      <th>tourist8</th>\n",
              "      <td>autumn</td>\n",
              "      <td>3</td>\n",
              "    </tr>\n",
              "    <tr>\n",
              "      <th>tourist9</th>\n",
              "      <td>Spring</td>\n",
              "      <td>16</td>\n",
              "    </tr>\n",
              "  </tbody>\n",
              "</table>\n",
              "</div>"
            ],
            "text/plain": [
              "          Season Season\n",
              "tourist1  Summer    122\n",
              "tourist2  Summer     24\n",
              "tourist3  Summer     48\n",
              "tourist4  winter     45\n",
              "tourist5  winter     41\n",
              "tourist6  autumn     44\n",
              "tourist7  autumn     91\n",
              "tourist8  autumn      3\n",
              "tourist9  Spring     16"
            ]
          },
          "execution_count": 48,
          "metadata": {},
          "output_type": "execute_result"
        }
      ],
      "source": [
        "print(DF.columns.get_loc(key='Season'))  #returns boolean mask if index/columns are not arranged\n",
        "L=DF.columns.get_loc(key='Season')\n",
        "DF.iloc[:,L]"
      ]
    },
    {
      "cell_type": "code",
      "execution_count": 196,
      "metadata": {},
      "outputs": [
        {
          "data": {
            "text/plain": [
              "5"
            ]
          },
          "execution_count": 196,
          "metadata": {},
          "output_type": "execute_result"
        }
      ],
      "source": [
        "pos"
      ]
    },
    {
      "cell_type": "code",
      "execution_count": 194,
      "metadata": {},
      "outputs": [],
      "source": [
        "columnsretained = [e for e in range(DF.shape[1]) if e not in [pos]]\n",
        "columnsretained \n",
        "DF1=DF.iloc[:,columnsretained]"
      ]
    },
    {
      "cell_type": "code",
      "execution_count": 195,
      "metadata": {},
      "outputs": [
        {
          "data": {
            "text/html": [
              "<div>\n",
              "<style scoped>\n",
              "    .dataframe tbody tr th:only-of-type {\n",
              "        vertical-align: middle;\n",
              "    }\n",
              "\n",
              "    .dataframe tbody tr th {\n",
              "        vertical-align: top;\n",
              "    }\n",
              "\n",
              "    .dataframe thead th {\n",
              "        text-align: right;\n",
              "    }\n",
              "</style>\n",
              "<table border=\"1\" class=\"dataframe\">\n",
              "  <thead>\n",
              "    <tr style=\"text-align: right;\">\n",
              "      <th></th>\n",
              "      <th>Extra</th>\n",
              "      <th>Labels</th>\n",
              "      <th>Likeness</th>\n",
              "      <th>Newcost</th>\n",
              "      <th>Season</th>\n",
              "      <th>Weather</th>\n",
              "    </tr>\n",
              "  </thead>\n",
              "  <tbody>\n",
              "    <tr>\n",
              "      <th>tourist1</th>\n",
              "      <td>6</td>\n",
              "      <td>Yes</td>\n",
              "      <td>like</td>\n",
              "      <td>100</td>\n",
              "      <td>Summer</td>\n",
              "      <td>Pleasant</td>\n",
              "    </tr>\n",
              "    <tr>\n",
              "      <th>tourist2</th>\n",
              "      <td>65</td>\n",
              "      <td>Yes</td>\n",
              "      <td>dislike</td>\n",
              "      <td>100</td>\n",
              "      <td>Summer</td>\n",
              "      <td>Hot</td>\n",
              "    </tr>\n",
              "    <tr>\n",
              "      <th>tourist3</th>\n",
              "      <td>86</td>\n",
              "      <td>Yes</td>\n",
              "      <td>like</td>\n",
              "      <td>100</td>\n",
              "      <td>Summer</td>\n",
              "      <td>Pleasant</td>\n",
              "    </tr>\n",
              "    <tr>\n",
              "      <th>tourist4</th>\n",
              "      <td>84</td>\n",
              "      <td>Yes</td>\n",
              "      <td>like</td>\n",
              "      <td>150</td>\n",
              "      <td>winter</td>\n",
              "      <td>Harsh</td>\n",
              "    </tr>\n",
              "    <tr>\n",
              "      <th>tourist5</th>\n",
              "      <td>39</td>\n",
              "      <td>No</td>\n",
              "      <td>like</td>\n",
              "      <td>150</td>\n",
              "      <td>winter</td>\n",
              "      <td>Pleasant</td>\n",
              "    </tr>\n",
              "    <tr>\n",
              "      <th>tourist6</th>\n",
              "      <td>48</td>\n",
              "      <td>Yes</td>\n",
              "      <td>dislike</td>\n",
              "      <td>200</td>\n",
              "      <td>autumn</td>\n",
              "      <td>Dry</td>\n",
              "    </tr>\n",
              "    <tr>\n",
              "      <th>tourist7</th>\n",
              "      <td>85</td>\n",
              "      <td>Yes</td>\n",
              "      <td>dislike</td>\n",
              "      <td>200</td>\n",
              "      <td>autumn</td>\n",
              "      <td>Pleasant</td>\n",
              "    </tr>\n",
              "    <tr>\n",
              "      <th>tourist8</th>\n",
              "      <td>108</td>\n",
              "      <td>No</td>\n",
              "      <td>NaN</td>\n",
              "      <td>200</td>\n",
              "      <td>autumn</td>\n",
              "      <td>Harsh</td>\n",
              "    </tr>\n",
              "    <tr>\n",
              "      <th>tourist9</th>\n",
              "      <td>102</td>\n",
              "      <td>NaN</td>\n",
              "      <td>like</td>\n",
              "      <td>200</td>\n",
              "      <td>Spring</td>\n",
              "      <td>Pleasant</td>\n",
              "    </tr>\n",
              "  </tbody>\n",
              "</table>\n",
              "</div>"
            ],
            "text/plain": [
              "          Extra Labels Likeness  Newcost  Season   Weather\n",
              "tourist1      6    Yes     like      100  Summer  Pleasant\n",
              "tourist2     65    Yes  dislike      100  Summer       Hot\n",
              "tourist3     86    Yes     like      100  Summer  Pleasant\n",
              "tourist4     84    Yes     like      150  winter     Harsh\n",
              "tourist5     39     No     like      150  winter  Pleasant\n",
              "tourist6     48    Yes  dislike      200  autumn       Dry\n",
              "tourist7     85    Yes  dislike      200  autumn  Pleasant\n",
              "tourist8    108     No      NaN      200  autumn     Harsh\n",
              "tourist9    102    NaN     like      200  Spring  Pleasant"
            ]
          },
          "execution_count": 195,
          "metadata": {},
          "output_type": "execute_result"
        }
      ],
      "source": [
        "DF1"
      ]
    },
    {
      "cell_type": "markdown",
      "metadata": {},
      "source": [
        "## dropping both duplicate coulmns"
      ]
    },
    {
      "cell_type": "code",
      "execution_count": 51,
      "metadata": {},
      "outputs": [],
      "source": [
        "pos=4"
      ]
    },
    {
      "cell_type": "code",
      "execution_count": 52,
      "metadata": {},
      "outputs": [
        {
          "data": {
            "text/html": [
              "<div>\n",
              "<style scoped>\n",
              "    .dataframe tbody tr th:only-of-type {\n",
              "        vertical-align: middle;\n",
              "    }\n",
              "\n",
              "    .dataframe tbody tr th {\n",
              "        vertical-align: top;\n",
              "    }\n",
              "\n",
              "    .dataframe thead th {\n",
              "        text-align: right;\n",
              "    }\n",
              "</style>\n",
              "<table border=\"1\" class=\"dataframe\">\n",
              "  <thead>\n",
              "    <tr style=\"text-align: right;\">\n",
              "      <th></th>\n",
              "      <th>Expenditure</th>\n",
              "      <th>Extra</th>\n",
              "      <th>Labels</th>\n",
              "      <th>Newcost</th>\n",
              "      <th>Tourist</th>\n",
              "      <th>Weather</th>\n",
              "    </tr>\n",
              "  </thead>\n",
              "  <tbody>\n",
              "    <tr>\n",
              "      <th>tourist1</th>\n",
              "      <td>122</td>\n",
              "      <td>100</td>\n",
              "      <td>Yes</td>\n",
              "      <td>100</td>\n",
              "      <td>like</td>\n",
              "      <td>Pleasant</td>\n",
              "    </tr>\n",
              "    <tr>\n",
              "      <th>tourist2</th>\n",
              "      <td>24</td>\n",
              "      <td>100</td>\n",
              "      <td>Yes</td>\n",
              "      <td>100</td>\n",
              "      <td>dislike</td>\n",
              "      <td>Hot</td>\n",
              "    </tr>\n",
              "    <tr>\n",
              "      <th>tourist3</th>\n",
              "      <td>48</td>\n",
              "      <td>100</td>\n",
              "      <td>Yes</td>\n",
              "      <td>100</td>\n",
              "      <td>like</td>\n",
              "      <td>Pleasant</td>\n",
              "    </tr>\n",
              "    <tr>\n",
              "      <th>tourist4</th>\n",
              "      <td>45</td>\n",
              "      <td>100</td>\n",
              "      <td>Yes</td>\n",
              "      <td>150</td>\n",
              "      <td>like</td>\n",
              "      <td>Harsh</td>\n",
              "    </tr>\n",
              "    <tr>\n",
              "      <th>tourist5</th>\n",
              "      <td>41</td>\n",
              "      <td>100</td>\n",
              "      <td>No</td>\n",
              "      <td>150</td>\n",
              "      <td>like</td>\n",
              "      <td>Pleasant</td>\n",
              "    </tr>\n",
              "    <tr>\n",
              "      <th>tourist6</th>\n",
              "      <td>44</td>\n",
              "      <td>100</td>\n",
              "      <td>Yes</td>\n",
              "      <td>200</td>\n",
              "      <td>dislike</td>\n",
              "      <td>Dry</td>\n",
              "    </tr>\n",
              "    <tr>\n",
              "      <th>tourist7</th>\n",
              "      <td>91</td>\n",
              "      <td>100</td>\n",
              "      <td>Yes</td>\n",
              "      <td>200</td>\n",
              "      <td>dislike</td>\n",
              "      <td>Pleasant</td>\n",
              "    </tr>\n",
              "    <tr>\n",
              "      <th>tourist8</th>\n",
              "      <td>3</td>\n",
              "      <td>100</td>\n",
              "      <td>No</td>\n",
              "      <td>200</td>\n",
              "      <td>NaN</td>\n",
              "      <td>Harsh</td>\n",
              "    </tr>\n",
              "    <tr>\n",
              "      <th>tourist9</th>\n",
              "      <td>16</td>\n",
              "      <td>100</td>\n",
              "      <td>NaN</td>\n",
              "      <td>200</td>\n",
              "      <td>like</td>\n",
              "      <td>Pleasant</td>\n",
              "    </tr>\n",
              "  </tbody>\n",
              "</table>\n",
              "</div>"
            ],
            "text/plain": [
              "         Expenditure  Extra Labels Newcost  Tourist   Weather\n",
              "tourist1         122    100    Yes     100     like  Pleasant\n",
              "tourist2          24    100    Yes     100  dislike       Hot\n",
              "tourist3          48    100    Yes     100     like  Pleasant\n",
              "tourist4          45    100    Yes     150     like     Harsh\n",
              "tourist5          41    100     No     150     like  Pleasant\n",
              "tourist6          44    100    Yes     200  dislike       Dry\n",
              "tourist7          91    100    Yes     200  dislike  Pleasant\n",
              "tourist8           3    100     No     200      NaN     Harsh\n",
              "tourist9          16    100    NaN     200     like  Pleasant"
            ]
          },
          "execution_count": 52,
          "metadata": {},
          "output_type": "execute_result"
        }
      ],
      "source": [
        "DF1= DF.drop(DF.columns[[pos]],axis = 1)\n",
        "DF1"
      ]
    },
    {
      "cell_type": "markdown",
      "metadata": {},
      "source": [
        "## Drop duplicate columns where column index may be different but values are same"
      ]
    },
    {
      "cell_type": "code",
      "execution_count": 199,
      "metadata": {},
      "outputs": [],
      "source": [
        "DF['NewCol']=DF['Weather']"
      ]
    },
    {
      "cell_type": "code",
      "execution_count": 200,
      "metadata": {},
      "outputs": [
        {
          "data": {
            "text/html": [
              "<div>\n",
              "<style scoped>\n",
              "    .dataframe tbody tr th:only-of-type {\n",
              "        vertical-align: middle;\n",
              "    }\n",
              "\n",
              "    .dataframe tbody tr th {\n",
              "        vertical-align: top;\n",
              "    }\n",
              "\n",
              "    .dataframe thead th {\n",
              "        text-align: right;\n",
              "    }\n",
              "</style>\n",
              "<table border=\"1\" class=\"dataframe\">\n",
              "  <thead>\n",
              "    <tr style=\"text-align: right;\">\n",
              "      <th></th>\n",
              "      <th>Extra</th>\n",
              "      <th>Labels</th>\n",
              "      <th>Likeness</th>\n",
              "      <th>Newcost</th>\n",
              "      <th>Season</th>\n",
              "      <th>Season</th>\n",
              "      <th>Weather</th>\n",
              "      <th>NewCol</th>\n",
              "    </tr>\n",
              "  </thead>\n",
              "  <tbody>\n",
              "    <tr>\n",
              "      <th>tourist1</th>\n",
              "      <td>6</td>\n",
              "      <td>Yes</td>\n",
              "      <td>like</td>\n",
              "      <td>100</td>\n",
              "      <td>Summer</td>\n",
              "      <td>6</td>\n",
              "      <td>Pleasant</td>\n",
              "      <td>Pleasant</td>\n",
              "    </tr>\n",
              "    <tr>\n",
              "      <th>tourist2</th>\n",
              "      <td>65</td>\n",
              "      <td>Yes</td>\n",
              "      <td>dislike</td>\n",
              "      <td>100</td>\n",
              "      <td>Summer</td>\n",
              "      <td>65</td>\n",
              "      <td>Hot</td>\n",
              "      <td>Hot</td>\n",
              "    </tr>\n",
              "    <tr>\n",
              "      <th>tourist3</th>\n",
              "      <td>86</td>\n",
              "      <td>Yes</td>\n",
              "      <td>like</td>\n",
              "      <td>100</td>\n",
              "      <td>Summer</td>\n",
              "      <td>86</td>\n",
              "      <td>Pleasant</td>\n",
              "      <td>Pleasant</td>\n",
              "    </tr>\n",
              "    <tr>\n",
              "      <th>tourist4</th>\n",
              "      <td>84</td>\n",
              "      <td>Yes</td>\n",
              "      <td>like</td>\n",
              "      <td>150</td>\n",
              "      <td>winter</td>\n",
              "      <td>84</td>\n",
              "      <td>Harsh</td>\n",
              "      <td>Harsh</td>\n",
              "    </tr>\n",
              "    <tr>\n",
              "      <th>tourist5</th>\n",
              "      <td>39</td>\n",
              "      <td>No</td>\n",
              "      <td>like</td>\n",
              "      <td>150</td>\n",
              "      <td>winter</td>\n",
              "      <td>39</td>\n",
              "      <td>Pleasant</td>\n",
              "      <td>Pleasant</td>\n",
              "    </tr>\n",
              "    <tr>\n",
              "      <th>tourist6</th>\n",
              "      <td>48</td>\n",
              "      <td>Yes</td>\n",
              "      <td>dislike</td>\n",
              "      <td>200</td>\n",
              "      <td>autumn</td>\n",
              "      <td>48</td>\n",
              "      <td>Dry</td>\n",
              "      <td>Dry</td>\n",
              "    </tr>\n",
              "    <tr>\n",
              "      <th>tourist7</th>\n",
              "      <td>85</td>\n",
              "      <td>Yes</td>\n",
              "      <td>dislike</td>\n",
              "      <td>200</td>\n",
              "      <td>autumn</td>\n",
              "      <td>85</td>\n",
              "      <td>Pleasant</td>\n",
              "      <td>Pleasant</td>\n",
              "    </tr>\n",
              "    <tr>\n",
              "      <th>tourist8</th>\n",
              "      <td>108</td>\n",
              "      <td>No</td>\n",
              "      <td>NaN</td>\n",
              "      <td>200</td>\n",
              "      <td>autumn</td>\n",
              "      <td>108</td>\n",
              "      <td>Harsh</td>\n",
              "      <td>Harsh</td>\n",
              "    </tr>\n",
              "    <tr>\n",
              "      <th>tourist9</th>\n",
              "      <td>102</td>\n",
              "      <td>NaN</td>\n",
              "      <td>like</td>\n",
              "      <td>200</td>\n",
              "      <td>Spring</td>\n",
              "      <td>102</td>\n",
              "      <td>Pleasant</td>\n",
              "      <td>Pleasant</td>\n",
              "    </tr>\n",
              "  </tbody>\n",
              "</table>\n",
              "</div>"
            ],
            "text/plain": [
              "          Extra Labels Likeness  Newcost  Season  Season   Weather    NewCol\n",
              "tourist1      6    Yes     like      100  Summer       6  Pleasant  Pleasant\n",
              "tourist2     65    Yes  dislike      100  Summer      65       Hot       Hot\n",
              "tourist3     86    Yes     like      100  Summer      86  Pleasant  Pleasant\n",
              "tourist4     84    Yes     like      150  winter      84     Harsh     Harsh\n",
              "tourist5     39     No     like      150  winter      39  Pleasant  Pleasant\n",
              "tourist6     48    Yes  dislike      200  autumn      48       Dry       Dry\n",
              "tourist7     85    Yes  dislike      200  autumn      85  Pleasant  Pleasant\n",
              "tourist8    108     No      NaN      200  autumn     108     Harsh     Harsh\n",
              "tourist9    102    NaN     like      200  Spring     102  Pleasant  Pleasant"
            ]
          },
          "execution_count": 200,
          "metadata": {},
          "output_type": "execute_result"
        }
      ],
      "source": [
        "DF"
      ]
    },
    {
      "cell_type": "code",
      "execution_count": 202,
      "metadata": {},
      "outputs": [],
      "source": [
        "DF=DF.T.drop_duplicates(keep='first').T"
      ]
    },
    {
      "cell_type": "code",
      "execution_count": 204,
      "metadata": {},
      "outputs": [
        {
          "data": {
            "text/html": [
              "<div>\n",
              "<style scoped>\n",
              "    .dataframe tbody tr th:only-of-type {\n",
              "        vertical-align: middle;\n",
              "    }\n",
              "\n",
              "    .dataframe tbody tr th {\n",
              "        vertical-align: top;\n",
              "    }\n",
              "\n",
              "    .dataframe thead th {\n",
              "        text-align: right;\n",
              "    }\n",
              "</style>\n",
              "<table border=\"1\" class=\"dataframe\">\n",
              "  <thead>\n",
              "    <tr style=\"text-align: right;\">\n",
              "      <th></th>\n",
              "      <th>Extra</th>\n",
              "      <th>Labels</th>\n",
              "      <th>Likeness</th>\n",
              "      <th>Newcost</th>\n",
              "      <th>Season</th>\n",
              "      <th>Weather</th>\n",
              "    </tr>\n",
              "  </thead>\n",
              "  <tbody>\n",
              "    <tr>\n",
              "      <th>tourist1</th>\n",
              "      <td>6</td>\n",
              "      <td>Yes</td>\n",
              "      <td>like</td>\n",
              "      <td>100</td>\n",
              "      <td>Summer</td>\n",
              "      <td>Pleasant</td>\n",
              "    </tr>\n",
              "    <tr>\n",
              "      <th>tourist2</th>\n",
              "      <td>65</td>\n",
              "      <td>Yes</td>\n",
              "      <td>dislike</td>\n",
              "      <td>100</td>\n",
              "      <td>Summer</td>\n",
              "      <td>Hot</td>\n",
              "    </tr>\n",
              "    <tr>\n",
              "      <th>tourist3</th>\n",
              "      <td>86</td>\n",
              "      <td>Yes</td>\n",
              "      <td>like</td>\n",
              "      <td>100</td>\n",
              "      <td>Summer</td>\n",
              "      <td>Pleasant</td>\n",
              "    </tr>\n",
              "    <tr>\n",
              "      <th>tourist4</th>\n",
              "      <td>84</td>\n",
              "      <td>Yes</td>\n",
              "      <td>like</td>\n",
              "      <td>150</td>\n",
              "      <td>winter</td>\n",
              "      <td>Harsh</td>\n",
              "    </tr>\n",
              "    <tr>\n",
              "      <th>tourist5</th>\n",
              "      <td>39</td>\n",
              "      <td>No</td>\n",
              "      <td>like</td>\n",
              "      <td>150</td>\n",
              "      <td>winter</td>\n",
              "      <td>Pleasant</td>\n",
              "    </tr>\n",
              "    <tr>\n",
              "      <th>tourist6</th>\n",
              "      <td>48</td>\n",
              "      <td>Yes</td>\n",
              "      <td>dislike</td>\n",
              "      <td>200</td>\n",
              "      <td>autumn</td>\n",
              "      <td>Dry</td>\n",
              "    </tr>\n",
              "    <tr>\n",
              "      <th>tourist7</th>\n",
              "      <td>85</td>\n",
              "      <td>Yes</td>\n",
              "      <td>dislike</td>\n",
              "      <td>200</td>\n",
              "      <td>autumn</td>\n",
              "      <td>Pleasant</td>\n",
              "    </tr>\n",
              "    <tr>\n",
              "      <th>tourist8</th>\n",
              "      <td>108</td>\n",
              "      <td>No</td>\n",
              "      <td>NaN</td>\n",
              "      <td>200</td>\n",
              "      <td>autumn</td>\n",
              "      <td>Harsh</td>\n",
              "    </tr>\n",
              "    <tr>\n",
              "      <th>tourist9</th>\n",
              "      <td>102</td>\n",
              "      <td>NaN</td>\n",
              "      <td>like</td>\n",
              "      <td>200</td>\n",
              "      <td>Spring</td>\n",
              "      <td>Pleasant</td>\n",
              "    </tr>\n",
              "  </tbody>\n",
              "</table>\n",
              "</div>"
            ],
            "text/plain": [
              "         Extra Labels Likeness Newcost  Season   Weather\n",
              "tourist1     6    Yes     like     100  Summer  Pleasant\n",
              "tourist2    65    Yes  dislike     100  Summer       Hot\n",
              "tourist3    86    Yes     like     100  Summer  Pleasant\n",
              "tourist4    84    Yes     like     150  winter     Harsh\n",
              "tourist5    39     No     like     150  winter  Pleasant\n",
              "tourist6    48    Yes  dislike     200  autumn       Dry\n",
              "tourist7    85    Yes  dislike     200  autumn  Pleasant\n",
              "tourist8   108     No      NaN     200  autumn     Harsh\n",
              "tourist9   102    NaN     like     200  Spring  Pleasant"
            ]
          },
          "execution_count": 204,
          "metadata": {},
          "output_type": "execute_result"
        }
      ],
      "source": [
        "DF"
      ]
    },
    {
      "cell_type": "markdown",
      "metadata": {
        "id": "3hvowXyJcGgn"
      },
      "source": [
        "## Second method to remove duplicate col names"
      ]
    },
    {
      "cell_type": "code",
      "execution_count": 225,
      "metadata": {},
      "outputs": [
        {
          "data": {
            "text/plain": [
              "array([ True, False,  True, False, False,  True,  True,  True,  True,\n",
              "        True])"
            ]
          },
          "execution_count": 225,
          "metadata": {},
          "output_type": "execute_result"
        }
      ],
      "source": [
        "~DF.columns.duplicated()"
      ]
    },
    {
      "cell_type": "code",
      "execution_count": 226,
      "metadata": {},
      "outputs": [
        {
          "data": {
            "text/html": [
              "<div>\n",
              "<style scoped>\n",
              "    .dataframe tbody tr th:only-of-type {\n",
              "        vertical-align: middle;\n",
              "    }\n",
              "\n",
              "    .dataframe tbody tr th {\n",
              "        vertical-align: top;\n",
              "    }\n",
              "\n",
              "    .dataframe thead th {\n",
              "        text-align: right;\n",
              "    }\n",
              "</style>\n",
              "<table border=\"1\" class=\"dataframe\">\n",
              "  <thead>\n",
              "    <tr style=\"text-align: right;\">\n",
              "      <th></th>\n",
              "      <th>Cost</th>\n",
              "      <th>Extra</th>\n",
              "      <th>Labels</th>\n",
              "      <th>Likeness</th>\n",
              "      <th>Newcost</th>\n",
              "      <th>Season</th>\n",
              "      <th>Weather</th>\n",
              "    </tr>\n",
              "  </thead>\n",
              "  <tbody>\n",
              "    <tr>\n",
              "      <th>tourist1</th>\n",
              "      <td>Pleasant</td>\n",
              "      <td>100</td>\n",
              "      <td>Yes</td>\n",
              "      <td>like</td>\n",
              "      <td>100</td>\n",
              "      <td>Summer</td>\n",
              "      <td>PleasantPleasantPleasantPleasantPleasant</td>\n",
              "    </tr>\n",
              "    <tr>\n",
              "      <th>tourist2</th>\n",
              "      <td>Hot</td>\n",
              "      <td>100</td>\n",
              "      <td>Yes</td>\n",
              "      <td>dislike</td>\n",
              "      <td>100</td>\n",
              "      <td>Summer</td>\n",
              "      <td>HotHotHotHotHot</td>\n",
              "    </tr>\n",
              "    <tr>\n",
              "      <th>tourist3</th>\n",
              "      <td>Pleasant</td>\n",
              "      <td>100</td>\n",
              "      <td>Yes</td>\n",
              "      <td>like</td>\n",
              "      <td>100</td>\n",
              "      <td>Summer</td>\n",
              "      <td>PleasantPleasantPleasantPleasantPleasant</td>\n",
              "    </tr>\n",
              "    <tr>\n",
              "      <th>tourist4</th>\n",
              "      <td>Harsh</td>\n",
              "      <td>100</td>\n",
              "      <td>Yes</td>\n",
              "      <td>like</td>\n",
              "      <td>150</td>\n",
              "      <td>winter</td>\n",
              "      <td>HarshHarshHarshHarshHarsh</td>\n",
              "    </tr>\n",
              "    <tr>\n",
              "      <th>tourist5</th>\n",
              "      <td>Pleasant</td>\n",
              "      <td>100</td>\n",
              "      <td>No</td>\n",
              "      <td>like</td>\n",
              "      <td>150</td>\n",
              "      <td>winter</td>\n",
              "      <td>PleasantPleasantPleasantPleasantPleasant</td>\n",
              "    </tr>\n",
              "    <tr>\n",
              "      <th>tourist6</th>\n",
              "      <td>Dry</td>\n",
              "      <td>100</td>\n",
              "      <td>Yes</td>\n",
              "      <td>dislike</td>\n",
              "      <td>200</td>\n",
              "      <td>autumn</td>\n",
              "      <td>DryDryDryDryDry</td>\n",
              "    </tr>\n",
              "    <tr>\n",
              "      <th>tourist7</th>\n",
              "      <td>Pleasant</td>\n",
              "      <td>100</td>\n",
              "      <td>Yes</td>\n",
              "      <td>dislike</td>\n",
              "      <td>200</td>\n",
              "      <td>autumn</td>\n",
              "      <td>PleasantPleasantPleasantPleasantPleasant</td>\n",
              "    </tr>\n",
              "    <tr>\n",
              "      <th>tourist8</th>\n",
              "      <td>Harsh</td>\n",
              "      <td>100</td>\n",
              "      <td>No</td>\n",
              "      <td>NaN</td>\n",
              "      <td>200</td>\n",
              "      <td>autumn</td>\n",
              "      <td>HarshHarshHarshHarshHarsh</td>\n",
              "    </tr>\n",
              "    <tr>\n",
              "      <th>tourist9</th>\n",
              "      <td>Pleasant</td>\n",
              "      <td>100</td>\n",
              "      <td>NaN</td>\n",
              "      <td>like</td>\n",
              "      <td>200</td>\n",
              "      <td>Spring</td>\n",
              "      <td>PleasantPleasantPleasantPleasantPleasant</td>\n",
              "    </tr>\n",
              "  </tbody>\n",
              "</table>\n",
              "</div>"
            ],
            "text/plain": [
              "              Cost  Extra Labels Likeness Newcost  Season  \\\n",
              "tourist1  Pleasant    100    Yes     like     100  Summer   \n",
              "tourist2       Hot    100    Yes  dislike     100  Summer   \n",
              "tourist3  Pleasant    100    Yes     like     100  Summer   \n",
              "tourist4     Harsh    100    Yes     like     150  winter   \n",
              "tourist5  Pleasant    100     No     like     150  winter   \n",
              "tourist6       Dry    100    Yes  dislike     200  autumn   \n",
              "tourist7  Pleasant    100    Yes  dislike     200  autumn   \n",
              "tourist8     Harsh    100     No      NaN     200  autumn   \n",
              "tourist9  Pleasant    100    NaN     like     200  Spring   \n",
              "\n",
              "                                           Weather  \n",
              "tourist1  PleasantPleasantPleasantPleasantPleasant  \n",
              "tourist2                           HotHotHotHotHot  \n",
              "tourist3  PleasantPleasantPleasantPleasantPleasant  \n",
              "tourist4                 HarshHarshHarshHarshHarsh  \n",
              "tourist5  PleasantPleasantPleasantPleasantPleasant  \n",
              "tourist6                           DryDryDryDryDry  \n",
              "tourist7  PleasantPleasantPleasantPleasantPleasant  \n",
              "tourist8                 HarshHarshHarshHarshHarsh  \n",
              "tourist9  PleasantPleasantPleasantPleasantPleasant  "
            ]
          },
          "execution_count": 226,
          "metadata": {},
          "output_type": "execute_result"
        }
      ],
      "source": [
        "DF.loc[:,~DF.columns.duplicated()]"
      ]
    },
    {
      "cell_type": "markdown",
      "metadata": {},
      "source": [
        "## Code to add a duplicate column name in case DF does not have. If duplicate column name then delete last duplicate  column"
      ]
    },
    {
      "cell_type": "code",
      "execution_count": 212,
      "metadata": {
        "colab": {
          "base_uri": "https://localhost:8080/"
        },
        "id": "vXVDqpuTIR3U",
        "outputId": "dc27295e-b061-48c3-ef59-0a2f07699d63"
      },
      "outputs": [
        {
          "name": "stdout",
          "output_type": "stream",
          "text": [
            "adding a duplicate column\n"
          ]
        }
      ],
      "source": [
        "A=DF.columns.duplicated()  #true/false value\n",
        "S=pd.Series(A)\n",
        "if S.nunique()==1:\n",
        "  DF['duplicatecol']=DF[DF.columns[len(DF.columns)-1]]\n",
        "  print(\"adding a duplicate column\")\n",
        "  DF=DF.rename(columns={'duplicatecol':'Cost'})  #making duplicate column\n",
        "else:\n",
        "  print(\"duplicate column name and removing it\")\n",
        "  DF.columns.duplicated()\n",
        "  DF.loc[:,DF.columns.duplicated()] #rerieve duplicate column value\n",
        "  DF=DF.loc[:,~DF.columns.duplicated()] #rerieve non-duplicate column names with data\n",
        "  "
      ]
    },
    {
      "cell_type": "code",
      "execution_count": 210,
      "metadata": {},
      "outputs": [
        {
          "data": {
            "text/html": [
              "<div>\n",
              "<style scoped>\n",
              "    .dataframe tbody tr th:only-of-type {\n",
              "        vertical-align: middle;\n",
              "    }\n",
              "\n",
              "    .dataframe tbody tr th {\n",
              "        vertical-align: top;\n",
              "    }\n",
              "\n",
              "    .dataframe thead th {\n",
              "        text-align: right;\n",
              "    }\n",
              "</style>\n",
              "<table border=\"1\" class=\"dataframe\">\n",
              "  <thead>\n",
              "    <tr style=\"text-align: right;\">\n",
              "      <th></th>\n",
              "      <th>Extra</th>\n",
              "      <th>Labels</th>\n",
              "      <th>Likeness</th>\n",
              "      <th>Newcost</th>\n",
              "      <th>Season</th>\n",
              "      <th>Weather</th>\n",
              "      <th>Cost</th>\n",
              "    </tr>\n",
              "  </thead>\n",
              "  <tbody>\n",
              "    <tr>\n",
              "      <th>tourist1</th>\n",
              "      <td>6</td>\n",
              "      <td>Yes</td>\n",
              "      <td>like</td>\n",
              "      <td>100</td>\n",
              "      <td>Summer</td>\n",
              "      <td>Pleasant</td>\n",
              "      <td>Pleasant</td>\n",
              "    </tr>\n",
              "    <tr>\n",
              "      <th>tourist2</th>\n",
              "      <td>65</td>\n",
              "      <td>Yes</td>\n",
              "      <td>dislike</td>\n",
              "      <td>100</td>\n",
              "      <td>Summer</td>\n",
              "      <td>Hot</td>\n",
              "      <td>Hot</td>\n",
              "    </tr>\n",
              "    <tr>\n",
              "      <th>tourist3</th>\n",
              "      <td>86</td>\n",
              "      <td>Yes</td>\n",
              "      <td>like</td>\n",
              "      <td>100</td>\n",
              "      <td>Summer</td>\n",
              "      <td>Pleasant</td>\n",
              "      <td>Pleasant</td>\n",
              "    </tr>\n",
              "    <tr>\n",
              "      <th>tourist4</th>\n",
              "      <td>84</td>\n",
              "      <td>Yes</td>\n",
              "      <td>like</td>\n",
              "      <td>150</td>\n",
              "      <td>winter</td>\n",
              "      <td>Harsh</td>\n",
              "      <td>Harsh</td>\n",
              "    </tr>\n",
              "    <tr>\n",
              "      <th>tourist5</th>\n",
              "      <td>39</td>\n",
              "      <td>No</td>\n",
              "      <td>like</td>\n",
              "      <td>150</td>\n",
              "      <td>winter</td>\n",
              "      <td>Pleasant</td>\n",
              "      <td>Pleasant</td>\n",
              "    </tr>\n",
              "    <tr>\n",
              "      <th>tourist6</th>\n",
              "      <td>48</td>\n",
              "      <td>Yes</td>\n",
              "      <td>dislike</td>\n",
              "      <td>200</td>\n",
              "      <td>autumn</td>\n",
              "      <td>Dry</td>\n",
              "      <td>Dry</td>\n",
              "    </tr>\n",
              "    <tr>\n",
              "      <th>tourist7</th>\n",
              "      <td>85</td>\n",
              "      <td>Yes</td>\n",
              "      <td>dislike</td>\n",
              "      <td>200</td>\n",
              "      <td>autumn</td>\n",
              "      <td>Pleasant</td>\n",
              "      <td>Pleasant</td>\n",
              "    </tr>\n",
              "    <tr>\n",
              "      <th>tourist8</th>\n",
              "      <td>108</td>\n",
              "      <td>No</td>\n",
              "      <td>NaN</td>\n",
              "      <td>200</td>\n",
              "      <td>autumn</td>\n",
              "      <td>Harsh</td>\n",
              "      <td>Harsh</td>\n",
              "    </tr>\n",
              "    <tr>\n",
              "      <th>tourist9</th>\n",
              "      <td>102</td>\n",
              "      <td>NaN</td>\n",
              "      <td>like</td>\n",
              "      <td>200</td>\n",
              "      <td>Spring</td>\n",
              "      <td>Pleasant</td>\n",
              "      <td>Pleasant</td>\n",
              "    </tr>\n",
              "  </tbody>\n",
              "</table>\n",
              "</div>"
            ],
            "text/plain": [
              "         Extra Labels Likeness Newcost  Season   Weather      Cost\n",
              "tourist1     6    Yes     like     100  Summer  Pleasant  Pleasant\n",
              "tourist2    65    Yes  dislike     100  Summer       Hot       Hot\n",
              "tourist3    86    Yes     like     100  Summer  Pleasant  Pleasant\n",
              "tourist4    84    Yes     like     150  winter     Harsh     Harsh\n",
              "tourist5    39     No     like     150  winter  Pleasant  Pleasant\n",
              "tourist6    48    Yes  dislike     200  autumn       Dry       Dry\n",
              "tourist7    85    Yes  dislike     200  autumn  Pleasant  Pleasant\n",
              "tourist8   108     No      NaN     200  autumn     Harsh     Harsh\n",
              "tourist9   102    NaN     like     200  Spring  Pleasant  Pleasant"
            ]
          },
          "execution_count": 210,
          "metadata": {},
          "output_type": "execute_result"
        }
      ],
      "source": [
        "DF"
      ]
    },
    {
      "cell_type": "markdown",
      "metadata": {
        "id": "QO2eNW54X7lw"
      },
      "source": [
        "## to change value in duplicated column"
      ]
    },
    {
      "cell_type": "code",
      "execution_count": 216,
      "metadata": {
        "id": "IzFCsC1RgJ90"
      },
      "outputs": [],
      "source": [
        "DF.iloc[:,pos]*=5"
      ]
    },
    {
      "cell_type": "code",
      "execution_count": 217,
      "metadata": {
        "colab": {
          "base_uri": "https://localhost:8080/",
          "height": 327
        },
        "id": "kMF79wHDEbTA",
        "outputId": "9754e7a7-01ab-419d-e74b-1ece3dced20b"
      },
      "outputs": [
        {
          "data": {
            "text/html": [
              "<div>\n",
              "<style scoped>\n",
              "    .dataframe tbody tr th:only-of-type {\n",
              "        vertical-align: middle;\n",
              "    }\n",
              "\n",
              "    .dataframe tbody tr th {\n",
              "        vertical-align: top;\n",
              "    }\n",
              "\n",
              "    .dataframe thead th {\n",
              "        text-align: right;\n",
              "    }\n",
              "</style>\n",
              "<table border=\"1\" class=\"dataframe\">\n",
              "  <thead>\n",
              "    <tr style=\"text-align: right;\">\n",
              "      <th></th>\n",
              "      <th>Extra</th>\n",
              "      <th>Labels</th>\n",
              "      <th>Likeness</th>\n",
              "      <th>Newcost</th>\n",
              "      <th>Season</th>\n",
              "      <th>Weather</th>\n",
              "      <th>Cost</th>\n",
              "      <th>Cost</th>\n",
              "    </tr>\n",
              "  </thead>\n",
              "  <tbody>\n",
              "    <tr>\n",
              "      <th>tourist1</th>\n",
              "      <td>6</td>\n",
              "      <td>Yes</td>\n",
              "      <td>like</td>\n",
              "      <td>100</td>\n",
              "      <td>Summer</td>\n",
              "      <td>PleasantPleasantPleasantPleasantPleasant</td>\n",
              "      <td>Pleasant</td>\n",
              "      <td>Pleasant</td>\n",
              "    </tr>\n",
              "    <tr>\n",
              "      <th>tourist2</th>\n",
              "      <td>65</td>\n",
              "      <td>Yes</td>\n",
              "      <td>dislike</td>\n",
              "      <td>100</td>\n",
              "      <td>Summer</td>\n",
              "      <td>HotHotHotHotHot</td>\n",
              "      <td>Hot</td>\n",
              "      <td>Hot</td>\n",
              "    </tr>\n",
              "    <tr>\n",
              "      <th>tourist3</th>\n",
              "      <td>86</td>\n",
              "      <td>Yes</td>\n",
              "      <td>like</td>\n",
              "      <td>100</td>\n",
              "      <td>Summer</td>\n",
              "      <td>PleasantPleasantPleasantPleasantPleasant</td>\n",
              "      <td>Pleasant</td>\n",
              "      <td>Pleasant</td>\n",
              "    </tr>\n",
              "    <tr>\n",
              "      <th>tourist4</th>\n",
              "      <td>84</td>\n",
              "      <td>Yes</td>\n",
              "      <td>like</td>\n",
              "      <td>150</td>\n",
              "      <td>winter</td>\n",
              "      <td>HarshHarshHarshHarshHarsh</td>\n",
              "      <td>Harsh</td>\n",
              "      <td>Harsh</td>\n",
              "    </tr>\n",
              "    <tr>\n",
              "      <th>tourist5</th>\n",
              "      <td>39</td>\n",
              "      <td>No</td>\n",
              "      <td>like</td>\n",
              "      <td>150</td>\n",
              "      <td>winter</td>\n",
              "      <td>PleasantPleasantPleasantPleasantPleasant</td>\n",
              "      <td>Pleasant</td>\n",
              "      <td>Pleasant</td>\n",
              "    </tr>\n",
              "    <tr>\n",
              "      <th>tourist6</th>\n",
              "      <td>48</td>\n",
              "      <td>Yes</td>\n",
              "      <td>dislike</td>\n",
              "      <td>200</td>\n",
              "      <td>autumn</td>\n",
              "      <td>DryDryDryDryDry</td>\n",
              "      <td>Dry</td>\n",
              "      <td>Dry</td>\n",
              "    </tr>\n",
              "    <tr>\n",
              "      <th>tourist7</th>\n",
              "      <td>85</td>\n",
              "      <td>Yes</td>\n",
              "      <td>dislike</td>\n",
              "      <td>200</td>\n",
              "      <td>autumn</td>\n",
              "      <td>PleasantPleasantPleasantPleasantPleasant</td>\n",
              "      <td>Pleasant</td>\n",
              "      <td>Pleasant</td>\n",
              "    </tr>\n",
              "    <tr>\n",
              "      <th>tourist8</th>\n",
              "      <td>108</td>\n",
              "      <td>No</td>\n",
              "      <td>NaN</td>\n",
              "      <td>200</td>\n",
              "      <td>autumn</td>\n",
              "      <td>HarshHarshHarshHarshHarsh</td>\n",
              "      <td>Harsh</td>\n",
              "      <td>Harsh</td>\n",
              "    </tr>\n",
              "    <tr>\n",
              "      <th>tourist9</th>\n",
              "      <td>102</td>\n",
              "      <td>NaN</td>\n",
              "      <td>like</td>\n",
              "      <td>200</td>\n",
              "      <td>Spring</td>\n",
              "      <td>PleasantPleasantPleasantPleasantPleasant</td>\n",
              "      <td>Pleasant</td>\n",
              "      <td>Pleasant</td>\n",
              "    </tr>\n",
              "  </tbody>\n",
              "</table>\n",
              "</div>"
            ],
            "text/plain": [
              "         Extra Labels Likeness Newcost  Season  \\\n",
              "tourist1     6    Yes     like     100  Summer   \n",
              "tourist2    65    Yes  dislike     100  Summer   \n",
              "tourist3    86    Yes     like     100  Summer   \n",
              "tourist4    84    Yes     like     150  winter   \n",
              "tourist5    39     No     like     150  winter   \n",
              "tourist6    48    Yes  dislike     200  autumn   \n",
              "tourist7    85    Yes  dislike     200  autumn   \n",
              "tourist8   108     No      NaN     200  autumn   \n",
              "tourist9   102    NaN     like     200  Spring   \n",
              "\n",
              "                                           Weather      Cost      Cost  \n",
              "tourist1  PleasantPleasantPleasantPleasantPleasant  Pleasant  Pleasant  \n",
              "tourist2                           HotHotHotHotHot       Hot       Hot  \n",
              "tourist3  PleasantPleasantPleasantPleasantPleasant  Pleasant  Pleasant  \n",
              "tourist4                 HarshHarshHarshHarshHarsh     Harsh     Harsh  \n",
              "tourist5  PleasantPleasantPleasantPleasantPleasant  Pleasant  Pleasant  \n",
              "tourist6                           DryDryDryDryDry       Dry       Dry  \n",
              "tourist7  PleasantPleasantPleasantPleasantPleasant  Pleasant  Pleasant  \n",
              "tourist8                 HarshHarshHarshHarshHarsh     Harsh     Harsh  \n",
              "tourist9  PleasantPleasantPleasantPleasantPleasant  Pleasant  Pleasant  "
            ]
          },
          "execution_count": 217,
          "metadata": {},
          "output_type": "execute_result"
        }
      ],
      "source": [
        "DF"
      ]
    },
    {
      "cell_type": "code",
      "execution_count": null,
      "metadata": {
        "colab": {
          "base_uri": "https://localhost:8080/"
        },
        "id": "hFERiiZQVQkL",
        "outputId": "062563ac-6260-4868-bbd7-4e4ca828b02b"
      },
      "outputs": [
        {
          "data": {
            "text/plain": [
              "pandas.core.indexes.base.Index"
            ]
          },
          "execution_count": 77,
          "metadata": {},
          "output_type": "execute_result"
        }
      ],
      "source": [
        "type(DF.columns)"
      ]
    },
    {
      "cell_type": "markdown",
      "metadata": {
        "id": "cd75qaWycVjm"
      },
      "source": [
        "## to check if two columns are having exactly same values"
      ]
    },
    {
      "cell_type": "code",
      "execution_count": 227,
      "metadata": {
        "colab": {
          "base_uri": "https://localhost:8080/",
          "height": 327
        },
        "id": "JN4JCSW-coA4",
        "outputId": "505697aa-c9c7-4e16-dbc6-8409c4996ac9"
      },
      "outputs": [
        {
          "data": {
            "text/html": [
              "<div>\n",
              "<style scoped>\n",
              "    .dataframe tbody tr th:only-of-type {\n",
              "        vertical-align: middle;\n",
              "    }\n",
              "\n",
              "    .dataframe tbody tr th {\n",
              "        vertical-align: top;\n",
              "    }\n",
              "\n",
              "    .dataframe thead th {\n",
              "        text-align: right;\n",
              "    }\n",
              "</style>\n",
              "<table border=\"1\" class=\"dataframe\">\n",
              "  <thead>\n",
              "    <tr style=\"text-align: right;\">\n",
              "      <th></th>\n",
              "      <th>Cost</th>\n",
              "      <th>Cost</th>\n",
              "      <th>Extra</th>\n",
              "      <th>Extra</th>\n",
              "      <th>Extra</th>\n",
              "      <th>Labels</th>\n",
              "      <th>Likeness</th>\n",
              "      <th>Newcost</th>\n",
              "      <th>Season</th>\n",
              "      <th>Weather</th>\n",
              "    </tr>\n",
              "  </thead>\n",
              "  <tbody>\n",
              "    <tr>\n",
              "      <th>tourist1</th>\n",
              "      <td>Pleasant</td>\n",
              "      <td>Pleasant</td>\n",
              "      <td>100</td>\n",
              "      <td>100</td>\n",
              "      <td>6</td>\n",
              "      <td>Yes</td>\n",
              "      <td>like</td>\n",
              "      <td>100</td>\n",
              "      <td>Summer</td>\n",
              "      <td>PleasantPleasantPleasantPleasantPleasant</td>\n",
              "    </tr>\n",
              "    <tr>\n",
              "      <th>tourist2</th>\n",
              "      <td>Hot</td>\n",
              "      <td>Hot</td>\n",
              "      <td>100</td>\n",
              "      <td>100</td>\n",
              "      <td>65</td>\n",
              "      <td>Yes</td>\n",
              "      <td>dislike</td>\n",
              "      <td>100</td>\n",
              "      <td>Summer</td>\n",
              "      <td>HotHotHotHotHot</td>\n",
              "    </tr>\n",
              "    <tr>\n",
              "      <th>tourist3</th>\n",
              "      <td>Pleasant</td>\n",
              "      <td>Pleasant</td>\n",
              "      <td>100</td>\n",
              "      <td>100</td>\n",
              "      <td>86</td>\n",
              "      <td>Yes</td>\n",
              "      <td>like</td>\n",
              "      <td>100</td>\n",
              "      <td>Summer</td>\n",
              "      <td>PleasantPleasantPleasantPleasantPleasant</td>\n",
              "    </tr>\n",
              "    <tr>\n",
              "      <th>tourist4</th>\n",
              "      <td>Harsh</td>\n",
              "      <td>Harsh</td>\n",
              "      <td>100</td>\n",
              "      <td>100</td>\n",
              "      <td>84</td>\n",
              "      <td>Yes</td>\n",
              "      <td>like</td>\n",
              "      <td>150</td>\n",
              "      <td>winter</td>\n",
              "      <td>HarshHarshHarshHarshHarsh</td>\n",
              "    </tr>\n",
              "    <tr>\n",
              "      <th>tourist5</th>\n",
              "      <td>Pleasant</td>\n",
              "      <td>Pleasant</td>\n",
              "      <td>100</td>\n",
              "      <td>100</td>\n",
              "      <td>39</td>\n",
              "      <td>No</td>\n",
              "      <td>like</td>\n",
              "      <td>150</td>\n",
              "      <td>winter</td>\n",
              "      <td>PleasantPleasantPleasantPleasantPleasant</td>\n",
              "    </tr>\n",
              "    <tr>\n",
              "      <th>tourist6</th>\n",
              "      <td>Dry</td>\n",
              "      <td>Dry</td>\n",
              "      <td>100</td>\n",
              "      <td>100</td>\n",
              "      <td>48</td>\n",
              "      <td>Yes</td>\n",
              "      <td>dislike</td>\n",
              "      <td>200</td>\n",
              "      <td>autumn</td>\n",
              "      <td>DryDryDryDryDry</td>\n",
              "    </tr>\n",
              "    <tr>\n",
              "      <th>tourist7</th>\n",
              "      <td>Pleasant</td>\n",
              "      <td>Pleasant</td>\n",
              "      <td>100</td>\n",
              "      <td>100</td>\n",
              "      <td>85</td>\n",
              "      <td>Yes</td>\n",
              "      <td>dislike</td>\n",
              "      <td>200</td>\n",
              "      <td>autumn</td>\n",
              "      <td>PleasantPleasantPleasantPleasantPleasant</td>\n",
              "    </tr>\n",
              "    <tr>\n",
              "      <th>tourist8</th>\n",
              "      <td>Harsh</td>\n",
              "      <td>Harsh</td>\n",
              "      <td>100</td>\n",
              "      <td>100</td>\n",
              "      <td>108</td>\n",
              "      <td>No</td>\n",
              "      <td>NaN</td>\n",
              "      <td>200</td>\n",
              "      <td>autumn</td>\n",
              "      <td>HarshHarshHarshHarshHarsh</td>\n",
              "    </tr>\n",
              "    <tr>\n",
              "      <th>tourist9</th>\n",
              "      <td>Pleasant</td>\n",
              "      <td>Pleasant</td>\n",
              "      <td>100</td>\n",
              "      <td>100</td>\n",
              "      <td>102</td>\n",
              "      <td>NaN</td>\n",
              "      <td>like</td>\n",
              "      <td>200</td>\n",
              "      <td>Spring</td>\n",
              "      <td>PleasantPleasantPleasantPleasantPleasant</td>\n",
              "    </tr>\n",
              "  </tbody>\n",
              "</table>\n",
              "</div>"
            ],
            "text/plain": [
              "              Cost      Cost Extra Extra Extra Labels Likeness Newcost  \\\n",
              "tourist1  Pleasant  Pleasant   100   100     6    Yes     like     100   \n",
              "tourist2       Hot       Hot   100   100    65    Yes  dislike     100   \n",
              "tourist3  Pleasant  Pleasant   100   100    86    Yes     like     100   \n",
              "tourist4     Harsh     Harsh   100   100    84    Yes     like     150   \n",
              "tourist5  Pleasant  Pleasant   100   100    39     No     like     150   \n",
              "tourist6       Dry       Dry   100   100    48    Yes  dislike     200   \n",
              "tourist7  Pleasant  Pleasant   100   100    85    Yes  dislike     200   \n",
              "tourist8     Harsh     Harsh   100   100   108     No      NaN     200   \n",
              "tourist9  Pleasant  Pleasant   100   100   102    NaN     like     200   \n",
              "\n",
              "          Season                                   Weather  \n",
              "tourist1  Summer  PleasantPleasantPleasantPleasantPleasant  \n",
              "tourist2  Summer                           HotHotHotHotHot  \n",
              "tourist3  Summer  PleasantPleasantPleasantPleasantPleasant  \n",
              "tourist4  winter                 HarshHarshHarshHarshHarsh  \n",
              "tourist5  winter  PleasantPleasantPleasantPleasantPleasant  \n",
              "tourist6  autumn                           DryDryDryDryDry  \n",
              "tourist7  autumn  PleasantPleasantPleasantPleasantPleasant  \n",
              "tourist8  autumn                 HarshHarshHarshHarshHarsh  \n",
              "tourist9  Spring  PleasantPleasantPleasantPleasantPleasant  "
            ]
          },
          "execution_count": 227,
          "metadata": {},
          "output_type": "execute_result"
        }
      ],
      "source": [
        "DF"
      ]
    },
    {
      "cell_type": "code",
      "execution_count": 70,
      "metadata": {
        "id": "jvms8CcjWFgp"
      },
      "outputs": [],
      "source": [
        "DF['newcol']=DF['cost']"
      ]
    },
    {
      "cell_type": "code",
      "execution_count": 72,
      "metadata": {
        "colab": {
          "base_uri": "https://localhost:8080/"
        },
        "id": "bI9Xgnuyd0dK",
        "outputId": "5d4e5e43-2a45-489e-f9bf-f09333ae5353"
      },
      "outputs": [
        {
          "data": {
            "text/plain": [
              "0    100\n",
              "1    100\n",
              "2    100\n",
              "3    150\n",
              "4    150\n",
              "5    200\n",
              "6    200\n",
              "7    200\n",
              "8    200\n",
              "Name: newcol, dtype: int64"
            ]
          },
          "execution_count": 72,
          "metadata": {},
          "output_type": "execute_result"
        }
      ],
      "source": [
        "DF.iloc[:,5]"
      ]
    },
    {
      "cell_type": "code",
      "execution_count": 233,
      "metadata": {
        "colab": {
          "base_uri": "https://localhost:8080/",
          "height": 36
        },
        "id": "LoG1PZkbWTIG",
        "outputId": "f46a9794-3d69-4e0c-a709-3c6a73476c84"
      },
      "outputs": [
        {
          "data": {
            "text/plain": [
              "Index(['Cost', 'Cost', 'Extra', 'Extra', 'Extra', 'Labels', 'Likeness',\n",
              "       'Newcost', 'Season', 'Weather'],\n",
              "      dtype='object')"
            ]
          },
          "execution_count": 233,
          "metadata": {},
          "output_type": "execute_result"
        }
      ],
      "source": [
        "DF.columns"
      ]
    },
    {
      "cell_type": "code",
      "execution_count": 241,
      "metadata": {
        "colab": {
          "base_uri": "https://localhost:8080/"
        },
        "id": "T5a-YOA4eO6A",
        "outputId": "aceb042c-f4a6-4e03-de84-ee99ab6e19e4"
      },
      "outputs": [
        {
          "data": {
            "text/html": [
              "<div>\n",
              "<style scoped>\n",
              "    .dataframe tbody tr th:only-of-type {\n",
              "        vertical-align: middle;\n",
              "    }\n",
              "\n",
              "    .dataframe tbody tr th {\n",
              "        vertical-align: top;\n",
              "    }\n",
              "\n",
              "    .dataframe thead th {\n",
              "        text-align: right;\n",
              "    }\n",
              "</style>\n",
              "<table border=\"1\" class=\"dataframe\">\n",
              "  <thead>\n",
              "    <tr style=\"text-align: right;\">\n",
              "      <th></th>\n",
              "      <th>Extra</th>\n",
              "      <th>Extra</th>\n",
              "      <th>Extra</th>\n",
              "    </tr>\n",
              "  </thead>\n",
              "  <tbody>\n",
              "    <tr>\n",
              "      <th>tourist1</th>\n",
              "      <td>100</td>\n",
              "      <td>100</td>\n",
              "      <td>6</td>\n",
              "    </tr>\n",
              "    <tr>\n",
              "      <th>tourist2</th>\n",
              "      <td>100</td>\n",
              "      <td>100</td>\n",
              "      <td>65</td>\n",
              "    </tr>\n",
              "    <tr>\n",
              "      <th>tourist3</th>\n",
              "      <td>100</td>\n",
              "      <td>100</td>\n",
              "      <td>86</td>\n",
              "    </tr>\n",
              "    <tr>\n",
              "      <th>tourist4</th>\n",
              "      <td>100</td>\n",
              "      <td>100</td>\n",
              "      <td>84</td>\n",
              "    </tr>\n",
              "    <tr>\n",
              "      <th>tourist5</th>\n",
              "      <td>100</td>\n",
              "      <td>100</td>\n",
              "      <td>39</td>\n",
              "    </tr>\n",
              "    <tr>\n",
              "      <th>tourist6</th>\n",
              "      <td>100</td>\n",
              "      <td>100</td>\n",
              "      <td>48</td>\n",
              "    </tr>\n",
              "    <tr>\n",
              "      <th>tourist7</th>\n",
              "      <td>100</td>\n",
              "      <td>100</td>\n",
              "      <td>85</td>\n",
              "    </tr>\n",
              "    <tr>\n",
              "      <th>tourist8</th>\n",
              "      <td>100</td>\n",
              "      <td>100</td>\n",
              "      <td>108</td>\n",
              "    </tr>\n",
              "    <tr>\n",
              "      <th>tourist9</th>\n",
              "      <td>100</td>\n",
              "      <td>100</td>\n",
              "      <td>102</td>\n",
              "    </tr>\n",
              "  </tbody>\n",
              "</table>\n",
              "</div>"
            ],
            "text/plain": [
              "         Extra Extra Extra\n",
              "tourist1   100   100     6\n",
              "tourist2   100   100    65\n",
              "tourist3   100   100    86\n",
              "tourist4   100   100    84\n",
              "tourist5   100   100    39\n",
              "tourist6   100   100    48\n",
              "tourist7   100   100    85\n",
              "tourist8   100   100   108\n",
              "tourist9   100   100   102"
            ]
          },
          "execution_count": 241,
          "metadata": {},
          "output_type": "execute_result"
        }
      ],
      "source": [
        "DF[DF.columns[3]]"
      ]
    },
    {
      "cell_type": "code",
      "execution_count": 240,
      "metadata": {},
      "outputs": [
        {
          "data": {
            "text/plain": [
              "'Extra'"
            ]
          },
          "execution_count": 240,
          "metadata": {},
          "output_type": "execute_result"
        }
      ],
      "source": [
        "DF.columns[3]"
      ]
    },
    {
      "cell_type": "code",
      "execution_count": 242,
      "metadata": {},
      "outputs": [
        {
          "data": {
            "text/plain": [
              "tourist1      6\n",
              "tourist2     65\n",
              "tourist3     86\n",
              "tourist4     84\n",
              "tourist5     39\n",
              "tourist6     48\n",
              "tourist7     85\n",
              "tourist8    108\n",
              "tourist9    102\n",
              "Name: Extra, dtype: object"
            ]
          },
          "execution_count": 242,
          "metadata": {},
          "output_type": "execute_result"
        }
      ],
      "source": [
        "DF[DF.columns[3]].iloc[:,2]"
      ]
    },
    {
      "cell_type": "code",
      "execution_count": 245,
      "metadata": {
        "colab": {
          "base_uri": "https://localhost:8080/"
        },
        "id": "xoSRyoDtcmaa",
        "outputId": "11dd2784-7768-47f3-d117-21d29f5ccbbf"
      },
      "outputs": [
        {
          "data": {
            "text/plain": [
              "array([False])"
            ]
          },
          "execution_count": 245,
          "metadata": {},
          "output_type": "execute_result"
        }
      ],
      "source": [
        "(DF[DF.columns[3]].iloc[:,1]==DF[DF.columns[3]].iloc[:,2]).unique()"
      ]
    },
    {
      "cell_type": "code",
      "execution_count": 53,
      "metadata": {
        "colab": {
          "base_uri": "https://localhost:8080/"
        },
        "id": "w6w3IhIndRo-",
        "outputId": "c49dc2d2-f0c6-4fb1-e3c2-446641a9aa15"
      },
      "outputs": [
        {
          "data": {
            "text/plain": [
              "False"
            ]
          },
          "execution_count": 53,
          "metadata": {},
          "output_type": "execute_result"
        }
      ],
      "source": [
        "DF[DF.columns[6]].equals(DF[DF.columns[7]])"
      ]
    },
    {
      "cell_type": "code",
      "execution_count": 59,
      "metadata": {},
      "outputs": [
        {
          "data": {
            "text/html": [
              "<div>\n",
              "<style scoped>\n",
              "    .dataframe tbody tr th:only-of-type {\n",
              "        vertical-align: middle;\n",
              "    }\n",
              "\n",
              "    .dataframe tbody tr th {\n",
              "        vertical-align: top;\n",
              "    }\n",
              "\n",
              "    .dataframe thead th {\n",
              "        text-align: right;\n",
              "    }\n",
              "</style>\n",
              "<table border=\"1\" class=\"dataframe\">\n",
              "  <thead>\n",
              "    <tr style=\"text-align: right;\">\n",
              "      <th></th>\n",
              "      <th>Expenditure</th>\n",
              "      <th>Cost</th>\n",
              "      <th>Labels</th>\n",
              "      <th>Newcost</th>\n",
              "      <th>Season</th>\n",
              "      <th>Season</th>\n",
              "      <th>Tourist</th>\n",
              "      <th>Weather</th>\n",
              "    </tr>\n",
              "  </thead>\n",
              "  <tbody>\n",
              "    <tr>\n",
              "      <th>tourist1</th>\n",
              "      <td>122</td>\n",
              "      <td>100</td>\n",
              "      <td>Yes</td>\n",
              "      <td>100</td>\n",
              "      <td>Summer</td>\n",
              "      <td>122</td>\n",
              "      <td>like</td>\n",
              "      <td>Pleasant</td>\n",
              "    </tr>\n",
              "    <tr>\n",
              "      <th>tourist2</th>\n",
              "      <td>24</td>\n",
              "      <td>100</td>\n",
              "      <td>Yes</td>\n",
              "      <td>100</td>\n",
              "      <td>Summer</td>\n",
              "      <td>24</td>\n",
              "      <td>dislike</td>\n",
              "      <td>Hot</td>\n",
              "    </tr>\n",
              "    <tr>\n",
              "      <th>tourist3</th>\n",
              "      <td>48</td>\n",
              "      <td>100</td>\n",
              "      <td>Yes</td>\n",
              "      <td>100</td>\n",
              "      <td>Summer</td>\n",
              "      <td>48</td>\n",
              "      <td>like</td>\n",
              "      <td>Pleasant</td>\n",
              "    </tr>\n",
              "    <tr>\n",
              "      <th>tourist4</th>\n",
              "      <td>45</td>\n",
              "      <td>100</td>\n",
              "      <td>Yes</td>\n",
              "      <td>150</td>\n",
              "      <td>winter</td>\n",
              "      <td>45</td>\n",
              "      <td>like</td>\n",
              "      <td>Harsh</td>\n",
              "    </tr>\n",
              "    <tr>\n",
              "      <th>tourist5</th>\n",
              "      <td>41</td>\n",
              "      <td>100</td>\n",
              "      <td>No</td>\n",
              "      <td>150</td>\n",
              "      <td>winter</td>\n",
              "      <td>41</td>\n",
              "      <td>like</td>\n",
              "      <td>Pleasant</td>\n",
              "    </tr>\n",
              "    <tr>\n",
              "      <th>tourist6</th>\n",
              "      <td>44</td>\n",
              "      <td>100</td>\n",
              "      <td>Yes</td>\n",
              "      <td>200</td>\n",
              "      <td>autumn</td>\n",
              "      <td>44</td>\n",
              "      <td>dislike</td>\n",
              "      <td>Dry</td>\n",
              "    </tr>\n",
              "    <tr>\n",
              "      <th>tourist7</th>\n",
              "      <td>91</td>\n",
              "      <td>100</td>\n",
              "      <td>Yes</td>\n",
              "      <td>200</td>\n",
              "      <td>autumn</td>\n",
              "      <td>91</td>\n",
              "      <td>dislike</td>\n",
              "      <td>Pleasant</td>\n",
              "    </tr>\n",
              "    <tr>\n",
              "      <th>tourist8</th>\n",
              "      <td>3</td>\n",
              "      <td>100</td>\n",
              "      <td>No</td>\n",
              "      <td>200</td>\n",
              "      <td>autumn</td>\n",
              "      <td>3</td>\n",
              "      <td>NaN</td>\n",
              "      <td>Harsh</td>\n",
              "    </tr>\n",
              "    <tr>\n",
              "      <th>tourist9</th>\n",
              "      <td>16</td>\n",
              "      <td>100</td>\n",
              "      <td>NaN</td>\n",
              "      <td>200</td>\n",
              "      <td>Spring</td>\n",
              "      <td>16</td>\n",
              "      <td>like</td>\n",
              "      <td>Pleasant</td>\n",
              "    </tr>\n",
              "  </tbody>\n",
              "</table>\n",
              "</div>"
            ],
            "text/plain": [
              "         Expenditure  Cost Labels Newcost  Season Season  Tourist   Weather\n",
              "tourist1         122   100    Yes     100  Summer    122     like  Pleasant\n",
              "tourist2          24   100    Yes     100  Summer     24  dislike       Hot\n",
              "tourist3          48   100    Yes     100  Summer     48     like  Pleasant\n",
              "tourist4          45   100    Yes     150  winter     45     like     Harsh\n",
              "tourist5          41   100     No     150  winter     41     like  Pleasant\n",
              "tourist6          44   100    Yes     200  autumn     44  dislike       Dry\n",
              "tourist7          91   100    Yes     200  autumn     91  dislike  Pleasant\n",
              "tourist8           3   100     No     200  autumn      3      NaN     Harsh\n",
              "tourist9          16   100    NaN     200  Spring     16     like  Pleasant"
            ]
          },
          "execution_count": 59,
          "metadata": {},
          "output_type": "execute_result"
        }
      ],
      "source": [
        "DF"
      ]
    },
    {
      "cell_type": "code",
      "execution_count": 58,
      "metadata": {},
      "outputs": [],
      "source": [
        "DF=DF.rename({'Extra':'Cost'},axis=1)"
      ]
    },
    {
      "cell_type": "markdown",
      "metadata": {
        "id": "HuiiU81QpF8Z"
      },
      "source": [
        "# discreization of numeric data into bins\n",
        "\n",
        "\n",
        "1.   Explicitly mentioning of bin range\n",
        "2.   number of bins of same size (bin range)\n",
        "\n",
        "\n",
        "\n",
        "\n",
        "\n"
      ]
    },
    {
      "cell_type": "code",
      "execution_count": 62,
      "metadata": {
        "id": "-wWlALuGvq72"
      },
      "outputs": [],
      "source": [
        "DF['Newcost1']=DF['Cost']+DF['Newcost']"
      ]
    },
    {
      "cell_type": "code",
      "execution_count": 63,
      "metadata": {
        "colab": {
          "base_uri": "https://localhost:8080/",
          "height": 327
        },
        "id": "679UomexolZG",
        "outputId": "2059eea7-991f-4224-ba0c-844a35312fca"
      },
      "outputs": [
        {
          "data": {
            "text/html": [
              "<div>\n",
              "<style scoped>\n",
              "    .dataframe tbody tr th:only-of-type {\n",
              "        vertical-align: middle;\n",
              "    }\n",
              "\n",
              "    .dataframe tbody tr th {\n",
              "        vertical-align: top;\n",
              "    }\n",
              "\n",
              "    .dataframe thead th {\n",
              "        text-align: right;\n",
              "    }\n",
              "</style>\n",
              "<table border=\"1\" class=\"dataframe\">\n",
              "  <thead>\n",
              "    <tr style=\"text-align: right;\">\n",
              "      <th></th>\n",
              "      <th>Expenditure</th>\n",
              "      <th>Cost</th>\n",
              "      <th>Labels</th>\n",
              "      <th>Newcost</th>\n",
              "      <th>Season</th>\n",
              "      <th>Season</th>\n",
              "      <th>Tourist</th>\n",
              "      <th>Weather</th>\n",
              "      <th>Newcost1</th>\n",
              "    </tr>\n",
              "  </thead>\n",
              "  <tbody>\n",
              "    <tr>\n",
              "      <th>tourist1</th>\n",
              "      <td>122</td>\n",
              "      <td>100</td>\n",
              "      <td>Yes</td>\n",
              "      <td>100</td>\n",
              "      <td>Summer</td>\n",
              "      <td>122</td>\n",
              "      <td>like</td>\n",
              "      <td>Pleasant</td>\n",
              "      <td>200</td>\n",
              "    </tr>\n",
              "    <tr>\n",
              "      <th>tourist2</th>\n",
              "      <td>24</td>\n",
              "      <td>100</td>\n",
              "      <td>Yes</td>\n",
              "      <td>100</td>\n",
              "      <td>Summer</td>\n",
              "      <td>24</td>\n",
              "      <td>dislike</td>\n",
              "      <td>Hot</td>\n",
              "      <td>200</td>\n",
              "    </tr>\n",
              "    <tr>\n",
              "      <th>tourist3</th>\n",
              "      <td>48</td>\n",
              "      <td>100</td>\n",
              "      <td>Yes</td>\n",
              "      <td>100</td>\n",
              "      <td>Summer</td>\n",
              "      <td>48</td>\n",
              "      <td>like</td>\n",
              "      <td>Pleasant</td>\n",
              "      <td>200</td>\n",
              "    </tr>\n",
              "    <tr>\n",
              "      <th>tourist4</th>\n",
              "      <td>45</td>\n",
              "      <td>100</td>\n",
              "      <td>Yes</td>\n",
              "      <td>150</td>\n",
              "      <td>winter</td>\n",
              "      <td>45</td>\n",
              "      <td>like</td>\n",
              "      <td>Harsh</td>\n",
              "      <td>250</td>\n",
              "    </tr>\n",
              "    <tr>\n",
              "      <th>tourist5</th>\n",
              "      <td>41</td>\n",
              "      <td>100</td>\n",
              "      <td>No</td>\n",
              "      <td>150</td>\n",
              "      <td>winter</td>\n",
              "      <td>41</td>\n",
              "      <td>like</td>\n",
              "      <td>Pleasant</td>\n",
              "      <td>250</td>\n",
              "    </tr>\n",
              "    <tr>\n",
              "      <th>tourist6</th>\n",
              "      <td>44</td>\n",
              "      <td>100</td>\n",
              "      <td>Yes</td>\n",
              "      <td>200</td>\n",
              "      <td>autumn</td>\n",
              "      <td>44</td>\n",
              "      <td>dislike</td>\n",
              "      <td>Dry</td>\n",
              "      <td>300</td>\n",
              "    </tr>\n",
              "    <tr>\n",
              "      <th>tourist7</th>\n",
              "      <td>91</td>\n",
              "      <td>100</td>\n",
              "      <td>Yes</td>\n",
              "      <td>200</td>\n",
              "      <td>autumn</td>\n",
              "      <td>91</td>\n",
              "      <td>dislike</td>\n",
              "      <td>Pleasant</td>\n",
              "      <td>300</td>\n",
              "    </tr>\n",
              "    <tr>\n",
              "      <th>tourist8</th>\n",
              "      <td>3</td>\n",
              "      <td>100</td>\n",
              "      <td>No</td>\n",
              "      <td>200</td>\n",
              "      <td>autumn</td>\n",
              "      <td>3</td>\n",
              "      <td>NaN</td>\n",
              "      <td>Harsh</td>\n",
              "      <td>300</td>\n",
              "    </tr>\n",
              "    <tr>\n",
              "      <th>tourist9</th>\n",
              "      <td>16</td>\n",
              "      <td>100</td>\n",
              "      <td>NaN</td>\n",
              "      <td>200</td>\n",
              "      <td>Spring</td>\n",
              "      <td>16</td>\n",
              "      <td>like</td>\n",
              "      <td>Pleasant</td>\n",
              "      <td>300</td>\n",
              "    </tr>\n",
              "  </tbody>\n",
              "</table>\n",
              "</div>"
            ],
            "text/plain": [
              "         Expenditure  Cost Labels Newcost  Season Season  Tourist   Weather  \\\n",
              "tourist1         122   100    Yes     100  Summer    122     like  Pleasant   \n",
              "tourist2          24   100    Yes     100  Summer     24  dislike       Hot   \n",
              "tourist3          48   100    Yes     100  Summer     48     like  Pleasant   \n",
              "tourist4          45   100    Yes     150  winter     45     like     Harsh   \n",
              "tourist5          41   100     No     150  winter     41     like  Pleasant   \n",
              "tourist6          44   100    Yes     200  autumn     44  dislike       Dry   \n",
              "tourist7          91   100    Yes     200  autumn     91  dislike  Pleasant   \n",
              "tourist8           3   100     No     200  autumn      3      NaN     Harsh   \n",
              "tourist9          16   100    NaN     200  Spring     16     like  Pleasant   \n",
              "\n",
              "         Newcost1  \n",
              "tourist1      200  \n",
              "tourist2      200  \n",
              "tourist3      200  \n",
              "tourist4      250  \n",
              "tourist5      250  \n",
              "tourist6      300  \n",
              "tourist7      300  \n",
              "tourist8      300  \n",
              "tourist9      300  "
            ]
          },
          "execution_count": 63,
          "metadata": {},
          "output_type": "execute_result"
        }
      ],
      "source": [
        "DF.sort_values(by='Newcost1')"
      ]
    },
    {
      "cell_type": "code",
      "execution_count": null,
      "metadata": {
        "colab": {
          "base_uri": "https://localhost:8080/"
        },
        "id": "VuJALf7KR6F9",
        "outputId": "06097980-1583-4664-e743-c7b65905756e"
      },
      "outputs": [
        {
          "data": {
            "text/plain": [
              "Index(['season', 'weather', 'likeness', 'labels', 'cost', 'extra', 'newcost',\n",
              "       'newcost'],\n",
              "      dtype='object')"
            ]
          },
          "execution_count": 56,
          "metadata": {},
          "output_type": "execute_result"
        }
      ],
      "source": [
        "DF.columns.str.lower()"
      ]
    },
    {
      "cell_type": "code",
      "execution_count": 255,
      "metadata": {
        "id": "e69tJtIhSMjh"
      },
      "outputs": [],
      "source": [
        "DF.columns=DF.columns.str.lower()"
      ]
    },
    {
      "cell_type": "code",
      "execution_count": 65,
      "metadata": {
        "colab": {
          "base_uri": "https://localhost:8080/",
          "height": 327
        },
        "id": "az5yr-c7SzvM",
        "outputId": "e7ae4870-727c-45d3-f680-98a1e2458d7e"
      },
      "outputs": [
        {
          "data": {
            "text/html": [
              "<div>\n",
              "<style scoped>\n",
              "    .dataframe tbody tr th:only-of-type {\n",
              "        vertical-align: middle;\n",
              "    }\n",
              "\n",
              "    .dataframe tbody tr th {\n",
              "        vertical-align: top;\n",
              "    }\n",
              "\n",
              "    .dataframe thead th {\n",
              "        text-align: right;\n",
              "    }\n",
              "</style>\n",
              "<table border=\"1\" class=\"dataframe\">\n",
              "  <thead>\n",
              "    <tr style=\"text-align: right;\">\n",
              "      <th></th>\n",
              "      <th>Expenditure</th>\n",
              "      <th>Cost</th>\n",
              "      <th>Labels</th>\n",
              "      <th>Newcost</th>\n",
              "      <th>Season</th>\n",
              "      <th>Season</th>\n",
              "      <th>Tourist</th>\n",
              "      <th>Weather</th>\n",
              "      <th>Newcost1</th>\n",
              "    </tr>\n",
              "  </thead>\n",
              "  <tbody>\n",
              "    <tr>\n",
              "      <th>tourist1</th>\n",
              "      <td>122</td>\n",
              "      <td>100</td>\n",
              "      <td>Yes</td>\n",
              "      <td>100</td>\n",
              "      <td>Summer</td>\n",
              "      <td>122</td>\n",
              "      <td>like</td>\n",
              "      <td>Pleasant</td>\n",
              "      <td>200</td>\n",
              "    </tr>\n",
              "    <tr>\n",
              "      <th>tourist2</th>\n",
              "      <td>24</td>\n",
              "      <td>100</td>\n",
              "      <td>Yes</td>\n",
              "      <td>100</td>\n",
              "      <td>Summer</td>\n",
              "      <td>24</td>\n",
              "      <td>dislike</td>\n",
              "      <td>Hot</td>\n",
              "      <td>200</td>\n",
              "    </tr>\n",
              "    <tr>\n",
              "      <th>tourist3</th>\n",
              "      <td>48</td>\n",
              "      <td>100</td>\n",
              "      <td>Yes</td>\n",
              "      <td>100</td>\n",
              "      <td>Summer</td>\n",
              "      <td>48</td>\n",
              "      <td>like</td>\n",
              "      <td>Pleasant</td>\n",
              "      <td>200</td>\n",
              "    </tr>\n",
              "    <tr>\n",
              "      <th>tourist4</th>\n",
              "      <td>45</td>\n",
              "      <td>100</td>\n",
              "      <td>Yes</td>\n",
              "      <td>150</td>\n",
              "      <td>winter</td>\n",
              "      <td>45</td>\n",
              "      <td>like</td>\n",
              "      <td>Harsh</td>\n",
              "      <td>250</td>\n",
              "    </tr>\n",
              "    <tr>\n",
              "      <th>tourist5</th>\n",
              "      <td>41</td>\n",
              "      <td>100</td>\n",
              "      <td>No</td>\n",
              "      <td>150</td>\n",
              "      <td>winter</td>\n",
              "      <td>41</td>\n",
              "      <td>like</td>\n",
              "      <td>Pleasant</td>\n",
              "      <td>250</td>\n",
              "    </tr>\n",
              "    <tr>\n",
              "      <th>tourist6</th>\n",
              "      <td>44</td>\n",
              "      <td>100</td>\n",
              "      <td>Yes</td>\n",
              "      <td>200</td>\n",
              "      <td>autumn</td>\n",
              "      <td>44</td>\n",
              "      <td>dislike</td>\n",
              "      <td>Dry</td>\n",
              "      <td>300</td>\n",
              "    </tr>\n",
              "    <tr>\n",
              "      <th>tourist7</th>\n",
              "      <td>91</td>\n",
              "      <td>100</td>\n",
              "      <td>Yes</td>\n",
              "      <td>200</td>\n",
              "      <td>autumn</td>\n",
              "      <td>91</td>\n",
              "      <td>dislike</td>\n",
              "      <td>Pleasant</td>\n",
              "      <td>300</td>\n",
              "    </tr>\n",
              "    <tr>\n",
              "      <th>tourist8</th>\n",
              "      <td>3</td>\n",
              "      <td>100</td>\n",
              "      <td>No</td>\n",
              "      <td>200</td>\n",
              "      <td>autumn</td>\n",
              "      <td>3</td>\n",
              "      <td>NaN</td>\n",
              "      <td>Harsh</td>\n",
              "      <td>300</td>\n",
              "    </tr>\n",
              "    <tr>\n",
              "      <th>tourist9</th>\n",
              "      <td>16</td>\n",
              "      <td>100</td>\n",
              "      <td>NaN</td>\n",
              "      <td>200</td>\n",
              "      <td>Spring</td>\n",
              "      <td>16</td>\n",
              "      <td>like</td>\n",
              "      <td>Pleasant</td>\n",
              "      <td>300</td>\n",
              "    </tr>\n",
              "  </tbody>\n",
              "</table>\n",
              "</div>"
            ],
            "text/plain": [
              "         Expenditure  Cost Labels Newcost  Season Season  Tourist   Weather  \\\n",
              "tourist1         122   100    Yes     100  Summer    122     like  Pleasant   \n",
              "tourist2          24   100    Yes     100  Summer     24  dislike       Hot   \n",
              "tourist3          48   100    Yes     100  Summer     48     like  Pleasant   \n",
              "tourist4          45   100    Yes     150  winter     45     like     Harsh   \n",
              "tourist5          41   100     No     150  winter     41     like  Pleasant   \n",
              "tourist6          44   100    Yes     200  autumn     44  dislike       Dry   \n",
              "tourist7          91   100    Yes     200  autumn     91  dislike  Pleasant   \n",
              "tourist8           3   100     No     200  autumn      3      NaN     Harsh   \n",
              "tourist9          16   100    NaN     200  Spring     16     like  Pleasant   \n",
              "\n",
              "         Newcost1  \n",
              "tourist1      200  \n",
              "tourist2      200  \n",
              "tourist3      200  \n",
              "tourist4      250  \n",
              "tourist5      250  \n",
              "tourist6      300  \n",
              "tourist7      300  \n",
              "tourist8      300  \n",
              "tourist9      300  "
            ]
          },
          "execution_count": 65,
          "metadata": {},
          "output_type": "execute_result"
        }
      ],
      "source": [
        "DF"
      ]
    },
    {
      "cell_type": "markdown",
      "metadata": {
        "id": "flLZXyMUx3Kz"
      },
      "source": [
        " ## bin method-1"
      ]
    },
    {
      "cell_type": "code",
      "execution_count": 64,
      "metadata": {
        "colab": {
          "base_uri": "https://localhost:8080/",
          "height": 327
        },
        "id": "VtN59mkhW6ty",
        "outputId": "a86da5fb-f735-46a0-c1c3-f7971ac250ad"
      },
      "outputs": [
        {
          "data": {
            "text/html": [
              "<div>\n",
              "<style scoped>\n",
              "    .dataframe tbody tr th:only-of-type {\n",
              "        vertical-align: middle;\n",
              "    }\n",
              "\n",
              "    .dataframe tbody tr th {\n",
              "        vertical-align: top;\n",
              "    }\n",
              "\n",
              "    .dataframe thead th {\n",
              "        text-align: right;\n",
              "    }\n",
              "</style>\n",
              "<table border=\"1\" class=\"dataframe\">\n",
              "  <thead>\n",
              "    <tr style=\"text-align: right;\">\n",
              "      <th></th>\n",
              "      <th>Expenditure</th>\n",
              "      <th>Cost</th>\n",
              "      <th>Labels</th>\n",
              "      <th>Newcost</th>\n",
              "      <th>Season</th>\n",
              "      <th>Season</th>\n",
              "      <th>Tourist</th>\n",
              "      <th>Weather</th>\n",
              "      <th>Newcost1</th>\n",
              "    </tr>\n",
              "  </thead>\n",
              "  <tbody>\n",
              "    <tr>\n",
              "      <th>tourist1</th>\n",
              "      <td>122</td>\n",
              "      <td>100</td>\n",
              "      <td>Yes</td>\n",
              "      <td>100</td>\n",
              "      <td>Summer</td>\n",
              "      <td>122</td>\n",
              "      <td>like</td>\n",
              "      <td>Pleasant</td>\n",
              "      <td>200</td>\n",
              "    </tr>\n",
              "    <tr>\n",
              "      <th>tourist2</th>\n",
              "      <td>24</td>\n",
              "      <td>100</td>\n",
              "      <td>Yes</td>\n",
              "      <td>100</td>\n",
              "      <td>Summer</td>\n",
              "      <td>24</td>\n",
              "      <td>dislike</td>\n",
              "      <td>Hot</td>\n",
              "      <td>200</td>\n",
              "    </tr>\n",
              "    <tr>\n",
              "      <th>tourist3</th>\n",
              "      <td>48</td>\n",
              "      <td>100</td>\n",
              "      <td>Yes</td>\n",
              "      <td>100</td>\n",
              "      <td>Summer</td>\n",
              "      <td>48</td>\n",
              "      <td>like</td>\n",
              "      <td>Pleasant</td>\n",
              "      <td>200</td>\n",
              "    </tr>\n",
              "    <tr>\n",
              "      <th>tourist4</th>\n",
              "      <td>45</td>\n",
              "      <td>100</td>\n",
              "      <td>Yes</td>\n",
              "      <td>150</td>\n",
              "      <td>winter</td>\n",
              "      <td>45</td>\n",
              "      <td>like</td>\n",
              "      <td>Harsh</td>\n",
              "      <td>250</td>\n",
              "    </tr>\n",
              "    <tr>\n",
              "      <th>tourist5</th>\n",
              "      <td>41</td>\n",
              "      <td>100</td>\n",
              "      <td>No</td>\n",
              "      <td>150</td>\n",
              "      <td>winter</td>\n",
              "      <td>41</td>\n",
              "      <td>like</td>\n",
              "      <td>Pleasant</td>\n",
              "      <td>250</td>\n",
              "    </tr>\n",
              "    <tr>\n",
              "      <th>tourist6</th>\n",
              "      <td>44</td>\n",
              "      <td>100</td>\n",
              "      <td>Yes</td>\n",
              "      <td>200</td>\n",
              "      <td>autumn</td>\n",
              "      <td>44</td>\n",
              "      <td>dislike</td>\n",
              "      <td>Dry</td>\n",
              "      <td>300</td>\n",
              "    </tr>\n",
              "    <tr>\n",
              "      <th>tourist7</th>\n",
              "      <td>91</td>\n",
              "      <td>100</td>\n",
              "      <td>Yes</td>\n",
              "      <td>200</td>\n",
              "      <td>autumn</td>\n",
              "      <td>91</td>\n",
              "      <td>dislike</td>\n",
              "      <td>Pleasant</td>\n",
              "      <td>300</td>\n",
              "    </tr>\n",
              "    <tr>\n",
              "      <th>tourist8</th>\n",
              "      <td>3</td>\n",
              "      <td>100</td>\n",
              "      <td>No</td>\n",
              "      <td>200</td>\n",
              "      <td>autumn</td>\n",
              "      <td>3</td>\n",
              "      <td>NaN</td>\n",
              "      <td>Harsh</td>\n",
              "      <td>300</td>\n",
              "    </tr>\n",
              "    <tr>\n",
              "      <th>tourist9</th>\n",
              "      <td>16</td>\n",
              "      <td>100</td>\n",
              "      <td>NaN</td>\n",
              "      <td>200</td>\n",
              "      <td>Spring</td>\n",
              "      <td>16</td>\n",
              "      <td>like</td>\n",
              "      <td>Pleasant</td>\n",
              "      <td>300</td>\n",
              "    </tr>\n",
              "  </tbody>\n",
              "</table>\n",
              "</div>"
            ],
            "text/plain": [
              "         Expenditure  Cost Labels Newcost  Season Season  Tourist   Weather  \\\n",
              "tourist1         122   100    Yes     100  Summer    122     like  Pleasant   \n",
              "tourist2          24   100    Yes     100  Summer     24  dislike       Hot   \n",
              "tourist3          48   100    Yes     100  Summer     48     like  Pleasant   \n",
              "tourist4          45   100    Yes     150  winter     45     like     Harsh   \n",
              "tourist5          41   100     No     150  winter     41     like  Pleasant   \n",
              "tourist6          44   100    Yes     200  autumn     44  dislike       Dry   \n",
              "tourist7          91   100    Yes     200  autumn     91  dislike  Pleasant   \n",
              "tourist8           3   100     No     200  autumn      3      NaN     Harsh   \n",
              "tourist9          16   100    NaN     200  Spring     16     like  Pleasant   \n",
              "\n",
              "         Newcost1  \n",
              "tourist1      200  \n",
              "tourist2      200  \n",
              "tourist3      200  \n",
              "tourist4      250  \n",
              "tourist5      250  \n",
              "tourist6      300  \n",
              "tourist7      300  \n",
              "tourist8      300  \n",
              "tourist9      300  "
            ]
          },
          "execution_count": 64,
          "metadata": {},
          "output_type": "execute_result"
        }
      ],
      "source": [
        "DF"
      ]
    },
    {
      "cell_type": "code",
      "execution_count": 67,
      "metadata": {
        "id": "kVwAQIXWx2Vy"
      },
      "outputs": [
        {
          "data": {
            "text/plain": [
              "tourist1    (97, 150]\n",
              "tourist2      (0, 40]\n",
              "tourist3     (40, 75]\n",
              "tourist4     (40, 75]\n",
              "tourist5     (40, 75]\n",
              "tourist6     (40, 75]\n",
              "tourist7     (75, 97]\n",
              "tourist8      (0, 40]\n",
              "tourist9      (0, 40]\n",
              "Name: Expenditure, dtype: category\n",
              "Categories (4, interval[int64]): [(0, 40] < (40, 75] < (75, 97] < (97, 150]]"
            ]
          },
          "execution_count": 67,
          "metadata": {},
          "output_type": "execute_result"
        }
      ],
      "source": [
        "bins = [0,40, 75,97, 150]\n",
        "category = pd.cut(DF['Expenditure'], bins)\n",
        "category"
      ]
    },
    {
      "cell_type": "markdown",
      "metadata": {},
      "source": [
        "## constructing user specified bins in range min-max of that column"
      ]
    },
    {
      "cell_type": "code",
      "execution_count": 68,
      "metadata": {
        "id": "4JnA3XE2ZeyV"
      },
      "outputs": [],
      "source": [
        "m=DF['Expenditure'].min()\n",
        "max1=DF['Expenditure'].max()"
      ]
    },
    {
      "cell_type": "code",
      "execution_count": 73,
      "metadata": {
        "id": "q9lwGlPHZpzu"
      },
      "outputs": [
        {
          "data": {
            "text/plain": [
              "array([  2,  22,  42,  62,  82, 102, 122])"
            ]
          },
          "execution_count": 73,
          "metadata": {},
          "output_type": "execute_result"
        }
      ],
      "source": [
        "A=np.arange(m-1,max1+1,20)\n",
        "A"
      ]
    },
    {
      "cell_type": "code",
      "execution_count": 269,
      "metadata": {
        "colab": {
          "base_uri": "https://localhost:8080/"
        },
        "id": "swLdpdpAa2qC",
        "outputId": "1ecfc68e-8582-440b-aa69-135f32d34eea"
      },
      "outputs": [
        {
          "data": {
            "text/plain": [
              "81"
            ]
          },
          "execution_count": 269,
          "metadata": {},
          "output_type": "execute_result"
        }
      ],
      "source": [
        "A[4]"
      ]
    },
    {
      "cell_type": "code",
      "execution_count": 70,
      "metadata": {
        "id": "EWZEr9G3b8kL"
      },
      "outputs": [],
      "source": [
        "B=np.append(A,max1)"
      ]
    },
    {
      "cell_type": "code",
      "execution_count": 74,
      "metadata": {
        "id": "HyETivmYcLVB"
      },
      "outputs": [],
      "source": [
        "category = pd.cut(DF['Expenditure'], A)"
      ]
    },
    {
      "cell_type": "code",
      "execution_count": 75,
      "metadata": {},
      "outputs": [
        {
          "data": {
            "text/plain": [
              "tourist1    (102, 122]\n",
              "tourist2      (22, 42]\n",
              "tourist3      (42, 62]\n",
              "tourist4      (42, 62]\n",
              "tourist5      (22, 42]\n",
              "tourist6      (42, 62]\n",
              "tourist7     (82, 102]\n",
              "tourist8       (2, 22]\n",
              "tourist9       (2, 22]\n",
              "Name: Expenditure, dtype: category\n",
              "Categories (6, interval[int64]): [(2, 22] < (22, 42] < (42, 62] < (62, 82] < (82, 102] < (102, 122]]"
            ]
          },
          "execution_count": 75,
          "metadata": {},
          "output_type": "execute_result"
        }
      ],
      "source": [
        "category"
      ]
    },
    {
      "cell_type": "markdown",
      "metadata": {
        "id": "wPPD4RjEz__n"
      },
      "source": [
        "## to get the bin range"
      ]
    },
    {
      "cell_type": "code",
      "execution_count": 103,
      "metadata": {
        "colab": {
          "base_uri": "https://localhost:8080/"
        },
        "id": "eYEh6GVrcYmD",
        "outputId": "6ba2ac35-16ce-47e5-e27a-b119c974237a"
      },
      "outputs": [
        {
          "data": {
            "text/plain": [
              "0    550\n",
              "1    644\n",
              "2    450\n",
              "3    834\n",
              "4    818\n",
              "5    508\n",
              "6    669\n",
              "7    374\n",
              "8    569\n",
              "Name: extra, dtype: int64"
            ]
          },
          "execution_count": 103,
          "metadata": {},
          "output_type": "execute_result"
        }
      ],
      "source": [
        "DF['extra']"
      ]
    },
    {
      "cell_type": "code",
      "execution_count": 76,
      "metadata": {
        "colab": {
          "base_uri": "https://localhost:8080/"
        },
        "id": "Ss4YX1M3zfyn",
        "outputId": "4a6f522d-29cd-4324-d8e6-3d8e300b466d"
      },
      "outputs": [
        {
          "data": {
            "text/plain": [
              "[(102, 122], (22, 42], (42, 62], (42, 62], (22, 42], (42, 62], (82, 102], (2, 22], (2, 22]]\n",
              "Categories (6, interval[int64]): [(2, 22] < (22, 42] < (42, 62] < (62, 82] < (82, 102] < (102, 122]]"
            ]
          },
          "execution_count": 76,
          "metadata": {},
          "output_type": "execute_result"
        }
      ],
      "source": [
        "category.values"
      ]
    },
    {
      "cell_type": "markdown",
      "metadata": {
        "id": "Ss-tR9x40Gbl"
      },
      "source": [
        "## Extract bin code"
      ]
    },
    {
      "cell_type": "code",
      "execution_count": 77,
      "metadata": {
        "colab": {
          "base_uri": "https://localhost:8080/"
        },
        "id": "WpQuaILjzygY",
        "outputId": "e717b521-13bb-441d-ff83-793a0788fc65"
      },
      "outputs": [
        {
          "data": {
            "text/plain": [
              "array([5, 1, 2, 2, 1, 2, 4, 0, 0], dtype=int8)"
            ]
          },
          "execution_count": 77,
          "metadata": {},
          "output_type": "execute_result"
        }
      ],
      "source": [
        "category.values.codes"
      ]
    },
    {
      "cell_type": "markdown",
      "metadata": {
        "id": "v0fMyn2D0Lb0"
      },
      "source": [
        "## extract all bin categories"
      ]
    },
    {
      "cell_type": "markdown",
      "metadata": {
        "id": "pXS7VtE80J5s"
      },
      "source": []
    },
    {
      "cell_type": "code",
      "execution_count": 78,
      "metadata": {
        "colab": {
          "base_uri": "https://localhost:8080/"
        },
        "id": "_h1kPlzfz1jK",
        "outputId": "5eedba98-fc2b-4823-a95f-2aad40e61c01"
      },
      "outputs": [
        {
          "data": {
            "text/plain": [
              "IntervalIndex([(2, 22], (22, 42], (42, 62], (62, 82], (82, 102], (102, 122]],\n",
              "              closed='right',\n",
              "              dtype='interval[int64]')"
            ]
          },
          "execution_count": 78,
          "metadata": {},
          "output_type": "execute_result"
        }
      ],
      "source": [
        "category.values.categories"
      ]
    },
    {
      "cell_type": "markdown",
      "metadata": {
        "id": "HsMd2RfE0fxc"
      },
      "source": [
        "## as per math notation []: closed parenthesis, () :open\n",
        "By defualt, right parenthesis is closed in cut().\n",
        "May be mentioned (right=False) in pd.cut()"
      ]
    },
    {
      "cell_type": "code",
      "execution_count": 82,
      "metadata": {
        "colab": {
          "base_uri": "https://localhost:8080/"
        },
        "id": "J-Ipymlg1Gdj",
        "outputId": "680e4d20-b24c-47a3-b7f6-08b6f32240fb"
      },
      "outputs": [],
      "source": [
        "category=pd.cut(DF['Expenditure'], bins, right=False)"
      ]
    },
    {
      "cell_type": "code",
      "execution_count": 83,
      "metadata": {
        "colab": {
          "base_uri": "https://localhost:8080/"
        },
        "id": "cBNI83bN1udN",
        "outputId": "b0114aa9-2d0b-4774-cd6e-23096243e638"
      },
      "outputs": [
        {
          "data": {
            "text/plain": [
              "4"
            ]
          },
          "execution_count": 83,
          "metadata": {},
          "output_type": "execute_result"
        }
      ],
      "source": [
        "L=len(category.values.categories)\n",
        "L"
      ]
    },
    {
      "cell_type": "markdown",
      "metadata": {
        "id": "t8KIxFI62BzE"
      },
      "source": [
        "## labels size must be same as that of categories size"
      ]
    },
    {
      "cell_type": "code",
      "execution_count": 84,
      "metadata": {
        "colab": {
          "base_uri": "https://localhost:8080/"
        },
        "id": "yx8blq_D1WOo",
        "outputId": "cdcfde63-c0bb-4fa0-d14d-867bf13194b2"
      },
      "outputs": [
        {
          "data": {
            "text/plain": [
              "tourist1    much cost\n",
              "tourist2          low\n",
              "tourist3     moderate\n",
              "tourist4     moderate\n",
              "tourist5     moderate\n",
              "tourist6     moderate\n",
              "tourist7       costly\n",
              "tourist8          low\n",
              "tourist9          low\n",
              "Name: Expenditure, dtype: category\n",
              "Categories (4, object): ['low' < 'moderate' < 'costly' < 'much cost']"
            ]
          },
          "execution_count": 84,
          "metadata": {},
          "output_type": "execute_result"
        }
      ],
      "source": [
        "categories_names = ['low', 'moderate', 'costly','much cost']\n",
        "pd.cut(DF['Expenditure'], bins, right=False,labels=categories_names[0:L])"
      ]
    },
    {
      "cell_type": "markdown",
      "metadata": {
        "id": "JB9kcelj2StX"
      },
      "source": [
        "# Bin method 2: equal sized bin"
      ]
    },
    {
      "cell_type": "code",
      "execution_count": 85,
      "metadata": {
        "colab": {
          "base_uri": "https://localhost:8080/"
        },
        "id": "6Ek00OCB2Wh0",
        "outputId": "94ed50c9-342a-4739-99c6-8ddee210b561"
      },
      "outputs": [
        {
          "data": {
            "text/plain": [
              "[(0.78, 0.96], (0.78, 0.96], (0.78, 0.96], (0.22, 0.41], (0.41, 0.59], ..., (0.035, 0.22], (0.41, 0.59], (0.59, 0.78], (0.035, 0.22], (0.78, 0.96]]\n",
              "Length: 30\n",
              "Categories (5, interval[float64]): [(0.035, 0.22] < (0.22, 0.41] < (0.41, 0.59] < (0.59, 0.78] < (0.78, 0.96]]"
            ]
          },
          "execution_count": 85,
          "metadata": {},
          "output_type": "execute_result"
        }
      ],
      "source": [
        "data = np.random.rand(30)\n",
        "pd.cut(data, 5, precision=2)"
      ]
    },
    {
      "cell_type": "code",
      "execution_count": 86,
      "metadata": {
        "colab": {
          "base_uri": "https://localhost:8080/"
        },
        "id": "RW5hXrKwd7Q7",
        "outputId": "73c43c00-3e23-4767-852d-e8d6192e5887"
      },
      "outputs": [
        {
          "data": {
            "text/plain": [
              "array([0.87144828, 0.94383328, 0.91169031, 0.34393941, 0.44467372,\n",
              "       0.96428163, 0.21876247, 0.25433755, 0.75069521, 0.65393665,\n",
              "       0.8988803 , 0.03613184, 0.14283265, 0.1889172 , 0.23203964,\n",
              "       0.33260684, 0.72345063, 0.08440049, 0.73885632, 0.53341119,\n",
              "       0.67301264, 0.29183708, 0.36450946, 0.18263377, 0.72620641,\n",
              "       0.08684753, 0.49576954, 0.75034658, 0.06934315, 0.86514492])"
            ]
          },
          "execution_count": 86,
          "metadata": {},
          "output_type": "execute_result"
        }
      ],
      "source": [
        "data"
      ]
    },
    {
      "cell_type": "markdown",
      "metadata": {
        "id": "SzWjseJI2q23"
      },
      "source": [
        "# Bin method 3: mentioning number of items in each bin as per quartile"
      ]
    },
    {
      "cell_type": "code",
      "execution_count": 3,
      "metadata": {
        "colab": {
          "base_uri": "https://localhost:8080/"
        },
        "id": "4C_q_GHp2xFV",
        "outputId": "c6752b4c-5961-4e20-c2cb-81b77f63dea2"
      },
      "outputs": [
        {
          "data": {
            "text/plain": [
              "[(-0.667, 0.00255], (-3.5029999999999997, -0.667], (-0.667, 0.00255], (-0.667, 0.00255], (0.577, 3.59], ..., (-3.5029999999999997, -0.667], (-0.667, 0.00255], (-3.5029999999999997, -0.667], (-3.5029999999999997, -0.667], (0.00255, 0.577]]\n",
              "Length: 1000\n",
              "Categories (4, interval[float64]): [(-3.5029999999999997, -0.667] < (-0.667, 0.00255] < (0.00255, 0.577] < (0.577, 3.59]]"
            ]
          },
          "execution_count": 3,
          "metadata": {},
          "output_type": "execute_result"
        }
      ],
      "source": [
        "data = np.random.randn(1000)  # Normally distributed\n",
        "cats = pd.qcut(data, 4)  # Cut into quartiles (25%,50%,75%,100%)\n",
        "cats\n"
      ]
    },
    {
      "cell_type": "code",
      "execution_count": 4,
      "metadata": {
        "colab": {
          "base_uri": "https://localhost:8080/"
        },
        "id": "SyMJst9F3I7R",
        "outputId": "4fb91697-3189-4745-b8d9-63504b431662"
      },
      "outputs": [
        {
          "data": {
            "text/plain": [
              "array([3, 1, 1, 3, 0, 0, 3, 3, 1, 1, 1, 0, 3, 0, 1, 1, 2, 1, 0, 1],\n",
              "      dtype=int8)"
            ]
          },
          "execution_count": 4,
          "metadata": {},
          "output_type": "execute_result"
        }
      ],
      "source": [
        "cats.codes[:20]"
      ]
    },
    {
      "cell_type": "code",
      "execution_count": 4,
      "metadata": {
        "colab": {
          "base_uri": "https://localhost:8080/"
        },
        "id": "fXackoTA2_7J",
        "outputId": "a3807e23-5a16-458d-babb-9e34b9ca6638"
      },
      "outputs": [
        {
          "data": {
            "text/plain": [
              "(-3.5029999999999997, -0.667]    250\n",
              "(-0.667, 0.00255]                250\n",
              "(0.00255, 0.577]                 250\n",
              "(0.577, 3.59]                    250\n",
              "dtype: int64"
            ]
          },
          "execution_count": 4,
          "metadata": {},
          "output_type": "execute_result"
        }
      ],
      "source": [
        "pd.value_counts(cats)"
      ]
    },
    {
      "cell_type": "markdown",
      "metadata": {
        "id": "hrVyWF5k5vG-"
      },
      "source": [
        "## explicitly mentioning the quantiles: % of items in a bin"
      ]
    },
    {
      "cell_type": "code",
      "execution_count": 5,
      "metadata": {
        "id": "3151WDNV59i9"
      },
      "outputs": [],
      "source": [
        "cats=pd.qcut(data, [0, 0.15, 0.3, 0.8, 1.])"
      ]
    },
    {
      "cell_type": "code",
      "execution_count": 6,
      "metadata": {
        "colab": {
          "base_uri": "https://localhost:8080/"
        },
        "id": "sRPHdADi6Db4",
        "outputId": "db7dc50d-effe-4904-f216-1ecd4a68c3f9"
      },
      "outputs": [
        {
          "data": {
            "text/plain": [
              "(-0.522, 0.783]                  500\n",
              "(0.783, 3.59]                    200\n",
              "(-3.5029999999999997, -0.979]    150\n",
              "(-0.979, -0.522]                 150\n",
              "dtype: int64"
            ]
          },
          "execution_count": 6,
          "metadata": {},
          "output_type": "execute_result"
        }
      ],
      "source": [
        "pd.value_counts(cats)"
      ]
    },
    {
      "cell_type": "markdown",
      "metadata": {
        "id": "fgmk-Szx60c9"
      },
      "source": [
        "# detecting outliers: extreme values which may impact the rest of data, may be encountered due to typos/malfunctioing of data capturing devices etc."
      ]
    },
    {
      "cell_type": "code",
      "execution_count": 7,
      "metadata": {
        "id": "sPTpwOfu7DhA"
      },
      "outputs": [],
      "source": [
        "DF=pd.DataFrame(np.random.randn(100,5))"
      ]
    },
    {
      "cell_type": "code",
      "execution_count": 8,
      "metadata": {
        "colab": {
          "base_uri": "https://localhost:8080/",
          "height": 418
        },
        "id": "qYwFy50R7Mf8",
        "outputId": "ca6f4ba8-67fa-47c2-c9b1-b21e76946665"
      },
      "outputs": [
        {
          "data": {
            "text/html": [
              "<div>\n",
              "<style scoped>\n",
              "    .dataframe tbody tr th:only-of-type {\n",
              "        vertical-align: middle;\n",
              "    }\n",
              "\n",
              "    .dataframe tbody tr th {\n",
              "        vertical-align: top;\n",
              "    }\n",
              "\n",
              "    .dataframe thead th {\n",
              "        text-align: right;\n",
              "    }\n",
              "</style>\n",
              "<table border=\"1\" class=\"dataframe\">\n",
              "  <thead>\n",
              "    <tr style=\"text-align: right;\">\n",
              "      <th></th>\n",
              "      <th>0</th>\n",
              "      <th>1</th>\n",
              "      <th>2</th>\n",
              "      <th>3</th>\n",
              "      <th>4</th>\n",
              "    </tr>\n",
              "  </thead>\n",
              "  <tbody>\n",
              "    <tr>\n",
              "      <th>0</th>\n",
              "      <td>1.682788</td>\n",
              "      <td>-1.195067</td>\n",
              "      <td>-0.740066</td>\n",
              "      <td>1.160429</td>\n",
              "      <td>-0.498522</td>\n",
              "    </tr>\n",
              "    <tr>\n",
              "      <th>1</th>\n",
              "      <td>0.578504</td>\n",
              "      <td>-0.149330</td>\n",
              "      <td>1.377304</td>\n",
              "      <td>0.622857</td>\n",
              "      <td>0.813290</td>\n",
              "    </tr>\n",
              "    <tr>\n",
              "      <th>2</th>\n",
              "      <td>-0.572642</td>\n",
              "      <td>1.551633</td>\n",
              "      <td>0.798107</td>\n",
              "      <td>-0.926004</td>\n",
              "      <td>-0.908249</td>\n",
              "    </tr>\n",
              "    <tr>\n",
              "      <th>3</th>\n",
              "      <td>-0.379036</td>\n",
              "      <td>-1.562295</td>\n",
              "      <td>1.259371</td>\n",
              "      <td>-0.718929</td>\n",
              "      <td>-0.604311</td>\n",
              "    </tr>\n",
              "    <tr>\n",
              "      <th>4</th>\n",
              "      <td>0.514396</td>\n",
              "      <td>-0.650772</td>\n",
              "      <td>0.335942</td>\n",
              "      <td>1.311719</td>\n",
              "      <td>1.558992</td>\n",
              "    </tr>\n",
              "    <tr>\n",
              "      <th>...</th>\n",
              "      <td>...</td>\n",
              "      <td>...</td>\n",
              "      <td>...</td>\n",
              "      <td>...</td>\n",
              "      <td>...</td>\n",
              "    </tr>\n",
              "    <tr>\n",
              "      <th>95</th>\n",
              "      <td>-0.302700</td>\n",
              "      <td>-0.236066</td>\n",
              "      <td>-0.523154</td>\n",
              "      <td>-0.111150</td>\n",
              "      <td>1.882567</td>\n",
              "    </tr>\n",
              "    <tr>\n",
              "      <th>96</th>\n",
              "      <td>-0.188035</td>\n",
              "      <td>-1.533557</td>\n",
              "      <td>0.217998</td>\n",
              "      <td>0.468380</td>\n",
              "      <td>1.253355</td>\n",
              "    </tr>\n",
              "    <tr>\n",
              "      <th>97</th>\n",
              "      <td>0.340923</td>\n",
              "      <td>1.483356</td>\n",
              "      <td>0.436851</td>\n",
              "      <td>-0.077904</td>\n",
              "      <td>-0.431021</td>\n",
              "    </tr>\n",
              "    <tr>\n",
              "      <th>98</th>\n",
              "      <td>1.571096</td>\n",
              "      <td>0.482937</td>\n",
              "      <td>-1.157455</td>\n",
              "      <td>-2.133452</td>\n",
              "      <td>1.199743</td>\n",
              "    </tr>\n",
              "    <tr>\n",
              "      <th>99</th>\n",
              "      <td>-0.192576</td>\n",
              "      <td>1.687127</td>\n",
              "      <td>-1.262977</td>\n",
              "      <td>-0.304180</td>\n",
              "      <td>1.395418</td>\n",
              "    </tr>\n",
              "  </tbody>\n",
              "</table>\n",
              "<p>100 rows × 5 columns</p>\n",
              "</div>"
            ],
            "text/plain": [
              "           0         1         2         3         4\n",
              "0   1.682788 -1.195067 -0.740066  1.160429 -0.498522\n",
              "1   0.578504 -0.149330  1.377304  0.622857  0.813290\n",
              "2  -0.572642  1.551633  0.798107 -0.926004 -0.908249\n",
              "3  -0.379036 -1.562295  1.259371 -0.718929 -0.604311\n",
              "4   0.514396 -0.650772  0.335942  1.311719  1.558992\n",
              "..       ...       ...       ...       ...       ...\n",
              "95 -0.302700 -0.236066 -0.523154 -0.111150  1.882567\n",
              "96 -0.188035 -1.533557  0.217998  0.468380  1.253355\n",
              "97  0.340923  1.483356  0.436851 -0.077904 -0.431021\n",
              "98  1.571096  0.482937 -1.157455 -2.133452  1.199743\n",
              "99 -0.192576  1.687127 -1.262977 -0.304180  1.395418\n",
              "\n",
              "[100 rows x 5 columns]"
            ]
          },
          "execution_count": 8,
          "metadata": {},
          "output_type": "execute_result"
        }
      ],
      "source": [
        "DF"
      ]
    },
    {
      "cell_type": "markdown",
      "metadata": {
        "id": "GpIj0c1-7mRk"
      },
      "source": [
        "## tatistical description of data"
      ]
    },
    {
      "cell_type": "code",
      "execution_count": 9,
      "metadata": {
        "colab": {
          "base_uri": "https://localhost:8080/",
          "height": 296
        },
        "id": "ZvVvfVSx7lQU",
        "outputId": "ff7196e5-daf8-4125-da22-73d6378a4d2c"
      },
      "outputs": [
        {
          "data": {
            "text/html": [
              "<div>\n",
              "<style scoped>\n",
              "    .dataframe tbody tr th:only-of-type {\n",
              "        vertical-align: middle;\n",
              "    }\n",
              "\n",
              "    .dataframe tbody tr th {\n",
              "        vertical-align: top;\n",
              "    }\n",
              "\n",
              "    .dataframe thead th {\n",
              "        text-align: right;\n",
              "    }\n",
              "</style>\n",
              "<table border=\"1\" class=\"dataframe\">\n",
              "  <thead>\n",
              "    <tr style=\"text-align: right;\">\n",
              "      <th></th>\n",
              "      <th>0</th>\n",
              "      <th>1</th>\n",
              "      <th>2</th>\n",
              "      <th>3</th>\n",
              "      <th>4</th>\n",
              "    </tr>\n",
              "  </thead>\n",
              "  <tbody>\n",
              "    <tr>\n",
              "      <th>count</th>\n",
              "      <td>100.000000</td>\n",
              "      <td>100.000000</td>\n",
              "      <td>100.000000</td>\n",
              "      <td>100.000000</td>\n",
              "      <td>100.000000</td>\n",
              "    </tr>\n",
              "    <tr>\n",
              "      <th>mean</th>\n",
              "      <td>0.173761</td>\n",
              "      <td>-0.010555</td>\n",
              "      <td>-0.159829</td>\n",
              "      <td>-0.144575</td>\n",
              "      <td>0.195420</td>\n",
              "    </tr>\n",
              "    <tr>\n",
              "      <th>std</th>\n",
              "      <td>0.869844</td>\n",
              "      <td>0.997745</td>\n",
              "      <td>1.160864</td>\n",
              "      <td>1.050878</td>\n",
              "      <td>1.044626</td>\n",
              "    </tr>\n",
              "    <tr>\n",
              "      <th>min</th>\n",
              "      <td>-1.670473</td>\n",
              "      <td>-2.123522</td>\n",
              "      <td>-3.232502</td>\n",
              "      <td>-2.701941</td>\n",
              "      <td>-2.671150</td>\n",
              "    </tr>\n",
              "    <tr>\n",
              "      <th>25%</th>\n",
              "      <td>-0.381689</td>\n",
              "      <td>-0.716150</td>\n",
              "      <td>-0.995745</td>\n",
              "      <td>-0.875636</td>\n",
              "      <td>-0.523246</td>\n",
              "    </tr>\n",
              "    <tr>\n",
              "      <th>50%</th>\n",
              "      <td>0.192041</td>\n",
              "      <td>0.002510</td>\n",
              "      <td>-0.117642</td>\n",
              "      <td>-0.162282</td>\n",
              "      <td>0.144960</td>\n",
              "    </tr>\n",
              "    <tr>\n",
              "      <th>75%</th>\n",
              "      <td>0.740922</td>\n",
              "      <td>0.741080</td>\n",
              "      <td>0.496672</td>\n",
              "      <td>0.672364</td>\n",
              "      <td>0.832484</td>\n",
              "    </tr>\n",
              "    <tr>\n",
              "      <th>max</th>\n",
              "      <td>2.286897</td>\n",
              "      <td>2.490731</td>\n",
              "      <td>3.057173</td>\n",
              "      <td>1.809799</td>\n",
              "      <td>2.283933</td>\n",
              "    </tr>\n",
              "  </tbody>\n",
              "</table>\n",
              "</div>"
            ],
            "text/plain": [
              "                0           1           2           3           4\n",
              "count  100.000000  100.000000  100.000000  100.000000  100.000000\n",
              "mean     0.173761   -0.010555   -0.159829   -0.144575    0.195420\n",
              "std      0.869844    0.997745    1.160864    1.050878    1.044626\n",
              "min     -1.670473   -2.123522   -3.232502   -2.701941   -2.671150\n",
              "25%     -0.381689   -0.716150   -0.995745   -0.875636   -0.523246\n",
              "50%      0.192041    0.002510   -0.117642   -0.162282    0.144960\n",
              "75%      0.740922    0.741080    0.496672    0.672364    0.832484\n",
              "max      2.286897    2.490731    3.057173    1.809799    2.283933"
            ]
          },
          "execution_count": 9,
          "metadata": {},
          "output_type": "execute_result"
        }
      ],
      "source": [
        "DF.describe()"
      ]
    },
    {
      "cell_type": "code",
      "execution_count": 10,
      "metadata": {
        "id": "Y2Hx_Ktdg5GZ"
      },
      "outputs": [],
      "source": [
        "mean_val=DF[1].mean()"
      ]
    },
    {
      "cell_type": "code",
      "execution_count": 11,
      "metadata": {},
      "outputs": [
        {
          "data": {
            "text/plain": [
              "-0.010554627828832217"
            ]
          },
          "execution_count": 11,
          "metadata": {},
          "output_type": "execute_result"
        }
      ],
      "source": [
        "mean_val"
      ]
    },
    {
      "cell_type": "code",
      "execution_count": 12,
      "metadata": {
        "id": "c4XNefI_hazg"
      },
      "outputs": [],
      "source": [
        "std_val=DF[1].std()"
      ]
    },
    {
      "cell_type": "code",
      "execution_count": 14,
      "metadata": {},
      "outputs": [
        {
          "data": {
            "text/plain": [
              "0.9977448215911002"
            ]
          },
          "execution_count": 14,
          "metadata": {},
          "output_type": "execute_result"
        }
      ],
      "source": [
        "std_val"
      ]
    },
    {
      "cell_type": "code",
      "execution_count": 15,
      "metadata": {},
      "outputs": [
        {
          "data": {
            "text/plain": [
              "1.9849350153533682"
            ]
          },
          "execution_count": 15,
          "metadata": {},
          "output_type": "execute_result"
        }
      ],
      "source": [
        "mean_val+2*std_val"
      ]
    },
    {
      "cell_type": "code",
      "execution_count": 16,
      "metadata": {
        "colab": {
          "base_uri": "https://localhost:8080/",
          "height": 80
        },
        "id": "B4ex4-VVhgMn",
        "outputId": "c4dbeac1-b083-41f3-a7cb-a5558d57a6e4"
      },
      "outputs": [
        {
          "data": {
            "text/html": [
              "<div>\n",
              "<style scoped>\n",
              "    .dataframe tbody tr th:only-of-type {\n",
              "        vertical-align: middle;\n",
              "    }\n",
              "\n",
              "    .dataframe tbody tr th {\n",
              "        vertical-align: top;\n",
              "    }\n",
              "\n",
              "    .dataframe thead th {\n",
              "        text-align: right;\n",
              "    }\n",
              "</style>\n",
              "<table border=\"1\" class=\"dataframe\">\n",
              "  <thead>\n",
              "    <tr style=\"text-align: right;\">\n",
              "      <th></th>\n",
              "      <th>0</th>\n",
              "      <th>1</th>\n",
              "      <th>2</th>\n",
              "      <th>3</th>\n",
              "      <th>4</th>\n",
              "    </tr>\n",
              "  </thead>\n",
              "  <tbody>\n",
              "    <tr>\n",
              "      <th>39</th>\n",
              "      <td>-1.107721</td>\n",
              "      <td>2.490731</td>\n",
              "      <td>3.057173</td>\n",
              "      <td>0.776042</td>\n",
              "      <td>0.911639</td>\n",
              "    </tr>\n",
              "  </tbody>\n",
              "</table>\n",
              "</div>"
            ],
            "text/plain": [
              "           0         1         2         3         4\n",
              "39 -1.107721  2.490731  3.057173  0.776042  0.911639"
            ]
          },
          "execution_count": 16,
          "metadata": {},
          "output_type": "execute_result"
        }
      ],
      "source": [
        "DF[DF[1]> (mean_val+2*std_val)]"
      ]
    },
    {
      "cell_type": "code",
      "execution_count": 20,
      "metadata": {
        "id": "e0SeoWVS73pn"
      },
      "outputs": [],
      "source": [
        "cats=pd.cut(DF[1], [DF[1].min(),-1.5,-0.2,1,1.98,DF[1].max()],precision=6)"
      ]
    },
    {
      "cell_type": "code",
      "execution_count": 21,
      "metadata": {
        "colab": {
          "base_uri": "https://localhost:8080/"
        },
        "id": "xbLLpKMEKcIj",
        "outputId": "1da56312-a742-4e53-a618-d475d1f2de15"
      },
      "outputs": [
        {
          "data": {
            "text/plain": [
              "0          (-1.5, -0.2]\n",
              "1           (-0.2, 1.0]\n",
              "2           (1.0, 1.98]\n",
              "3     (-2.123522, -1.5]\n",
              "4          (-1.5, -0.2]\n",
              "            ...        \n",
              "95         (-1.5, -0.2]\n",
              "96    (-2.123522, -1.5]\n",
              "97          (1.0, 1.98]\n",
              "98          (-0.2, 1.0]\n",
              "99          (1.0, 1.98]\n",
              "Name: 1, Length: 100, dtype: category\n",
              "Categories (5, interval[float64]): [(-2.123522, -1.5] < (-1.5, -0.2] < (-0.2, 1.0] < (1.0, 1.98] < (1.98, 2.490731]]"
            ]
          },
          "execution_count": 21,
          "metadata": {},
          "output_type": "execute_result"
        }
      ],
      "source": [
        "cats"
      ]
    },
    {
      "cell_type": "code",
      "execution_count": 22,
      "metadata": {
        "colab": {
          "base_uri": "https://localhost:8080/"
        },
        "id": "ctEJrUZiKnSU",
        "outputId": "2d29f2f3-faf0-4753-ba4c-befa7a611a7a"
      },
      "outputs": [
        {
          "data": {
            "text/plain": [
              "(-0.2, 1.0]          43\n",
              "(-1.5, -0.2]         33\n",
              "(1.0, 1.98]          15\n",
              "(-2.123522, -1.5]     7\n",
              "(1.98, 2.490731]      1\n",
              "Name: 1, dtype: int64"
            ]
          },
          "execution_count": 22,
          "metadata": {},
          "output_type": "execute_result"
        }
      ],
      "source": [
        "pd.value_counts(cats)"
      ]
    },
    {
      "cell_type": "code",
      "execution_count": 23,
      "metadata": {
        "colab": {
          "base_uri": "https://localhost:8080/"
        },
        "id": "2TwOcJhJ8NZB",
        "outputId": "ef3da51a-5f90-44e8-ed27-ab9fb2d4cce4"
      },
      "outputs": [
        {
          "data": {
            "text/plain": [
              "array([ 1,  2,  3,  0,  1,  1,  2,  1,  2,  1,  2,  1, -1,  1,  1,  2,  1,\n",
              "        3,  2,  3,  2,  2,  2,  2,  1,  1,  2,  2,  1,  3,  2,  2,  0,  1,\n",
              "        1,  2,  1,  0,  2,  4,  3,  2,  3,  2,  2,  0,  1,  2,  1,  2,  2,\n",
              "        2,  3,  2,  2,  1,  2,  2,  2,  2,  2,  1,  1,  1,  2,  1,  3,  2,\n",
              "        1,  2,  1,  1,  3,  2,  1,  3,  2,  0,  3,  2,  1,  2,  1,  2,  1,\n",
              "        1,  0,  2,  3,  1,  2,  1,  2,  2,  3,  1,  0,  3,  2,  3],\n",
              "      dtype=int8)"
            ]
          },
          "execution_count": 23,
          "metadata": {},
          "output_type": "execute_result"
        }
      ],
      "source": [
        "cats.values.codes"
      ]
    },
    {
      "cell_type": "code",
      "execution_count": 24,
      "metadata": {
        "colab": {
          "base_uri": "https://localhost:8080/"
        },
        "id": "duH9EVdL8L23",
        "outputId": "8d756db4-7990-47dc-8d35-925032d4875c"
      },
      "outputs": [
        {
          "data": {
            "text/plain": [
              "1"
            ]
          },
          "execution_count": 24,
          "metadata": {},
          "output_type": "execute_result"
        }
      ],
      "source": [
        "sum(cats.values.isna())"
      ]
    },
    {
      "cell_type": "code",
      "execution_count": 25,
      "metadata": {
        "colab": {
          "base_uri": "https://localhost:8080/",
          "height": 80
        },
        "id": "N8j4KpVQInH9",
        "outputId": "968263f2-6dd2-49c8-f0ea-b48be2c32060"
      },
      "outputs": [
        {
          "data": {
            "text/html": [
              "<div>\n",
              "<style scoped>\n",
              "    .dataframe tbody tr th:only-of-type {\n",
              "        vertical-align: middle;\n",
              "    }\n",
              "\n",
              "    .dataframe tbody tr th {\n",
              "        vertical-align: top;\n",
              "    }\n",
              "\n",
              "    .dataframe thead th {\n",
              "        text-align: right;\n",
              "    }\n",
              "</style>\n",
              "<table border=\"1\" class=\"dataframe\">\n",
              "  <thead>\n",
              "    <tr style=\"text-align: right;\">\n",
              "      <th></th>\n",
              "      <th>0</th>\n",
              "      <th>1</th>\n",
              "      <th>2</th>\n",
              "      <th>3</th>\n",
              "      <th>4</th>\n",
              "    </tr>\n",
              "  </thead>\n",
              "  <tbody>\n",
              "    <tr>\n",
              "      <th>39</th>\n",
              "      <td>-1.107721</td>\n",
              "      <td>2.490731</td>\n",
              "      <td>3.057173</td>\n",
              "      <td>0.776042</td>\n",
              "      <td>0.911639</td>\n",
              "    </tr>\n",
              "  </tbody>\n",
              "</table>\n",
              "</div>"
            ],
            "text/plain": [
              "           0         1         2         3         4\n",
              "39 -1.107721  2.490731  3.057173  0.776042  0.911639"
            ]
          },
          "execution_count": 25,
          "metadata": {},
          "output_type": "execute_result"
        }
      ],
      "source": [
        "DF[DF[1]>DF[1].max()-0.5]"
      ]
    },
    {
      "cell_type": "code",
      "execution_count": 26,
      "metadata": {
        "colab": {
          "base_uri": "https://localhost:8080/",
          "height": 49
        },
        "id": "MUZxnuntMzz2",
        "outputId": "7a8de0db-a779-4412-f998-d028210ec1aa"
      },
      "outputs": [
        {
          "data": {
            "text/html": [
              "<div>\n",
              "<style scoped>\n",
              "    .dataframe tbody tr th:only-of-type {\n",
              "        vertical-align: middle;\n",
              "    }\n",
              "\n",
              "    .dataframe tbody tr th {\n",
              "        vertical-align: top;\n",
              "    }\n",
              "\n",
              "    .dataframe thead th {\n",
              "        text-align: right;\n",
              "    }\n",
              "</style>\n",
              "<table border=\"1\" class=\"dataframe\">\n",
              "  <thead>\n",
              "    <tr style=\"text-align: right;\">\n",
              "      <th></th>\n",
              "      <th>0</th>\n",
              "      <th>1</th>\n",
              "      <th>2</th>\n",
              "      <th>3</th>\n",
              "      <th>4</th>\n",
              "    </tr>\n",
              "  </thead>\n",
              "  <tbody>\n",
              "    <tr>\n",
              "      <th>12</th>\n",
              "      <td>-0.207127</td>\n",
              "      <td>-2.123522</td>\n",
              "      <td>-0.759591</td>\n",
              "      <td>-0.653296</td>\n",
              "      <td>-0.631563</td>\n",
              "    </tr>\n",
              "    <tr>\n",
              "      <th>45</th>\n",
              "      <td>-0.233660</td>\n",
              "      <td>-2.084028</td>\n",
              "      <td>-0.900581</td>\n",
              "      <td>-0.535659</td>\n",
              "      <td>0.286339</td>\n",
              "    </tr>\n",
              "    <tr>\n",
              "      <th>77</th>\n",
              "      <td>1.463852</td>\n",
              "      <td>-1.677775</td>\n",
              "      <td>2.216755</td>\n",
              "      <td>-0.363827</td>\n",
              "      <td>0.593722</td>\n",
              "    </tr>\n",
              "    <tr>\n",
              "      <th>86</th>\n",
              "      <td>-0.296649</td>\n",
              "      <td>-1.802060</td>\n",
              "      <td>0.299284</td>\n",
              "      <td>1.603780</td>\n",
              "      <td>-0.295481</td>\n",
              "    </tr>\n",
              "  </tbody>\n",
              "</table>\n",
              "</div>"
            ],
            "text/plain": [
              "           0         1         2         3         4\n",
              "12 -0.207127 -2.123522 -0.759591 -0.653296 -0.631563\n",
              "45 -0.233660 -2.084028 -0.900581 -0.535659  0.286339\n",
              "77  1.463852 -1.677775  2.216755 -0.363827  0.593722\n",
              "86 -0.296649 -1.802060  0.299284  1.603780 -0.295481"
            ]
          },
          "execution_count": 26,
          "metadata": {},
          "output_type": "execute_result"
        }
      ],
      "source": [
        "DF[DF[1]<DF[1].min()+0.5]"
      ]
    },
    {
      "cell_type": "markdown",
      "metadata": {
        "id": "hZ7gvg0aNaM_"
      },
      "source": [
        "## get sign value of data"
      ]
    },
    {
      "cell_type": "code",
      "execution_count": 27,
      "metadata": {
        "colab": {
          "base_uri": "https://localhost:8080/"
        },
        "id": "6QFNjAYCNWUL",
        "outputId": "ee2c14d7-a8ca-42e6-dc41-99d79827c067"
      },
      "outputs": [
        {
          "data": {
            "text/plain": [
              "0    -1.0\n",
              "1    -1.0\n",
              "2     1.0\n",
              "3    -1.0\n",
              "4    -1.0\n",
              "     ... \n",
              "95   -1.0\n",
              "96   -1.0\n",
              "97    1.0\n",
              "98    1.0\n",
              "99    1.0\n",
              "Name: 1, Length: 100, dtype: float64"
            ]
          },
          "execution_count": 27,
          "metadata": {},
          "output_type": "execute_result"
        }
      ],
      "source": [
        "np.sign(DF[1])"
      ]
    },
    {
      "cell_type": "code",
      "execution_count": 161,
      "metadata": {
        "colab": {
          "base_uri": "https://localhost:8080/"
        },
        "id": "wrm1lxd6Nc2v",
        "outputId": "a41002b1-731a-437b-8570-171b18ab5afb"
      },
      "outputs": [
        {
          "data": {
            "text/plain": [
              "0.03312212078834947"
            ]
          },
          "execution_count": 161,
          "metadata": {},
          "output_type": "execute_result"
        }
      ],
      "source": [
        "DF[1].median()"
      ]
    },
    {
      "cell_type": "markdown",
      "metadata": {
        "id": "wu0My5kGNkgD"
      },
      "source": [
        "## setting extreme values to median of a colume"
      ]
    },
    {
      "cell_type": "code",
      "execution_count": 33,
      "metadata": {
        "colab": {
          "base_uri": "https://localhost:8080/",
          "height": 80
        },
        "id": "vWaMCVnoilzh",
        "outputId": "0d59d098-c424-4cb2-a1ca-aacde4d8edd4"
      },
      "outputs": [
        {
          "data": {
            "text/html": [
              "<div>\n",
              "<style scoped>\n",
              "    .dataframe tbody tr th:only-of-type {\n",
              "        vertical-align: middle;\n",
              "    }\n",
              "\n",
              "    .dataframe tbody tr th {\n",
              "        vertical-align: top;\n",
              "    }\n",
              "\n",
              "    .dataframe thead th {\n",
              "        text-align: right;\n",
              "    }\n",
              "</style>\n",
              "<table border=\"1\" class=\"dataframe\">\n",
              "  <thead>\n",
              "    <tr style=\"text-align: right;\">\n",
              "      <th></th>\n",
              "      <th>0</th>\n",
              "      <th>1</th>\n",
              "      <th>2</th>\n",
              "      <th>3</th>\n",
              "      <th>4</th>\n",
              "    </tr>\n",
              "  </thead>\n",
              "  <tbody>\n",
              "    <tr>\n",
              "      <th>2</th>\n",
              "      <td>1.277768</td>\n",
              "      <td>1.747110</td>\n",
              "      <td>0.057100</td>\n",
              "      <td>0.110485</td>\n",
              "      <td>0.575087</td>\n",
              "    </tr>\n",
              "    <tr>\n",
              "      <th>6</th>\n",
              "      <td>-0.878947</td>\n",
              "      <td>1.990347</td>\n",
              "      <td>1.180281</td>\n",
              "      <td>-1.007779</td>\n",
              "      <td>0.147126</td>\n",
              "    </tr>\n",
              "    <tr>\n",
              "      <th>65</th>\n",
              "      <td>0.773281</td>\n",
              "      <td>2.291504</td>\n",
              "      <td>1.289712</td>\n",
              "      <td>1.357138</td>\n",
              "      <td>-0.840155</td>\n",
              "    </tr>\n",
              "  </tbody>\n",
              "</table>\n",
              "</div>"
            ],
            "text/plain": [
              "           0         1         2         3         4\n",
              "2   1.277768  1.747110  0.057100  0.110485  0.575087\n",
              "6  -0.878947  1.990347  1.180281 -1.007779  0.147126\n",
              "65  0.773281  2.291504  1.289712  1.357138 -0.840155"
            ]
          },
          "execution_count": 33,
          "metadata": {},
          "output_type": "execute_result"
        }
      ],
      "source": [
        "DF[DF[1]>(mean_val+2*std_val)]"
      ]
    },
    {
      "cell_type": "code",
      "execution_count": 34,
      "metadata": {
        "id": "MqJ1rlQrNoM1"
      },
      "outputs": [],
      "source": [
        "DF.loc[DF[1]>(mean_val+2*std_val)]=DF[1].median()"
      ]
    },
    {
      "cell_type": "code",
      "execution_count": 35,
      "metadata": {
        "colab": {
          "base_uri": "https://localhost:8080/"
        },
        "id": "E1EmuvAIOb6W",
        "outputId": "ff6bad37-ebcb-4e3f-ec51-134c0af04c1f"
      },
      "outputs": [
        {
          "data": {
            "text/plain": [
              "0   -2.190247\n",
              "1    0.444477\n",
              "2    0.031868\n",
              "3   -1.115743\n",
              "4   -1.535025\n",
              "Name: 63, dtype: float64"
            ]
          },
          "execution_count": 35,
          "metadata": {},
          "output_type": "execute_result"
        }
      ],
      "source": [
        "DF.iloc[63,:]"
      ]
    },
    {
      "cell_type": "markdown",
      "metadata": {
        "id": "ch-UJSiSO7nO"
      },
      "source": [
        "# string object operations\n",
        "\n",
        "1.   count: the number of non-overlapping occurrences of substring in the string.\n",
        "\n",
        "2.   endswith: returns True if string ends with mentioned suffix.\n",
        "\n",
        "1.    startswith: returns True if string starts with mentioned prefix.\n",
        "2.   index: returns position of first character in substring if found in the string; raises ValueError if not found.\n",
        "\n",
        "\n",
        "1.   find: returns position of first character in substring if found in the string; else -1\n",
        "2.   strip: Trim whitespace, including newlines (and rstrip, lstrip, respectively)\n",
        "\n",
        "\n",
        "1.   split: to split a string into substring based on mentioned delimiters\n",
        "2.   join: joining substrings in a string using mentioned delilimters\n",
        "ljust(),lower(),\n",
        "\n",
        "\n",
        "\n",
        "\n",
        "\n",
        "\n",
        "\n",
        "\n"
      ]
    },
    {
      "cell_type": "code",
      "execution_count": 29,
      "metadata": {
        "id": "7ndNcwp2QmMR"
      },
      "outputs": [],
      "source": [
        "msg=' It is   gooD to know, All the Classmates are good '"
      ]
    },
    {
      "cell_type": "markdown",
      "metadata": {
        "id": "1_Lzi1OKRBmz"
      },
      "source": [
        "## casefold same as lower() but with only difference in handling of language/region-specific character "
      ]
    },
    {
      "cell_type": "code",
      "execution_count": 30,
      "metadata": {
        "colab": {
          "base_uri": "https://localhost:8080/",
          "height": 36
        },
        "id": "L-Nrb32LQwdl",
        "outputId": "622946a7-cd30-4a5e-ace1-2476bb8ab163"
      },
      "outputs": [
        {
          "data": {
            "text/plain": [
              "' it is   good to know, all the classmates are good '"
            ]
          },
          "execution_count": 30,
          "metadata": {},
          "output_type": "execute_result"
        }
      ],
      "source": [
        "msg.casefold()"
      ]
    },
    {
      "cell_type": "code",
      "execution_count": 31,
      "metadata": {
        "colab": {
          "base_uri": "https://localhost:8080/",
          "height": 36
        },
        "id": "-sArhCBSQ8BY",
        "outputId": "703f90c9-5621-446b-bb3e-27bc2384b5c1"
      },
      "outputs": [
        {
          "data": {
            "text/plain": [
              "' it is   good to know, all the classmates are good '"
            ]
          },
          "execution_count": 31,
          "metadata": {},
          "output_type": "execute_result"
        }
      ],
      "source": [
        "msg.lower()"
      ]
    },
    {
      "cell_type": "markdown",
      "metadata": {
        "id": "QLLAICUySXpV"
      },
      "source": [
        "## split(): splits on the basis of single seperatoe. If mulitple seperators then use regular expression (re)"
      ]
    },
    {
      "cell_type": "code",
      "execution_count": 43,
      "metadata": {
        "colab": {
          "base_uri": "https://localhost:8080/"
        },
        "id": "b-PshAp7Rwpt",
        "outputId": "80f472e8-9530-4ded-a626-d9797c839191"
      },
      "outputs": [
        {
          "data": {
            "text/plain": [
              "[' It is   gooD to know', ' All the Classmates are good ']"
            ]
          },
          "execution_count": 43,
          "metadata": {},
          "output_type": "execute_result"
        }
      ],
      "source": [
        "msg.split(sep=',')"
      ]
    },
    {
      "cell_type": "code",
      "execution_count": 44,
      "metadata": {
        "colab": {
          "base_uri": "https://localhost:8080/"
        },
        "id": "eZs6xc1nSoIt",
        "outputId": "05f8b282-4105-4e2f-82cc-8e268fca0d81"
      },
      "outputs": [
        {
          "data": {
            "text/plain": [
              "1"
            ]
          },
          "execution_count": 44,
          "metadata": {},
          "output_type": "execute_result"
        }
      ],
      "source": [
        "msg.count('good')"
      ]
    },
    {
      "cell_type": "code",
      "execution_count": 45,
      "metadata": {
        "colab": {
          "base_uri": "https://localhost:8080/",
          "height": 36
        },
        "id": "m8_icGFUSzOA",
        "outputId": "e3b7dbc5-0958-4b9e-c550-e75c7644b1f0"
      },
      "outputs": [
        {
          "data": {
            "text/plain": [
              "' It is   gooD to know** All the Classmates are good '"
            ]
          },
          "execution_count": 45,
          "metadata": {},
          "output_type": "execute_result"
        }
      ],
      "source": [
        "msg.replace(',','**')"
      ]
    },
    {
      "cell_type": "code",
      "execution_count": null,
      "metadata": {
        "colab": {
          "base_uri": "https://localhost:8080/"
        },
        "id": "5-AMiCqCTBJH",
        "outputId": "a8673acd-2201-4de1-d070-9a7b0253fe1e"
      },
      "outputs": [
        {
          "data": {
            "text/plain": [
              "51"
            ]
          },
          "execution_count": 160,
          "metadata": {},
          "output_type": "execute_result"
        }
      ],
      "source": [
        "len(msg)"
      ]
    },
    {
      "cell_type": "code",
      "execution_count": 32,
      "metadata": {
        "colab": {
          "base_uri": "https://localhost:8080/",
          "height": 36
        },
        "id": "gdBKc-E9S4E3",
        "outputId": "6ee11f51-d64d-4aee-e5bb-e22085eda456"
      },
      "outputs": [
        {
          "data": {
            "text/plain": [
              "'**** It is   gooD to know, All the Classmates are good '"
            ]
          },
          "execution_count": 32,
          "metadata": {},
          "output_type": "execute_result"
        }
      ],
      "source": [
        "msg.rjust(55,'*')"
      ]
    },
    {
      "cell_type": "markdown",
      "metadata": {},
      "source": [
        "## Creating dummy variables for modeling\n",
        "We often transform categorical data into dummy variables, also known as one-hot encoding while performing statistical analysis or machine learning. This involves creating\n",
        "a DataFrame with a column for each distinct category; these columns contain 1s\n",
        "for occurrences of a given category and 0 otherwise. number of columns created are equal to number of distinct categories"
      ]
    },
    {
      "cell_type": "code",
      "execution_count": 90,
      "metadata": {},
      "outputs": [],
      "source": [
        "S1 = pd.Series(['a', 'b', 'c', 'd'] * 2)  # or you mau use explicit , dtype='category' while creating series"
      ]
    },
    {
      "cell_type": "code",
      "execution_count": 92,
      "metadata": {},
      "outputs": [
        {
          "data": {
            "text/plain": [
              "0    a\n",
              "1    b\n",
              "2    c\n",
              "3    d\n",
              "4    a\n",
              "5    b\n",
              "6    c\n",
              "7    d\n",
              "dtype: object"
            ]
          },
          "execution_count": 92,
          "metadata": {},
          "output_type": "execute_result"
        }
      ],
      "source": [
        "S1"
      ]
    },
    {
      "cell_type": "code",
      "execution_count": 91,
      "metadata": {},
      "outputs": [
        {
          "data": {
            "text/html": [
              "<div>\n",
              "<style scoped>\n",
              "    .dataframe tbody tr th:only-of-type {\n",
              "        vertical-align: middle;\n",
              "    }\n",
              "\n",
              "    .dataframe tbody tr th {\n",
              "        vertical-align: top;\n",
              "    }\n",
              "\n",
              "    .dataframe thead th {\n",
              "        text-align: right;\n",
              "    }\n",
              "</style>\n",
              "<table border=\"1\" class=\"dataframe\">\n",
              "  <thead>\n",
              "    <tr style=\"text-align: right;\">\n",
              "      <th></th>\n",
              "      <th>a</th>\n",
              "      <th>b</th>\n",
              "      <th>c</th>\n",
              "      <th>d</th>\n",
              "    </tr>\n",
              "  </thead>\n",
              "  <tbody>\n",
              "    <tr>\n",
              "      <th>0</th>\n",
              "      <td>1</td>\n",
              "      <td>0</td>\n",
              "      <td>0</td>\n",
              "      <td>0</td>\n",
              "    </tr>\n",
              "    <tr>\n",
              "      <th>1</th>\n",
              "      <td>0</td>\n",
              "      <td>1</td>\n",
              "      <td>0</td>\n",
              "      <td>0</td>\n",
              "    </tr>\n",
              "    <tr>\n",
              "      <th>2</th>\n",
              "      <td>0</td>\n",
              "      <td>0</td>\n",
              "      <td>1</td>\n",
              "      <td>0</td>\n",
              "    </tr>\n",
              "    <tr>\n",
              "      <th>3</th>\n",
              "      <td>0</td>\n",
              "      <td>0</td>\n",
              "      <td>0</td>\n",
              "      <td>1</td>\n",
              "    </tr>\n",
              "    <tr>\n",
              "      <th>4</th>\n",
              "      <td>1</td>\n",
              "      <td>0</td>\n",
              "      <td>0</td>\n",
              "      <td>0</td>\n",
              "    </tr>\n",
              "    <tr>\n",
              "      <th>5</th>\n",
              "      <td>0</td>\n",
              "      <td>1</td>\n",
              "      <td>0</td>\n",
              "      <td>0</td>\n",
              "    </tr>\n",
              "    <tr>\n",
              "      <th>6</th>\n",
              "      <td>0</td>\n",
              "      <td>0</td>\n",
              "      <td>1</td>\n",
              "      <td>0</td>\n",
              "    </tr>\n",
              "    <tr>\n",
              "      <th>7</th>\n",
              "      <td>0</td>\n",
              "      <td>0</td>\n",
              "      <td>0</td>\n",
              "      <td>1</td>\n",
              "    </tr>\n",
              "  </tbody>\n",
              "</table>\n",
              "</div>"
            ],
            "text/plain": [
              "   a  b  c  d\n",
              "0  1  0  0  0\n",
              "1  0  1  0  0\n",
              "2  0  0  1  0\n",
              "3  0  0  0  1\n",
              "4  1  0  0  0\n",
              "5  0  1  0  0\n",
              "6  0  0  1  0\n",
              "7  0  0  0  1"
            ]
          },
          "execution_count": 91,
          "metadata": {},
          "output_type": "execute_result"
        }
      ],
      "source": [
        "dummy_var=pd.get_dummies(S1)\n",
        "dummy_var"
      ]
    },
    {
      "cell_type": "markdown",
      "metadata": {
        "id": "DqNG-eH4fA2Q"
      },
      "source": []
    }
  ],
  "metadata": {
    "colab": {
      "name": "unit2-part5-datacleaning-2.ipynb",
      "provenance": [],
      "toc_visible": true
    },
    "kernelspec": {
      "display_name": "Python 3.9.4 64-bit",
      "language": "python",
      "name": "python3"
    },
    "language_info": {
      "codemirror_mode": {
        "name": "ipython",
        "version": 3
      },
      "file_extension": ".py",
      "mimetype": "text/x-python",
      "name": "python",
      "nbconvert_exporter": "python",
      "pygments_lexer": "ipython3",
      "version": "3.9.4"
    },
    "vscode": {
      "interpreter": {
        "hash": "5c6d8cf874a78cf518467a975f892478beea8e1660668e6c51857c147a60fb9a"
      }
    }
  },
  "nbformat": 4,
  "nbformat_minor": 0
}
