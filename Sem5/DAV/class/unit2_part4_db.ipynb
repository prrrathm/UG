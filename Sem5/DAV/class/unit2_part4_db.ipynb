{
  "cells": [
    {
      "cell_type": "code",
      "execution_count": 42,
      "metadata": {
        "id": "sBv2TAZSouCc"
      },
      "outputs": [],
      "source": [
        "import pandas as pd \n",
        "import numpy as np"
      ]
    },
    {
      "cell_type": "markdown",
      "metadata": {
        "id": "OJGP2NfDp0cp"
      },
      "source": [
        "# About Sqlite:\n",
        "a software library to  provide a relational database management system, which is lightweight in terms of setup, database administration, and required resources.\n",
        "\n",
        "SQLite has the following noticeable features: self-contained, serverless, zero-configuration, transactional."
      ]
    },
    {
      "cell_type": "code",
      "execution_count": 43,
      "metadata": {
        "id": "DATd_xcSowfh"
      },
      "outputs": [],
      "source": [
        "import sqlite3"
      ]
    },
    {
      "cell_type": "code",
      "execution_count": 46,
      "metadata": {
        "id": "fgTPwHwcol3s"
      },
      "outputs": [],
      "source": [
        "\n",
        "query = \"\"\"\n",
        "CREATE TABLE test2\n",
        "(a VARCHAR(20), b VARCHAR(20),\n",
        " c REAL,        d INTEGER\n",
        ");\"\"\"\n",
        "con = sqlite3.connect('mydata.sqlite')\n",
        "con.execute(query)\n",
        "\n",
        "con.commit()"
      ]
    },
    {
      "cell_type": "code",
      "execution_count": 45,
      "metadata": {},
      "outputs": [],
      "source": [
        "query = \"\"\"\n",
        "DROP TABLE test2;\"\"\"\n",
        "con = sqlite3.connect('mydata.sqlite')\n",
        "con.execute(query)\n",
        "\n",
        "con.commit()"
      ]
    },
    {
      "cell_type": "code",
      "execution_count": 20,
      "metadata": {
        "id": "pwKcJ3zu8Ol6"
      },
      "outputs": [],
      "source": [
        "\n",
        "query = \"\"\"\n",
        "CREATE TABLE testtry\n",
        "(a VARCHAR(20), b VARCHAR(20),\n",
        " c REAL,        d INTEGER\n",
        ");\"\"\"\n",
        "con = sqlite3.connect('mydata2')\n",
        "con.execute(query)\n",
        "con.commit()"
      ]
    },
    {
      "cell_type": "code",
      "execution_count": 47,
      "metadata": {
        "id": "XPBZFVAGo6cC"
      },
      "outputs": [],
      "source": [
        "data = [('Atlanta', 'Georgia', 1.25, 6),\n",
        "        ('Tallahassee', 'Florida', 2.6, 3),\n",
        "        ('Sacramento', 'California', 1.7, 5),\n",
        "        ('India', 'Delhi', 2.5, 6)]\n",
        "stmt = \"INSERT INTO test2 VALUES(?, ?, ?, ?)\"\n",
        "con.executemany(stmt, data)\n",
        "con.commit()"
      ]
    },
    {
      "cell_type": "markdown",
      "metadata": {
        "id": "iYhsCUg7qkvl"
      },
      "source": [
        "## extracting all rows"
      ]
    },
    {
      "cell_type": "code",
      "execution_count": 48,
      "metadata": {
        "colab": {
          "base_uri": "https://localhost:8080/"
        },
        "id": "4AXRFWNQpD4R",
        "outputId": "d0d331e1-e5ec-4219-bf20-89c43300980d"
      },
      "outputs": [
        {
          "data": {
            "text/plain": [
              "[('Atlanta', 'Georgia', 1.25, 6),\n",
              " ('Tallahassee', 'Florida', 2.6, 3),\n",
              " ('Sacramento', 'California', 1.7, 5),\n",
              " ('India', 'Delhi', 2.5, 6)]"
            ]
          },
          "execution_count": 48,
          "metadata": {},
          "output_type": "execute_result"
        }
      ],
      "source": [
        "cursor = con.execute('select * from test2')\n",
        "rows = cursor.fetchall()\n",
        "rows"
      ]
    },
    {
      "cell_type": "markdown",
      "metadata": {
        "id": "co2Qk3uOqhA1"
      },
      "source": [
        "## extracting column names from description"
      ]
    },
    {
      "cell_type": "code",
      "execution_count": 49,
      "metadata": {
        "colab": {
          "base_uri": "https://localhost:8080/"
        },
        "id": "WqCR7WSgqNpM",
        "outputId": "554cf260-23a5-49ee-f628-1260d28ad3a0"
      },
      "outputs": [
        {
          "data": {
            "text/plain": [
              "(('a', None, None, None, None, None, None),\n",
              " ('b', None, None, None, None, None, None),\n",
              " ('c', None, None, None, None, None, None),\n",
              " ('d', None, None, None, None, None, None))"
            ]
          },
          "execution_count": 49,
          "metadata": {},
          "output_type": "execute_result"
        }
      ],
      "source": [
        "cursor.description\n"
      ]
    },
    {
      "cell_type": "code",
      "execution_count": 50,
      "metadata": {
        "colab": {
          "base_uri": "https://localhost:8080/",
          "height": 172
        },
        "id": "w2JwmmiGqRDN",
        "outputId": "7461ebb1-0269-424a-ad54-a554cdd701e6"
      },
      "outputs": [
        {
          "data": {
            "text/html": [
              "<div>\n",
              "<style scoped>\n",
              "    .dataframe tbody tr th:only-of-type {\n",
              "        vertical-align: middle;\n",
              "    }\n",
              "\n",
              "    .dataframe tbody tr th {\n",
              "        vertical-align: top;\n",
              "    }\n",
              "\n",
              "    .dataframe thead th {\n",
              "        text-align: right;\n",
              "    }\n",
              "</style>\n",
              "<table border=\"1\" class=\"dataframe\">\n",
              "  <thead>\n",
              "    <tr style=\"text-align: right;\">\n",
              "      <th></th>\n",
              "      <th>a</th>\n",
              "      <th>b</th>\n",
              "      <th>c</th>\n",
              "      <th>d</th>\n",
              "    </tr>\n",
              "  </thead>\n",
              "  <tbody>\n",
              "    <tr>\n",
              "      <th>0</th>\n",
              "      <td>Atlanta</td>\n",
              "      <td>Georgia</td>\n",
              "      <td>1.25</td>\n",
              "      <td>6</td>\n",
              "    </tr>\n",
              "    <tr>\n",
              "      <th>1</th>\n",
              "      <td>Tallahassee</td>\n",
              "      <td>Florida</td>\n",
              "      <td>2.60</td>\n",
              "      <td>3</td>\n",
              "    </tr>\n",
              "    <tr>\n",
              "      <th>2</th>\n",
              "      <td>Sacramento</td>\n",
              "      <td>California</td>\n",
              "      <td>1.70</td>\n",
              "      <td>5</td>\n",
              "    </tr>\n",
              "    <tr>\n",
              "      <th>3</th>\n",
              "      <td>India</td>\n",
              "      <td>Delhi</td>\n",
              "      <td>2.50</td>\n",
              "      <td>6</td>\n",
              "    </tr>\n",
              "  </tbody>\n",
              "</table>\n",
              "</div>"
            ],
            "text/plain": [
              "             a           b     c  d\n",
              "0      Atlanta     Georgia  1.25  6\n",
              "1  Tallahassee     Florida  2.60  3\n",
              "2   Sacramento  California  1.70  5\n",
              "3        India       Delhi  2.50  6"
            ]
          },
          "execution_count": 50,
          "metadata": {},
          "output_type": "execute_result"
        }
      ],
      "source": [
        "pd.DataFrame(rows, columns=[x[0] for x in cursor.description])"
      ]
    },
    {
      "cell_type": "markdown",
      "metadata": {
        "id": "0fzU3UNOq_QK"
      },
      "source": [
        "#fetching selected rows"
      ]
    },
    {
      "cell_type": "code",
      "execution_count": 52,
      "metadata": {
        "colab": {
          "base_uri": "https://localhost:8080/"
        },
        "id": "igHYPxGOqr6Y",
        "outputId": "54642c61-bac0-4fcc-fe3c-eebd3783aa24"
      },
      "outputs": [
        {
          "data": {
            "text/plain": [
              "[('India', 'Delhi', 2.5, 6)]"
            ]
          },
          "execution_count": 52,
          "metadata": {},
          "output_type": "execute_result"
        }
      ],
      "source": [
        "cursor = con.execute('select * from test2 where a like \"India\" ')\n",
        "rows = cursor.fetchall()\n",
        "rows"
      ]
    },
    {
      "cell_type": "markdown",
      "metadata": {
        "id": "g1FVwCGAsKFX"
      },
      "source": [
        "## to get all table names created"
      ]
    },
    {
      "cell_type": "code",
      "execution_count": 53,
      "metadata": {
        "id": "qHW3cI5GrYiZ"
      },
      "outputs": [],
      "source": [
        "cursor = con.execute(\"SELECT name FROM sqlite_master WHERE type='table';\")"
      ]
    },
    {
      "cell_type": "code",
      "execution_count": 54,
      "metadata": {
        "colab": {
          "base_uri": "https://localhost:8080/"
        },
        "id": "hHVlFcETsF69",
        "outputId": "a837d4dd-0b2a-4343-dda7-389e1e32237a"
      },
      "outputs": [
        {
          "data": {
            "text/plain": [
              "[('test',), ('test1',), ('test2',)]"
            ]
          },
          "execution_count": 54,
          "metadata": {},
          "output_type": "execute_result"
        }
      ],
      "source": [
        "rows = cursor.fetchall()\n",
        "rows"
      ]
    },
    {
      "cell_type": "markdown",
      "metadata": {
        "id": "kWWvVvCLtVhf"
      },
      "source": [
        "# Another alternative to read your database  mydata.sqlite"
      ]
    },
    {
      "cell_type": "code",
      "execution_count": 1,
      "metadata": {
        "id": "6x7SkD_EtMbx"
      },
      "outputs": [
        {
          "ename": "ModuleNotFoundError",
          "evalue": "No module named 'sqlalchemy'",
          "output_type": "error",
          "traceback": [
            "\u001b[1;31m---------------------------------------------------------------------------\u001b[0m",
            "\u001b[1;31mModuleNotFoundError\u001b[0m                       Traceback (most recent call last)",
            "\u001b[1;32mC:\\Users\\SHARAN~1\\AppData\\Local\\Temp/ipykernel_26216/832271993.py\u001b[0m in \u001b[0;36m<module>\u001b[1;34m\u001b[0m\n\u001b[1;32m----> 1\u001b[1;33m \u001b[1;32mimport\u001b[0m \u001b[0msqlalchemy\u001b[0m \u001b[1;32mas\u001b[0m \u001b[0msqla\u001b[0m\u001b[1;33m\u001b[0m\u001b[1;33m\u001b[0m\u001b[0m\n\u001b[0m\u001b[0;32m      2\u001b[0m \u001b[0mdb\u001b[0m \u001b[1;33m=\u001b[0m \u001b[0msqla\u001b[0m\u001b[1;33m.\u001b[0m\u001b[0mcreate_engine\u001b[0m\u001b[1;33m(\u001b[0m\u001b[1;34m'sqlite:///mydata.sqlite'\u001b[0m\u001b[1;33m)\u001b[0m\u001b[1;33m\u001b[0m\u001b[1;33m\u001b[0m\u001b[0m\n\u001b[0;32m      3\u001b[0m \u001b[0mpd\u001b[0m\u001b[1;33m.\u001b[0m\u001b[0mread_sql\u001b[0m\u001b[1;33m(\u001b[0m\u001b[1;34m'select * from test'\u001b[0m\u001b[1;33m,\u001b[0m \u001b[0mdb\u001b[0m\u001b[1;33m)\u001b[0m\u001b[1;33m\u001b[0m\u001b[1;33m\u001b[0m\u001b[0m\n",
            "\u001b[1;31mModuleNotFoundError\u001b[0m: No module named 'sqlalchemy'"
          ]
        }
      ],
      "source": [
        "import sqlalchemy as sqla\n",
        "db = sqla.create_engine('sqlite:///mydata.sqlite')\n",
        "pd.read_sql('select * from test', db)"
      ]
    },
    {
      "cell_type": "markdown",
      "metadata": {},
      "source": [
        "## cannot run directly in visual studio. so use terminal window"
      ]
    },
    {
      "cell_type": "code",
      "execution_count": 2,
      "metadata": {
        "id": "sEyNEtZGuTIV"
      },
      "outputs": [
        {
          "name": "stderr",
          "output_type": "stream",
          "text": [
            "'cp' is not recognized as an internal or external command,\n",
            "operable program or batch file.\n"
          ]
        }
      ],
      "source": [
        "!cp mydata.sqlite copied-data"
      ]
    },
    {
      "cell_type": "markdown",
      "metadata": {
        "id": "BxiE3zOQuqKd"
      },
      "source": [
        "# Accessing data from the copied database"
      ]
    },
    {
      "cell_type": "code",
      "execution_count": 16,
      "metadata": {
        "id": "oDLAOXOiucyn"
      },
      "outputs": [],
      "source": [
        "con = sqlite3.connect('copied-data')"
      ]
    },
    {
      "cell_type": "code",
      "execution_count": 17,
      "metadata": {
        "colab": {
          "base_uri": "https://localhost:8080/"
        },
        "id": "Ih7VHZhFunCj",
        "outputId": "082d9d53-eb3c-4c7d-db92-1da4d7edb42e"
      },
      "outputs": [
        {
          "data": {
            "text/plain": [
              "[]"
            ]
          },
          "execution_count": 17,
          "metadata": {},
          "output_type": "execute_result"
        }
      ],
      "source": [
        "cursor = con.execute('select * from test where a like \"India\" ')\n",
        "rows = cursor.fetchall()\n",
        "rows"
      ]
    }
  ],
  "metadata": {
    "colab": {
      "name": "unit2-part4-db.ipynb",
      "provenance": []
    },
    "kernelspec": {
      "display_name": "Python 3.9.4 64-bit",
      "language": "python",
      "name": "python3"
    },
    "language_info": {
      "codemirror_mode": {
        "name": "ipython",
        "version": 3
      },
      "file_extension": ".py",
      "mimetype": "text/x-python",
      "name": "python",
      "nbconvert_exporter": "python",
      "pygments_lexer": "ipython3",
      "version": "3.9.4"
    },
    "vscode": {
      "interpreter": {
        "hash": "5c6d8cf874a78cf518467a975f892478beea8e1660668e6c51857c147a60fb9a"
      }
    }
  },
  "nbformat": 4,
  "nbformat_minor": 0
}
